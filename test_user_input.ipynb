{
  "nbformat": 4,
  "nbformat_minor": 0,
  "metadata": {
    "colab": {
      "provenance": [],
      "include_colab_link": true
    },
    "kernelspec": {
      "name": "python3",
      "display_name": "Python 3"
    },
    "language_info": {
      "name": "python"
    }
  },
  "cells": [
    {
      "cell_type": "markdown",
      "metadata": {
        "id": "view-in-github",
        "colab_type": "text"
      },
      "source": [
        "<a href=\"https://colab.research.google.com/github/pbuslaev/test_ipynb/blob/main/test_user_input.ipynb\" target=\"_parent\"><img src=\"https://colab.research.google.com/assets/colab-badge.svg\" alt=\"Open In Colab\"/></a>"
      ]
    },
    {
      "cell_type": "markdown",
      "metadata": {
        "id": "06409e3b"
      },
      "source": [
        "### This notebook has to be run on Google colab"
      ]
    },
    {
      "cell_type": "markdown",
      "metadata": {
        "id": "8818275f"
      },
      "source": [
        "<a target=\"_blank\" href=\"https://colab.research.google.com/github/pbuslaev/test_ipynb/blob/main/test_user_input.ipynb\">\n",
        "  <img src=\"https://colab.research.google.com/assets/colab-badge.svg\" alt=\"Open In Colab\"/>\n",
        "</a>"
      ]
    },
    {
      "cell_type": "code",
      "execution_count": 1,
      "metadata": {
        "id": "tXHVawUbd_yp",
        "cellView": "form"
      },
      "outputs": [],
      "source": [
        "#@title Conda installation\n",
        "%%capture\n",
        "!pip install -q condacolab\n",
        "import condacolab\n",
        "condacolab.install()"
      ]
    },
    {
      "cell_type": "code",
      "source": [
        "#@title Intall packages\n",
        "%%capture\n",
        "!pip install dimorphite_dl --upgrade\n",
        "!mamba install -c conda-forge rdkit sympy openff-toolkit"
      ],
      "metadata": {
        "id": "HApR6x6ptwjO",
        "cellView": "form"
      },
      "execution_count": 1,
      "outputs": []
    },
    {
      "cell_type": "code",
      "source": [
        "#@title Import packages\n",
        "from rdkit import Chem\n",
        "from rdkit.Chem import AllChem\n",
        "from rdkit.Chem import Draw\n",
        "from rdkit.Chem.Draw import rdMolDraw2D\n",
        "from rdkit.Chem.Draw import IPythonConsole\n",
        "IPythonConsole.molSize = 300,300\n",
        "from IPython.display import SVG\n",
        "from dimorphite_dl import DimorphiteDL\n",
        "\n",
        "from openff.toolkit import Molecule, Topology, ForceField\n",
        "\n",
        "from IPython.display import HTML, display\n",
        "\n",
        "def set_css():\n",
        "  display(HTML('''\n",
        "  <style>\n",
        "    pre {\n",
        "        white-space: pre-wrap;\n",
        "    }\n",
        "  </style>\n",
        "  '''))\n",
        "  get_ipython().events.register('pre_run_cell', set_css)"
      ],
      "metadata": {
        "id": "9F1Rak-meOlC",
        "cellView": "form"
      },
      "execution_count": 2,
      "outputs": []
    },
    {
      "cell_type": "code",
      "source": [
        "#@title Input molecule\n",
        "#@markdown Please provide molecule SMILES. We will generate its protonation\n",
        "#@markdown states. Also, specify pH range for which to create states.\n",
        "# As a two state example we will use SM-26 from SAMP7 challenge\n",
        "# (https://github.com/samplchallenges/SAMPL7/tree/master/physical_property)\n",
        "# SMILES: O=S(CCC1=CC=CC=C1)(NC(C)=O)=O\n",
        "# pKa = 4.91\n",
        "# (https://github.com/samplchallenges/SAMPL7/blob/master/physical_property/experimental_data/Experimental_Properties_of_SAMPL7_Compounds.pdf)\n",
        "smiles = \"c1ccc(CN)cc1\" #@param {type: \"string\"}\n",
        "min_ph = -10 #@param {type: \"number\"}\n",
        "max_ph = 24 #@param {type: \"number\"}\n",
        "dimorphite_dl = DimorphiteDL(\n",
        "    min_ph=min_ph,\n",
        "    max_ph=max_ph,\n",
        "    max_variants=256,\n",
        "    label_states=False,\n",
        "    pka_precision=0.1\n",
        ")\n",
        "mols = [Chem.MolFromSmiles(mol) for mol in dimorphite_dl.protonate(smiles)]\n",
        "mols = sorted(mols, key = lambda x: Chem.GetFormalCharge(x), reverse=True)\n",
        "# Now mols[0] is the highest protonation state\n",
        "for i, m in enumerate(mols):\n",
        "    print(f\"This is Molecule {i}\")\n",
        "    d2d = rdMolDraw2D.MolDraw2DSVG(250, 200)\n",
        "    d2d.DrawMolecule(m)\n",
        "    d2d.FinishDrawing()\n",
        "    display(SVG(d2d.GetDrawingText()))"
      ],
      "metadata": {
        "colab": {
          "base_uri": "https://localhost:8080/",
          "height": 464
        },
        "id": "HxjpTW0CkrDS",
        "outputId": "181f432f-2bb5-487a-a6c0-d8e17e163b14"
      },
      "execution_count": 29,
      "outputs": [
        {
          "output_type": "stream",
          "name": "stdout",
          "text": [
            "This is Molecule 0\n"
          ]
        },
        {
          "output_type": "display_data",
          "data": {
            "text/plain": [
              "<IPython.core.display.SVG object>"
            ],
            "image/svg+xml": "<svg xmlns=\"http://www.w3.org/2000/svg\" xmlns:rdkit=\"http://www.rdkit.org/xml\" xmlns:xlink=\"http://www.w3.org/1999/xlink\" version=\"1.1\" baseProfile=\"full\" xml:space=\"preserve\" width=\"250px\" height=\"200px\" viewBox=\"0 0 250 200\">\n<!-- END OF HEADER -->\n<rect style=\"opacity:1.0;fill:#FFFFFF;stroke:none\" width=\"250.0\" height=\"200.0\" x=\"0.0\" y=\"0.0\"> </rect>\n<path class=\"bond-0 atom-0 atom-1\" d=\"M 49.7,92.3 L 64.2,108.1\" style=\"fill:none;fill-rule:evenodd;stroke:#0000FF;stroke-width:2.0px;stroke-linecap:butt;stroke-linejoin:miter;stroke-opacity:1\"/>\n<path class=\"bond-0 atom-0 atom-1\" d=\"M 64.2,108.1 L 78.8,123.9\" style=\"fill:none;fill-rule:evenodd;stroke:#000000;stroke-width:2.0px;stroke-linecap:butt;stroke-linejoin:miter;stroke-opacity:1\"/>\n<path class=\"bond-1 atom-1 atom-2\" d=\"M 78.8,123.9 L 131.7,111.9\" style=\"fill:none;fill-rule:evenodd;stroke:#000000;stroke-width:2.0px;stroke-linecap:butt;stroke-linejoin:miter;stroke-opacity:1\"/>\n<path class=\"bond-2 atom-2 atom-3\" d=\"M 131.7,111.9 L 147.8,60.2\" style=\"fill:none;fill-rule:evenodd;stroke:#000000;stroke-width:2.0px;stroke-linecap:butt;stroke-linejoin:miter;stroke-opacity:1\"/>\n<path class=\"bond-2 atom-2 atom-3\" d=\"M 140.9,109.9 L 154.2,67.1\" style=\"fill:none;fill-rule:evenodd;stroke:#000000;stroke-width:2.0px;stroke-linecap:butt;stroke-linejoin:miter;stroke-opacity:1\"/>\n<path class=\"bond-3 atom-3 atom-4\" d=\"M 147.8,60.2 L 200.7,48.2\" style=\"fill:none;fill-rule:evenodd;stroke:#000000;stroke-width:2.0px;stroke-linecap:butt;stroke-linejoin:miter;stroke-opacity:1\"/>\n<path class=\"bond-4 atom-4 atom-5\" d=\"M 200.7,48.2 L 237.5,88.1\" style=\"fill:none;fill-rule:evenodd;stroke:#000000;stroke-width:2.0px;stroke-linecap:butt;stroke-linejoin:miter;stroke-opacity:1\"/>\n<path class=\"bond-4 atom-4 atom-5\" d=\"M 197.9,57.2 L 228.3,90.1\" style=\"fill:none;fill-rule:evenodd;stroke:#000000;stroke-width:2.0px;stroke-linecap:butt;stroke-linejoin:miter;stroke-opacity:1\"/>\n<path class=\"bond-5 atom-5 atom-6\" d=\"M 237.5,88.1 L 221.4,139.8\" style=\"fill:none;fill-rule:evenodd;stroke:#000000;stroke-width:2.0px;stroke-linecap:butt;stroke-linejoin:miter;stroke-opacity:1\"/>\n<path class=\"bond-6 atom-6 atom-7\" d=\"M 221.4,139.8 L 168.5,151.8\" style=\"fill:none;fill-rule:evenodd;stroke:#000000;stroke-width:2.0px;stroke-linecap:butt;stroke-linejoin:miter;stroke-opacity:1\"/>\n<path class=\"bond-6 atom-6 atom-7\" d=\"M 215.0,132.9 L 171.3,142.8\" style=\"fill:none;fill-rule:evenodd;stroke:#000000;stroke-width:2.0px;stroke-linecap:butt;stroke-linejoin:miter;stroke-opacity:1\"/>\n<path class=\"bond-7 atom-7 atom-2\" d=\"M 168.5,151.8 L 131.7,111.9\" style=\"fill:none;fill-rule:evenodd;stroke:#000000;stroke-width:2.0px;stroke-linecap:butt;stroke-linejoin:miter;stroke-opacity:1\"/>\n<path d=\"M 78.1,123.1 L 78.8,123.9 L 81.5,123.3\" style=\"fill:none;stroke:#000000;stroke-width:2.0px;stroke-linecap:butt;stroke-linejoin:miter;stroke-opacity:1;\"/>\n<path d=\"M 147.0,62.7 L 147.8,60.2 L 150.5,59.6\" style=\"fill:none;stroke:#000000;stroke-width:2.0px;stroke-linecap:butt;stroke-linejoin:miter;stroke-opacity:1;\"/>\n<path d=\"M 198.1,48.8 L 200.7,48.2 L 202.6,50.2\" style=\"fill:none;stroke:#000000;stroke-width:2.0px;stroke-linecap:butt;stroke-linejoin:miter;stroke-opacity:1;\"/>\n<path d=\"M 235.7,86.1 L 237.5,88.1 L 236.7,90.7\" style=\"fill:none;stroke:#000000;stroke-width:2.0px;stroke-linecap:butt;stroke-linejoin:miter;stroke-opacity:1;\"/>\n<path d=\"M 222.2,137.3 L 221.4,139.8 L 218.7,140.4\" style=\"fill:none;stroke:#000000;stroke-width:2.0px;stroke-linecap:butt;stroke-linejoin:miter;stroke-opacity:1;\"/>\n<path d=\"M 171.1,151.2 L 168.5,151.8 L 166.7,149.8\" style=\"fill:none;stroke:#000000;stroke-width:2.0px;stroke-linecap:butt;stroke-linejoin:miter;stroke-opacity:1;\"/>\n<path class=\"atom-0\" d=\"M 12.5 76.3 L 14.6 76.3 L 14.6 82.9 L 22.4 82.9 L 22.4 76.3 L 24.5 76.3 L 24.5 91.7 L 22.4 91.7 L 22.4 84.6 L 14.6 84.6 L 14.6 91.7 L 12.5 91.7 L 12.5 76.3 \" fill=\"#0000FF\"/>\n<path class=\"atom-0\" d=\"M 32.3 94.0 Q 33.3 94.3, 33.8 95.0 Q 34.3 95.6, 34.3 96.6 Q 34.3 97.4, 33.8 98.1 Q 33.4 98.8, 32.6 99.2 Q 31.8 99.5, 30.8 99.5 Q 29.7 99.5, 28.9 99.1 Q 28.1 98.8, 27.5 98.0 L 28.3 97.1 Q 28.9 97.8, 29.4 98.1 Q 30.0 98.4, 30.8 98.4 Q 31.7 98.4, 32.3 97.9 Q 32.8 97.4, 32.8 96.6 Q 32.8 95.5, 32.3 95.1 Q 31.7 94.6, 30.4 94.6 L 29.7 94.6 L 29.7 93.6 L 30.4 93.6 Q 31.5 93.6, 32.0 93.1 Q 32.6 92.6, 32.6 91.7 Q 32.6 91.1, 32.1 90.7 Q 31.7 90.3, 30.8 90.3 Q 30.0 90.3, 29.5 90.6 Q 28.9 90.9, 28.5 91.6 L 27.5 91.1 Q 27.9 90.2, 28.8 89.7 Q 29.6 89.1, 30.8 89.1 Q 32.3 89.1, 33.2 89.8 Q 34.1 90.5, 34.1 91.7 Q 34.1 92.5, 33.6 93.1 Q 33.2 93.7, 32.3 94.0 \" fill=\"#0000FF\"/>\n<path class=\"atom-0\" d=\"M 38.7 76.3 L 43.7 84.5 Q 44.2 85.3, 45.0 86.7 Q 45.8 88.2, 45.8 88.3 L 45.8 76.3 L 47.9 76.3 L 47.9 91.7 L 45.8 91.7 L 40.4 82.8 Q 39.7 81.8, 39.1 80.6 Q 38.4 79.4, 38.2 79.0 L 38.2 91.7 L 36.2 91.7 L 36.2 76.3 L 38.7 76.3 \" fill=\"#0000FF\"/>\n<path class=\"atom-0\" d=\"M 50.8 79.1 L 53.5 79.1 L 53.5 76.3 L 54.7 76.3 L 54.7 79.1 L 57.5 79.1 L 57.5 80.1 L 54.7 80.1 L 54.7 83.0 L 53.5 83.0 L 53.5 80.1 L 50.8 80.1 L 50.8 79.1 \" fill=\"#0000FF\"/>\n</svg>"
          },
          "metadata": {}
        },
        {
          "output_type": "stream",
          "name": "stdout",
          "text": [
            "This is Molecule 1\n"
          ]
        },
        {
          "output_type": "display_data",
          "data": {
            "text/plain": [
              "<IPython.core.display.SVG object>"
            ],
            "image/svg+xml": "<svg xmlns=\"http://www.w3.org/2000/svg\" xmlns:rdkit=\"http://www.rdkit.org/xml\" xmlns:xlink=\"http://www.w3.org/1999/xlink\" version=\"1.1\" baseProfile=\"full\" xml:space=\"preserve\" width=\"250px\" height=\"200px\" viewBox=\"0 0 250 200\">\n<!-- END OF HEADER -->\n<rect style=\"opacity:1.0;fill:#FFFFFF;stroke:none\" width=\"250.0\" height=\"200.0\" x=\"0.0\" y=\"0.0\"> </rect>\n<path class=\"bond-0 atom-0 atom-1\" d=\"M 49.7,92.3 L 64.3,108.1\" style=\"fill:none;fill-rule:evenodd;stroke:#0000FF;stroke-width:2.0px;stroke-linecap:butt;stroke-linejoin:miter;stroke-opacity:1\"/>\n<path class=\"bond-0 atom-0 atom-1\" d=\"M 64.3,108.1 L 78.9,123.8\" style=\"fill:none;fill-rule:evenodd;stroke:#000000;stroke-width:2.0px;stroke-linecap:butt;stroke-linejoin:miter;stroke-opacity:1\"/>\n<path class=\"bond-1 atom-1 atom-2\" d=\"M 78.9,123.8 L 131.8,111.9\" style=\"fill:none;fill-rule:evenodd;stroke:#000000;stroke-width:2.0px;stroke-linecap:butt;stroke-linejoin:miter;stroke-opacity:1\"/>\n<path class=\"bond-2 atom-2 atom-3\" d=\"M 131.8,111.9 L 147.9,60.2\" style=\"fill:none;fill-rule:evenodd;stroke:#000000;stroke-width:2.0px;stroke-linecap:butt;stroke-linejoin:miter;stroke-opacity:1\"/>\n<path class=\"bond-2 atom-2 atom-3\" d=\"M 140.9,109.9 L 154.2,67.1\" style=\"fill:none;fill-rule:evenodd;stroke:#000000;stroke-width:2.0px;stroke-linecap:butt;stroke-linejoin:miter;stroke-opacity:1\"/>\n<path class=\"bond-3 atom-3 atom-4\" d=\"M 147.9,60.2 L 200.7,48.3\" style=\"fill:none;fill-rule:evenodd;stroke:#000000;stroke-width:2.0px;stroke-linecap:butt;stroke-linejoin:miter;stroke-opacity:1\"/>\n<path class=\"bond-4 atom-4 atom-5\" d=\"M 200.7,48.3 L 237.5,88.1\" style=\"fill:none;fill-rule:evenodd;stroke:#000000;stroke-width:2.0px;stroke-linecap:butt;stroke-linejoin:miter;stroke-opacity:1\"/>\n<path class=\"bond-4 atom-4 atom-5\" d=\"M 197.9,57.2 L 228.3,90.1\" style=\"fill:none;fill-rule:evenodd;stroke:#000000;stroke-width:2.0px;stroke-linecap:butt;stroke-linejoin:miter;stroke-opacity:1\"/>\n<path class=\"bond-5 atom-5 atom-6\" d=\"M 237.5,88.1 L 221.4,139.8\" style=\"fill:none;fill-rule:evenodd;stroke:#000000;stroke-width:2.0px;stroke-linecap:butt;stroke-linejoin:miter;stroke-opacity:1\"/>\n<path class=\"bond-6 atom-6 atom-7\" d=\"M 221.4,139.8 L 168.5,151.7\" style=\"fill:none;fill-rule:evenodd;stroke:#000000;stroke-width:2.0px;stroke-linecap:butt;stroke-linejoin:miter;stroke-opacity:1\"/>\n<path class=\"bond-6 atom-6 atom-7\" d=\"M 215.0,132.9 L 171.3,142.8\" style=\"fill:none;fill-rule:evenodd;stroke:#000000;stroke-width:2.0px;stroke-linecap:butt;stroke-linejoin:miter;stroke-opacity:1\"/>\n<path class=\"bond-7 atom-7 atom-2\" d=\"M 168.5,151.7 L 131.8,111.9\" style=\"fill:none;fill-rule:evenodd;stroke:#000000;stroke-width:2.0px;stroke-linecap:butt;stroke-linejoin:miter;stroke-opacity:1\"/>\n<path d=\"M 78.2,123.1 L 78.9,123.8 L 81.5,123.2\" style=\"fill:none;stroke:#000000;stroke-width:2.0px;stroke-linecap:butt;stroke-linejoin:miter;stroke-opacity:1;\"/>\n<path d=\"M 147.1,62.8 L 147.9,60.2 L 150.5,59.6\" style=\"fill:none;stroke:#000000;stroke-width:2.0px;stroke-linecap:butt;stroke-linejoin:miter;stroke-opacity:1;\"/>\n<path d=\"M 198.1,48.8 L 200.7,48.3 L 202.6,50.2\" style=\"fill:none;stroke:#000000;stroke-width:2.0px;stroke-linecap:butt;stroke-linejoin:miter;stroke-opacity:1;\"/>\n<path d=\"M 235.7,86.1 L 237.5,88.1 L 236.7,90.7\" style=\"fill:none;stroke:#000000;stroke-width:2.0px;stroke-linecap:butt;stroke-linejoin:miter;stroke-opacity:1;\"/>\n<path d=\"M 222.2,137.2 L 221.4,139.8 L 218.7,140.4\" style=\"fill:none;stroke:#000000;stroke-width:2.0px;stroke-linecap:butt;stroke-linejoin:miter;stroke-opacity:1;\"/>\n<path d=\"M 171.2,151.2 L 168.5,151.7 L 166.7,149.8\" style=\"fill:none;stroke:#000000;stroke-width:2.0px;stroke-linecap:butt;stroke-linejoin:miter;stroke-opacity:1;\"/>\n<path class=\"atom-0\" d=\"M 12.5 76.3 L 14.6 76.3 L 14.6 82.9 L 22.4 82.9 L 22.4 76.3 L 24.5 76.3 L 24.5 91.7 L 22.4 91.7 L 22.4 84.6 L 14.6 84.6 L 14.6 91.7 L 12.5 91.7 L 12.5 76.3 \" fill=\"#0000FF\"/>\n<path class=\"atom-0\" d=\"M 27.5 91.2 Q 27.9 90.2, 28.8 89.7 Q 29.7 89.1, 30.9 89.1 Q 32.4 89.1, 33.3 90.0 Q 34.1 90.8, 34.1 92.3 Q 34.1 93.8, 33.0 95.2 Q 31.9 96.6, 29.6 98.2 L 34.3 98.2 L 34.3 99.4 L 27.5 99.4 L 27.5 98.4 Q 29.4 97.1, 30.5 96.1 Q 31.6 95.1, 32.2 94.2 Q 32.7 93.3, 32.7 92.3 Q 32.7 91.4, 32.2 90.8 Q 31.7 90.3, 30.9 90.3 Q 30.1 90.3, 29.5 90.6 Q 29.0 90.9, 28.6 91.7 L 27.5 91.2 \" fill=\"#0000FF\"/>\n<path class=\"atom-0\" d=\"M 38.7 76.3 L 43.8 84.5 Q 44.3 85.3, 45.1 86.7 Q 45.9 88.2, 45.9 88.3 L 45.9 76.3 L 47.9 76.3 L 47.9 91.7 L 45.8 91.7 L 40.4 82.8 Q 39.8 81.8, 39.1 80.6 Q 38.5 79.4, 38.3 79.0 L 38.3 91.7 L 36.3 91.7 L 36.3 76.3 L 38.7 76.3 \" fill=\"#0000FF\"/>\n</svg>"
          },
          "metadata": {}
        }
      ]
    },
    {
      "cell_type": "code",
      "source": [
        "#@title Select molecules\n",
        "#@markdown Which molecule states do you want to use?\n",
        "#@markdown The molecule ids are shown in the previous cell.\n",
        "mol1 = True #@param {type:\"boolean\"}\n",
        "mol2 = True #@param {type:\"boolean\"}\n",
        "mol3 = True #@param {type:\"boolean\"}\n",
        "mol4 = True #@param {type:\"boolean\"}\n",
        "mol5 = False #@param {type:\"boolean\"}\n",
        "mol6 = False #@param {type:\"boolean\"}\n",
        "mol7 = False #@param {type:\"boolean\"}\n",
        "mol8 = False #@param {type:\"boolean\"}\n",
        "mol9 = False #@param {type:\"boolean\"}\n",
        "mol10 = False #@param {type:\"boolean\"}\n",
        "\n",
        "mols_to_use = [\n",
        "    mol1, mol2, mol3, mol4, mol5, mol6, mol7, mol8, mol9, mol10,\n",
        "][:len(mols)]\n",
        "\n",
        "mols = [mols[i] for i in range(len(mols)) if mols_to_use[i]]"
      ],
      "metadata": {
        "id": "6cC1ul8MS8ZO"
      },
      "execution_count": 30,
      "outputs": []
    },
    {
      "cell_type": "code",
      "source": [
        "#@title Selected molecules\n",
        "#@markdown The foloweing molecules will be used in the furhter analysis.\n",
        "for i, m in enumerate(mols):\n",
        "    print(f\"This is Molecule {i}\")\n",
        "    d2d = rdMolDraw2D.MolDraw2DSVG(250, 200)\n",
        "    d2d.DrawMolecule(m)\n",
        "    d2d.FinishDrawing()\n",
        "    display(SVG(d2d.GetDrawingText()))"
      ],
      "metadata": {
        "colab": {
          "base_uri": "https://localhost:8080/",
          "height": 464
        },
        "id": "VfSF4T0PV3XY",
        "outputId": "5bfaccf7-f46f-4383-f085-da367f0414c9"
      },
      "execution_count": 31,
      "outputs": [
        {
          "output_type": "stream",
          "name": "stdout",
          "text": [
            "This is Molecule 0\n"
          ]
        },
        {
          "output_type": "display_data",
          "data": {
            "text/plain": [
              "<IPython.core.display.SVG object>"
            ],
            "image/svg+xml": "<svg xmlns=\"http://www.w3.org/2000/svg\" xmlns:rdkit=\"http://www.rdkit.org/xml\" xmlns:xlink=\"http://www.w3.org/1999/xlink\" version=\"1.1\" baseProfile=\"full\" xml:space=\"preserve\" width=\"250px\" height=\"200px\" viewBox=\"0 0 250 200\">\n<!-- END OF HEADER -->\n<rect style=\"opacity:1.0;fill:#FFFFFF;stroke:none\" width=\"250.0\" height=\"200.0\" x=\"0.0\" y=\"0.0\"> </rect>\n<path class=\"bond-0 atom-0 atom-1\" d=\"M 49.7,92.3 L 64.2,108.1\" style=\"fill:none;fill-rule:evenodd;stroke:#0000FF;stroke-width:2.0px;stroke-linecap:butt;stroke-linejoin:miter;stroke-opacity:1\"/>\n<path class=\"bond-0 atom-0 atom-1\" d=\"M 64.2,108.1 L 78.8,123.9\" style=\"fill:none;fill-rule:evenodd;stroke:#000000;stroke-width:2.0px;stroke-linecap:butt;stroke-linejoin:miter;stroke-opacity:1\"/>\n<path class=\"bond-1 atom-1 atom-2\" d=\"M 78.8,123.9 L 131.7,111.9\" style=\"fill:none;fill-rule:evenodd;stroke:#000000;stroke-width:2.0px;stroke-linecap:butt;stroke-linejoin:miter;stroke-opacity:1\"/>\n<path class=\"bond-2 atom-2 atom-3\" d=\"M 131.7,111.9 L 147.8,60.2\" style=\"fill:none;fill-rule:evenodd;stroke:#000000;stroke-width:2.0px;stroke-linecap:butt;stroke-linejoin:miter;stroke-opacity:1\"/>\n<path class=\"bond-2 atom-2 atom-3\" d=\"M 140.9,109.9 L 154.2,67.1\" style=\"fill:none;fill-rule:evenodd;stroke:#000000;stroke-width:2.0px;stroke-linecap:butt;stroke-linejoin:miter;stroke-opacity:1\"/>\n<path class=\"bond-3 atom-3 atom-4\" d=\"M 147.8,60.2 L 200.7,48.2\" style=\"fill:none;fill-rule:evenodd;stroke:#000000;stroke-width:2.0px;stroke-linecap:butt;stroke-linejoin:miter;stroke-opacity:1\"/>\n<path class=\"bond-4 atom-4 atom-5\" d=\"M 200.7,48.2 L 237.5,88.1\" style=\"fill:none;fill-rule:evenodd;stroke:#000000;stroke-width:2.0px;stroke-linecap:butt;stroke-linejoin:miter;stroke-opacity:1\"/>\n<path class=\"bond-4 atom-4 atom-5\" d=\"M 197.9,57.2 L 228.3,90.1\" style=\"fill:none;fill-rule:evenodd;stroke:#000000;stroke-width:2.0px;stroke-linecap:butt;stroke-linejoin:miter;stroke-opacity:1\"/>\n<path class=\"bond-5 atom-5 atom-6\" d=\"M 237.5,88.1 L 221.4,139.8\" style=\"fill:none;fill-rule:evenodd;stroke:#000000;stroke-width:2.0px;stroke-linecap:butt;stroke-linejoin:miter;stroke-opacity:1\"/>\n<path class=\"bond-6 atom-6 atom-7\" d=\"M 221.4,139.8 L 168.5,151.8\" style=\"fill:none;fill-rule:evenodd;stroke:#000000;stroke-width:2.0px;stroke-linecap:butt;stroke-linejoin:miter;stroke-opacity:1\"/>\n<path class=\"bond-6 atom-6 atom-7\" d=\"M 215.0,132.9 L 171.3,142.8\" style=\"fill:none;fill-rule:evenodd;stroke:#000000;stroke-width:2.0px;stroke-linecap:butt;stroke-linejoin:miter;stroke-opacity:1\"/>\n<path class=\"bond-7 atom-7 atom-2\" d=\"M 168.5,151.8 L 131.7,111.9\" style=\"fill:none;fill-rule:evenodd;stroke:#000000;stroke-width:2.0px;stroke-linecap:butt;stroke-linejoin:miter;stroke-opacity:1\"/>\n<path d=\"M 78.1,123.1 L 78.8,123.9 L 81.5,123.3\" style=\"fill:none;stroke:#000000;stroke-width:2.0px;stroke-linecap:butt;stroke-linejoin:miter;stroke-opacity:1;\"/>\n<path d=\"M 147.0,62.7 L 147.8,60.2 L 150.5,59.6\" style=\"fill:none;stroke:#000000;stroke-width:2.0px;stroke-linecap:butt;stroke-linejoin:miter;stroke-opacity:1;\"/>\n<path d=\"M 198.1,48.8 L 200.7,48.2 L 202.6,50.2\" style=\"fill:none;stroke:#000000;stroke-width:2.0px;stroke-linecap:butt;stroke-linejoin:miter;stroke-opacity:1;\"/>\n<path d=\"M 235.7,86.1 L 237.5,88.1 L 236.7,90.7\" style=\"fill:none;stroke:#000000;stroke-width:2.0px;stroke-linecap:butt;stroke-linejoin:miter;stroke-opacity:1;\"/>\n<path d=\"M 222.2,137.3 L 221.4,139.8 L 218.7,140.4\" style=\"fill:none;stroke:#000000;stroke-width:2.0px;stroke-linecap:butt;stroke-linejoin:miter;stroke-opacity:1;\"/>\n<path d=\"M 171.1,151.2 L 168.5,151.8 L 166.7,149.8\" style=\"fill:none;stroke:#000000;stroke-width:2.0px;stroke-linecap:butt;stroke-linejoin:miter;stroke-opacity:1;\"/>\n<path class=\"atom-0\" d=\"M 12.5 76.3 L 14.6 76.3 L 14.6 82.9 L 22.4 82.9 L 22.4 76.3 L 24.5 76.3 L 24.5 91.7 L 22.4 91.7 L 22.4 84.6 L 14.6 84.6 L 14.6 91.7 L 12.5 91.7 L 12.5 76.3 \" fill=\"#0000FF\"/>\n<path class=\"atom-0\" d=\"M 32.3 94.0 Q 33.3 94.3, 33.8 95.0 Q 34.3 95.6, 34.3 96.6 Q 34.3 97.4, 33.8 98.1 Q 33.4 98.8, 32.6 99.2 Q 31.8 99.5, 30.8 99.5 Q 29.7 99.5, 28.9 99.1 Q 28.1 98.8, 27.5 98.0 L 28.3 97.1 Q 28.9 97.8, 29.4 98.1 Q 30.0 98.4, 30.8 98.4 Q 31.7 98.4, 32.3 97.9 Q 32.8 97.4, 32.8 96.6 Q 32.8 95.5, 32.3 95.1 Q 31.7 94.6, 30.4 94.6 L 29.7 94.6 L 29.7 93.6 L 30.4 93.6 Q 31.5 93.6, 32.0 93.1 Q 32.6 92.6, 32.6 91.7 Q 32.6 91.1, 32.1 90.7 Q 31.7 90.3, 30.8 90.3 Q 30.0 90.3, 29.5 90.6 Q 28.9 90.9, 28.5 91.6 L 27.5 91.1 Q 27.9 90.2, 28.8 89.7 Q 29.6 89.1, 30.8 89.1 Q 32.3 89.1, 33.2 89.8 Q 34.1 90.5, 34.1 91.7 Q 34.1 92.5, 33.6 93.1 Q 33.2 93.7, 32.3 94.0 \" fill=\"#0000FF\"/>\n<path class=\"atom-0\" d=\"M 38.7 76.3 L 43.7 84.5 Q 44.2 85.3, 45.0 86.7 Q 45.8 88.2, 45.8 88.3 L 45.8 76.3 L 47.9 76.3 L 47.9 91.7 L 45.8 91.7 L 40.4 82.8 Q 39.7 81.8, 39.1 80.6 Q 38.4 79.4, 38.2 79.0 L 38.2 91.7 L 36.2 91.7 L 36.2 76.3 L 38.7 76.3 \" fill=\"#0000FF\"/>\n<path class=\"atom-0\" d=\"M 50.8 79.1 L 53.5 79.1 L 53.5 76.3 L 54.7 76.3 L 54.7 79.1 L 57.5 79.1 L 57.5 80.1 L 54.7 80.1 L 54.7 83.0 L 53.5 83.0 L 53.5 80.1 L 50.8 80.1 L 50.8 79.1 \" fill=\"#0000FF\"/>\n</svg>"
          },
          "metadata": {}
        },
        {
          "output_type": "stream",
          "name": "stdout",
          "text": [
            "This is Molecule 1\n"
          ]
        },
        {
          "output_type": "display_data",
          "data": {
            "text/plain": [
              "<IPython.core.display.SVG object>"
            ],
            "image/svg+xml": "<svg xmlns=\"http://www.w3.org/2000/svg\" xmlns:rdkit=\"http://www.rdkit.org/xml\" xmlns:xlink=\"http://www.w3.org/1999/xlink\" version=\"1.1\" baseProfile=\"full\" xml:space=\"preserve\" width=\"250px\" height=\"200px\" viewBox=\"0 0 250 200\">\n<!-- END OF HEADER -->\n<rect style=\"opacity:1.0;fill:#FFFFFF;stroke:none\" width=\"250.0\" height=\"200.0\" x=\"0.0\" y=\"0.0\"> </rect>\n<path class=\"bond-0 atom-0 atom-1\" d=\"M 49.7,92.3 L 64.3,108.1\" style=\"fill:none;fill-rule:evenodd;stroke:#0000FF;stroke-width:2.0px;stroke-linecap:butt;stroke-linejoin:miter;stroke-opacity:1\"/>\n<path class=\"bond-0 atom-0 atom-1\" d=\"M 64.3,108.1 L 78.9,123.8\" style=\"fill:none;fill-rule:evenodd;stroke:#000000;stroke-width:2.0px;stroke-linecap:butt;stroke-linejoin:miter;stroke-opacity:1\"/>\n<path class=\"bond-1 atom-1 atom-2\" d=\"M 78.9,123.8 L 131.8,111.9\" style=\"fill:none;fill-rule:evenodd;stroke:#000000;stroke-width:2.0px;stroke-linecap:butt;stroke-linejoin:miter;stroke-opacity:1\"/>\n<path class=\"bond-2 atom-2 atom-3\" d=\"M 131.8,111.9 L 147.9,60.2\" style=\"fill:none;fill-rule:evenodd;stroke:#000000;stroke-width:2.0px;stroke-linecap:butt;stroke-linejoin:miter;stroke-opacity:1\"/>\n<path class=\"bond-2 atom-2 atom-3\" d=\"M 140.9,109.9 L 154.2,67.1\" style=\"fill:none;fill-rule:evenodd;stroke:#000000;stroke-width:2.0px;stroke-linecap:butt;stroke-linejoin:miter;stroke-opacity:1\"/>\n<path class=\"bond-3 atom-3 atom-4\" d=\"M 147.9,60.2 L 200.7,48.3\" style=\"fill:none;fill-rule:evenodd;stroke:#000000;stroke-width:2.0px;stroke-linecap:butt;stroke-linejoin:miter;stroke-opacity:1\"/>\n<path class=\"bond-4 atom-4 atom-5\" d=\"M 200.7,48.3 L 237.5,88.1\" style=\"fill:none;fill-rule:evenodd;stroke:#000000;stroke-width:2.0px;stroke-linecap:butt;stroke-linejoin:miter;stroke-opacity:1\"/>\n<path class=\"bond-4 atom-4 atom-5\" d=\"M 197.9,57.2 L 228.3,90.1\" style=\"fill:none;fill-rule:evenodd;stroke:#000000;stroke-width:2.0px;stroke-linecap:butt;stroke-linejoin:miter;stroke-opacity:1\"/>\n<path class=\"bond-5 atom-5 atom-6\" d=\"M 237.5,88.1 L 221.4,139.8\" style=\"fill:none;fill-rule:evenodd;stroke:#000000;stroke-width:2.0px;stroke-linecap:butt;stroke-linejoin:miter;stroke-opacity:1\"/>\n<path class=\"bond-6 atom-6 atom-7\" d=\"M 221.4,139.8 L 168.5,151.7\" style=\"fill:none;fill-rule:evenodd;stroke:#000000;stroke-width:2.0px;stroke-linecap:butt;stroke-linejoin:miter;stroke-opacity:1\"/>\n<path class=\"bond-6 atom-6 atom-7\" d=\"M 215.0,132.9 L 171.3,142.8\" style=\"fill:none;fill-rule:evenodd;stroke:#000000;stroke-width:2.0px;stroke-linecap:butt;stroke-linejoin:miter;stroke-opacity:1\"/>\n<path class=\"bond-7 atom-7 atom-2\" d=\"M 168.5,151.7 L 131.8,111.9\" style=\"fill:none;fill-rule:evenodd;stroke:#000000;stroke-width:2.0px;stroke-linecap:butt;stroke-linejoin:miter;stroke-opacity:1\"/>\n<path d=\"M 78.2,123.1 L 78.9,123.8 L 81.5,123.2\" style=\"fill:none;stroke:#000000;stroke-width:2.0px;stroke-linecap:butt;stroke-linejoin:miter;stroke-opacity:1;\"/>\n<path d=\"M 147.1,62.8 L 147.9,60.2 L 150.5,59.6\" style=\"fill:none;stroke:#000000;stroke-width:2.0px;stroke-linecap:butt;stroke-linejoin:miter;stroke-opacity:1;\"/>\n<path d=\"M 198.1,48.8 L 200.7,48.3 L 202.6,50.2\" style=\"fill:none;stroke:#000000;stroke-width:2.0px;stroke-linecap:butt;stroke-linejoin:miter;stroke-opacity:1;\"/>\n<path d=\"M 235.7,86.1 L 237.5,88.1 L 236.7,90.7\" style=\"fill:none;stroke:#000000;stroke-width:2.0px;stroke-linecap:butt;stroke-linejoin:miter;stroke-opacity:1;\"/>\n<path d=\"M 222.2,137.2 L 221.4,139.8 L 218.7,140.4\" style=\"fill:none;stroke:#000000;stroke-width:2.0px;stroke-linecap:butt;stroke-linejoin:miter;stroke-opacity:1;\"/>\n<path d=\"M 171.2,151.2 L 168.5,151.7 L 166.7,149.8\" style=\"fill:none;stroke:#000000;stroke-width:2.0px;stroke-linecap:butt;stroke-linejoin:miter;stroke-opacity:1;\"/>\n<path class=\"atom-0\" d=\"M 12.5 76.3 L 14.6 76.3 L 14.6 82.9 L 22.4 82.9 L 22.4 76.3 L 24.5 76.3 L 24.5 91.7 L 22.4 91.7 L 22.4 84.6 L 14.6 84.6 L 14.6 91.7 L 12.5 91.7 L 12.5 76.3 \" fill=\"#0000FF\"/>\n<path class=\"atom-0\" d=\"M 27.5 91.2 Q 27.9 90.2, 28.8 89.7 Q 29.7 89.1, 30.9 89.1 Q 32.4 89.1, 33.3 90.0 Q 34.1 90.8, 34.1 92.3 Q 34.1 93.8, 33.0 95.2 Q 31.9 96.6, 29.6 98.2 L 34.3 98.2 L 34.3 99.4 L 27.5 99.4 L 27.5 98.4 Q 29.4 97.1, 30.5 96.1 Q 31.6 95.1, 32.2 94.2 Q 32.7 93.3, 32.7 92.3 Q 32.7 91.4, 32.2 90.8 Q 31.7 90.3, 30.9 90.3 Q 30.1 90.3, 29.5 90.6 Q 29.0 90.9, 28.6 91.7 L 27.5 91.2 \" fill=\"#0000FF\"/>\n<path class=\"atom-0\" d=\"M 38.7 76.3 L 43.8 84.5 Q 44.3 85.3, 45.1 86.7 Q 45.9 88.2, 45.9 88.3 L 45.9 76.3 L 47.9 76.3 L 47.9 91.7 L 45.8 91.7 L 40.4 82.8 Q 39.8 81.8, 39.1 80.6 Q 38.5 79.4, 38.3 79.0 L 38.3 91.7 L 36.3 91.7 L 36.3 76.3 L 38.7 76.3 \" fill=\"#0000FF\"/>\n</svg>"
          },
          "metadata": {}
        }
      ]
    },
    {
      "cell_type": "code",
      "source": [
        "#@title Get titratable site\n",
        "# Highest protonation state is always in state[0]\n",
        "titratable_sites = []\n",
        "# pmol is a protonated molecule - always in the highest available protonation\n",
        "# state\n",
        "pmol = mols[0]\n",
        "from rdkit.Chem import rdFMCS\n",
        "res = rdFMCS.FindMCS([pmol, pmol])\n",
        "similar_patt = Chem.MolFromSmarts(res.smartsString)\n",
        "# This is a constant mol[0] substructure match\n",
        "subst_matches_pmol = pmol.GetSubstructMatches(similar_patt)[0]\n",
        "for m in mols[1:]:\n",
        "    subst_matches = m.GetSubstructMatches(similar_patt)[0]\n",
        "    for a0, a in zip(subst_matches_pmol, subst_matches):\n",
        "        if (pmol.GetAtomWithIdx(a0).GetFormalCharge() !=\n",
        "            m.GetAtomWithIdx(a).GetFormalCharge()\n",
        "        ):\n",
        "            titratable_sites.append(a0)\n",
        "titratable_sites = list(set(titratable_sites))"
      ],
      "metadata": {
        "id": "Sl3r5d_MdQcN"
      },
      "execution_count": 32,
      "outputs": []
    },
    {
      "cell_type": "code",
      "source": [
        "titratable_sites"
      ],
      "metadata": {
        "colab": {
          "base_uri": "https://localhost:8080/"
        },
        "id": "X9XK4iUcf9gj",
        "outputId": "acefa98d-eb8b-4704-c860-bb547960bc43"
      },
      "execution_count": 33,
      "outputs": [
        {
          "output_type": "execute_result",
          "data": {
            "text/plain": [
              "[0]"
            ]
          },
          "metadata": {},
          "execution_count": 33
        }
      ]
    },
    {
      "cell_type": "code",
      "source": [
        "#@title Get list of symmetrical titratable sites\n",
        "from rdkit.Chem import rdFMCS\n",
        "# We search for symmetrical sites based on the highest protonation states\n",
        "# NOTE: If the user selects not to include the highest protonation state\n",
        "# this behaviour can cause problems.\n",
        "res = rdFMCS.FindMCS([pmol, pmol])\n",
        "similar_patt = Chem.MolFromSmarts(res.smartsString)\n",
        "subst_matches = pmol.GetSubstructMatches(similar_patt, uniquify=False)\n",
        "print(subst_matches)\n",
        "symmetrical_sites = {x.GetIdx():[x.GetIdx()] for x in pmol.GetAtoms()}\n",
        "if len(subst_matches) > 1:\n",
        "    for sm in subst_matches[1:]:\n",
        "        for ts in titratable_sites:\n",
        "            if sm[subst_matches_pmol.index(ts)] not in symmetrical_sites[ts]:\n",
        "                symmetrical_sites[ts].append(sm[subst_matches_pmol.index(ts)])\n",
        "                symmetrical_sites[sm[subst_matches_pmol.index(ts)]].append(ts)\n",
        "symmetrical_sites"
      ],
      "metadata": {
        "colab": {
          "base_uri": "https://localhost:8080/"
        },
        "id": "SE9qyt_YeuWl",
        "outputId": "1fd44ad9-ec70-4720-d077-c9886d772b23"
      },
      "execution_count": 34,
      "outputs": [
        {
          "output_type": "stream",
          "name": "stdout",
          "text": [
            "((0, 1, 2, 3, 4, 5, 6, 7), (0, 1, 2, 7, 6, 5, 4, 3))\n"
          ]
        },
        {
          "output_type": "execute_result",
          "data": {
            "text/plain": [
              "{0: [0], 1: [1], 2: [2], 3: [3], 4: [4], 5: [5], 6: [6], 7: [7]}"
            ]
          },
          "metadata": {},
          "execution_count": 34
        }
      ]
    },
    {
      "cell_type": "code",
      "source": [
        "#@title Get list of sites with multiple hydrogens\n",
        "sites_with_multiple_hs = []\n",
        "for ts in titratable_sites:\n",
        "    if (\n",
        "        pmol.GetAtomWithIdx(ts).GetNumExplicitHs()\n",
        "        + pmol.GetAtomWithIdx(ts).GetNumImplicitHs()\n",
        "        > 1\n",
        "    ):\n",
        "        sites_with_multiple_hs.append(ts)\n",
        "sites_with_multiple_hs"
      ],
      "metadata": {
        "colab": {
          "base_uri": "https://localhost:8080/"
        },
        "id": "c0aAHRyilzwZ",
        "outputId": "aa6db066-07eb-44fc-aa40-89f881a8d5c2"
      },
      "execution_count": 35,
      "outputs": [
        {
          "output_type": "execute_result",
          "data": {
            "text/plain": [
              "[0]"
            ]
          },
          "metadata": {},
          "execution_count": 35
        }
      ]
    },
    {
      "cell_type": "code",
      "source": [
        "#@title Highlight sites with multiple hydrogens\n",
        "import textwrap\n",
        "if sites_with_multiple_hs:\n",
        "    print(\n",
        "        textwrap.fill(\n",
        "            (\n",
        "                f\"We detected {len(sites_with_multiple_hs)} sites to which \"\n",
        "                + \"multiple hydrogens are attached. Please, take a careful \"\n",
        "                + \"look and let us know whether we should consider those sites \"\n",
        "                + \"as multisite with each hydrogen titrating separately, or as \"\n",
        "                + \"single site, where only one hydrogen is titrated. Note, \"\n",
        "                + \"that we highlight the titratable sites for the molecule in \"\n",
        "                + \"the highest protonation state.\"\n",
        "            ),\n",
        "            120\n",
        "        )\n",
        "    )\n",
        "    colors = [(1.0, 0.0, 0.0, 0.2)]\n",
        "    for i, a in enumerate(sites_with_multiple_hs):\n",
        "        (pmol.GetAtomWithIdx(a)).SetProp('atomNote', str(i+1))\n",
        "    d2d = rdMolDraw2D.MolDraw2DSVG(250, 200)\n",
        "    at_highlights = {x: [colors[0]] for x in sites_with_multiple_hs}\n",
        "    at_rads = {x: 0.5 for x in sites_with_multiple_hs}\n",
        "    d2d.DrawMoleculeWithHighlights(pmol,\"\", at_highlights,{}, at_rads, {})\n",
        "    d2d.FinishDrawing()\n",
        "    display(SVG(d2d.GetDrawingText()))\n",
        "    for a in sites_with_multiple_hs:\n",
        "        (pmol.GetAtomWithIdx(a)).SetProp('atomNote', '')\n",
        "else:\n",
        "    mHs = None\n",
        "    print(\n",
        "        \"No sites to which multiple hydrogens are attached were detected. \"\n",
        "        + \" You can skip the next step.\"\n",
        "    )"
      ],
      "metadata": {
        "colab": {
          "base_uri": "https://localhost:8080/",
          "height": 277
        },
        "id": "Yg2K0Mew3-KU",
        "outputId": "4f83a932-f70d-472a-a4b9-8120a7d800e0"
      },
      "execution_count": 44,
      "outputs": [
        {
          "output_type": "stream",
          "name": "stdout",
          "text": [
            "We detected 1 sites to which multiple hydrogens are attached. Please, take a careful look and let us know whether we\n",
            "should consider those sites as multisite with each hydrogen titrating separately, or as single site, where only one\n",
            "hydrogen is titrated. Note, that we highlight the titratable sites for the molecule in the highest protonation state.\n"
          ]
        },
        {
          "output_type": "display_data",
          "data": {
            "text/plain": [
              "<IPython.core.display.SVG object>"
            ],
            "image/svg+xml": "<svg xmlns=\"http://www.w3.org/2000/svg\" xmlns:rdkit=\"http://www.rdkit.org/xml\" xmlns:xlink=\"http://www.w3.org/1999/xlink\" version=\"1.1\" baseProfile=\"full\" xml:space=\"preserve\" width=\"250px\" height=\"200px\" viewBox=\"0 0 250 200\">\n<!-- END OF HEADER -->\n<rect style=\"opacity:1.0;fill:#FFFFFF;stroke:none\" width=\"250.0\" height=\"200.0\" x=\"0.0\" y=\"0.0\"> </rect>\n<ellipse cx=\"43.0\" cy=\"88.4\" rx=\"30.5\" ry=\"17.4\" class=\"atom-0\" style=\"fill:#FF000033;fill-rule:evenodd;stroke:#FF000033;stroke-width:1.0px;stroke-linecap:butt;stroke-linejoin:miter;stroke-opacity:1\"/>\n<path class=\"bond-0 atom-0 atom-1\" d=\"M 57.1,92.6 L 71.1,107.7\" style=\"fill:none;fill-rule:evenodd;stroke:#0000FF;stroke-width:2.0px;stroke-linecap:butt;stroke-linejoin:miter;stroke-opacity:1\"/>\n<path class=\"bond-0 atom-0 atom-1\" d=\"M 71.1,107.7 L 85.1,122.9\" style=\"fill:none;fill-rule:evenodd;stroke:#000000;stroke-width:2.0px;stroke-linecap:butt;stroke-linejoin:miter;stroke-opacity:1\"/>\n<path class=\"bond-1 atom-1 atom-2\" d=\"M 85.1,122.9 L 135.9,111.5\" style=\"fill:none;fill-rule:evenodd;stroke:#000000;stroke-width:2.0px;stroke-linecap:butt;stroke-linejoin:miter;stroke-opacity:1\"/>\n<path class=\"bond-2 atom-2 atom-3\" d=\"M 135.9,111.5 L 151.4,61.7\" style=\"fill:none;fill-rule:evenodd;stroke:#000000;stroke-width:2.0px;stroke-linecap:butt;stroke-linejoin:miter;stroke-opacity:1\"/>\n<path class=\"bond-2 atom-2 atom-3\" d=\"M 144.7,109.5 L 157.5,68.4\" style=\"fill:none;fill-rule:evenodd;stroke:#000000;stroke-width:2.0px;stroke-linecap:butt;stroke-linejoin:miter;stroke-opacity:1\"/>\n<path class=\"bond-3 atom-3 atom-4\" d=\"M 151.4,61.7 L 202.2,50.3\" style=\"fill:none;fill-rule:evenodd;stroke:#000000;stroke-width:2.0px;stroke-linecap:butt;stroke-linejoin:miter;stroke-opacity:1\"/>\n<path class=\"bond-4 atom-4 atom-5\" d=\"M 202.2,50.3 L 237.5,88.5\" style=\"fill:none;fill-rule:evenodd;stroke:#000000;stroke-width:2.0px;stroke-linecap:butt;stroke-linejoin:miter;stroke-opacity:1\"/>\n<path class=\"bond-4 atom-4 atom-5\" d=\"M 199.5,58.9 L 228.7,90.5\" style=\"fill:none;fill-rule:evenodd;stroke:#000000;stroke-width:2.0px;stroke-linecap:butt;stroke-linejoin:miter;stroke-opacity:1\"/>\n<path class=\"bond-5 atom-5 atom-6\" d=\"M 237.5,88.5 L 222.0,138.3\" style=\"fill:none;fill-rule:evenodd;stroke:#000000;stroke-width:2.0px;stroke-linecap:butt;stroke-linejoin:miter;stroke-opacity:1\"/>\n<path class=\"bond-6 atom-6 atom-7\" d=\"M 222.0,138.3 L 171.2,149.7\" style=\"fill:none;fill-rule:evenodd;stroke:#000000;stroke-width:2.0px;stroke-linecap:butt;stroke-linejoin:miter;stroke-opacity:1\"/>\n<path class=\"bond-6 atom-6 atom-7\" d=\"M 215.9,131.6 L 173.9,141.1\" style=\"fill:none;fill-rule:evenodd;stroke:#000000;stroke-width:2.0px;stroke-linecap:butt;stroke-linejoin:miter;stroke-opacity:1\"/>\n<path class=\"bond-7 atom-7 atom-2\" d=\"M 171.2,149.7 L 135.9,111.5\" style=\"fill:none;fill-rule:evenodd;stroke:#000000;stroke-width:2.0px;stroke-linecap:butt;stroke-linejoin:miter;stroke-opacity:1\"/>\n<path d=\"M 84.4,122.1 L 85.1,122.9 L 87.7,122.3\" style=\"fill:none;stroke:#000000;stroke-width:2.0px;stroke-linecap:butt;stroke-linejoin:miter;stroke-opacity:1;\"/>\n<path d=\"M 150.6,64.2 L 151.4,61.7 L 153.9,61.2\" style=\"fill:none;stroke:#000000;stroke-width:2.0px;stroke-linecap:butt;stroke-linejoin:miter;stroke-opacity:1;\"/>\n<path d=\"M 199.6,50.9 L 202.2,50.3 L 204.0,52.2\" style=\"fill:none;stroke:#000000;stroke-width:2.0px;stroke-linecap:butt;stroke-linejoin:miter;stroke-opacity:1;\"/>\n<path d=\"M 235.7,86.6 L 237.5,88.5 L 236.7,91.0\" style=\"fill:none;stroke:#000000;stroke-width:2.0px;stroke-linecap:butt;stroke-linejoin:miter;stroke-opacity:1;\"/>\n<path d=\"M 222.8,135.8 L 222.0,138.3 L 219.5,138.8\" style=\"fill:none;stroke:#000000;stroke-width:2.0px;stroke-linecap:butt;stroke-linejoin:miter;stroke-opacity:1;\"/>\n<path d=\"M 173.8,149.1 L 171.2,149.7 L 169.5,147.8\" style=\"fill:none;stroke:#000000;stroke-width:2.0px;stroke-linecap:butt;stroke-linejoin:miter;stroke-opacity:1;\"/>\n<path class=\"atom-0\" d=\"M 21.4 77.3 L 23.4 77.3 L 23.4 83.5 L 31.0 83.5 L 31.0 77.3 L 33.0 77.3 L 33.0 92.0 L 31.0 92.0 L 31.0 85.2 L 23.4 85.2 L 23.4 92.0 L 21.4 92.0 L 21.4 77.3 \" fill=\"#0000FF\"/>\n<path class=\"atom-0\" d=\"M 40.5 94.3 Q 41.4 94.5, 41.9 95.2 Q 42.4 95.8, 42.4 96.7 Q 42.4 97.6, 41.9 98.2 Q 41.5 98.8, 40.8 99.2 Q 40.0 99.5, 39.0 99.5 Q 38.0 99.5, 37.2 99.2 Q 36.4 98.8, 35.8 98.1 L 36.6 97.3 Q 37.2 97.9, 37.7 98.2 Q 38.2 98.4, 39.0 98.4 Q 39.9 98.4, 40.4 98.0 Q 41.0 97.5, 41.0 96.7 Q 41.0 95.7, 40.4 95.3 Q 39.9 94.8, 38.7 94.8 L 38.0 94.8 L 38.0 93.8 L 38.6 93.8 Q 39.6 93.8, 40.2 93.4 Q 40.8 92.9, 40.8 92.0 Q 40.8 91.4, 40.3 91.0 Q 39.8 90.7, 39.0 90.7 Q 38.2 90.7, 37.7 90.9 Q 37.2 91.2, 36.8 92.0 L 35.9 91.4 Q 36.2 90.6, 37.1 90.1 Q 37.9 89.6, 39.0 89.6 Q 40.5 89.6, 41.3 90.2 Q 42.1 90.9, 42.1 92.0 Q 42.1 92.8, 41.7 93.4 Q 41.3 93.9, 40.5 94.3 \" fill=\"#0000FF\"/>\n<path class=\"atom-0\" d=\"M 46.6 77.3 L 51.4 85.1 Q 51.9 85.9, 52.6 87.3 Q 53.4 88.6, 53.4 88.7 L 53.4 77.3 L 55.4 77.3 L 55.4 92.0 L 53.4 92.0 L 48.2 83.5 Q 47.6 82.5, 46.9 81.3 Q 46.3 80.2, 46.1 79.8 L 46.1 92.0 L 44.2 92.0 L 44.2 77.3 L 46.6 77.3 \" fill=\"#0000FF\"/>\n<path class=\"atom-0\" d=\"M 58.2 79.9 L 60.8 79.9 L 60.8 77.2 L 61.9 77.2 L 61.9 79.9 L 64.6 79.9 L 64.6 80.9 L 61.9 80.9 L 61.9 83.7 L 60.8 83.7 L 60.8 80.9 L 58.2 80.9 L 58.2 79.9 \" fill=\"#0000FF\"/>\n<path class=\"note\" d=\"M 36.2 74.8 L 37.8 74.8 L 37.8 69.3 L 36.1 69.8 L 35.8 69.2 L 38.1 68.2 L 38.8 68.3 L 38.8 74.8 L 40.3 74.8 L 40.3 75.6 L 36.2 75.6 L 36.2 74.8 \" fill=\"#000000\"/>\n</svg>"
          },
          "metadata": {}
        }
      ]
    },
    {
      "cell_type": "code",
      "source": [
        "#@title Select treatment of multi-hydrogen sites\n",
        "#@markdown Do you want to treat titratable sites with multiple hydrogens\n",
        "#@markdown attached as single multisite or no? Default is no. If you want\n",
        "#@markdown to treat those with multisite representation tick the corresponding\n",
        "#@markdown variable. The id of titratable sites are shown in the previous cell.\n",
        "multiHs_titratable_site_1 = False #@param {type:\"boolean\"}\n",
        "multiHs_titratable_site_2 = False #@param {type:\"boolean\"}\n",
        "multiHs_titratable_site_3 = False #@param {type:\"boolean\"}\n",
        "multiHs_titratable_site_4 = False #@param {type:\"boolean\"}\n",
        "multiHs_titratable_site_5 = False #@param {type:\"boolean\"}\n",
        "\n",
        "mHs = [\n",
        "    multiHs_titratable_site_1,\n",
        "    multiHs_titratable_site_2,\n",
        "    multiHs_titratable_site_3,\n",
        "    multiHs_titratable_site_4,\n",
        "    multiHs_titratable_site_5,\n",
        "][:len(sites_with_multiple_hs)]"
      ],
      "metadata": {
        "id": "6hA84tEeetpF"
      },
      "execution_count": 102,
      "outputs": []
    },
    {
      "cell_type": "code",
      "source": [
        "mHs"
      ],
      "metadata": {
        "id": "9eb3evy4-8JY",
        "outputId": "35333319-6d31-450c-e700-4f20849312bf",
        "colab": {
          "base_uri": "https://localhost:8080/"
        }
      },
      "execution_count": 103,
      "outputs": [
        {
          "output_type": "execute_result",
          "data": {
            "text/plain": [
              "[False]"
            ]
          },
          "metadata": {},
          "execution_count": 103
        }
      ]
    },
    {
      "cell_type": "code",
      "source": [
        "#@title Symmetrical states treatment\n",
        "states = {}  # Dictionary of states and state treatment. Each state has a\n",
        "# molecule, number of states and number of states for consideration, atoms with\n",
        "# different charges of the symmetrical states, and atoms with multiple hydrogens\n",
        "# NOTE: numbering is given in the pmol indices\n",
        "# NOTE: state treatment should be fixed/changed after user input is provided\n",
        "for i, m in enumerate(mols):\n",
        "    from rdkit.Chem import rdFMCS\n",
        "    res = rdFMCS.FindMCS([pmol, pmol])\n",
        "    similar_patt = Chem.MolFromSmarts(res.smartsString)\n",
        "    subst_matches = m.GetSubstructMatches(similar_patt)[0]\n",
        "    charges = {}\n",
        "    for a in symmetrical_sites:\n",
        "        # We collect formal charges for each symmetrical state.\n",
        "        charges[a] = [\n",
        "            m.GetAtomWithIdx(\n",
        "                subst_matches[subst_matches_pmol.index(a)]\n",
        "            ).GetFormalCharge()\n",
        "        ]\n",
        "        # If there is only one symmetrical site for an atom, nothing to do.\n",
        "        if len(symmetrical_sites[a]) == 1:\n",
        "            continue\n",
        "        # Add symmetrical charges to the atom charge list\n",
        "        for idx in symmetrical_sites[a][1:]:\n",
        "            charges[a].append(\n",
        "                m.GetAtomWithIdx(\n",
        "                    subst_matches[subst_matches_pmol.index(idx)]\n",
        "                ).GetFormalCharge()\n",
        "            )\n",
        "    # If for all atoms in this states there is only on charge, nothing to do.\n",
        "    if all([len(list(set(x))) == 1 for x in charges.values()]):\n",
        "        states[i] = (m, 1, 1, None, None)\n",
        "        continue\n",
        "    print(f\"For molecule {i} symmetrical states were detected:\")\n",
        "    d2d = rdMolDraw2D.MolDraw2DSVG(250, 200)\n",
        "    d2d.DrawMolecule(m)\n",
        "    d2d.FinishDrawing()\n",
        "    display(SVG(d2d.GetDrawingText()))\n",
        "    print(\"These are found symmetrical states:\")\n",
        "    # Symmetrical atoms with different charges\n",
        "    atoms_to_change = [x for x in charges if len(charges[x]) > 1]\n",
        "    # Atoms for which there no difference between states, but their charge is\n",
        "    # different from the highest protonation state\n",
        "    atoms_with_dif_charges = [\n",
        "        x for x in charges if len(charges[x]) == 1 and\n",
        "        charges[x][0] != pmol.GetAtomWithIdx(x).GetFormalCharge()\n",
        "    ]\n",
        "    charge_combinations = list(zip(*[charges[x] for x in atoms_to_change]))\n",
        "    # We collect already seen sets of charges in state_charges\n",
        "    state_charges = []\n",
        "    from copy import deepcopy\n",
        "    for c in charge_combinations:\n",
        "        m_new = deepcopy(pmol)\n",
        "        # We set up state specific symmetrical charges\n",
        "        for a in atoms_with_dif_charges:\n",
        "            m_new.GetAtomWithIdx(a).SetFormalCharge(\n",
        "                pmol.GetAtomWithIdx(a).GetFormalCharge() - 1\n",
        "            )\n",
        "            m_new.GetAtomWithIdx(a).SetNumExplicitHs(\n",
        "                pmol.GetAtomWithIdx(a).GetNumExplicitHs() - 1\n",
        "            )\n",
        "        # We set up other state charges\n",
        "        for a_charge, a in zip(c, atoms_to_change):\n",
        "            if a_charge != pmol.GetAtomWithIdx(a).GetFormalCharge():\n",
        "                m_new.GetAtomWithIdx(a).SetFormalCharge(a_charge)\n",
        "                m_new.GetAtomWithIdx(a).SetNumExplicitHs(\n",
        "                    pmol.GetAtomWithIdx(a).GetNumExplicitHs() - 1\n",
        "                )\n",
        "        # We do nothing if there are\n",
        "        if [x.GetFormalCharge() for x in m_new.GetAtoms()] in state_charges:\n",
        "            continue\n",
        "        state_charges.append([x.GetFormalCharge() for x in m_new.GetAtoms()])\n",
        "        d2d = rdMolDraw2D.MolDraw2DSVG(250, 200)\n",
        "        colors = [(0.0, 1.0, 0.0, 0.2)]\n",
        "        at_highlights = {x: [colors[0]] for x in atoms_to_change}\n",
        "        at_rads = {x: 0.5 for x in atoms_to_change}\n",
        "        d2d.DrawMoleculeWithHighlights(m_new,\"\", at_highlights,{}, at_rads, {})\n",
        "        d2d.FinishDrawing()\n",
        "        display(SVG(d2d.GetDrawingText()))\n",
        "    states[i] = (m, len(state_charges), 1, atoms_to_change, None)\n",
        "if all([x[1] == 1 for x in states.values()]):\n",
        "    ss = None\n",
        "    print(\n",
        "        \"No symmetrical states were found \"\n",
        "        + \" You can skip the next step.\"\n",
        "    )"
      ],
      "metadata": {
        "colab": {
          "base_uri": "https://localhost:8080/"
        },
        "id": "cMIgAhkBxviB",
        "outputId": "5aa07d30-037e-4c87-f001-60ed7bb11c8e"
      },
      "execution_count": 104,
      "outputs": [
        {
          "output_type": "stream",
          "name": "stdout",
          "text": [
            "No symmetrical states were found  You can skip the next step.\n"
          ]
        }
      ]
    },
    {
      "cell_type": "code",
      "source": [
        "#@title Select treatment of symmetrical states\n",
        "#@markdown Please, select whether to inclue symmetrical states for a molecule\n",
        "#@markdown or not. If for a particular molecule there are no symmetrical\n",
        "#@markdown states available, selecting True won't influence the behaviour\n",
        "use_symmetrical_states_molecule_0 = False #@param {type:\"boolean\"}\n",
        "use_symmetrical_states_molecule_1 = False #@param {type:\"boolean\"}\n",
        "use_symmetrical_states_molecule_2 = False #@param {type:\"boolean\"}\n",
        "use_symmetrical_states_molecule_3 = False #@param {type:\"boolean\"}\n",
        "use_symmetrical_states_molecule_4 = False #@param {type:\"boolean\"}\n",
        "use_symmetrical_states_molecule_5 = False #@param {type:\"boolean\"}\n",
        "use_symmetrical_states_molecule_6 = False #@param {type:\"boolean\"}\n",
        "use_symmetrical_states_molecule_7 = False #@param {type:\"boolean\"}\n",
        "use_symmetrical_states_molecule_8 = False #@param {type:\"boolean\"}\n",
        "use_symmetrical_states_molecule_9 = False #@param {type:\"boolean\"}\n",
        "\n",
        "ss = [\n",
        "    use_symmetrical_states_molecule_0,\n",
        "    use_symmetrical_states_molecule_1,\n",
        "    use_symmetrical_states_molecule_2,\n",
        "    use_symmetrical_states_molecule_3,\n",
        "    use_symmetrical_states_molecule_4,\n",
        "    use_symmetrical_states_molecule_5,\n",
        "    use_symmetrical_states_molecule_6,\n",
        "    use_symmetrical_states_molecule_7,\n",
        "    use_symmetrical_states_molecule_8,\n",
        "    use_symmetrical_states_molecule_9,\n",
        "][:len(states)]"
      ],
      "metadata": {
        "id": "gbwN4jUv9e0f"
      },
      "execution_count": 47,
      "outputs": []
    },
    {
      "cell_type": "code",
      "source": [
        "#@title Update states information\n",
        "for i, s in zip(states.keys(), states.values()):\n",
        "    if ss:\n",
        "        t = ss[i]\n",
        "    else:\n",
        "        t = False\n",
        "    if t:\n",
        "        states[i] = (s[0], s[1], s[1], s[3], s[4])\n",
        "    if mHs:\n",
        "        from rdkit.Chem import rdFMCS\n",
        "        res = rdFMCS.FindMCS([pmol, pmol])\n",
        "        similar_patt = Chem.MolFromSmarts(res.smartsString)\n",
        "        subst_matches = s[0].GetSubstructMatches(similar_patt)[0]\n",
        "        factor = 1\n",
        "        atoms_with_mhs = []\n",
        "        for idx in sites_with_multiple_hs:\n",
        "            if not mHs[sites_with_multiple_hs.index(idx)]:\n",
        "                continue\n",
        "            a = s[0].GetAtomWithIdx(\n",
        "                subst_matches[subst_matches_pmol.index(idx)]\n",
        "            )\n",
        "            a_p = pmol.GetAtomWithIdx(idx)\n",
        "            if (\n",
        "                (a.GetNumExplicitHs() + a.GetNumImplicitHs()) !=\n",
        "                (a_p.GetNumExplicitHs() + a_p.GetNumImplicitHs())\n",
        "            ):\n",
        "                # TODO: we also need to add symmetrical atoms\n",
        "                atoms_with_mhs.append(idx)\n",
        "                factor *= (a_p.GetNumExplicitHs() + a_p.GetNumImplicitHs())\n",
        "        states[i] = (s[0], s[1], states[i][1] * factor, s[3], atoms_with_mhs)\n",
        "states"
      ],
      "metadata": {
        "colab": {
          "base_uri": "https://localhost:8080/"
        },
        "id": "GjWEZ3WGvpSf",
        "outputId": "f209e5ef-3e7f-4ac5-e7c1-a4bbd45d749a"
      },
      "execution_count": 105,
      "outputs": [
        {
          "output_type": "execute_result",
          "data": {
            "text/plain": [
              "{0: (<rdkit.Chem.rdchem.Mol at 0x78f690d8be60>, 1, 1, None, []),\n",
              " 1: (<rdkit.Chem.rdchem.Mol at 0x78f690d8bf40>, 1, 1, None, [])}"
            ]
          },
          "metadata": {},
          "execution_count": 105
        }
      ]
    },
    {
      "cell_type": "code",
      "source": [
        "#@title Show state transitions\n",
        "state_transitions = []\n",
        "for i, m1 in enumerate(mols):\n",
        "    for j, m2 in enumerate(mols[i+1:]):\n",
        "        from rdkit.Chem import rdFMCS\n",
        "        res = rdFMCS.FindMCS([pmol, pmol])\n",
        "        similar_patt = Chem.MolFromSmarts(res.smartsString)\n",
        "        subst_matches1 = m1.GetSubstructMatches(similar_patt)[0]\n",
        "        subst_matches2 = m2.GetSubstructMatches(similar_patt)[0]\n",
        "        n_diffs = 0\n",
        "        for idx in titratable_sites:\n",
        "            if (\n",
        "                m1.GetAtomWithIdx(\n",
        "                    subst_matches1[subst_matches_pmol.index(idx)]\n",
        "                ).GetFormalCharge() !=\n",
        "                m2.GetAtomWithIdx(\n",
        "                    subst_matches2[subst_matches_pmol.index(idx)]\n",
        "                ).GetFormalCharge()\n",
        "            ):\n",
        "                n_diffs += 1\n",
        "        if n_diffs != 1:\n",
        "            continue\n",
        "        state_transitions.append((i, i + 1+j, m1, m2))\n",
        "\n",
        "def view_difference(mol1, mol2):\n",
        "    mcs = rdFMCS.FindMCS([mol1,mol2])\n",
        "    mcs_mol = Chem.MolFromSmarts(mcs.smartsString)\n",
        "    match1 = mol1.GetSubstructMatch(mcs_mol)\n",
        "    match2 = mol2.GetSubstructMatch(mcs_mol)\n",
        "    target_atm1 = []\n",
        "    target_atm2 = []\n",
        "    for a1, a2 in zip(match1, match2):\n",
        "        if (\n",
        "            mol1.GetAtomWithIdx(a1).GetFormalCharge() !=\n",
        "            mol2.GetAtomWithIdx(a2).GetFormalCharge()\n",
        "        ):\n",
        "            target_atm1.append(a1)\n",
        "            target_atm2.append(a2)\n",
        "    d2d = Draw.MolsToGridImage(\n",
        "        [mol1, mol2],\n",
        "        highlightAtomLists=[target_atm1, target_atm2],\n",
        "        useSVG = True,\n",
        "    )\n",
        "    display(d2d)\n",
        "\n",
        "print(\"We found the following transitions between protonation states:\")\n",
        "for i, st_t in enumerate(state_transitions):\n",
        "    print(f\"Transition {i}\")\n",
        "    view_difference(st_t[2], st_t[3])"
      ],
      "metadata": {
        "colab": {
          "base_uri": "https://localhost:8080/",
          "height": 259
        },
        "id": "ZBKOWkcz2HnX",
        "outputId": "1fe86bb2-d9cb-4fa8-ab74-31c28da399dc"
      },
      "execution_count": 106,
      "outputs": [
        {
          "output_type": "stream",
          "name": "stdout",
          "text": [
            "We found the following transitions between protonation states:\n",
            "Transition 0\n"
          ]
        },
        {
          "output_type": "display_data",
          "data": {
            "text/plain": [
              "<IPython.core.display.SVG object>"
            ],
            "image/svg+xml": "<svg xmlns=\"http://www.w3.org/2000/svg\" xmlns:rdkit=\"http://www.rdkit.org/xml\" xmlns:xlink=\"http://www.w3.org/1999/xlink\" version=\"1.1\" baseProfile=\"full\" xml:space=\"preserve\" width=\"600px\" height=\"200px\" viewBox=\"0 0 600 200\">\n<!-- END OF HEADER -->\n<rect style=\"opacity:1.0;fill:#FFFFFF;stroke:none\" width=\"600.0\" height=\"200.0\" x=\"0.0\" y=\"0.0\"> </rect>\n<ellipse cx=\"34.4\" cy=\"90.7\" rx=\"24.4\" ry=\"12.6\" class=\"atom-0\" style=\"fill:#FF7F7F;fill-rule:evenodd;stroke:#FF7F7F;stroke-width:1.0px;stroke-linecap:butt;stroke-linejoin:miter;stroke-opacity:1\"/>\n<path class=\"bond-0 atom-0 atom-1\" d=\"M 45.7,94.1 L 56.9,106.2\" style=\"fill:none;fill-rule:evenodd;stroke:#0000FF;stroke-width:2.0px;stroke-linecap:butt;stroke-linejoin:miter;stroke-opacity:1\"/>\n<path class=\"bond-0 atom-0 atom-1\" d=\"M 56.9,106.2 L 68.1,118.3\" style=\"fill:none;fill-rule:evenodd;stroke:#000000;stroke-width:2.0px;stroke-linecap:butt;stroke-linejoin:miter;stroke-opacity:1\"/>\n<path class=\"bond-1 atom-1 atom-2\" d=\"M 68.1,118.3 L 108.7,109.2\" style=\"fill:none;fill-rule:evenodd;stroke:#000000;stroke-width:2.0px;stroke-linecap:butt;stroke-linejoin:miter;stroke-opacity:1\"/>\n<path class=\"bond-2 atom-2 atom-3\" d=\"M 108.7,109.2 L 121.1,69.4\" style=\"fill:none;fill-rule:evenodd;stroke:#000000;stroke-width:2.0px;stroke-linecap:butt;stroke-linejoin:miter;stroke-opacity:1\"/>\n<path class=\"bond-2 atom-2 atom-3\" d=\"M 115.8,107.6 L 126.0,74.7\" style=\"fill:none;fill-rule:evenodd;stroke:#000000;stroke-width:2.0px;stroke-linecap:butt;stroke-linejoin:miter;stroke-opacity:1\"/>\n<path class=\"bond-3 atom-3 atom-4\" d=\"M 121.1,69.4 L 161.7,60.2\" style=\"fill:none;fill-rule:evenodd;stroke:#000000;stroke-width:2.0px;stroke-linecap:butt;stroke-linejoin:miter;stroke-opacity:1\"/>\n<path class=\"bond-4 atom-4 atom-5\" d=\"M 161.7,60.2 L 190.0,90.8\" style=\"fill:none;fill-rule:evenodd;stroke:#000000;stroke-width:2.0px;stroke-linecap:butt;stroke-linejoin:miter;stroke-opacity:1\"/>\n<path class=\"bond-4 atom-4 atom-5\" d=\"M 159.6,67.1 L 183.0,92.4\" style=\"fill:none;fill-rule:evenodd;stroke:#000000;stroke-width:2.0px;stroke-linecap:butt;stroke-linejoin:miter;stroke-opacity:1\"/>\n<path class=\"bond-5 atom-5 atom-6\" d=\"M 190.0,90.8 L 177.6,130.6\" style=\"fill:none;fill-rule:evenodd;stroke:#000000;stroke-width:2.0px;stroke-linecap:butt;stroke-linejoin:miter;stroke-opacity:1\"/>\n<path class=\"bond-6 atom-6 atom-7\" d=\"M 177.6,130.6 L 137.0,139.8\" style=\"fill:none;fill-rule:evenodd;stroke:#000000;stroke-width:2.0px;stroke-linecap:butt;stroke-linejoin:miter;stroke-opacity:1\"/>\n<path class=\"bond-6 atom-6 atom-7\" d=\"M 172.7,125.3 L 139.1,132.9\" style=\"fill:none;fill-rule:evenodd;stroke:#000000;stroke-width:2.0px;stroke-linecap:butt;stroke-linejoin:miter;stroke-opacity:1\"/>\n<path class=\"bond-7 atom-7 atom-2\" d=\"M 137.0,139.8 L 108.7,109.2\" style=\"fill:none;fill-rule:evenodd;stroke:#000000;stroke-width:2.0px;stroke-linecap:butt;stroke-linejoin:miter;stroke-opacity:1\"/>\n<path d=\"M 67.5,117.7 L 68.1,118.3 L 70.1,117.9\" style=\"fill:none;stroke:#000000;stroke-width:2.0px;stroke-linecap:butt;stroke-linejoin:miter;stroke-opacity:1;\"/>\n<path d=\"M 120.5,71.4 L 121.1,69.4 L 123.1,68.9\" style=\"fill:none;stroke:#000000;stroke-width:2.0px;stroke-linecap:butt;stroke-linejoin:miter;stroke-opacity:1;\"/>\n<path d=\"M 159.7,60.7 L 161.7,60.2 L 163.2,61.8\" style=\"fill:none;stroke:#000000;stroke-width:2.0px;stroke-linecap:butt;stroke-linejoin:miter;stroke-opacity:1;\"/>\n<path d=\"M 188.6,89.3 L 190.0,90.8 L 189.4,92.8\" style=\"fill:none;stroke:#000000;stroke-width:2.0px;stroke-linecap:butt;stroke-linejoin:miter;stroke-opacity:1;\"/>\n<path d=\"M 178.2,128.6 L 177.6,130.6 L 175.6,131.1\" style=\"fill:none;stroke:#000000;stroke-width:2.0px;stroke-linecap:butt;stroke-linejoin:miter;stroke-opacity:1;\"/>\n<path d=\"M 139.0,139.3 L 137.0,139.8 L 135.6,138.2\" style=\"fill:none;stroke:#000000;stroke-width:2.0px;stroke-linecap:butt;stroke-linejoin:miter;stroke-opacity:1;\"/>\n<path class=\"atom-0\" d=\"M 17.2 81.8 L 18.8 81.8 L 18.8 86.8 L 24.8 86.8 L 24.8 81.8 L 26.4 81.8 L 26.4 93.6 L 24.8 93.6 L 24.8 88.2 L 18.8 88.2 L 18.8 93.6 L 17.2 93.6 L 17.2 81.8 \" fill=\"#0000FF\"/>\n<path class=\"atom-0\" d=\"M 32.4 95.4 Q 33.1 95.6, 33.5 96.1 Q 33.9 96.6, 33.9 97.4 Q 33.9 98.0, 33.6 98.6 Q 33.2 99.1, 32.6 99.3 Q 32.0 99.6, 31.2 99.6 Q 30.4 99.6, 29.8 99.3 Q 29.1 99.0, 28.6 98.4 L 29.3 97.8 Q 29.8 98.3, 30.2 98.5 Q 30.6 98.7, 31.2 98.7 Q 31.9 98.7, 32.4 98.4 Q 32.8 98.0, 32.8 97.4 Q 32.8 96.6, 32.3 96.2 Q 31.9 95.9, 30.9 95.9 L 30.4 95.9 L 30.4 95.1 L 30.9 95.1 Q 31.7 95.1, 32.2 94.7 Q 32.6 94.3, 32.6 93.6 Q 32.6 93.1, 32.2 92.8 Q 31.9 92.5, 31.2 92.5 Q 30.6 92.5, 30.2 92.8 Q 29.8 93.0, 29.5 93.6 L 28.7 93.2 Q 29.0 92.5, 29.6 92.1 Q 30.3 91.6, 31.2 91.6 Q 32.4 91.6, 33.0 92.2 Q 33.7 92.7, 33.7 93.6 Q 33.7 94.3, 33.4 94.7 Q 33.0 95.2, 32.4 95.4 \" fill=\"#0000FF\"/>\n<path class=\"atom-0\" d=\"M 37.2 81.8 L 41.1 88.1 Q 41.5 88.7, 42.1 89.8 Q 42.7 90.9, 42.8 91.0 L 42.8 81.8 L 44.3 81.8 L 44.3 93.6 L 42.7 93.6 L 38.6 86.8 Q 38.1 86.0, 37.6 85.1 Q 37.1 84.2, 36.9 83.9 L 36.9 93.6 L 35.4 93.6 L 35.4 81.8 L 37.2 81.8 \" fill=\"#0000FF\"/>\n<path class=\"atom-0\" d=\"M 46.6 83.9 L 48.6 83.9 L 48.6 81.8 L 49.6 81.8 L 49.6 83.9 L 51.7 83.9 L 51.7 84.7 L 49.6 84.7 L 49.6 86.9 L 48.6 86.9 L 48.6 84.7 L 46.6 84.7 L 46.6 83.9 \" fill=\"#0000FF\"/>\n<ellipse cx=\"230.0\" cy=\"90.7\" rx=\"19.3\" ry=\"12.5\" class=\"atom-0\" style=\"fill:#FF7F7F;fill-rule:evenodd;stroke:#FF7F7F;stroke-width:1.0px;stroke-linecap:butt;stroke-linejoin:miter;stroke-opacity:1\"/>\n<path class=\"bond-0 atom-0 atom-1\" d=\"M 245.0,94.1 L 256.2,106.2\" style=\"fill:none;fill-rule:evenodd;stroke:#0000FF;stroke-width:2.0px;stroke-linecap:butt;stroke-linejoin:miter;stroke-opacity:1\"/>\n<path class=\"bond-0 atom-0 atom-1\" d=\"M 256.2,106.2 L 267.4,118.3\" style=\"fill:none;fill-rule:evenodd;stroke:#000000;stroke-width:2.0px;stroke-linecap:butt;stroke-linejoin:miter;stroke-opacity:1\"/>\n<path class=\"bond-1 atom-1 atom-2\" d=\"M 267.4,118.3 L 308.0,109.2\" style=\"fill:none;fill-rule:evenodd;stroke:#000000;stroke-width:2.0px;stroke-linecap:butt;stroke-linejoin:miter;stroke-opacity:1\"/>\n<path class=\"bond-2 atom-2 atom-3\" d=\"M 308.0,109.2 L 320.4,69.4\" style=\"fill:none;fill-rule:evenodd;stroke:#000000;stroke-width:2.0px;stroke-linecap:butt;stroke-linejoin:miter;stroke-opacity:1\"/>\n<path class=\"bond-2 atom-2 atom-3\" d=\"M 315.1,107.6 L 325.3,74.7\" style=\"fill:none;fill-rule:evenodd;stroke:#000000;stroke-width:2.0px;stroke-linecap:butt;stroke-linejoin:miter;stroke-opacity:1\"/>\n<path class=\"bond-3 atom-3 atom-4\" d=\"M 320.4,69.4 L 361.0,60.2\" style=\"fill:none;fill-rule:evenodd;stroke:#000000;stroke-width:2.0px;stroke-linecap:butt;stroke-linejoin:miter;stroke-opacity:1\"/>\n<path class=\"bond-4 atom-4 atom-5\" d=\"M 361.0,60.2 L 389.3,90.8\" style=\"fill:none;fill-rule:evenodd;stroke:#000000;stroke-width:2.0px;stroke-linecap:butt;stroke-linejoin:miter;stroke-opacity:1\"/>\n<path class=\"bond-4 atom-4 atom-5\" d=\"M 358.9,67.1 L 382.2,92.4\" style=\"fill:none;fill-rule:evenodd;stroke:#000000;stroke-width:2.0px;stroke-linecap:butt;stroke-linejoin:miter;stroke-opacity:1\"/>\n<path class=\"bond-5 atom-5 atom-6\" d=\"M 389.3,90.8 L 376.9,130.6\" style=\"fill:none;fill-rule:evenodd;stroke:#000000;stroke-width:2.0px;stroke-linecap:butt;stroke-linejoin:miter;stroke-opacity:1\"/>\n<path class=\"bond-6 atom-6 atom-7\" d=\"M 376.9,130.6 L 336.3,139.8\" style=\"fill:none;fill-rule:evenodd;stroke:#000000;stroke-width:2.0px;stroke-linecap:butt;stroke-linejoin:miter;stroke-opacity:1\"/>\n<path class=\"bond-6 atom-6 atom-7\" d=\"M 372.0,125.3 L 338.4,132.9\" style=\"fill:none;fill-rule:evenodd;stroke:#000000;stroke-width:2.0px;stroke-linecap:butt;stroke-linejoin:miter;stroke-opacity:1\"/>\n<path class=\"bond-7 atom-7 atom-2\" d=\"M 336.3,139.8 L 308.0,109.2\" style=\"fill:none;fill-rule:evenodd;stroke:#000000;stroke-width:2.0px;stroke-linecap:butt;stroke-linejoin:miter;stroke-opacity:1\"/>\n<path d=\"M 266.8,117.7 L 267.4,118.3 L 269.4,117.9\" style=\"fill:none;stroke:#000000;stroke-width:2.0px;stroke-linecap:butt;stroke-linejoin:miter;stroke-opacity:1;\"/>\n<path d=\"M 319.8,71.4 L 320.4,69.4 L 322.4,68.9\" style=\"fill:none;stroke:#000000;stroke-width:2.0px;stroke-linecap:butt;stroke-linejoin:miter;stroke-opacity:1;\"/>\n<path d=\"M 359.0,60.7 L 361.0,60.2 L 362.4,61.8\" style=\"fill:none;stroke:#000000;stroke-width:2.0px;stroke-linecap:butt;stroke-linejoin:miter;stroke-opacity:1;\"/>\n<path d=\"M 387.9,89.3 L 389.3,90.8 L 388.7,92.8\" style=\"fill:none;stroke:#000000;stroke-width:2.0px;stroke-linecap:butt;stroke-linejoin:miter;stroke-opacity:1;\"/>\n<path d=\"M 377.5,128.6 L 376.9,130.6 L 374.9,131.1\" style=\"fill:none;stroke:#000000;stroke-width:2.0px;stroke-linecap:butt;stroke-linejoin:miter;stroke-opacity:1;\"/>\n<path d=\"M 338.3,139.3 L 336.3,139.8 L 334.9,138.2\" style=\"fill:none;stroke:#000000;stroke-width:2.0px;stroke-linecap:butt;stroke-linejoin:miter;stroke-opacity:1;\"/>\n<path class=\"atom-0\" d=\"M 216.4 81.8 L 218.0 81.8 L 218.0 86.8 L 224.0 86.8 L 224.0 81.8 L 225.6 81.8 L 225.6 93.6 L 224.0 93.6 L 224.0 88.2 L 218.0 88.2 L 218.0 93.6 L 216.4 93.6 L 216.4 81.8 \" fill=\"#0000FF\"/>\n<path class=\"atom-0\" d=\"M 227.9 93.2 Q 228.2 92.5, 228.9 92.1 Q 229.6 91.6, 230.5 91.6 Q 231.7 91.6, 232.3 92.3 Q 233.0 92.9, 233.0 94.0 Q 233.0 95.2, 232.1 96.3 Q 231.3 97.4, 229.5 98.6 L 233.1 98.6 L 233.1 99.5 L 227.9 99.5 L 227.9 98.8 Q 229.3 97.7, 230.2 97.0 Q 231.1 96.2, 231.5 95.5 Q 231.9 94.8, 231.9 94.1 Q 231.9 93.4, 231.5 92.9 Q 231.1 92.5, 230.5 92.5 Q 229.9 92.5, 229.5 92.8 Q 229.0 93.0, 228.7 93.6 L 227.9 93.2 \" fill=\"#0000FF\"/>\n<path class=\"atom-0\" d=\"M 236.5 81.8 L 240.4 88.1 Q 240.8 88.7, 241.4 89.8 Q 242.0 90.9, 242.0 91.0 L 242.0 81.8 L 243.6 81.8 L 243.6 93.6 L 242.0 93.6 L 237.8 86.8 Q 237.4 86.0, 236.8 85.1 Q 236.3 84.2, 236.2 83.9 L 236.2 93.6 L 234.7 93.6 L 234.7 81.8 L 236.5 81.8 \" fill=\"#0000FF\"/>\n</svg>"
          },
          "metadata": {}
        }
      ]
    },
    {
      "cell_type": "code",
      "source": [
        "state_transitions"
      ],
      "metadata": {
        "colab": {
          "base_uri": "https://localhost:8080/"
        },
        "id": "geoXRdMEShJp",
        "outputId": "59158d52-5c09-4d5b-98a8-bdc9fb57a5dd"
      },
      "execution_count": 50,
      "outputs": [
        {
          "output_type": "execute_result",
          "data": {
            "text/plain": [
              "[(0,\n",
              "  1,\n",
              "  <rdkit.Chem.rdchem.Mol at 0x78f690d8be60>,\n",
              "  <rdkit.Chem.rdchem.Mol at 0x78f690d8bf40>)]"
            ]
          },
          "metadata": {},
          "execution_count": 50
        }
      ]
    },
    {
      "cell_type": "code",
      "source": [
        "#@title Provide pKa values for transitions between protonated states\n",
        "#@markdown Please, provide pKa values for protonated states.\n",
        "pka_0 = 2 #@param {type:\"number\"}\n",
        "pka_1 = 3 #@param {type:\"number\"}\n",
        "pka_2 = 4 #@param {type:\"number\"}\n",
        "pka_3 = 5 #@param {type:\"number\"}\n",
        "pka_4 = 0.0 #@param {type:\"number\"}\n",
        "pka_5 = 0.0 #@param {type:\"number\"}\n",
        "pka_6 = 0.0 #@param {type:\"number\"}\n",
        "pka_7 = 0.0 #@param {type:\"number\"}\n",
        "pka_8 = 0.0 #@param {type:\"number\"}\n",
        "pka_9 = 0.0 #@param {type:\"number\"}\n",
        "\n",
        "pkas = [\n",
        "    pka_0, pka_1, pka_2, pka_3, pka_4,\n",
        "    pka_5, pka_6, pka_7, pka_8, pka_9,\n",
        "][:len(state_transitions)]"
      ],
      "metadata": {
        "id": "Qg4YAxSh-Ibw"
      },
      "execution_count": 107,
      "outputs": []
    },
    {
      "cell_type": "code",
      "source": [
        "states"
      ],
      "metadata": {
        "id": "OTheYiivkbto",
        "outputId": "cfe3b99f-5e17-4843-e54b-856209a30fba",
        "colab": {
          "base_uri": "https://localhost:8080/"
        }
      },
      "execution_count": 52,
      "outputs": [
        {
          "output_type": "execute_result",
          "data": {
            "text/plain": [
              "{0: (<rdkit.Chem.rdchem.Mol at 0x78f690d8be60>, 1, 1, None, []),\n",
              " 1: (<rdkit.Chem.rdchem.Mol at 0x78f690d8bf40>, 1, 3, None, [0])}"
            ]
          },
          "metadata": {},
          "execution_count": 52
        }
      ]
    },
    {
      "cell_type": "code",
      "source": [
        "#@title Generate pKa matrix equation\n",
        "import numpy as np\n",
        "from sympy import Matrix, MatrixSymbol, symbols\n",
        "if len(mols) == 2 and all(states[x][2] == 1 for x in states):\n",
        "    print(f\"Single state should be used. pKa = {pkas[0]}\")\n",
        "else:\n",
        "    ph = symbols(\"pH\")\n",
        "    A = np.zeros((len(state_transitions) + 1, len(mols)), dtype = 'int')\n",
        "    b = MatrixSymbol('b', len(state_transitions) + 1, 1).as_explicit()\n",
        "    bsubs = {b[0,0]: ph}\n",
        "    for i, (tr, pka) in enumerate(zip(state_transitions, pkas)):\n",
        "        state1 = tr[0]\n",
        "        state2 = tr[1]\n",
        "        n = states[state1][2]\n",
        "        m = states[state2][2]\n",
        "        if Chem.GetFormalCharge(tr[2]) > Chem.GetFormalCharge(tr[3]):\n",
        "            A[i+1, state1] =-1\n",
        "            A[i+1, state2] = 1\n",
        "            bsubs[b[i + 1, 0]] = pka - np.log10(n/m) - ph\n",
        "        else:\n",
        "            A[i+1, state1] = 1\n",
        "            A[i+1, state2] = -1\n",
        "            bsubs[b[i + 1, 0]] = pka - np.log10(m/n) - ph\n",
        "    A[0, 0] = 1\n",
        "    m = Matrix(A)\n",
        "    _, inds = m.T.rref()\n",
        "    removed_inds = [x for x in range(len(state_transitions) + 1) if x not in inds]\n",
        "    Ar = A[list(inds)]\n",
        "    Ad = A[list(removed_inds)]\n",
        "    mr = Matrix(Ar)\n",
        "    md = Matrix(Ad)\n",
        "    p = MatrixSymbol('p', len(mols), 1).as_explicit()\n",
        "    b = b.subs(bsubs)\n",
        "    br = MatrixSymbol('br', len(inds), 1).as_explicit()\n",
        "    brsubs = {}\n",
        "    for i, idx in enumerate(inds):\n",
        "        brsubs[br[i, 0]] = b[idx, 0]\n",
        "\n",
        "    br = br.subs(brsubs)\n",
        "    br\n",
        "\n",
        "    sol = mr.solve(br)\n",
        "    print(\n",
        "        \"Recommended pKa values for protonations states, considering all previous \"\n",
        "        + \"input are:\"\n",
        "    )\n",
        "    for i in range(len(mols)):\n",
        "        print(f\"State {i}: pKa = {sol[i,0]}\")"
      ],
      "metadata": {
        "colab": {
          "base_uri": "https://localhost:8080/"
        },
        "id": "FPCRNZxE_EIz",
        "outputId": "65fa9f6e-05fa-4c8a-c016-766094408147"
      },
      "execution_count": 108,
      "outputs": [
        {
          "output_type": "stream",
          "name": "stdout",
          "text": [
            "Single state should be used. pKa = 2\n"
          ]
        }
      ]
    },
    {
      "cell_type": "code",
      "source": [
        "a = [1,2,3,4,5, 3]\n",
        "a.index(3)"
      ],
      "metadata": {
        "id": "QOrZmUbyMgMg",
        "outputId": "2b8ab08b-ca98-41bb-ccba-f1ae4e612841",
        "colab": {
          "base_uri": "https://localhost:8080/"
        }
      },
      "execution_count": 81,
      "outputs": [
        {
          "output_type": "execute_result",
          "data": {
            "text/plain": [
              "2"
            ]
          },
          "metadata": {},
          "execution_count": 81
        }
      ]
    },
    {
      "cell_type": "code",
      "source": [
        "#@title Topology and structure general behavior\n",
        "#@markdown Do you want us to generate topology and molecule structure with\n",
        "#@markdown Open Force Field? If no, you would need to provide topologies in\n",
        "#@markdown **.itp** format in the following steps.\n",
        "is_generation_needed = True #@param {type:\"boolean\"}\n",
        "ff_to_use = \"openff-2.1.0.offxml\" #@param {type:\"string\"}\n",
        "molecule_name = \"MOL\" #@param {type:\"string\"}\n",
        "_mols = []\n",
        "charges = []\n",
        "if is_generation_needed:\n",
        "    ff = ForceField(ff_to_use)\n",
        "    for _i, m in enumerate(mols):\n",
        "        _m = Molecule.from_rdkit(m)\n",
        "        print(Chem.MolToSmiles(_m.to_rdkit()))\n",
        "        _m.generate_conformers()\n",
        "        interchange = ff.create_interchange(_m.to_topology())\n",
        "        charges.append(\n",
        "            [a.partial_charge.magnitude for a in interchange.topology.atoms]\n",
        "        )\n",
        "        _mols.append(_m.to_rdkit())\n",
        "        if _i == 0:\n",
        "            interchange.to_gromacs(f\"molecule_{_i}\")\n",
        "        else:\n",
        "            interchange.to_top(f\"molecule_{_i}.top\")\n",
        "\n",
        "_base_mol = _mols[0]\n",
        "charge_table =[charges[0]]\n",
        "\n",
        "def _basic_treatment(\n",
        "        idx: int,\n",
        "        match1_list: list[int],\n",
        "        match2_list: list[int],\n",
        "        charge_list: list[float],\n",
        "    ) -> dict:\n",
        "    \"\"\"\n",
        "    \"\"\"\n",
        "    _tmp = {}\n",
        "    _tmp[0] = []\n",
        "    for i in range(len(charge_table[0])):\n",
        "        if i in match1_list:\n",
        "            _ch_idx = match2_list[match1_list.index(i)]\n",
        "            _tmp[0].append(charge_list[_ch_idx])\n",
        "        else:\n",
        "            _tmp[0].append(0)\n",
        "    return _tmp\n",
        "\n",
        "def _only_mhs_treatment(\n",
        "        idx: int,\n",
        "        match1_list: list[int],\n",
        "        match2_list: list[int],\n",
        "        charge_list: list[float],\n",
        "    ) -> dict:\n",
        "    \"\"\"\n",
        "    \"\"\"\n",
        "    _tmp = {_s: [] for _s in range(states[idx+1][2])}\n",
        "\n",
        "    mhs = states[idx+1][4]\n",
        "    # we search for hydrogens attached to any of mh sites\n",
        "    hs = {}\n",
        "    for i in mhs:\n",
        "        hs[i] = []\n",
        "        _a = _base_mol.GetAtomWithIdx(i)\n",
        "        for _b in _a.GetBonds():\n",
        "            _oi = _b.GetBeginAtomIdx() if _b.GetBeginAtomIdx() != i else _b.GetEndAtomIdx()\n",
        "            if _base_mol.GetAtomWithIdx(_oi).GetSymbol() == \"H\":\n",
        "                hs[i].append(_oi)\n",
        "    # Which of the hydrogens connected to the atom set to zero\n",
        "    mh_state_to_zero = {x: 0 for x in mhs}\n",
        "\n",
        "    # Generate combinations for states\n",
        "    import itertools\n",
        "    mh_nstates = [len(hs[i]) for i in hs]\n",
        "    mh_h_states = list(itertools.product(*[range(x) for x in mh_nstates]))\n",
        "    assert len(mh_h_states) == states[idx+1][2], \"Incorrect number of states\"\n",
        "    print(mh_h_states)\n",
        "    def _is_mhh(idx: int) -> int:\n",
        "        \"\"\"\n",
        "        Check if atom is a hydrogen connected to mh atom.\n",
        "        \"\"\"\n",
        "        for _idx in mhs:\n",
        "            if idx in hs[_idx]:\n",
        "                return _idx\n",
        "            else:\n",
        "                return -1\n",
        "\n",
        "    for i in range(len(charge_table[0])):\n",
        "        print(i)\n",
        "        _mh_idx = _is_mhh(i)\n",
        "        if _mh_idx >= 0:\n",
        "            print(\"mhs treatment\")\n",
        "            # We are treating mh hydrogen\n",
        "            # Get hydrogen charges in deprotonated molecule\n",
        "            _ch = []\n",
        "            for _j in hs[_mh_idx]:\n",
        "                if _j in match1_list:\n",
        "                    _ch_idx = match2_list[match1_list.index(_j)]\n",
        "                    _ch.append(charge_list[_ch_idx])\n",
        "            print(_ch)\n",
        "            # Check that all charges are identical\n",
        "            for _ch1 in _ch[1:]:\n",
        "                assert np.abs(_ch[0] - _ch1) < 1e-5, \"Multiple hydrogens at the same site are expexted to have similar charges\"\n",
        "            print(\"assertion done\")\n",
        "            print(mh_h_states)\n",
        "            for _idx, _s in enumerate(mh_h_states):\n",
        "                print(_idx, _s)\n",
        "                _ha_idx = mhs.index(_mh_idx)\n",
        "                if hs[_mh_idx].index(i) == _s[_ha_idx]:\n",
        "                    _tmp[_idx].append(0)\n",
        "                else:\n",
        "                    _tmp[_idx].append(_ch[0])\n",
        "            continue\n",
        "        if i in match1_list:\n",
        "            print(\"normal treatment\")\n",
        "            # We are treating any other atom\n",
        "            for _s in _tmp:\n",
        "                _ch_idx = match2_list[match1_list.index(i)]\n",
        "                _tmp[_s].append(charge_list[_ch_idx])\n",
        "            continue\n",
        "        # In all other cases we write 0\n",
        "        # It can be a singe hydrogen, for instance of the other site\n",
        "        for _s in _tmp:\n",
        "            _tmp[0].append(0)\n",
        "\n",
        "    return _tmp\n",
        "\n",
        "for _i, (_m, _c) in enumerate(zip(_mols[1:], charges[1:])):\n",
        "    mcs = rdFMCS.FindMCS([_base_mol, _m])\n",
        "    mcs_mol = Chem.MolFromSmarts(mcs.smartsString)\n",
        "    match1 = _base_mol.GetSubstructMatch(mcs_mol)\n",
        "    match2 = _m.GetSubstructMatch(mcs_mol)\n",
        "    for m1, m2 in zip(match1, match2):\n",
        "        print(m1,m2)\n",
        "\n",
        "    # No symmetry sites and no mhs sites\n",
        "    if states[_i+1][2] == 1:\n",
        "        _tmp = _basic_treatment(_i, match1, match2, _c)\n",
        "    # Only mhs are present\n",
        "    elif not states[_i+1][3]:\n",
        "        _tmp = _only_mhs_treatment(_i, match1, match2, _c)\n",
        "    print(_tmp)\n",
        "    for x in _tmp:\n",
        "        print(len(_tmp[x]))\n",
        "        charge_table.append(_tmp[x])\n",
        "print(len(charge_table[0]))\n",
        "print(charge_table)\n",
        "print(np.array(charge_table).T)\n",
        "\n"
      ],
      "metadata": {
        "colab": {
          "base_uri": "https://localhost:8080/"
        },
        "id": "JsdLCCMpX4LS",
        "outputId": "789a9ea8-c6b5-463a-9cc1-75f632643eab"
      },
      "execution_count": 110,
      "outputs": [
        {
          "output_type": "stream",
          "name": "stdout",
          "text": [
            "[H]c1c([H])c([H])c(C([H])([H])[N+]([H])([H])[H])c([H])c1[H]\n",
            "[H]c1c([H])c([H])c(C([H])([H])N([H])[H])c([H])c1[H]\n",
            "0 0\n",
            "1 1\n",
            "2 2\n",
            "3 3\n",
            "4 4\n",
            "5 5\n",
            "6 6\n",
            "7 7\n",
            "17 16\n",
            "16 15\n",
            "15 14\n",
            "14 13\n",
            "13 12\n",
            "11 10\n",
            "12 11\n",
            "8 8\n",
            "9 9\n",
            "{0: [-0.9167411764705882, 0.20315882352941178, -0.09524117647058822, -0.11794117647058822, -0.13344117647058823, -0.12794117647058822, -0.13344117647058823, -0.11794117647058822, 0.3518588235294118, 0.3518588235294118, 0, 0.03375882352941177, 0.03375882352941177, 0.1380588235294118, 0.13105882352941178, 0.13005882352941178, 0.13105882352941178, 0.1380588235294118]}\n",
            "18\n",
            "18\n",
            "[[-0.8455999444444444, 0.17610005555555558, -0.20429994444444444, -0.09649994444444444, -0.11699994444444445, -0.06999994444444445, -0.11699994444444445, -0.09649994444444444, 0.45813305555555556, 0.45813305555555556, 0.45813305555555556, 0.11270005555555555, 0.11270005555555555, 0.14000005555555559, 0.16300005555555558, 0.16500005555555558, 0.16300005555555558, 0.14000005555555559], [-0.9167411764705882, 0.20315882352941178, -0.09524117647058822, -0.11794117647058822, -0.13344117647058823, -0.12794117647058822, -0.13344117647058823, -0.11794117647058822, 0.3518588235294118, 0.3518588235294118, 0, 0.03375882352941177, 0.03375882352941177, 0.1380588235294118, 0.13105882352941178, 0.13005882352941178, 0.13105882352941178, 0.1380588235294118]]\n",
            "[[-0.84559994 -0.91674118]\n",
            " [ 0.17610006  0.20315882]\n",
            " [-0.20429994 -0.09524118]\n",
            " [-0.09649994 -0.11794118]\n",
            " [-0.11699994 -0.13344118]\n",
            " [-0.06999994 -0.12794118]\n",
            " [-0.11699994 -0.13344118]\n",
            " [-0.09649994 -0.11794118]\n",
            " [ 0.45813306  0.35185882]\n",
            " [ 0.45813306  0.35185882]\n",
            " [ 0.45813306  0.        ]\n",
            " [ 0.11270006  0.03375882]\n",
            " [ 0.11270006  0.03375882]\n",
            " [ 0.14000006  0.13805882]\n",
            " [ 0.16300006  0.13105882]\n",
            " [ 0.16500006  0.13005882]\n",
            " [ 0.16300006  0.13105882]\n",
            " [ 0.14000006  0.13805882]]\n"
          ]
        }
      ]
    },
    {
      "cell_type": "code",
      "source": [
        "print(np.array(charge_table).T)"
      ],
      "metadata": {
        "id": "Nb6wjPSEYBfR",
        "outputId": "8aab84ee-bf0b-462a-db8a-8588908ef083",
        "colab": {
          "base_uri": "https://localhost:8080/"
        }
      },
      "execution_count": 101,
      "outputs": [
        {
          "output_type": "stream",
          "name": "stdout",
          "text": [
            "[[-0.84559994 -0.91674118 -0.91674118 -0.91674118]\n",
            " [ 0.17610006  0.20315882  0.20315882  0.20315882]\n",
            " [-0.20429994 -0.09524118 -0.09524118 -0.09524118]\n",
            " [-0.09649994 -0.11794118 -0.11794118 -0.11794118]\n",
            " [-0.11699994 -0.13344118 -0.13344118 -0.13344118]\n",
            " [-0.06999994 -0.12794118 -0.12794118 -0.12794118]\n",
            " [-0.11699994 -0.13344118 -0.13344118 -0.13344118]\n",
            " [-0.09649994 -0.11794118 -0.11794118 -0.11794118]\n",
            " [ 0.45813306  0.          0.35185882  0.35185882]\n",
            " [ 0.45813306  0.35185882  0.          0.35185882]\n",
            " [ 0.45813306  0.35185882  0.35185882  0.        ]\n",
            " [ 0.11270006  0.03375882  0.03375882  0.03375882]\n",
            " [ 0.11270006  0.03375882  0.03375882  0.03375882]\n",
            " [ 0.14000006  0.13805882  0.13805882  0.13805882]\n",
            " [ 0.16300006  0.13105882  0.13105882  0.13105882]\n",
            " [ 0.16500006  0.13005882  0.13005882  0.13005882]\n",
            " [ 0.16300006  0.13105882  0.13105882  0.13105882]\n",
            " [ 0.14000006  0.13805882  0.13805882  0.13805882]]\n"
          ]
        }
      ]
    },
    {
      "cell_type": "code",
      "source": [
        "# We need to transform top to itp and also for the future\n",
        "# needs we need the functionality for parsing atoms and\n",
        "# bonds sections. This will allow us to generate molecular\n",
        "# graphs, which in turn, will allow us to compare molecules\n",
        "# and prepare data for constant pH.\n",
        "\"\"\"\n",
        "We need to support two types of behaviour:\n",
        "1. Easy case\n",
        "    We generate molecule our selves with OpenFF.\n",
        "    In this case we actually know what is the order atoms in\n",
        "    all protonation states and we can easily do matching.\n",
        "    We also know what to do with all possible states -\n",
        "    symmetrical and with multiple hydrogens. From created\n",
        "    interchanges and topology files we can get all the\n",
        "    partial charges and then using rdkit and we can generate\n",
        "    correct charge lists.\n",
        "    We start by implementing this.\n",
        "2. More complex case\n",
        "    The topologies are provided by the user. In this case\n",
        "    we:\n",
        "        (i) expect that the user will provide us not only\n",
        "            with the topologies, but also with structures\n",
        "            for all states\n",
        "        (ii) don't expect that the order of atoms is the\n",
        "            same as in RdKit.\n",
        "    We will reconstruct the order based on rdkit functionality\n",
        "    https://greglandrum.github.io/rdkit-blog/posts/2022-12-18-introducing-rdDetermineBonds.html\n",
        "\n",
        "    NOTE: in principal, the first case can also be treated\n",
        "    as the second. But we will add it later.\n",
        "In general, we need to read top/itp files (for now we always\n",
        "expect [ atoms ] section to be present) and assign charges\n",
        "in the order of mols[0]. For each state we additionally\n",
        "treap symmetrical states and multi-H states. Then we change\n",
        "the order according to the order in the first file.\n",
        "\"\"\"\n",
        "class GMX_topology:\n",
        "    \"\"\"\n",
        "    Reads gromacs topology file and parses some of the sections.\n",
        "\n",
        "    Parameters\n",
        "    ----------\n",
        "    gmx_top: str\n",
        "        GROMACS topology file\n",
        "\n",
        "    Attributes\n",
        "    ----------\n",
        "    blocks: Dict[str, str]\n",
        "        Dictionary of blocks available in the topology file\n",
        "    atoms: list\n",
        "\n",
        "    Methods\n",
        "    -------\n",
        "    parse_atoms()\n",
        "        Parse atom section if present. Generates at\n",
        "    parse_atomtypes()\n",
        "        Parse atomtypes section if present.\n",
        "    parse_bonds()\n",
        "        Parse bonds.\n",
        "\n",
        "\n",
        "    \"\"\"\n",
        "    def __init__(self, gmx_top):\n",
        "        self.blocks = {}\n",
        "        with open(gmx_top, \"r\") as top:\n",
        "            section = None\n",
        "            tmp = []\n",
        "            for line in top:\n",
        "                if line.strip().startswith(\"[\"):\n",
        "                    if section:\n",
        "                        if section in self.blocks:\n",
        "                            self.blocks[section] += [tmp]\n",
        "                        else:\n",
        "                            self.blocks[section] = [tmp]\n",
        "                    else:\n",
        "                        self.blocks[\"header\"] = [tmp]\n",
        "                    section = line.strip()[1:-1].strip()\n",
        "                    tmp = []\n",
        "                else:\n",
        "                    tmp += [line]\n",
        "            if section in self.blocks:\n",
        "                self.blocks[section] += [tmp]\n",
        "            else:\n",
        "                self.blocks[section] = [tmp]\n",
        "\n",
        "    def parse_atoms(self):\n",
        "        \"\"\"\n",
        "        Parse atoms block. As a result, creates atoms attribute, where for each\n",
        "        atom in the provided topology atomtype and index are stored\n",
        "        \"\"\"\n",
        "        if \"atoms\" not in self.blocks:\n",
        "            self.atoms = []\n",
        "        else:\n",
        "            self.atoms = []\n",
        "            for section in self.blocks[\"atoms\"]:\n",
        "                for line in section:\n",
        "                    # Skip non-informative lines\n",
        "                    if line.strip().startswith(\";\"):\n",
        "                        continue\n",
        "                    if line.strip().startswith(\"#\"):\n",
        "                        continue\n",
        "                    if not line.strip():\n",
        "                        continue\n",
        "                    self.atoms.append(\n",
        "                        (\n",
        "                            int(line.split()[0]) - 1,\n",
        "                            line.split()[1],\n",
        "                        )\n",
        "                    )\n",
        "\n",
        "    def parse_dihedrals(self):\n",
        "        \"\"\"\n",
        "        Parse dihedral section of the topology. Only dihdrals of type 1 and 9\n",
        "        with explicitly provided parameters are taken into account.\n",
        "        \"\"\"\n",
        "        if \"dihedrals\" not in self.blocks:\n",
        "            self.dihedrals = []\n",
        "        else:\n",
        "            self.dihedrals = []\n",
        "            for section in self.blocks[\"dihedrals\"]:\n",
        "                for line in section:\n",
        "                    # Skip non-informative lines\n",
        "                    if line.strip().startswith(\";\"):\n",
        "                        continue\n",
        "                    if line.strip().startswith(\"#\"):\n",
        "                        continue\n",
        "                    if not line.strip():\n",
        "                        continue\n",
        "                    if int(line.split()[4]) not in [1, 9]:\n",
        "                        continue\n",
        "                    if len(line.split()) < 8:\n",
        "                        continue\n",
        "                    self.dihedrals.append(\n",
        "                        (\n",
        "                            int(line.split()[0])-1,\n",
        "                            int(line.split()[1])-1,\n",
        "                            int(line.split()[2])-1,\n",
        "                            int(line.split()[3])-1,\n",
        "                            line\n",
        "                        )\n",
        "                    )\n",
        "\n",
        "    def parse_dihedraltypes(self):\n",
        "        \"\"\"\n",
        "        Parse dihedraltypes section in the topology if present. Creates\n",
        "        dihedraltypes attribute, where types and of 4 atoms are provided\n",
        "        and also the corresponding dihedral string (to ease the search in\n",
        "        topology file). All imporpers and Fourier dihedrals are for now\n",
        "        excluded. Thus, only type 1 and 9 are supported.\n",
        "        https://manual.gromacs.org/current/reference-manual/topologies/topology-file-formats.html\n",
        "\n",
        "        NOTE: We also should somehow iterate through difened torsions if they\n",
        "        are present.\n",
        "        \"\"\"\n",
        "        if \"dihedraltypes\" not in self.blocks:\n",
        "            self.dihedraltypes = []\n",
        "        else:\n",
        "            self.dihedraltypes = []\n",
        "            for section in self.blocks[\"dihedraltypes\"]:\n",
        "                for line in section:\n",
        "                    # Skip non-informative lines\n",
        "                    if line.strip().startswith(\";\"):\n",
        "                        continue\n",
        "                    if line.strip().startswith(\"#\"):\n",
        "                        continue\n",
        "                    if not line.strip():\n",
        "                        continue\n",
        "                    if int(line.split()[4]) not in [1, 9]:\n",
        "                        continue\n",
        "                    self.dihedraltypes.append(\n",
        "                        (\n",
        "                            line.split()[0],\n",
        "                            line.split()[1],\n",
        "                            line.split()[2],\n",
        "                            line.split()[3],\n",
        "                            line[:(line.rfind(line.split()[3]) + len(line.split()[3]))].strip()\n",
        "                        )\n",
        "                    )"
      ],
      "metadata": {
        "id": "h-x0GMr6xMgS"
      },
      "execution_count": null,
      "outputs": []
    },
    {
      "cell_type": "code",
      "source": [
        "#@title Provide topologies data\n",
        "#@markdown If parameterisation is needed, all included molecules will be\n",
        "#@markdown parameterized with open force field. If not, for all\n",
        "is_parameterisation_needed = True #@param {type:\"boolean\"}\n",
        "included_mols = [m for m,i in zip(mols, incl) if i]\n",
        "included_svgs = [s for s,i in zip(svgs, incl) if i]\n",
        "for i, s in enumerate(included_svgs):\n",
        "    print(f\"This is Molecule {i}\")\n",
        "    display(SVG(svgs[i]))\n",
        "\n",
        "parameters_for_molecule_0 = \"\" #@param {type:\"string\"}\n",
        "parameters_for_molecule_1 = \"\" #@param {type:\"string\"}\n",
        "parameters_for_molecule_2 = \"\" #@param {type:\"string\"}\n",
        "parameters_for_molecule_3 = \"\" #@param {type:\"string\"}\n",
        "parameters_for_molecule_4 = \"\" #@param {type:\"string\"}"
      ],
      "metadata": {
        "colab": {
          "base_uri": "https://localhost:8080/",
          "height": 464
        },
        "id": "dugAhjr3ex7W",
        "outputId": "cd8a07b4-a286-4dc3-bcf1-da5ee3de28a3"
      },
      "execution_count": null,
      "outputs": [
        {
          "output_type": "stream",
          "name": "stdout",
          "text": [
            "This is Molecule 0\n"
          ]
        },
        {
          "output_type": "display_data",
          "data": {
            "text/plain": [
              "<IPython.core.display.SVG object>"
            ],
            "image/svg+xml": "<svg xmlns=\"http://www.w3.org/2000/svg\" xmlns:rdkit=\"http://www.rdkit.org/xml\" xmlns:xlink=\"http://www.w3.org/1999/xlink\" version=\"1.1\" baseProfile=\"full\" xml:space=\"preserve\" width=\"250px\" height=\"200px\" viewBox=\"0 0 250 200\">\n<!-- END OF HEADER -->\n<rect style=\"opacity:1.0;fill:#FFFFFF;stroke:none\" width=\"250.0\" height=\"200.0\" x=\"0.0\" y=\"0.0\"> </rect>\n<path class=\"bond-0 atom-0 atom-1\" d=\"M 166.3,106.4 L 142.2,99.2\" style=\"fill:none;fill-rule:evenodd;stroke:#0000FF;stroke-width:2.0px;stroke-linecap:butt;stroke-linejoin:miter;stroke-opacity:1\"/>\n<path class=\"bond-0 atom-0 atom-1\" d=\"M 142.2,99.2 L 118.2,92.1\" style=\"fill:none;fill-rule:evenodd;stroke:#000000;stroke-width:2.0px;stroke-linecap:butt;stroke-linejoin:miter;stroke-opacity:1\"/>\n<path class=\"bond-1 atom-1 atom-2\" d=\"M 123.0,93.5 L 117.2,69.0\" style=\"fill:none;fill-rule:evenodd;stroke:#000000;stroke-width:2.0px;stroke-linecap:butt;stroke-linejoin:miter;stroke-opacity:1\"/>\n<path class=\"bond-1 atom-1 atom-2\" d=\"M 117.2,69.0 L 111.3,44.4\" style=\"fill:none;fill-rule:evenodd;stroke:#FF0000;stroke-width:2.0px;stroke-linecap:butt;stroke-linejoin:miter;stroke-opacity:1\"/>\n<path class=\"bond-1 atom-1 atom-2\" d=\"M 114.5,95.6 L 108.6,71.0\" style=\"fill:none;fill-rule:evenodd;stroke:#000000;stroke-width:2.0px;stroke-linecap:butt;stroke-linejoin:miter;stroke-opacity:1\"/>\n<path class=\"bond-1 atom-1 atom-2\" d=\"M 108.6,71.0 L 102.7,46.5\" style=\"fill:none;fill-rule:evenodd;stroke:#FF0000;stroke-width:2.0px;stroke-linecap:butt;stroke-linejoin:miter;stroke-opacity:1\"/>\n<path class=\"bond-2 atom-1 atom-3\" d=\"M 118.2,92.1 L 101.6,107.8\" style=\"fill:none;fill-rule:evenodd;stroke:#000000;stroke-width:2.0px;stroke-linecap:butt;stroke-linejoin:miter;stroke-opacity:1\"/>\n<path class=\"bond-2 atom-1 atom-3\" d=\"M 101.6,107.8 L 85.0,123.5\" style=\"fill:none;fill-rule:evenodd;stroke:#FF0000;stroke-width:2.0px;stroke-linecap:butt;stroke-linejoin:miter;stroke-opacity:1\"/>\n<path class=\"bond-3 atom-0 atom-4\" d=\"M 182.8,111.3 L 202.7,117.2\" style=\"fill:none;fill-rule:evenodd;stroke:#0000FF;stroke-width:2.0px;stroke-linecap:butt;stroke-linejoin:miter;stroke-opacity:1\"/>\n<path class=\"bond-3 atom-0 atom-4\" d=\"M 202.7,117.2 L 222.5,123.1\" style=\"fill:none;fill-rule:evenodd;stroke:#000000;stroke-width:2.0px;stroke-linecap:butt;stroke-linejoin:miter;stroke-opacity:1\"/>\n<path class=\"bond-4 atom-0 atom-5\" d=\"M 171.5,119.1 L 166.2,137.1\" style=\"fill:none;fill-rule:evenodd;stroke:#0000FF;stroke-width:2.0px;stroke-linecap:butt;stroke-linejoin:miter;stroke-opacity:1\"/>\n<path class=\"bond-4 atom-0 atom-5\" d=\"M 166.2,137.1 L 160.9,155.0\" style=\"fill:none;fill-rule:evenodd;stroke:#000000;stroke-width:2.0px;stroke-linecap:butt;stroke-linejoin:miter;stroke-opacity:1\"/>\n<path class=\"bond-5 atom-0 atom-6\" d=\"M 177.6,98.6 L 183.0,80.6\" style=\"fill:none;fill-rule:evenodd;stroke:#0000FF;stroke-width:2.0px;stroke-linecap:butt;stroke-linejoin:miter;stroke-opacity:1\"/>\n<path class=\"bond-5 atom-0 atom-6\" d=\"M 183.0,80.6 L 188.3,62.7\" style=\"fill:none;fill-rule:evenodd;stroke:#000000;stroke-width:2.0px;stroke-linecap:butt;stroke-linejoin:miter;stroke-opacity:1\"/>\n<path class=\"bond-6 atom-3 atom-7\" d=\"M 65.8,129.7 L 46.7,124.0\" style=\"fill:none;fill-rule:evenodd;stroke:#FF0000;stroke-width:2.0px;stroke-linecap:butt;stroke-linejoin:miter;stroke-opacity:1\"/>\n<path class=\"bond-6 atom-3 atom-7\" d=\"M 46.7,124.0 L 27.5,118.3\" style=\"fill:none;fill-rule:evenodd;stroke:#000000;stroke-width:2.0px;stroke-linecap:butt;stroke-linejoin:miter;stroke-opacity:1\"/>\n<path d=\"M 119.4,92.4 L 118.2,92.1 L 117.3,92.9\" style=\"fill:none;stroke:#000000;stroke-width:2.0px;stroke-linecap:butt;stroke-linejoin:miter;stroke-opacity:1;\"/>\n<path class=\"atom-0\" d=\"M 170.9 100.5 L 176.3 109.3 Q 176.9 110.2, 177.8 111.8 Q 178.6 113.4, 178.7 113.5 L 178.7 100.5 L 180.9 100.5 L 180.9 117.2 L 178.6 117.2 L 172.7 107.5 Q 172.1 106.4, 171.3 105.1 Q 170.6 103.8, 170.4 103.4 L 170.4 117.2 L 168.2 117.2 L 168.2 100.5 L 170.9 100.5 \" fill=\"#0000FF\"/>\n<path class=\"atom-0\" d=\"M 184.0 103.5 L 187.0 103.5 L 187.0 100.4 L 188.3 100.4 L 188.3 103.5 L 191.3 103.5 L 191.3 104.6 L 188.3 104.6 L 188.3 107.7 L 187.0 107.7 L 187.0 104.6 L 184.0 104.6 L 184.0 103.5 \" fill=\"#0000FF\"/>\n<path class=\"atom-2\" d=\"M 96.8 34.9 Q 96.8 30.9, 98.8 28.6 Q 100.8 26.4, 104.5 26.4 Q 108.2 26.4, 110.2 28.6 Q 112.1 30.9, 112.1 34.9 Q 112.1 38.9, 110.1 41.2 Q 108.1 43.5, 104.5 43.5 Q 100.8 43.5, 98.8 41.2 Q 96.8 39.0, 96.8 34.9 M 104.5 41.6 Q 107.0 41.6, 108.4 39.9 Q 109.8 38.2, 109.8 34.9 Q 109.8 31.6, 108.4 30.0 Q 107.0 28.3, 104.5 28.3 Q 101.9 28.3, 100.5 29.9 Q 99.2 31.6, 99.2 34.9 Q 99.2 38.3, 100.5 39.9 Q 101.9 41.6, 104.5 41.6 \" fill=\"#FF0000\"/>\n<path class=\"atom-3\" d=\"M 67.8 132.6 Q 67.8 128.6, 69.8 126.4 Q 71.7 124.1, 75.4 124.1 Q 79.1 124.1, 81.1 126.4 Q 83.1 128.6, 83.1 132.6 Q 83.1 136.6, 81.1 138.9 Q 79.1 141.2, 75.4 141.2 Q 71.8 141.2, 69.8 138.9 Q 67.8 136.7, 67.8 132.6 M 75.4 139.3 Q 78.0 139.3, 79.3 137.6 Q 80.7 135.9, 80.7 132.6 Q 80.7 129.3, 79.3 127.7 Q 78.0 126.0, 75.4 126.0 Q 72.9 126.0, 71.5 127.6 Q 70.1 129.3, 70.1 132.6 Q 70.1 136.0, 71.5 137.6 Q 72.9 139.3, 75.4 139.3 \" fill=\"#FF0000\"/>\n<path class=\"atom-4\" d=\"M 224.5 117.3 L 226.7 117.3 L 226.7 124.4 L 235.2 124.4 L 235.2 117.3 L 237.5 117.3 L 237.5 134.0 L 235.2 134.0 L 235.2 126.3 L 226.7 126.3 L 226.7 134.0 L 224.5 134.0 L 224.5 117.3 \" fill=\"#000000\"/>\n<path class=\"atom-5\" d=\"M 151.3 156.9 L 153.5 156.9 L 153.5 164.0 L 162.1 164.0 L 162.1 156.9 L 164.3 156.9 L 164.3 173.6 L 162.1 173.6 L 162.1 165.9 L 153.5 165.9 L 153.5 173.6 L 151.3 173.6 L 151.3 156.9 \" fill=\"#000000\"/>\n<path class=\"atom-6\" d=\"M 184.8 44.1 L 187.1 44.1 L 187.1 51.2 L 195.6 51.2 L 195.6 44.1 L 197.9 44.1 L 197.9 60.8 L 195.6 60.8 L 195.6 53.1 L 187.1 53.1 L 187.1 60.8 L 184.8 60.8 L 184.8 44.1 \" fill=\"#000000\"/>\n<path class=\"atom-7\" d=\"M 12.5 107.4 L 14.8 107.4 L 14.8 114.5 L 23.3 114.5 L 23.3 107.4 L 25.5 107.4 L 25.5 124.1 L 23.3 124.1 L 23.3 116.4 L 14.8 116.4 L 14.8 124.1 L 12.5 124.1 L 12.5 107.4 \" fill=\"#000000\"/>\n</svg>"
          },
          "metadata": {}
        },
        {
          "output_type": "stream",
          "name": "stdout",
          "text": [
            "This is Molecule 1\n"
          ]
        },
        {
          "output_type": "display_data",
          "data": {
            "text/plain": [
              "<IPython.core.display.SVG object>"
            ],
            "image/svg+xml": "<svg xmlns=\"http://www.w3.org/2000/svg\" xmlns:rdkit=\"http://www.rdkit.org/xml\" xmlns:xlink=\"http://www.w3.org/1999/xlink\" version=\"1.1\" baseProfile=\"full\" xml:space=\"preserve\" width=\"250px\" height=\"200px\" viewBox=\"0 0 250 200\">\n<!-- END OF HEADER -->\n<rect style=\"opacity:1.0;fill:#FFFFFF;stroke:none\" width=\"250.0\" height=\"200.0\" x=\"0.0\" y=\"0.0\"> </rect>\n<path class=\"bond-0 atom-0 atom-1\" d=\"M 134.4,100.0 L 100.5,100.0\" style=\"fill:none;fill-rule:evenodd;stroke:#0000FF;stroke-width:2.0px;stroke-linecap:butt;stroke-linejoin:miter;stroke-opacity:1\"/>\n<path class=\"bond-0 atom-0 atom-1\" d=\"M 100.5,100.0 L 66.6,100.0\" style=\"fill:none;fill-rule:evenodd;stroke:#000000;stroke-width:2.0px;stroke-linecap:butt;stroke-linejoin:miter;stroke-opacity:1\"/>\n<path class=\"bond-1 atom-1 atom-2\" d=\"M 73.5,100.0 L 57.0,71.5\" style=\"fill:none;fill-rule:evenodd;stroke:#000000;stroke-width:2.0px;stroke-linecap:butt;stroke-linejoin:miter;stroke-opacity:1\"/>\n<path class=\"bond-1 atom-1 atom-2\" d=\"M 57.0,71.5 L 40.6,43.0\" style=\"fill:none;fill-rule:evenodd;stroke:#FF0000;stroke-width:2.0px;stroke-linecap:butt;stroke-linejoin:miter;stroke-opacity:1\"/>\n<path class=\"bond-1 atom-1 atom-2\" d=\"M 63.2,105.9 L 46.8,77.4\" style=\"fill:none;fill-rule:evenodd;stroke:#000000;stroke-width:2.0px;stroke-linecap:butt;stroke-linejoin:miter;stroke-opacity:1\"/>\n<path class=\"bond-1 atom-1 atom-2\" d=\"M 46.8,77.4 L 30.3,48.9\" style=\"fill:none;fill-rule:evenodd;stroke:#FF0000;stroke-width:2.0px;stroke-linecap:butt;stroke-linejoin:miter;stroke-opacity:1\"/>\n<path class=\"bond-2 atom-1 atom-3\" d=\"M 66.6,100.0 L 50.9,127.2\" style=\"fill:none;fill-rule:evenodd;stroke:#000000;stroke-width:2.0px;stroke-linecap:butt;stroke-linejoin:miter;stroke-opacity:1\"/>\n<path class=\"bond-2 atom-1 atom-3\" d=\"M 50.9,127.2 L 35.2,154.4\" style=\"fill:none;fill-rule:evenodd;stroke:#FF0000;stroke-width:2.0px;stroke-linecap:butt;stroke-linejoin:miter;stroke-opacity:1\"/>\n<path class=\"bond-3 atom-0 atom-4\" d=\"M 170.5,100.0 L 191.7,100.0\" style=\"fill:none;fill-rule:evenodd;stroke:#0000FF;stroke-width:2.0px;stroke-linecap:butt;stroke-linejoin:miter;stroke-opacity:1\"/>\n<path class=\"bond-3 atom-0 atom-4\" d=\"M 191.7,100.0 L 213.0,100.0\" style=\"fill:none;fill-rule:evenodd;stroke:#000000;stroke-width:2.0px;stroke-linecap:butt;stroke-linejoin:miter;stroke-opacity:1\"/>\n<path class=\"bond-4 atom-0 atom-5\" d=\"M 145.5,113.8 L 145.5,139.4\" style=\"fill:none;fill-rule:evenodd;stroke:#0000FF;stroke-width:2.0px;stroke-linecap:butt;stroke-linejoin:miter;stroke-opacity:1\"/>\n<path class=\"bond-4 atom-0 atom-5\" d=\"M 145.5,139.4 L 145.5,165.1\" style=\"fill:none;fill-rule:evenodd;stroke:#000000;stroke-width:2.0px;stroke-linecap:butt;stroke-linejoin:miter;stroke-opacity:1\"/>\n<path class=\"bond-5 atom-0 atom-6\" d=\"M 145.5,86.2 L 145.5,60.6\" style=\"fill:none;fill-rule:evenodd;stroke:#0000FF;stroke-width:2.0px;stroke-linecap:butt;stroke-linejoin:miter;stroke-opacity:1\"/>\n<path class=\"bond-5 atom-0 atom-6\" d=\"M 145.5,60.6 L 145.5,34.9\" style=\"fill:none;fill-rule:evenodd;stroke:#000000;stroke-width:2.0px;stroke-linecap:butt;stroke-linejoin:miter;stroke-opacity:1\"/>\n<path d=\"M 68.3,100.0 L 66.6,100.0 L 65.8,101.4\" style=\"fill:none;stroke:#000000;stroke-width:2.0px;stroke-linecap:butt;stroke-linejoin:miter;stroke-opacity:1;\"/>\n<path class=\"atom-0\" d=\"M 140.5 88.8 L 147.8 100.7 Q 148.6 101.8, 149.7 103.9 Q 150.9 106.1, 151.0 106.2 L 151.0 88.8 L 153.9 88.8 L 153.9 111.2 L 150.9 111.2 L 143.0 98.2 Q 142.1 96.7, 141.1 95.0 Q 140.2 93.3, 139.9 92.7 L 139.9 111.2 L 137.0 111.2 L 137.0 88.8 L 140.5 88.8 \" fill=\"#0000FF\"/>\n<path class=\"atom-0\" d=\"M 158.1 92.9 L 162.1 92.9 L 162.1 88.7 L 163.8 88.7 L 163.8 92.9 L 167.9 92.9 L 167.9 94.4 L 163.8 94.4 L 163.8 98.5 L 162.1 98.5 L 162.1 94.4 L 158.1 94.4 L 158.1 92.9 \" fill=\"#0000FF\"/>\n<path class=\"atom-2\" d=\"M 17.0 31.8 Q 17.0 26.4, 19.6 23.4 Q 22.3 20.4, 27.2 20.4 Q 32.2 20.4, 34.8 23.4 Q 37.5 26.4, 37.5 31.8 Q 37.5 37.2, 34.8 40.3 Q 32.1 43.4, 27.2 43.4 Q 22.3 43.4, 19.6 40.3 Q 17.0 37.2, 17.0 31.8 M 27.2 40.8 Q 30.6 40.8, 32.4 38.6 Q 34.3 36.3, 34.3 31.8 Q 34.3 27.4, 32.4 25.2 Q 30.6 23.0, 27.2 23.0 Q 23.8 23.0, 21.9 25.2 Q 20.1 27.4, 20.1 31.8 Q 20.1 36.3, 21.9 38.6 Q 23.8 40.8, 27.2 40.8 \" fill=\"#FF0000\"/>\n<path class=\"atom-3\" d=\"M 17.0 168.3 Q 17.0 163.0, 19.6 160.0 Q 22.3 157.0, 27.2 157.0 Q 32.2 157.0, 34.8 160.0 Q 37.5 163.0, 37.5 168.3 Q 37.5 173.8, 34.8 176.9 Q 32.1 179.9, 27.2 179.9 Q 22.3 179.9, 19.6 176.9 Q 17.0 173.8, 17.0 168.3 M 27.2 177.4 Q 30.6 177.4, 32.4 175.1 Q 34.3 172.8, 34.3 168.3 Q 34.3 164.0, 32.4 161.7 Q 30.6 159.5, 27.2 159.5 Q 23.8 159.5, 21.9 161.7 Q 20.1 163.9, 20.1 168.3 Q 20.1 172.8, 21.9 175.1 Q 23.8 177.4, 27.2 177.4 \" fill=\"#FF0000\"/>\n<path class=\"atom-3\" d=\"M 40.6 160.6 L 48.3 160.6 L 48.3 162.3 L 40.6 162.3 L 40.6 160.6 \" fill=\"#FF0000\"/>\n<path class=\"atom-4\" d=\"M 215.6 88.8 L 218.6 88.8 L 218.6 98.3 L 230.0 98.3 L 230.0 88.8 L 233.0 88.8 L 233.0 111.2 L 230.0 111.2 L 230.0 100.9 L 218.6 100.9 L 218.6 111.2 L 215.6 111.2 L 215.6 88.8 \" fill=\"#000000\"/>\n<path class=\"atom-5\" d=\"M 136.7 167.7 L 139.8 167.7 L 139.8 177.2 L 151.2 177.2 L 151.2 167.7 L 154.2 167.7 L 154.2 190.0 L 151.2 190.0 L 151.2 179.7 L 139.8 179.7 L 139.8 190.0 L 136.7 190.0 L 136.7 167.7 \" fill=\"#000000\"/>\n<path class=\"atom-6\" d=\"M 136.7 10.0 L 139.8 10.0 L 139.8 19.5 L 151.2 19.5 L 151.2 10.0 L 154.2 10.0 L 154.2 32.3 L 151.2 32.3 L 151.2 22.0 L 139.8 22.0 L 139.8 32.3 L 136.7 32.3 L 136.7 10.0 \" fill=\"#000000\"/>\n</svg>"
          },
          "metadata": {}
        }
      ]
    },
    {
      "cell_type": "code",
      "source": [
        "from openff.interchange import Interchange"
      ],
      "metadata": {
        "id": "5-2RAwueN0DQ"
      },
      "execution_count": null,
      "outputs": []
    },
    {
      "cell_type": "code",
      "source": [
        "inter = Interchange.from_smirnoff(force_field=ff, topology=top)"
      ],
      "metadata": {
        "id": "jarT_qXWN76B"
      },
      "execution_count": null,
      "outputs": []
    },
    {
      "cell_type": "code",
      "source": [
        "inter.to_top(\"test.top\")"
      ],
      "metadata": {
        "id": "3lfNtlY_Oq6T"
      },
      "execution_count": null,
      "outputs": []
    },
    {
      "cell_type": "code",
      "source": [],
      "metadata": {
        "id": "61TBk7goN61o"
      },
      "execution_count": null,
      "outputs": []
    },
    {
      "cell_type": "code",
      "source": [],
      "metadata": {
        "id": "4PyU1Va5MXJK"
      },
      "execution_count": null,
      "outputs": []
    }
  ]
}