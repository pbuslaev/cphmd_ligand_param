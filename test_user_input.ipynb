{
  "nbformat": 4,
  "nbformat_minor": 0,
  "metadata": {
    "colab": {
      "provenance": [],
      "include_colab_link": true
    },
    "kernelspec": {
      "name": "python3",
      "display_name": "Python 3"
    },
    "language_info": {
      "name": "python"
    }
  },
  "cells": [
    {
      "cell_type": "markdown",
      "metadata": {
        "id": "view-in-github",
        "colab_type": "text"
      },
      "source": [
        "<a href=\"https://colab.research.google.com/github/pbuslaev/test_ipynb/blob/main/test_user_input.ipynb\" target=\"_parent\"><img src=\"https://colab.research.google.com/assets/colab-badge.svg\" alt=\"Open In Colab\"/></a>"
      ]
    },
    {
      "cell_type": "markdown",
      "metadata": {
        "id": "06409e3b"
      },
      "source": [
        "### This notebook has to be run on Google colab"
      ]
    },
    {
      "cell_type": "markdown",
      "metadata": {
        "id": "8818275f"
      },
      "source": [
        "<a target=\"_blank\" href=\"https://colab.research.google.com/github/pbuslaev/test_ipynb/blob/main/test_user_input.ipynb\">\n",
        "  <img src=\"https://colab.research.google.com/assets/colab-badge.svg\" alt=\"Open In Colab\"/>\n",
        "</a>"
      ]
    },
    {
      "cell_type": "code",
      "execution_count": 1,
      "metadata": {
        "id": "tXHVawUbd_yp",
        "cellView": "form"
      },
      "outputs": [],
      "source": [
        "#@title Conda installation\n",
        "%%capture\n",
        "!pip install -q condacolab\n",
        "import condacolab\n",
        "condacolab.install()"
      ]
    },
    {
      "cell_type": "code",
      "source": [
        "#@title Intall packages\n",
        "%%capture\n",
        "!pip install dimorphite_dl --upgrade\n",
        "!mamba install -c conda-forge rdkit sympy openff-toolkit"
      ],
      "metadata": {
        "id": "HApR6x6ptwjO",
        "cellView": "form"
      },
      "execution_count": 2,
      "outputs": []
    },
    {
      "cell_type": "code",
      "source": [
        "#@title Import packages\n",
        "from rdkit import Chem\n",
        "from rdkit.Chem import AllChem\n",
        "from rdkit.Chem import Draw\n",
        "from rdkit.Chem.Draw import rdMolDraw2D\n",
        "from rdkit.Chem.Draw import IPythonConsole\n",
        "IPythonConsole.molSize = 300,300\n",
        "from IPython.display import SVG\n",
        "from dimorphite_dl import DimorphiteDL\n",
        "\n",
        "from openff.toolkit import Molecule, Topology, ForceField\n",
        "\n",
        "from IPython.display import HTML, display\n",
        "\n",
        "def set_css():\n",
        "  display(HTML('''\n",
        "  <style>\n",
        "    pre {\n",
        "        white-space: pre-wrap;\n",
        "    }\n",
        "  </style>\n",
        "  '''))\n",
        "  get_ipython().events.register('pre_run_cell', set_css)"
      ],
      "metadata": {
        "id": "9F1Rak-meOlC",
        "cellView": "form"
      },
      "execution_count": 1,
      "outputs": []
    },
    {
      "cell_type": "code",
      "source": [
        "#@title Input molecule\n",
        "#@markdown Please provide molecule SMILES. We will generate its protonation\n",
        "#@markdown states. Also, specify pH range for which to create states.\n",
        "# As a two state example we will use SM-26 from SAMP7 challenge\n",
        "# (https://github.com/samplchallenges/SAMPL7/tree/master/physical_property)\n",
        "# SMILES: O=S(CCC1=CC=CC=C1)(NC(C)=O)=O\n",
        "# pKa = 4.91\n",
        "# (https://github.com/samplchallenges/SAMPL7/blob/master/physical_property/experimental_data/Experimental_Properties_of_SAMPL7_Compounds.pdf)\n",
        "smiles = \"c1ccc(CO)nc1\" #@param {type: \"string\"}\n",
        "min_ph = -10 #@param {type: \"number\"}\n",
        "max_ph = 24 #@param {type: \"number\"}\n",
        "dimorphite_dl = DimorphiteDL(\n",
        "    min_ph=min_ph,\n",
        "    max_ph=max_ph,\n",
        "    max_variants=256,\n",
        "    label_states=False,\n",
        "    pka_precision=0.1\n",
        ")\n",
        "mols = [Chem.MolFromSmiles(mol) for mol in dimorphite_dl.protonate(smiles)]\n",
        "mols = sorted(mols, key = lambda x: Chem.GetFormalCharge(x), reverse=True)\n",
        "# Now mols[0] is the highest protonation state\n",
        "for i, m in enumerate(mols):\n",
        "    print(f\"This is Molecule {i}\")\n",
        "    d2d = rdMolDraw2D.MolDraw2DSVG(250, 200)\n",
        "    d2d.DrawMolecule(m)\n",
        "    d2d.FinishDrawing()\n",
        "    display(SVG(d2d.GetDrawingText()))"
      ],
      "metadata": {
        "colab": {
          "base_uri": "https://localhost:8080/",
          "height": 910
        },
        "id": "HxjpTW0CkrDS",
        "outputId": "7076ab5f-520c-44eb-ae4e-cedd73151aec"
      },
      "execution_count": 74,
      "outputs": [
        {
          "output_type": "stream",
          "name": "stdout",
          "text": [
            "This is Molecule 0\n"
          ]
        },
        {
          "output_type": "display_data",
          "data": {
            "text/plain": [
              "<IPython.core.display.SVG object>"
            ],
            "image/svg+xml": "<svg xmlns=\"http://www.w3.org/2000/svg\" xmlns:rdkit=\"http://www.rdkit.org/xml\" xmlns:xlink=\"http://www.w3.org/1999/xlink\" version=\"1.1\" baseProfile=\"full\" xml:space=\"preserve\" width=\"250px\" height=\"200px\" viewBox=\"0 0 250 200\">\n<!-- END OF HEADER -->\n<rect style=\"opacity:1.0;fill:#FFFFFF;stroke:none\" width=\"250.0\" height=\"200.0\" x=\"0.0\" y=\"0.0\"> </rect>\n<path class=\"bond-0 atom-0 atom-1\" d=\"M 44.6,80.7 L 59.0,96.3\" style=\"fill:none;fill-rule:evenodd;stroke:#FF0000;stroke-width:2.0px;stroke-linecap:butt;stroke-linejoin:miter;stroke-opacity:1\"/>\n<path class=\"bond-0 atom-0 atom-1\" d=\"M 59.0,96.3 L 73.5,112.0\" style=\"fill:none;fill-rule:evenodd;stroke:#000000;stroke-width:2.0px;stroke-linecap:butt;stroke-linejoin:miter;stroke-opacity:1\"/>\n<path class=\"bond-1 atom-1 atom-2\" d=\"M 73.5,112.0 L 128.2,99.6\" style=\"fill:none;fill-rule:evenodd;stroke:#000000;stroke-width:2.0px;stroke-linecap:butt;stroke-linejoin:miter;stroke-opacity:1\"/>\n<path class=\"bond-2 atom-2 atom-3\" d=\"M 128.2,99.6 L 144.8,46.1\" style=\"fill:none;fill-rule:evenodd;stroke:#000000;stroke-width:2.0px;stroke-linecap:butt;stroke-linejoin:miter;stroke-opacity:1\"/>\n<path class=\"bond-2 atom-2 atom-3\" d=\"M 137.6,97.5 L 151.4,53.3\" style=\"fill:none;fill-rule:evenodd;stroke:#000000;stroke-width:2.0px;stroke-linecap:butt;stroke-linejoin:miter;stroke-opacity:1\"/>\n<path class=\"bond-3 atom-3 atom-4\" d=\"M 144.8,46.1 L 199.5,33.8\" style=\"fill:none;fill-rule:evenodd;stroke:#000000;stroke-width:2.0px;stroke-linecap:butt;stroke-linejoin:miter;stroke-opacity:1\"/>\n<path class=\"bond-4 atom-4 atom-5\" d=\"M 199.5,33.8 L 237.5,75.0\" style=\"fill:none;fill-rule:evenodd;stroke:#000000;stroke-width:2.0px;stroke-linecap:butt;stroke-linejoin:miter;stroke-opacity:1\"/>\n<path class=\"bond-4 atom-4 atom-5\" d=\"M 196.6,43.1 L 228.0,77.1\" style=\"fill:none;fill-rule:evenodd;stroke:#000000;stroke-width:2.0px;stroke-linecap:butt;stroke-linejoin:miter;stroke-opacity:1\"/>\n<path class=\"bond-5 atom-5 atom-6\" d=\"M 237.5,75.0 L 220.8,128.5\" style=\"fill:none;fill-rule:evenodd;stroke:#000000;stroke-width:2.0px;stroke-linecap:butt;stroke-linejoin:miter;stroke-opacity:1\"/>\n<path class=\"bond-6 atom-6 atom-7\" d=\"M 220.8,128.5 L 202.4,132.6\" style=\"fill:none;fill-rule:evenodd;stroke:#000000;stroke-width:2.0px;stroke-linecap:butt;stroke-linejoin:miter;stroke-opacity:1\"/>\n<path class=\"bond-6 atom-6 atom-7\" d=\"M 202.4,132.6 L 183.9,136.8\" style=\"fill:none;fill-rule:evenodd;stroke:#0000FF;stroke-width:2.0px;stroke-linecap:butt;stroke-linejoin:miter;stroke-opacity:1\"/>\n<path class=\"bond-6 atom-6 atom-7\" d=\"M 214.3,121.4 L 198.2,125.0\" style=\"fill:none;fill-rule:evenodd;stroke:#000000;stroke-width:2.0px;stroke-linecap:butt;stroke-linejoin:miter;stroke-opacity:1\"/>\n<path class=\"bond-6 atom-6 atom-7\" d=\"M 198.2,125.0 L 182.1,128.6\" style=\"fill:none;fill-rule:evenodd;stroke:#0000FF;stroke-width:2.0px;stroke-linecap:butt;stroke-linejoin:miter;stroke-opacity:1\"/>\n<path class=\"bond-7 atom-7 atom-2\" d=\"M 158.3,132.3 L 143.2,116.0\" style=\"fill:none;fill-rule:evenodd;stroke:#0000FF;stroke-width:2.0px;stroke-linecap:butt;stroke-linejoin:miter;stroke-opacity:1\"/>\n<path class=\"bond-7 atom-7 atom-2\" d=\"M 143.2,116.0 L 128.2,99.6\" style=\"fill:none;fill-rule:evenodd;stroke:#000000;stroke-width:2.0px;stroke-linecap:butt;stroke-linejoin:miter;stroke-opacity:1\"/>\n<path d=\"M 72.8,111.2 L 73.5,112.0 L 76.2,111.3\" style=\"fill:none;stroke:#000000;stroke-width:2.0px;stroke-linecap:butt;stroke-linejoin:miter;stroke-opacity:1;\"/>\n<path d=\"M 144.0,48.8 L 144.8,46.1 L 147.5,45.5\" style=\"fill:none;stroke:#000000;stroke-width:2.0px;stroke-linecap:butt;stroke-linejoin:miter;stroke-opacity:1;\"/>\n<path d=\"M 196.8,34.4 L 199.5,33.8 L 201.4,35.8\" style=\"fill:none;stroke:#000000;stroke-width:2.0px;stroke-linecap:butt;stroke-linejoin:miter;stroke-opacity:1;\"/>\n<path d=\"M 235.6,72.9 L 237.5,75.0 L 236.7,77.6\" style=\"fill:none;stroke:#000000;stroke-width:2.0px;stroke-linecap:butt;stroke-linejoin:miter;stroke-opacity:1;\"/>\n<path d=\"M 221.7,125.8 L 220.8,128.5 L 219.9,128.7\" style=\"fill:none;stroke:#000000;stroke-width:2.0px;stroke-linecap:butt;stroke-linejoin:miter;stroke-opacity:1;\"/>\n<path class=\"atom-0\" d=\"M 12.5 62.9 L 14.7 62.9 L 14.7 69.7 L 22.8 69.7 L 22.8 62.9 L 24.9 62.9 L 24.9 78.8 L 22.8 78.8 L 22.8 71.5 L 14.7 71.5 L 14.7 78.8 L 12.5 78.8 L 12.5 62.9 \" fill=\"#FF0000\"/>\n<path class=\"atom-0\" d=\"M 28.2 70.8 Q 28.2 67.0, 30.1 64.9 Q 31.9 62.7, 35.5 62.7 Q 39.0 62.7, 40.9 64.9 Q 42.7 67.0, 42.7 70.8 Q 42.7 74.7, 40.8 76.9 Q 38.9 79.0, 35.5 79.0 Q 32.0 79.0, 30.1 76.9 Q 28.2 74.7, 28.2 70.8 M 35.5 77.3 Q 37.9 77.3, 39.2 75.6 Q 40.5 74.0, 40.5 70.8 Q 40.5 67.7, 39.2 66.1 Q 37.9 64.5, 35.5 64.5 Q 33.0 64.5, 31.7 66.1 Q 30.4 67.7, 30.4 70.8 Q 30.4 74.0, 31.7 75.6 Q 33.0 77.3, 35.5 77.3 \" fill=\"#FF0000\"/>\n<path class=\"atom-7\" d=\"M 162.7 132.9 L 167.9 141.3 Q 168.4 142.1, 169.2 143.6 Q 170.0 145.1, 170.1 145.2 L 170.1 132.9 L 172.2 132.9 L 172.2 148.8 L 170.0 148.8 L 164.4 139.6 Q 163.8 138.5, 163.1 137.3 Q 162.4 136.0, 162.2 135.6 L 162.2 148.8 L 160.1 148.8 L 160.1 132.9 L 162.7 132.9 \" fill=\"#0000FF\"/>\n<path class=\"atom-7\" d=\"M 175.2 135.7 L 178.0 135.7 L 178.0 132.8 L 179.2 132.8 L 179.2 135.7 L 182.1 135.7 L 182.1 136.8 L 179.2 136.8 L 179.2 139.8 L 178.0 139.8 L 178.0 136.8 L 175.2 136.8 L 175.2 135.7 \" fill=\"#0000FF\"/>\n<path class=\"atom-7\" d=\"M 160.0 150.3 L 162.1 150.3 L 162.1 157.1 L 170.2 157.1 L 170.2 150.3 L 172.4 150.3 L 172.4 166.2 L 170.2 166.2 L 170.2 158.9 L 162.1 158.9 L 162.1 166.2 L 160.0 166.2 L 160.0 150.3 \" fill=\"#0000FF\"/>\n</svg>"
          },
          "metadata": {}
        },
        {
          "output_type": "stream",
          "name": "stdout",
          "text": [
            "This is Molecule 1\n"
          ]
        },
        {
          "output_type": "display_data",
          "data": {
            "text/plain": [
              "<IPython.core.display.SVG object>"
            ],
            "image/svg+xml": "<svg xmlns=\"http://www.w3.org/2000/svg\" xmlns:rdkit=\"http://www.rdkit.org/xml\" xmlns:xlink=\"http://www.w3.org/1999/xlink\" version=\"1.1\" baseProfile=\"full\" xml:space=\"preserve\" width=\"250px\" height=\"200px\" viewBox=\"0 0 250 200\">\n<!-- END OF HEADER -->\n<rect style=\"opacity:1.0;fill:#FFFFFF;stroke:none\" width=\"250.0\" height=\"200.0\" x=\"0.0\" y=\"0.0\"> </rect>\n<path class=\"bond-0 atom-0 atom-1\" d=\"M 30.2,79.2 L 45.7,96.0\" style=\"fill:none;fill-rule:evenodd;stroke:#FF0000;stroke-width:2.0px;stroke-linecap:butt;stroke-linejoin:miter;stroke-opacity:1\"/>\n<path class=\"bond-0 atom-0 atom-1\" d=\"M 45.7,96.0 L 61.2,112.9\" style=\"fill:none;fill-rule:evenodd;stroke:#000000;stroke-width:2.0px;stroke-linecap:butt;stroke-linejoin:miter;stroke-opacity:1\"/>\n<path class=\"bond-1 atom-1 atom-2\" d=\"M 61.2,112.9 L 120.0,99.6\" style=\"fill:none;fill-rule:evenodd;stroke:#000000;stroke-width:2.0px;stroke-linecap:butt;stroke-linejoin:miter;stroke-opacity:1\"/>\n<path class=\"bond-2 atom-2 atom-3\" d=\"M 120.0,99.6 L 137.9,42.1\" style=\"fill:none;fill-rule:evenodd;stroke:#000000;stroke-width:2.0px;stroke-linecap:butt;stroke-linejoin:miter;stroke-opacity:1\"/>\n<path class=\"bond-2 atom-2 atom-3\" d=\"M 130.1,97.3 L 144.9,49.7\" style=\"fill:none;fill-rule:evenodd;stroke:#000000;stroke-width:2.0px;stroke-linecap:butt;stroke-linejoin:miter;stroke-opacity:1\"/>\n<path class=\"bond-3 atom-3 atom-4\" d=\"M 137.9,42.1 L 196.6,28.8\" style=\"fill:none;fill-rule:evenodd;stroke:#000000;stroke-width:2.0px;stroke-linecap:butt;stroke-linejoin:miter;stroke-opacity:1\"/>\n<path class=\"bond-4 atom-4 atom-5\" d=\"M 196.6,28.8 L 237.5,73.1\" style=\"fill:none;fill-rule:evenodd;stroke:#000000;stroke-width:2.0px;stroke-linecap:butt;stroke-linejoin:miter;stroke-opacity:1\"/>\n<path class=\"bond-4 atom-4 atom-5\" d=\"M 193.5,38.8 L 227.3,75.4\" style=\"fill:none;fill-rule:evenodd;stroke:#000000;stroke-width:2.0px;stroke-linecap:butt;stroke-linejoin:miter;stroke-opacity:1\"/>\n<path class=\"bond-5 atom-5 atom-6\" d=\"M 237.5,73.1 L 219.6,130.6\" style=\"fill:none;fill-rule:evenodd;stroke:#000000;stroke-width:2.0px;stroke-linecap:butt;stroke-linejoin:miter;stroke-opacity:1\"/>\n<path class=\"bond-6 atom-6 atom-7\" d=\"M 219.6,130.6 L 199.8,135.1\" style=\"fill:none;fill-rule:evenodd;stroke:#000000;stroke-width:2.0px;stroke-linecap:butt;stroke-linejoin:miter;stroke-opacity:1\"/>\n<path class=\"bond-6 atom-6 atom-7\" d=\"M 199.8,135.1 L 179.9,139.6\" style=\"fill:none;fill-rule:evenodd;stroke:#0000FF;stroke-width:2.0px;stroke-linecap:butt;stroke-linejoin:miter;stroke-opacity:1\"/>\n<path class=\"bond-6 atom-6 atom-7\" d=\"M 212.5,123.0 L 195.2,126.9\" style=\"fill:none;fill-rule:evenodd;stroke:#000000;stroke-width:2.0px;stroke-linecap:butt;stroke-linejoin:miter;stroke-opacity:1\"/>\n<path class=\"bond-6 atom-6 atom-7\" d=\"M 195.2,126.9 L 177.9,130.8\" style=\"fill:none;fill-rule:evenodd;stroke:#0000FF;stroke-width:2.0px;stroke-linecap:butt;stroke-linejoin:miter;stroke-opacity:1\"/>\n<path class=\"bond-7 atom-7 atom-2\" d=\"M 152.4,134.7 L 136.2,117.2\" style=\"fill:none;fill-rule:evenodd;stroke:#0000FF;stroke-width:2.0px;stroke-linecap:butt;stroke-linejoin:miter;stroke-opacity:1\"/>\n<path class=\"bond-7 atom-7 atom-2\" d=\"M 136.2,117.2 L 120.0,99.6\" style=\"fill:none;fill-rule:evenodd;stroke:#000000;stroke-width:2.0px;stroke-linecap:butt;stroke-linejoin:miter;stroke-opacity:1\"/>\n<path d=\"M 60.4,112.0 L 61.2,112.9 L 64.1,112.2\" style=\"fill:none;stroke:#000000;stroke-width:2.0px;stroke-linecap:butt;stroke-linejoin:miter;stroke-opacity:1;\"/>\n<path d=\"M 137.0,45.0 L 137.9,42.1 L 140.8,41.4\" style=\"fill:none;stroke:#000000;stroke-width:2.0px;stroke-linecap:butt;stroke-linejoin:miter;stroke-opacity:1;\"/>\n<path d=\"M 193.7,29.5 L 196.6,28.8 L 198.7,31.0\" style=\"fill:none;stroke:#000000;stroke-width:2.0px;stroke-linecap:butt;stroke-linejoin:miter;stroke-opacity:1;\"/>\n<path d=\"M 235.5,70.9 L 237.5,73.1 L 236.6,76.0\" style=\"fill:none;stroke:#000000;stroke-width:2.0px;stroke-linecap:butt;stroke-linejoin:miter;stroke-opacity:1;\"/>\n<path d=\"M 220.5,127.7 L 219.6,130.6 L 218.6,130.8\" style=\"fill:none;stroke:#000000;stroke-width:2.0px;stroke-linecap:butt;stroke-linejoin:miter;stroke-opacity:1;\"/>\n<path class=\"atom-0\" d=\"M 12.5 68.6 Q 12.5 64.5, 14.5 62.2 Q 16.5 60.0, 20.3 60.0 Q 24.1 60.0, 26.1 62.2 Q 28.2 64.5, 28.2 68.6 Q 28.2 72.8, 26.1 75.1 Q 24.1 77.5, 20.3 77.5 Q 16.6 77.5, 14.5 75.1 Q 12.5 72.8, 12.5 68.6 M 20.3 75.6 Q 22.9 75.6, 24.3 73.8 Q 25.8 72.1, 25.8 68.6 Q 25.8 65.3, 24.3 63.6 Q 22.9 61.9, 20.3 61.9 Q 17.7 61.9, 16.3 63.6 Q 14.9 65.3, 14.9 68.6 Q 14.9 72.1, 16.3 73.8 Q 17.7 75.6, 20.3 75.6 \" fill=\"#FF0000\"/>\n<path class=\"atom-0\" d=\"M 30.6 62.7 L 36.4 62.7 L 36.4 64.0 L 30.6 64.0 L 30.6 62.7 \" fill=\"#FF0000\"/>\n<path class=\"atom-7\" d=\"M 157.1 135.3 L 162.6 144.4 Q 163.2 145.3, 164.1 146.9 Q 165.0 148.5, 165.0 148.6 L 165.0 135.3 L 167.3 135.3 L 167.3 152.4 L 165.0 152.4 L 159.0 142.5 Q 158.3 141.4, 157.5 140.0 Q 156.8 138.7, 156.6 138.3 L 156.6 152.4 L 154.4 152.4 L 154.4 135.3 L 157.1 135.3 \" fill=\"#0000FF\"/>\n<path class=\"atom-7\" d=\"M 170.5 138.4 L 173.5 138.4 L 173.5 135.3 L 174.8 135.3 L 174.8 138.4 L 177.9 138.4 L 177.9 139.6 L 174.8 139.6 L 174.8 142.7 L 173.5 142.7 L 173.5 139.6 L 170.5 139.6 L 170.5 138.4 \" fill=\"#0000FF\"/>\n<path class=\"atom-7\" d=\"M 154.1 154.1 L 156.5 154.1 L 156.5 161.4 L 165.2 161.4 L 165.2 154.1 L 167.5 154.1 L 167.5 171.2 L 165.2 171.2 L 165.2 163.3 L 156.5 163.3 L 156.5 171.2 L 154.1 171.2 L 154.1 154.1 \" fill=\"#0000FF\"/>\n</svg>"
          },
          "metadata": {}
        },
        {
          "output_type": "stream",
          "name": "stdout",
          "text": [
            "This is Molecule 2\n"
          ]
        },
        {
          "output_type": "display_data",
          "data": {
            "text/plain": [
              "<IPython.core.display.SVG object>"
            ],
            "image/svg+xml": "<svg xmlns=\"http://www.w3.org/2000/svg\" xmlns:rdkit=\"http://www.rdkit.org/xml\" xmlns:xlink=\"http://www.w3.org/1999/xlink\" version=\"1.1\" baseProfile=\"full\" xml:space=\"preserve\" width=\"250px\" height=\"200px\" viewBox=\"0 0 250 200\">\n<!-- END OF HEADER -->\n<rect style=\"opacity:1.0;fill:#FFFFFF;stroke:none\" width=\"250.0\" height=\"200.0\" x=\"0.0\" y=\"0.0\"> </rect>\n<path class=\"bond-0 atom-0 atom-1\" d=\"M 44.6,89.4 L 59.0,105.0\" style=\"fill:none;fill-rule:evenodd;stroke:#FF0000;stroke-width:2.0px;stroke-linecap:butt;stroke-linejoin:miter;stroke-opacity:1\"/>\n<path class=\"bond-0 atom-0 atom-1\" d=\"M 59.0,105.0 L 73.5,120.7\" style=\"fill:none;fill-rule:evenodd;stroke:#000000;stroke-width:2.0px;stroke-linecap:butt;stroke-linejoin:miter;stroke-opacity:1\"/>\n<path class=\"bond-1 atom-1 atom-2\" d=\"M 73.5,120.7 L 128.2,108.4\" style=\"fill:none;fill-rule:evenodd;stroke:#000000;stroke-width:2.0px;stroke-linecap:butt;stroke-linejoin:miter;stroke-opacity:1\"/>\n<path class=\"bond-2 atom-2 atom-3\" d=\"M 128.2,108.4 L 144.8,54.8\" style=\"fill:none;fill-rule:evenodd;stroke:#000000;stroke-width:2.0px;stroke-linecap:butt;stroke-linejoin:miter;stroke-opacity:1\"/>\n<path class=\"bond-2 atom-2 atom-3\" d=\"M 137.6,106.2 L 151.4,62.0\" style=\"fill:none;fill-rule:evenodd;stroke:#000000;stroke-width:2.0px;stroke-linecap:butt;stroke-linejoin:miter;stroke-opacity:1\"/>\n<path class=\"bond-3 atom-3 atom-4\" d=\"M 144.8,54.8 L 199.5,42.5\" style=\"fill:none;fill-rule:evenodd;stroke:#000000;stroke-width:2.0px;stroke-linecap:butt;stroke-linejoin:miter;stroke-opacity:1\"/>\n<path class=\"bond-4 atom-4 atom-5\" d=\"M 199.5,42.5 L 237.5,83.7\" style=\"fill:none;fill-rule:evenodd;stroke:#000000;stroke-width:2.0px;stroke-linecap:butt;stroke-linejoin:miter;stroke-opacity:1\"/>\n<path class=\"bond-4 atom-4 atom-5\" d=\"M 196.6,51.8 L 228.0,85.8\" style=\"fill:none;fill-rule:evenodd;stroke:#000000;stroke-width:2.0px;stroke-linecap:butt;stroke-linejoin:miter;stroke-opacity:1\"/>\n<path class=\"bond-5 atom-5 atom-6\" d=\"M 237.5,83.7 L 220.8,137.2\" style=\"fill:none;fill-rule:evenodd;stroke:#000000;stroke-width:2.0px;stroke-linecap:butt;stroke-linejoin:miter;stroke-opacity:1\"/>\n<path class=\"bond-6 atom-6 atom-7\" d=\"M 220.8,137.2 L 197.4,142.5\" style=\"fill:none;fill-rule:evenodd;stroke:#000000;stroke-width:2.0px;stroke-linecap:butt;stroke-linejoin:miter;stroke-opacity:1\"/>\n<path class=\"bond-6 atom-6 atom-7\" d=\"M 197.4,142.5 L 174.0,147.8\" style=\"fill:none;fill-rule:evenodd;stroke:#0000FF;stroke-width:2.0px;stroke-linecap:butt;stroke-linejoin:miter;stroke-opacity:1\"/>\n<path class=\"bond-6 atom-6 atom-7\" d=\"M 214.3,130.1 L 193.2,134.8\" style=\"fill:none;fill-rule:evenodd;stroke:#000000;stroke-width:2.0px;stroke-linecap:butt;stroke-linejoin:miter;stroke-opacity:1\"/>\n<path class=\"bond-6 atom-6 atom-7\" d=\"M 193.2,134.8 L 172.2,139.6\" style=\"fill:none;fill-rule:evenodd;stroke:#0000FF;stroke-width:2.0px;stroke-linecap:butt;stroke-linejoin:miter;stroke-opacity:1\"/>\n<path class=\"bond-7 atom-7 atom-2\" d=\"M 158.3,141.0 L 143.2,124.7\" style=\"fill:none;fill-rule:evenodd;stroke:#0000FF;stroke-width:2.0px;stroke-linecap:butt;stroke-linejoin:miter;stroke-opacity:1\"/>\n<path class=\"bond-7 atom-7 atom-2\" d=\"M 143.2,124.7 L 128.2,108.4\" style=\"fill:none;fill-rule:evenodd;stroke:#000000;stroke-width:2.0px;stroke-linecap:butt;stroke-linejoin:miter;stroke-opacity:1\"/>\n<path d=\"M 72.8,119.9 L 73.5,120.7 L 76.2,120.1\" style=\"fill:none;stroke:#000000;stroke-width:2.0px;stroke-linecap:butt;stroke-linejoin:miter;stroke-opacity:1;\"/>\n<path d=\"M 144.0,57.5 L 144.8,54.8 L 147.5,54.2\" style=\"fill:none;stroke:#000000;stroke-width:2.0px;stroke-linecap:butt;stroke-linejoin:miter;stroke-opacity:1;\"/>\n<path d=\"M 196.8,43.1 L 199.5,42.5 L 201.4,44.6\" style=\"fill:none;stroke:#000000;stroke-width:2.0px;stroke-linecap:butt;stroke-linejoin:miter;stroke-opacity:1;\"/>\n<path d=\"M 235.6,81.6 L 237.5,83.7 L 236.7,86.4\" style=\"fill:none;stroke:#000000;stroke-width:2.0px;stroke-linecap:butt;stroke-linejoin:miter;stroke-opacity:1;\"/>\n<path d=\"M 221.7,134.5 L 220.8,137.2 L 219.7,137.5\" style=\"fill:none;stroke:#000000;stroke-width:2.0px;stroke-linecap:butt;stroke-linejoin:miter;stroke-opacity:1;\"/>\n<path class=\"atom-0\" d=\"M 12.5 71.7 L 14.7 71.7 L 14.7 78.4 L 22.8 78.4 L 22.8 71.7 L 24.9 71.7 L 24.9 87.5 L 22.8 87.5 L 22.8 80.2 L 14.7 80.2 L 14.7 87.5 L 12.5 87.5 L 12.5 71.7 \" fill=\"#FF0000\"/>\n<path class=\"atom-0\" d=\"M 28.2 79.6 Q 28.2 75.7, 30.1 73.6 Q 31.9 71.5, 35.5 71.5 Q 39.0 71.5, 40.9 73.6 Q 42.7 75.7, 42.7 79.6 Q 42.7 83.4, 40.8 85.6 Q 38.9 87.8, 35.5 87.8 Q 32.0 87.8, 30.1 85.6 Q 28.2 83.4, 28.2 79.6 M 35.5 86.0 Q 37.9 86.0, 39.2 84.4 Q 40.5 82.7, 40.5 79.6 Q 40.5 76.4, 39.2 74.9 Q 37.9 73.3, 35.5 73.3 Q 33.0 73.3, 31.7 74.8 Q 30.4 76.4, 30.4 79.6 Q 30.4 82.8, 31.7 84.4 Q 33.0 86.0, 35.5 86.0 \" fill=\"#FF0000\"/>\n<path class=\"atom-7\" d=\"M 162.7 141.6 L 167.9 150.0 Q 168.4 150.8, 169.2 152.3 Q 170.0 153.9, 170.1 153.9 L 170.1 141.6 L 172.2 141.6 L 172.2 157.5 L 170.0 157.5 L 164.4 148.3 Q 163.8 147.2, 163.1 146.0 Q 162.4 144.7, 162.2 144.4 L 162.2 157.5 L 160.1 157.5 L 160.1 141.6 L 162.7 141.6 \" fill=\"#0000FF\"/>\n</svg>"
          },
          "metadata": {}
        },
        {
          "output_type": "stream",
          "name": "stdout",
          "text": [
            "This is Molecule 3\n"
          ]
        },
        {
          "output_type": "display_data",
          "data": {
            "text/plain": [
              "<IPython.core.display.SVG object>"
            ],
            "image/svg+xml": "<svg xmlns=\"http://www.w3.org/2000/svg\" xmlns:rdkit=\"http://www.rdkit.org/xml\" xmlns:xlink=\"http://www.w3.org/1999/xlink\" version=\"1.1\" baseProfile=\"full\" xml:space=\"preserve\" width=\"250px\" height=\"200px\" viewBox=\"0 0 250 200\">\n<!-- END OF HEADER -->\n<rect style=\"opacity:1.0;fill:#FFFFFF;stroke:none\" width=\"250.0\" height=\"200.0\" x=\"0.0\" y=\"0.0\"> </rect>\n<path class=\"bond-0 atom-0 atom-1\" d=\"M 30.2,88.6 L 45.7,105.4\" style=\"fill:none;fill-rule:evenodd;stroke:#FF0000;stroke-width:2.0px;stroke-linecap:butt;stroke-linejoin:miter;stroke-opacity:1\"/>\n<path class=\"bond-0 atom-0 atom-1\" d=\"M 45.7,105.4 L 61.2,122.2\" style=\"fill:none;fill-rule:evenodd;stroke:#000000;stroke-width:2.0px;stroke-linecap:butt;stroke-linejoin:miter;stroke-opacity:1\"/>\n<path class=\"bond-1 atom-1 atom-2\" d=\"M 61.2,122.2 L 120.0,109.0\" style=\"fill:none;fill-rule:evenodd;stroke:#000000;stroke-width:2.0px;stroke-linecap:butt;stroke-linejoin:miter;stroke-opacity:1\"/>\n<path class=\"bond-2 atom-2 atom-3\" d=\"M 120.0,109.0 L 137.9,51.5\" style=\"fill:none;fill-rule:evenodd;stroke:#000000;stroke-width:2.0px;stroke-linecap:butt;stroke-linejoin:miter;stroke-opacity:1\"/>\n<path class=\"bond-2 atom-2 atom-3\" d=\"M 130.1,106.7 L 144.9,59.1\" style=\"fill:none;fill-rule:evenodd;stroke:#000000;stroke-width:2.0px;stroke-linecap:butt;stroke-linejoin:miter;stroke-opacity:1\"/>\n<path class=\"bond-3 atom-3 atom-4\" d=\"M 137.9,51.5 L 196.6,38.2\" style=\"fill:none;fill-rule:evenodd;stroke:#000000;stroke-width:2.0px;stroke-linecap:butt;stroke-linejoin:miter;stroke-opacity:1\"/>\n<path class=\"bond-4 atom-4 atom-5\" d=\"M 196.6,38.2 L 237.5,82.5\" style=\"fill:none;fill-rule:evenodd;stroke:#000000;stroke-width:2.0px;stroke-linecap:butt;stroke-linejoin:miter;stroke-opacity:1\"/>\n<path class=\"bond-4 atom-4 atom-5\" d=\"M 193.5,48.2 L 227.3,84.8\" style=\"fill:none;fill-rule:evenodd;stroke:#000000;stroke-width:2.0px;stroke-linecap:butt;stroke-linejoin:miter;stroke-opacity:1\"/>\n<path class=\"bond-5 atom-5 atom-6\" d=\"M 237.5,82.5 L 219.6,140.0\" style=\"fill:none;fill-rule:evenodd;stroke:#000000;stroke-width:2.0px;stroke-linecap:butt;stroke-linejoin:miter;stroke-opacity:1\"/>\n<path class=\"bond-6 atom-6 atom-7\" d=\"M 219.6,140.0 L 194.4,145.7\" style=\"fill:none;fill-rule:evenodd;stroke:#000000;stroke-width:2.0px;stroke-linecap:butt;stroke-linejoin:miter;stroke-opacity:1\"/>\n<path class=\"bond-6 atom-6 atom-7\" d=\"M 194.4,145.7 L 169.3,151.3\" style=\"fill:none;fill-rule:evenodd;stroke:#0000FF;stroke-width:2.0px;stroke-linecap:butt;stroke-linejoin:miter;stroke-opacity:1\"/>\n<path class=\"bond-6 atom-6 atom-7\" d=\"M 212.5,132.3 L 189.9,137.4\" style=\"fill:none;fill-rule:evenodd;stroke:#000000;stroke-width:2.0px;stroke-linecap:butt;stroke-linejoin:miter;stroke-opacity:1\"/>\n<path class=\"bond-6 atom-6 atom-7\" d=\"M 189.9,137.4 L 167.3,142.5\" style=\"fill:none;fill-rule:evenodd;stroke:#0000FF;stroke-width:2.0px;stroke-linecap:butt;stroke-linejoin:miter;stroke-opacity:1\"/>\n<path class=\"bond-7 atom-7 atom-2\" d=\"M 152.4,144.1 L 136.2,126.5\" style=\"fill:none;fill-rule:evenodd;stroke:#0000FF;stroke-width:2.0px;stroke-linecap:butt;stroke-linejoin:miter;stroke-opacity:1\"/>\n<path class=\"bond-7 atom-7 atom-2\" d=\"M 136.2,126.5 L 120.0,109.0\" style=\"fill:none;fill-rule:evenodd;stroke:#000000;stroke-width:2.0px;stroke-linecap:butt;stroke-linejoin:miter;stroke-opacity:1\"/>\n<path d=\"M 60.4,121.4 L 61.2,122.2 L 64.1,121.6\" style=\"fill:none;stroke:#000000;stroke-width:2.0px;stroke-linecap:butt;stroke-linejoin:miter;stroke-opacity:1;\"/>\n<path d=\"M 137.0,54.3 L 137.9,51.5 L 140.8,50.8\" style=\"fill:none;stroke:#000000;stroke-width:2.0px;stroke-linecap:butt;stroke-linejoin:miter;stroke-opacity:1;\"/>\n<path d=\"M 193.7,38.9 L 196.6,38.2 L 198.7,40.4\" style=\"fill:none;stroke:#000000;stroke-width:2.0px;stroke-linecap:butt;stroke-linejoin:miter;stroke-opacity:1;\"/>\n<path d=\"M 235.5,80.3 L 237.5,82.5 L 236.6,85.4\" style=\"fill:none;stroke:#000000;stroke-width:2.0px;stroke-linecap:butt;stroke-linejoin:miter;stroke-opacity:1;\"/>\n<path d=\"M 220.5,137.1 L 219.6,140.0 L 218.3,140.3\" style=\"fill:none;stroke:#000000;stroke-width:2.0px;stroke-linecap:butt;stroke-linejoin:miter;stroke-opacity:1;\"/>\n<path class=\"atom-0\" d=\"M 12.5 78.0 Q 12.5 73.9, 14.5 71.6 Q 16.5 69.3, 20.3 69.3 Q 24.1 69.3, 26.1 71.6 Q 28.2 73.9, 28.2 78.0 Q 28.2 82.2, 26.1 84.5 Q 24.1 86.9, 20.3 86.9 Q 16.6 86.9, 14.5 84.5 Q 12.5 82.2, 12.5 78.0 M 20.3 84.9 Q 22.9 84.9, 24.3 83.2 Q 25.8 81.4, 25.8 78.0 Q 25.8 74.7, 24.3 73.0 Q 22.9 71.3, 20.3 71.3 Q 17.7 71.3, 16.3 73.0 Q 14.9 74.6, 14.9 78.0 Q 14.9 81.5, 16.3 83.2 Q 17.7 84.9, 20.3 84.9 \" fill=\"#FF0000\"/>\n<path class=\"atom-0\" d=\"M 30.6 72.1 L 36.4 72.1 L 36.4 73.4 L 30.6 73.4 L 30.6 72.1 \" fill=\"#FF0000\"/>\n<path class=\"atom-7\" d=\"M 157.1 144.7 L 162.6 153.8 Q 163.2 154.7, 164.1 156.3 Q 165.0 157.9, 165.0 158.0 L 165.0 144.7 L 167.3 144.7 L 167.3 161.8 L 165.0 161.8 L 159.0 151.9 Q 158.3 150.8, 157.5 149.4 Q 156.8 148.1, 156.6 147.7 L 156.6 161.8 L 154.4 161.8 L 154.4 144.7 L 157.1 144.7 \" fill=\"#0000FF\"/>\n</svg>"
          },
          "metadata": {}
        }
      ]
    },
    {
      "cell_type": "code",
      "source": [
        "#@title Select molecules\n",
        "#@markdown Which molecule states do you want to use?\n",
        "#@markdown The molecule ids are shown in the previous cell.\n",
        "mol1 = True #@param {type:\"boolean\"}\n",
        "mol2 = True #@param {type:\"boolean\"}\n",
        "mol3 = True #@param {type:\"boolean\"}\n",
        "mol4 = True #@param {type:\"boolean\"}\n",
        "mol5 = False #@param {type:\"boolean\"}\n",
        "mol6 = False #@param {type:\"boolean\"}\n",
        "mol7 = False #@param {type:\"boolean\"}\n",
        "mol8 = False #@param {type:\"boolean\"}\n",
        "mol9 = False #@param {type:\"boolean\"}\n",
        "mol10 = False #@param {type:\"boolean\"}\n",
        "\n",
        "mols_to_use = [\n",
        "    mol1, mol2, mol3, mol4, mol5, mol6, mol7, mol8, mol9, mol10,\n",
        "][:len(mols)]\n",
        "\n",
        "mols = [mols[i] for i in range(len(mols)) if mols_to_use[i]]"
      ],
      "metadata": {
        "id": "6cC1ul8MS8ZO"
      },
      "execution_count": 53,
      "outputs": []
    },
    {
      "cell_type": "code",
      "source": [
        "#@title Selected molecules\n",
        "#@markdown The foloweing molecules will be used in the furhter analysis.\n",
        "for i, m in enumerate(mols):\n",
        "    print(f\"This is Molecule {i}\")\n",
        "    d2d = rdMolDraw2D.MolDraw2DSVG(250, 200)\n",
        "    d2d.DrawMolecule(m)\n",
        "    d2d.FinishDrawing()\n",
        "    display(SVG(d2d.GetDrawingText()))"
      ],
      "metadata": {
        "colab": {
          "base_uri": "https://localhost:8080/",
          "height": 910
        },
        "cellView": "form",
        "id": "VfSF4T0PV3XY",
        "outputId": "9b3588c2-4eb5-4822-fb4c-14b6e44a433a"
      },
      "execution_count": 54,
      "outputs": [
        {
          "output_type": "stream",
          "name": "stdout",
          "text": [
            "This is Molecule 0\n"
          ]
        },
        {
          "output_type": "display_data",
          "data": {
            "text/plain": [
              "<IPython.core.display.SVG object>"
            ],
            "image/svg+xml": "<svg xmlns=\"http://www.w3.org/2000/svg\" xmlns:rdkit=\"http://www.rdkit.org/xml\" xmlns:xlink=\"http://www.w3.org/1999/xlink\" version=\"1.1\" baseProfile=\"full\" xml:space=\"preserve\" width=\"250px\" height=\"200px\" viewBox=\"0 0 250 200\">\n<!-- END OF HEADER -->\n<rect style=\"opacity:1.0;fill:#FFFFFF;stroke:none\" width=\"250.0\" height=\"200.0\" x=\"0.0\" y=\"0.0\"> </rect>\n<path class=\"bond-0 atom-0 atom-1\" d=\"M 200.5,104.7 L 172.8,104.7\" style=\"fill:none;fill-rule:evenodd;stroke:#FF0000;stroke-width:2.0px;stroke-linecap:butt;stroke-linejoin:miter;stroke-opacity:1\"/>\n<path class=\"bond-0 atom-0 atom-1\" d=\"M 172.8,104.7 L 145.0,104.7\" style=\"fill:none;fill-rule:evenodd;stroke:#000000;stroke-width:2.0px;stroke-linecap:butt;stroke-linejoin:miter;stroke-opacity:1\"/>\n<path class=\"bond-1 atom-1 atom-2\" d=\"M 145.0,104.7 L 111.9,162.1\" style=\"fill:none;fill-rule:evenodd;stroke:#000000;stroke-width:2.0px;stroke-linecap:butt;stroke-linejoin:miter;stroke-opacity:1\"/>\n<path class=\"bond-1 atom-1 atom-2\" d=\"M 133.5,104.7 L 106.2,152.2\" style=\"fill:none;fill-rule:evenodd;stroke:#000000;stroke-width:2.0px;stroke-linecap:butt;stroke-linejoin:miter;stroke-opacity:1\"/>\n<path class=\"bond-2 atom-2 atom-3\" d=\"M 111.9,162.1 L 45.6,162.1\" style=\"fill:none;fill-rule:evenodd;stroke:#000000;stroke-width:2.0px;stroke-linecap:butt;stroke-linejoin:miter;stroke-opacity:1\"/>\n<path class=\"bond-3 atom-3 atom-4\" d=\"M 45.6,162.1 L 12.5,104.7\" style=\"fill:none;fill-rule:evenodd;stroke:#000000;stroke-width:2.0px;stroke-linecap:butt;stroke-linejoin:miter;stroke-opacity:1\"/>\n<path class=\"bond-3 atom-3 atom-4\" d=\"M 51.4,152.2 L 24.0,104.7\" style=\"fill:none;fill-rule:evenodd;stroke:#000000;stroke-width:2.0px;stroke-linecap:butt;stroke-linejoin:miter;stroke-opacity:1\"/>\n<path class=\"bond-4 atom-4 atom-5\" d=\"M 12.5,104.7 L 45.6,47.4\" style=\"fill:none;fill-rule:evenodd;stroke:#000000;stroke-width:2.0px;stroke-linecap:butt;stroke-linejoin:miter;stroke-opacity:1\"/>\n<path class=\"bond-5 atom-5 atom-6\" d=\"M 45.6,47.4 L 74.1,47.4\" style=\"fill:none;fill-rule:evenodd;stroke:#000000;stroke-width:2.0px;stroke-linecap:butt;stroke-linejoin:miter;stroke-opacity:1\"/>\n<path class=\"bond-5 atom-5 atom-6\" d=\"M 74.1,47.4 L 102.6,47.4\" style=\"fill:none;fill-rule:evenodd;stroke:#0000FF;stroke-width:2.0px;stroke-linecap:butt;stroke-linejoin:miter;stroke-opacity:1\"/>\n<path class=\"bond-5 atom-5 atom-6\" d=\"M 51.4,57.3 L 77.0,57.3\" style=\"fill:none;fill-rule:evenodd;stroke:#000000;stroke-width:2.0px;stroke-linecap:butt;stroke-linejoin:miter;stroke-opacity:1\"/>\n<path class=\"bond-5 atom-5 atom-6\" d=\"M 77.0,57.3 L 102.6,57.3\" style=\"fill:none;fill-rule:evenodd;stroke:#0000FF;stroke-width:2.0px;stroke-linecap:butt;stroke-linejoin:miter;stroke-opacity:1\"/>\n<path class=\"bond-6 atom-6 atom-1\" d=\"M 118.6,58.9 L 131.8,81.8\" style=\"fill:none;fill-rule:evenodd;stroke:#0000FF;stroke-width:2.0px;stroke-linecap:butt;stroke-linejoin:miter;stroke-opacity:1\"/>\n<path class=\"bond-6 atom-6 atom-1\" d=\"M 131.8,81.8 L 145.0,104.7\" style=\"fill:none;fill-rule:evenodd;stroke:#000000;stroke-width:2.0px;stroke-linecap:butt;stroke-linejoin:miter;stroke-opacity:1\"/>\n<path d=\"M 113.5,159.3 L 111.9,162.1 L 108.6,162.1\" style=\"fill:none;stroke:#000000;stroke-width:2.0px;stroke-linecap:butt;stroke-linejoin:miter;stroke-opacity:1;\"/>\n<path d=\"M 48.9,162.1 L 45.6,162.1 L 44.0,159.3\" style=\"fill:none;stroke:#000000;stroke-width:2.0px;stroke-linecap:butt;stroke-linejoin:miter;stroke-opacity:1;\"/>\n<path d=\"M 14.2,107.6 L 12.5,104.7 L 14.2,101.9\" style=\"fill:none;stroke:#000000;stroke-width:2.0px;stroke-linecap:butt;stroke-linejoin:miter;stroke-opacity:1;\"/>\n<path d=\"M 44.0,50.2 L 45.6,47.4 L 47.1,47.4\" style=\"fill:none;stroke:#000000;stroke-width:2.0px;stroke-linecap:butt;stroke-linejoin:miter;stroke-opacity:1;\"/>\n<path class=\"atom-0\" d=\"M 202.7 104.8 Q 202.7 100.3, 204.9 97.8 Q 207.1 95.3, 211.3 95.3 Q 215.4 95.3, 217.7 97.8 Q 219.9 100.3, 219.9 104.8 Q 219.9 109.4, 217.6 111.9 Q 215.4 114.5, 211.3 114.5 Q 207.1 114.5, 204.9 111.9 Q 202.7 109.4, 202.7 104.8 M 211.3 112.4 Q 214.1 112.4, 215.7 110.5 Q 217.2 108.6, 217.2 104.8 Q 217.2 101.1, 215.7 99.3 Q 214.1 97.4, 211.3 97.4 Q 208.4 97.4, 206.9 99.2 Q 205.3 101.1, 205.3 104.8 Q 205.3 108.6, 206.9 110.5 Q 208.4 112.4, 211.3 112.4 \" fill=\"#FF0000\"/>\n<path class=\"atom-0\" d=\"M 222.8 95.5 L 225.4 95.5 L 225.4 103.4 L 235.0 103.4 L 235.0 95.5 L 237.5 95.5 L 237.5 114.2 L 235.0 114.2 L 235.0 105.6 L 225.4 105.6 L 225.4 114.2 L 222.8 114.2 L 222.8 95.5 \" fill=\"#FF0000\"/>\n<path class=\"atom-6\" d=\"M 107.7 38.0 L 113.9 47.9 Q 114.5 48.9, 115.5 50.7 Q 116.5 52.4, 116.5 52.6 L 116.5 38.0 L 119.0 38.0 L 119.0 56.7 L 116.4 56.7 L 109.8 45.9 Q 109.1 44.6, 108.2 43.1 Q 107.5 41.7, 107.2 41.2 L 107.2 56.7 L 104.8 56.7 L 104.8 38.0 L 107.7 38.0 \" fill=\"#0000FF\"/>\n<path class=\"atom-6\" d=\"M 122.6 38.0 L 125.1 38.0 L 125.1 46.0 L 134.7 46.0 L 134.7 38.0 L 137.3 38.0 L 137.3 56.7 L 134.7 56.7 L 134.7 48.1 L 125.1 48.1 L 125.1 56.7 L 122.6 56.7 L 122.6 38.0 \" fill=\"#0000FF\"/>\n<path class=\"atom-6\" d=\"M 140.9 41.4 L 144.2 41.4 L 144.2 37.9 L 145.7 37.9 L 145.7 41.4 L 149.1 41.4 L 149.1 42.6 L 145.7 42.6 L 145.7 46.1 L 144.2 46.1 L 144.2 42.6 L 140.9 42.6 L 140.9 41.4 \" fill=\"#0000FF\"/>\n</svg>"
          },
          "metadata": {}
        },
        {
          "output_type": "stream",
          "name": "stdout",
          "text": [
            "This is Molecule 1\n"
          ]
        },
        {
          "output_type": "display_data",
          "data": {
            "text/plain": [
              "<IPython.core.display.SVG object>"
            ],
            "image/svg+xml": "<svg xmlns=\"http://www.w3.org/2000/svg\" xmlns:rdkit=\"http://www.rdkit.org/xml\" xmlns:xlink=\"http://www.w3.org/1999/xlink\" version=\"1.1\" baseProfile=\"full\" xml:space=\"preserve\" width=\"250px\" height=\"200px\" viewBox=\"0 0 250 200\">\n<!-- END OF HEADER -->\n<rect style=\"opacity:1.0;fill:#FFFFFF;stroke:none\" width=\"250.0\" height=\"200.0\" x=\"0.0\" y=\"0.0\"> </rect>\n<path class=\"bond-0 atom-0 atom-1\" d=\"M 207.9,104.9 L 179.1,104.9\" style=\"fill:none;fill-rule:evenodd;stroke:#FF0000;stroke-width:2.0px;stroke-linecap:butt;stroke-linejoin:miter;stroke-opacity:1\"/>\n<path class=\"bond-0 atom-0 atom-1\" d=\"M 179.1,104.9 L 150.2,104.9\" style=\"fill:none;fill-rule:evenodd;stroke:#000000;stroke-width:2.0px;stroke-linecap:butt;stroke-linejoin:miter;stroke-opacity:1\"/>\n<path class=\"bond-1 atom-1 atom-2\" d=\"M 150.2,104.9 L 115.8,164.6\" style=\"fill:none;fill-rule:evenodd;stroke:#000000;stroke-width:2.0px;stroke-linecap:butt;stroke-linejoin:miter;stroke-opacity:1\"/>\n<path class=\"bond-1 atom-1 atom-2\" d=\"M 138.3,104.9 L 109.8,154.2\" style=\"fill:none;fill-rule:evenodd;stroke:#000000;stroke-width:2.0px;stroke-linecap:butt;stroke-linejoin:miter;stroke-opacity:1\"/>\n<path class=\"bond-2 atom-2 atom-3\" d=\"M 115.8,164.6 L 46.9,164.6\" style=\"fill:none;fill-rule:evenodd;stroke:#000000;stroke-width:2.0px;stroke-linecap:butt;stroke-linejoin:miter;stroke-opacity:1\"/>\n<path class=\"bond-3 atom-3 atom-4\" d=\"M 46.9,164.6 L 12.5,104.9\" style=\"fill:none;fill-rule:evenodd;stroke:#000000;stroke-width:2.0px;stroke-linecap:butt;stroke-linejoin:miter;stroke-opacity:1\"/>\n<path class=\"bond-3 atom-3 atom-4\" d=\"M 52.9,154.2 L 24.4,104.9\" style=\"fill:none;fill-rule:evenodd;stroke:#000000;stroke-width:2.0px;stroke-linecap:butt;stroke-linejoin:miter;stroke-opacity:1\"/>\n<path class=\"bond-4 atom-4 atom-5\" d=\"M 12.5,104.9 L 46.9,45.3\" style=\"fill:none;fill-rule:evenodd;stroke:#000000;stroke-width:2.0px;stroke-linecap:butt;stroke-linejoin:miter;stroke-opacity:1\"/>\n<path class=\"bond-5 atom-5 atom-6\" d=\"M 46.9,45.3 L 76.5,45.3\" style=\"fill:none;fill-rule:evenodd;stroke:#000000;stroke-width:2.0px;stroke-linecap:butt;stroke-linejoin:miter;stroke-opacity:1\"/>\n<path class=\"bond-5 atom-5 atom-6\" d=\"M 76.5,45.3 L 106.1,45.3\" style=\"fill:none;fill-rule:evenodd;stroke:#0000FF;stroke-width:2.0px;stroke-linecap:butt;stroke-linejoin:miter;stroke-opacity:1\"/>\n<path class=\"bond-5 atom-5 atom-6\" d=\"M 52.9,55.6 L 79.5,55.6\" style=\"fill:none;fill-rule:evenodd;stroke:#000000;stroke-width:2.0px;stroke-linecap:butt;stroke-linejoin:miter;stroke-opacity:1\"/>\n<path class=\"bond-5 atom-5 atom-6\" d=\"M 79.5,55.6 L 106.1,55.6\" style=\"fill:none;fill-rule:evenodd;stroke:#0000FF;stroke-width:2.0px;stroke-linecap:butt;stroke-linejoin:miter;stroke-opacity:1\"/>\n<path class=\"bond-6 atom-6 atom-1\" d=\"M 122.7,57.3 L 136.5,81.1\" style=\"fill:none;fill-rule:evenodd;stroke:#0000FF;stroke-width:2.0px;stroke-linecap:butt;stroke-linejoin:miter;stroke-opacity:1\"/>\n<path class=\"bond-6 atom-6 atom-1\" d=\"M 136.5,81.1 L 150.2,104.9\" style=\"fill:none;fill-rule:evenodd;stroke:#000000;stroke-width:2.0px;stroke-linecap:butt;stroke-linejoin:miter;stroke-opacity:1\"/>\n<path d=\"M 117.5,161.6 L 115.8,164.6 L 112.4,164.6\" style=\"fill:none;stroke:#000000;stroke-width:2.0px;stroke-linecap:butt;stroke-linejoin:miter;stroke-opacity:1;\"/>\n<path d=\"M 50.4,164.6 L 46.9,164.6 L 45.2,161.6\" style=\"fill:none;stroke:#000000;stroke-width:2.0px;stroke-linecap:butt;stroke-linejoin:miter;stroke-opacity:1;\"/>\n<path d=\"M 14.2,107.9 L 12.5,104.9 L 14.2,101.9\" style=\"fill:none;stroke:#000000;stroke-width:2.0px;stroke-linecap:butt;stroke-linejoin:miter;stroke-opacity:1;\"/>\n<path d=\"M 45.2,48.3 L 46.9,45.3 L 48.4,45.3\" style=\"fill:none;stroke:#000000;stroke-width:2.0px;stroke-linecap:butt;stroke-linejoin:miter;stroke-opacity:1;\"/>\n<path class=\"atom-0\" d=\"M 210.1 105.0 Q 210.1 100.3, 212.5 97.7 Q 214.8 95.1, 219.1 95.1 Q 223.4 95.1, 225.7 97.7 Q 228.0 100.3, 228.0 105.0 Q 228.0 109.7, 225.7 112.4 Q 223.4 115.1, 219.1 115.1 Q 214.8 115.1, 212.5 112.4 Q 210.1 109.7, 210.1 105.0 M 219.1 112.9 Q 222.1 112.9, 223.7 110.9 Q 225.3 108.9, 225.3 105.0 Q 225.3 101.2, 223.7 99.2 Q 222.1 97.3, 219.1 97.3 Q 216.1 97.3, 214.5 99.2 Q 212.9 101.1, 212.9 105.0 Q 212.9 108.9, 214.5 110.9 Q 216.1 112.9, 219.1 112.9 \" fill=\"#FF0000\"/>\n<path class=\"atom-0\" d=\"M 230.8 98.2 L 237.5 98.2 L 237.5 99.7 L 230.8 99.7 L 230.8 98.2 \" fill=\"#FF0000\"/>\n<path class=\"atom-6\" d=\"M 111.5 35.5 L 117.9 45.9 Q 118.5 46.9, 119.5 48.7 Q 120.6 50.6, 120.6 50.7 L 120.6 35.5 L 123.2 35.5 L 123.2 55.0 L 120.5 55.0 L 113.7 43.7 Q 112.9 42.4, 112.0 40.9 Q 111.2 39.4, 110.9 38.9 L 110.9 55.0 L 108.4 55.0 L 108.4 35.5 L 111.5 35.5 \" fill=\"#0000FF\"/>\n<path class=\"atom-6\" d=\"M 126.9 35.5 L 129.6 35.5 L 129.6 43.8 L 139.5 43.8 L 139.5 35.5 L 142.2 35.5 L 142.2 55.0 L 139.5 55.0 L 139.5 46.0 L 129.6 46.0 L 129.6 55.0 L 126.9 55.0 L 126.9 35.5 \" fill=\"#0000FF\"/>\n<path class=\"atom-6\" d=\"M 145.9 39.1 L 149.4 39.1 L 149.4 35.4 L 150.9 35.4 L 150.9 39.1 L 154.4 39.1 L 154.4 40.4 L 150.9 40.4 L 150.9 44.0 L 149.4 44.0 L 149.4 40.4 L 145.9 40.4 L 145.9 39.1 \" fill=\"#0000FF\"/>\n</svg>"
          },
          "metadata": {}
        },
        {
          "output_type": "stream",
          "name": "stdout",
          "text": [
            "This is Molecule 2\n"
          ]
        },
        {
          "output_type": "display_data",
          "data": {
            "text/plain": [
              "<IPython.core.display.SVG object>"
            ],
            "image/svg+xml": "<svg xmlns=\"http://www.w3.org/2000/svg\" xmlns:rdkit=\"http://www.rdkit.org/xml\" xmlns:xlink=\"http://www.w3.org/1999/xlink\" version=\"1.1\" baseProfile=\"full\" xml:space=\"preserve\" width=\"250px\" height=\"200px\" viewBox=\"0 0 250 200\">\n<!-- END OF HEADER -->\n<rect style=\"opacity:1.0;fill:#FFFFFF;stroke:none\" width=\"250.0\" height=\"200.0\" x=\"0.0\" y=\"0.0\"> </rect>\n<path class=\"bond-0 atom-0 atom-1\" d=\"M 200.5,104.7 L 172.8,104.7\" style=\"fill:none;fill-rule:evenodd;stroke:#FF0000;stroke-width:2.0px;stroke-linecap:butt;stroke-linejoin:miter;stroke-opacity:1\"/>\n<path class=\"bond-0 atom-0 atom-1\" d=\"M 172.8,104.7 L 145.0,104.7\" style=\"fill:none;fill-rule:evenodd;stroke:#000000;stroke-width:2.0px;stroke-linecap:butt;stroke-linejoin:miter;stroke-opacity:1\"/>\n<path class=\"bond-1 atom-1 atom-2\" d=\"M 145.0,104.7 L 111.9,162.1\" style=\"fill:none;fill-rule:evenodd;stroke:#000000;stroke-width:2.0px;stroke-linecap:butt;stroke-linejoin:miter;stroke-opacity:1\"/>\n<path class=\"bond-1 atom-1 atom-2\" d=\"M 133.5,104.7 L 106.2,152.1\" style=\"fill:none;fill-rule:evenodd;stroke:#000000;stroke-width:2.0px;stroke-linecap:butt;stroke-linejoin:miter;stroke-opacity:1\"/>\n<path class=\"bond-2 atom-2 atom-3\" d=\"M 111.9,162.1 L 45.6,162.1\" style=\"fill:none;fill-rule:evenodd;stroke:#000000;stroke-width:2.0px;stroke-linecap:butt;stroke-linejoin:miter;stroke-opacity:1\"/>\n<path class=\"bond-3 atom-3 atom-4\" d=\"M 45.6,162.1 L 12.5,104.7\" style=\"fill:none;fill-rule:evenodd;stroke:#000000;stroke-width:2.0px;stroke-linecap:butt;stroke-linejoin:miter;stroke-opacity:1\"/>\n<path class=\"bond-3 atom-3 atom-4\" d=\"M 51.4,152.1 L 24.0,104.7\" style=\"fill:none;fill-rule:evenodd;stroke:#000000;stroke-width:2.0px;stroke-linecap:butt;stroke-linejoin:miter;stroke-opacity:1\"/>\n<path class=\"bond-4 atom-4 atom-5\" d=\"M 12.5,104.7 L 45.6,47.3\" style=\"fill:none;fill-rule:evenodd;stroke:#000000;stroke-width:2.0px;stroke-linecap:butt;stroke-linejoin:miter;stroke-opacity:1\"/>\n<path class=\"bond-5 atom-5 atom-6\" d=\"M 45.6,47.3 L 74.1,47.3\" style=\"fill:none;fill-rule:evenodd;stroke:#000000;stroke-width:2.0px;stroke-linecap:butt;stroke-linejoin:miter;stroke-opacity:1\"/>\n<path class=\"bond-5 atom-5 atom-6\" d=\"M 74.1,47.3 L 102.6,47.3\" style=\"fill:none;fill-rule:evenodd;stroke:#0000FF;stroke-width:2.0px;stroke-linecap:butt;stroke-linejoin:miter;stroke-opacity:1\"/>\n<path class=\"bond-5 atom-5 atom-6\" d=\"M 51.4,57.2 L 77.0,57.2\" style=\"fill:none;fill-rule:evenodd;stroke:#000000;stroke-width:2.0px;stroke-linecap:butt;stroke-linejoin:miter;stroke-opacity:1\"/>\n<path class=\"bond-5 atom-5 atom-6\" d=\"M 77.0,57.2 L 102.6,57.2\" style=\"fill:none;fill-rule:evenodd;stroke:#0000FF;stroke-width:2.0px;stroke-linecap:butt;stroke-linejoin:miter;stroke-opacity:1\"/>\n<path class=\"bond-6 atom-6 atom-1\" d=\"M 118.6,58.9 L 131.8,81.8\" style=\"fill:none;fill-rule:evenodd;stroke:#0000FF;stroke-width:2.0px;stroke-linecap:butt;stroke-linejoin:miter;stroke-opacity:1\"/>\n<path class=\"bond-6 atom-6 atom-1\" d=\"M 131.8,81.8 L 145.0,104.7\" style=\"fill:none;fill-rule:evenodd;stroke:#000000;stroke-width:2.0px;stroke-linecap:butt;stroke-linejoin:miter;stroke-opacity:1\"/>\n<path d=\"M 113.5,159.2 L 111.9,162.1 L 108.6,162.1\" style=\"fill:none;stroke:#000000;stroke-width:2.0px;stroke-linecap:butt;stroke-linejoin:miter;stroke-opacity:1;\"/>\n<path d=\"M 48.9,162.1 L 45.6,162.1 L 44.0,159.2\" style=\"fill:none;stroke:#000000;stroke-width:2.0px;stroke-linecap:butt;stroke-linejoin:miter;stroke-opacity:1;\"/>\n<path d=\"M 14.2,107.6 L 12.5,104.7 L 14.2,101.8\" style=\"fill:none;stroke:#000000;stroke-width:2.0px;stroke-linecap:butt;stroke-linejoin:miter;stroke-opacity:1;\"/>\n<path d=\"M 44.0,50.2 L 45.6,47.3 L 47.1,47.3\" style=\"fill:none;stroke:#000000;stroke-width:2.0px;stroke-linecap:butt;stroke-linejoin:miter;stroke-opacity:1;\"/>\n<path class=\"atom-0\" d=\"M 202.7 104.7 Q 202.7 100.2, 204.9 97.7 Q 207.1 95.2, 211.3 95.2 Q 215.4 95.2, 217.7 97.7 Q 219.9 100.2, 219.9 104.7 Q 219.9 109.3, 217.6 111.9 Q 215.4 114.5, 211.3 114.5 Q 207.1 114.5, 204.9 111.9 Q 202.7 109.3, 202.7 104.7 M 211.3 112.4 Q 214.1 112.4, 215.7 110.4 Q 217.2 108.5, 217.2 104.7 Q 217.2 101.1, 215.7 99.2 Q 214.1 97.3, 211.3 97.3 Q 208.4 97.3, 206.9 99.2 Q 205.3 101.0, 205.3 104.7 Q 205.3 108.5, 206.9 110.4 Q 208.4 112.4, 211.3 112.4 \" fill=\"#FF0000\"/>\n<path class=\"atom-0\" d=\"M 222.8 95.4 L 225.4 95.4 L 225.4 103.4 L 235.0 103.4 L 235.0 95.4 L 237.5 95.4 L 237.5 114.2 L 235.0 114.2 L 235.0 105.5 L 225.4 105.5 L 225.4 114.2 L 222.8 114.2 L 222.8 95.4 \" fill=\"#FF0000\"/>\n<path class=\"atom-6\" d=\"M 107.7 37.9 L 113.9 47.9 Q 114.5 48.8, 115.5 50.6 Q 116.5 52.4, 116.5 52.5 L 116.5 37.9 L 119.0 37.9 L 119.0 56.7 L 116.4 56.7 L 109.8 45.8 Q 109.1 44.6, 108.2 43.1 Q 107.5 41.6, 107.2 41.2 L 107.2 56.7 L 104.8 56.7 L 104.8 37.9 L 107.7 37.9 \" fill=\"#0000FF\"/>\n</svg>"
          },
          "metadata": {}
        },
        {
          "output_type": "stream",
          "name": "stdout",
          "text": [
            "This is Molecule 3\n"
          ]
        },
        {
          "output_type": "display_data",
          "data": {
            "text/plain": [
              "<IPython.core.display.SVG object>"
            ],
            "image/svg+xml": "<svg xmlns=\"http://www.w3.org/2000/svg\" xmlns:rdkit=\"http://www.rdkit.org/xml\" xmlns:xlink=\"http://www.w3.org/1999/xlink\" version=\"1.1\" baseProfile=\"full\" xml:space=\"preserve\" width=\"250px\" height=\"200px\" viewBox=\"0 0 250 200\">\n<!-- END OF HEADER -->\n<rect style=\"opacity:1.0;fill:#FFFFFF;stroke:none\" width=\"250.0\" height=\"200.0\" x=\"0.0\" y=\"0.0\"> </rect>\n<path class=\"bond-0 atom-0 atom-1\" d=\"M 207.9,104.9 L 179.1,104.9\" style=\"fill:none;fill-rule:evenodd;stroke:#FF0000;stroke-width:2.0px;stroke-linecap:butt;stroke-linejoin:miter;stroke-opacity:1\"/>\n<path class=\"bond-0 atom-0 atom-1\" d=\"M 179.1,104.9 L 150.2,104.9\" style=\"fill:none;fill-rule:evenodd;stroke:#000000;stroke-width:2.0px;stroke-linecap:butt;stroke-linejoin:miter;stroke-opacity:1\"/>\n<path class=\"bond-1 atom-1 atom-2\" d=\"M 150.2,104.9 L 115.8,164.5\" style=\"fill:none;fill-rule:evenodd;stroke:#000000;stroke-width:2.0px;stroke-linecap:butt;stroke-linejoin:miter;stroke-opacity:1\"/>\n<path class=\"bond-1 atom-1 atom-2\" d=\"M 138.3,104.9 L 109.8,154.2\" style=\"fill:none;fill-rule:evenodd;stroke:#000000;stroke-width:2.0px;stroke-linecap:butt;stroke-linejoin:miter;stroke-opacity:1\"/>\n<path class=\"bond-2 atom-2 atom-3\" d=\"M 115.8,164.5 L 46.9,164.5\" style=\"fill:none;fill-rule:evenodd;stroke:#000000;stroke-width:2.0px;stroke-linecap:butt;stroke-linejoin:miter;stroke-opacity:1\"/>\n<path class=\"bond-3 atom-3 atom-4\" d=\"M 46.9,164.5 L 12.5,104.9\" style=\"fill:none;fill-rule:evenodd;stroke:#000000;stroke-width:2.0px;stroke-linecap:butt;stroke-linejoin:miter;stroke-opacity:1\"/>\n<path class=\"bond-3 atom-3 atom-4\" d=\"M 52.9,154.2 L 24.4,104.9\" style=\"fill:none;fill-rule:evenodd;stroke:#000000;stroke-width:2.0px;stroke-linecap:butt;stroke-linejoin:miter;stroke-opacity:1\"/>\n<path class=\"bond-4 atom-4 atom-5\" d=\"M 12.5,104.9 L 46.9,45.2\" style=\"fill:none;fill-rule:evenodd;stroke:#000000;stroke-width:2.0px;stroke-linecap:butt;stroke-linejoin:miter;stroke-opacity:1\"/>\n<path class=\"bond-5 atom-5 atom-6\" d=\"M 46.9,45.2 L 76.5,45.2\" style=\"fill:none;fill-rule:evenodd;stroke:#000000;stroke-width:2.0px;stroke-linecap:butt;stroke-linejoin:miter;stroke-opacity:1\"/>\n<path class=\"bond-5 atom-5 atom-6\" d=\"M 76.5,45.2 L 106.1,45.2\" style=\"fill:none;fill-rule:evenodd;stroke:#0000FF;stroke-width:2.0px;stroke-linecap:butt;stroke-linejoin:miter;stroke-opacity:1\"/>\n<path class=\"bond-5 atom-5 atom-6\" d=\"M 52.9,55.6 L 79.5,55.6\" style=\"fill:none;fill-rule:evenodd;stroke:#000000;stroke-width:2.0px;stroke-linecap:butt;stroke-linejoin:miter;stroke-opacity:1\"/>\n<path class=\"bond-5 atom-5 atom-6\" d=\"M 79.5,55.6 L 106.1,55.6\" style=\"fill:none;fill-rule:evenodd;stroke:#0000FF;stroke-width:2.0px;stroke-linecap:butt;stroke-linejoin:miter;stroke-opacity:1\"/>\n<path class=\"bond-6 atom-6 atom-1\" d=\"M 122.7,57.3 L 136.5,81.1\" style=\"fill:none;fill-rule:evenodd;stroke:#0000FF;stroke-width:2.0px;stroke-linecap:butt;stroke-linejoin:miter;stroke-opacity:1\"/>\n<path class=\"bond-6 atom-6 atom-1\" d=\"M 136.5,81.1 L 150.2,104.9\" style=\"fill:none;fill-rule:evenodd;stroke:#000000;stroke-width:2.0px;stroke-linecap:butt;stroke-linejoin:miter;stroke-opacity:1\"/>\n<path d=\"M 117.5,161.5 L 115.8,164.5 L 112.4,164.5\" style=\"fill:none;stroke:#000000;stroke-width:2.0px;stroke-linecap:butt;stroke-linejoin:miter;stroke-opacity:1;\"/>\n<path d=\"M 50.4,164.5 L 46.9,164.5 L 45.2,161.5\" style=\"fill:none;stroke:#000000;stroke-width:2.0px;stroke-linecap:butt;stroke-linejoin:miter;stroke-opacity:1;\"/>\n<path d=\"M 14.2,107.9 L 12.5,104.9 L 14.2,101.9\" style=\"fill:none;stroke:#000000;stroke-width:2.0px;stroke-linecap:butt;stroke-linejoin:miter;stroke-opacity:1;\"/>\n<path d=\"M 45.2,48.2 L 46.9,45.2 L 48.4,45.2\" style=\"fill:none;stroke:#000000;stroke-width:2.0px;stroke-linecap:butt;stroke-linejoin:miter;stroke-opacity:1;\"/>\n<path class=\"atom-0\" d=\"M 210.1 104.9 Q 210.1 100.2, 212.5 97.6 Q 214.8 95.0, 219.1 95.0 Q 223.4 95.0, 225.7 97.6 Q 228.0 100.2, 228.0 104.9 Q 228.0 109.7, 225.7 112.4 Q 223.4 115.0, 219.1 115.0 Q 214.8 115.0, 212.5 112.4 Q 210.1 109.7, 210.1 104.9 M 219.1 112.8 Q 222.1 112.8, 223.7 110.9 Q 225.3 108.8, 225.3 104.9 Q 225.3 101.1, 223.7 99.2 Q 222.1 97.2, 219.1 97.2 Q 216.1 97.2, 214.5 99.1 Q 212.9 101.1, 212.9 104.9 Q 212.9 108.9, 214.5 110.9 Q 216.1 112.8, 219.1 112.8 \" fill=\"#FF0000\"/>\n<path class=\"atom-0\" d=\"M 230.8 98.2 L 237.5 98.2 L 237.5 99.7 L 230.8 99.7 L 230.8 98.2 \" fill=\"#FF0000\"/>\n<path class=\"atom-6\" d=\"M 111.5 35.5 L 117.9 45.8 Q 118.5 46.8, 119.5 48.7 Q 120.6 50.5, 120.6 50.6 L 120.6 35.5 L 123.2 35.5 L 123.2 55.0 L 120.5 55.0 L 113.7 43.7 Q 112.9 42.4, 112.0 40.9 Q 111.2 39.3, 110.9 38.9 L 110.9 55.0 L 108.4 55.0 L 108.4 35.5 L 111.5 35.5 \" fill=\"#0000FF\"/>\n</svg>"
          },
          "metadata": {}
        }
      ]
    },
    {
      "cell_type": "code",
      "source": [
        "#@title Get titratable site\n",
        "# Highest protonation state is always in state[0]\n",
        "titratable_sites = []\n",
        "pmol = mols[0]\n",
        "for m in mols[1:]:\n",
        "    from rdkit.Chem import rdFMCS\n",
        "    res = rdFMCS.FindMCS([pmol, pmol])\n",
        "    similar_patt = Chem.MolFromSmarts(res.smartsString)\n",
        "    subst_matches_pmol = pmol.GetSubstructMatches(similar_patt)[0]\n",
        "    subst_matches = m.GetSubstructMatches(similar_patt)[0]\n",
        "    for a0, a in zip(subst_matches_pmol, subst_matches):\n",
        "        if (pmol.GetAtomWithIdx(a0).GetFormalCharge() !=\n",
        "            m.GetAtomWithIdx(a).GetFormalCharge()\n",
        "        ):\n",
        "            titratable_sites.append(a0)\n",
        "titratable_sites = list(set(titratable_sites))"
      ],
      "metadata": {
        "id": "Sl3r5d_MdQcN"
      },
      "execution_count": 56,
      "outputs": []
    },
    {
      "cell_type": "code",
      "source": [
        "titratable_sites"
      ],
      "metadata": {
        "colab": {
          "base_uri": "https://localhost:8080/"
        },
        "id": "X9XK4iUcf9gj",
        "outputId": "fd27e892-29a0-4c81-d622-6e1bd8f1b798"
      },
      "execution_count": 57,
      "outputs": [
        {
          "output_type": "execute_result",
          "data": {
            "text/plain": [
              "[0, 6]"
            ]
          },
          "metadata": {},
          "execution_count": 57
        }
      ]
    },
    {
      "cell_type": "code",
      "source": [
        "#@title Get list of symmetrical titratable sites\n",
        "from rdkit.Chem import rdFMCS\n",
        "res = rdFMCS.FindMCS([pmol, pmol])\n",
        "similar_patt = Chem.MolFromSmarts(res.smartsString)\n",
        "subst_matches = pmol.GetSubstructMatches(similar_patt, uniquify=False)\n",
        "print(subst_matches)\n",
        "symmetrical_sites = {x.GetIdx():[x.GetIdx()] for x in pmol.GetAtoms()}\n",
        "if len(subst_matches) > 1:\n",
        "    for sm in subst_matches[1:]:\n",
        "        for ts in titratable_sites:\n",
        "            if sm[subst_matches_pmol.index(ts)] not in symmetrical_sites[ts]:\n",
        "                symmetrical_sites[ts].append(sm[subst_matches_pmol.index(ts)])\n",
        "                symmetrical_sites[sm[subst_matches_pmol.index(ts)]].append(ts)\n",
        "symmetrical_sites"
      ],
      "metadata": {
        "colab": {
          "base_uri": "https://localhost:8080/"
        },
        "id": "SE9qyt_YeuWl",
        "outputId": "e16b2a0c-c2c2-47fe-ca31-fc2b773876cd"
      },
      "execution_count": 58,
      "outputs": [
        {
          "output_type": "stream",
          "name": "stdout",
          "text": [
            "((0, 1, 2, 3, 4, 5, 6),)\n"
          ]
        },
        {
          "output_type": "execute_result",
          "data": {
            "text/plain": [
              "{0: [0], 1: [1], 2: [2], 3: [3], 4: [4], 5: [5], 6: [6]}"
            ]
          },
          "metadata": {},
          "execution_count": 58
        }
      ]
    },
    {
      "cell_type": "code",
      "source": [
        "#@title Get list of sites with multiple hydrogens\n",
        "sites_with_multiple_hs = []\n",
        "for ts in titratable_sites:\n",
        "    if (\n",
        "        pmol.GetAtomWithIdx(ts).GetNumExplicitHs()\n",
        "        + pmol.GetAtomWithIdx(ts).GetNumImplicitHs()\n",
        "        > 1\n",
        "    ):\n",
        "        sites_with_multiple_hs.append(ts)\n",
        "sites_with_multiple_hs"
      ],
      "metadata": {
        "colab": {
          "base_uri": "https://localhost:8080/"
        },
        "id": "c0aAHRyilzwZ",
        "outputId": "01c6bc08-3646-4b86-d2ea-dc52580190ee"
      },
      "execution_count": 59,
      "outputs": [
        {
          "output_type": "execute_result",
          "data": {
            "text/plain": [
              "[]"
            ]
          },
          "metadata": {},
          "execution_count": 59
        }
      ]
    },
    {
      "cell_type": "code",
      "source": [
        "#@title Highlight sites with multiple hydrogens\n",
        "if sites_with_multiple_hs:\n",
        "    print(\n",
        "        f\"We detected {len(sites_with_multiple_hs)} sites to which multiple \"\n",
        "        + \"hydrogens are attached. Please, take a careful look and let us know \"\n",
        "        + \"whether we should consider those sites as multisite with each \"\n",
        "        + \"hydrogen titrating separately, or as single site, where only one \"\n",
        "        + \"hydrogen is titrated. Note, that we highlight the titratable sites \"\n",
        "        + \"for the molecule in the highest protonation state, The .\"\n",
        "    )\n",
        "    colors = [(1.0, 0.0, 0.0, 0.2)]\n",
        "    for i, a in enumerate(sites_with_multiple_hs):\n",
        "        (pmol.GetAtomWithIdx(a)).SetProp('atomNote', str(i+1))\n",
        "    d2d = rdMolDraw2D.MolDraw2DSVG(250, 200)\n",
        "    at_highlights = {x: [colors[0]] for x in sites_with_multiple_hs}\n",
        "    at_rads = {x: 0.5 for x in sites_with_multiple_hs}\n",
        "    d2d.DrawMoleculeWithHighlights(pmol,\"\", at_highlights,{}, at_rads, {})\n",
        "    d2d.FinishDrawing()\n",
        "    display(SVG(d2d.GetDrawingText()))\n",
        "    for a in sites_with_multiple_hs:\n",
        "        (pmol.GetAtomWithIdx(a)).SetProp('atomNote', '')\n",
        "else:\n",
        "    mHs = None\n",
        "    print(\n",
        "        \"No sites to which multiple hydrogens are attached were detected. \"\n",
        "        + \" You can skip the next step.\"\n",
        "    )"
      ],
      "metadata": {
        "colab": {
          "base_uri": "https://localhost:8080/"
        },
        "id": "Yg2K0Mew3-KU",
        "outputId": "d3c4594c-50ec-4ca3-df91-40507c93f921",
        "cellView": "form"
      },
      "execution_count": 60,
      "outputs": [
        {
          "output_type": "stream",
          "name": "stdout",
          "text": [
            "No sites to which multiple hydrogens are attached were detected.  You can skip the next step.\n"
          ]
        }
      ]
    },
    {
      "cell_type": "code",
      "source": [
        "#@title Select treatment of multi-hydrogen sites\n",
        "#@markdown Do you want to treat titratable sites with multiple hydrogens\n",
        "#@markdown attached as single multisite or no? Default is no. If you want\n",
        "#@markdown to treat those with multisite representation tick the corresponding\n",
        "#@markdown variable. The id of titratable sites are shown in the previous cell.\n",
        "multiHs_titratable_site_1 = True #@param {type:\"boolean\"}\n",
        "multiHs_titratable_site_2 = False #@param {type:\"boolean\"}\n",
        "multiHs_titratable_site_3 = False #@param {type:\"boolean\"}\n",
        "multiHs_titratable_site_4 = False #@param {type:\"boolean\"}\n",
        "multiHs_titratable_site_5 = False #@param {type:\"boolean\"}\n",
        "\n",
        "mHs = [\n",
        "    multiHs_titratable_site_1,\n",
        "    multiHs_titratable_site_2,\n",
        "    multiHs_titratable_site_3,\n",
        "    multiHs_titratable_site_4,\n",
        "    multiHs_titratable_site_5,\n",
        "][:len(sites_with_multiple_hs)]"
      ],
      "metadata": {
        "id": "6hA84tEeetpF"
      },
      "execution_count": null,
      "outputs": []
    },
    {
      "cell_type": "code",
      "source": [
        "mHs"
      ],
      "metadata": {
        "id": "9eb3evy4-8JY"
      },
      "execution_count": 14,
      "outputs": []
    },
    {
      "cell_type": "code",
      "source": [
        "#@title Symmetrical states treatment\n",
        "states = {}  # Dictionary of states and state treatment. Each state has a\n",
        "# molecule, number of states and number of states for consideration\n",
        "# NOTE: state treatment should be fixed/changed after user input is provided\n",
        "for i, m in enumerate(mols):\n",
        "    from rdkit.Chem import rdFMCS\n",
        "    res = rdFMCS.FindMCS([pmol, pmol])\n",
        "    similar_patt = Chem.MolFromSmarts(res.smartsString)\n",
        "    subst_matches = m.GetSubstructMatches(similar_patt)[0]\n",
        "    charges = {}\n",
        "    for a in symmetrical_sites:\n",
        "        charges[a] = [\n",
        "            m.GetAtomWithIdx(\n",
        "                subst_matches[subst_matches_pmol.index(a)]\n",
        "            ).GetFormalCharge()\n",
        "        ]\n",
        "        if len(symmetrical_sites[a]) == 1:\n",
        "            continue\n",
        "        for idx in symmetrical_sites[a][1:]:\n",
        "            charges[a].append(\n",
        "                m.GetAtomWithIdx(\n",
        "                    subst_matches[subst_matches_pmol.index(idx)]\n",
        "                ).GetFormalCharge()\n",
        "            )\n",
        "    if all([len(list(set(x))) == 1 for x in charges.values()]):\n",
        "        states[i] = (m, 1, 1)\n",
        "        continue\n",
        "    print(f\"For molecule {i} symmetrical states were detected:\")\n",
        "    d2d = rdMolDraw2D.MolDraw2DSVG(250, 200)\n",
        "    d2d.DrawMolecule(m)\n",
        "    d2d.FinishDrawing()\n",
        "    display(SVG(d2d.GetDrawingText()))\n",
        "    print(\"These are found symmetrical states:\")\n",
        "    atoms_to_change = [x for x in charges if len(charges[x]) > 1]\n",
        "    atoms_with_dif_charges = [\n",
        "        x for x in charges if len(charges[x]) == 1 and\n",
        "        charges[x][0] != pmol.GetAtomWithIdx(x).GetFormalCharge()\n",
        "    ]\n",
        "    charge_combinations = list(zip(*[charges[x] for x in atoms_to_change]))\n",
        "    state_charges = []\n",
        "    from copy import deepcopy\n",
        "    for c in charge_combinations:\n",
        "        m_new = deepcopy(pmol)\n",
        "        for a in atoms_with_dif_charges:\n",
        "            m_new.GetAtomWithIdx(a).SetFormalCharge(\n",
        "                pmol.GetAtomWithIdx(a).GetFormalCharge() - 1\n",
        "            )\n",
        "            m_new.GetAtomWithIdx(a).SetNumExplicitHs(\n",
        "                pmol.GetAtomWithIdx(a).GetNumExplicitHs() - 1\n",
        "            )\n",
        "        for a_charge, a in zip(c, atoms_to_change):\n",
        "            if a_charge != pmol.GetAtomWithIdx(a).GetFormalCharge():\n",
        "                m_new.GetAtomWithIdx(a).SetFormalCharge(a_charge)\n",
        "                m_new.GetAtomWithIdx(a).SetNumExplicitHs(\n",
        "                    pmol.GetAtomWithIdx(a).GetNumExplicitHs() - 1\n",
        "                )\n",
        "        if [x.GetFormalCharge() for x in m_new.GetAtoms()] in state_charges:\n",
        "            continue\n",
        "        state_charges.append([x.GetFormalCharge() for x in m_new.GetAtoms()])\n",
        "        d2d = rdMolDraw2D.MolDraw2DSVG(250, 200)\n",
        "        colors = [(0.0, 1.0, 0.0, 0.2)]\n",
        "        at_highlights = {x: [colors[0]] for x in atoms_to_change}\n",
        "        at_rads = {x: 0.5 for x in atoms_to_change}\n",
        "        d2d.DrawMoleculeWithHighlights(m_new,\"\", at_highlights,{}, at_rads, {})\n",
        "        d2d.FinishDrawing()\n",
        "        display(SVG(d2d.GetDrawingText()))\n",
        "    states[i] = (m, len(state_charges), 1)\n",
        "if all([x[1] == 1 for x in states.values()]):\n",
        "    ss = None\n",
        "    print(\n",
        "        \"No symmetrical states were found \"\n",
        "        + \" You can skip the next step.\"\n",
        "    )"
      ],
      "metadata": {
        "colab": {
          "base_uri": "https://localhost:8080/"
        },
        "id": "cMIgAhkBxviB",
        "outputId": "da073339-324a-4deb-ca8b-2334af13bc1d"
      },
      "execution_count": 61,
      "outputs": [
        {
          "output_type": "stream",
          "name": "stdout",
          "text": [
            "No symmetrical states were found  You can skip the next step.\n"
          ]
        }
      ]
    },
    {
      "cell_type": "code",
      "source": [
        "#@title Select treatment of symmetrical states\n",
        "#@markdown Please, select whether to inclue symmetrical states for a molecule\n",
        "#@markdown or not. If for a particular molecule there are no symmetrical\n",
        "#@markdown states available, selecting True won't influence the behaviour\n",
        "use_symmetrical_states_molecule_0 = False #@param {type:\"boolean\"}\n",
        "use_symmetrical_states_molecule_1 = True #@param {type:\"boolean\"}\n",
        "use_symmetrical_states_molecule_2 = False #@param {type:\"boolean\"}\n",
        "use_symmetrical_states_molecule_3 = False #@param {type:\"boolean\"}\n",
        "use_symmetrical_states_molecule_4 = False #@param {type:\"boolean\"}\n",
        "use_symmetrical_states_molecule_5 = False #@param {type:\"boolean\"}\n",
        "use_symmetrical_states_molecule_6 = False #@param {type:\"boolean\"}\n",
        "use_symmetrical_states_molecule_7 = False #@param {type:\"boolean\"}\n",
        "use_symmetrical_states_molecule_8 = False #@param {type:\"boolean\"}\n",
        "use_symmetrical_states_molecule_9 = False #@param {type:\"boolean\"}\n",
        "\n",
        "ss = [\n",
        "    use_symmetrical_states_molecule_0,\n",
        "    use_symmetrical_states_molecule_1,\n",
        "    use_symmetrical_states_molecule_2,\n",
        "    use_symmetrical_states_molecule_3,\n",
        "    use_symmetrical_states_molecule_4,\n",
        "    use_symmetrical_states_molecule_5,\n",
        "    use_symmetrical_states_molecule_6,\n",
        "    use_symmetrical_states_molecule_7,\n",
        "    use_symmetrical_states_molecule_8,\n",
        "    use_symmetrical_states_molecule_9,\n",
        "][:len(states)]"
      ],
      "metadata": {
        "id": "gbwN4jUv9e0f"
      },
      "execution_count": null,
      "outputs": []
    },
    {
      "cell_type": "code",
      "source": [
        "#@title Update states information\n",
        "for i, s in zip(states.keys(), states.values()):\n",
        "    if ss:\n",
        "        t = ss[i]\n",
        "    else:\n",
        "        t = False\n",
        "    if t:\n",
        "        states[i] = (s[0], s[1], s[1])\n",
        "    if mHs:\n",
        "        from rdkit.Chem import rdFMCS\n",
        "        res = rdFMCS.FindMCS([pmol, pmol])\n",
        "        similar_patt = Chem.MolFromSmarts(res.smartsString)\n",
        "        subst_matches = s[0].GetSubstructMatches(similar_patt)[0]\n",
        "        factor = 1\n",
        "        for idx in sites_with_multiple_hs:\n",
        "            if not mHs[sites_with_multiple_hs.index(idx)]:\n",
        "                continue\n",
        "            a = s[0].GetAtomWithIdx(\n",
        "                subst_matches[subst_matches_pmol.index(idx)]\n",
        "            )\n",
        "            a_p = pmol.GetAtomWithIdx(idx)\n",
        "            if (\n",
        "                (a.GetNumExplicitHs() + a.GetNumImplicitHs()) !=\n",
        "                (a_p.GetNumExplicitHs() + a_p.GetNumImplicitHs())\n",
        "            ):\n",
        "                factor *= (a_p.GetNumExplicitHs() + a_p.GetNumImplicitHs())\n",
        "        states[i] = (s[0], s[1], states[i][1] * factor)\n",
        "states"
      ],
      "metadata": {
        "colab": {
          "base_uri": "https://localhost:8080/"
        },
        "id": "GjWEZ3WGvpSf",
        "outputId": "c4079fb4-9784-4515-a5fb-37c5aa5da34c"
      },
      "execution_count": 62,
      "outputs": [
        {
          "output_type": "execute_result",
          "data": {
            "text/plain": [
              "{0: (<rdkit.Chem.rdchem.Mol at 0x7b5c5aeee8f0>, 1, 1),\n",
              " 1: (<rdkit.Chem.rdchem.Mol at 0x7b5c5aeee960>, 1, 1),\n",
              " 2: (<rdkit.Chem.rdchem.Mol at 0x7b5c5aeeeab0>, 1, 1),\n",
              " 3: (<rdkit.Chem.rdchem.Mol at 0x7b5c5aeee880>, 1, 1)}"
            ]
          },
          "metadata": {},
          "execution_count": 62
        }
      ]
    },
    {
      "cell_type": "code",
      "source": [
        "#@title Show state transitions\n",
        "state_transitions = []\n",
        "for i, m1 in enumerate(mols):\n",
        "    for j, m2 in enumerate(mols[i+1:]):\n",
        "        from rdkit.Chem import rdFMCS\n",
        "        res = rdFMCS.FindMCS([pmol, pmol])\n",
        "        similar_patt = Chem.MolFromSmarts(res.smartsString)\n",
        "        subst_matches1 = m1.GetSubstructMatches(similar_patt)[0]\n",
        "        subst_matches2 = m2.GetSubstructMatches(similar_patt)[0]\n",
        "        n_diffs = 0\n",
        "        for idx in titratable_sites:\n",
        "            if (\n",
        "                m1.GetAtomWithIdx(\n",
        "                    subst_matches1[subst_matches_pmol.index(idx)]\n",
        "                ).GetFormalCharge() !=\n",
        "                m2.GetAtomWithIdx(\n",
        "                    subst_matches2[subst_matches_pmol.index(idx)]\n",
        "                ).GetFormalCharge()\n",
        "            ):\n",
        "                n_diffs += 1\n",
        "        if n_diffs != 1:\n",
        "            continue\n",
        "        state_transitions.append((i, i + 1+j, m1, m2))\n",
        "\n",
        "def view_difference(mol1, mol2):\n",
        "    mcs = rdFMCS.FindMCS([mol1,mol2])\n",
        "    mcs_mol = Chem.MolFromSmarts(mcs.smartsString)\n",
        "    match1 = mol1.GetSubstructMatch(mcs_mol)\n",
        "    match2 = mol2.GetSubstructMatch(mcs_mol)\n",
        "    target_atm1 = []\n",
        "    target_atm2 = []\n",
        "    for a1, a2 in zip(match1, match2):\n",
        "        if (\n",
        "            mol1.GetAtomWithIdx(a1).GetFormalCharge() !=\n",
        "            mol2.GetAtomWithIdx(a2).GetFormalCharge()\n",
        "        ):\n",
        "            target_atm1.append(a1)\n",
        "            target_atm2.append(a2)\n",
        "    d2d = Draw.MolsToGridImage(\n",
        "        [mol1, mol2],\n",
        "        highlightAtomLists=[target_atm1, target_atm2],\n",
        "        useSVG = True,\n",
        "    )\n",
        "    display(d2d)\n",
        "\n",
        "print(\"We found the following transitions between protonation states:\")\n",
        "for i, st_t in enumerate(state_transitions):\n",
        "    print(f\"Transition {i}\")\n",
        "    view_difference(st_t[2], st_t[3])"
      ],
      "metadata": {
        "colab": {
          "base_uri": "https://localhost:8080/",
          "height": 929
        },
        "id": "ZBKOWkcz2HnX",
        "outputId": "bdd2bab0-78fd-4fa9-ed36-d8813ce887b5"
      },
      "execution_count": 63,
      "outputs": [
        {
          "output_type": "stream",
          "name": "stdout",
          "text": [
            "We found the following transitions between protonation states:\n",
            "Transition 0\n"
          ]
        },
        {
          "output_type": "display_data",
          "data": {
            "text/plain": [
              "<IPython.core.display.SVG object>"
            ],
            "image/svg+xml": "<svg xmlns=\"http://www.w3.org/2000/svg\" xmlns:rdkit=\"http://www.rdkit.org/xml\" xmlns:xlink=\"http://www.w3.org/1999/xlink\" version=\"1.1\" baseProfile=\"full\" xml:space=\"preserve\" width=\"600px\" height=\"200px\" viewBox=\"0 0 600 200\">\n<!-- END OF HEADER -->\n<rect style=\"opacity:1.0;fill:#FFFFFF;stroke:none\" width=\"600.0\" height=\"200.0\" x=\"0.0\" y=\"0.0\"> </rect>\n<ellipse cx=\"170.9\" cy=\"103.8\" rx=\"19.1\" ry=\"10.6\" class=\"atom-0\" style=\"fill:#FF7F7F;fill-rule:evenodd;stroke:#FF7F7F;stroke-width:1.0px;stroke-linecap:butt;stroke-linejoin:miter;stroke-opacity:1\"/>\n<path class=\"bond-0 atom-0 atom-1\" d=\"M 155.7,103.7 L 134.2,103.7\" style=\"fill:none;fill-rule:evenodd;stroke:#FF0000;stroke-width:2.0px;stroke-linecap:butt;stroke-linejoin:miter;stroke-opacity:1\"/>\n<path class=\"bond-0 atom-0 atom-1\" d=\"M 134.2,103.7 L 112.7,103.7\" style=\"fill:none;fill-rule:evenodd;stroke:#000000;stroke-width:2.0px;stroke-linecap:butt;stroke-linejoin:miter;stroke-opacity:1\"/>\n<path class=\"bond-1 atom-1 atom-2\" d=\"M 112.7,103.7 L 87.0,148.2\" style=\"fill:none;fill-rule:evenodd;stroke:#000000;stroke-width:2.0px;stroke-linecap:butt;stroke-linejoin:miter;stroke-opacity:1\"/>\n<path class=\"bond-1 atom-1 atom-2\" d=\"M 103.8,103.7 L 82.6,140.5\" style=\"fill:none;fill-rule:evenodd;stroke:#000000;stroke-width:2.0px;stroke-linecap:butt;stroke-linejoin:miter;stroke-opacity:1\"/>\n<path class=\"bond-2 atom-2 atom-3\" d=\"M 87.0,148.2 L 35.7,148.2\" style=\"fill:none;fill-rule:evenodd;stroke:#000000;stroke-width:2.0px;stroke-linecap:butt;stroke-linejoin:miter;stroke-opacity:1\"/>\n<path class=\"bond-3 atom-3 atom-4\" d=\"M 35.7,148.2 L 10.0,103.7\" style=\"fill:none;fill-rule:evenodd;stroke:#000000;stroke-width:2.0px;stroke-linecap:butt;stroke-linejoin:miter;stroke-opacity:1\"/>\n<path class=\"bond-3 atom-3 atom-4\" d=\"M 40.1,140.5 L 18.9,103.7\" style=\"fill:none;fill-rule:evenodd;stroke:#000000;stroke-width:2.0px;stroke-linecap:butt;stroke-linejoin:miter;stroke-opacity:1\"/>\n<path class=\"bond-4 atom-4 atom-5\" d=\"M 10.0,103.7 L 35.7,59.2\" style=\"fill:none;fill-rule:evenodd;stroke:#000000;stroke-width:2.0px;stroke-linecap:butt;stroke-linejoin:miter;stroke-opacity:1\"/>\n<path class=\"bond-5 atom-5 atom-6\" d=\"M 35.7,59.2 L 57.8,59.2\" style=\"fill:none;fill-rule:evenodd;stroke:#000000;stroke-width:2.0px;stroke-linecap:butt;stroke-linejoin:miter;stroke-opacity:1\"/>\n<path class=\"bond-5 atom-5 atom-6\" d=\"M 57.8,59.2 L 79.8,59.2\" style=\"fill:none;fill-rule:evenodd;stroke:#0000FF;stroke-width:2.0px;stroke-linecap:butt;stroke-linejoin:miter;stroke-opacity:1\"/>\n<path class=\"bond-5 atom-5 atom-6\" d=\"M 40.1,66.9 L 60.0,66.9\" style=\"fill:none;fill-rule:evenodd;stroke:#000000;stroke-width:2.0px;stroke-linecap:butt;stroke-linejoin:miter;stroke-opacity:1\"/>\n<path class=\"bond-5 atom-5 atom-6\" d=\"M 60.0,66.9 L 79.8,66.9\" style=\"fill:none;fill-rule:evenodd;stroke:#0000FF;stroke-width:2.0px;stroke-linecap:butt;stroke-linejoin:miter;stroke-opacity:1\"/>\n<path class=\"bond-6 atom-6 atom-1\" d=\"M 92.2,68.2 L 102.5,85.9\" style=\"fill:none;fill-rule:evenodd;stroke:#0000FF;stroke-width:2.0px;stroke-linecap:butt;stroke-linejoin:miter;stroke-opacity:1\"/>\n<path class=\"bond-6 atom-6 atom-1\" d=\"M 102.5,85.9 L 112.7,103.7\" style=\"fill:none;fill-rule:evenodd;stroke:#000000;stroke-width:2.0px;stroke-linecap:butt;stroke-linejoin:miter;stroke-opacity:1\"/>\n<path d=\"M 88.3,145.9 L 87.0,148.2 L 84.5,148.2\" style=\"fill:none;stroke:#000000;stroke-width:2.0px;stroke-linecap:butt;stroke-linejoin:miter;stroke-opacity:1;\"/>\n<path d=\"M 38.2,148.2 L 35.7,148.2 L 34.4,145.9\" style=\"fill:none;stroke:#000000;stroke-width:2.0px;stroke-linecap:butt;stroke-linejoin:miter;stroke-opacity:1;\"/>\n<path d=\"M 11.3,105.9 L 10.0,103.7 L 11.3,101.5\" style=\"fill:none;stroke:#000000;stroke-width:2.0px;stroke-linecap:butt;stroke-linejoin:miter;stroke-opacity:1;\"/>\n<path d=\"M 34.4,61.4 L 35.7,59.2 L 36.8,59.2\" style=\"fill:none;stroke:#000000;stroke-width:2.0px;stroke-linecap:butt;stroke-linejoin:miter;stroke-opacity:1;\"/>\n<path class=\"atom-0\" d=\"M 157.4 103.7 Q 157.4 100.2, 159.1 98.3 Q 160.9 96.3, 164.1 96.3 Q 167.3 96.3, 169.0 98.3 Q 170.8 100.2, 170.8 103.7 Q 170.8 107.2, 169.0 109.3 Q 167.3 111.3, 164.1 111.3 Q 160.9 111.3, 159.1 109.3 Q 157.4 107.3, 157.4 103.7 M 164.1 109.6 Q 166.3 109.6, 167.5 108.1 Q 168.7 106.6, 168.7 103.7 Q 168.7 100.9, 167.5 99.4 Q 166.3 98.0, 164.1 98.0 Q 161.9 98.0, 160.7 99.4 Q 159.5 100.8, 159.5 103.7 Q 159.5 106.7, 160.7 108.1 Q 161.9 109.6, 164.1 109.6 \" fill=\"#FF0000\"/>\n<path class=\"atom-0\" d=\"M 173.0 96.5 L 175.0 96.5 L 175.0 102.7 L 182.4 102.7 L 182.4 96.5 L 184.4 96.5 L 184.4 111.0 L 182.4 111.0 L 182.4 104.3 L 175.0 104.3 L 175.0 111.0 L 173.0 111.0 L 173.0 96.5 \" fill=\"#FF0000\"/>\n<path class=\"atom-6\" d=\"M 83.8 51.9 L 88.6 59.6 Q 89.1 60.4, 89.8 61.8 Q 90.6 63.1, 90.6 63.2 L 90.6 51.9 L 92.6 51.9 L 92.6 66.5 L 90.6 66.5 L 85.5 58.0 Q 84.9 57.1, 84.2 55.9 Q 83.6 54.8, 83.4 54.4 L 83.4 66.5 L 81.5 66.5 L 81.5 51.9 L 83.8 51.9 \" fill=\"#0000FF\"/>\n<path class=\"atom-6\" d=\"M 95.3 51.9 L 97.3 51.9 L 97.3 58.1 L 104.7 58.1 L 104.7 51.9 L 106.7 51.9 L 106.7 66.5 L 104.7 66.5 L 104.7 59.7 L 97.3 59.7 L 97.3 66.5 L 95.3 66.5 L 95.3 51.9 \" fill=\"#0000FF\"/>\n<path class=\"atom-6\" d=\"M 109.5 54.5 L 112.1 54.5 L 112.1 51.8 L 113.2 51.8 L 113.2 54.5 L 115.9 54.5 L 115.9 55.5 L 113.2 55.5 L 113.2 58.2 L 112.1 58.2 L 112.1 55.5 L 109.5 55.5 L 109.5 54.5 \" fill=\"#0000FF\"/>\n<ellipse cx=\"371.6\" cy=\"103.8\" rx=\"14.4\" ry=\"10.6\" class=\"atom-0\" style=\"fill:#FF7F7F;fill-rule:evenodd;stroke:#FF7F7F;stroke-width:1.0px;stroke-linecap:butt;stroke-linejoin:miter;stroke-opacity:1\"/>\n<path class=\"bond-0 atom-0 atom-1\" d=\"M 359.7,103.7 L 338.2,103.7\" style=\"fill:none;fill-rule:evenodd;stroke:#FF0000;stroke-width:2.0px;stroke-linecap:butt;stroke-linejoin:miter;stroke-opacity:1\"/>\n<path class=\"bond-0 atom-0 atom-1\" d=\"M 338.2,103.7 L 316.7,103.7\" style=\"fill:none;fill-rule:evenodd;stroke:#000000;stroke-width:2.0px;stroke-linecap:butt;stroke-linejoin:miter;stroke-opacity:1\"/>\n<path class=\"bond-1 atom-1 atom-2\" d=\"M 316.7,103.7 L 291.0,148.2\" style=\"fill:none;fill-rule:evenodd;stroke:#000000;stroke-width:2.0px;stroke-linecap:butt;stroke-linejoin:miter;stroke-opacity:1\"/>\n<path class=\"bond-1 atom-1 atom-2\" d=\"M 307.8,103.7 L 286.6,140.5\" style=\"fill:none;fill-rule:evenodd;stroke:#000000;stroke-width:2.0px;stroke-linecap:butt;stroke-linejoin:miter;stroke-opacity:1\"/>\n<path class=\"bond-2 atom-2 atom-3\" d=\"M 291.0,148.2 L 239.7,148.2\" style=\"fill:none;fill-rule:evenodd;stroke:#000000;stroke-width:2.0px;stroke-linecap:butt;stroke-linejoin:miter;stroke-opacity:1\"/>\n<path class=\"bond-3 atom-3 atom-4\" d=\"M 239.7,148.2 L 214.0,103.7\" style=\"fill:none;fill-rule:evenodd;stroke:#000000;stroke-width:2.0px;stroke-linecap:butt;stroke-linejoin:miter;stroke-opacity:1\"/>\n<path class=\"bond-3 atom-3 atom-4\" d=\"M 244.1,140.5 L 222.9,103.7\" style=\"fill:none;fill-rule:evenodd;stroke:#000000;stroke-width:2.0px;stroke-linecap:butt;stroke-linejoin:miter;stroke-opacity:1\"/>\n<path class=\"bond-4 atom-4 atom-5\" d=\"M 214.0,103.7 L 239.7,59.2\" style=\"fill:none;fill-rule:evenodd;stroke:#000000;stroke-width:2.0px;stroke-linecap:butt;stroke-linejoin:miter;stroke-opacity:1\"/>\n<path class=\"bond-5 atom-5 atom-6\" d=\"M 239.7,59.2 L 261.7,59.2\" style=\"fill:none;fill-rule:evenodd;stroke:#000000;stroke-width:2.0px;stroke-linecap:butt;stroke-linejoin:miter;stroke-opacity:1\"/>\n<path class=\"bond-5 atom-5 atom-6\" d=\"M 261.7,59.2 L 283.8,59.2\" style=\"fill:none;fill-rule:evenodd;stroke:#0000FF;stroke-width:2.0px;stroke-linecap:butt;stroke-linejoin:miter;stroke-opacity:1\"/>\n<path class=\"bond-5 atom-5 atom-6\" d=\"M 244.1,66.9 L 264.0,66.9\" style=\"fill:none;fill-rule:evenodd;stroke:#000000;stroke-width:2.0px;stroke-linecap:butt;stroke-linejoin:miter;stroke-opacity:1\"/>\n<path class=\"bond-5 atom-5 atom-6\" d=\"M 264.0,66.9 L 283.8,66.9\" style=\"fill:none;fill-rule:evenodd;stroke:#0000FF;stroke-width:2.0px;stroke-linecap:butt;stroke-linejoin:miter;stroke-opacity:1\"/>\n<path class=\"bond-6 atom-6 atom-1\" d=\"M 296.2,68.2 L 306.5,85.9\" style=\"fill:none;fill-rule:evenodd;stroke:#0000FF;stroke-width:2.0px;stroke-linecap:butt;stroke-linejoin:miter;stroke-opacity:1\"/>\n<path class=\"bond-6 atom-6 atom-1\" d=\"M 306.5,85.9 L 316.7,103.7\" style=\"fill:none;fill-rule:evenodd;stroke:#000000;stroke-width:2.0px;stroke-linecap:butt;stroke-linejoin:miter;stroke-opacity:1\"/>\n<path d=\"M 292.3,145.9 L 291.0,148.2 L 288.5,148.2\" style=\"fill:none;stroke:#000000;stroke-width:2.0px;stroke-linecap:butt;stroke-linejoin:miter;stroke-opacity:1;\"/>\n<path d=\"M 242.2,148.2 L 239.7,148.2 L 238.4,145.9\" style=\"fill:none;stroke:#000000;stroke-width:2.0px;stroke-linecap:butt;stroke-linejoin:miter;stroke-opacity:1;\"/>\n<path d=\"M 215.3,105.9 L 214.0,103.7 L 215.3,101.5\" style=\"fill:none;stroke:#000000;stroke-width:2.0px;stroke-linecap:butt;stroke-linejoin:miter;stroke-opacity:1;\"/>\n<path d=\"M 238.4,61.4 L 239.7,59.2 L 240.8,59.2\" style=\"fill:none;stroke:#000000;stroke-width:2.0px;stroke-linecap:butt;stroke-linejoin:miter;stroke-opacity:1;\"/>\n<path class=\"atom-0\" d=\"M 361.4 103.7 Q 361.4 100.2, 363.1 98.3 Q 364.8 96.3, 368.1 96.3 Q 371.3 96.3, 373.0 98.3 Q 374.7 100.2, 374.7 103.7 Q 374.7 107.2, 373.0 109.3 Q 371.3 111.3, 368.1 111.3 Q 364.9 111.3, 363.1 109.3 Q 361.4 107.3, 361.4 103.7 M 368.1 109.6 Q 370.3 109.6, 371.5 108.1 Q 372.7 106.6, 372.7 103.7 Q 372.7 100.9, 371.5 99.4 Q 370.3 98.0, 368.1 98.0 Q 365.8 98.0, 364.6 99.4 Q 363.4 100.8, 363.4 103.7 Q 363.4 106.7, 364.6 108.1 Q 365.8 109.6, 368.1 109.6 \" fill=\"#FF0000\"/>\n<path class=\"atom-0\" d=\"M 376.8 98.7 L 381.8 98.7 L 381.8 99.8 L 376.8 99.8 L 376.8 98.7 \" fill=\"#FF0000\"/>\n<path class=\"atom-6\" d=\"M 287.8 51.9 L 292.6 59.6 Q 293.0 60.4, 293.8 61.8 Q 294.6 63.1, 294.6 63.2 L 294.6 51.9 L 296.5 51.9 L 296.5 66.5 L 294.5 66.5 L 289.4 58.0 Q 288.8 57.1, 288.2 55.9 Q 287.6 54.8, 287.4 54.4 L 287.4 66.5 L 285.5 66.5 L 285.5 51.9 L 287.8 51.9 \" fill=\"#0000FF\"/>\n<path class=\"atom-6\" d=\"M 299.3 51.9 L 301.3 51.9 L 301.3 58.1 L 308.7 58.1 L 308.7 51.9 L 310.7 51.9 L 310.7 66.5 L 308.7 66.5 L 308.7 59.7 L 301.3 59.7 L 301.3 66.5 L 299.3 66.5 L 299.3 51.9 \" fill=\"#0000FF\"/>\n<path class=\"atom-6\" d=\"M 313.5 54.5 L 316.1 54.5 L 316.1 51.8 L 317.2 51.8 L 317.2 54.5 L 319.8 54.5 L 319.8 55.5 L 317.2 55.5 L 317.2 58.2 L 316.1 58.2 L 316.1 55.5 L 313.5 55.5 L 313.5 54.5 \" fill=\"#0000FF\"/>\n</svg>"
          },
          "metadata": {}
        },
        {
          "output_type": "stream",
          "name": "stdout",
          "text": [
            "Transition 1\n"
          ]
        },
        {
          "output_type": "display_data",
          "data": {
            "text/plain": [
              "<IPython.core.display.SVG object>"
            ],
            "image/svg+xml": "<svg xmlns=\"http://www.w3.org/2000/svg\" xmlns:rdkit=\"http://www.rdkit.org/xml\" xmlns:xlink=\"http://www.w3.org/1999/xlink\" version=\"1.1\" baseProfile=\"full\" xml:space=\"preserve\" width=\"600px\" height=\"200px\" viewBox=\"0 0 600 200\">\n<!-- END OF HEADER -->\n<rect style=\"opacity:1.0;fill:#FFFFFF;stroke:none\" width=\"600.0\" height=\"200.0\" x=\"0.0\" y=\"0.0\"> </rect>\n<ellipse cx=\"101.5\" cy=\"59.4\" rx=\"25.1\" ry=\"10.7\" class=\"atom-6\" style=\"fill:#FF7F7F;fill-rule:evenodd;stroke:#FF7F7F;stroke-width:1.0px;stroke-linecap:butt;stroke-linejoin:miter;stroke-opacity:1\"/>\n<path class=\"bond-0 atom-0 atom-1\" d=\"M 160.4,105.4 L 138.2,105.4\" style=\"fill:none;fill-rule:evenodd;stroke:#FF0000;stroke-width:2.0px;stroke-linecap:butt;stroke-linejoin:miter;stroke-opacity:1\"/>\n<path class=\"bond-0 atom-0 atom-1\" d=\"M 138.2,105.4 L 116.0,105.4\" style=\"fill:none;fill-rule:evenodd;stroke:#000000;stroke-width:2.0px;stroke-linecap:butt;stroke-linejoin:miter;stroke-opacity:1\"/>\n<path class=\"bond-1 atom-1 atom-2\" d=\"M 116.0,105.4 L 89.5,151.3\" style=\"fill:none;fill-rule:evenodd;stroke:#000000;stroke-width:2.0px;stroke-linecap:butt;stroke-linejoin:miter;stroke-opacity:1\"/>\n<path class=\"bond-1 atom-1 atom-2\" d=\"M 106.8,105.4 L 84.9,143.3\" style=\"fill:none;fill-rule:evenodd;stroke:#000000;stroke-width:2.0px;stroke-linecap:butt;stroke-linejoin:miter;stroke-opacity:1\"/>\n<path class=\"bond-2 atom-2 atom-3\" d=\"M 89.5,151.3 L 36.5,151.3\" style=\"fill:none;fill-rule:evenodd;stroke:#000000;stroke-width:2.0px;stroke-linecap:butt;stroke-linejoin:miter;stroke-opacity:1\"/>\n<path class=\"bond-3 atom-3 atom-4\" d=\"M 36.5,151.3 L 10.0,105.4\" style=\"fill:none;fill-rule:evenodd;stroke:#000000;stroke-width:2.0px;stroke-linecap:butt;stroke-linejoin:miter;stroke-opacity:1\"/>\n<path class=\"bond-3 atom-3 atom-4\" d=\"M 41.1,143.3 L 19.2,105.4\" style=\"fill:none;fill-rule:evenodd;stroke:#000000;stroke-width:2.0px;stroke-linecap:butt;stroke-linejoin:miter;stroke-opacity:1\"/>\n<path class=\"bond-4 atom-4 atom-5\" d=\"M 10.0,105.4 L 36.5,59.4\" style=\"fill:none;fill-rule:evenodd;stroke:#000000;stroke-width:2.0px;stroke-linecap:butt;stroke-linejoin:miter;stroke-opacity:1\"/>\n<path class=\"bond-5 atom-5 atom-6\" d=\"M 36.5,59.4 L 59.3,59.4\" style=\"fill:none;fill-rule:evenodd;stroke:#000000;stroke-width:2.0px;stroke-linecap:butt;stroke-linejoin:miter;stroke-opacity:1\"/>\n<path class=\"bond-5 atom-5 atom-6\" d=\"M 59.3,59.4 L 82.1,59.4\" style=\"fill:none;fill-rule:evenodd;stroke:#0000FF;stroke-width:2.0px;stroke-linecap:butt;stroke-linejoin:miter;stroke-opacity:1\"/>\n<path class=\"bond-5 atom-5 atom-6\" d=\"M 41.1,67.4 L 61.6,67.4\" style=\"fill:none;fill-rule:evenodd;stroke:#000000;stroke-width:2.0px;stroke-linecap:butt;stroke-linejoin:miter;stroke-opacity:1\"/>\n<path class=\"bond-5 atom-5 atom-6\" d=\"M 61.6,67.4 L 82.1,67.4\" style=\"fill:none;fill-rule:evenodd;stroke:#0000FF;stroke-width:2.0px;stroke-linecap:butt;stroke-linejoin:miter;stroke-opacity:1\"/>\n<path class=\"bond-6 atom-6 atom-1\" d=\"M 94.9,68.7 L 105.4,87.0\" style=\"fill:none;fill-rule:evenodd;stroke:#0000FF;stroke-width:2.0px;stroke-linecap:butt;stroke-linejoin:miter;stroke-opacity:1\"/>\n<path class=\"bond-6 atom-6 atom-1\" d=\"M 105.4,87.0 L 116.0,105.4\" style=\"fill:none;fill-rule:evenodd;stroke:#000000;stroke-width:2.0px;stroke-linecap:butt;stroke-linejoin:miter;stroke-opacity:1\"/>\n<path d=\"M 90.8,149.0 L 89.5,151.3 L 86.9,151.3\" style=\"fill:none;stroke:#000000;stroke-width:2.0px;stroke-linecap:butt;stroke-linejoin:miter;stroke-opacity:1;\"/>\n<path d=\"M 39.2,151.3 L 36.5,151.3 L 35.2,149.0\" style=\"fill:none;stroke:#000000;stroke-width:2.0px;stroke-linecap:butt;stroke-linejoin:miter;stroke-opacity:1;\"/>\n<path d=\"M 11.3,107.7 L 10.0,105.4 L 11.3,103.1\" style=\"fill:none;stroke:#000000;stroke-width:2.0px;stroke-linecap:butt;stroke-linejoin:miter;stroke-opacity:1;\"/>\n<path d=\"M 35.2,61.7 L 36.5,59.4 L 37.6,59.4\" style=\"fill:none;stroke:#000000;stroke-width:2.0px;stroke-linecap:butt;stroke-linejoin:miter;stroke-opacity:1;\"/>\n<path class=\"atom-0\" d=\"M 162.1 105.4 Q 162.1 101.8, 163.9 99.8 Q 165.7 97.8, 169.0 97.8 Q 172.4 97.8, 174.1 99.8 Q 175.9 101.8, 175.9 105.4 Q 175.9 109.0, 174.1 111.1 Q 172.3 113.2, 169.0 113.2 Q 165.7 113.2, 163.9 111.1 Q 162.1 109.1, 162.1 105.4 M 169.0 111.5 Q 171.3 111.5, 172.5 110.0 Q 173.8 108.4, 173.8 105.4 Q 173.8 102.5, 172.5 101.0 Q 171.3 99.5, 169.0 99.5 Q 166.7 99.5, 165.5 100.9 Q 164.3 102.4, 164.3 105.4 Q 164.3 108.4, 165.5 110.0 Q 166.7 111.5, 169.0 111.5 \" fill=\"#FF0000\"/>\n<path class=\"atom-0\" d=\"M 178.3 97.9 L 180.3 97.9 L 180.3 104.3 L 188.0 104.3 L 188.0 97.9 L 190.0 97.9 L 190.0 112.9 L 188.0 112.9 L 188.0 106.0 L 180.3 106.0 L 180.3 112.9 L 178.3 112.9 L 178.3 97.9 \" fill=\"#FF0000\"/>\n<path class=\"atom-6\" d=\"M 86.2 51.9 L 91.1 59.9 Q 91.6 60.7, 92.4 62.1 Q 93.2 63.5, 93.2 63.6 L 93.2 51.9 L 95.2 51.9 L 95.2 67.0 L 93.1 67.0 L 87.9 58.3 Q 87.3 57.2, 86.6 56.1 Q 86.0 54.9, 85.8 54.6 L 85.8 67.0 L 83.8 67.0 L 83.8 51.9 L 86.2 51.9 \" fill=\"#0000FF\"/>\n<path class=\"atom-6\" d=\"M 98.1 51.9 L 100.1 51.9 L 100.1 58.3 L 107.8 58.3 L 107.8 51.9 L 109.8 51.9 L 109.8 67.0 L 107.8 67.0 L 107.8 60.0 L 100.1 60.0 L 100.1 67.0 L 98.1 67.0 L 98.1 51.9 \" fill=\"#0000FF\"/>\n<path class=\"atom-6\" d=\"M 112.7 54.6 L 115.4 54.6 L 115.4 51.9 L 116.5 51.9 L 116.5 54.6 L 119.3 54.6 L 119.3 55.7 L 116.5 55.7 L 116.5 58.5 L 115.4 58.5 L 115.4 55.7 L 112.7 55.7 L 112.7 54.6 \" fill=\"#0000FF\"/>\n<ellipse cx=\"289.5\" cy=\"59.4\" rx=\"10.6\" ry=\"10.6\" class=\"atom-6\" style=\"fill:#FF7F7F;fill-rule:evenodd;stroke:#FF7F7F;stroke-width:1.0px;stroke-linecap:butt;stroke-linejoin:miter;stroke-opacity:1\"/>\n<path class=\"bond-0 atom-0 atom-1\" d=\"M 360.4,105.3 L 338.2,105.3\" style=\"fill:none;fill-rule:evenodd;stroke:#FF0000;stroke-width:2.0px;stroke-linecap:butt;stroke-linejoin:miter;stroke-opacity:1\"/>\n<path class=\"bond-0 atom-0 atom-1\" d=\"M 338.2,105.3 L 316.0,105.3\" style=\"fill:none;fill-rule:evenodd;stroke:#000000;stroke-width:2.0px;stroke-linecap:butt;stroke-linejoin:miter;stroke-opacity:1\"/>\n<path class=\"bond-1 atom-1 atom-2\" d=\"M 316.0,105.3 L 289.5,151.2\" style=\"fill:none;fill-rule:evenodd;stroke:#000000;stroke-width:2.0px;stroke-linecap:butt;stroke-linejoin:miter;stroke-opacity:1\"/>\n<path class=\"bond-1 atom-1 atom-2\" d=\"M 306.8,105.3 L 284.9,143.3\" style=\"fill:none;fill-rule:evenodd;stroke:#000000;stroke-width:2.0px;stroke-linecap:butt;stroke-linejoin:miter;stroke-opacity:1\"/>\n<path class=\"bond-2 atom-2 atom-3\" d=\"M 289.5,151.2 L 236.5,151.2\" style=\"fill:none;fill-rule:evenodd;stroke:#000000;stroke-width:2.0px;stroke-linecap:butt;stroke-linejoin:miter;stroke-opacity:1\"/>\n<path class=\"bond-3 atom-3 atom-4\" d=\"M 236.5,151.2 L 210.0,105.3\" style=\"fill:none;fill-rule:evenodd;stroke:#000000;stroke-width:2.0px;stroke-linecap:butt;stroke-linejoin:miter;stroke-opacity:1\"/>\n<path class=\"bond-3 atom-3 atom-4\" d=\"M 241.1,143.3 L 219.2,105.3\" style=\"fill:none;fill-rule:evenodd;stroke:#000000;stroke-width:2.0px;stroke-linecap:butt;stroke-linejoin:miter;stroke-opacity:1\"/>\n<path class=\"bond-4 atom-4 atom-5\" d=\"M 210.0,105.3 L 236.5,59.4\" style=\"fill:none;fill-rule:evenodd;stroke:#000000;stroke-width:2.0px;stroke-linecap:butt;stroke-linejoin:miter;stroke-opacity:1\"/>\n<path class=\"bond-5 atom-5 atom-6\" d=\"M 236.5,59.4 L 259.3,59.4\" style=\"fill:none;fill-rule:evenodd;stroke:#000000;stroke-width:2.0px;stroke-linecap:butt;stroke-linejoin:miter;stroke-opacity:1\"/>\n<path class=\"bond-5 atom-5 atom-6\" d=\"M 259.3,59.4 L 282.1,59.4\" style=\"fill:none;fill-rule:evenodd;stroke:#0000FF;stroke-width:2.0px;stroke-linecap:butt;stroke-linejoin:miter;stroke-opacity:1\"/>\n<path class=\"bond-5 atom-5 atom-6\" d=\"M 241.1,67.4 L 261.6,67.4\" style=\"fill:none;fill-rule:evenodd;stroke:#000000;stroke-width:2.0px;stroke-linecap:butt;stroke-linejoin:miter;stroke-opacity:1\"/>\n<path class=\"bond-5 atom-5 atom-6\" d=\"M 261.6,67.4 L 282.1,67.4\" style=\"fill:none;fill-rule:evenodd;stroke:#0000FF;stroke-width:2.0px;stroke-linecap:butt;stroke-linejoin:miter;stroke-opacity:1\"/>\n<path class=\"bond-6 atom-6 atom-1\" d=\"M 294.9,68.7 L 305.4,87.0\" style=\"fill:none;fill-rule:evenodd;stroke:#0000FF;stroke-width:2.0px;stroke-linecap:butt;stroke-linejoin:miter;stroke-opacity:1\"/>\n<path class=\"bond-6 atom-6 atom-1\" d=\"M 305.4,87.0 L 316.0,105.3\" style=\"fill:none;fill-rule:evenodd;stroke:#000000;stroke-width:2.0px;stroke-linecap:butt;stroke-linejoin:miter;stroke-opacity:1\"/>\n<path d=\"M 290.8,148.9 L 289.5,151.2 L 286.9,151.2\" style=\"fill:none;stroke:#000000;stroke-width:2.0px;stroke-linecap:butt;stroke-linejoin:miter;stroke-opacity:1;\"/>\n<path d=\"M 239.2,151.2 L 236.5,151.2 L 235.2,148.9\" style=\"fill:none;stroke:#000000;stroke-width:2.0px;stroke-linecap:butt;stroke-linejoin:miter;stroke-opacity:1;\"/>\n<path d=\"M 211.3,107.6 L 210.0,105.3 L 211.3,103.0\" style=\"fill:none;stroke:#000000;stroke-width:2.0px;stroke-linecap:butt;stroke-linejoin:miter;stroke-opacity:1;\"/>\n<path d=\"M 235.2,61.7 L 236.5,59.4 L 237.6,59.4\" style=\"fill:none;stroke:#000000;stroke-width:2.0px;stroke-linecap:butt;stroke-linejoin:miter;stroke-opacity:1;\"/>\n<path class=\"atom-0\" d=\"M 362.1 105.3 Q 362.1 101.7, 363.9 99.7 Q 365.7 97.7, 369.0 97.7 Q 372.4 97.7, 374.1 99.7 Q 375.9 101.7, 375.9 105.3 Q 375.9 109.0, 374.1 111.1 Q 372.3 113.1, 369.0 113.1 Q 365.7 113.1, 363.9 111.1 Q 362.1 109.0, 362.1 105.3 M 369.0 111.4 Q 371.3 111.4, 372.5 109.9 Q 373.8 108.4, 373.8 105.3 Q 373.8 102.4, 372.5 100.9 Q 371.3 99.4, 369.0 99.4 Q 366.7 99.4, 365.5 100.9 Q 364.3 102.4, 364.3 105.3 Q 364.3 108.4, 365.5 109.9 Q 366.7 111.4, 369.0 111.4 \" fill=\"#FF0000\"/>\n<path class=\"atom-0\" d=\"M 378.3 97.9 L 380.3 97.9 L 380.3 104.3 L 388.0 104.3 L 388.0 97.9 L 390.0 97.9 L 390.0 112.9 L 388.0 112.9 L 388.0 106.0 L 380.3 106.0 L 380.3 112.9 L 378.3 112.9 L 378.3 97.9 \" fill=\"#FF0000\"/>\n<path class=\"atom-6\" d=\"M 286.2 51.9 L 291.1 59.8 Q 291.6 60.6, 292.4 62.1 Q 293.2 63.5, 293.2 63.6 L 293.2 51.9 L 295.2 51.9 L 295.2 66.9 L 293.1 66.9 L 287.9 58.2 Q 287.3 57.2, 286.6 56.0 Q 286.0 54.9, 285.8 54.5 L 285.8 66.9 L 283.8 66.9 L 283.8 51.9 L 286.2 51.9 \" fill=\"#0000FF\"/>\n</svg>"
          },
          "metadata": {}
        },
        {
          "output_type": "stream",
          "name": "stdout",
          "text": [
            "Transition 2\n"
          ]
        },
        {
          "output_type": "display_data",
          "data": {
            "text/plain": [
              "<IPython.core.display.SVG object>"
            ],
            "image/svg+xml": "<svg xmlns=\"http://www.w3.org/2000/svg\" xmlns:rdkit=\"http://www.rdkit.org/xml\" xmlns:xlink=\"http://www.w3.org/1999/xlink\" version=\"1.1\" baseProfile=\"full\" xml:space=\"preserve\" width=\"600px\" height=\"200px\" viewBox=\"0 0 600 200\">\n<!-- END OF HEADER -->\n<rect style=\"opacity:1.0;fill:#FFFFFF;stroke:none\" width=\"600.0\" height=\"200.0\" x=\"0.0\" y=\"0.0\"> </rect>\n<ellipse cx=\"105.1\" cy=\"57.8\" rx=\"26.0\" ry=\"11.1\" class=\"atom-6\" style=\"fill:#FF7F7F;fill-rule:evenodd;stroke:#FF7F7F;stroke-width:1.0px;stroke-linecap:butt;stroke-linejoin:miter;stroke-opacity:1\"/>\n<path class=\"bond-0 atom-0 atom-1\" d=\"M 166.3,105.6 L 143.2,105.6\" style=\"fill:none;fill-rule:evenodd;stroke:#FF0000;stroke-width:2.0px;stroke-linecap:butt;stroke-linejoin:miter;stroke-opacity:1\"/>\n<path class=\"bond-0 atom-0 atom-1\" d=\"M 143.2,105.6 L 120.2,105.6\" style=\"fill:none;fill-rule:evenodd;stroke:#000000;stroke-width:2.0px;stroke-linecap:butt;stroke-linejoin:miter;stroke-opacity:1\"/>\n<path class=\"bond-1 atom-1 atom-2\" d=\"M 120.2,105.6 L 92.6,153.3\" style=\"fill:none;fill-rule:evenodd;stroke:#000000;stroke-width:2.0px;stroke-linecap:butt;stroke-linejoin:miter;stroke-opacity:1\"/>\n<path class=\"bond-1 atom-1 atom-2\" d=\"M 110.6,105.6 L 87.9,145.0\" style=\"fill:none;fill-rule:evenodd;stroke:#000000;stroke-width:2.0px;stroke-linecap:butt;stroke-linejoin:miter;stroke-opacity:1\"/>\n<path class=\"bond-2 atom-2 atom-3\" d=\"M 92.6,153.3 L 37.5,153.3\" style=\"fill:none;fill-rule:evenodd;stroke:#000000;stroke-width:2.0px;stroke-linecap:butt;stroke-linejoin:miter;stroke-opacity:1\"/>\n<path class=\"bond-3 atom-3 atom-4\" d=\"M 37.5,153.3 L 10.0,105.6\" style=\"fill:none;fill-rule:evenodd;stroke:#000000;stroke-width:2.0px;stroke-linecap:butt;stroke-linejoin:miter;stroke-opacity:1\"/>\n<path class=\"bond-3 atom-3 atom-4\" d=\"M 42.3,145.0 L 19.5,105.6\" style=\"fill:none;fill-rule:evenodd;stroke:#000000;stroke-width:2.0px;stroke-linecap:butt;stroke-linejoin:miter;stroke-opacity:1\"/>\n<path class=\"bond-4 atom-4 atom-5\" d=\"M 10.0,105.6 L 37.5,57.9\" style=\"fill:none;fill-rule:evenodd;stroke:#000000;stroke-width:2.0px;stroke-linecap:butt;stroke-linejoin:miter;stroke-opacity:1\"/>\n<path class=\"bond-5 atom-5 atom-6\" d=\"M 37.5,57.9 L 61.2,57.9\" style=\"fill:none;fill-rule:evenodd;stroke:#000000;stroke-width:2.0px;stroke-linecap:butt;stroke-linejoin:miter;stroke-opacity:1\"/>\n<path class=\"bond-5 atom-5 atom-6\" d=\"M 61.2,57.9 L 84.9,57.9\" style=\"fill:none;fill-rule:evenodd;stroke:#0000FF;stroke-width:2.0px;stroke-linecap:butt;stroke-linejoin:miter;stroke-opacity:1\"/>\n<path class=\"bond-5 atom-5 atom-6\" d=\"M 42.3,66.1 L 63.6,66.1\" style=\"fill:none;fill-rule:evenodd;stroke:#000000;stroke-width:2.0px;stroke-linecap:butt;stroke-linejoin:miter;stroke-opacity:1\"/>\n<path class=\"bond-5 atom-5 atom-6\" d=\"M 63.6,66.1 L 84.9,66.1\" style=\"fill:none;fill-rule:evenodd;stroke:#0000FF;stroke-width:2.0px;stroke-linecap:butt;stroke-linejoin:miter;stroke-opacity:1\"/>\n<path class=\"bond-6 atom-6 atom-1\" d=\"M 98.2,67.5 L 109.2,86.5\" style=\"fill:none;fill-rule:evenodd;stroke:#0000FF;stroke-width:2.0px;stroke-linecap:butt;stroke-linejoin:miter;stroke-opacity:1\"/>\n<path class=\"bond-6 atom-6 atom-1\" d=\"M 109.2,86.5 L 120.2,105.6\" style=\"fill:none;fill-rule:evenodd;stroke:#000000;stroke-width:2.0px;stroke-linecap:butt;stroke-linejoin:miter;stroke-opacity:1\"/>\n<path d=\"M 94.0,150.9 L 92.6,153.3 L 89.9,153.3\" style=\"fill:none;stroke:#000000;stroke-width:2.0px;stroke-linecap:butt;stroke-linejoin:miter;stroke-opacity:1;\"/>\n<path d=\"M 40.3,153.3 L 37.5,153.3 L 36.2,150.9\" style=\"fill:none;stroke:#000000;stroke-width:2.0px;stroke-linecap:butt;stroke-linejoin:miter;stroke-opacity:1;\"/>\n<path d=\"M 11.4,108.0 L 10.0,105.6 L 11.4,103.2\" style=\"fill:none;stroke:#000000;stroke-width:2.0px;stroke-linecap:butt;stroke-linejoin:miter;stroke-opacity:1;\"/>\n<path d=\"M 36.2,60.2 L 37.5,57.9 L 38.7,57.9\" style=\"fill:none;stroke:#000000;stroke-width:2.0px;stroke-linecap:butt;stroke-linejoin:miter;stroke-opacity:1;\"/>\n<path class=\"atom-0\" d=\"M 168.1 105.6 Q 168.1 101.9, 170.0 99.8 Q 171.8 97.7, 175.3 97.7 Q 178.7 97.7, 180.6 99.8 Q 182.4 101.9, 182.4 105.6 Q 182.4 109.4, 180.6 111.6 Q 178.7 113.7, 175.3 113.7 Q 171.8 113.7, 170.0 111.6 Q 168.1 109.4, 168.1 105.6 M 175.3 111.9 Q 177.7 111.9, 178.9 110.3 Q 180.2 108.7, 180.2 105.6 Q 180.2 102.5, 178.9 101.0 Q 177.7 99.4, 175.3 99.4 Q 172.9 99.4, 171.6 101.0 Q 170.3 102.5, 170.3 105.6 Q 170.3 108.8, 171.6 110.3 Q 172.9 111.9, 175.3 111.9 \" fill=\"#FF0000\"/>\n<path class=\"atom-0\" d=\"M 184.7 100.2 L 190.0 100.2 L 190.0 101.4 L 184.7 101.4 L 184.7 100.2 \" fill=\"#FF0000\"/>\n<path class=\"atom-6\" d=\"M 89.2 50.1 L 94.3 58.3 Q 94.8 59.1, 95.6 60.6 Q 96.4 62.1, 96.5 62.2 L 96.5 50.1 L 98.6 50.1 L 98.6 65.7 L 96.4 65.7 L 90.9 56.6 Q 90.3 55.6, 89.6 54.4 Q 88.9 53.1, 88.7 52.8 L 88.7 65.7 L 86.7 65.7 L 86.7 50.1 L 89.2 50.1 \" fill=\"#0000FF\"/>\n<path class=\"atom-6\" d=\"M 101.5 50.1 L 103.6 50.1 L 103.6 56.7 L 111.6 56.7 L 111.6 50.1 L 113.7 50.1 L 113.7 65.7 L 111.6 65.7 L 111.6 58.4 L 103.6 58.4 L 103.6 65.7 L 101.5 65.7 L 101.5 50.1 \" fill=\"#0000FF\"/>\n<path class=\"atom-6\" d=\"M 116.8 52.9 L 119.5 52.9 L 119.5 50.0 L 120.7 50.0 L 120.7 52.9 L 123.5 52.9 L 123.5 53.9 L 120.7 53.9 L 120.7 56.8 L 119.5 56.8 L 119.5 53.9 L 116.8 53.9 L 116.8 52.9 \" fill=\"#0000FF\"/>\n<ellipse cx=\"292.6\" cy=\"57.8\" rx=\"11.0\" ry=\"11.0\" class=\"atom-6\" style=\"fill:#FF7F7F;fill-rule:evenodd;stroke:#FF7F7F;stroke-width:1.0px;stroke-linecap:butt;stroke-linejoin:miter;stroke-opacity:1\"/>\n<path class=\"bond-0 atom-0 atom-1\" d=\"M 366.3,105.5 L 343.2,105.5\" style=\"fill:none;fill-rule:evenodd;stroke:#FF0000;stroke-width:2.0px;stroke-linecap:butt;stroke-linejoin:miter;stroke-opacity:1\"/>\n<path class=\"bond-0 atom-0 atom-1\" d=\"M 343.2,105.5 L 320.2,105.5\" style=\"fill:none;fill-rule:evenodd;stroke:#000000;stroke-width:2.0px;stroke-linecap:butt;stroke-linejoin:miter;stroke-opacity:1\"/>\n<path class=\"bond-1 atom-1 atom-2\" d=\"M 320.2,105.5 L 292.6,153.2\" style=\"fill:none;fill-rule:evenodd;stroke:#000000;stroke-width:2.0px;stroke-linecap:butt;stroke-linejoin:miter;stroke-opacity:1\"/>\n<path class=\"bond-1 atom-1 atom-2\" d=\"M 310.6,105.5 L 287.9,145.0\" style=\"fill:none;fill-rule:evenodd;stroke:#000000;stroke-width:2.0px;stroke-linecap:butt;stroke-linejoin:miter;stroke-opacity:1\"/>\n<path class=\"bond-2 atom-2 atom-3\" d=\"M 292.6,153.2 L 237.5,153.2\" style=\"fill:none;fill-rule:evenodd;stroke:#000000;stroke-width:2.0px;stroke-linecap:butt;stroke-linejoin:miter;stroke-opacity:1\"/>\n<path class=\"bond-3 atom-3 atom-4\" d=\"M 237.5,153.2 L 210.0,105.5\" style=\"fill:none;fill-rule:evenodd;stroke:#000000;stroke-width:2.0px;stroke-linecap:butt;stroke-linejoin:miter;stroke-opacity:1\"/>\n<path class=\"bond-3 atom-3 atom-4\" d=\"M 242.3,145.0 L 219.5,105.5\" style=\"fill:none;fill-rule:evenodd;stroke:#000000;stroke-width:2.0px;stroke-linecap:butt;stroke-linejoin:miter;stroke-opacity:1\"/>\n<path class=\"bond-4 atom-4 atom-5\" d=\"M 210.0,105.5 L 237.5,57.8\" style=\"fill:none;fill-rule:evenodd;stroke:#000000;stroke-width:2.0px;stroke-linecap:butt;stroke-linejoin:miter;stroke-opacity:1\"/>\n<path class=\"bond-5 atom-5 atom-6\" d=\"M 237.5,57.8 L 261.2,57.8\" style=\"fill:none;fill-rule:evenodd;stroke:#000000;stroke-width:2.0px;stroke-linecap:butt;stroke-linejoin:miter;stroke-opacity:1\"/>\n<path class=\"bond-5 atom-5 atom-6\" d=\"M 261.2,57.8 L 284.9,57.8\" style=\"fill:none;fill-rule:evenodd;stroke:#0000FF;stroke-width:2.0px;stroke-linecap:butt;stroke-linejoin:miter;stroke-opacity:1\"/>\n<path class=\"bond-5 atom-5 atom-6\" d=\"M 242.3,66.1 L 263.6,66.1\" style=\"fill:none;fill-rule:evenodd;stroke:#000000;stroke-width:2.0px;stroke-linecap:butt;stroke-linejoin:miter;stroke-opacity:1\"/>\n<path class=\"bond-5 atom-5 atom-6\" d=\"M 263.6,66.1 L 284.9,66.1\" style=\"fill:none;fill-rule:evenodd;stroke:#0000FF;stroke-width:2.0px;stroke-linecap:butt;stroke-linejoin:miter;stroke-opacity:1\"/>\n<path class=\"bond-6 atom-6 atom-1\" d=\"M 298.2,67.4 L 309.2,86.5\" style=\"fill:none;fill-rule:evenodd;stroke:#0000FF;stroke-width:2.0px;stroke-linecap:butt;stroke-linejoin:miter;stroke-opacity:1\"/>\n<path class=\"bond-6 atom-6 atom-1\" d=\"M 309.2,86.5 L 320.2,105.5\" style=\"fill:none;fill-rule:evenodd;stroke:#000000;stroke-width:2.0px;stroke-linecap:butt;stroke-linejoin:miter;stroke-opacity:1\"/>\n<path d=\"M 294.0,150.8 L 292.6,153.2 L 289.9,153.2\" style=\"fill:none;stroke:#000000;stroke-width:2.0px;stroke-linecap:butt;stroke-linejoin:miter;stroke-opacity:1;\"/>\n<path d=\"M 240.3,153.2 L 237.5,153.2 L 236.2,150.8\" style=\"fill:none;stroke:#000000;stroke-width:2.0px;stroke-linecap:butt;stroke-linejoin:miter;stroke-opacity:1;\"/>\n<path d=\"M 211.4,107.9 L 210.0,105.5 L 211.4,103.1\" style=\"fill:none;stroke:#000000;stroke-width:2.0px;stroke-linecap:butt;stroke-linejoin:miter;stroke-opacity:1;\"/>\n<path d=\"M 236.2,60.2 L 237.5,57.8 L 238.7,57.8\" style=\"fill:none;stroke:#000000;stroke-width:2.0px;stroke-linecap:butt;stroke-linejoin:miter;stroke-opacity:1;\"/>\n<path class=\"atom-0\" d=\"M 368.1 105.6 Q 368.1 101.8, 370.0 99.7 Q 371.8 97.6, 375.3 97.6 Q 378.7 97.6, 380.6 99.7 Q 382.4 101.8, 382.4 105.6 Q 382.4 109.4, 380.6 111.5 Q 378.7 113.6, 375.3 113.6 Q 371.8 113.6, 370.0 111.5 Q 368.1 109.4, 368.1 105.6 M 375.3 111.9 Q 377.7 111.9, 378.9 110.3 Q 380.2 108.7, 380.2 105.6 Q 380.2 102.5, 378.9 101.0 Q 377.7 99.4, 375.3 99.4 Q 372.9 99.4, 371.6 100.9 Q 370.3 102.5, 370.3 105.6 Q 370.3 108.7, 371.6 110.3 Q 372.9 111.9, 375.3 111.9 \" fill=\"#FF0000\"/>\n<path class=\"atom-0\" d=\"M 384.7 100.2 L 390.0 100.2 L 390.0 101.3 L 384.7 101.3 L 384.7 100.2 \" fill=\"#FF0000\"/>\n<path class=\"atom-6\" d=\"M 289.2 50.0 L 294.3 58.3 Q 294.8 59.1, 295.6 60.6 Q 296.4 62.0, 296.5 62.1 L 296.5 50.0 L 298.6 50.0 L 298.6 65.6 L 296.4 65.6 L 290.9 56.6 Q 290.3 55.5, 289.6 54.3 Q 288.9 53.1, 288.7 52.7 L 288.7 65.6 L 286.7 65.6 L 286.7 50.0 L 289.2 50.0 \" fill=\"#0000FF\"/>\n</svg>"
          },
          "metadata": {}
        },
        {
          "output_type": "stream",
          "name": "stdout",
          "text": [
            "Transition 3\n"
          ]
        },
        {
          "output_type": "display_data",
          "data": {
            "text/plain": [
              "<IPython.core.display.SVG object>"
            ],
            "image/svg+xml": "<svg xmlns=\"http://www.w3.org/2000/svg\" xmlns:rdkit=\"http://www.rdkit.org/xml\" xmlns:xlink=\"http://www.w3.org/1999/xlink\" version=\"1.1\" baseProfile=\"full\" xml:space=\"preserve\" width=\"600px\" height=\"200px\" viewBox=\"0 0 600 200\">\n<!-- END OF HEADER -->\n<rect style=\"opacity:1.0;fill:#FFFFFF;stroke:none\" width=\"600.0\" height=\"200.0\" x=\"0.0\" y=\"0.0\"> </rect>\n<ellipse cx=\"170.9\" cy=\"103.7\" rx=\"19.1\" ry=\"10.6\" class=\"atom-0\" style=\"fill:#FF7F7F;fill-rule:evenodd;stroke:#FF7F7F;stroke-width:1.0px;stroke-linecap:butt;stroke-linejoin:miter;stroke-opacity:1\"/>\n<path class=\"bond-0 atom-0 atom-1\" d=\"M 155.7,103.6 L 134.2,103.6\" style=\"fill:none;fill-rule:evenodd;stroke:#FF0000;stroke-width:2.0px;stroke-linecap:butt;stroke-linejoin:miter;stroke-opacity:1\"/>\n<path class=\"bond-0 atom-0 atom-1\" d=\"M 134.2,103.6 L 112.7,103.6\" style=\"fill:none;fill-rule:evenodd;stroke:#000000;stroke-width:2.0px;stroke-linecap:butt;stroke-linejoin:miter;stroke-opacity:1\"/>\n<path class=\"bond-1 atom-1 atom-2\" d=\"M 112.7,103.6 L 87.0,148.1\" style=\"fill:none;fill-rule:evenodd;stroke:#000000;stroke-width:2.0px;stroke-linecap:butt;stroke-linejoin:miter;stroke-opacity:1\"/>\n<path class=\"bond-1 atom-1 atom-2\" d=\"M 103.8,103.6 L 82.6,140.4\" style=\"fill:none;fill-rule:evenodd;stroke:#000000;stroke-width:2.0px;stroke-linecap:butt;stroke-linejoin:miter;stroke-opacity:1\"/>\n<path class=\"bond-2 atom-2 atom-3\" d=\"M 87.0,148.1 L 35.7,148.1\" style=\"fill:none;fill-rule:evenodd;stroke:#000000;stroke-width:2.0px;stroke-linecap:butt;stroke-linejoin:miter;stroke-opacity:1\"/>\n<path class=\"bond-3 atom-3 atom-4\" d=\"M 35.7,148.1 L 10.0,103.6\" style=\"fill:none;fill-rule:evenodd;stroke:#000000;stroke-width:2.0px;stroke-linecap:butt;stroke-linejoin:miter;stroke-opacity:1\"/>\n<path class=\"bond-3 atom-3 atom-4\" d=\"M 40.1,140.4 L 18.9,103.6\" style=\"fill:none;fill-rule:evenodd;stroke:#000000;stroke-width:2.0px;stroke-linecap:butt;stroke-linejoin:miter;stroke-opacity:1\"/>\n<path class=\"bond-4 atom-4 atom-5\" d=\"M 10.0,103.6 L 35.7,59.2\" style=\"fill:none;fill-rule:evenodd;stroke:#000000;stroke-width:2.0px;stroke-linecap:butt;stroke-linejoin:miter;stroke-opacity:1\"/>\n<path class=\"bond-5 atom-5 atom-6\" d=\"M 35.7,59.2 L 57.8,59.2\" style=\"fill:none;fill-rule:evenodd;stroke:#000000;stroke-width:2.0px;stroke-linecap:butt;stroke-linejoin:miter;stroke-opacity:1\"/>\n<path class=\"bond-5 atom-5 atom-6\" d=\"M 57.8,59.2 L 79.8,59.2\" style=\"fill:none;fill-rule:evenodd;stroke:#0000FF;stroke-width:2.0px;stroke-linecap:butt;stroke-linejoin:miter;stroke-opacity:1\"/>\n<path class=\"bond-5 atom-5 atom-6\" d=\"M 40.1,66.9 L 60.0,66.9\" style=\"fill:none;fill-rule:evenodd;stroke:#000000;stroke-width:2.0px;stroke-linecap:butt;stroke-linejoin:miter;stroke-opacity:1\"/>\n<path class=\"bond-5 atom-5 atom-6\" d=\"M 60.0,66.9 L 79.8,66.9\" style=\"fill:none;fill-rule:evenodd;stroke:#0000FF;stroke-width:2.0px;stroke-linecap:butt;stroke-linejoin:miter;stroke-opacity:1\"/>\n<path class=\"bond-6 atom-6 atom-1\" d=\"M 92.2,68.1 L 102.5,85.9\" style=\"fill:none;fill-rule:evenodd;stroke:#0000FF;stroke-width:2.0px;stroke-linecap:butt;stroke-linejoin:miter;stroke-opacity:1\"/>\n<path class=\"bond-6 atom-6 atom-1\" d=\"M 102.5,85.9 L 112.7,103.6\" style=\"fill:none;fill-rule:evenodd;stroke:#000000;stroke-width:2.0px;stroke-linecap:butt;stroke-linejoin:miter;stroke-opacity:1\"/>\n<path d=\"M 88.3,145.9 L 87.0,148.1 L 84.5,148.1\" style=\"fill:none;stroke:#000000;stroke-width:2.0px;stroke-linecap:butt;stroke-linejoin:miter;stroke-opacity:1;\"/>\n<path d=\"M 38.2,148.1 L 35.7,148.1 L 34.4,145.9\" style=\"fill:none;stroke:#000000;stroke-width:2.0px;stroke-linecap:butt;stroke-linejoin:miter;stroke-opacity:1;\"/>\n<path d=\"M 11.3,105.9 L 10.0,103.6 L 11.3,101.4\" style=\"fill:none;stroke:#000000;stroke-width:2.0px;stroke-linecap:butt;stroke-linejoin:miter;stroke-opacity:1;\"/>\n<path d=\"M 34.4,61.4 L 35.7,59.2 L 36.8,59.2\" style=\"fill:none;stroke:#000000;stroke-width:2.0px;stroke-linecap:butt;stroke-linejoin:miter;stroke-opacity:1;\"/>\n<path class=\"atom-0\" d=\"M 157.4 103.7 Q 157.4 100.2, 159.1 98.2 Q 160.9 96.3, 164.1 96.3 Q 167.3 96.3, 169.0 98.2 Q 170.8 100.2, 170.8 103.7 Q 170.8 107.2, 169.0 109.2 Q 167.3 111.2, 164.1 111.2 Q 160.9 111.2, 159.1 109.2 Q 157.4 107.2, 157.4 103.7 M 164.1 109.6 Q 166.3 109.6, 167.5 108.1 Q 168.7 106.6, 168.7 103.7 Q 168.7 100.8, 167.5 99.4 Q 166.3 97.9, 164.1 97.9 Q 161.9 97.9, 160.7 99.4 Q 159.5 100.8, 159.5 103.7 Q 159.5 106.6, 160.7 108.1 Q 161.9 109.6, 164.1 109.6 \" fill=\"#FF0000\"/>\n<path class=\"atom-0\" d=\"M 173.0 96.4 L 175.0 96.4 L 175.0 102.6 L 182.4 102.6 L 182.4 96.4 L 184.4 96.4 L 184.4 111.0 L 182.4 111.0 L 182.4 104.3 L 175.0 104.3 L 175.0 111.0 L 173.0 111.0 L 173.0 96.4 \" fill=\"#FF0000\"/>\n<path class=\"atom-6\" d=\"M 83.8 51.9 L 88.6 59.6 Q 89.1 60.3, 89.8 61.7 Q 90.6 63.1, 90.6 63.2 L 90.6 51.9 L 92.6 51.9 L 92.6 66.4 L 90.6 66.4 L 85.5 58.0 Q 84.9 57.0, 84.2 55.9 Q 83.6 54.8, 83.4 54.4 L 83.4 66.4 L 81.5 66.4 L 81.5 51.9 L 83.8 51.9 \" fill=\"#0000FF\"/>\n<ellipse cx=\"371.6\" cy=\"103.7\" rx=\"14.4\" ry=\"10.6\" class=\"atom-0\" style=\"fill:#FF7F7F;fill-rule:evenodd;stroke:#FF7F7F;stroke-width:1.0px;stroke-linecap:butt;stroke-linejoin:miter;stroke-opacity:1\"/>\n<path class=\"bond-0 atom-0 atom-1\" d=\"M 359.7,103.6 L 338.2,103.6\" style=\"fill:none;fill-rule:evenodd;stroke:#FF0000;stroke-width:2.0px;stroke-linecap:butt;stroke-linejoin:miter;stroke-opacity:1\"/>\n<path class=\"bond-0 atom-0 atom-1\" d=\"M 338.2,103.6 L 316.7,103.6\" style=\"fill:none;fill-rule:evenodd;stroke:#000000;stroke-width:2.0px;stroke-linecap:butt;stroke-linejoin:miter;stroke-opacity:1\"/>\n<path class=\"bond-1 atom-1 atom-2\" d=\"M 316.7,103.6 L 291.0,148.1\" style=\"fill:none;fill-rule:evenodd;stroke:#000000;stroke-width:2.0px;stroke-linecap:butt;stroke-linejoin:miter;stroke-opacity:1\"/>\n<path class=\"bond-1 atom-1 atom-2\" d=\"M 307.8,103.6 L 286.6,140.4\" style=\"fill:none;fill-rule:evenodd;stroke:#000000;stroke-width:2.0px;stroke-linecap:butt;stroke-linejoin:miter;stroke-opacity:1\"/>\n<path class=\"bond-2 atom-2 atom-3\" d=\"M 291.0,148.1 L 239.7,148.1\" style=\"fill:none;fill-rule:evenodd;stroke:#000000;stroke-width:2.0px;stroke-linecap:butt;stroke-linejoin:miter;stroke-opacity:1\"/>\n<path class=\"bond-3 atom-3 atom-4\" d=\"M 239.7,148.1 L 214.0,103.6\" style=\"fill:none;fill-rule:evenodd;stroke:#000000;stroke-width:2.0px;stroke-linecap:butt;stroke-linejoin:miter;stroke-opacity:1\"/>\n<path class=\"bond-3 atom-3 atom-4\" d=\"M 244.1,140.4 L 222.9,103.6\" style=\"fill:none;fill-rule:evenodd;stroke:#000000;stroke-width:2.0px;stroke-linecap:butt;stroke-linejoin:miter;stroke-opacity:1\"/>\n<path class=\"bond-4 atom-4 atom-5\" d=\"M 214.0,103.6 L 239.7,59.2\" style=\"fill:none;fill-rule:evenodd;stroke:#000000;stroke-width:2.0px;stroke-linecap:butt;stroke-linejoin:miter;stroke-opacity:1\"/>\n<path class=\"bond-5 atom-5 atom-6\" d=\"M 239.7,59.2 L 261.7,59.2\" style=\"fill:none;fill-rule:evenodd;stroke:#000000;stroke-width:2.0px;stroke-linecap:butt;stroke-linejoin:miter;stroke-opacity:1\"/>\n<path class=\"bond-5 atom-5 atom-6\" d=\"M 261.7,59.2 L 283.8,59.2\" style=\"fill:none;fill-rule:evenodd;stroke:#0000FF;stroke-width:2.0px;stroke-linecap:butt;stroke-linejoin:miter;stroke-opacity:1\"/>\n<path class=\"bond-5 atom-5 atom-6\" d=\"M 244.1,66.9 L 264.0,66.9\" style=\"fill:none;fill-rule:evenodd;stroke:#000000;stroke-width:2.0px;stroke-linecap:butt;stroke-linejoin:miter;stroke-opacity:1\"/>\n<path class=\"bond-5 atom-5 atom-6\" d=\"M 264.0,66.9 L 283.8,66.9\" style=\"fill:none;fill-rule:evenodd;stroke:#0000FF;stroke-width:2.0px;stroke-linecap:butt;stroke-linejoin:miter;stroke-opacity:1\"/>\n<path class=\"bond-6 atom-6 atom-1\" d=\"M 296.2,68.1 L 306.5,85.9\" style=\"fill:none;fill-rule:evenodd;stroke:#0000FF;stroke-width:2.0px;stroke-linecap:butt;stroke-linejoin:miter;stroke-opacity:1\"/>\n<path class=\"bond-6 atom-6 atom-1\" d=\"M 306.5,85.9 L 316.7,103.6\" style=\"fill:none;fill-rule:evenodd;stroke:#000000;stroke-width:2.0px;stroke-linecap:butt;stroke-linejoin:miter;stroke-opacity:1\"/>\n<path d=\"M 292.3,145.9 L 291.0,148.1 L 288.5,148.1\" style=\"fill:none;stroke:#000000;stroke-width:2.0px;stroke-linecap:butt;stroke-linejoin:miter;stroke-opacity:1;\"/>\n<path d=\"M 242.2,148.1 L 239.7,148.1 L 238.4,145.9\" style=\"fill:none;stroke:#000000;stroke-width:2.0px;stroke-linecap:butt;stroke-linejoin:miter;stroke-opacity:1;\"/>\n<path d=\"M 215.3,105.9 L 214.0,103.6 L 215.3,101.4\" style=\"fill:none;stroke:#000000;stroke-width:2.0px;stroke-linecap:butt;stroke-linejoin:miter;stroke-opacity:1;\"/>\n<path d=\"M 238.4,61.4 L 239.7,59.2 L 240.8,59.2\" style=\"fill:none;stroke:#000000;stroke-width:2.0px;stroke-linecap:butt;stroke-linejoin:miter;stroke-opacity:1;\"/>\n<path class=\"atom-0\" d=\"M 361.4 103.7 Q 361.4 100.2, 363.1 98.2 Q 364.8 96.3, 368.1 96.3 Q 371.3 96.3, 373.0 98.2 Q 374.7 100.2, 374.7 103.7 Q 374.7 107.2, 373.0 109.2 Q 371.3 111.2, 368.1 111.2 Q 364.9 111.2, 363.1 109.2 Q 361.4 107.2, 361.4 103.7 M 368.1 109.6 Q 370.3 109.6, 371.5 108.1 Q 372.7 106.6, 372.7 103.7 Q 372.7 100.8, 371.5 99.4 Q 370.3 97.9, 368.1 97.9 Q 365.8 97.9, 364.6 99.4 Q 363.4 100.8, 363.4 103.7 Q 363.4 106.6, 364.6 108.1 Q 365.8 109.6, 368.1 109.6 \" fill=\"#FF0000\"/>\n<path class=\"atom-0\" d=\"M 376.8 98.7 L 381.8 98.7 L 381.8 99.7 L 376.8 99.7 L 376.8 98.7 \" fill=\"#FF0000\"/>\n<path class=\"atom-6\" d=\"M 287.8 51.9 L 292.6 59.6 Q 293.0 60.3, 293.8 61.7 Q 294.6 63.1, 294.6 63.2 L 294.6 51.9 L 296.5 51.9 L 296.5 66.4 L 294.5 66.4 L 289.4 58.0 Q 288.8 57.0, 288.2 55.9 Q 287.6 54.8, 287.4 54.4 L 287.4 66.4 L 285.5 66.4 L 285.5 51.9 L 287.8 51.9 \" fill=\"#0000FF\"/>\n</svg>"
          },
          "metadata": {}
        }
      ]
    },
    {
      "cell_type": "code",
      "source": [
        "state_transitions"
      ],
      "metadata": {
        "colab": {
          "base_uri": "https://localhost:8080/"
        },
        "id": "geoXRdMEShJp",
        "outputId": "79ba13aa-fb8d-491f-e391-a8bacabfddc5"
      },
      "execution_count": 64,
      "outputs": [
        {
          "output_type": "execute_result",
          "data": {
            "text/plain": [
              "[(0,\n",
              "  1,\n",
              "  <rdkit.Chem.rdchem.Mol at 0x7b5c5aeee8f0>,\n",
              "  <rdkit.Chem.rdchem.Mol at 0x7b5c5aeee960>),\n",
              " (0,\n",
              "  2,\n",
              "  <rdkit.Chem.rdchem.Mol at 0x7b5c5aeee8f0>,\n",
              "  <rdkit.Chem.rdchem.Mol at 0x7b5c5aeeeab0>),\n",
              " (1,\n",
              "  3,\n",
              "  <rdkit.Chem.rdchem.Mol at 0x7b5c5aeee960>,\n",
              "  <rdkit.Chem.rdchem.Mol at 0x7b5c5aeee880>),\n",
              " (2,\n",
              "  3,\n",
              "  <rdkit.Chem.rdchem.Mol at 0x7b5c5aeeeab0>,\n",
              "  <rdkit.Chem.rdchem.Mol at 0x7b5c5aeee880>)]"
            ]
          },
          "metadata": {},
          "execution_count": 64
        }
      ]
    },
    {
      "cell_type": "code",
      "source": [
        "#@title Provide pKa values for transitions between protonated states\n",
        "#@markdown Please, provide pKa values for protonated states.\n",
        "pka_0 = 2 #@param {type:\"number\"}\n",
        "pka_1 = 3 #@param {type:\"number\"}\n",
        "pka_2 = 4 #@param {type:\"number\"}\n",
        "pka_3 = 5 #@param {type:\"number\"}\n",
        "pka_4 = 0.0 #@param {type:\"number\"}\n",
        "pka_5 = 0.0 #@param {type:\"number\"}\n",
        "pka_6 = 0.0 #@param {type:\"number\"}\n",
        "pka_7 = 0.0 #@param {type:\"number\"}\n",
        "pka_8 = 0.0 #@param {type:\"number\"}\n",
        "pka_9 = 0.0 #@param {type:\"number\"}\n",
        "\n",
        "pkas = [\n",
        "    pka_0, pka_1, pka_2, pka_3, pka_4,\n",
        "    pka_5, pka_6, pka_7, pka_8, pka_9,\n",
        "][:len(state_transitions)]"
      ],
      "metadata": {
        "id": "Qg4YAxSh-Ibw"
      },
      "execution_count": 65,
      "outputs": []
    },
    {
      "cell_type": "code",
      "source": [
        "#@title Generate pKa matrix equation\n",
        "import numpy as np\n",
        "from sympy import Matrix, MatrixSymbol, symbols\n",
        "if len(mols) == 2:\n",
        "    print(f\"Single state should be used. pKa = {pkas[0]}\")\n",
        "else:\n",
        "    ph = symbols(\"pH\")\n",
        "    A = np.zeros((len(state_transitions) + 1, len(mols)), dtype = 'int')\n",
        "    b = MatrixSymbol('b', len(state_transitions) + 1, 1).as_explicit()\n",
        "    bsubs = {b[0,0]: ph}\n",
        "    for i, (tr, pka) in enumerate(zip(state_transitions, pkas)):\n",
        "        state1 = tr[0]\n",
        "        state2 = tr[1]\n",
        "        n = states[state1][2]\n",
        "        m = states[state2][2]\n",
        "        if Chem.GetFormalCharge(tr[2]) > Chem.GetFormalCharge(tr[3]):\n",
        "            A[i+1, state1] =-1\n",
        "            A[i+1, state2] = 1\n",
        "            bsubs[b[i + 1, 0]] = pka - np.log10(n/m) - ph\n",
        "        else:\n",
        "            A[i+1, state1] = 1\n",
        "            A[i+1, state2] = -1\n",
        "            bsubs[b[i + 1, 0]] = pka - np.log10(m/n) - ph\n",
        "    A[0, 0] = 1\n",
        "    m = Matrix(A)\n",
        "    _, inds = m.T.rref()\n",
        "    removed_inds = [x for x in range(len(state_transitions) + 1) if x not in inds]\n",
        "    Ar = A[list(inds)]\n",
        "    Ad = A[list(removed_inds)]\n",
        "    mr = Matrix(Ar)\n",
        "    md = Matrix(Ad)\n",
        "    p = MatrixSymbol('p', len(mols), 1).as_explicit()\n",
        "    b = b.subs(bsubs)\n",
        "    br = MatrixSymbol('br', len(inds), 1).as_explicit()\n",
        "    brsubs = {}\n",
        "    for i, idx in enumerate(inds):\n",
        "        brsubs[br[i, 0]] = b[idx, 0]\n",
        "\n",
        "    br = br.subs(brsubs)\n",
        "    br\n",
        "\n",
        "    sol = mr.solve(br)\n",
        "    print(\n",
        "        \"Recommended pKa values for protonations states, considering all previous \"\n",
        "        + \"input are:\"\n",
        "    )\n",
        "    for i in range(len(mols)):\n",
        "        print(f\"State {i}: pKa = {sol[i,0]}\")"
      ],
      "metadata": {
        "colab": {
          "base_uri": "https://localhost:8080/"
        },
        "id": "FPCRNZxE_EIz",
        "outputId": "a4129a88-d77d-4a5f-af12-75a08b8d8711"
      },
      "execution_count": 66,
      "outputs": [
        {
          "output_type": "stream",
          "name": "stdout",
          "text": [
            "Recommended pKa values for protonations states, considering all previous input are:\n",
            "State 0: pKa = pH\n",
            "State 1: pKa = 2.00000000000000\n",
            "State 2: pKa = 3.00000000000000\n",
            "State 3: pKa = 6.0 - pH\n"
          ]
        }
      ]
    },
    {
      "cell_type": "code",
      "source": [
        "#@title Topology and structure general behavior\n",
        "#@markdown Do you want us to generate topology and molecule structure with\n",
        "#@markdown Open Force Field? If no, you would need to provide topologies in\n",
        "#@markdown **.itp** format in the following steps.\n",
        "is_generation_needed = True #@param {type:\"boolean\"}\n",
        "ff_to_use = \"openff-2.1.0.offxml\" #@param {type:\"string\"}\n",
        "\n",
        "_mols = []\n",
        "charges = []\n",
        "if is_generation_needed:\n",
        "    ff = ForceField(ff_to_use)\n",
        "    for _i, m in enumerate(mols):\n",
        "        _m = Molecule.from_rdkit(m)\n",
        "        print(Chem.MolToSmiles(_m.to_rdkit()))\n",
        "        _m.generate_conformers()\n",
        "        interchange = ff.create_interchange(_m.to_topology())\n",
        "        charges.append(\n",
        "            [a.partial_charge.magnitude for a in interchange.topology.atoms]\n",
        "        )\n",
        "        _mols.append(_m.to_rdkit())\n",
        "        if _i == 0:\n",
        "            interchange.to_gromacs(f\"molecule_{_i}\")\n",
        "        else:\n",
        "            interchange.to_top(f\"molecule_{_i}.top\")\n",
        "\n",
        "_base_mol = _mols[0]\n",
        "charge_table =[charges[0]]\n",
        "for _m, _c in zip(_mols[1:], charges[1:]):\n",
        "    mcs = rdFMCS.FindMCS([_base_mol, _m])\n",
        "    mcs_mol = Chem.MolFromSmarts(mcs.smartsString)\n",
        "    match1 = _base_mol.GetSubstructMatch(mcs_mol)\n",
        "    match2 = _m.GetSubstructMatch(mcs_mol)\n",
        "\n",
        "    _tmp = []\n",
        "    # if there are permutations required for this molecule, we need to take it\n",
        "    # into account here.\n",
        "    for i in range(len(charge_table[0])):\n",
        "        if i in match1:\n",
        "            _tmp.append(_c[match1.index(i)])\n",
        "        else:\n",
        "            _tmp.append(0)\n",
        "    charge_table.append(_tmp)\n",
        "\n",
        "print(np.array(charge_table).T)\n",
        "\n",
        "# We need to transform top to itp and also for the future\n",
        "# needs we need the functionality for parsing atoms and\n",
        "# bonds sections. This will allow us to generate molecular\n",
        "# graphs, which in turn, will allow us to compare molecules\n",
        "# and prepare data for constant pH.\n",
        "\"\"\"\n",
        "We need to support two types of behaviour:\n",
        "1. Easy case\n",
        "    We generate molecule our selves with OpenFF.\n",
        "    In this case we actually know what is the order atoms in\n",
        "    all protonation states and we can easily do matching.\n",
        "    We also know what to do with all possible states -\n",
        "    symmetrical and with multiple hydrogens. From created\n",
        "    interchanges and topology files we can get all the\n",
        "    partial charges and then using rdkit and we can generate\n",
        "    correct charge lists.\n",
        "    We start by implementing this.\n",
        "2. More complex case\n",
        "    The topologies are provided by the user. In this case\n",
        "    we:\n",
        "        (i) expect that the user will provide us not only\n",
        "            with the topologies, but also with structures\n",
        "            for all states\n",
        "        (ii) don't expect that the order of atoms is the\n",
        "            same as in RdKit.\n",
        "    We will reconstruct the order based on rdkit functionality\n",
        "    https://greglandrum.github.io/rdkit-blog/posts/2022-12-18-introducing-rdDetermineBonds.html\n",
        "\n",
        "    NOTE: in principal, the first case can also be treated\n",
        "    as the second. But we will add it later.\n",
        "In general, we need to read top/itp files (for now we always\n",
        "expect [ atoms ] section to be present) and assign charges\n",
        "in the order of mols[0]. For each state we additionally\n",
        "treap symmetrical states and multi-H states. Then we change\n",
        "the order according to the order in the first file.\n",
        "\"\"\"\n",
        "class GMX_topology:\n",
        "    \"\"\"\n",
        "    Reads gromacs topology file and parses some of the sections.\n",
        "\n",
        "    Parameters\n",
        "    ----------\n",
        "    gmx_top: str\n",
        "        GROMACS topology file\n",
        "\n",
        "    Attributes\n",
        "    ----------\n",
        "    blocks: Dict[str, str]\n",
        "        Dictionary of blocks available in the topology file\n",
        "    atoms: list\n",
        "\n",
        "    Methods\n",
        "    -------\n",
        "    parse_atoms()\n",
        "        Parse atom section if present. Generates at\n",
        "    parse_atomtypes()\n",
        "        Parse atomtypes section if present.\n",
        "    parse_bonds()\n",
        "        Parse bonds.\n",
        "\n",
        "\n",
        "    \"\"\"\n",
        "    def __init__(self, gmx_top):\n",
        "        self.blocks = {}\n",
        "        with open(gmx_top, \"r\") as top:\n",
        "            section = None\n",
        "            tmp = []\n",
        "            for line in top:\n",
        "                if line.strip().startswith(\"[\"):\n",
        "                    if section:\n",
        "                        if section in self.blocks:\n",
        "                            self.blocks[section] += [tmp]\n",
        "                        else:\n",
        "                            self.blocks[section] = [tmp]\n",
        "                    else:\n",
        "                        self.blocks[\"header\"] = [tmp]\n",
        "                    section = line.strip()[1:-1].strip()\n",
        "                    tmp = []\n",
        "                else:\n",
        "                    tmp += [line]\n",
        "            if section in self.blocks:\n",
        "                self.blocks[section] += [tmp]\n",
        "            else:\n",
        "                self.blocks[section] = [tmp]\n",
        "\n",
        "    def parse_atoms(self):\n",
        "        \"\"\"\n",
        "        Parse atoms block. As a result, creates atoms attribute, where for each\n",
        "        atom in the provided topology atomtype and index are stored\n",
        "        \"\"\"\n",
        "        if \"atoms\" not in self.blocks:\n",
        "            self.atoms = []\n",
        "        else:\n",
        "            self.atoms = []\n",
        "            for section in self.blocks[\"atoms\"]:\n",
        "                for line in section:\n",
        "                    # Skip non-informative lines\n",
        "                    if line.strip().startswith(\";\"):\n",
        "                        continue\n",
        "                    if line.strip().startswith(\"#\"):\n",
        "                        continue\n",
        "                    if not line.strip():\n",
        "                        continue\n",
        "                    self.atoms.append(\n",
        "                        (\n",
        "                            int(line.split()[0]) - 1,\n",
        "                            line.split()[1],\n",
        "                        )\n",
        "                    )\n",
        "\n",
        "    def parse_dihedrals(self):\n",
        "        \"\"\"\n",
        "        Parse dihedral section of the topology. Only dihdrals of type 1 and 9\n",
        "        with explicitly provided parameters are taken into account.\n",
        "        \"\"\"\n",
        "        if \"dihedrals\" not in self.blocks:\n",
        "            self.dihedrals = []\n",
        "        else:\n",
        "            self.dihedrals = []\n",
        "            for section in self.blocks[\"dihedrals\"]:\n",
        "                for line in section:\n",
        "                    # Skip non-informative lines\n",
        "                    if line.strip().startswith(\";\"):\n",
        "                        continue\n",
        "                    if line.strip().startswith(\"#\"):\n",
        "                        continue\n",
        "                    if not line.strip():\n",
        "                        continue\n",
        "                    if int(line.split()[4]) not in [1, 9]:\n",
        "                        continue\n",
        "                    if len(line.split()) < 8:\n",
        "                        continue\n",
        "                    self.dihedrals.append(\n",
        "                        (\n",
        "                            int(line.split()[0])-1,\n",
        "                            int(line.split()[1])-1,\n",
        "                            int(line.split()[2])-1,\n",
        "                            int(line.split()[3])-1,\n",
        "                            line\n",
        "                        )\n",
        "                    )\n",
        "\n",
        "    def parse_dihedraltypes(self):\n",
        "        \"\"\"\n",
        "        Parse dihedraltypes section in the topology if present. Creates\n",
        "        dihedraltypes attribute, where types and of 4 atoms are provided\n",
        "        and also the corresponding dihedral string (to ease the search in\n",
        "        topology file). All imporpers and Fourier dihedrals are for now\n",
        "        excluded. Thus, only type 1 and 9 are supported.\n",
        "        https://manual.gromacs.org/current/reference-manual/topologies/topology-file-formats.html\n",
        "\n",
        "        NOTE: We also should somehow iterate through difened torsions if they\n",
        "        are present.\n",
        "        \"\"\"\n",
        "        if \"dihedraltypes\" not in self.blocks:\n",
        "            self.dihedraltypes = []\n",
        "        else:\n",
        "            self.dihedraltypes = []\n",
        "            for section in self.blocks[\"dihedraltypes\"]:\n",
        "                for line in section:\n",
        "                    # Skip non-informative lines\n",
        "                    if line.strip().startswith(\";\"):\n",
        "                        continue\n",
        "                    if line.strip().startswith(\"#\"):\n",
        "                        continue\n",
        "                    if not line.strip():\n",
        "                        continue\n",
        "                    if int(line.split()[4]) not in [1, 9]:\n",
        "                        continue\n",
        "                    self.dihedraltypes.append(\n",
        "                        (\n",
        "                            line.split()[0],\n",
        "                            line.split()[1],\n",
        "                            line.split()[2],\n",
        "                            line.split()[3],\n",
        "                            line[:(line.rfind(line.split()[3]) + len(line.split()[3]))].strip()\n",
        "                        )\n",
        "                    )"
      ],
      "metadata": {
        "colab": {
          "base_uri": "https://localhost:8080/"
        },
        "id": "JsdLCCMpX4LS",
        "outputId": "dd39ecf7-9df8-4e13-db5e-442868f212e2"
      },
      "execution_count": 67,
      "outputs": [
        {
          "output_type": "stream",
          "name": "stdout",
          "text": [
            "[H]Oc1c([H])c([H])c([H])c([H])[n+]1[H]\n"
          ]
        },
        {
          "output_type": "stream",
          "name": "stderr",
          "text": [
            "/usr/local/lib/python3.10/site-packages/openff/interchange/interop/gromacs/export/_export.py:48: UserWarning: WARNING: System defined with no box vectors, which GROMACS does not offically support in versions 2020 or newer (see https://gitlab.com/gromacs/gromacs/-/issues/3526). Setting box vectors to a 5  nm cube.\n",
            "  self._write_gro(gro, decimal)\n"
          ]
        },
        {
          "output_type": "stream",
          "name": "stdout",
          "text": [
            "[H]c1c([H])c([H])[n+]([H])c([O-])c1[H]\n",
            "[H]Oc1nc([H])c([H])c([H])c1[H]\n",
            "[H]c1nc([O-])c([H])c([H])c1[H]\n",
            "[[-4.53100000e-01 -6.42500000e-01 -6.16383333e-01 -8.32000000e-01]\n",
            " [ 2.46800000e-01  5.94500000e-01  6.23516667e-01  9.36300000e-01]\n",
            " [-2.15000000e-01 -2.35000000e-01 -2.61383333e-01 -4.29300000e-01]\n",
            " [ 3.10000000e-02 -3.90000000e-02 -6.50833333e-02 -4.50000000e-02]\n",
            " [-1.65000000e-01 -2.53000000e-01 -2.84383333e-01 -4.65300000e-01]\n",
            " [ 7.00000000e-04  1.00000000e-02  4.32116667e-01  4.60200000e-01]\n",
            " [-1.22100000e-01 -3.70500000e-01 -7.39083333e-01 -8.47000000e-01]\n",
            " [ 4.94000000e-01  0.00000000e+00  2.40166667e-02  0.00000000e+00]\n",
            " [ 2.01000000e-01  3.32500000e-01  1.45916667e-01 -4.79000000e-02]\n",
            " [ 1.99000000e-01  1.50000000e-01  1.40916667e-01  9.20000000e-02]\n",
            " [ 2.07000000e-01  1.50000000e-01  1.59916667e-01  7.30000000e-02]\n",
            " [ 2.18000000e-01  1.40000000e-01  4.39916667e-01  1.05000000e-01]\n",
            " [ 3.57700000e-01  1.63000000e-01  0.00000000e+00  0.00000000e+00]]\n"
          ]
        }
      ]
    },
    {
      "cell_type": "code",
      "source": [
        "#@title Provide topologies data\n",
        "#@markdown If parameterisation is needed, all included molecules will be\n",
        "#@markdown parameterized with open force field. If not, for all\n",
        "is_parameterisation_needed = True #@param {type:\"boolean\"}\n",
        "included_mols = [m for m,i in zip(mols, incl) if i]\n",
        "included_svgs = [s for s,i in zip(svgs, incl) if i]\n",
        "for i, s in enumerate(included_svgs):\n",
        "    print(f\"This is Molecule {i}\")\n",
        "    display(SVG(svgs[i]))\n",
        "\n",
        "parameters_for_molecule_0 = \"\" #@param {type:\"string\"}\n",
        "parameters_for_molecule_1 = \"\" #@param {type:\"string\"}\n",
        "parameters_for_molecule_2 = \"\" #@param {type:\"string\"}\n",
        "parameters_for_molecule_3 = \"\" #@param {type:\"string\"}\n",
        "parameters_for_molecule_4 = \"\" #@param {type:\"string\"}"
      ],
      "metadata": {
        "colab": {
          "base_uri": "https://localhost:8080/",
          "height": 464
        },
        "id": "dugAhjr3ex7W",
        "outputId": "cd8a07b4-a286-4dc3-bcf1-da5ee3de28a3"
      },
      "execution_count": null,
      "outputs": [
        {
          "output_type": "stream",
          "name": "stdout",
          "text": [
            "This is Molecule 0\n"
          ]
        },
        {
          "output_type": "display_data",
          "data": {
            "text/plain": [
              "<IPython.core.display.SVG object>"
            ],
            "image/svg+xml": "<svg xmlns=\"http://www.w3.org/2000/svg\" xmlns:rdkit=\"http://www.rdkit.org/xml\" xmlns:xlink=\"http://www.w3.org/1999/xlink\" version=\"1.1\" baseProfile=\"full\" xml:space=\"preserve\" width=\"250px\" height=\"200px\" viewBox=\"0 0 250 200\">\n<!-- END OF HEADER -->\n<rect style=\"opacity:1.0;fill:#FFFFFF;stroke:none\" width=\"250.0\" height=\"200.0\" x=\"0.0\" y=\"0.0\"> </rect>\n<path class=\"bond-0 atom-0 atom-1\" d=\"M 166.3,106.4 L 142.2,99.2\" style=\"fill:none;fill-rule:evenodd;stroke:#0000FF;stroke-width:2.0px;stroke-linecap:butt;stroke-linejoin:miter;stroke-opacity:1\"/>\n<path class=\"bond-0 atom-0 atom-1\" d=\"M 142.2,99.2 L 118.2,92.1\" style=\"fill:none;fill-rule:evenodd;stroke:#000000;stroke-width:2.0px;stroke-linecap:butt;stroke-linejoin:miter;stroke-opacity:1\"/>\n<path class=\"bond-1 atom-1 atom-2\" d=\"M 123.0,93.5 L 117.2,69.0\" style=\"fill:none;fill-rule:evenodd;stroke:#000000;stroke-width:2.0px;stroke-linecap:butt;stroke-linejoin:miter;stroke-opacity:1\"/>\n<path class=\"bond-1 atom-1 atom-2\" d=\"M 117.2,69.0 L 111.3,44.4\" style=\"fill:none;fill-rule:evenodd;stroke:#FF0000;stroke-width:2.0px;stroke-linecap:butt;stroke-linejoin:miter;stroke-opacity:1\"/>\n<path class=\"bond-1 atom-1 atom-2\" d=\"M 114.5,95.6 L 108.6,71.0\" style=\"fill:none;fill-rule:evenodd;stroke:#000000;stroke-width:2.0px;stroke-linecap:butt;stroke-linejoin:miter;stroke-opacity:1\"/>\n<path class=\"bond-1 atom-1 atom-2\" d=\"M 108.6,71.0 L 102.7,46.5\" style=\"fill:none;fill-rule:evenodd;stroke:#FF0000;stroke-width:2.0px;stroke-linecap:butt;stroke-linejoin:miter;stroke-opacity:1\"/>\n<path class=\"bond-2 atom-1 atom-3\" d=\"M 118.2,92.1 L 101.6,107.8\" style=\"fill:none;fill-rule:evenodd;stroke:#000000;stroke-width:2.0px;stroke-linecap:butt;stroke-linejoin:miter;stroke-opacity:1\"/>\n<path class=\"bond-2 atom-1 atom-3\" d=\"M 101.6,107.8 L 85.0,123.5\" style=\"fill:none;fill-rule:evenodd;stroke:#FF0000;stroke-width:2.0px;stroke-linecap:butt;stroke-linejoin:miter;stroke-opacity:1\"/>\n<path class=\"bond-3 atom-0 atom-4\" d=\"M 182.8,111.3 L 202.7,117.2\" style=\"fill:none;fill-rule:evenodd;stroke:#0000FF;stroke-width:2.0px;stroke-linecap:butt;stroke-linejoin:miter;stroke-opacity:1\"/>\n<path class=\"bond-3 atom-0 atom-4\" d=\"M 202.7,117.2 L 222.5,123.1\" style=\"fill:none;fill-rule:evenodd;stroke:#000000;stroke-width:2.0px;stroke-linecap:butt;stroke-linejoin:miter;stroke-opacity:1\"/>\n<path class=\"bond-4 atom-0 atom-5\" d=\"M 171.5,119.1 L 166.2,137.1\" style=\"fill:none;fill-rule:evenodd;stroke:#0000FF;stroke-width:2.0px;stroke-linecap:butt;stroke-linejoin:miter;stroke-opacity:1\"/>\n<path class=\"bond-4 atom-0 atom-5\" d=\"M 166.2,137.1 L 160.9,155.0\" style=\"fill:none;fill-rule:evenodd;stroke:#000000;stroke-width:2.0px;stroke-linecap:butt;stroke-linejoin:miter;stroke-opacity:1\"/>\n<path class=\"bond-5 atom-0 atom-6\" d=\"M 177.6,98.6 L 183.0,80.6\" style=\"fill:none;fill-rule:evenodd;stroke:#0000FF;stroke-width:2.0px;stroke-linecap:butt;stroke-linejoin:miter;stroke-opacity:1\"/>\n<path class=\"bond-5 atom-0 atom-6\" d=\"M 183.0,80.6 L 188.3,62.7\" style=\"fill:none;fill-rule:evenodd;stroke:#000000;stroke-width:2.0px;stroke-linecap:butt;stroke-linejoin:miter;stroke-opacity:1\"/>\n<path class=\"bond-6 atom-3 atom-7\" d=\"M 65.8,129.7 L 46.7,124.0\" style=\"fill:none;fill-rule:evenodd;stroke:#FF0000;stroke-width:2.0px;stroke-linecap:butt;stroke-linejoin:miter;stroke-opacity:1\"/>\n<path class=\"bond-6 atom-3 atom-7\" d=\"M 46.7,124.0 L 27.5,118.3\" style=\"fill:none;fill-rule:evenodd;stroke:#000000;stroke-width:2.0px;stroke-linecap:butt;stroke-linejoin:miter;stroke-opacity:1\"/>\n<path d=\"M 119.4,92.4 L 118.2,92.1 L 117.3,92.9\" style=\"fill:none;stroke:#000000;stroke-width:2.0px;stroke-linecap:butt;stroke-linejoin:miter;stroke-opacity:1;\"/>\n<path class=\"atom-0\" d=\"M 170.9 100.5 L 176.3 109.3 Q 176.9 110.2, 177.8 111.8 Q 178.6 113.4, 178.7 113.5 L 178.7 100.5 L 180.9 100.5 L 180.9 117.2 L 178.6 117.2 L 172.7 107.5 Q 172.1 106.4, 171.3 105.1 Q 170.6 103.8, 170.4 103.4 L 170.4 117.2 L 168.2 117.2 L 168.2 100.5 L 170.9 100.5 \" fill=\"#0000FF\"/>\n<path class=\"atom-0\" d=\"M 184.0 103.5 L 187.0 103.5 L 187.0 100.4 L 188.3 100.4 L 188.3 103.5 L 191.3 103.5 L 191.3 104.6 L 188.3 104.6 L 188.3 107.7 L 187.0 107.7 L 187.0 104.6 L 184.0 104.6 L 184.0 103.5 \" fill=\"#0000FF\"/>\n<path class=\"atom-2\" d=\"M 96.8 34.9 Q 96.8 30.9, 98.8 28.6 Q 100.8 26.4, 104.5 26.4 Q 108.2 26.4, 110.2 28.6 Q 112.1 30.9, 112.1 34.9 Q 112.1 38.9, 110.1 41.2 Q 108.1 43.5, 104.5 43.5 Q 100.8 43.5, 98.8 41.2 Q 96.8 39.0, 96.8 34.9 M 104.5 41.6 Q 107.0 41.6, 108.4 39.9 Q 109.8 38.2, 109.8 34.9 Q 109.8 31.6, 108.4 30.0 Q 107.0 28.3, 104.5 28.3 Q 101.9 28.3, 100.5 29.9 Q 99.2 31.6, 99.2 34.9 Q 99.2 38.3, 100.5 39.9 Q 101.9 41.6, 104.5 41.6 \" fill=\"#FF0000\"/>\n<path class=\"atom-3\" d=\"M 67.8 132.6 Q 67.8 128.6, 69.8 126.4 Q 71.7 124.1, 75.4 124.1 Q 79.1 124.1, 81.1 126.4 Q 83.1 128.6, 83.1 132.6 Q 83.1 136.6, 81.1 138.9 Q 79.1 141.2, 75.4 141.2 Q 71.8 141.2, 69.8 138.9 Q 67.8 136.7, 67.8 132.6 M 75.4 139.3 Q 78.0 139.3, 79.3 137.6 Q 80.7 135.9, 80.7 132.6 Q 80.7 129.3, 79.3 127.7 Q 78.0 126.0, 75.4 126.0 Q 72.9 126.0, 71.5 127.6 Q 70.1 129.3, 70.1 132.6 Q 70.1 136.0, 71.5 137.6 Q 72.9 139.3, 75.4 139.3 \" fill=\"#FF0000\"/>\n<path class=\"atom-4\" d=\"M 224.5 117.3 L 226.7 117.3 L 226.7 124.4 L 235.2 124.4 L 235.2 117.3 L 237.5 117.3 L 237.5 134.0 L 235.2 134.0 L 235.2 126.3 L 226.7 126.3 L 226.7 134.0 L 224.5 134.0 L 224.5 117.3 \" fill=\"#000000\"/>\n<path class=\"atom-5\" d=\"M 151.3 156.9 L 153.5 156.9 L 153.5 164.0 L 162.1 164.0 L 162.1 156.9 L 164.3 156.9 L 164.3 173.6 L 162.1 173.6 L 162.1 165.9 L 153.5 165.9 L 153.5 173.6 L 151.3 173.6 L 151.3 156.9 \" fill=\"#000000\"/>\n<path class=\"atom-6\" d=\"M 184.8 44.1 L 187.1 44.1 L 187.1 51.2 L 195.6 51.2 L 195.6 44.1 L 197.9 44.1 L 197.9 60.8 L 195.6 60.8 L 195.6 53.1 L 187.1 53.1 L 187.1 60.8 L 184.8 60.8 L 184.8 44.1 \" fill=\"#000000\"/>\n<path class=\"atom-7\" d=\"M 12.5 107.4 L 14.8 107.4 L 14.8 114.5 L 23.3 114.5 L 23.3 107.4 L 25.5 107.4 L 25.5 124.1 L 23.3 124.1 L 23.3 116.4 L 14.8 116.4 L 14.8 124.1 L 12.5 124.1 L 12.5 107.4 \" fill=\"#000000\"/>\n</svg>"
          },
          "metadata": {}
        },
        {
          "output_type": "stream",
          "name": "stdout",
          "text": [
            "This is Molecule 1\n"
          ]
        },
        {
          "output_type": "display_data",
          "data": {
            "text/plain": [
              "<IPython.core.display.SVG object>"
            ],
            "image/svg+xml": "<svg xmlns=\"http://www.w3.org/2000/svg\" xmlns:rdkit=\"http://www.rdkit.org/xml\" xmlns:xlink=\"http://www.w3.org/1999/xlink\" version=\"1.1\" baseProfile=\"full\" xml:space=\"preserve\" width=\"250px\" height=\"200px\" viewBox=\"0 0 250 200\">\n<!-- END OF HEADER -->\n<rect style=\"opacity:1.0;fill:#FFFFFF;stroke:none\" width=\"250.0\" height=\"200.0\" x=\"0.0\" y=\"0.0\"> </rect>\n<path class=\"bond-0 atom-0 atom-1\" d=\"M 134.4,100.0 L 100.5,100.0\" style=\"fill:none;fill-rule:evenodd;stroke:#0000FF;stroke-width:2.0px;stroke-linecap:butt;stroke-linejoin:miter;stroke-opacity:1\"/>\n<path class=\"bond-0 atom-0 atom-1\" d=\"M 100.5,100.0 L 66.6,100.0\" style=\"fill:none;fill-rule:evenodd;stroke:#000000;stroke-width:2.0px;stroke-linecap:butt;stroke-linejoin:miter;stroke-opacity:1\"/>\n<path class=\"bond-1 atom-1 atom-2\" d=\"M 73.5,100.0 L 57.0,71.5\" style=\"fill:none;fill-rule:evenodd;stroke:#000000;stroke-width:2.0px;stroke-linecap:butt;stroke-linejoin:miter;stroke-opacity:1\"/>\n<path class=\"bond-1 atom-1 atom-2\" d=\"M 57.0,71.5 L 40.6,43.0\" style=\"fill:none;fill-rule:evenodd;stroke:#FF0000;stroke-width:2.0px;stroke-linecap:butt;stroke-linejoin:miter;stroke-opacity:1\"/>\n<path class=\"bond-1 atom-1 atom-2\" d=\"M 63.2,105.9 L 46.8,77.4\" style=\"fill:none;fill-rule:evenodd;stroke:#000000;stroke-width:2.0px;stroke-linecap:butt;stroke-linejoin:miter;stroke-opacity:1\"/>\n<path class=\"bond-1 atom-1 atom-2\" d=\"M 46.8,77.4 L 30.3,48.9\" style=\"fill:none;fill-rule:evenodd;stroke:#FF0000;stroke-width:2.0px;stroke-linecap:butt;stroke-linejoin:miter;stroke-opacity:1\"/>\n<path class=\"bond-2 atom-1 atom-3\" d=\"M 66.6,100.0 L 50.9,127.2\" style=\"fill:none;fill-rule:evenodd;stroke:#000000;stroke-width:2.0px;stroke-linecap:butt;stroke-linejoin:miter;stroke-opacity:1\"/>\n<path class=\"bond-2 atom-1 atom-3\" d=\"M 50.9,127.2 L 35.2,154.4\" style=\"fill:none;fill-rule:evenodd;stroke:#FF0000;stroke-width:2.0px;stroke-linecap:butt;stroke-linejoin:miter;stroke-opacity:1\"/>\n<path class=\"bond-3 atom-0 atom-4\" d=\"M 170.5,100.0 L 191.7,100.0\" style=\"fill:none;fill-rule:evenodd;stroke:#0000FF;stroke-width:2.0px;stroke-linecap:butt;stroke-linejoin:miter;stroke-opacity:1\"/>\n<path class=\"bond-3 atom-0 atom-4\" d=\"M 191.7,100.0 L 213.0,100.0\" style=\"fill:none;fill-rule:evenodd;stroke:#000000;stroke-width:2.0px;stroke-linecap:butt;stroke-linejoin:miter;stroke-opacity:1\"/>\n<path class=\"bond-4 atom-0 atom-5\" d=\"M 145.5,113.8 L 145.5,139.4\" style=\"fill:none;fill-rule:evenodd;stroke:#0000FF;stroke-width:2.0px;stroke-linecap:butt;stroke-linejoin:miter;stroke-opacity:1\"/>\n<path class=\"bond-4 atom-0 atom-5\" d=\"M 145.5,139.4 L 145.5,165.1\" style=\"fill:none;fill-rule:evenodd;stroke:#000000;stroke-width:2.0px;stroke-linecap:butt;stroke-linejoin:miter;stroke-opacity:1\"/>\n<path class=\"bond-5 atom-0 atom-6\" d=\"M 145.5,86.2 L 145.5,60.6\" style=\"fill:none;fill-rule:evenodd;stroke:#0000FF;stroke-width:2.0px;stroke-linecap:butt;stroke-linejoin:miter;stroke-opacity:1\"/>\n<path class=\"bond-5 atom-0 atom-6\" d=\"M 145.5,60.6 L 145.5,34.9\" style=\"fill:none;fill-rule:evenodd;stroke:#000000;stroke-width:2.0px;stroke-linecap:butt;stroke-linejoin:miter;stroke-opacity:1\"/>\n<path d=\"M 68.3,100.0 L 66.6,100.0 L 65.8,101.4\" style=\"fill:none;stroke:#000000;stroke-width:2.0px;stroke-linecap:butt;stroke-linejoin:miter;stroke-opacity:1;\"/>\n<path class=\"atom-0\" d=\"M 140.5 88.8 L 147.8 100.7 Q 148.6 101.8, 149.7 103.9 Q 150.9 106.1, 151.0 106.2 L 151.0 88.8 L 153.9 88.8 L 153.9 111.2 L 150.9 111.2 L 143.0 98.2 Q 142.1 96.7, 141.1 95.0 Q 140.2 93.3, 139.9 92.7 L 139.9 111.2 L 137.0 111.2 L 137.0 88.8 L 140.5 88.8 \" fill=\"#0000FF\"/>\n<path class=\"atom-0\" d=\"M 158.1 92.9 L 162.1 92.9 L 162.1 88.7 L 163.8 88.7 L 163.8 92.9 L 167.9 92.9 L 167.9 94.4 L 163.8 94.4 L 163.8 98.5 L 162.1 98.5 L 162.1 94.4 L 158.1 94.4 L 158.1 92.9 \" fill=\"#0000FF\"/>\n<path class=\"atom-2\" d=\"M 17.0 31.8 Q 17.0 26.4, 19.6 23.4 Q 22.3 20.4, 27.2 20.4 Q 32.2 20.4, 34.8 23.4 Q 37.5 26.4, 37.5 31.8 Q 37.5 37.2, 34.8 40.3 Q 32.1 43.4, 27.2 43.4 Q 22.3 43.4, 19.6 40.3 Q 17.0 37.2, 17.0 31.8 M 27.2 40.8 Q 30.6 40.8, 32.4 38.6 Q 34.3 36.3, 34.3 31.8 Q 34.3 27.4, 32.4 25.2 Q 30.6 23.0, 27.2 23.0 Q 23.8 23.0, 21.9 25.2 Q 20.1 27.4, 20.1 31.8 Q 20.1 36.3, 21.9 38.6 Q 23.8 40.8, 27.2 40.8 \" fill=\"#FF0000\"/>\n<path class=\"atom-3\" d=\"M 17.0 168.3 Q 17.0 163.0, 19.6 160.0 Q 22.3 157.0, 27.2 157.0 Q 32.2 157.0, 34.8 160.0 Q 37.5 163.0, 37.5 168.3 Q 37.5 173.8, 34.8 176.9 Q 32.1 179.9, 27.2 179.9 Q 22.3 179.9, 19.6 176.9 Q 17.0 173.8, 17.0 168.3 M 27.2 177.4 Q 30.6 177.4, 32.4 175.1 Q 34.3 172.8, 34.3 168.3 Q 34.3 164.0, 32.4 161.7 Q 30.6 159.5, 27.2 159.5 Q 23.8 159.5, 21.9 161.7 Q 20.1 163.9, 20.1 168.3 Q 20.1 172.8, 21.9 175.1 Q 23.8 177.4, 27.2 177.4 \" fill=\"#FF0000\"/>\n<path class=\"atom-3\" d=\"M 40.6 160.6 L 48.3 160.6 L 48.3 162.3 L 40.6 162.3 L 40.6 160.6 \" fill=\"#FF0000\"/>\n<path class=\"atom-4\" d=\"M 215.6 88.8 L 218.6 88.8 L 218.6 98.3 L 230.0 98.3 L 230.0 88.8 L 233.0 88.8 L 233.0 111.2 L 230.0 111.2 L 230.0 100.9 L 218.6 100.9 L 218.6 111.2 L 215.6 111.2 L 215.6 88.8 \" fill=\"#000000\"/>\n<path class=\"atom-5\" d=\"M 136.7 167.7 L 139.8 167.7 L 139.8 177.2 L 151.2 177.2 L 151.2 167.7 L 154.2 167.7 L 154.2 190.0 L 151.2 190.0 L 151.2 179.7 L 139.8 179.7 L 139.8 190.0 L 136.7 190.0 L 136.7 167.7 \" fill=\"#000000\"/>\n<path class=\"atom-6\" d=\"M 136.7 10.0 L 139.8 10.0 L 139.8 19.5 L 151.2 19.5 L 151.2 10.0 L 154.2 10.0 L 154.2 32.3 L 151.2 32.3 L 151.2 22.0 L 139.8 22.0 L 139.8 32.3 L 136.7 32.3 L 136.7 10.0 \" fill=\"#000000\"/>\n</svg>"
          },
          "metadata": {}
        }
      ]
    },
    {
      "cell_type": "code",
      "source": [
        "from openff.interchange import Interchange"
      ],
      "metadata": {
        "id": "5-2RAwueN0DQ"
      },
      "execution_count": null,
      "outputs": []
    },
    {
      "cell_type": "code",
      "source": [
        "inter = Interchange.from_smirnoff(force_field=ff, topology=top)"
      ],
      "metadata": {
        "id": "jarT_qXWN76B"
      },
      "execution_count": null,
      "outputs": []
    },
    {
      "cell_type": "code",
      "source": [
        "inter.to_top(\"test.top\")"
      ],
      "metadata": {
        "id": "3lfNtlY_Oq6T"
      },
      "execution_count": null,
      "outputs": []
    },
    {
      "cell_type": "code",
      "source": [],
      "metadata": {
        "id": "61TBk7goN61o"
      },
      "execution_count": null,
      "outputs": []
    },
    {
      "cell_type": "code",
      "source": [],
      "metadata": {
        "id": "4PyU1Va5MXJK"
      },
      "execution_count": null,
      "outputs": []
    }
  ]
}