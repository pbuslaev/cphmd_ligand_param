{
  "nbformat": 4,
  "nbformat_minor": 0,
  "metadata": {
    "colab": {
      "provenance": [],
      "include_colab_link": true
    },
    "kernelspec": {
      "name": "python3",
      "display_name": "Python 3"
    },
    "language_info": {
      "name": "python"
    }
  },
  "cells": [
    {
      "cell_type": "markdown",
      "metadata": {
        "id": "view-in-github",
        "colab_type": "text"
      },
      "source": [
        "<a href=\"https://colab.research.google.com/github/pbuslaev/test_ipynb/blob/main/test_user_input.ipynb\" target=\"_parent\"><img src=\"https://colab.research.google.com/assets/colab-badge.svg\" alt=\"Open In Colab\"/></a>"
      ]
    },
    {
      "cell_type": "markdown",
      "metadata": {
        "id": "06409e3b"
      },
      "source": [
        "### This notebook has to be run on Google colab"
      ]
    },
    {
      "cell_type": "markdown",
      "metadata": {
        "id": "8818275f"
      },
      "source": [
        "<a target=\"_blank\" href=\"https://colab.research.google.com/github/pbuslaev/test_ipynb/blob/main/test_user_input.ipynb\">\n",
        "  <img src=\"https://colab.research.google.com/assets/colab-badge.svg\" alt=\"Open In Colab\"/>\n",
        "</a>"
      ]
    },
    {
      "cell_type": "code",
      "execution_count": 1,
      "metadata": {
        "id": "tXHVawUbd_yp",
        "cellView": "form"
      },
      "outputs": [],
      "source": [
        "#@title Conda installation\n",
        "%%capture\n",
        "!pip install -q condacolab\n",
        "import condacolab\n",
        "condacolab.install()"
      ]
    },
    {
      "cell_type": "code",
      "source": [
        "#@title Intall packages\n",
        "%%capture\n",
        "!pip install dimorphite_dl --upgrade\n",
        "!mamba install -c conda-forge rdkit sympy openff-toolkit"
      ],
      "metadata": {
        "id": "HApR6x6ptwjO",
        "cellView": "form"
      },
      "execution_count": 2,
      "outputs": []
    },
    {
      "cell_type": "code",
      "source": [
        "#@title Import packages\n",
        "from rdkit import Chem\n",
        "from rdkit.Chem import AllChem\n",
        "from rdkit.Chem import Draw\n",
        "from rdkit.Chem.Draw import rdMolDraw2D\n",
        "from rdkit.Chem.Draw import IPythonConsole\n",
        "IPythonConsole.molSize = 300,300\n",
        "from IPython.display import SVG\n",
        "from dimorphite_dl import DimorphiteDL\n",
        "\n",
        "from openff.toolkit import Molecule, Topology, ForceField\n",
        "\n",
        "from IPython.display import HTML, display\n",
        "\n",
        "def set_css():\n",
        "  display(HTML('''\n",
        "  <style>\n",
        "    pre {\n",
        "        white-space: pre-wrap;\n",
        "    }\n",
        "  </style>\n",
        "  '''))\n",
        "  get_ipython().events.register('pre_run_cell', set_css)"
      ],
      "metadata": {
        "id": "9F1Rak-meOlC",
        "cellView": "form"
      },
      "execution_count": 3,
      "outputs": []
    },
    {
      "cell_type": "code",
      "source": [
        "#@title Input molecule\n",
        "#@markdown Please provide molecule SMILES. We will generate its protonation\n",
        "#@markdown states. Also, specify pH range for which to create states.\n",
        "# As a two state example we will use SM-26 from SAMP7 challenge\n",
        "# (https://github.com/samplchallenges/SAMPL7/tree/master/physical_property)\n",
        "# SMILES: O=S(CCC1=CC=CC=C1)(NC(C)=O)=O\n",
        "# pKa = 4.91\n",
        "# (https://github.com/samplchallenges/SAMPL7/blob/master/physical_property/experimental_data/Experimental_Properties_of_SAMPL7_Compounds.pdf)\n",
        "smiles = \"c1cc(N)c(N)cc1\" #@param {type: \"string\"}\n",
        "min_ph = -10 #@param {type: \"number\"}\n",
        "max_ph = 24 #@param {type: \"number\"}\n",
        "dimorphite_dl = DimorphiteDL(\n",
        "    min_ph=min_ph,\n",
        "    max_ph=max_ph,\n",
        "    max_variants=256,\n",
        "    label_states=False,\n",
        "    pka_precision=0.1\n",
        ")\n",
        "mols = [Chem.MolFromSmiles(mol) for mol in dimorphite_dl.protonate(smiles)]\n",
        "mols = sorted(mols, key = lambda x: Chem.GetFormalCharge(x), reverse=True)\n",
        "# Now mols[0] is the highest protonation state\n",
        "for i, m in enumerate(mols):\n",
        "    print(f\"This is Molecule {i}\")\n",
        "    d2d = rdMolDraw2D.MolDraw2DSVG(250, 200)\n",
        "    d2d.DrawMolecule(m)\n",
        "    d2d.FinishDrawing()\n",
        "    display(SVG(d2d.GetDrawingText()))"
      ],
      "metadata": {
        "colab": {
          "base_uri": "https://localhost:8080/",
          "height": 687
        },
        "id": "HxjpTW0CkrDS",
        "outputId": "953041c3-d959-4af8-8215-3e07e5c44d97"
      },
      "execution_count": 45,
      "outputs": [
        {
          "output_type": "stream",
          "name": "stdout",
          "text": [
            "This is Molecule 0\n"
          ]
        },
        {
          "output_type": "display_data",
          "data": {
            "text/plain": [
              "<IPython.core.display.SVG object>"
            ],
            "image/svg+xml": "<svg xmlns=\"http://www.w3.org/2000/svg\" xmlns:rdkit=\"http://www.rdkit.org/xml\" xmlns:xlink=\"http://www.w3.org/1999/xlink\" version=\"1.1\" baseProfile=\"full\" xml:space=\"preserve\" width=\"250px\" height=\"200px\" viewBox=\"0 0 250 200\">\n<!-- END OF HEADER -->\n<rect style=\"opacity:1.0;fill:#FFFFFF;stroke:none\" width=\"250.0\" height=\"200.0\" x=\"0.0\" y=\"0.0\"> </rect>\n<path class=\"bond-0 atom-0 atom-1\" d=\"M 187.5,160.3 L 161.6,145.4\" style=\"fill:none;fill-rule:evenodd;stroke:#0000FF;stroke-width:2.0px;stroke-linecap:butt;stroke-linejoin:miter;stroke-opacity:1\"/>\n<path class=\"bond-0 atom-0 atom-1\" d=\"M 161.6,145.4 L 135.8,130.5\" style=\"fill:none;fill-rule:evenodd;stroke:#000000;stroke-width:2.0px;stroke-linecap:butt;stroke-linejoin:miter;stroke-opacity:1\"/>\n<path class=\"bond-1 atom-1 atom-2\" d=\"M 135.8,130.5 L 74.2,166.1\" style=\"fill:none;fill-rule:evenodd;stroke:#000000;stroke-width:2.0px;stroke-linecap:butt;stroke-linejoin:miter;stroke-opacity:1\"/>\n<path class=\"bond-1 atom-1 atom-2\" d=\"M 125.1,124.3 L 74.2,153.8\" style=\"fill:none;fill-rule:evenodd;stroke:#000000;stroke-width:2.0px;stroke-linecap:butt;stroke-linejoin:miter;stroke-opacity:1\"/>\n<path class=\"bond-2 atom-2 atom-3\" d=\"M 74.2,166.1 L 12.5,130.5\" style=\"fill:none;fill-rule:evenodd;stroke:#000000;stroke-width:2.0px;stroke-linecap:butt;stroke-linejoin:miter;stroke-opacity:1\"/>\n<path class=\"bond-3 atom-3 atom-4\" d=\"M 12.5,130.5 L 12.5,59.3\" style=\"fill:none;fill-rule:evenodd;stroke:#000000;stroke-width:2.0px;stroke-linecap:butt;stroke-linejoin:miter;stroke-opacity:1\"/>\n<path class=\"bond-3 atom-3 atom-4\" d=\"M 23.2,124.3 L 23.2,65.5\" style=\"fill:none;fill-rule:evenodd;stroke:#000000;stroke-width:2.0px;stroke-linecap:butt;stroke-linejoin:miter;stroke-opacity:1\"/>\n<path class=\"bond-4 atom-4 atom-5\" d=\"M 12.5,59.3 L 74.2,23.7\" style=\"fill:none;fill-rule:evenodd;stroke:#000000;stroke-width:2.0px;stroke-linecap:butt;stroke-linejoin:miter;stroke-opacity:1\"/>\n<path class=\"bond-5 atom-5 atom-6\" d=\"M 74.2,23.7 L 135.8,59.3\" style=\"fill:none;fill-rule:evenodd;stroke:#000000;stroke-width:2.0px;stroke-linecap:butt;stroke-linejoin:miter;stroke-opacity:1\"/>\n<path class=\"bond-5 atom-5 atom-6\" d=\"M 74.2,36.1 L 125.1,65.5\" style=\"fill:none;fill-rule:evenodd;stroke:#000000;stroke-width:2.0px;stroke-linecap:butt;stroke-linejoin:miter;stroke-opacity:1\"/>\n<path class=\"bond-6 atom-6 atom-7\" d=\"M 135.8,59.3 L 161.6,44.4\" style=\"fill:none;fill-rule:evenodd;stroke:#000000;stroke-width:2.0px;stroke-linecap:butt;stroke-linejoin:miter;stroke-opacity:1\"/>\n<path class=\"bond-6 atom-6 atom-7\" d=\"M 161.6,44.4 L 187.5,29.5\" style=\"fill:none;fill-rule:evenodd;stroke:#0000FF;stroke-width:2.0px;stroke-linecap:butt;stroke-linejoin:miter;stroke-opacity:1\"/>\n<path class=\"bond-7 atom-6 atom-1\" d=\"M 135.8,59.3 L 135.8,130.5\" style=\"fill:none;fill-rule:evenodd;stroke:#000000;stroke-width:2.0px;stroke-linecap:butt;stroke-linejoin:miter;stroke-opacity:1\"/>\n<path d=\"M 77.2,164.3 L 74.2,166.1 L 71.1,164.3\" style=\"fill:none;stroke:#000000;stroke-width:2.0px;stroke-linecap:butt;stroke-linejoin:miter;stroke-opacity:1;\"/>\n<path d=\"M 15.6,132.3 L 12.5,130.5 L 12.5,127.0\" style=\"fill:none;stroke:#000000;stroke-width:2.0px;stroke-linecap:butt;stroke-linejoin:miter;stroke-opacity:1;\"/>\n<path d=\"M 12.5,62.9 L 12.5,59.3 L 15.6,57.5\" style=\"fill:none;stroke:#000000;stroke-width:2.0px;stroke-linecap:butt;stroke-linejoin:miter;stroke-opacity:1;\"/>\n<path d=\"M 71.1,25.5 L 74.2,23.7 L 77.2,25.5\" style=\"fill:none;stroke:#000000;stroke-width:2.0px;stroke-linecap:butt;stroke-linejoin:miter;stroke-opacity:1;\"/>\n<path class=\"atom-0\" d=\"M 193.0 156.0 L 199.6 166.7 Q 200.3 167.8, 201.3 169.7 Q 202.4 171.6, 202.4 171.7 L 202.4 156.0 L 205.1 156.0 L 205.1 176.2 L 202.3 176.2 L 195.2 164.5 Q 194.4 163.1, 193.5 161.6 Q 192.7 160.0, 192.4 159.5 L 192.4 176.2 L 189.8 176.2 L 189.8 156.0 L 193.0 156.0 \" fill=\"#0000FF\"/>\n<path class=\"atom-0\" d=\"M 208.9 156.0 L 211.6 156.0 L 211.6 164.6 L 222.0 164.6 L 222.0 156.0 L 224.7 156.0 L 224.7 176.2 L 222.0 176.2 L 222.0 166.9 L 211.6 166.9 L 211.6 176.2 L 208.9 176.2 L 208.9 156.0 \" fill=\"#0000FF\"/>\n<path class=\"atom-0\" d=\"M 234.9 179.3 Q 236.2 179.6, 236.9 180.5 Q 237.5 181.3, 237.5 182.6 Q 237.5 183.7, 236.9 184.6 Q 236.4 185.5, 235.3 186.0 Q 234.3 186.5, 233.0 186.5 Q 231.5 186.5, 230.5 186.0 Q 229.4 185.5, 228.6 184.4 L 229.6 183.4 Q 230.5 184.3, 231.1 184.6 Q 231.8 185.0, 233.0 185.0 Q 234.2 185.0, 234.9 184.3 Q 235.6 183.7, 235.6 182.6 Q 235.6 181.3, 234.9 180.6 Q 234.1 180.0, 232.5 180.0 L 231.5 180.0 L 231.5 178.7 L 232.4 178.7 Q 233.8 178.7, 234.6 178.0 Q 235.3 177.4, 235.3 176.2 Q 235.3 175.3, 234.7 174.8 Q 234.1 174.3, 233.0 174.3 Q 231.9 174.3, 231.2 174.7 Q 230.5 175.1, 230.0 176.1 L 228.7 175.4 Q 229.1 174.3, 230.3 173.6 Q 231.4 172.8, 233.0 172.8 Q 234.9 172.8, 236.1 173.7 Q 237.2 174.7, 237.2 176.2 Q 237.2 177.3, 236.6 178.1 Q 236.1 178.8, 234.9 179.3 \" fill=\"#0000FF\"/>\n<path class=\"atom-0\" d=\"M 228.6 159.7 L 232.2 159.7 L 232.2 155.9 L 233.8 155.9 L 233.8 159.7 L 237.4 159.7 L 237.4 161.0 L 233.8 161.0 L 233.8 164.8 L 232.2 164.8 L 232.2 161.0 L 228.6 161.0 L 228.6 159.7 \" fill=\"#0000FF\"/>\n<path class=\"atom-7\" d=\"M 193.0 13.6 L 199.6 24.3 Q 200.3 25.4, 201.3 27.3 Q 202.4 29.2, 202.4 29.3 L 202.4 13.6 L 205.1 13.6 L 205.1 33.8 L 202.3 33.8 L 195.2 22.1 Q 194.4 20.8, 193.5 19.2 Q 192.7 17.6, 192.4 17.2 L 192.4 33.8 L 189.8 33.8 L 189.8 13.6 L 193.0 13.6 \" fill=\"#0000FF\"/>\n<path class=\"atom-7\" d=\"M 208.9 13.6 L 211.6 13.6 L 211.6 22.2 L 222.0 22.2 L 222.0 13.6 L 224.7 13.6 L 224.7 33.8 L 222.0 33.8 L 222.0 24.5 L 211.6 24.5 L 211.6 33.8 L 208.9 33.8 L 208.9 13.6 \" fill=\"#0000FF\"/>\n<path class=\"atom-7\" d=\"M 234.9 36.9 Q 236.2 37.3, 236.9 38.1 Q 237.5 38.9, 237.5 40.2 Q 237.5 41.4, 236.9 42.3 Q 236.4 43.1, 235.3 43.6 Q 234.3 44.1, 233.0 44.1 Q 231.5 44.1, 230.5 43.6 Q 229.4 43.1, 228.6 42.1 L 229.6 41.0 Q 230.5 41.9, 231.1 42.2 Q 231.8 42.6, 233.0 42.6 Q 234.2 42.6, 234.9 41.9 Q 235.6 41.3, 235.6 40.2 Q 235.6 38.9, 234.9 38.3 Q 234.1 37.7, 232.5 37.7 L 231.5 37.7 L 231.5 36.3 L 232.4 36.3 Q 233.8 36.3, 234.6 35.7 Q 235.3 35.0, 235.3 33.8 Q 235.3 33.0, 234.7 32.5 Q 234.1 31.9, 233.0 31.9 Q 231.9 31.9, 231.2 32.3 Q 230.5 32.7, 230.0 33.7 L 228.7 33.0 Q 229.1 31.9, 230.3 31.2 Q 231.4 30.4, 233.0 30.4 Q 234.9 30.4, 236.1 31.4 Q 237.2 32.3, 237.2 33.8 Q 237.2 34.9, 236.6 35.7 Q 236.1 36.4, 234.9 36.9 \" fill=\"#0000FF\"/>\n<path class=\"atom-7\" d=\"M 228.6 17.3 L 232.2 17.3 L 232.2 13.5 L 233.8 13.5 L 233.8 17.3 L 237.4 17.3 L 237.4 18.6 L 233.8 18.6 L 233.8 22.4 L 232.2 22.4 L 232.2 18.6 L 228.6 18.6 L 228.6 17.3 \" fill=\"#0000FF\"/>\n</svg>"
          },
          "metadata": {}
        },
        {
          "output_type": "stream",
          "name": "stdout",
          "text": [
            "This is Molecule 1\n"
          ]
        },
        {
          "output_type": "display_data",
          "data": {
            "text/plain": [
              "<IPython.core.display.SVG object>"
            ],
            "image/svg+xml": "<svg xmlns=\"http://www.w3.org/2000/svg\" xmlns:rdkit=\"http://www.rdkit.org/xml\" xmlns:xlink=\"http://www.w3.org/1999/xlink\" version=\"1.1\" baseProfile=\"full\" xml:space=\"preserve\" width=\"250px\" height=\"200px\" viewBox=\"0 0 250 200\">\n<!-- END OF HEADER -->\n<rect style=\"opacity:1.0;fill:#FFFFFF;stroke:none\" width=\"250.0\" height=\"200.0\" x=\"0.0\" y=\"0.0\"> </rect>\n<path class=\"bond-0 atom-0 atom-1\" d=\"M 187.4,160.4 L 161.6,145.5\" style=\"fill:none;fill-rule:evenodd;stroke:#0000FF;stroke-width:2.0px;stroke-linecap:butt;stroke-linejoin:miter;stroke-opacity:1\"/>\n<path class=\"bond-0 atom-0 atom-1\" d=\"M 161.6,145.5 L 135.7,130.6\" style=\"fill:none;fill-rule:evenodd;stroke:#000000;stroke-width:2.0px;stroke-linecap:butt;stroke-linejoin:miter;stroke-opacity:1\"/>\n<path class=\"bond-1 atom-1 atom-2\" d=\"M 135.7,130.6 L 74.1,166.2\" style=\"fill:none;fill-rule:evenodd;stroke:#000000;stroke-width:2.0px;stroke-linecap:butt;stroke-linejoin:miter;stroke-opacity:1\"/>\n<path class=\"bond-1 atom-1 atom-2\" d=\"M 125.1,124.4 L 74.1,153.8\" style=\"fill:none;fill-rule:evenodd;stroke:#000000;stroke-width:2.0px;stroke-linecap:butt;stroke-linejoin:miter;stroke-opacity:1\"/>\n<path class=\"bond-2 atom-2 atom-3\" d=\"M 74.1,166.2 L 12.5,130.6\" style=\"fill:none;fill-rule:evenodd;stroke:#000000;stroke-width:2.0px;stroke-linecap:butt;stroke-linejoin:miter;stroke-opacity:1\"/>\n<path class=\"bond-3 atom-3 atom-4\" d=\"M 12.5,130.6 L 12.5,59.4\" style=\"fill:none;fill-rule:evenodd;stroke:#000000;stroke-width:2.0px;stroke-linecap:butt;stroke-linejoin:miter;stroke-opacity:1\"/>\n<path class=\"bond-3 atom-3 atom-4\" d=\"M 23.2,124.4 L 23.2,65.6\" style=\"fill:none;fill-rule:evenodd;stroke:#000000;stroke-width:2.0px;stroke-linecap:butt;stroke-linejoin:miter;stroke-opacity:1\"/>\n<path class=\"bond-4 atom-4 atom-5\" d=\"M 12.5,59.4 L 74.1,23.9\" style=\"fill:none;fill-rule:evenodd;stroke:#000000;stroke-width:2.0px;stroke-linecap:butt;stroke-linejoin:miter;stroke-opacity:1\"/>\n<path class=\"bond-5 atom-5 atom-6\" d=\"M 74.1,23.9 L 135.7,59.4\" style=\"fill:none;fill-rule:evenodd;stroke:#000000;stroke-width:2.0px;stroke-linecap:butt;stroke-linejoin:miter;stroke-opacity:1\"/>\n<path class=\"bond-5 atom-5 atom-6\" d=\"M 74.1,36.2 L 125.1,65.6\" style=\"fill:none;fill-rule:evenodd;stroke:#000000;stroke-width:2.0px;stroke-linecap:butt;stroke-linejoin:miter;stroke-opacity:1\"/>\n<path class=\"bond-6 atom-6 atom-7\" d=\"M 135.7,59.4 L 161.6,44.5\" style=\"fill:none;fill-rule:evenodd;stroke:#000000;stroke-width:2.0px;stroke-linecap:butt;stroke-linejoin:miter;stroke-opacity:1\"/>\n<path class=\"bond-6 atom-6 atom-7\" d=\"M 161.6,44.5 L 187.4,29.6\" style=\"fill:none;fill-rule:evenodd;stroke:#0000FF;stroke-width:2.0px;stroke-linecap:butt;stroke-linejoin:miter;stroke-opacity:1\"/>\n<path class=\"bond-7 atom-6 atom-1\" d=\"M 135.7,59.4 L 135.7,130.6\" style=\"fill:none;fill-rule:evenodd;stroke:#000000;stroke-width:2.0px;stroke-linecap:butt;stroke-linejoin:miter;stroke-opacity:1\"/>\n<path d=\"M 77.2,164.4 L 74.1,166.2 L 71.0,164.4\" style=\"fill:none;stroke:#000000;stroke-width:2.0px;stroke-linecap:butt;stroke-linejoin:miter;stroke-opacity:1;\"/>\n<path d=\"M 15.6,132.4 L 12.5,130.6 L 12.5,127.0\" style=\"fill:none;stroke:#000000;stroke-width:2.0px;stroke-linecap:butt;stroke-linejoin:miter;stroke-opacity:1;\"/>\n<path d=\"M 12.5,63.0 L 12.5,59.4 L 15.6,57.7\" style=\"fill:none;stroke:#000000;stroke-width:2.0px;stroke-linecap:butt;stroke-linejoin:miter;stroke-opacity:1;\"/>\n<path d=\"M 71.0,25.6 L 74.1,23.9 L 77.2,25.6\" style=\"fill:none;stroke:#000000;stroke-width:2.0px;stroke-linecap:butt;stroke-linejoin:miter;stroke-opacity:1;\"/>\n<path class=\"atom-0\" d=\"M 192.9 156.1 L 199.5 166.8 Q 200.2 167.8, 201.2 169.7 Q 202.3 171.6, 202.3 171.8 L 202.3 156.1 L 205.0 156.1 L 205.0 176.2 L 202.3 176.2 L 195.2 164.6 Q 194.3 163.2, 193.5 161.6 Q 192.6 160.1, 192.3 159.6 L 192.3 176.2 L 189.7 176.2 L 189.7 156.1 L 192.9 156.1 \" fill=\"#0000FF\"/>\n<path class=\"atom-0\" d=\"M 208.9 156.1 L 211.6 156.1 L 211.6 164.7 L 221.9 164.7 L 221.9 156.1 L 224.6 156.1 L 224.6 176.2 L 221.9 176.2 L 221.9 166.9 L 211.6 166.9 L 211.6 176.2 L 208.9 176.2 L 208.9 156.1 \" fill=\"#0000FF\"/>\n<path class=\"atom-0\" d=\"M 228.6 175.5 Q 229.1 174.3, 230.2 173.6 Q 231.4 172.9, 233.0 172.9 Q 235.0 172.9, 236.1 174.0 Q 237.3 175.1, 237.3 177.0 Q 237.3 179.0, 235.8 180.8 Q 234.4 182.6, 231.4 184.8 L 237.5 184.8 L 237.5 186.3 L 228.5 186.3 L 228.5 185.1 Q 231.0 183.3, 232.5 182.0 Q 234.0 180.7, 234.7 179.5 Q 235.4 178.3, 235.4 177.1 Q 235.4 175.8, 234.8 175.1 Q 234.1 174.4, 233.0 174.4 Q 231.9 174.4, 231.2 174.8 Q 230.5 175.2, 230.0 176.2 L 228.6 175.5 \" fill=\"#0000FF\"/>\n<path class=\"atom-7\" d=\"M 192.9 13.8 L 199.5 24.5 Q 200.2 25.5, 201.2 27.4 Q 202.3 29.3, 202.3 29.4 L 202.3 13.8 L 205.0 13.8 L 205.0 33.9 L 202.3 33.9 L 195.2 22.3 Q 194.3 20.9, 193.5 19.3 Q 192.6 17.8, 192.3 17.3 L 192.3 33.9 L 189.7 33.9 L 189.7 13.8 L 192.9 13.8 \" fill=\"#0000FF\"/>\n<path class=\"atom-7\" d=\"M 208.8 13.8 L 211.6 13.8 L 211.6 22.3 L 221.9 22.3 L 221.9 13.8 L 224.6 13.8 L 224.6 33.9 L 221.9 33.9 L 221.9 24.6 L 211.6 24.6 L 211.6 33.9 L 208.8 33.9 L 208.8 13.8 \" fill=\"#0000FF\"/>\n<path class=\"atom-7\" d=\"M 234.8 37.0 Q 236.1 37.4, 236.8 38.2 Q 237.4 39.1, 237.4 40.4 Q 237.4 41.5, 236.8 42.4 Q 236.3 43.2, 235.2 43.7 Q 234.2 44.2, 232.9 44.2 Q 231.4 44.2, 230.4 43.7 Q 229.3 43.2, 228.5 42.2 L 229.5 41.1 Q 230.4 42.0, 231.1 42.4 Q 231.7 42.7, 232.9 42.7 Q 234.1 42.7, 234.8 42.1 Q 235.5 41.4, 235.5 40.3 Q 235.5 39.0, 234.8 38.4 Q 234.0 37.8, 232.4 37.8 L 231.4 37.8 L 231.4 36.4 L 232.3 36.4 Q 233.7 36.4, 234.5 35.8 Q 235.2 35.1, 235.2 34.0 Q 235.2 33.1, 234.6 32.6 Q 234.0 32.1, 232.9 32.1 Q 231.8 32.1, 231.1 32.5 Q 230.4 32.9, 229.9 33.8 L 228.6 33.2 Q 229.0 32.0, 230.2 31.3 Q 231.3 30.6, 232.9 30.6 Q 234.8 30.6, 236.0 31.5 Q 237.1 32.4, 237.1 34.0 Q 237.1 35.0, 236.5 35.8 Q 236.0 36.6, 234.8 37.0 \" fill=\"#0000FF\"/>\n<path class=\"atom-7\" d=\"M 228.5 17.4 L 232.1 17.4 L 232.1 13.7 L 233.7 13.7 L 233.7 17.4 L 237.3 17.4 L 237.3 18.8 L 233.7 18.8 L 233.7 22.5 L 232.1 22.5 L 232.1 18.8 L 228.5 18.8 L 228.5 17.4 \" fill=\"#0000FF\"/>\n</svg>"
          },
          "metadata": {}
        },
        {
          "output_type": "stream",
          "name": "stdout",
          "text": [
            "This is Molecule 2\n"
          ]
        },
        {
          "output_type": "display_data",
          "data": {
            "text/plain": [
              "<IPython.core.display.SVG object>"
            ],
            "image/svg+xml": "<svg xmlns=\"http://www.w3.org/2000/svg\" xmlns:rdkit=\"http://www.rdkit.org/xml\" xmlns:xlink=\"http://www.w3.org/1999/xlink\" version=\"1.1\" baseProfile=\"full\" xml:space=\"preserve\" width=\"250px\" height=\"200px\" viewBox=\"0 0 250 200\">\n<!-- END OF HEADER -->\n<rect style=\"opacity:1.0;fill:#FFFFFF;stroke:none\" width=\"250.0\" height=\"200.0\" x=\"0.0\" y=\"0.0\"> </rect>\n<path class=\"bond-0 atom-0 atom-1\" d=\"M 187.4,160.4 L 161.6,145.4\" style=\"fill:none;fill-rule:evenodd;stroke:#0000FF;stroke-width:2.0px;stroke-linecap:butt;stroke-linejoin:miter;stroke-opacity:1\"/>\n<path class=\"bond-0 atom-0 atom-1\" d=\"M 161.6,145.4 L 135.7,130.5\" style=\"fill:none;fill-rule:evenodd;stroke:#000000;stroke-width:2.0px;stroke-linecap:butt;stroke-linejoin:miter;stroke-opacity:1\"/>\n<path class=\"bond-1 atom-1 atom-2\" d=\"M 135.7,130.5 L 74.1,166.1\" style=\"fill:none;fill-rule:evenodd;stroke:#000000;stroke-width:2.0px;stroke-linecap:butt;stroke-linejoin:miter;stroke-opacity:1\"/>\n<path class=\"bond-1 atom-1 atom-2\" d=\"M 125.1,124.4 L 74.1,153.8\" style=\"fill:none;fill-rule:evenodd;stroke:#000000;stroke-width:2.0px;stroke-linecap:butt;stroke-linejoin:miter;stroke-opacity:1\"/>\n<path class=\"bond-2 atom-2 atom-3\" d=\"M 74.1,166.1 L 12.5,130.5\" style=\"fill:none;fill-rule:evenodd;stroke:#000000;stroke-width:2.0px;stroke-linecap:butt;stroke-linejoin:miter;stroke-opacity:1\"/>\n<path class=\"bond-3 atom-3 atom-4\" d=\"M 12.5,130.5 L 12.5,59.4\" style=\"fill:none;fill-rule:evenodd;stroke:#000000;stroke-width:2.0px;stroke-linecap:butt;stroke-linejoin:miter;stroke-opacity:1\"/>\n<path class=\"bond-3 atom-3 atom-4\" d=\"M 23.2,124.4 L 23.2,65.5\" style=\"fill:none;fill-rule:evenodd;stroke:#000000;stroke-width:2.0px;stroke-linecap:butt;stroke-linejoin:miter;stroke-opacity:1\"/>\n<path class=\"bond-4 atom-4 atom-5\" d=\"M 12.5,59.4 L 74.1,23.8\" style=\"fill:none;fill-rule:evenodd;stroke:#000000;stroke-width:2.0px;stroke-linecap:butt;stroke-linejoin:miter;stroke-opacity:1\"/>\n<path class=\"bond-5 atom-5 atom-6\" d=\"M 74.1,23.8 L 135.7,59.4\" style=\"fill:none;fill-rule:evenodd;stroke:#000000;stroke-width:2.0px;stroke-linecap:butt;stroke-linejoin:miter;stroke-opacity:1\"/>\n<path class=\"bond-5 atom-5 atom-6\" d=\"M 74.1,36.1 L 125.1,65.5\" style=\"fill:none;fill-rule:evenodd;stroke:#000000;stroke-width:2.0px;stroke-linecap:butt;stroke-linejoin:miter;stroke-opacity:1\"/>\n<path class=\"bond-6 atom-6 atom-7\" d=\"M 135.7,59.4 L 161.6,44.5\" style=\"fill:none;fill-rule:evenodd;stroke:#000000;stroke-width:2.0px;stroke-linecap:butt;stroke-linejoin:miter;stroke-opacity:1\"/>\n<path class=\"bond-6 atom-6 atom-7\" d=\"M 161.6,44.5 L 187.4,29.6\" style=\"fill:none;fill-rule:evenodd;stroke:#0000FF;stroke-width:2.0px;stroke-linecap:butt;stroke-linejoin:miter;stroke-opacity:1\"/>\n<path class=\"bond-7 atom-6 atom-1\" d=\"M 135.7,59.4 L 135.7,130.5\" style=\"fill:none;fill-rule:evenodd;stroke:#000000;stroke-width:2.0px;stroke-linecap:butt;stroke-linejoin:miter;stroke-opacity:1\"/>\n<path d=\"M 77.2,164.3 L 74.1,166.1 L 71.0,164.3\" style=\"fill:none;stroke:#000000;stroke-width:2.0px;stroke-linecap:butt;stroke-linejoin:miter;stroke-opacity:1;\"/>\n<path d=\"M 15.6,132.3 L 12.5,130.5 L 12.5,127.0\" style=\"fill:none;stroke:#000000;stroke-width:2.0px;stroke-linecap:butt;stroke-linejoin:miter;stroke-opacity:1;\"/>\n<path d=\"M 12.5,62.9 L 12.5,59.4 L 15.6,57.6\" style=\"fill:none;stroke:#000000;stroke-width:2.0px;stroke-linecap:butt;stroke-linejoin:miter;stroke-opacity:1;\"/>\n<path d=\"M 71.0,25.6 L 74.1,23.8 L 77.2,25.6\" style=\"fill:none;stroke:#000000;stroke-width:2.0px;stroke-linecap:butt;stroke-linejoin:miter;stroke-opacity:1;\"/>\n<path class=\"atom-0\" d=\"M 192.9 156.0 L 199.5 166.7 Q 200.2 167.8, 201.2 169.7 Q 202.3 171.6, 202.3 171.7 L 202.3 156.0 L 205.0 156.0 L 205.0 176.2 L 202.3 176.2 L 195.2 164.5 Q 194.3 163.2, 193.5 161.6 Q 192.6 160.0, 192.3 159.5 L 192.3 176.2 L 189.7 176.2 L 189.7 156.0 L 192.9 156.0 \" fill=\"#0000FF\"/>\n<path class=\"atom-0\" d=\"M 208.9 156.0 L 211.6 156.0 L 211.6 164.6 L 221.9 164.6 L 221.9 156.0 L 224.6 156.0 L 224.6 176.2 L 221.9 176.2 L 221.9 166.9 L 211.6 166.9 L 211.6 176.2 L 208.9 176.2 L 208.9 156.0 \" fill=\"#0000FF\"/>\n<path class=\"atom-0\" d=\"M 228.6 175.5 Q 229.1 174.2, 230.2 173.5 Q 231.4 172.8, 233.0 172.8 Q 235.0 172.8, 236.1 173.9 Q 237.3 175.0, 237.3 176.9 Q 237.3 178.9, 235.8 180.7 Q 234.4 182.6, 231.4 184.8 L 237.5 184.8 L 237.5 186.3 L 228.5 186.3 L 228.5 185.0 Q 231.0 183.2, 232.5 181.9 Q 234.0 180.6, 234.7 179.4 Q 235.4 178.2, 235.4 177.0 Q 235.4 175.8, 234.8 175.0 Q 234.1 174.3, 233.0 174.3 Q 231.9 174.3, 231.2 174.8 Q 230.5 175.2, 230.0 176.1 L 228.6 175.5 \" fill=\"#0000FF\"/>\n<path class=\"atom-7\" d=\"M 192.9 13.7 L 199.5 24.4 Q 200.2 25.5, 201.2 27.4 Q 202.3 29.3, 202.3 29.4 L 202.3 13.7 L 205.0 13.7 L 205.0 33.9 L 202.3 33.9 L 195.2 22.2 Q 194.3 20.8, 193.5 19.3 Q 192.6 17.7, 192.3 17.2 L 192.3 33.9 L 189.7 33.9 L 189.7 13.7 L 192.9 13.7 \" fill=\"#0000FF\"/>\n<path class=\"atom-7\" d=\"M 208.9 13.7 L 211.6 13.7 L 211.6 22.3 L 221.9 22.3 L 221.9 13.7 L 224.6 13.7 L 224.6 33.9 L 221.9 33.9 L 221.9 24.6 L 211.6 24.6 L 211.6 33.9 L 208.9 33.9 L 208.9 13.7 \" fill=\"#0000FF\"/>\n<path class=\"atom-7\" d=\"M 228.6 33.2 Q 229.1 31.9, 230.2 31.2 Q 231.4 30.5, 233.0 30.5 Q 235.0 30.5, 236.1 31.6 Q 237.3 32.7, 237.3 34.6 Q 237.3 36.6, 235.8 38.4 Q 234.4 40.3, 231.4 42.5 L 237.5 42.5 L 237.5 44.0 L 228.5 44.0 L 228.5 42.7 Q 231.0 40.9, 232.5 39.6 Q 234.0 38.3, 234.7 37.1 Q 235.4 35.9, 235.4 34.7 Q 235.4 33.4, 234.8 32.7 Q 234.1 32.0, 233.0 32.0 Q 231.9 32.0, 231.2 32.4 Q 230.5 32.9, 230.0 33.8 L 228.6 33.2 \" fill=\"#0000FF\"/>\n</svg>"
          },
          "metadata": {}
        }
      ]
    },
    {
      "cell_type": "code",
      "source": [
        "#@title Select molecules\n",
        "#@markdown Which molecule states do you want to use?\n",
        "#@markdown The molecule ids are shown in the previous cell.\n",
        "mol1 = True #@param {type:\"boolean\"}\n",
        "mol2 = True #@param {type:\"boolean\"}\n",
        "mol3 = True #@param {type:\"boolean\"}\n",
        "mol4 = True #@param {type:\"boolean\"}\n",
        "mol5 = False #@param {type:\"boolean\"}\n",
        "mol6 = False #@param {type:\"boolean\"}\n",
        "mol7 = False #@param {type:\"boolean\"}\n",
        "mol8 = False #@param {type:\"boolean\"}\n",
        "mol9 = False #@param {type:\"boolean\"}\n",
        "mol10 = False #@param {type:\"boolean\"}\n",
        "\n",
        "mols_to_use = [\n",
        "    mol1, mol2, mol3, mol4, mol5, mol6, mol7, mol8, mol9, mol10,\n",
        "][:len(mols)]\n",
        "\n",
        "mols = [mols[i] for i in range(len(mols)) if mols_to_use[i]]"
      ],
      "metadata": {
        "id": "6cC1ul8MS8ZO"
      },
      "execution_count": 46,
      "outputs": []
    },
    {
      "cell_type": "code",
      "source": [
        "#@title Selected molecules\n",
        "#@markdown The foloweing molecules will be used in the furhter analysis.\n",
        "for i, m in enumerate(mols):\n",
        "    print(f\"This is Molecule {i}\")\n",
        "    d2d = rdMolDraw2D.MolDraw2DSVG(250, 200)\n",
        "    d2d.DrawMolecule(m)\n",
        "    d2d.FinishDrawing()\n",
        "    display(SVG(d2d.GetDrawingText()))"
      ],
      "metadata": {
        "colab": {
          "base_uri": "https://localhost:8080/",
          "height": 687
        },
        "id": "VfSF4T0PV3XY",
        "outputId": "3c8d7754-f916-4808-da2f-628ffa016a86"
      },
      "execution_count": 47,
      "outputs": [
        {
          "output_type": "stream",
          "name": "stdout",
          "text": [
            "This is Molecule 0\n"
          ]
        },
        {
          "output_type": "display_data",
          "data": {
            "text/plain": [
              "<IPython.core.display.SVG object>"
            ],
            "image/svg+xml": "<svg xmlns=\"http://www.w3.org/2000/svg\" xmlns:rdkit=\"http://www.rdkit.org/xml\" xmlns:xlink=\"http://www.w3.org/1999/xlink\" version=\"1.1\" baseProfile=\"full\" xml:space=\"preserve\" width=\"250px\" height=\"200px\" viewBox=\"0 0 250 200\">\n<!-- END OF HEADER -->\n<rect style=\"opacity:1.0;fill:#FFFFFF;stroke:none\" width=\"250.0\" height=\"200.0\" x=\"0.0\" y=\"0.0\"> </rect>\n<path class=\"bond-0 atom-0 atom-1\" d=\"M 187.5,160.3 L 161.6,145.4\" style=\"fill:none;fill-rule:evenodd;stroke:#0000FF;stroke-width:2.0px;stroke-linecap:butt;stroke-linejoin:miter;stroke-opacity:1\"/>\n<path class=\"bond-0 atom-0 atom-1\" d=\"M 161.6,145.4 L 135.8,130.5\" style=\"fill:none;fill-rule:evenodd;stroke:#000000;stroke-width:2.0px;stroke-linecap:butt;stroke-linejoin:miter;stroke-opacity:1\"/>\n<path class=\"bond-1 atom-1 atom-2\" d=\"M 135.8,130.5 L 74.2,166.1\" style=\"fill:none;fill-rule:evenodd;stroke:#000000;stroke-width:2.0px;stroke-linecap:butt;stroke-linejoin:miter;stroke-opacity:1\"/>\n<path class=\"bond-1 atom-1 atom-2\" d=\"M 125.1,124.3 L 74.2,153.8\" style=\"fill:none;fill-rule:evenodd;stroke:#000000;stroke-width:2.0px;stroke-linecap:butt;stroke-linejoin:miter;stroke-opacity:1\"/>\n<path class=\"bond-2 atom-2 atom-3\" d=\"M 74.2,166.1 L 12.5,130.5\" style=\"fill:none;fill-rule:evenodd;stroke:#000000;stroke-width:2.0px;stroke-linecap:butt;stroke-linejoin:miter;stroke-opacity:1\"/>\n<path class=\"bond-3 atom-3 atom-4\" d=\"M 12.5,130.5 L 12.5,59.3\" style=\"fill:none;fill-rule:evenodd;stroke:#000000;stroke-width:2.0px;stroke-linecap:butt;stroke-linejoin:miter;stroke-opacity:1\"/>\n<path class=\"bond-3 atom-3 atom-4\" d=\"M 23.2,124.3 L 23.2,65.5\" style=\"fill:none;fill-rule:evenodd;stroke:#000000;stroke-width:2.0px;stroke-linecap:butt;stroke-linejoin:miter;stroke-opacity:1\"/>\n<path class=\"bond-4 atom-4 atom-5\" d=\"M 12.5,59.3 L 74.2,23.7\" style=\"fill:none;fill-rule:evenodd;stroke:#000000;stroke-width:2.0px;stroke-linecap:butt;stroke-linejoin:miter;stroke-opacity:1\"/>\n<path class=\"bond-5 atom-5 atom-6\" d=\"M 74.2,23.7 L 135.8,59.3\" style=\"fill:none;fill-rule:evenodd;stroke:#000000;stroke-width:2.0px;stroke-linecap:butt;stroke-linejoin:miter;stroke-opacity:1\"/>\n<path class=\"bond-5 atom-5 atom-6\" d=\"M 74.2,36.1 L 125.1,65.5\" style=\"fill:none;fill-rule:evenodd;stroke:#000000;stroke-width:2.0px;stroke-linecap:butt;stroke-linejoin:miter;stroke-opacity:1\"/>\n<path class=\"bond-6 atom-6 atom-7\" d=\"M 135.8,59.3 L 161.6,44.4\" style=\"fill:none;fill-rule:evenodd;stroke:#000000;stroke-width:2.0px;stroke-linecap:butt;stroke-linejoin:miter;stroke-opacity:1\"/>\n<path class=\"bond-6 atom-6 atom-7\" d=\"M 161.6,44.4 L 187.5,29.5\" style=\"fill:none;fill-rule:evenodd;stroke:#0000FF;stroke-width:2.0px;stroke-linecap:butt;stroke-linejoin:miter;stroke-opacity:1\"/>\n<path class=\"bond-7 atom-6 atom-1\" d=\"M 135.8,59.3 L 135.8,130.5\" style=\"fill:none;fill-rule:evenodd;stroke:#000000;stroke-width:2.0px;stroke-linecap:butt;stroke-linejoin:miter;stroke-opacity:1\"/>\n<path d=\"M 77.2,164.3 L 74.2,166.1 L 71.1,164.3\" style=\"fill:none;stroke:#000000;stroke-width:2.0px;stroke-linecap:butt;stroke-linejoin:miter;stroke-opacity:1;\"/>\n<path d=\"M 15.6,132.3 L 12.5,130.5 L 12.5,127.0\" style=\"fill:none;stroke:#000000;stroke-width:2.0px;stroke-linecap:butt;stroke-linejoin:miter;stroke-opacity:1;\"/>\n<path d=\"M 12.5,62.9 L 12.5,59.3 L 15.6,57.5\" style=\"fill:none;stroke:#000000;stroke-width:2.0px;stroke-linecap:butt;stroke-linejoin:miter;stroke-opacity:1;\"/>\n<path d=\"M 71.1,25.5 L 74.2,23.7 L 77.2,25.5\" style=\"fill:none;stroke:#000000;stroke-width:2.0px;stroke-linecap:butt;stroke-linejoin:miter;stroke-opacity:1;\"/>\n<path class=\"atom-0\" d=\"M 193.0 156.0 L 199.6 166.7 Q 200.3 167.8, 201.3 169.7 Q 202.4 171.6, 202.4 171.7 L 202.4 156.0 L 205.1 156.0 L 205.1 176.2 L 202.3 176.2 L 195.2 164.5 Q 194.4 163.1, 193.5 161.6 Q 192.7 160.0, 192.4 159.5 L 192.4 176.2 L 189.8 176.2 L 189.8 156.0 L 193.0 156.0 \" fill=\"#0000FF\"/>\n<path class=\"atom-0\" d=\"M 208.9 156.0 L 211.6 156.0 L 211.6 164.6 L 222.0 164.6 L 222.0 156.0 L 224.7 156.0 L 224.7 176.2 L 222.0 176.2 L 222.0 166.9 L 211.6 166.9 L 211.6 176.2 L 208.9 176.2 L 208.9 156.0 \" fill=\"#0000FF\"/>\n<path class=\"atom-0\" d=\"M 234.9 179.3 Q 236.2 179.6, 236.9 180.5 Q 237.5 181.3, 237.5 182.6 Q 237.5 183.7, 236.9 184.6 Q 236.4 185.5, 235.3 186.0 Q 234.3 186.5, 233.0 186.5 Q 231.5 186.5, 230.5 186.0 Q 229.4 185.5, 228.6 184.4 L 229.6 183.4 Q 230.5 184.3, 231.1 184.6 Q 231.8 185.0, 233.0 185.0 Q 234.2 185.0, 234.9 184.3 Q 235.6 183.7, 235.6 182.6 Q 235.6 181.3, 234.9 180.6 Q 234.1 180.0, 232.5 180.0 L 231.5 180.0 L 231.5 178.7 L 232.4 178.7 Q 233.8 178.7, 234.6 178.0 Q 235.3 177.4, 235.3 176.2 Q 235.3 175.3, 234.7 174.8 Q 234.1 174.3, 233.0 174.3 Q 231.9 174.3, 231.2 174.7 Q 230.5 175.1, 230.0 176.1 L 228.7 175.4 Q 229.1 174.3, 230.3 173.6 Q 231.4 172.8, 233.0 172.8 Q 234.9 172.8, 236.1 173.7 Q 237.2 174.7, 237.2 176.2 Q 237.2 177.3, 236.6 178.1 Q 236.1 178.8, 234.9 179.3 \" fill=\"#0000FF\"/>\n<path class=\"atom-0\" d=\"M 228.6 159.7 L 232.2 159.7 L 232.2 155.9 L 233.8 155.9 L 233.8 159.7 L 237.4 159.7 L 237.4 161.0 L 233.8 161.0 L 233.8 164.8 L 232.2 164.8 L 232.2 161.0 L 228.6 161.0 L 228.6 159.7 \" fill=\"#0000FF\"/>\n<path class=\"atom-7\" d=\"M 193.0 13.6 L 199.6 24.3 Q 200.3 25.4, 201.3 27.3 Q 202.4 29.2, 202.4 29.3 L 202.4 13.6 L 205.1 13.6 L 205.1 33.8 L 202.3 33.8 L 195.2 22.1 Q 194.4 20.8, 193.5 19.2 Q 192.7 17.6, 192.4 17.2 L 192.4 33.8 L 189.8 33.8 L 189.8 13.6 L 193.0 13.6 \" fill=\"#0000FF\"/>\n<path class=\"atom-7\" d=\"M 208.9 13.6 L 211.6 13.6 L 211.6 22.2 L 222.0 22.2 L 222.0 13.6 L 224.7 13.6 L 224.7 33.8 L 222.0 33.8 L 222.0 24.5 L 211.6 24.5 L 211.6 33.8 L 208.9 33.8 L 208.9 13.6 \" fill=\"#0000FF\"/>\n<path class=\"atom-7\" d=\"M 234.9 36.9 Q 236.2 37.3, 236.9 38.1 Q 237.5 38.9, 237.5 40.2 Q 237.5 41.4, 236.9 42.3 Q 236.4 43.1, 235.3 43.6 Q 234.3 44.1, 233.0 44.1 Q 231.5 44.1, 230.5 43.6 Q 229.4 43.1, 228.6 42.1 L 229.6 41.0 Q 230.5 41.9, 231.1 42.2 Q 231.8 42.6, 233.0 42.6 Q 234.2 42.6, 234.9 41.9 Q 235.6 41.3, 235.6 40.2 Q 235.6 38.9, 234.9 38.3 Q 234.1 37.7, 232.5 37.7 L 231.5 37.7 L 231.5 36.3 L 232.4 36.3 Q 233.8 36.3, 234.6 35.7 Q 235.3 35.0, 235.3 33.8 Q 235.3 33.0, 234.7 32.5 Q 234.1 31.9, 233.0 31.9 Q 231.9 31.9, 231.2 32.3 Q 230.5 32.7, 230.0 33.7 L 228.7 33.0 Q 229.1 31.9, 230.3 31.2 Q 231.4 30.4, 233.0 30.4 Q 234.9 30.4, 236.1 31.4 Q 237.2 32.3, 237.2 33.8 Q 237.2 34.9, 236.6 35.7 Q 236.1 36.4, 234.9 36.9 \" fill=\"#0000FF\"/>\n<path class=\"atom-7\" d=\"M 228.6 17.3 L 232.2 17.3 L 232.2 13.5 L 233.8 13.5 L 233.8 17.3 L 237.4 17.3 L 237.4 18.6 L 233.8 18.6 L 233.8 22.4 L 232.2 22.4 L 232.2 18.6 L 228.6 18.6 L 228.6 17.3 \" fill=\"#0000FF\"/>\n</svg>"
          },
          "metadata": {}
        },
        {
          "output_type": "stream",
          "name": "stdout",
          "text": [
            "This is Molecule 1\n"
          ]
        },
        {
          "output_type": "display_data",
          "data": {
            "text/plain": [
              "<IPython.core.display.SVG object>"
            ],
            "image/svg+xml": "<svg xmlns=\"http://www.w3.org/2000/svg\" xmlns:rdkit=\"http://www.rdkit.org/xml\" xmlns:xlink=\"http://www.w3.org/1999/xlink\" version=\"1.1\" baseProfile=\"full\" xml:space=\"preserve\" width=\"250px\" height=\"200px\" viewBox=\"0 0 250 200\">\n<!-- END OF HEADER -->\n<rect style=\"opacity:1.0;fill:#FFFFFF;stroke:none\" width=\"250.0\" height=\"200.0\" x=\"0.0\" y=\"0.0\"> </rect>\n<path class=\"bond-0 atom-0 atom-1\" d=\"M 187.4,160.4 L 161.6,145.5\" style=\"fill:none;fill-rule:evenodd;stroke:#0000FF;stroke-width:2.0px;stroke-linecap:butt;stroke-linejoin:miter;stroke-opacity:1\"/>\n<path class=\"bond-0 atom-0 atom-1\" d=\"M 161.6,145.5 L 135.7,130.6\" style=\"fill:none;fill-rule:evenodd;stroke:#000000;stroke-width:2.0px;stroke-linecap:butt;stroke-linejoin:miter;stroke-opacity:1\"/>\n<path class=\"bond-1 atom-1 atom-2\" d=\"M 135.7,130.6 L 74.1,166.2\" style=\"fill:none;fill-rule:evenodd;stroke:#000000;stroke-width:2.0px;stroke-linecap:butt;stroke-linejoin:miter;stroke-opacity:1\"/>\n<path class=\"bond-1 atom-1 atom-2\" d=\"M 125.1,124.4 L 74.1,153.8\" style=\"fill:none;fill-rule:evenodd;stroke:#000000;stroke-width:2.0px;stroke-linecap:butt;stroke-linejoin:miter;stroke-opacity:1\"/>\n<path class=\"bond-2 atom-2 atom-3\" d=\"M 74.1,166.2 L 12.5,130.6\" style=\"fill:none;fill-rule:evenodd;stroke:#000000;stroke-width:2.0px;stroke-linecap:butt;stroke-linejoin:miter;stroke-opacity:1\"/>\n<path class=\"bond-3 atom-3 atom-4\" d=\"M 12.5,130.6 L 12.5,59.4\" style=\"fill:none;fill-rule:evenodd;stroke:#000000;stroke-width:2.0px;stroke-linecap:butt;stroke-linejoin:miter;stroke-opacity:1\"/>\n<path class=\"bond-3 atom-3 atom-4\" d=\"M 23.2,124.4 L 23.2,65.6\" style=\"fill:none;fill-rule:evenodd;stroke:#000000;stroke-width:2.0px;stroke-linecap:butt;stroke-linejoin:miter;stroke-opacity:1\"/>\n<path class=\"bond-4 atom-4 atom-5\" d=\"M 12.5,59.4 L 74.1,23.9\" style=\"fill:none;fill-rule:evenodd;stroke:#000000;stroke-width:2.0px;stroke-linecap:butt;stroke-linejoin:miter;stroke-opacity:1\"/>\n<path class=\"bond-5 atom-5 atom-6\" d=\"M 74.1,23.9 L 135.7,59.4\" style=\"fill:none;fill-rule:evenodd;stroke:#000000;stroke-width:2.0px;stroke-linecap:butt;stroke-linejoin:miter;stroke-opacity:1\"/>\n<path class=\"bond-5 atom-5 atom-6\" d=\"M 74.1,36.2 L 125.1,65.6\" style=\"fill:none;fill-rule:evenodd;stroke:#000000;stroke-width:2.0px;stroke-linecap:butt;stroke-linejoin:miter;stroke-opacity:1\"/>\n<path class=\"bond-6 atom-6 atom-7\" d=\"M 135.7,59.4 L 161.6,44.5\" style=\"fill:none;fill-rule:evenodd;stroke:#000000;stroke-width:2.0px;stroke-linecap:butt;stroke-linejoin:miter;stroke-opacity:1\"/>\n<path class=\"bond-6 atom-6 atom-7\" d=\"M 161.6,44.5 L 187.4,29.6\" style=\"fill:none;fill-rule:evenodd;stroke:#0000FF;stroke-width:2.0px;stroke-linecap:butt;stroke-linejoin:miter;stroke-opacity:1\"/>\n<path class=\"bond-7 atom-6 atom-1\" d=\"M 135.7,59.4 L 135.7,130.6\" style=\"fill:none;fill-rule:evenodd;stroke:#000000;stroke-width:2.0px;stroke-linecap:butt;stroke-linejoin:miter;stroke-opacity:1\"/>\n<path d=\"M 77.2,164.4 L 74.1,166.2 L 71.0,164.4\" style=\"fill:none;stroke:#000000;stroke-width:2.0px;stroke-linecap:butt;stroke-linejoin:miter;stroke-opacity:1;\"/>\n<path d=\"M 15.6,132.4 L 12.5,130.6 L 12.5,127.0\" style=\"fill:none;stroke:#000000;stroke-width:2.0px;stroke-linecap:butt;stroke-linejoin:miter;stroke-opacity:1;\"/>\n<path d=\"M 12.5,63.0 L 12.5,59.4 L 15.6,57.7\" style=\"fill:none;stroke:#000000;stroke-width:2.0px;stroke-linecap:butt;stroke-linejoin:miter;stroke-opacity:1;\"/>\n<path d=\"M 71.0,25.6 L 74.1,23.9 L 77.2,25.6\" style=\"fill:none;stroke:#000000;stroke-width:2.0px;stroke-linecap:butt;stroke-linejoin:miter;stroke-opacity:1;\"/>\n<path class=\"atom-0\" d=\"M 192.9 156.1 L 199.5 166.8 Q 200.2 167.8, 201.2 169.7 Q 202.3 171.6, 202.3 171.8 L 202.3 156.1 L 205.0 156.1 L 205.0 176.2 L 202.3 176.2 L 195.2 164.6 Q 194.3 163.2, 193.5 161.6 Q 192.6 160.1, 192.3 159.6 L 192.3 176.2 L 189.7 176.2 L 189.7 156.1 L 192.9 156.1 \" fill=\"#0000FF\"/>\n<path class=\"atom-0\" d=\"M 208.9 156.1 L 211.6 156.1 L 211.6 164.7 L 221.9 164.7 L 221.9 156.1 L 224.6 156.1 L 224.6 176.2 L 221.9 176.2 L 221.9 166.9 L 211.6 166.9 L 211.6 176.2 L 208.9 176.2 L 208.9 156.1 \" fill=\"#0000FF\"/>\n<path class=\"atom-0\" d=\"M 228.6 175.5 Q 229.1 174.3, 230.2 173.6 Q 231.4 172.9, 233.0 172.9 Q 235.0 172.9, 236.1 174.0 Q 237.3 175.1, 237.3 177.0 Q 237.3 179.0, 235.8 180.8 Q 234.4 182.6, 231.4 184.8 L 237.5 184.8 L 237.5 186.3 L 228.5 186.3 L 228.5 185.1 Q 231.0 183.3, 232.5 182.0 Q 234.0 180.7, 234.7 179.5 Q 235.4 178.3, 235.4 177.1 Q 235.4 175.8, 234.8 175.1 Q 234.1 174.4, 233.0 174.4 Q 231.9 174.4, 231.2 174.8 Q 230.5 175.2, 230.0 176.2 L 228.6 175.5 \" fill=\"#0000FF\"/>\n<path class=\"atom-7\" d=\"M 192.9 13.8 L 199.5 24.5 Q 200.2 25.5, 201.2 27.4 Q 202.3 29.3, 202.3 29.4 L 202.3 13.8 L 205.0 13.8 L 205.0 33.9 L 202.3 33.9 L 195.2 22.3 Q 194.3 20.9, 193.5 19.3 Q 192.6 17.8, 192.3 17.3 L 192.3 33.9 L 189.7 33.9 L 189.7 13.8 L 192.9 13.8 \" fill=\"#0000FF\"/>\n<path class=\"atom-7\" d=\"M 208.8 13.8 L 211.6 13.8 L 211.6 22.3 L 221.9 22.3 L 221.9 13.8 L 224.6 13.8 L 224.6 33.9 L 221.9 33.9 L 221.9 24.6 L 211.6 24.6 L 211.6 33.9 L 208.8 33.9 L 208.8 13.8 \" fill=\"#0000FF\"/>\n<path class=\"atom-7\" d=\"M 234.8 37.0 Q 236.1 37.4, 236.8 38.2 Q 237.4 39.1, 237.4 40.4 Q 237.4 41.5, 236.8 42.4 Q 236.3 43.2, 235.2 43.7 Q 234.2 44.2, 232.9 44.2 Q 231.4 44.2, 230.4 43.7 Q 229.3 43.2, 228.5 42.2 L 229.5 41.1 Q 230.4 42.0, 231.1 42.4 Q 231.7 42.7, 232.9 42.7 Q 234.1 42.7, 234.8 42.1 Q 235.5 41.4, 235.5 40.3 Q 235.5 39.0, 234.8 38.4 Q 234.0 37.8, 232.4 37.8 L 231.4 37.8 L 231.4 36.4 L 232.3 36.4 Q 233.7 36.4, 234.5 35.8 Q 235.2 35.1, 235.2 34.0 Q 235.2 33.1, 234.6 32.6 Q 234.0 32.1, 232.9 32.1 Q 231.8 32.1, 231.1 32.5 Q 230.4 32.9, 229.9 33.8 L 228.6 33.2 Q 229.0 32.0, 230.2 31.3 Q 231.3 30.6, 232.9 30.6 Q 234.8 30.6, 236.0 31.5 Q 237.1 32.4, 237.1 34.0 Q 237.1 35.0, 236.5 35.8 Q 236.0 36.6, 234.8 37.0 \" fill=\"#0000FF\"/>\n<path class=\"atom-7\" d=\"M 228.5 17.4 L 232.1 17.4 L 232.1 13.7 L 233.7 13.7 L 233.7 17.4 L 237.3 17.4 L 237.3 18.8 L 233.7 18.8 L 233.7 22.5 L 232.1 22.5 L 232.1 18.8 L 228.5 18.8 L 228.5 17.4 \" fill=\"#0000FF\"/>\n</svg>"
          },
          "metadata": {}
        },
        {
          "output_type": "stream",
          "name": "stdout",
          "text": [
            "This is Molecule 2\n"
          ]
        },
        {
          "output_type": "display_data",
          "data": {
            "text/plain": [
              "<IPython.core.display.SVG object>"
            ],
            "image/svg+xml": "<svg xmlns=\"http://www.w3.org/2000/svg\" xmlns:rdkit=\"http://www.rdkit.org/xml\" xmlns:xlink=\"http://www.w3.org/1999/xlink\" version=\"1.1\" baseProfile=\"full\" xml:space=\"preserve\" width=\"250px\" height=\"200px\" viewBox=\"0 0 250 200\">\n<!-- END OF HEADER -->\n<rect style=\"opacity:1.0;fill:#FFFFFF;stroke:none\" width=\"250.0\" height=\"200.0\" x=\"0.0\" y=\"0.0\"> </rect>\n<path class=\"bond-0 atom-0 atom-1\" d=\"M 187.4,160.4 L 161.6,145.4\" style=\"fill:none;fill-rule:evenodd;stroke:#0000FF;stroke-width:2.0px;stroke-linecap:butt;stroke-linejoin:miter;stroke-opacity:1\"/>\n<path class=\"bond-0 atom-0 atom-1\" d=\"M 161.6,145.4 L 135.7,130.5\" style=\"fill:none;fill-rule:evenodd;stroke:#000000;stroke-width:2.0px;stroke-linecap:butt;stroke-linejoin:miter;stroke-opacity:1\"/>\n<path class=\"bond-1 atom-1 atom-2\" d=\"M 135.7,130.5 L 74.1,166.1\" style=\"fill:none;fill-rule:evenodd;stroke:#000000;stroke-width:2.0px;stroke-linecap:butt;stroke-linejoin:miter;stroke-opacity:1\"/>\n<path class=\"bond-1 atom-1 atom-2\" d=\"M 125.1,124.4 L 74.1,153.8\" style=\"fill:none;fill-rule:evenodd;stroke:#000000;stroke-width:2.0px;stroke-linecap:butt;stroke-linejoin:miter;stroke-opacity:1\"/>\n<path class=\"bond-2 atom-2 atom-3\" d=\"M 74.1,166.1 L 12.5,130.5\" style=\"fill:none;fill-rule:evenodd;stroke:#000000;stroke-width:2.0px;stroke-linecap:butt;stroke-linejoin:miter;stroke-opacity:1\"/>\n<path class=\"bond-3 atom-3 atom-4\" d=\"M 12.5,130.5 L 12.5,59.4\" style=\"fill:none;fill-rule:evenodd;stroke:#000000;stroke-width:2.0px;stroke-linecap:butt;stroke-linejoin:miter;stroke-opacity:1\"/>\n<path class=\"bond-3 atom-3 atom-4\" d=\"M 23.2,124.4 L 23.2,65.5\" style=\"fill:none;fill-rule:evenodd;stroke:#000000;stroke-width:2.0px;stroke-linecap:butt;stroke-linejoin:miter;stroke-opacity:1\"/>\n<path class=\"bond-4 atom-4 atom-5\" d=\"M 12.5,59.4 L 74.1,23.8\" style=\"fill:none;fill-rule:evenodd;stroke:#000000;stroke-width:2.0px;stroke-linecap:butt;stroke-linejoin:miter;stroke-opacity:1\"/>\n<path class=\"bond-5 atom-5 atom-6\" d=\"M 74.1,23.8 L 135.7,59.4\" style=\"fill:none;fill-rule:evenodd;stroke:#000000;stroke-width:2.0px;stroke-linecap:butt;stroke-linejoin:miter;stroke-opacity:1\"/>\n<path class=\"bond-5 atom-5 atom-6\" d=\"M 74.1,36.1 L 125.1,65.5\" style=\"fill:none;fill-rule:evenodd;stroke:#000000;stroke-width:2.0px;stroke-linecap:butt;stroke-linejoin:miter;stroke-opacity:1\"/>\n<path class=\"bond-6 atom-6 atom-7\" d=\"M 135.7,59.4 L 161.6,44.5\" style=\"fill:none;fill-rule:evenodd;stroke:#000000;stroke-width:2.0px;stroke-linecap:butt;stroke-linejoin:miter;stroke-opacity:1\"/>\n<path class=\"bond-6 atom-6 atom-7\" d=\"M 161.6,44.5 L 187.4,29.6\" style=\"fill:none;fill-rule:evenodd;stroke:#0000FF;stroke-width:2.0px;stroke-linecap:butt;stroke-linejoin:miter;stroke-opacity:1\"/>\n<path class=\"bond-7 atom-6 atom-1\" d=\"M 135.7,59.4 L 135.7,130.5\" style=\"fill:none;fill-rule:evenodd;stroke:#000000;stroke-width:2.0px;stroke-linecap:butt;stroke-linejoin:miter;stroke-opacity:1\"/>\n<path d=\"M 77.2,164.3 L 74.1,166.1 L 71.0,164.3\" style=\"fill:none;stroke:#000000;stroke-width:2.0px;stroke-linecap:butt;stroke-linejoin:miter;stroke-opacity:1;\"/>\n<path d=\"M 15.6,132.3 L 12.5,130.5 L 12.5,127.0\" style=\"fill:none;stroke:#000000;stroke-width:2.0px;stroke-linecap:butt;stroke-linejoin:miter;stroke-opacity:1;\"/>\n<path d=\"M 12.5,62.9 L 12.5,59.4 L 15.6,57.6\" style=\"fill:none;stroke:#000000;stroke-width:2.0px;stroke-linecap:butt;stroke-linejoin:miter;stroke-opacity:1;\"/>\n<path d=\"M 71.0,25.6 L 74.1,23.8 L 77.2,25.6\" style=\"fill:none;stroke:#000000;stroke-width:2.0px;stroke-linecap:butt;stroke-linejoin:miter;stroke-opacity:1;\"/>\n<path class=\"atom-0\" d=\"M 192.9 156.0 L 199.5 166.7 Q 200.2 167.8, 201.2 169.7 Q 202.3 171.6, 202.3 171.7 L 202.3 156.0 L 205.0 156.0 L 205.0 176.2 L 202.3 176.2 L 195.2 164.5 Q 194.3 163.2, 193.5 161.6 Q 192.6 160.0, 192.3 159.5 L 192.3 176.2 L 189.7 176.2 L 189.7 156.0 L 192.9 156.0 \" fill=\"#0000FF\"/>\n<path class=\"atom-0\" d=\"M 208.9 156.0 L 211.6 156.0 L 211.6 164.6 L 221.9 164.6 L 221.9 156.0 L 224.6 156.0 L 224.6 176.2 L 221.9 176.2 L 221.9 166.9 L 211.6 166.9 L 211.6 176.2 L 208.9 176.2 L 208.9 156.0 \" fill=\"#0000FF\"/>\n<path class=\"atom-0\" d=\"M 228.6 175.5 Q 229.1 174.2, 230.2 173.5 Q 231.4 172.8, 233.0 172.8 Q 235.0 172.8, 236.1 173.9 Q 237.3 175.0, 237.3 176.9 Q 237.3 178.9, 235.8 180.7 Q 234.4 182.6, 231.4 184.8 L 237.5 184.8 L 237.5 186.3 L 228.5 186.3 L 228.5 185.0 Q 231.0 183.2, 232.5 181.9 Q 234.0 180.6, 234.7 179.4 Q 235.4 178.2, 235.4 177.0 Q 235.4 175.8, 234.8 175.0 Q 234.1 174.3, 233.0 174.3 Q 231.9 174.3, 231.2 174.8 Q 230.5 175.2, 230.0 176.1 L 228.6 175.5 \" fill=\"#0000FF\"/>\n<path class=\"atom-7\" d=\"M 192.9 13.7 L 199.5 24.4 Q 200.2 25.5, 201.2 27.4 Q 202.3 29.3, 202.3 29.4 L 202.3 13.7 L 205.0 13.7 L 205.0 33.9 L 202.3 33.9 L 195.2 22.2 Q 194.3 20.8, 193.5 19.3 Q 192.6 17.7, 192.3 17.2 L 192.3 33.9 L 189.7 33.9 L 189.7 13.7 L 192.9 13.7 \" fill=\"#0000FF\"/>\n<path class=\"atom-7\" d=\"M 208.9 13.7 L 211.6 13.7 L 211.6 22.3 L 221.9 22.3 L 221.9 13.7 L 224.6 13.7 L 224.6 33.9 L 221.9 33.9 L 221.9 24.6 L 211.6 24.6 L 211.6 33.9 L 208.9 33.9 L 208.9 13.7 \" fill=\"#0000FF\"/>\n<path class=\"atom-7\" d=\"M 228.6 33.2 Q 229.1 31.9, 230.2 31.2 Q 231.4 30.5, 233.0 30.5 Q 235.0 30.5, 236.1 31.6 Q 237.3 32.7, 237.3 34.6 Q 237.3 36.6, 235.8 38.4 Q 234.4 40.3, 231.4 42.5 L 237.5 42.5 L 237.5 44.0 L 228.5 44.0 L 228.5 42.7 Q 231.0 40.9, 232.5 39.6 Q 234.0 38.3, 234.7 37.1 Q 235.4 35.9, 235.4 34.7 Q 235.4 33.4, 234.8 32.7 Q 234.1 32.0, 233.0 32.0 Q 231.9 32.0, 231.2 32.4 Q 230.5 32.9, 230.0 33.8 L 228.6 33.2 \" fill=\"#0000FF\"/>\n</svg>"
          },
          "metadata": {}
        }
      ]
    },
    {
      "cell_type": "code",
      "source": [
        "#@title Get titratable site\n",
        "# Highest protonation state is always in state[0]\n",
        "titratable_sites = []\n",
        "# pmol is a protonated molecule - always in the highest available protonation\n",
        "# state\n",
        "pmol = mols[0]\n",
        "from rdkit.Chem import rdFMCS\n",
        "res = rdFMCS.FindMCS([pmol, pmol])\n",
        "similar_patt = Chem.MolFromSmarts(res.smartsString)\n",
        "# This is a constant mol[0] substructure match\n",
        "subst_matches_pmol = pmol.GetSubstructMatches(similar_patt)[0]\n",
        "for m in mols[1:]:\n",
        "    subst_matches = m.GetSubstructMatches(similar_patt)[0]\n",
        "    for a0, a in zip(subst_matches_pmol, subst_matches):\n",
        "        if (pmol.GetAtomWithIdx(a0).GetFormalCharge() !=\n",
        "            m.GetAtomWithIdx(a).GetFormalCharge()\n",
        "        ):\n",
        "            titratable_sites.append(a0)\n",
        "titratable_sites = list(set(titratable_sites))"
      ],
      "metadata": {
        "id": "Sl3r5d_MdQcN"
      },
      "execution_count": 48,
      "outputs": []
    },
    {
      "cell_type": "code",
      "source": [
        "titratable_sites"
      ],
      "metadata": {
        "colab": {
          "base_uri": "https://localhost:8080/"
        },
        "id": "X9XK4iUcf9gj",
        "outputId": "933a9647-ce66-4e18-cef2-2e81a10303aa"
      },
      "execution_count": 49,
      "outputs": [
        {
          "output_type": "execute_result",
          "data": {
            "text/plain": [
              "[0, 7]"
            ]
          },
          "metadata": {},
          "execution_count": 49
        }
      ]
    },
    {
      "cell_type": "code",
      "source": [
        "#@title Get list of symmetrical titratable sites\n",
        "from rdkit.Chem import rdFMCS\n",
        "# We search for symmetrical sites based on the highest protonation states\n",
        "# NOTE: If the user selects not to include the highest protonation state\n",
        "# this behaviour can cause problems.\n",
        "res = rdFMCS.FindMCS([pmol, pmol])\n",
        "similar_patt = Chem.MolFromSmarts(res.smartsString)\n",
        "subst_matches = pmol.GetSubstructMatches(similar_patt, uniquify=False)\n",
        "print(subst_matches)\n",
        "symmetrical_sites = {x.GetIdx():[x.GetIdx()] for x in pmol.GetAtoms()}\n",
        "if len(subst_matches) > 1:\n",
        "    for sm in subst_matches[1:]:\n",
        "        for ts in titratable_sites:\n",
        "            if sm[subst_matches_pmol.index(ts)] not in symmetrical_sites[ts]:\n",
        "                symmetrical_sites[ts].append(sm[subst_matches_pmol.index(ts)])\n",
        "                symmetrical_sites[sm[subst_matches_pmol.index(ts)]].append(ts)\n",
        "symmetrical_sites"
      ],
      "metadata": {
        "colab": {
          "base_uri": "https://localhost:8080/"
        },
        "id": "SE9qyt_YeuWl",
        "outputId": "8e674b75-a6bf-46ca-91bb-e12340f8017b"
      },
      "execution_count": 50,
      "outputs": [
        {
          "output_type": "stream",
          "name": "stdout",
          "text": [
            "((0, 1, 2, 3, 4, 5, 6, 7), (7, 6, 5, 4, 3, 2, 1, 0))\n"
          ]
        },
        {
          "output_type": "execute_result",
          "data": {
            "text/plain": [
              "{0: [0, 7], 1: [1], 2: [2], 3: [3], 4: [4], 5: [5], 6: [6], 7: [7, 0]}"
            ]
          },
          "metadata": {},
          "execution_count": 50
        }
      ]
    },
    {
      "cell_type": "code",
      "source": [
        "symmetrical_sites"
      ],
      "metadata": {
        "id": "cjqJpFUl4s9r",
        "outputId": "9bc00117-14b2-45f1-c3f6-5f22a0fa6716",
        "colab": {
          "base_uri": "https://localhost:8080/"
        }
      },
      "execution_count": 62,
      "outputs": [
        {
          "output_type": "execute_result",
          "data": {
            "text/plain": [
              "{0: [0, 7], 1: [1], 2: [2], 3: [3], 4: [4], 5: [5], 6: [6], 7: [7, 0]}"
            ]
          },
          "metadata": {},
          "execution_count": 62
        }
      ]
    },
    {
      "cell_type": "code",
      "source": [
        "#@title Get list of sites with multiple hydrogens\n",
        "sites_with_multiple_hs = []\n",
        "for ts in titratable_sites:\n",
        "    if (\n",
        "        pmol.GetAtomWithIdx(ts).GetNumExplicitHs()\n",
        "        + pmol.GetAtomWithIdx(ts).GetNumImplicitHs()\n",
        "        > 1\n",
        "    ):\n",
        "        sites_with_multiple_hs.append(ts)\n",
        "sites_with_multiple_hs"
      ],
      "metadata": {
        "colab": {
          "base_uri": "https://localhost:8080/"
        },
        "id": "c0aAHRyilzwZ",
        "outputId": "ecd44248-787a-409a-f1ee-2309a2ef9ce7"
      },
      "execution_count": 51,
      "outputs": [
        {
          "output_type": "execute_result",
          "data": {
            "text/plain": [
              "[0, 7]"
            ]
          },
          "metadata": {},
          "execution_count": 51
        }
      ]
    },
    {
      "cell_type": "code",
      "source": [
        "#@title Highlight sites with multiple hydrogens\n",
        "import textwrap\n",
        "if sites_with_multiple_hs:\n",
        "    print(\n",
        "        textwrap.fill(\n",
        "            (\n",
        "                f\"We detected {len(sites_with_multiple_hs)} sites to which \"\n",
        "                + \"multiple hydrogens are attached. Please, take a careful \"\n",
        "                + \"look and let us know whether we should consider those sites \"\n",
        "                + \"as multisite with each hydrogen titrating separately, or as \"\n",
        "                + \"single site, where only one hydrogen is titrated. Note, \"\n",
        "                + \"that we highlight the titratable sites for the molecule in \"\n",
        "                + \"the highest protonation state.\"\n",
        "            ),\n",
        "            120\n",
        "        )\n",
        "    )\n",
        "    colors = [(1.0, 0.0, 0.0, 0.2)]\n",
        "    for i, a in enumerate(sites_with_multiple_hs):\n",
        "        (pmol.GetAtomWithIdx(a)).SetProp('atomNote', str(i+1))\n",
        "    d2d = rdMolDraw2D.MolDraw2DSVG(250, 200)\n",
        "    at_highlights = {x: [colors[0]] for x in sites_with_multiple_hs}\n",
        "    at_rads = {x: 0.5 for x in sites_with_multiple_hs}\n",
        "    d2d.DrawMoleculeWithHighlights(pmol,\"\", at_highlights,{}, at_rads, {})\n",
        "    d2d.FinishDrawing()\n",
        "    display(SVG(d2d.GetDrawingText()))\n",
        "    for a in sites_with_multiple_hs:\n",
        "        (pmol.GetAtomWithIdx(a)).SetProp('atomNote', '')\n",
        "else:\n",
        "    mHs = None\n",
        "    print(\n",
        "        \"No sites to which multiple hydrogens are attached were detected. \"\n",
        "        + \" You can skip the next step.\"\n",
        "    )"
      ],
      "metadata": {
        "colab": {
          "base_uri": "https://localhost:8080/",
          "height": 277
        },
        "id": "Yg2K0Mew3-KU",
        "outputId": "0b4e742f-c9ad-4ec5-e5b4-8a66ceede008"
      },
      "execution_count": 52,
      "outputs": [
        {
          "output_type": "stream",
          "name": "stdout",
          "text": [
            "We detected 2 sites to which multiple hydrogens are attached. Please, take a careful look and let us know whether we\n",
            "should consider those sites as multisite with each hydrogen titrating separately, or as single site, where only one\n",
            "hydrogen is titrated. Note, that we highlight the titratable sites for the molecule in the highest protonation state.\n"
          ]
        },
        {
          "output_type": "display_data",
          "data": {
            "text/plain": [
              "<IPython.core.display.SVG object>"
            ],
            "image/svg+xml": "<svg xmlns=\"http://www.w3.org/2000/svg\" xmlns:rdkit=\"http://www.rdkit.org/xml\" xmlns:xlink=\"http://www.w3.org/1999/xlink\" version=\"1.1\" baseProfile=\"full\" xml:space=\"preserve\" width=\"250px\" height=\"200px\" viewBox=\"0 0 250 200\">\n<!-- END OF HEADER -->\n<rect style=\"opacity:1.0;fill:#FFFFFF;stroke:none\" width=\"250.0\" height=\"200.0\" x=\"0.0\" y=\"0.0\"> </rect>\n<ellipse cx=\"204.4\" cy=\"167.5\" rx=\"32.0\" ry=\"22.5\" class=\"atom-0\" style=\"fill:#FF000033;fill-rule:evenodd;stroke:#FF000033;stroke-width:1.0px;stroke-linecap:butt;stroke-linejoin:miter;stroke-opacity:1\"/>\n<ellipse cx=\"204.4\" cy=\"32.5\" rx=\"32.0\" ry=\"22.5\" class=\"atom-7\" style=\"fill:#FF000033;fill-rule:evenodd;stroke:#FF000033;stroke-width:1.0px;stroke-linecap:butt;stroke-linejoin:miter;stroke-opacity:1\"/>\n<path class=\"bond-0 atom-0 atom-1\" d=\"M 179.5,157.2 L 155.0,143.1\" style=\"fill:none;fill-rule:evenodd;stroke:#0000FF;stroke-width:2.0px;stroke-linecap:butt;stroke-linejoin:miter;stroke-opacity:1\"/>\n<path class=\"bond-0 atom-0 atom-1\" d=\"M 155.0,143.1 L 130.6,128.9\" style=\"fill:none;fill-rule:evenodd;stroke:#000000;stroke-width:2.0px;stroke-linecap:butt;stroke-linejoin:miter;stroke-opacity:1\"/>\n<path class=\"bond-1 atom-1 atom-2\" d=\"M 130.6,128.9 L 72.1,162.7\" style=\"fill:none;fill-rule:evenodd;stroke:#000000;stroke-width:2.0px;stroke-linecap:butt;stroke-linejoin:miter;stroke-opacity:1\"/>\n<path class=\"bond-1 atom-1 atom-2\" d=\"M 120.4,123.1 L 72.1,151.0\" style=\"fill:none;fill-rule:evenodd;stroke:#000000;stroke-width:2.0px;stroke-linecap:butt;stroke-linejoin:miter;stroke-opacity:1\"/>\n<path class=\"bond-2 atom-2 atom-3\" d=\"M 72.1,162.7 L 13.6,128.9\" style=\"fill:none;fill-rule:evenodd;stroke:#000000;stroke-width:2.0px;stroke-linecap:butt;stroke-linejoin:miter;stroke-opacity:1\"/>\n<path class=\"bond-3 atom-3 atom-4\" d=\"M 13.6,128.9 L 13.6,61.4\" style=\"fill:none;fill-rule:evenodd;stroke:#000000;stroke-width:2.0px;stroke-linecap:butt;stroke-linejoin:miter;stroke-opacity:1\"/>\n<path class=\"bond-3 atom-3 atom-4\" d=\"M 23.8,123.1 L 23.8,67.3\" style=\"fill:none;fill-rule:evenodd;stroke:#000000;stroke-width:2.0px;stroke-linecap:butt;stroke-linejoin:miter;stroke-opacity:1\"/>\n<path class=\"bond-4 atom-4 atom-5\" d=\"M 13.6,61.4 L 72.1,27.7\" style=\"fill:none;fill-rule:evenodd;stroke:#000000;stroke-width:2.0px;stroke-linecap:butt;stroke-linejoin:miter;stroke-opacity:1\"/>\n<path class=\"bond-5 atom-5 atom-6\" d=\"M 72.1,27.7 L 130.6,61.4\" style=\"fill:none;fill-rule:evenodd;stroke:#000000;stroke-width:2.0px;stroke-linecap:butt;stroke-linejoin:miter;stroke-opacity:1\"/>\n<path class=\"bond-5 atom-5 atom-6\" d=\"M 72.1,39.4 L 120.4,67.3\" style=\"fill:none;fill-rule:evenodd;stroke:#000000;stroke-width:2.0px;stroke-linecap:butt;stroke-linejoin:miter;stroke-opacity:1\"/>\n<path class=\"bond-6 atom-6 atom-7\" d=\"M 130.6,61.4 L 155.0,47.3\" style=\"fill:none;fill-rule:evenodd;stroke:#000000;stroke-width:2.0px;stroke-linecap:butt;stroke-linejoin:miter;stroke-opacity:1\"/>\n<path class=\"bond-6 atom-6 atom-7\" d=\"M 155.0,47.3 L 179.5,33.2\" style=\"fill:none;fill-rule:evenodd;stroke:#0000FF;stroke-width:2.0px;stroke-linecap:butt;stroke-linejoin:miter;stroke-opacity:1\"/>\n<path class=\"bond-7 atom-6 atom-1\" d=\"M 130.6,61.4 L 130.6,128.9\" style=\"fill:none;fill-rule:evenodd;stroke:#000000;stroke-width:2.0px;stroke-linecap:butt;stroke-linejoin:miter;stroke-opacity:1\"/>\n<path d=\"M 75.0,161.0 L 72.1,162.7 L 69.2,161.0\" style=\"fill:none;stroke:#000000;stroke-width:2.0px;stroke-linecap:butt;stroke-linejoin:miter;stroke-opacity:1;\"/>\n<path d=\"M 16.6,130.6 L 13.6,128.9 L 13.6,125.6\" style=\"fill:none;stroke:#000000;stroke-width:2.0px;stroke-linecap:butt;stroke-linejoin:miter;stroke-opacity:1;\"/>\n<path d=\"M 13.6,64.8 L 13.6,61.4 L 16.6,59.7\" style=\"fill:none;stroke:#000000;stroke-width:2.0px;stroke-linecap:butt;stroke-linejoin:miter;stroke-opacity:1;\"/>\n<path d=\"M 69.2,29.4 L 72.1,27.7 L 75.0,29.4\" style=\"fill:none;stroke:#000000;stroke-width:2.0px;stroke-linecap:butt;stroke-linejoin:miter;stroke-opacity:1;\"/>\n<path class=\"atom-0\" d=\"M 184.8 153.1 L 191.1 163.2 Q 191.7 164.2, 192.7 166.1 Q 193.7 167.9, 193.7 168.0 L 193.7 153.1 L 196.3 153.1 L 196.3 172.2 L 193.6 172.2 L 186.9 161.2 Q 186.1 159.9, 185.3 158.4 Q 184.5 156.9, 184.3 156.4 L 184.3 172.2 L 181.8 172.2 L 181.8 153.1 L 184.8 153.1 \" fill=\"#0000FF\"/>\n<path class=\"atom-0\" d=\"M 199.9 153.1 L 202.5 153.1 L 202.5 161.3 L 212.2 161.3 L 212.2 153.1 L 214.8 153.1 L 214.8 172.2 L 212.2 172.2 L 212.2 163.4 L 202.5 163.4 L 202.5 172.2 L 199.9 172.2 L 199.9 153.1 \" fill=\"#0000FF\"/>\n<path class=\"atom-0\" d=\"M 224.6 175.2 Q 225.8 175.5, 226.4 176.3 Q 227.0 177.1, 227.0 178.3 Q 227.0 179.4, 226.5 180.2 Q 225.9 181.1, 224.9 181.5 Q 224.0 182.0, 222.7 182.0 Q 221.3 182.0, 220.3 181.5 Q 219.3 181.0, 218.5 180.1 L 219.5 179.0 Q 220.3 179.9, 221.0 180.2 Q 221.6 180.6, 222.7 180.6 Q 223.8 180.6, 224.5 179.9 Q 225.2 179.3, 225.2 178.3 Q 225.2 177.0, 224.5 176.5 Q 223.8 175.9, 222.2 175.9 L 221.3 175.9 L 221.3 174.6 L 222.1 174.6 Q 223.5 174.6, 224.2 174.0 Q 224.9 173.4, 224.9 172.3 Q 224.9 171.4, 224.3 171.0 Q 223.7 170.5, 222.7 170.5 Q 221.6 170.5, 221.0 170.8 Q 220.3 171.2, 219.8 172.2 L 218.6 171.5 Q 219.1 170.4, 220.1 169.8 Q 221.2 169.0, 222.7 169.0 Q 224.5 169.0, 225.6 169.9 Q 226.7 170.8, 226.7 172.3 Q 226.7 173.3, 226.2 174.0 Q 225.6 174.7, 224.6 175.2 \" fill=\"#0000FF\"/>\n<path class=\"atom-0\" d=\"M 218.6 156.6 L 222.0 156.6 L 222.0 153.0 L 223.5 153.0 L 223.5 156.6 L 226.9 156.6 L 226.9 157.9 L 223.5 157.9 L 223.5 161.4 L 222.0 161.4 L 222.0 157.9 L 218.6 157.9 L 218.6 156.6 \" fill=\"#0000FF\"/>\n<path class=\"atom-7\" d=\"M 184.8 18.1 L 191.1 28.2 Q 191.7 29.2, 192.7 31.1 Q 193.7 32.9, 193.7 33.0 L 193.7 18.1 L 196.3 18.1 L 196.3 37.2 L 193.6 37.2 L 186.9 26.2 Q 186.1 24.9, 185.3 23.4 Q 184.5 21.9, 184.3 21.4 L 184.3 37.2 L 181.8 37.2 L 181.8 18.1 L 184.8 18.1 \" fill=\"#0000FF\"/>\n<path class=\"atom-7\" d=\"M 199.9 18.1 L 202.5 18.1 L 202.5 26.3 L 212.2 26.3 L 212.2 18.1 L 214.8 18.1 L 214.8 37.2 L 212.2 37.2 L 212.2 28.4 L 202.5 28.4 L 202.5 37.2 L 199.9 37.2 L 199.9 18.1 \" fill=\"#0000FF\"/>\n<path class=\"atom-7\" d=\"M 224.6 40.2 Q 225.8 40.5, 226.4 41.3 Q 227.0 42.1, 227.0 43.3 Q 227.0 44.4, 226.5 45.2 Q 225.9 46.1, 224.9 46.5 Q 224.0 47.0, 222.7 47.0 Q 221.3 47.0, 220.3 46.5 Q 219.3 46.0, 218.5 45.1 L 219.5 44.0 Q 220.3 44.9, 221.0 45.2 Q 221.6 45.6, 222.7 45.6 Q 223.8 45.6, 224.5 44.9 Q 225.2 44.3, 225.2 43.3 Q 225.2 42.0, 224.5 41.5 Q 223.8 40.9, 222.2 40.9 L 221.3 40.9 L 221.3 39.6 L 222.1 39.6 Q 223.5 39.6, 224.2 39.0 Q 224.9 38.4, 224.9 37.3 Q 224.9 36.4, 224.3 36.0 Q 223.7 35.5, 222.7 35.5 Q 221.6 35.5, 221.0 35.8 Q 220.3 36.2, 219.8 37.2 L 218.6 36.5 Q 219.1 35.4, 220.1 34.8 Q 221.2 34.0, 222.7 34.0 Q 224.5 34.0, 225.6 34.9 Q 226.7 35.8, 226.7 37.3 Q 226.7 38.3, 226.2 39.0 Q 225.6 39.7, 224.6 40.2 \" fill=\"#0000FF\"/>\n<path class=\"atom-7\" d=\"M 218.6 21.6 L 222.0 21.6 L 222.0 18.0 L 223.5 18.0 L 223.5 21.6 L 226.9 21.6 L 226.9 22.9 L 223.5 22.9 L 223.5 26.4 L 222.0 26.4 L 222.0 22.9 L 218.6 22.9 L 218.6 21.6 \" fill=\"#0000FF\"/>\n<path class=\"note\" d=\"M 197.9 185.9 L 200.0 185.9 L 200.0 178.8 L 197.7 179.5 L 197.4 178.7 L 200.3 177.4 L 201.3 177.5 L 201.3 185.9 L 203.1 185.9 L 203.1 187.0 L 197.9 187.0 L 197.9 185.9 \" fill=\"#000000\"/>\n<path class=\"note\" d=\"M 197.1 44.3 Q 197.4 43.3, 198.3 42.8 Q 199.1 42.3, 200.3 42.3 Q 201.7 42.3, 202.5 43.1 Q 203.3 43.9, 203.3 45.3 Q 203.3 46.7, 202.3 48.0 Q 201.2 49.4, 199.1 50.9 L 203.5 50.9 L 203.5 52.0 L 197.0 52.0 L 197.0 51.1 Q 198.8 49.8, 199.9 48.9 Q 200.9 47.9, 201.5 47.1 Q 202.0 46.2, 202.0 45.4 Q 202.0 44.4, 201.5 43.9 Q 201.1 43.4, 200.3 43.4 Q 199.5 43.4, 199.0 43.7 Q 198.5 44.0, 198.1 44.7 L 197.1 44.3 \" fill=\"#000000\"/>\n</svg>"
          },
          "metadata": {}
        }
      ]
    },
    {
      "cell_type": "code",
      "source": [
        "#@title Select treatment of multi-hydrogen sites\n",
        "#@markdown Do you want to treat titratable sites with multiple hydrogens\n",
        "#@markdown attached as single multisite or no? Default is no. If you want\n",
        "#@markdown to treat those with multisite representation tick the corresponding\n",
        "#@markdown variable. The id of titratable sites are shown in the previous cell.\n",
        "multiHs_titratable_site_1 = True #@param {type:\"boolean\"}\n",
        "multiHs_titratable_site_2 = True #@param {type:\"boolean\"}\n",
        "multiHs_titratable_site_3 = False #@param {type:\"boolean\"}\n",
        "multiHs_titratable_site_4 = False #@param {type:\"boolean\"}\n",
        "multiHs_titratable_site_5 = False #@param {type:\"boolean\"}\n",
        "\n",
        "mHs = [\n",
        "    multiHs_titratable_site_1,\n",
        "    multiHs_titratable_site_2,\n",
        "    multiHs_titratable_site_3,\n",
        "    multiHs_titratable_site_4,\n",
        "    multiHs_titratable_site_5,\n",
        "][:len(sites_with_multiple_hs)]"
      ],
      "metadata": {
        "id": "6hA84tEeetpF"
      },
      "execution_count": 53,
      "outputs": []
    },
    {
      "cell_type": "code",
      "source": [
        "mHs"
      ],
      "metadata": {
        "id": "9eb3evy4-8JY",
        "colab": {
          "base_uri": "https://localhost:8080/"
        },
        "outputId": "648aa99d-a534-4a39-c809-47993ee3f43a"
      },
      "execution_count": 54,
      "outputs": [
        {
          "output_type": "execute_result",
          "data": {
            "text/plain": [
              "[True, True]"
            ]
          },
          "metadata": {},
          "execution_count": 54
        }
      ]
    },
    {
      "cell_type": "code",
      "source": [
        "#@title Symmetrical states treatment\n",
        "states = {}  # Dictionary of states and state treatment. Each state has a\n",
        "# molecule, number of states and number of states for consideration, atoms with\n",
        "# different charges of the symmetrical states, and atoms with multiple hydrogens\n",
        "# NOTE: numbering is given in the pmol indices\n",
        "# NOTE: state treatment should be fixed/changed after user input is provided\n",
        "for i, m in enumerate(mols):\n",
        "    from rdkit.Chem import rdFMCS\n",
        "    res = rdFMCS.FindMCS([pmol, pmol])\n",
        "    similar_patt = Chem.MolFromSmarts(res.smartsString)\n",
        "    subst_matches = m.GetSubstructMatches(similar_patt)[0]\n",
        "    charges = {}\n",
        "    for a in symmetrical_sites:\n",
        "        # We collect formal charges for each symmetrical state.\n",
        "        charges[a] = [\n",
        "            m.GetAtomWithIdx(\n",
        "                subst_matches[subst_matches_pmol.index(a)]\n",
        "            ).GetFormalCharge()\n",
        "        ]\n",
        "        # If there is only one symmetrical site for an atom, nothing to do.\n",
        "        if len(symmetrical_sites[a]) == 1:\n",
        "            continue\n",
        "        # Add symmetrical charges to the atom charge list\n",
        "        for idx in symmetrical_sites[a][1:]:\n",
        "            charges[a].append(\n",
        "                m.GetAtomWithIdx(\n",
        "                    subst_matches[subst_matches_pmol.index(idx)]\n",
        "                ).GetFormalCharge()\n",
        "            )\n",
        "    # If for all atoms in this states there is only on charge, nothing to do.\n",
        "    if all([len(list(set(x))) == 1 for x in charges.values()]):\n",
        "        states[i] = (m, 1, 1, None, None)\n",
        "        continue\n",
        "    print(f\"For molecule {i} symmetrical states were detected:\")\n",
        "    d2d = rdMolDraw2D.MolDraw2DSVG(250, 200)\n",
        "    d2d.DrawMolecule(m)\n",
        "    d2d.FinishDrawing()\n",
        "    display(SVG(d2d.GetDrawingText()))\n",
        "    print(\"These are found symmetrical states:\")\n",
        "    # Symmetrical atoms with different charges\n",
        "    atoms_to_change = [x for x in charges if len(charges[x]) > 1]\n",
        "    # Atoms for which there no difference between states, but their charge is\n",
        "    # different from the highest protonation state\n",
        "    atoms_with_dif_charges = [\n",
        "        x for x in charges if len(charges[x]) == 1 and\n",
        "        charges[x][0] != pmol.GetAtomWithIdx(x).GetFormalCharge()\n",
        "    ]\n",
        "    charge_combinations = list(zip(*[charges[x] for x in atoms_to_change]))\n",
        "    # We collect already seen sets of charges in state_charges\n",
        "    state_charges = []\n",
        "    from copy import deepcopy\n",
        "    for c in charge_combinations:\n",
        "        m_new = deepcopy(pmol)\n",
        "        # We set up state specific symmetrical charges\n",
        "        for a in atoms_with_dif_charges:\n",
        "            m_new.GetAtomWithIdx(a).SetFormalCharge(\n",
        "                pmol.GetAtomWithIdx(a).GetFormalCharge() - 1\n",
        "            )\n",
        "            m_new.GetAtomWithIdx(a).SetNumExplicitHs(\n",
        "                pmol.GetAtomWithIdx(a).GetNumExplicitHs() - 1\n",
        "            )\n",
        "        # We set up other state charges\n",
        "        for a_charge, a in zip(c, atoms_to_change):\n",
        "            if a_charge != pmol.GetAtomWithIdx(a).GetFormalCharge():\n",
        "                m_new.GetAtomWithIdx(a).SetFormalCharge(a_charge)\n",
        "                m_new.GetAtomWithIdx(a).SetNumExplicitHs(\n",
        "                    pmol.GetAtomWithIdx(a).GetNumExplicitHs() - 1\n",
        "                )\n",
        "        # We do nothing if there are\n",
        "        if [x.GetFormalCharge() for x in m_new.GetAtoms()] in state_charges:\n",
        "            continue\n",
        "        state_charges.append([x.GetFormalCharge() for x in m_new.GetAtoms()])\n",
        "        d2d = rdMolDraw2D.MolDraw2DSVG(250, 200)\n",
        "        colors = [(0.0, 1.0, 0.0, 0.2)]\n",
        "        at_highlights = {x: [colors[0]] for x in atoms_to_change}\n",
        "        at_rads = {x: 0.5 for x in atoms_to_change}\n",
        "        d2d.DrawMoleculeWithHighlights(m_new,\"\", at_highlights,{}, at_rads, {})\n",
        "        d2d.FinishDrawing()\n",
        "        display(SVG(d2d.GetDrawingText()))\n",
        "    states[i] = (\n",
        "        m, len(state_charges), 1, (atoms_to_change, state_charges), None\n",
        "    )\n",
        "if all([x[1] == 1 for x in states.values()]):\n",
        "    ss = None\n",
        "    print(\n",
        "        \"No symmetrical states were found \"\n",
        "        + \" You can skip the next step.\"\n",
        "    )"
      ],
      "metadata": {
        "colab": {
          "base_uri": "https://localhost:8080/",
          "height": 669
        },
        "id": "cMIgAhkBxviB",
        "outputId": "0d115e1b-efb1-445a-daa9-ec162fbcc06d"
      },
      "execution_count": 55,
      "outputs": [
        {
          "output_type": "stream",
          "name": "stdout",
          "text": [
            "For molecule 1 symmetrical states were detected:\n"
          ]
        },
        {
          "output_type": "display_data",
          "data": {
            "text/plain": [
              "<IPython.core.display.SVG object>"
            ],
            "image/svg+xml": "<svg xmlns=\"http://www.w3.org/2000/svg\" xmlns:rdkit=\"http://www.rdkit.org/xml\" xmlns:xlink=\"http://www.w3.org/1999/xlink\" version=\"1.1\" baseProfile=\"full\" xml:space=\"preserve\" width=\"250px\" height=\"200px\" viewBox=\"0 0 250 200\">\n<!-- END OF HEADER -->\n<rect style=\"opacity:1.0;fill:#FFFFFF;stroke:none\" width=\"250.0\" height=\"200.0\" x=\"0.0\" y=\"0.0\"> </rect>\n<path class=\"bond-0 atom-0 atom-1\" d=\"M 187.4,160.4 L 161.6,145.5\" style=\"fill:none;fill-rule:evenodd;stroke:#0000FF;stroke-width:2.0px;stroke-linecap:butt;stroke-linejoin:miter;stroke-opacity:1\"/>\n<path class=\"bond-0 atom-0 atom-1\" d=\"M 161.6,145.5 L 135.7,130.6\" style=\"fill:none;fill-rule:evenodd;stroke:#000000;stroke-width:2.0px;stroke-linecap:butt;stroke-linejoin:miter;stroke-opacity:1\"/>\n<path class=\"bond-1 atom-1 atom-2\" d=\"M 135.7,130.6 L 74.1,166.2\" style=\"fill:none;fill-rule:evenodd;stroke:#000000;stroke-width:2.0px;stroke-linecap:butt;stroke-linejoin:miter;stroke-opacity:1\"/>\n<path class=\"bond-1 atom-1 atom-2\" d=\"M 125.1,124.4 L 74.1,153.8\" style=\"fill:none;fill-rule:evenodd;stroke:#000000;stroke-width:2.0px;stroke-linecap:butt;stroke-linejoin:miter;stroke-opacity:1\"/>\n<path class=\"bond-2 atom-2 atom-3\" d=\"M 74.1,166.2 L 12.5,130.6\" style=\"fill:none;fill-rule:evenodd;stroke:#000000;stroke-width:2.0px;stroke-linecap:butt;stroke-linejoin:miter;stroke-opacity:1\"/>\n<path class=\"bond-3 atom-3 atom-4\" d=\"M 12.5,130.6 L 12.5,59.4\" style=\"fill:none;fill-rule:evenodd;stroke:#000000;stroke-width:2.0px;stroke-linecap:butt;stroke-linejoin:miter;stroke-opacity:1\"/>\n<path class=\"bond-3 atom-3 atom-4\" d=\"M 23.2,124.4 L 23.2,65.6\" style=\"fill:none;fill-rule:evenodd;stroke:#000000;stroke-width:2.0px;stroke-linecap:butt;stroke-linejoin:miter;stroke-opacity:1\"/>\n<path class=\"bond-4 atom-4 atom-5\" d=\"M 12.5,59.4 L 74.1,23.9\" style=\"fill:none;fill-rule:evenodd;stroke:#000000;stroke-width:2.0px;stroke-linecap:butt;stroke-linejoin:miter;stroke-opacity:1\"/>\n<path class=\"bond-5 atom-5 atom-6\" d=\"M 74.1,23.9 L 135.7,59.4\" style=\"fill:none;fill-rule:evenodd;stroke:#000000;stroke-width:2.0px;stroke-linecap:butt;stroke-linejoin:miter;stroke-opacity:1\"/>\n<path class=\"bond-5 atom-5 atom-6\" d=\"M 74.1,36.2 L 125.1,65.6\" style=\"fill:none;fill-rule:evenodd;stroke:#000000;stroke-width:2.0px;stroke-linecap:butt;stroke-linejoin:miter;stroke-opacity:1\"/>\n<path class=\"bond-6 atom-6 atom-7\" d=\"M 135.7,59.4 L 161.6,44.5\" style=\"fill:none;fill-rule:evenodd;stroke:#000000;stroke-width:2.0px;stroke-linecap:butt;stroke-linejoin:miter;stroke-opacity:1\"/>\n<path class=\"bond-6 atom-6 atom-7\" d=\"M 161.6,44.5 L 187.4,29.6\" style=\"fill:none;fill-rule:evenodd;stroke:#0000FF;stroke-width:2.0px;stroke-linecap:butt;stroke-linejoin:miter;stroke-opacity:1\"/>\n<path class=\"bond-7 atom-6 atom-1\" d=\"M 135.7,59.4 L 135.7,130.6\" style=\"fill:none;fill-rule:evenodd;stroke:#000000;stroke-width:2.0px;stroke-linecap:butt;stroke-linejoin:miter;stroke-opacity:1\"/>\n<path d=\"M 77.2,164.4 L 74.1,166.2 L 71.0,164.4\" style=\"fill:none;stroke:#000000;stroke-width:2.0px;stroke-linecap:butt;stroke-linejoin:miter;stroke-opacity:1;\"/>\n<path d=\"M 15.6,132.4 L 12.5,130.6 L 12.5,127.0\" style=\"fill:none;stroke:#000000;stroke-width:2.0px;stroke-linecap:butt;stroke-linejoin:miter;stroke-opacity:1;\"/>\n<path d=\"M 12.5,63.0 L 12.5,59.4 L 15.6,57.7\" style=\"fill:none;stroke:#000000;stroke-width:2.0px;stroke-linecap:butt;stroke-linejoin:miter;stroke-opacity:1;\"/>\n<path d=\"M 71.0,25.6 L 74.1,23.9 L 77.2,25.6\" style=\"fill:none;stroke:#000000;stroke-width:2.0px;stroke-linecap:butt;stroke-linejoin:miter;stroke-opacity:1;\"/>\n<path class=\"atom-0\" d=\"M 192.9 156.1 L 199.5 166.8 Q 200.2 167.8, 201.2 169.7 Q 202.3 171.6, 202.3 171.8 L 202.3 156.1 L 205.0 156.1 L 205.0 176.2 L 202.3 176.2 L 195.2 164.6 Q 194.3 163.2, 193.5 161.6 Q 192.6 160.1, 192.3 159.6 L 192.3 176.2 L 189.7 176.2 L 189.7 156.1 L 192.9 156.1 \" fill=\"#0000FF\"/>\n<path class=\"atom-0\" d=\"M 208.9 156.1 L 211.6 156.1 L 211.6 164.7 L 221.9 164.7 L 221.9 156.1 L 224.6 156.1 L 224.6 176.2 L 221.9 176.2 L 221.9 166.9 L 211.6 166.9 L 211.6 176.2 L 208.9 176.2 L 208.9 156.1 \" fill=\"#0000FF\"/>\n<path class=\"atom-0\" d=\"M 228.6 175.5 Q 229.1 174.3, 230.2 173.6 Q 231.4 172.9, 233.0 172.9 Q 235.0 172.9, 236.1 174.0 Q 237.3 175.1, 237.3 177.0 Q 237.3 179.0, 235.8 180.8 Q 234.4 182.6, 231.4 184.8 L 237.5 184.8 L 237.5 186.3 L 228.5 186.3 L 228.5 185.1 Q 231.0 183.3, 232.5 182.0 Q 234.0 180.7, 234.7 179.5 Q 235.4 178.3, 235.4 177.1 Q 235.4 175.8, 234.8 175.1 Q 234.1 174.4, 233.0 174.4 Q 231.9 174.4, 231.2 174.8 Q 230.5 175.2, 230.0 176.2 L 228.6 175.5 \" fill=\"#0000FF\"/>\n<path class=\"atom-7\" d=\"M 192.9 13.8 L 199.5 24.5 Q 200.2 25.5, 201.2 27.4 Q 202.3 29.3, 202.3 29.4 L 202.3 13.8 L 205.0 13.8 L 205.0 33.9 L 202.3 33.9 L 195.2 22.3 Q 194.3 20.9, 193.5 19.3 Q 192.6 17.8, 192.3 17.3 L 192.3 33.9 L 189.7 33.9 L 189.7 13.8 L 192.9 13.8 \" fill=\"#0000FF\"/>\n<path class=\"atom-7\" d=\"M 208.8 13.8 L 211.6 13.8 L 211.6 22.3 L 221.9 22.3 L 221.9 13.8 L 224.6 13.8 L 224.6 33.9 L 221.9 33.9 L 221.9 24.6 L 211.6 24.6 L 211.6 33.9 L 208.8 33.9 L 208.8 13.8 \" fill=\"#0000FF\"/>\n<path class=\"atom-7\" d=\"M 234.8 37.0 Q 236.1 37.4, 236.8 38.2 Q 237.4 39.1, 237.4 40.4 Q 237.4 41.5, 236.8 42.4 Q 236.3 43.2, 235.2 43.7 Q 234.2 44.2, 232.9 44.2 Q 231.4 44.2, 230.4 43.7 Q 229.3 43.2, 228.5 42.2 L 229.5 41.1 Q 230.4 42.0, 231.1 42.4 Q 231.7 42.7, 232.9 42.7 Q 234.1 42.7, 234.8 42.1 Q 235.5 41.4, 235.5 40.3 Q 235.5 39.0, 234.8 38.4 Q 234.0 37.8, 232.4 37.8 L 231.4 37.8 L 231.4 36.4 L 232.3 36.4 Q 233.7 36.4, 234.5 35.8 Q 235.2 35.1, 235.2 34.0 Q 235.2 33.1, 234.6 32.6 Q 234.0 32.1, 232.9 32.1 Q 231.8 32.1, 231.1 32.5 Q 230.4 32.9, 229.9 33.8 L 228.6 33.2 Q 229.0 32.0, 230.2 31.3 Q 231.3 30.6, 232.9 30.6 Q 234.8 30.6, 236.0 31.5 Q 237.1 32.4, 237.1 34.0 Q 237.1 35.0, 236.5 35.8 Q 236.0 36.6, 234.8 37.0 \" fill=\"#0000FF\"/>\n<path class=\"atom-7\" d=\"M 228.5 17.4 L 232.1 17.4 L 232.1 13.7 L 233.7 13.7 L 233.7 17.4 L 237.3 17.4 L 237.3 18.8 L 233.7 18.8 L 233.7 22.5 L 232.1 22.5 L 232.1 18.8 L 228.5 18.8 L 228.5 17.4 \" fill=\"#0000FF\"/>\n</svg>"
          },
          "metadata": {}
        },
        {
          "output_type": "stream",
          "name": "stdout",
          "text": [
            "These are found symmetrical states:\n"
          ]
        },
        {
          "output_type": "display_data",
          "data": {
            "text/plain": [
              "<IPython.core.display.SVG object>"
            ],
            "image/svg+xml": "<svg xmlns=\"http://www.w3.org/2000/svg\" xmlns:rdkit=\"http://www.rdkit.org/xml\" xmlns:xlink=\"http://www.w3.org/1999/xlink\" version=\"1.1\" baseProfile=\"full\" xml:space=\"preserve\" width=\"250px\" height=\"200px\" viewBox=\"0 0 250 200\">\n<!-- END OF HEADER -->\n<rect style=\"opacity:1.0;fill:#FFFFFF;stroke:none\" width=\"250.0\" height=\"200.0\" x=\"0.0\" y=\"0.0\"> </rect>\n<ellipse cx=\"204.4\" cy=\"167.5\" rx=\"32.0\" ry=\"22.5\" class=\"atom-0\" style=\"fill:#00FF0033;fill-rule:evenodd;stroke:#00FF0033;stroke-width:1.0px;stroke-linecap:butt;stroke-linejoin:miter;stroke-opacity:1\"/>\n<ellipse cx=\"204.3\" cy=\"32.5\" rx=\"32.0\" ry=\"22.5\" class=\"atom-7\" style=\"fill:#00FF0033;fill-rule:evenodd;stroke:#00FF0033;stroke-width:1.0px;stroke-linecap:butt;stroke-linejoin:miter;stroke-opacity:1\"/>\n<path class=\"bond-0 atom-0 atom-1\" d=\"M 179.5,157.2 L 155.0,143.1\" style=\"fill:none;fill-rule:evenodd;stroke:#0000FF;stroke-width:2.0px;stroke-linecap:butt;stroke-linejoin:miter;stroke-opacity:1\"/>\n<path class=\"bond-0 atom-0 atom-1\" d=\"M 155.0,143.1 L 130.5,129.0\" style=\"fill:none;fill-rule:evenodd;stroke:#000000;stroke-width:2.0px;stroke-linecap:butt;stroke-linejoin:miter;stroke-opacity:1\"/>\n<path class=\"bond-1 atom-1 atom-2\" d=\"M 130.5,129.0 L 72.0,162.7\" style=\"fill:none;fill-rule:evenodd;stroke:#000000;stroke-width:2.0px;stroke-linecap:butt;stroke-linejoin:miter;stroke-opacity:1\"/>\n<path class=\"bond-1 atom-1 atom-2\" d=\"M 120.4,123.1 L 72.0,151.0\" style=\"fill:none;fill-rule:evenodd;stroke:#000000;stroke-width:2.0px;stroke-linecap:butt;stroke-linejoin:miter;stroke-opacity:1\"/>\n<path class=\"bond-2 atom-2 atom-3\" d=\"M 72.0,162.7 L 13.6,129.0\" style=\"fill:none;fill-rule:evenodd;stroke:#000000;stroke-width:2.0px;stroke-linecap:butt;stroke-linejoin:miter;stroke-opacity:1\"/>\n<path class=\"bond-3 atom-3 atom-4\" d=\"M 13.6,129.0 L 13.6,61.4\" style=\"fill:none;fill-rule:evenodd;stroke:#000000;stroke-width:2.0px;stroke-linecap:butt;stroke-linejoin:miter;stroke-opacity:1\"/>\n<path class=\"bond-3 atom-3 atom-4\" d=\"M 23.7,123.1 L 23.7,67.3\" style=\"fill:none;fill-rule:evenodd;stroke:#000000;stroke-width:2.0px;stroke-linecap:butt;stroke-linejoin:miter;stroke-opacity:1\"/>\n<path class=\"bond-4 atom-4 atom-5\" d=\"M 13.6,61.4 L 72.0,27.7\" style=\"fill:none;fill-rule:evenodd;stroke:#000000;stroke-width:2.0px;stroke-linecap:butt;stroke-linejoin:miter;stroke-opacity:1\"/>\n<path class=\"bond-5 atom-5 atom-6\" d=\"M 72.0,27.7 L 130.5,61.4\" style=\"fill:none;fill-rule:evenodd;stroke:#000000;stroke-width:2.0px;stroke-linecap:butt;stroke-linejoin:miter;stroke-opacity:1\"/>\n<path class=\"bond-5 atom-5 atom-6\" d=\"M 72.0,39.4 L 120.4,67.3\" style=\"fill:none;fill-rule:evenodd;stroke:#000000;stroke-width:2.0px;stroke-linecap:butt;stroke-linejoin:miter;stroke-opacity:1\"/>\n<path class=\"bond-6 atom-6 atom-7\" d=\"M 130.5,61.4 L 155.0,47.3\" style=\"fill:none;fill-rule:evenodd;stroke:#000000;stroke-width:2.0px;stroke-linecap:butt;stroke-linejoin:miter;stroke-opacity:1\"/>\n<path class=\"bond-6 atom-6 atom-7\" d=\"M 155.0,47.3 L 179.5,33.2\" style=\"fill:none;fill-rule:evenodd;stroke:#0000FF;stroke-width:2.0px;stroke-linecap:butt;stroke-linejoin:miter;stroke-opacity:1\"/>\n<path class=\"bond-7 atom-6 atom-1\" d=\"M 130.5,61.4 L 130.5,129.0\" style=\"fill:none;fill-rule:evenodd;stroke:#000000;stroke-width:2.0px;stroke-linecap:butt;stroke-linejoin:miter;stroke-opacity:1\"/>\n<path d=\"M 75.0,161.0 L 72.0,162.7 L 69.1,161.0\" style=\"fill:none;stroke:#000000;stroke-width:2.0px;stroke-linecap:butt;stroke-linejoin:miter;stroke-opacity:1;\"/>\n<path d=\"M 16.5,130.6 L 13.6,129.0 L 13.6,125.6\" style=\"fill:none;stroke:#000000;stroke-width:2.0px;stroke-linecap:butt;stroke-linejoin:miter;stroke-opacity:1;\"/>\n<path d=\"M 13.6,64.8 L 13.6,61.4 L 16.5,59.8\" style=\"fill:none;stroke:#000000;stroke-width:2.0px;stroke-linecap:butt;stroke-linejoin:miter;stroke-opacity:1;\"/>\n<path d=\"M 69.1,29.4 L 72.0,27.7 L 75.0,29.4\" style=\"fill:none;stroke:#000000;stroke-width:2.0px;stroke-linecap:butt;stroke-linejoin:miter;stroke-opacity:1;\"/>\n<path class=\"atom-0\" d=\"M 184.7 153.2 L 191.0 163.3 Q 191.6 164.3, 192.6 166.1 Q 193.6 167.9, 193.7 168.0 L 193.7 153.2 L 196.2 153.2 L 196.2 172.3 L 193.6 172.3 L 186.9 161.2 Q 186.1 159.9, 185.3 158.4 Q 184.4 156.9, 184.2 156.5 L 184.2 172.3 L 181.7 172.3 L 181.7 153.2 L 184.7 153.2 \" fill=\"#0000FF\"/>\n<path class=\"atom-0\" d=\"M 199.9 153.2 L 202.5 153.2 L 202.5 161.3 L 212.2 161.3 L 212.2 153.2 L 214.8 153.2 L 214.8 172.3 L 212.2 172.3 L 212.2 163.4 L 202.5 163.4 L 202.5 172.3 L 199.9 172.3 L 199.9 153.2 \" fill=\"#0000FF\"/>\n<path class=\"atom-0\" d=\"M 218.6 171.6 Q 219.0 170.4, 220.1 169.8 Q 221.3 169.1, 222.8 169.1 Q 224.7 169.1, 225.8 170.1 Q 226.8 171.1, 226.8 173.0 Q 226.8 174.8, 225.4 176.6 Q 224.1 178.3, 221.2 180.4 L 227.0 180.4 L 227.0 181.8 L 218.5 181.8 L 218.5 180.6 Q 220.9 179.0, 222.3 177.7 Q 223.7 176.5, 224.4 175.3 Q 225.1 174.2, 225.1 173.1 Q 225.1 171.9, 224.4 171.2 Q 223.8 170.5, 222.8 170.5 Q 221.8 170.5, 221.1 170.9 Q 220.4 171.3, 219.9 172.2 L 218.6 171.6 \" fill=\"#0000FF\"/>\n<path class=\"atom-7\" d=\"M 184.7 18.1 L 191.0 28.3 Q 191.6 29.3, 192.6 31.1 Q 193.6 32.9, 193.7 33.0 L 193.7 18.1 L 196.2 18.1 L 196.2 37.2 L 193.6 37.2 L 186.9 26.2 Q 186.1 24.9, 185.3 23.4 Q 184.4 21.9, 184.2 21.4 L 184.2 37.2 L 181.7 37.2 L 181.7 18.1 L 184.7 18.1 \" fill=\"#0000FF\"/>\n<path class=\"atom-7\" d=\"M 199.8 18.1 L 202.4 18.1 L 202.4 26.3 L 212.2 26.3 L 212.2 18.1 L 214.8 18.1 L 214.8 37.2 L 212.2 37.2 L 212.2 28.4 L 202.4 28.4 L 202.4 37.2 L 199.8 37.2 L 199.8 18.1 \" fill=\"#0000FF\"/>\n<path class=\"atom-7\" d=\"M 224.5 40.2 Q 225.8 40.5, 226.3 41.3 Q 227.0 42.1, 227.0 43.3 Q 227.0 44.4, 226.4 45.3 Q 225.9 46.1, 224.9 46.5 Q 223.9 47.0, 222.6 47.0 Q 221.3 47.0, 220.3 46.5 Q 219.3 46.0, 218.5 45.1 L 219.5 44.0 Q 220.3 44.9, 220.9 45.2 Q 221.6 45.6, 222.6 45.6 Q 223.8 45.6, 224.5 45.0 Q 225.2 44.3, 225.2 43.3 Q 225.2 42.0, 224.4 41.5 Q 223.7 40.9, 222.2 40.9 L 221.3 40.9 L 221.3 39.6 L 222.1 39.6 Q 223.4 39.6, 224.2 39.0 Q 224.9 38.4, 224.9 37.3 Q 224.9 36.5, 224.3 36.0 Q 223.7 35.5, 222.7 35.5 Q 221.6 35.5, 220.9 35.8 Q 220.3 36.2, 219.8 37.2 L 218.6 36.5 Q 219.0 35.5, 220.1 34.8 Q 221.2 34.0, 222.7 34.0 Q 224.5 34.0, 225.6 34.9 Q 226.7 35.8, 226.7 37.3 Q 226.7 38.3, 226.1 39.0 Q 225.6 39.7, 224.5 40.2 \" fill=\"#0000FF\"/>\n<path class=\"atom-7\" d=\"M 218.5 21.6 L 221.9 21.6 L 221.9 18.0 L 223.4 18.0 L 223.4 21.6 L 226.9 21.6 L 226.9 22.9 L 223.4 22.9 L 223.4 26.4 L 221.9 26.4 L 221.9 22.9 L 218.5 22.9 L 218.5 21.6 \" fill=\"#0000FF\"/>\n</svg>"
          },
          "metadata": {}
        },
        {
          "output_type": "display_data",
          "data": {
            "text/plain": [
              "<IPython.core.display.SVG object>"
            ],
            "image/svg+xml": "<svg xmlns=\"http://www.w3.org/2000/svg\" xmlns:rdkit=\"http://www.rdkit.org/xml\" xmlns:xlink=\"http://www.w3.org/1999/xlink\" version=\"1.1\" baseProfile=\"full\" xml:space=\"preserve\" width=\"250px\" height=\"200px\" viewBox=\"0 0 250 200\">\n<!-- END OF HEADER -->\n<rect style=\"opacity:1.0;fill:#FFFFFF;stroke:none\" width=\"250.0\" height=\"200.0\" x=\"0.0\" y=\"0.0\"> </rect>\n<ellipse cx=\"204.3\" cy=\"167.5\" rx=\"32.0\" ry=\"22.5\" class=\"atom-0\" style=\"fill:#00FF0033;fill-rule:evenodd;stroke:#00FF0033;stroke-width:1.0px;stroke-linecap:butt;stroke-linejoin:miter;stroke-opacity:1\"/>\n<ellipse cx=\"204.4\" cy=\"32.5\" rx=\"32.0\" ry=\"22.5\" class=\"atom-7\" style=\"fill:#00FF0033;fill-rule:evenodd;stroke:#00FF0033;stroke-width:1.0px;stroke-linecap:butt;stroke-linejoin:miter;stroke-opacity:1\"/>\n<path class=\"bond-0 atom-0 atom-1\" d=\"M 179.5,157.2 L 155.0,143.1\" style=\"fill:none;fill-rule:evenodd;stroke:#0000FF;stroke-width:2.0px;stroke-linecap:butt;stroke-linejoin:miter;stroke-opacity:1\"/>\n<path class=\"bond-0 atom-0 atom-1\" d=\"M 155.0,143.1 L 130.5,128.9\" style=\"fill:none;fill-rule:evenodd;stroke:#000000;stroke-width:2.0px;stroke-linecap:butt;stroke-linejoin:miter;stroke-opacity:1\"/>\n<path class=\"bond-1 atom-1 atom-2\" d=\"M 130.5,128.9 L 72.1,162.7\" style=\"fill:none;fill-rule:evenodd;stroke:#000000;stroke-width:2.0px;stroke-linecap:butt;stroke-linejoin:miter;stroke-opacity:1\"/>\n<path class=\"bond-1 atom-1 atom-2\" d=\"M 120.4,123.1 L 72.1,151.0\" style=\"fill:none;fill-rule:evenodd;stroke:#000000;stroke-width:2.0px;stroke-linecap:butt;stroke-linejoin:miter;stroke-opacity:1\"/>\n<path class=\"bond-2 atom-2 atom-3\" d=\"M 72.1,162.7 L 13.6,128.9\" style=\"fill:none;fill-rule:evenodd;stroke:#000000;stroke-width:2.0px;stroke-linecap:butt;stroke-linejoin:miter;stroke-opacity:1\"/>\n<path class=\"bond-3 atom-3 atom-4\" d=\"M 13.6,128.9 L 13.6,61.5\" style=\"fill:none;fill-rule:evenodd;stroke:#000000;stroke-width:2.0px;stroke-linecap:butt;stroke-linejoin:miter;stroke-opacity:1\"/>\n<path class=\"bond-3 atom-3 atom-4\" d=\"M 23.7,123.1 L 23.7,67.3\" style=\"fill:none;fill-rule:evenodd;stroke:#000000;stroke-width:2.0px;stroke-linecap:butt;stroke-linejoin:miter;stroke-opacity:1\"/>\n<path class=\"bond-4 atom-4 atom-5\" d=\"M 13.6,61.5 L 72.1,27.7\" style=\"fill:none;fill-rule:evenodd;stroke:#000000;stroke-width:2.0px;stroke-linecap:butt;stroke-linejoin:miter;stroke-opacity:1\"/>\n<path class=\"bond-5 atom-5 atom-6\" d=\"M 72.1,27.7 L 130.5,61.5\" style=\"fill:none;fill-rule:evenodd;stroke:#000000;stroke-width:2.0px;stroke-linecap:butt;stroke-linejoin:miter;stroke-opacity:1\"/>\n<path class=\"bond-5 atom-5 atom-6\" d=\"M 72.1,39.4 L 120.4,67.3\" style=\"fill:none;fill-rule:evenodd;stroke:#000000;stroke-width:2.0px;stroke-linecap:butt;stroke-linejoin:miter;stroke-opacity:1\"/>\n<path class=\"bond-6 atom-6 atom-7\" d=\"M 130.5,61.5 L 155.0,47.3\" style=\"fill:none;fill-rule:evenodd;stroke:#000000;stroke-width:2.0px;stroke-linecap:butt;stroke-linejoin:miter;stroke-opacity:1\"/>\n<path class=\"bond-6 atom-6 atom-7\" d=\"M 155.0,47.3 L 179.5,33.2\" style=\"fill:none;fill-rule:evenodd;stroke:#0000FF;stroke-width:2.0px;stroke-linecap:butt;stroke-linejoin:miter;stroke-opacity:1\"/>\n<path class=\"bond-7 atom-6 atom-1\" d=\"M 130.5,61.5 L 130.5,128.9\" style=\"fill:none;fill-rule:evenodd;stroke:#000000;stroke-width:2.0px;stroke-linecap:butt;stroke-linejoin:miter;stroke-opacity:1\"/>\n<path d=\"M 75.0,161.0 L 72.1,162.7 L 69.1,161.0\" style=\"fill:none;stroke:#000000;stroke-width:2.0px;stroke-linecap:butt;stroke-linejoin:miter;stroke-opacity:1;\"/>\n<path d=\"M 16.5,130.6 L 13.6,128.9 L 13.6,125.6\" style=\"fill:none;stroke:#000000;stroke-width:2.0px;stroke-linecap:butt;stroke-linejoin:miter;stroke-opacity:1;\"/>\n<path d=\"M 13.6,64.8 L 13.6,61.5 L 16.5,59.8\" style=\"fill:none;stroke:#000000;stroke-width:2.0px;stroke-linecap:butt;stroke-linejoin:miter;stroke-opacity:1;\"/>\n<path d=\"M 69.1,29.4 L 72.1,27.7 L 75.0,29.4\" style=\"fill:none;stroke:#000000;stroke-width:2.0px;stroke-linecap:butt;stroke-linejoin:miter;stroke-opacity:1;\"/>\n<path class=\"atom-0\" d=\"M 184.7 153.1 L 191.0 163.3 Q 191.6 164.3, 192.6 166.1 Q 193.6 167.9, 193.7 168.0 L 193.7 153.1 L 196.2 153.1 L 196.2 172.2 L 193.6 172.2 L 186.9 161.2 Q 186.1 159.9, 185.2 158.4 Q 184.4 156.9, 184.2 156.5 L 184.2 172.2 L 181.7 172.2 L 181.7 153.1 L 184.7 153.1 \" fill=\"#0000FF\"/>\n<path class=\"atom-0\" d=\"M 199.8 153.1 L 202.4 153.1 L 202.4 161.3 L 212.2 161.3 L 212.2 153.1 L 214.8 153.1 L 214.8 172.2 L 212.2 172.2 L 212.2 163.4 L 202.4 163.4 L 202.4 172.2 L 199.8 172.2 L 199.8 153.1 \" fill=\"#0000FF\"/>\n<path class=\"atom-0\" d=\"M 224.5 175.2 Q 225.7 175.5, 226.3 176.3 Q 226.9 177.1, 226.9 178.3 Q 226.9 179.4, 226.4 180.2 Q 225.8 181.1, 224.9 181.5 Q 223.9 182.0, 222.6 182.0 Q 221.2 182.0, 220.2 181.5 Q 219.2 181.0, 218.4 180.1 L 219.4 179.0 Q 220.2 179.9, 220.9 180.2 Q 221.5 180.6, 222.6 180.6 Q 223.7 180.6, 224.4 179.9 Q 225.1 179.3, 225.1 178.3 Q 225.1 177.0, 224.4 176.5 Q 223.7 175.9, 222.1 175.9 L 221.2 175.9 L 221.2 174.6 L 222.0 174.6 Q 223.4 174.6, 224.1 174.0 Q 224.9 173.4, 224.9 172.3 Q 224.9 171.4, 224.3 171.0 Q 223.6 170.5, 222.6 170.5 Q 221.6 170.5, 220.9 170.8 Q 220.3 171.2, 219.8 172.2 L 218.5 171.5 Q 219.0 170.5, 220.0 169.8 Q 221.1 169.0, 222.6 169.0 Q 224.5 169.0, 225.6 169.9 Q 226.6 170.8, 226.6 172.3 Q 226.6 173.3, 226.1 174.0 Q 225.5 174.7, 224.5 175.2 \" fill=\"#0000FF\"/>\n<path class=\"atom-0\" d=\"M 218.5 156.6 L 221.9 156.6 L 221.9 153.0 L 223.4 153.0 L 223.4 156.6 L 226.8 156.6 L 226.8 157.9 L 223.4 157.9 L 223.4 161.4 L 221.9 161.4 L 221.9 157.9 L 218.5 157.9 L 218.5 156.6 \" fill=\"#0000FF\"/>\n<path class=\"atom-7\" d=\"M 184.7 18.2 L 191.0 28.3 Q 191.6 29.3, 192.6 31.1 Q 193.6 32.9, 193.7 33.0 L 193.7 18.2 L 196.2 18.2 L 196.2 37.3 L 193.6 37.3 L 186.9 26.2 Q 186.1 24.9, 185.2 23.4 Q 184.4 21.9, 184.2 21.5 L 184.2 37.3 L 181.7 37.3 L 181.7 18.2 L 184.7 18.2 \" fill=\"#0000FF\"/>\n<path class=\"atom-7\" d=\"M 199.8 18.2 L 202.4 18.2 L 202.4 26.3 L 212.2 26.3 L 212.2 18.2 L 214.8 18.2 L 214.8 37.3 L 212.2 37.3 L 212.2 28.4 L 202.4 28.4 L 202.4 37.3 L 199.8 37.3 L 199.8 18.2 \" fill=\"#0000FF\"/>\n<path class=\"atom-7\" d=\"M 218.5 36.6 Q 219.0 35.4, 220.1 34.7 Q 221.2 34.1, 222.7 34.1 Q 224.7 34.1, 225.7 35.1 Q 226.8 36.1, 226.8 38.0 Q 226.8 39.8, 225.4 41.6 Q 224.0 43.3, 221.2 45.4 L 227.0 45.4 L 227.0 46.8 L 218.5 46.8 L 218.5 45.6 Q 220.9 44.0, 222.2 42.7 Q 223.7 41.5, 224.3 40.3 Q 225.0 39.2, 225.0 38.1 Q 225.0 36.9, 224.4 36.2 Q 223.8 35.5, 222.7 35.5 Q 221.7 35.5, 221.1 35.9 Q 220.4 36.3, 219.9 37.2 L 218.5 36.6 \" fill=\"#0000FF\"/>\n</svg>"
          },
          "metadata": {}
        }
      ]
    },
    {
      "cell_type": "code",
      "source": [
        "#@title Select treatment of symmetrical states\n",
        "#@markdown Please, select whether to inclue symmetrical states for a molecule\n",
        "#@markdown or not. If for a particular molecule there are no symmetrical\n",
        "#@markdown states available, selecting True won't influence the behaviour\n",
        "use_symmetrical_states_molecule_0 = False #@param {type:\"boolean\"}\n",
        "use_symmetrical_states_molecule_1 = True #@param {type:\"boolean\"}\n",
        "use_symmetrical_states_molecule_2 = False #@param {type:\"boolean\"}\n",
        "use_symmetrical_states_molecule_3 = False #@param {type:\"boolean\"}\n",
        "use_symmetrical_states_molecule_4 = False #@param {type:\"boolean\"}\n",
        "use_symmetrical_states_molecule_5 = False #@param {type:\"boolean\"}\n",
        "use_symmetrical_states_molecule_6 = False #@param {type:\"boolean\"}\n",
        "use_symmetrical_states_molecule_7 = False #@param {type:\"boolean\"}\n",
        "use_symmetrical_states_molecule_8 = False #@param {type:\"boolean\"}\n",
        "use_symmetrical_states_molecule_9 = False #@param {type:\"boolean\"}\n",
        "\n",
        "ss = [\n",
        "    use_symmetrical_states_molecule_0,\n",
        "    use_symmetrical_states_molecule_1,\n",
        "    use_symmetrical_states_molecule_2,\n",
        "    use_symmetrical_states_molecule_3,\n",
        "    use_symmetrical_states_molecule_4,\n",
        "    use_symmetrical_states_molecule_5,\n",
        "    use_symmetrical_states_molecule_6,\n",
        "    use_symmetrical_states_molecule_7,\n",
        "    use_symmetrical_states_molecule_8,\n",
        "    use_symmetrical_states_molecule_9,\n",
        "][:len(states)]"
      ],
      "metadata": {
        "id": "gbwN4jUv9e0f"
      },
      "execution_count": 56,
      "outputs": []
    },
    {
      "cell_type": "code",
      "source": [
        "#@title Update states information\n",
        "for i, s in zip(states.keys(), states.values()):\n",
        "    if ss:\n",
        "        t = ss[i]\n",
        "    else:\n",
        "        t = False\n",
        "    if t:\n",
        "        states[i] = (s[0], s[1], s[1], s[3], s[4])\n",
        "    if mHs:\n",
        "        from rdkit.Chem import rdFMCS\n",
        "        res = rdFMCS.FindMCS([pmol, pmol])\n",
        "        similar_patt = Chem.MolFromSmarts(res.smartsString)\n",
        "        subst_matches = s[0].GetSubstructMatches(similar_patt)[0]\n",
        "        factor = 1\n",
        "        atoms_with_mhs = []\n",
        "        for idx in sites_with_multiple_hs:\n",
        "            if not mHs[sites_with_multiple_hs.index(idx)]:\n",
        "                continue\n",
        "            a = s[0].GetAtomWithIdx(\n",
        "                subst_matches[subst_matches_pmol.index(idx)]\n",
        "            )\n",
        "            a_p = pmol.GetAtomWithIdx(idx)\n",
        "            if (\n",
        "                (a.GetNumExplicitHs() + a.GetNumImplicitHs()) !=\n",
        "                (a_p.GetNumExplicitHs() + a_p.GetNumImplicitHs())\n",
        "            ):\n",
        "                # TODO: we also need to add symmetrical atoms\n",
        "                atoms_with_mhs.append(idx)\n",
        "                factor *= (a_p.GetNumExplicitHs() + a_p.GetNumImplicitHs())\n",
        "        states[i] = (s[0], s[1], states[i][1] * factor, s[3], atoms_with_mhs)\n",
        "states"
      ],
      "metadata": {
        "colab": {
          "base_uri": "https://localhost:8080/"
        },
        "id": "GjWEZ3WGvpSf",
        "outputId": "99a63098-a127-4fa2-a7dd-c2fae82ed2a5"
      },
      "execution_count": 57,
      "outputs": [
        {
          "output_type": "execute_result",
          "data": {
            "text/plain": [
              "{0: (<rdkit.Chem.rdchem.Mol at 0x7c84789031b0>, 1, 1, None, []),\n",
              " 1: (<rdkit.Chem.rdchem.Mol at 0x7c8478903060>,\n",
              "  2,\n",
              "  6,\n",
              "  ([0, 7], [[0, 0, 0, 0, 0, 0, 0, 1], [1, 0, 0, 0, 0, 0, 0, 0]]),\n",
              "  [0]),\n",
              " 2: (<rdkit.Chem.rdchem.Mol at 0x7c84789030d0>, 1, 9, None, [0, 7])}"
            ]
          },
          "metadata": {},
          "execution_count": 57
        }
      ]
    },
    {
      "cell_type": "code",
      "source": [
        "#@title Show state transitions\n",
        "state_transitions = []\n",
        "for i, m1 in enumerate(mols):\n",
        "    for j, m2 in enumerate(mols[i+1:]):\n",
        "        from rdkit.Chem import rdFMCS\n",
        "        res = rdFMCS.FindMCS([pmol, pmol])\n",
        "        similar_patt = Chem.MolFromSmarts(res.smartsString)\n",
        "        subst_matches1 = m1.GetSubstructMatches(similar_patt)[0]\n",
        "        subst_matches2 = m2.GetSubstructMatches(similar_patt)[0]\n",
        "        n_diffs = 0\n",
        "        for idx in titratable_sites:\n",
        "            if (\n",
        "                m1.GetAtomWithIdx(\n",
        "                    subst_matches1[subst_matches_pmol.index(idx)]\n",
        "                ).GetFormalCharge() !=\n",
        "                m2.GetAtomWithIdx(\n",
        "                    subst_matches2[subst_matches_pmol.index(idx)]\n",
        "                ).GetFormalCharge()\n",
        "            ):\n",
        "                n_diffs += 1\n",
        "        if n_diffs != 1:\n",
        "            continue\n",
        "        state_transitions.append((i, i + 1+j, m1, m2))\n",
        "\n",
        "def view_difference(mol1, mol2):\n",
        "    mcs = rdFMCS.FindMCS([mol1,mol2])\n",
        "    mcs_mol = Chem.MolFromSmarts(mcs.smartsString)\n",
        "    match1 = mol1.GetSubstructMatch(mcs_mol)\n",
        "    match2 = mol2.GetSubstructMatch(mcs_mol)\n",
        "    target_atm1 = []\n",
        "    target_atm2 = []\n",
        "    for a1, a2 in zip(match1, match2):\n",
        "        if (\n",
        "            mol1.GetAtomWithIdx(a1).GetFormalCharge() !=\n",
        "            mol2.GetAtomWithIdx(a2).GetFormalCharge()\n",
        "        ):\n",
        "            target_atm1.append(a1)\n",
        "            target_atm2.append(a2)\n",
        "    d2d = Draw.MolsToGridImage(\n",
        "        [mol1, mol2],\n",
        "        highlightAtomLists=[target_atm1, target_atm2],\n",
        "        useSVG = True,\n",
        "    )\n",
        "    display(d2d)\n",
        "\n",
        "print(\"We found the following transitions between protonation states:\")\n",
        "for i, st_t in enumerate(state_transitions):\n",
        "    print(f\"Transition {i}\")\n",
        "    view_difference(st_t[2], st_t[3])"
      ],
      "metadata": {
        "colab": {
          "base_uri": "https://localhost:8080/",
          "height": 929
        },
        "id": "ZBKOWkcz2HnX",
        "outputId": "bd54950e-37ac-4cb3-acb6-170615beb837"
      },
      "execution_count": 39,
      "outputs": [
        {
          "output_type": "stream",
          "name": "stdout",
          "text": [
            "We found the following transitions between protonation states:\n",
            "Transition 0\n"
          ]
        },
        {
          "output_type": "display_data",
          "data": {
            "text/plain": [
              "<IPython.core.display.SVG object>"
            ],
            "image/svg+xml": "<svg xmlns=\"http://www.w3.org/2000/svg\" xmlns:rdkit=\"http://www.rdkit.org/xml\" xmlns:xlink=\"http://www.w3.org/1999/xlink\" version=\"1.1\" baseProfile=\"full\" xml:space=\"preserve\" width=\"600px\" height=\"200px\" viewBox=\"0 0 600 200\">\n<!-- END OF HEADER -->\n<rect style=\"opacity:1.0;fill:#FFFFFF;stroke:none\" width=\"600.0\" height=\"200.0\" x=\"0.0\" y=\"0.0\"> </rect>\n<ellipse cx=\"73.7\" cy=\"66.5\" rx=\"26.7\" ry=\"17.1\" class=\"atom-2\" style=\"fill:#FF7F7F;fill-rule:evenodd;stroke:#FF7F7F;stroke-width:1.0px;stroke-linecap:butt;stroke-linejoin:miter;stroke-opacity:1\"/>\n<path class=\"bond-0 atom-1 atom-0\" d=\"M 60.9,118.8 L 14.2,150.6 L 10.0,143.3 Z\" style=\"fill:#000000;fill-rule:evenodd;fill-opacity:1;stroke:#000000;stroke-width:0.5px;stroke-linecap:butt;stroke-linejoin:miter;stroke-opacity:1;\"/>\n<path class=\"bond-1 atom-1 atom-2\" d=\"M 60.9,118.8 L 60.9,95.5\" style=\"fill:none;fill-rule:evenodd;stroke:#000000;stroke-width:2.0px;stroke-linecap:butt;stroke-linejoin:miter;stroke-opacity:1\"/>\n<path class=\"bond-1 atom-1 atom-2\" d=\"M 60.9,95.5 L 60.9,72.3\" style=\"fill:none;fill-rule:evenodd;stroke:#0000FF;stroke-width:2.0px;stroke-linecap:butt;stroke-linejoin:miter;stroke-opacity:1\"/>\n<path class=\"bond-2 atom-1 atom-3\" d=\"M 60.9,118.8 L 109.6,146.9\" style=\"fill:none;fill-rule:evenodd;stroke:#000000;stroke-width:2.0px;stroke-linecap:butt;stroke-linejoin:miter;stroke-opacity:1\"/>\n<path class=\"bond-3 atom-3 atom-4\" d=\"M 109.6,146.9 L 130.0,135.1\" style=\"fill:none;fill-rule:evenodd;stroke:#000000;stroke-width:2.0px;stroke-linecap:butt;stroke-linejoin:miter;stroke-opacity:1\"/>\n<path class=\"bond-3 atom-3 atom-4\" d=\"M 130.0,135.1 L 150.4,123.3\" style=\"fill:none;fill-rule:evenodd;stroke:#0000FF;stroke-width:2.0px;stroke-linecap:butt;stroke-linejoin:miter;stroke-opacity:1\"/>\n<path d=\"M 60.9,117.6 L 60.9,118.8 L 63.3,120.2\" style=\"fill:none;stroke:#000000;stroke-width:2.0px;stroke-linecap:butt;stroke-linejoin:miter;stroke-opacity:1;\"/>\n<path d=\"M 107.2,145.5 L 109.6,146.9 L 110.6,146.3\" style=\"fill:none;stroke:#000000;stroke-width:2.0px;stroke-linecap:butt;stroke-linejoin:miter;stroke-opacity:1;\"/>\n<path class=\"atom-2\" d=\"M 57.3 54.5 L 62.6 63.0 Q 63.1 63.8, 63.9 65.3 Q 64.7 66.8, 64.8 66.9 L 64.8 54.5 L 66.9 54.5 L 66.9 70.5 L 64.7 70.5 L 59.1 61.2 Q 58.5 60.1, 57.8 58.9 Q 57.1 57.7, 56.9 57.3 L 56.9 70.5 L 54.8 70.5 L 54.8 54.5 L 57.3 54.5 \" fill=\"#0000FF\"/>\n<path class=\"atom-2\" d=\"M 69.9 54.5 L 72.1 54.5 L 72.1 61.3 L 80.2 61.3 L 80.2 54.5 L 82.4 54.5 L 82.4 70.5 L 80.2 70.5 L 80.2 63.1 L 72.1 63.1 L 72.1 70.5 L 69.9 70.5 L 69.9 54.5 \" fill=\"#0000FF\"/>\n<path class=\"atom-2\" d=\"M 90.5 72.9 Q 91.5 73.2, 92.0 73.8 Q 92.5 74.5, 92.5 75.5 Q 92.5 76.4, 92.1 77.1 Q 91.6 77.8, 90.8 78.2 Q 90.0 78.6, 88.9 78.6 Q 87.8 78.6, 86.9 78.2 Q 86.1 77.8, 85.4 77.0 L 86.3 76.1 Q 86.9 76.8, 87.5 77.1 Q 88.0 77.4, 88.9 77.4 Q 89.9 77.4, 90.4 76.9 Q 91.0 76.4, 91.0 75.5 Q 91.0 74.5, 90.4 74.0 Q 89.8 73.5, 88.5 73.5 L 87.8 73.5 L 87.8 72.4 L 88.4 72.4 Q 89.6 72.4, 90.2 71.9 Q 90.8 71.4, 90.8 70.5 Q 90.8 69.8, 90.3 69.4 Q 89.8 69.0, 88.9 69.0 Q 88.1 69.0, 87.5 69.3 Q 87.0 69.6, 86.6 70.4 L 85.5 69.8 Q 85.9 69.0, 86.8 68.4 Q 87.7 67.8, 88.9 67.8 Q 90.5 67.8, 91.4 68.5 Q 92.3 69.2, 92.3 70.5 Q 92.3 71.3, 91.8 71.9 Q 91.4 72.5, 90.5 72.9 \" fill=\"#0000FF\"/>\n<path class=\"atom-2\" d=\"M 85.5 57.4 L 88.3 57.4 L 88.3 54.4 L 89.6 54.4 L 89.6 57.4 L 92.4 57.4 L 92.4 58.5 L 89.6 58.5 L 89.6 61.4 L 88.3 61.4 L 88.3 58.5 L 85.5 58.5 L 85.5 57.4 \" fill=\"#0000FF\"/>\n<path class=\"atom-4\" d=\"M 154.8 110.8 L 160.0 119.2 Q 160.6 120.1, 161.4 121.6 Q 162.2 123.1, 162.3 123.2 L 162.3 110.8 L 164.4 110.8 L 164.4 126.7 L 162.2 126.7 L 156.6 117.5 Q 155.9 116.4, 155.2 115.2 Q 154.6 114.0, 154.4 113.6 L 154.4 126.7 L 152.3 126.7 L 152.3 110.8 L 154.8 110.8 \" fill=\"#0000FF\"/>\n<path class=\"atom-4\" d=\"M 167.4 110.8 L 169.6 110.8 L 169.6 117.6 L 177.7 117.6 L 177.7 110.8 L 179.9 110.8 L 179.9 126.7 L 177.7 126.7 L 177.7 119.4 L 169.6 119.4 L 169.6 126.7 L 167.4 126.7 L 167.4 110.8 \" fill=\"#0000FF\"/>\n<path class=\"atom-4\" d=\"M 188.0 129.2 Q 189.0 129.5, 189.5 130.1 Q 190.0 130.8, 190.0 131.8 Q 190.0 132.7, 189.6 133.4 Q 189.1 134.1, 188.3 134.5 Q 187.5 134.9, 186.4 134.9 Q 185.3 134.9, 184.4 134.5 Q 183.6 134.1, 182.9 133.3 L 183.8 132.4 Q 184.4 133.1, 185.0 133.4 Q 185.5 133.7, 186.4 133.7 Q 187.4 133.7, 187.9 133.2 Q 188.5 132.6, 188.5 131.8 Q 188.5 130.7, 187.9 130.3 Q 187.3 129.8, 186.0 129.8 L 185.3 129.8 L 185.3 128.7 L 185.9 128.7 Q 187.1 128.7, 187.7 128.2 Q 188.3 127.7, 188.3 126.8 Q 188.3 126.1, 187.8 125.7 Q 187.3 125.3, 186.4 125.3 Q 185.5 125.3, 185.0 125.6 Q 184.5 125.9, 184.0 126.7 L 183.0 126.1 Q 183.4 125.2, 184.3 124.7 Q 185.2 124.1, 186.4 124.1 Q 188.0 124.1, 188.9 124.8 Q 189.8 125.5, 189.8 126.8 Q 189.8 127.6, 189.3 128.2 Q 188.9 128.8, 188.0 129.2 \" fill=\"#0000FF\"/>\n<path class=\"atom-4\" d=\"M 183.0 113.7 L 185.8 113.7 L 185.8 110.7 L 187.1 110.7 L 187.1 113.7 L 189.9 113.7 L 189.9 114.7 L 187.1 114.7 L 187.1 117.7 L 185.8 117.7 L 185.8 114.7 L 183.0 114.7 L 183.0 113.7 \" fill=\"#0000FF\"/>\n<ellipse cx=\"273.7\" cy=\"66.4\" rx=\"26.7\" ry=\"16.9\" class=\"atom-2\" style=\"fill:#FF7F7F;fill-rule:evenodd;stroke:#FF7F7F;stroke-width:1.0px;stroke-linecap:butt;stroke-linejoin:miter;stroke-opacity:1\"/>\n<path class=\"bond-0 atom-1 atom-0\" d=\"M 260.9,118.7 L 214.2,150.5 L 210.0,143.2 Z\" style=\"fill:#000000;fill-rule:evenodd;fill-opacity:1;stroke:#000000;stroke-width:0.5px;stroke-linecap:butt;stroke-linejoin:miter;stroke-opacity:1;\"/>\n<path class=\"bond-1 atom-1 atom-2\" d=\"M 260.9,118.7 L 260.9,95.5\" style=\"fill:none;fill-rule:evenodd;stroke:#000000;stroke-width:2.0px;stroke-linecap:butt;stroke-linejoin:miter;stroke-opacity:1\"/>\n<path class=\"bond-1 atom-1 atom-2\" d=\"M 260.9,95.5 L 260.9,72.2\" style=\"fill:none;fill-rule:evenodd;stroke:#0000FF;stroke-width:2.0px;stroke-linecap:butt;stroke-linejoin:miter;stroke-opacity:1\"/>\n<path class=\"bond-2 atom-1 atom-3\" d=\"M 260.9,118.7 L 309.6,146.8\" style=\"fill:none;fill-rule:evenodd;stroke:#000000;stroke-width:2.0px;stroke-linecap:butt;stroke-linejoin:miter;stroke-opacity:1\"/>\n<path class=\"bond-3 atom-3 atom-4\" d=\"M 309.6,146.8 L 330.0,135.1\" style=\"fill:none;fill-rule:evenodd;stroke:#000000;stroke-width:2.0px;stroke-linecap:butt;stroke-linejoin:miter;stroke-opacity:1\"/>\n<path class=\"bond-3 atom-3 atom-4\" d=\"M 330.0,135.1 L 350.4,123.3\" style=\"fill:none;fill-rule:evenodd;stroke:#0000FF;stroke-width:2.0px;stroke-linecap:butt;stroke-linejoin:miter;stroke-opacity:1\"/>\n<path d=\"M 260.9,117.5 L 260.9,118.7 L 263.3,120.1\" style=\"fill:none;stroke:#000000;stroke-width:2.0px;stroke-linecap:butt;stroke-linejoin:miter;stroke-opacity:1;\"/>\n<path d=\"M 307.2,145.4 L 309.6,146.8 L 310.6,146.3\" style=\"fill:none;stroke:#000000;stroke-width:2.0px;stroke-linecap:butt;stroke-linejoin:miter;stroke-opacity:1;\"/>\n<path class=\"atom-2\" d=\"M 257.3 54.5 L 262.6 62.9 Q 263.1 63.7, 263.9 65.2 Q 264.7 66.7, 264.8 66.8 L 264.8 54.5 L 266.9 54.5 L 266.9 70.4 L 264.7 70.4 L 259.1 61.2 Q 258.5 60.1, 257.8 58.8 Q 257.1 57.6, 256.9 57.2 L 256.9 70.4 L 254.8 70.4 L 254.8 54.5 L 257.3 54.5 \" fill=\"#0000FF\"/>\n<path class=\"atom-2\" d=\"M 269.9 54.5 L 272.1 54.5 L 272.1 61.2 L 280.3 61.2 L 280.3 54.5 L 282.4 54.5 L 282.4 70.4 L 280.3 70.4 L 280.3 63.0 L 272.1 63.0 L 272.1 70.4 L 269.9 70.4 L 269.9 54.5 \" fill=\"#0000FF\"/>\n<path class=\"atom-2\" d=\"M 285.5 69.8 Q 285.9 68.8, 286.8 68.3 Q 287.8 67.7, 289.0 67.7 Q 290.6 67.7, 291.5 68.6 Q 292.4 69.4, 292.4 71.0 Q 292.4 72.5, 291.3 74.0 Q 290.1 75.4, 287.7 77.2 L 292.6 77.2 L 292.6 78.4 L 285.5 78.4 L 285.5 77.4 Q 287.5 76.0, 288.6 74.9 Q 289.8 73.9, 290.4 73.0 Q 290.9 72.0, 290.9 71.0 Q 290.9 70.0, 290.4 69.5 Q 289.9 68.9, 289.0 68.9 Q 288.2 68.9, 287.6 69.3 Q 287.1 69.6, 286.7 70.4 L 285.5 69.8 \" fill=\"#0000FF\"/>\n<path class=\"atom-4\" d=\"M 354.8 110.7 L 360.0 119.2 Q 360.6 120.0, 361.4 121.5 Q 362.2 123.0, 362.3 123.1 L 362.3 110.7 L 364.4 110.7 L 364.4 126.7 L 362.2 126.7 L 356.6 117.4 Q 355.9 116.4, 355.2 115.1 Q 354.6 113.9, 354.4 113.5 L 354.4 126.7 L 352.3 126.7 L 352.3 110.7 L 354.8 110.7 \" fill=\"#0000FF\"/>\n<path class=\"atom-4\" d=\"M 367.4 110.7 L 369.6 110.7 L 369.6 117.5 L 377.7 117.5 L 377.7 110.7 L 379.9 110.7 L 379.9 126.7 L 377.7 126.7 L 377.7 119.3 L 369.6 119.3 L 369.6 126.7 L 367.4 126.7 L 367.4 110.7 \" fill=\"#0000FF\"/>\n<path class=\"atom-4\" d=\"M 388.0 129.1 Q 389.0 129.4, 389.5 130.1 Q 390.0 130.7, 390.0 131.8 Q 390.0 132.7, 389.6 133.4 Q 389.1 134.0, 388.3 134.4 Q 387.5 134.8, 386.4 134.8 Q 385.3 134.8, 384.4 134.4 Q 383.6 134.0, 382.9 133.2 L 383.8 132.3 Q 384.4 133.1, 385.0 133.3 Q 385.5 133.6, 386.4 133.6 Q 387.4 133.6, 387.9 133.1 Q 388.5 132.6, 388.5 131.7 Q 388.5 130.7, 387.9 130.2 Q 387.3 129.7, 386.0 129.7 L 385.3 129.7 L 385.3 128.6 L 385.9 128.6 Q 387.1 128.6, 387.7 128.1 Q 388.3 127.6, 388.3 126.7 Q 388.3 126.0, 387.8 125.6 Q 387.3 125.2, 386.4 125.2 Q 385.5 125.2, 385.0 125.5 Q 384.5 125.8, 384.0 126.6 L 383.0 126.1 Q 383.4 125.2, 384.3 124.6 Q 385.2 124.0, 386.4 124.0 Q 388.0 124.0, 388.9 124.7 Q 389.8 125.5, 389.8 126.7 Q 389.8 127.5, 389.3 128.1 Q 388.9 128.8, 388.0 129.1 \" fill=\"#0000FF\"/>\n<path class=\"atom-4\" d=\"M 383.0 113.6 L 385.8 113.6 L 385.8 110.7 L 387.1 110.7 L 387.1 113.6 L 389.9 113.6 L 389.9 114.7 L 387.1 114.7 L 387.1 117.6 L 385.8 117.6 L 385.8 114.7 L 383.0 114.7 L 383.0 113.6 \" fill=\"#0000FF\"/>\n</svg>"
          },
          "metadata": {}
        },
        {
          "output_type": "stream",
          "name": "stdout",
          "text": [
            "Transition 1\n"
          ]
        },
        {
          "output_type": "display_data",
          "data": {
            "text/plain": [
              "<IPython.core.display.SVG object>"
            ],
            "image/svg+xml": "<svg xmlns=\"http://www.w3.org/2000/svg\" xmlns:rdkit=\"http://www.rdkit.org/xml\" xmlns:xlink=\"http://www.w3.org/1999/xlink\" version=\"1.1\" baseProfile=\"full\" xml:space=\"preserve\" width=\"600px\" height=\"200px\" viewBox=\"0 0 600 200\">\n<!-- END OF HEADER -->\n<rect style=\"opacity:1.0;fill:#FFFFFF;stroke:none\" width=\"600.0\" height=\"200.0\" x=\"0.0\" y=\"0.0\"> </rect>\n<ellipse cx=\"164.4\" cy=\"119.4\" rx=\"25.5\" ry=\"16.4\" class=\"atom-4\" style=\"fill:#FF7F7F;fill-rule:evenodd;stroke:#FF7F7F;stroke-width:1.0px;stroke-linecap:butt;stroke-linejoin:miter;stroke-opacity:1\"/>\n<path class=\"bond-0 atom-1 atom-0\" d=\"M 58.8,115.6 L 14.1,146.0 L 10.0,139.0 Z\" style=\"fill:#000000;fill-rule:evenodd;fill-opacity:1;stroke:#000000;stroke-width:0.5px;stroke-linecap:butt;stroke-linejoin:miter;stroke-opacity:1;\"/>\n<path class=\"bond-1 atom-1 atom-2\" d=\"M 58.8,115.6 L 58.8,93.3\" style=\"fill:none;fill-rule:evenodd;stroke:#000000;stroke-width:2.0px;stroke-linecap:butt;stroke-linejoin:miter;stroke-opacity:1\"/>\n<path class=\"bond-1 atom-1 atom-2\" d=\"M 58.8,93.3 L 58.8,71.1\" style=\"fill:none;fill-rule:evenodd;stroke:#0000FF;stroke-width:2.0px;stroke-linecap:butt;stroke-linejoin:miter;stroke-opacity:1\"/>\n<path class=\"bond-2 atom-1 atom-3\" d=\"M 58.8,115.6 L 105.5,142.5\" style=\"fill:none;fill-rule:evenodd;stroke:#000000;stroke-width:2.0px;stroke-linecap:butt;stroke-linejoin:miter;stroke-opacity:1\"/>\n<path class=\"bond-3 atom-3 atom-4\" d=\"M 105.5,142.5 L 125.0,131.2\" style=\"fill:none;fill-rule:evenodd;stroke:#000000;stroke-width:2.0px;stroke-linecap:butt;stroke-linejoin:miter;stroke-opacity:1\"/>\n<path class=\"bond-3 atom-3 atom-4\" d=\"M 125.0,131.2 L 144.6,120.0\" style=\"fill:none;fill-rule:evenodd;stroke:#0000FF;stroke-width:2.0px;stroke-linecap:butt;stroke-linejoin:miter;stroke-opacity:1\"/>\n<path d=\"M 58.8,114.5 L 58.8,115.6 L 61.1,116.9\" style=\"fill:none;stroke:#000000;stroke-width:2.0px;stroke-linecap:butt;stroke-linejoin:miter;stroke-opacity:1;\"/>\n<path d=\"M 103.1,141.2 L 105.5,142.5 L 106.4,142.0\" style=\"fill:none;stroke:#000000;stroke-width:2.0px;stroke-linecap:butt;stroke-linejoin:miter;stroke-opacity:1;\"/>\n<path class=\"atom-2\" d=\"M 55.4 54.0 L 60.4 62.1 Q 60.9 62.9, 61.7 64.4 Q 62.5 65.8, 62.5 65.9 L 62.5 54.0 L 64.6 54.0 L 64.6 69.3 L 62.5 69.3 L 57.1 60.5 Q 56.5 59.4, 55.8 58.2 Q 55.1 57.1, 55.0 56.7 L 55.0 69.3 L 53.0 69.3 L 53.0 54.0 L 55.4 54.0 \" fill=\"#0000FF\"/>\n<path class=\"atom-2\" d=\"M 67.4 54.0 L 69.5 54.0 L 69.5 60.5 L 77.3 60.5 L 77.3 54.0 L 79.4 54.0 L 79.4 69.3 L 77.3 69.3 L 77.3 62.3 L 69.5 62.3 L 69.5 69.3 L 67.4 69.3 L 67.4 54.0 \" fill=\"#0000FF\"/>\n<path class=\"atom-2\" d=\"M 87.2 71.6 Q 88.1 71.9, 88.6 72.6 Q 89.1 73.2, 89.1 74.2 Q 89.1 75.0, 88.7 75.7 Q 88.2 76.4, 87.5 76.7 Q 86.7 77.1, 85.6 77.1 Q 84.6 77.1, 83.8 76.7 Q 83.0 76.3, 82.3 75.6 L 83.1 74.7 Q 83.8 75.4, 84.3 75.7 Q 84.8 75.9, 85.6 75.9 Q 86.6 75.9, 87.1 75.5 Q 87.7 75.0, 87.7 74.2 Q 87.7 73.1, 87.1 72.7 Q 86.5 72.2, 85.3 72.2 L 84.5 72.2 L 84.5 71.2 L 85.2 71.2 Q 86.3 71.2, 86.9 70.7 Q 87.5 70.2, 87.5 69.3 Q 87.5 68.7, 87.0 68.3 Q 86.5 67.9, 85.7 67.9 Q 84.8 67.9, 84.3 68.2 Q 83.8 68.5, 83.4 69.2 L 82.4 68.7 Q 82.8 67.9, 83.6 67.3 Q 84.5 66.7, 85.7 66.7 Q 87.1 66.7, 88.0 67.4 Q 88.9 68.1, 88.9 69.3 Q 88.9 70.1, 88.4 70.7 Q 88.0 71.3, 87.2 71.6 \" fill=\"#0000FF\"/>\n<path class=\"atom-2\" d=\"M 82.4 56.8 L 85.1 56.8 L 85.1 54.0 L 86.3 54.0 L 86.3 56.8 L 89.0 56.8 L 89.0 57.8 L 86.3 57.8 L 86.3 60.7 L 85.1 60.7 L 85.1 57.8 L 82.4 57.8 L 82.4 56.8 \" fill=\"#0000FF\"/>\n<path class=\"atom-4\" d=\"M 148.8 108.0 L 153.8 116.0 Q 154.3 116.8, 155.1 118.3 Q 155.9 119.7, 155.9 119.8 L 155.9 108.0 L 157.9 108.0 L 157.9 123.2 L 155.8 123.2 L 150.5 114.4 Q 149.8 113.3, 149.2 112.2 Q 148.5 111.0, 148.3 110.6 L 148.3 123.2 L 146.4 123.2 L 146.4 108.0 L 148.8 108.0 \" fill=\"#0000FF\"/>\n<path class=\"atom-4\" d=\"M 160.8 108.0 L 162.9 108.0 L 162.9 114.4 L 170.7 114.4 L 170.7 108.0 L 172.8 108.0 L 172.8 123.2 L 170.7 123.2 L 170.7 116.2 L 162.9 116.2 L 162.9 123.2 L 160.8 123.2 L 160.8 108.0 \" fill=\"#0000FF\"/>\n<path class=\"atom-4\" d=\"M 180.5 125.5 Q 181.5 125.8, 182.0 126.5 Q 182.5 127.1, 182.5 128.1 Q 182.5 128.9, 182.0 129.6 Q 181.6 130.3, 180.8 130.6 Q 180.1 131.0, 179.0 131.0 Q 177.9 131.0, 177.1 130.6 Q 176.3 130.2, 175.7 129.5 L 176.5 128.6 Q 177.1 129.3, 177.7 129.6 Q 178.2 129.9, 179.0 129.9 Q 179.9 129.9, 180.5 129.4 Q 181.1 128.9, 181.1 128.1 Q 181.1 127.1, 180.5 126.6 Q 179.9 126.1, 178.7 126.1 L 177.9 126.1 L 177.9 125.1 L 178.6 125.1 Q 179.7 125.1, 180.3 124.6 Q 180.8 124.1, 180.8 123.2 Q 180.8 122.6, 180.4 122.2 Q 179.9 121.8, 179.0 121.8 Q 178.2 121.8, 177.7 122.1 Q 177.2 122.4, 176.8 123.2 L 175.8 122.6 Q 176.1 121.8, 177.0 121.2 Q 177.8 120.7, 179.0 120.7 Q 180.5 120.7, 181.4 121.4 Q 182.3 122.1, 182.3 123.2 Q 182.3 124.1, 181.8 124.6 Q 181.4 125.2, 180.5 125.5 \" fill=\"#0000FF\"/>\n<path class=\"atom-4\" d=\"M 175.8 110.7 L 178.5 110.7 L 178.5 107.9 L 179.6 107.9 L 179.6 110.7 L 182.4 110.7 L 182.4 111.7 L 179.6 111.7 L 179.6 114.6 L 178.5 114.6 L 178.5 111.7 L 175.8 111.7 L 175.8 110.7 \" fill=\"#0000FF\"/>\n<ellipse cx=\"364.4\" cy=\"119.4\" rx=\"25.6\" ry=\"16.2\" class=\"atom-4\" style=\"fill:#FF7F7F;fill-rule:evenodd;stroke:#FF7F7F;stroke-width:1.0px;stroke-linecap:butt;stroke-linejoin:miter;stroke-opacity:1\"/>\n<path class=\"bond-0 atom-1 atom-0\" d=\"M 258.7,115.6 L 214.0,146.0 L 210.0,139.0 Z\" style=\"fill:#000000;fill-rule:evenodd;fill-opacity:1;stroke:#000000;stroke-width:0.5px;stroke-linecap:butt;stroke-linejoin:miter;stroke-opacity:1;\"/>\n<path class=\"bond-1 atom-1 atom-2\" d=\"M 258.7,115.6 L 258.7,93.3\" style=\"fill:none;fill-rule:evenodd;stroke:#000000;stroke-width:2.0px;stroke-linecap:butt;stroke-linejoin:miter;stroke-opacity:1\"/>\n<path class=\"bond-1 atom-1 atom-2\" d=\"M 258.7,93.3 L 258.7,71.1\" style=\"fill:none;fill-rule:evenodd;stroke:#0000FF;stroke-width:2.0px;stroke-linecap:butt;stroke-linejoin:miter;stroke-opacity:1\"/>\n<path class=\"bond-2 atom-1 atom-3\" d=\"M 258.7,115.6 L 305.4,142.5\" style=\"fill:none;fill-rule:evenodd;stroke:#000000;stroke-width:2.0px;stroke-linecap:butt;stroke-linejoin:miter;stroke-opacity:1\"/>\n<path class=\"bond-3 atom-3 atom-4\" d=\"M 305.4,142.5 L 325.0,131.2\" style=\"fill:none;fill-rule:evenodd;stroke:#000000;stroke-width:2.0px;stroke-linecap:butt;stroke-linejoin:miter;stroke-opacity:1\"/>\n<path class=\"bond-3 atom-3 atom-4\" d=\"M 325.0,131.2 L 344.5,120.0\" style=\"fill:none;fill-rule:evenodd;stroke:#0000FF;stroke-width:2.0px;stroke-linecap:butt;stroke-linejoin:miter;stroke-opacity:1\"/>\n<path d=\"M 258.7,114.5 L 258.7,115.6 L 261.0,116.9\" style=\"fill:none;stroke:#000000;stroke-width:2.0px;stroke-linecap:butt;stroke-linejoin:miter;stroke-opacity:1;\"/>\n<path d=\"M 303.1,141.2 L 305.4,142.5 L 306.4,142.0\" style=\"fill:none;stroke:#000000;stroke-width:2.0px;stroke-linecap:butt;stroke-linejoin:miter;stroke-opacity:1;\"/>\n<path class=\"atom-2\" d=\"M 255.3 54.0 L 260.3 62.1 Q 260.8 62.9, 261.6 64.4 Q 262.4 65.8, 262.5 65.9 L 262.5 54.0 L 264.5 54.0 L 264.5 69.3 L 262.4 69.3 L 257.0 60.5 Q 256.4 59.4, 255.7 58.2 Q 255.1 57.1, 254.9 56.7 L 254.9 69.3 L 252.9 69.3 L 252.9 54.0 L 255.3 54.0 \" fill=\"#0000FF\"/>\n<path class=\"atom-2\" d=\"M 267.4 54.0 L 269.5 54.0 L 269.5 60.5 L 277.3 60.5 L 277.3 54.0 L 279.3 54.0 L 279.3 69.3 L 277.3 69.3 L 277.3 62.3 L 269.5 62.3 L 269.5 69.3 L 267.4 69.3 L 267.4 54.0 \" fill=\"#0000FF\"/>\n<path class=\"atom-2\" d=\"M 287.1 71.6 Q 288.1 71.9, 288.6 72.6 Q 289.0 73.2, 289.0 74.2 Q 289.0 75.0, 288.6 75.7 Q 288.2 76.4, 287.4 76.7 Q 286.6 77.1, 285.6 77.1 Q 284.5 77.1, 283.7 76.7 Q 282.9 76.3, 282.3 75.6 L 283.1 74.7 Q 283.7 75.4, 284.2 75.7 Q 284.8 75.9, 285.6 75.9 Q 286.5 75.9, 287.1 75.5 Q 287.6 75.0, 287.6 74.2 Q 287.6 73.1, 287.0 72.7 Q 286.5 72.2, 285.2 72.2 L 284.5 72.2 L 284.5 71.2 L 285.1 71.2 Q 286.2 71.2, 286.8 70.7 Q 287.4 70.2, 287.4 69.3 Q 287.4 68.7, 286.9 68.3 Q 286.4 67.9, 285.6 67.9 Q 284.8 67.9, 284.2 68.2 Q 283.7 68.5, 283.3 69.2 L 282.4 68.7 Q 282.7 67.9, 283.6 67.3 Q 284.4 66.7, 285.6 66.7 Q 287.1 66.7, 288.0 67.4 Q 288.8 68.1, 288.8 69.3 Q 288.8 70.1, 288.4 70.7 Q 287.9 71.3, 287.1 71.6 \" fill=\"#0000FF\"/>\n<path class=\"atom-2\" d=\"M 282.3 56.8 L 285.0 56.8 L 285.0 54.0 L 286.2 54.0 L 286.2 56.8 L 289.0 56.8 L 289.0 57.8 L 286.2 57.8 L 286.2 60.7 L 285.0 60.7 L 285.0 57.8 L 282.3 57.8 L 282.3 56.8 \" fill=\"#0000FF\"/>\n<path class=\"atom-4\" d=\"M 348.7 108.0 L 353.7 116.0 Q 354.2 116.8, 355.0 118.3 Q 355.8 119.7, 355.9 119.8 L 355.9 108.0 L 357.9 108.0 L 357.9 123.2 L 355.8 123.2 L 350.4 114.4 Q 349.8 113.3, 349.1 112.2 Q 348.5 111.0, 348.3 110.6 L 348.3 123.2 L 346.3 123.2 L 346.3 108.0 L 348.7 108.0 \" fill=\"#0000FF\"/>\n<path class=\"atom-4\" d=\"M 360.8 108.0 L 362.9 108.0 L 362.9 114.4 L 370.7 114.4 L 370.7 108.0 L 372.8 108.0 L 372.8 123.2 L 370.7 123.2 L 370.7 116.2 L 362.9 116.2 L 362.9 123.2 L 360.8 123.2 L 360.8 108.0 \" fill=\"#0000FF\"/>\n<path class=\"atom-4\" d=\"M 375.7 122.7 Q 376.1 121.7, 377.0 121.2 Q 377.9 120.7, 379.1 120.7 Q 380.6 120.7, 381.5 121.5 Q 382.3 122.3, 382.3 123.8 Q 382.3 125.3, 381.2 126.7 Q 380.1 128.1, 377.8 129.7 L 382.5 129.7 L 382.5 130.9 L 375.7 130.9 L 375.7 129.9 Q 377.6 128.6, 378.7 127.6 Q 379.8 126.6, 380.4 125.7 Q 380.9 124.8, 380.9 123.9 Q 380.9 122.9, 380.4 122.3 Q 379.9 121.8, 379.1 121.8 Q 378.3 121.8, 377.7 122.1 Q 377.2 122.5, 376.8 123.2 L 375.7 122.7 \" fill=\"#0000FF\"/>\n</svg>"
          },
          "metadata": {}
        },
        {
          "output_type": "stream",
          "name": "stdout",
          "text": [
            "Transition 2\n"
          ]
        },
        {
          "output_type": "display_data",
          "data": {
            "text/plain": [
              "<IPython.core.display.SVG object>"
            ],
            "image/svg+xml": "<svg xmlns=\"http://www.w3.org/2000/svg\" xmlns:rdkit=\"http://www.rdkit.org/xml\" xmlns:xlink=\"http://www.w3.org/1999/xlink\" version=\"1.1\" baseProfile=\"full\" xml:space=\"preserve\" width=\"600px\" height=\"200px\" viewBox=\"0 0 600 200\">\n<!-- END OF HEADER -->\n<rect style=\"opacity:1.0;fill:#FFFFFF;stroke:none\" width=\"600.0\" height=\"200.0\" x=\"0.0\" y=\"0.0\"> </rect>\n<ellipse cx=\"164.4\" cy=\"119.4\" rx=\"25.5\" ry=\"16.4\" class=\"atom-4\" style=\"fill:#FF7F7F;fill-rule:evenodd;stroke:#FF7F7F;stroke-width:1.0px;stroke-linecap:butt;stroke-linejoin:miter;stroke-opacity:1\"/>\n<path class=\"bond-0 atom-1 atom-0\" d=\"M 58.8,115.5 L 14.1,146.0 L 10.0,139.0 Z\" style=\"fill:#000000;fill-rule:evenodd;fill-opacity:1;stroke:#000000;stroke-width:0.5px;stroke-linecap:butt;stroke-linejoin:miter;stroke-opacity:1;\"/>\n<path class=\"bond-1 atom-1 atom-2\" d=\"M 58.8,115.5 L 58.8,93.3\" style=\"fill:none;fill-rule:evenodd;stroke:#000000;stroke-width:2.0px;stroke-linecap:butt;stroke-linejoin:miter;stroke-opacity:1\"/>\n<path class=\"bond-1 atom-1 atom-2\" d=\"M 58.8,93.3 L 58.8,71.0\" style=\"fill:none;fill-rule:evenodd;stroke:#0000FF;stroke-width:2.0px;stroke-linecap:butt;stroke-linejoin:miter;stroke-opacity:1\"/>\n<path class=\"bond-2 atom-1 atom-3\" d=\"M 58.8,115.5 L 105.5,142.5\" style=\"fill:none;fill-rule:evenodd;stroke:#000000;stroke-width:2.0px;stroke-linecap:butt;stroke-linejoin:miter;stroke-opacity:1\"/>\n<path class=\"bond-3 atom-3 atom-4\" d=\"M 105.5,142.5 L 125.0,131.2\" style=\"fill:none;fill-rule:evenodd;stroke:#000000;stroke-width:2.0px;stroke-linecap:butt;stroke-linejoin:miter;stroke-opacity:1\"/>\n<path class=\"bond-3 atom-3 atom-4\" d=\"M 125.0,131.2 L 144.6,119.9\" style=\"fill:none;fill-rule:evenodd;stroke:#0000FF;stroke-width:2.0px;stroke-linecap:butt;stroke-linejoin:miter;stroke-opacity:1\"/>\n<path d=\"M 58.8,114.4 L 58.8,115.5 L 61.1,116.9\" style=\"fill:none;stroke:#000000;stroke-width:2.0px;stroke-linecap:butt;stroke-linejoin:miter;stroke-opacity:1;\"/>\n<path d=\"M 103.1,141.2 L 105.5,142.5 L 106.4,141.9\" style=\"fill:none;stroke:#000000;stroke-width:2.0px;stroke-linecap:butt;stroke-linejoin:miter;stroke-opacity:1;\"/>\n<path class=\"atom-2\" d=\"M 55.4 54.0 L 60.4 62.1 Q 60.9 62.9, 61.7 64.3 Q 62.5 65.8, 62.5 65.9 L 62.5 54.0 L 64.6 54.0 L 64.6 69.3 L 62.5 69.3 L 57.1 60.4 Q 56.5 59.4, 55.8 58.2 Q 55.1 57.0, 55.0 56.6 L 55.0 69.3 L 53.0 69.3 L 53.0 54.0 L 55.4 54.0 \" fill=\"#0000FF\"/>\n<path class=\"atom-2\" d=\"M 67.5 54.0 L 69.5 54.0 L 69.5 60.5 L 77.3 60.5 L 77.3 54.0 L 79.4 54.0 L 79.4 69.3 L 77.3 69.3 L 77.3 62.2 L 69.5 62.2 L 69.5 69.3 L 67.5 69.3 L 67.5 54.0 \" fill=\"#0000FF\"/>\n<path class=\"atom-2\" d=\"M 82.4 68.7 Q 82.8 67.8, 83.7 67.2 Q 84.5 66.7, 85.8 66.7 Q 87.3 66.7, 88.1 67.5 Q 89.0 68.4, 89.0 69.8 Q 89.0 71.3, 87.9 72.7 Q 86.8 74.1, 84.5 75.8 L 89.2 75.8 L 89.2 76.9 L 82.4 76.9 L 82.4 75.9 Q 84.3 74.6, 85.4 73.6 Q 86.5 72.6, 87.0 71.7 Q 87.6 70.8, 87.6 69.9 Q 87.6 68.9, 87.1 68.4 Q 86.6 67.8, 85.8 67.8 Q 85.0 67.8, 84.4 68.2 Q 83.9 68.5, 83.5 69.2 L 82.4 68.7 \" fill=\"#0000FF\"/>\n<path class=\"atom-4\" d=\"M 148.8 107.9 L 153.8 116.0 Q 154.3 116.8, 155.1 118.2 Q 155.9 119.7, 155.9 119.8 L 155.9 107.9 L 157.9 107.9 L 157.9 123.2 L 155.8 123.2 L 150.5 114.3 Q 149.8 113.3, 149.2 112.1 Q 148.5 110.9, 148.3 110.6 L 148.3 123.2 L 146.4 123.2 L 146.4 107.9 L 148.8 107.9 \" fill=\"#0000FF\"/>\n<path class=\"atom-4\" d=\"M 160.8 107.9 L 162.9 107.9 L 162.9 114.4 L 170.7 114.4 L 170.7 107.9 L 172.8 107.9 L 172.8 123.2 L 170.7 123.2 L 170.7 116.1 L 162.9 116.1 L 162.9 123.2 L 160.8 123.2 L 160.8 107.9 \" fill=\"#0000FF\"/>\n<path class=\"atom-4\" d=\"M 180.5 125.5 Q 181.5 125.8, 182.0 126.4 Q 182.5 127.1, 182.5 128.1 Q 182.5 128.9, 182.0 129.6 Q 181.6 130.2, 180.8 130.6 Q 180.1 131.0, 179.0 131.0 Q 177.9 131.0, 177.1 130.6 Q 176.3 130.2, 175.7 129.4 L 176.5 128.6 Q 177.1 129.3, 177.7 129.6 Q 178.2 129.8, 179.0 129.8 Q 179.9 129.8, 180.5 129.3 Q 181.1 128.8, 181.1 128.0 Q 181.1 127.0, 180.5 126.6 Q 179.9 126.1, 178.7 126.1 L 177.9 126.1 L 177.9 125.1 L 178.6 125.1 Q 179.7 125.0, 180.3 124.6 Q 180.8 124.1, 180.8 123.2 Q 180.8 122.5, 180.4 122.2 Q 179.9 121.8, 179.0 121.8 Q 178.2 121.8, 177.7 122.1 Q 177.2 122.4, 176.8 123.1 L 175.8 122.6 Q 176.1 121.7, 177.0 121.2 Q 177.8 120.6, 179.0 120.6 Q 180.5 120.6, 181.4 121.3 Q 182.3 122.0, 182.3 123.2 Q 182.3 124.0, 181.8 124.6 Q 181.4 125.2, 180.5 125.5 \" fill=\"#0000FF\"/>\n<path class=\"atom-4\" d=\"M 175.8 110.7 L 178.5 110.7 L 178.5 107.8 L 179.6 107.8 L 179.6 110.7 L 182.4 110.7 L 182.4 111.7 L 179.6 111.7 L 179.6 114.5 L 178.5 114.5 L 178.5 111.7 L 175.8 111.7 L 175.8 110.7 \" fill=\"#0000FF\"/>\n<ellipse cx=\"364.4\" cy=\"119.4\" rx=\"25.6\" ry=\"16.2\" class=\"atom-4\" style=\"fill:#FF7F7F;fill-rule:evenodd;stroke:#FF7F7F;stroke-width:1.0px;stroke-linecap:butt;stroke-linejoin:miter;stroke-opacity:1\"/>\n<path class=\"bond-0 atom-1 atom-0\" d=\"M 258.7,115.5 L 214.0,146.0 L 210.0,139.0 Z\" style=\"fill:#000000;fill-rule:evenodd;fill-opacity:1;stroke:#000000;stroke-width:0.5px;stroke-linecap:butt;stroke-linejoin:miter;stroke-opacity:1;\"/>\n<path class=\"bond-1 atom-1 atom-2\" d=\"M 258.7,115.5 L 258.7,93.3\" style=\"fill:none;fill-rule:evenodd;stroke:#000000;stroke-width:2.0px;stroke-linecap:butt;stroke-linejoin:miter;stroke-opacity:1\"/>\n<path class=\"bond-1 atom-1 atom-2\" d=\"M 258.7,93.3 L 258.7,71.0\" style=\"fill:none;fill-rule:evenodd;stroke:#0000FF;stroke-width:2.0px;stroke-linecap:butt;stroke-linejoin:miter;stroke-opacity:1\"/>\n<path class=\"bond-2 atom-1 atom-3\" d=\"M 258.7,115.5 L 305.4,142.5\" style=\"fill:none;fill-rule:evenodd;stroke:#000000;stroke-width:2.0px;stroke-linecap:butt;stroke-linejoin:miter;stroke-opacity:1\"/>\n<path class=\"bond-3 atom-3 atom-4\" d=\"M 305.4,142.5 L 325.0,131.2\" style=\"fill:none;fill-rule:evenodd;stroke:#000000;stroke-width:2.0px;stroke-linecap:butt;stroke-linejoin:miter;stroke-opacity:1\"/>\n<path class=\"bond-3 atom-3 atom-4\" d=\"M 325.0,131.2 L 344.5,119.9\" style=\"fill:none;fill-rule:evenodd;stroke:#0000FF;stroke-width:2.0px;stroke-linecap:butt;stroke-linejoin:miter;stroke-opacity:1\"/>\n<path d=\"M 258.7,114.4 L 258.7,115.5 L 261.0,116.9\" style=\"fill:none;stroke:#000000;stroke-width:2.0px;stroke-linecap:butt;stroke-linejoin:miter;stroke-opacity:1;\"/>\n<path d=\"M 303.1,141.2 L 305.4,142.5 L 306.4,141.9\" style=\"fill:none;stroke:#000000;stroke-width:2.0px;stroke-linecap:butt;stroke-linejoin:miter;stroke-opacity:1;\"/>\n<path class=\"atom-2\" d=\"M 255.3 54.0 L 260.3 62.1 Q 260.8 62.9, 261.6 64.3 Q 262.4 65.8, 262.5 65.9 L 262.5 54.0 L 264.5 54.0 L 264.5 69.3 L 262.4 69.3 L 257.0 60.4 Q 256.4 59.4, 255.7 58.2 Q 255.1 57.0, 254.9 56.6 L 254.9 69.3 L 252.9 69.3 L 252.9 54.0 L 255.3 54.0 \" fill=\"#0000FF\"/>\n<path class=\"atom-2\" d=\"M 267.4 54.0 L 269.5 54.0 L 269.5 60.5 L 277.3 60.5 L 277.3 54.0 L 279.4 54.0 L 279.4 69.3 L 277.3 69.3 L 277.3 62.2 L 269.5 62.2 L 269.5 69.3 L 267.4 69.3 L 267.4 54.0 \" fill=\"#0000FF\"/>\n<path class=\"atom-2\" d=\"M 282.4 68.7 Q 282.7 67.8, 283.6 67.2 Q 284.5 66.7, 285.7 66.7 Q 287.2 66.7, 288.1 67.5 Q 288.9 68.4, 288.9 69.8 Q 288.9 71.3, 287.8 72.7 Q 286.7 74.1, 284.5 75.8 L 289.1 75.8 L 289.1 76.9 L 282.3 76.9 L 282.3 75.9 Q 284.2 74.6, 285.3 73.6 Q 286.4 72.6, 287.0 71.7 Q 287.5 70.8, 287.5 69.9 Q 287.5 68.9, 287.0 68.4 Q 286.6 67.8, 285.7 67.8 Q 284.9 67.8, 284.4 68.2 Q 283.8 68.5, 283.4 69.2 L 282.4 68.7 \" fill=\"#0000FF\"/>\n<path class=\"atom-4\" d=\"M 348.7 107.9 L 353.7 116.0 Q 354.2 116.8, 355.0 118.2 Q 355.8 119.7, 355.9 119.8 L 355.9 107.9 L 357.9 107.9 L 357.9 123.2 L 355.8 123.2 L 350.4 114.3 Q 349.8 113.3, 349.1 112.1 Q 348.5 110.9, 348.3 110.6 L 348.3 123.2 L 346.3 123.2 L 346.3 107.9 L 348.7 107.9 \" fill=\"#0000FF\"/>\n<path class=\"atom-4\" d=\"M 360.8 107.9 L 362.9 107.9 L 362.9 114.4 L 370.7 114.4 L 370.7 107.9 L 372.8 107.9 L 372.8 123.2 L 370.7 123.2 L 370.7 116.1 L 362.9 116.1 L 362.9 123.2 L 360.8 123.2 L 360.8 107.9 \" fill=\"#0000FF\"/>\n<path class=\"atom-4\" d=\"M 375.7 122.6 Q 376.1 121.7, 377.0 121.2 Q 377.9 120.6, 379.1 120.6 Q 380.6 120.6, 381.5 121.4 Q 382.3 122.3, 382.3 123.7 Q 382.3 125.2, 381.2 126.6 Q 380.1 128.0, 377.8 129.7 L 382.5 129.7 L 382.5 130.8 L 375.7 130.8 L 375.7 129.9 Q 377.6 128.5, 378.7 127.5 Q 379.8 126.5, 380.4 125.6 Q 380.9 124.7, 380.9 123.8 Q 380.9 122.8, 380.4 122.3 Q 379.9 121.8, 379.1 121.8 Q 378.3 121.8, 377.7 122.1 Q 377.2 122.4, 376.8 123.1 L 375.7 122.6 \" fill=\"#0000FF\"/>\n</svg>"
          },
          "metadata": {}
        },
        {
          "output_type": "stream",
          "name": "stdout",
          "text": [
            "Transition 3\n"
          ]
        },
        {
          "output_type": "display_data",
          "data": {
            "text/plain": [
              "<IPython.core.display.SVG object>"
            ],
            "image/svg+xml": "<svg xmlns=\"http://www.w3.org/2000/svg\" xmlns:rdkit=\"http://www.rdkit.org/xml\" xmlns:xlink=\"http://www.w3.org/1999/xlink\" version=\"1.1\" baseProfile=\"full\" xml:space=\"preserve\" width=\"600px\" height=\"200px\" viewBox=\"0 0 600 200\">\n<!-- END OF HEADER -->\n<rect style=\"opacity:1.0;fill:#FFFFFF;stroke:none\" width=\"600.0\" height=\"200.0\" x=\"0.0\" y=\"0.0\"> </rect>\n<ellipse cx=\"73.6\" cy=\"66.5\" rx=\"26.7\" ry=\"17.1\" class=\"atom-2\" style=\"fill:#FF7F7F;fill-rule:evenodd;stroke:#FF7F7F;stroke-width:1.0px;stroke-linecap:butt;stroke-linejoin:miter;stroke-opacity:1\"/>\n<path class=\"bond-0 atom-1 atom-0\" d=\"M 60.8,118.8 L 14.2,150.5 L 10.0,143.2 Z\" style=\"fill:#000000;fill-rule:evenodd;fill-opacity:1;stroke:#000000;stroke-width:0.5px;stroke-linecap:butt;stroke-linejoin:miter;stroke-opacity:1;\"/>\n<path class=\"bond-1 atom-1 atom-2\" d=\"M 60.8,118.8 L 60.8,95.5\" style=\"fill:none;fill-rule:evenodd;stroke:#000000;stroke-width:2.0px;stroke-linecap:butt;stroke-linejoin:miter;stroke-opacity:1\"/>\n<path class=\"bond-1 atom-1 atom-2\" d=\"M 60.8,95.5 L 60.8,72.3\" style=\"fill:none;fill-rule:evenodd;stroke:#0000FF;stroke-width:2.0px;stroke-linecap:butt;stroke-linejoin:miter;stroke-opacity:1\"/>\n<path class=\"bond-2 atom-1 atom-3\" d=\"M 60.8,118.8 L 109.6,146.9\" style=\"fill:none;fill-rule:evenodd;stroke:#000000;stroke-width:2.0px;stroke-linecap:butt;stroke-linejoin:miter;stroke-opacity:1\"/>\n<path class=\"bond-3 atom-3 atom-4\" d=\"M 109.6,146.9 L 130.0,135.1\" style=\"fill:none;fill-rule:evenodd;stroke:#000000;stroke-width:2.0px;stroke-linecap:butt;stroke-linejoin:miter;stroke-opacity:1\"/>\n<path class=\"bond-3 atom-3 atom-4\" d=\"M 130.0,135.1 L 150.4,123.3\" style=\"fill:none;fill-rule:evenodd;stroke:#0000FF;stroke-width:2.0px;stroke-linecap:butt;stroke-linejoin:miter;stroke-opacity:1\"/>\n<path d=\"M 60.8,117.6 L 60.8,118.8 L 63.3,120.2\" style=\"fill:none;stroke:#000000;stroke-width:2.0px;stroke-linecap:butt;stroke-linejoin:miter;stroke-opacity:1;\"/>\n<path d=\"M 107.1,145.5 L 109.6,146.9 L 110.6,146.3\" style=\"fill:none;stroke:#000000;stroke-width:2.0px;stroke-linecap:butt;stroke-linejoin:miter;stroke-opacity:1;\"/>\n<path class=\"atom-2\" d=\"M 57.3 54.5 L 62.5 63.0 Q 63.0 63.8, 63.9 65.3 Q 64.7 66.8, 64.8 66.9 L 64.8 54.5 L 66.9 54.5 L 66.9 70.5 L 64.7 70.5 L 59.1 61.2 Q 58.4 60.2, 57.7 58.9 Q 57.1 57.7, 56.9 57.3 L 56.9 70.5 L 54.8 70.5 L 54.8 54.5 L 57.3 54.5 \" fill=\"#0000FF\"/>\n<path class=\"atom-2\" d=\"M 69.9 54.5 L 72.0 54.5 L 72.0 61.3 L 80.2 61.3 L 80.2 54.5 L 82.4 54.5 L 82.4 70.5 L 80.2 70.5 L 80.2 63.1 L 72.0 63.1 L 72.0 70.5 L 69.9 70.5 L 69.9 54.5 \" fill=\"#0000FF\"/>\n<path class=\"atom-2\" d=\"M 90.5 72.9 Q 91.5 73.2, 92.0 73.9 Q 92.5 74.5, 92.5 75.6 Q 92.5 76.4, 92.0 77.1 Q 91.6 77.8, 90.8 78.2 Q 90.0 78.6, 88.9 78.6 Q 87.8 78.6, 86.9 78.2 Q 86.1 77.8, 85.4 77.0 L 86.3 76.1 Q 86.9 76.8, 87.5 77.1 Q 88.0 77.4, 88.9 77.4 Q 89.8 77.4, 90.4 76.9 Q 91.0 76.4, 91.0 75.5 Q 91.0 74.5, 90.4 74.0 Q 89.8 73.5, 88.5 73.5 L 87.7 73.5 L 87.7 72.4 L 88.4 72.4 Q 89.6 72.4, 90.2 71.9 Q 90.8 71.4, 90.8 70.5 Q 90.8 69.8, 90.3 69.4 Q 89.8 69.0, 88.9 69.0 Q 88.0 69.0, 87.5 69.3 Q 86.9 69.6, 86.5 70.4 L 85.5 69.9 Q 85.9 69.0, 86.8 68.4 Q 87.7 67.8, 88.9 67.8 Q 90.4 67.8, 91.4 68.5 Q 92.3 69.3, 92.3 70.5 Q 92.3 71.3, 91.8 71.9 Q 91.3 72.6, 90.5 72.9 \" fill=\"#0000FF\"/>\n<path class=\"atom-2\" d=\"M 85.5 57.4 L 88.3 57.4 L 88.3 54.5 L 89.5 54.5 L 89.5 57.4 L 92.4 57.4 L 92.4 58.5 L 89.5 58.5 L 89.5 61.4 L 88.3 61.4 L 88.3 58.5 L 85.5 58.5 L 85.5 57.4 \" fill=\"#0000FF\"/>\n<path class=\"atom-4\" d=\"M 154.8 110.8 L 160.0 119.2 Q 160.5 120.1, 161.3 121.6 Q 162.2 123.1, 162.2 123.2 L 162.2 110.8 L 164.3 110.8 L 164.3 126.7 L 162.1 126.7 L 156.5 117.5 Q 155.9 116.4, 155.2 115.2 Q 154.5 113.9, 154.3 113.6 L 154.3 126.7 L 152.2 126.7 L 152.2 110.8 L 154.8 110.8 \" fill=\"#0000FF\"/>\n<path class=\"atom-4\" d=\"M 167.4 110.8 L 169.5 110.8 L 169.5 117.6 L 177.7 117.6 L 177.7 110.8 L 179.8 110.8 L 179.8 126.7 L 177.7 126.7 L 177.7 119.4 L 169.5 119.4 L 169.5 126.7 L 167.4 126.7 L 167.4 110.8 \" fill=\"#0000FF\"/>\n<path class=\"atom-4\" d=\"M 182.9 126.2 Q 183.3 125.2, 184.3 124.6 Q 185.2 124.1, 186.5 124.1 Q 188.0 124.1, 188.9 124.9 Q 189.8 125.8, 189.8 127.3 Q 189.8 128.9, 188.7 130.3 Q 187.5 131.8, 185.1 133.5 L 190.0 133.5 L 190.0 134.7 L 182.9 134.7 L 182.9 133.7 Q 184.9 132.3, 186.0 131.3 Q 187.2 130.2, 187.8 129.3 Q 188.3 128.4, 188.3 127.4 Q 188.3 126.4, 187.8 125.8 Q 187.3 125.2, 186.5 125.2 Q 185.6 125.2, 185.0 125.6 Q 184.5 125.9, 184.1 126.7 L 182.9 126.2 \" fill=\"#0000FF\"/>\n<ellipse cx=\"273.7\" cy=\"66.4\" rx=\"26.7\" ry=\"16.9\" class=\"atom-2\" style=\"fill:#FF7F7F;fill-rule:evenodd;stroke:#FF7F7F;stroke-width:1.0px;stroke-linecap:butt;stroke-linejoin:miter;stroke-opacity:1\"/>\n<path class=\"bond-0 atom-1 atom-0\" d=\"M 260.8,118.7 L 214.2,150.5 L 210.0,143.2 Z\" style=\"fill:#000000;fill-rule:evenodd;fill-opacity:1;stroke:#000000;stroke-width:0.5px;stroke-linecap:butt;stroke-linejoin:miter;stroke-opacity:1;\"/>\n<path class=\"bond-1 atom-1 atom-2\" d=\"M 260.8,118.7 L 260.8,95.5\" style=\"fill:none;fill-rule:evenodd;stroke:#000000;stroke-width:2.0px;stroke-linecap:butt;stroke-linejoin:miter;stroke-opacity:1\"/>\n<path class=\"bond-1 atom-1 atom-2\" d=\"M 260.8,95.5 L 260.8,72.3\" style=\"fill:none;fill-rule:evenodd;stroke:#0000FF;stroke-width:2.0px;stroke-linecap:butt;stroke-linejoin:miter;stroke-opacity:1\"/>\n<path class=\"bond-2 atom-1 atom-3\" d=\"M 260.8,118.7 L 309.6,146.8\" style=\"fill:none;fill-rule:evenodd;stroke:#000000;stroke-width:2.0px;stroke-linecap:butt;stroke-linejoin:miter;stroke-opacity:1\"/>\n<path class=\"bond-3 atom-3 atom-4\" d=\"M 309.6,146.8 L 330.0,135.0\" style=\"fill:none;fill-rule:evenodd;stroke:#000000;stroke-width:2.0px;stroke-linecap:butt;stroke-linejoin:miter;stroke-opacity:1\"/>\n<path class=\"bond-3 atom-3 atom-4\" d=\"M 330.0,135.0 L 350.4,123.3\" style=\"fill:none;fill-rule:evenodd;stroke:#0000FF;stroke-width:2.0px;stroke-linecap:butt;stroke-linejoin:miter;stroke-opacity:1\"/>\n<path d=\"M 260.8,117.5 L 260.8,118.7 L 263.3,120.1\" style=\"fill:none;stroke:#000000;stroke-width:2.0px;stroke-linecap:butt;stroke-linejoin:miter;stroke-opacity:1;\"/>\n<path d=\"M 307.1,145.4 L 309.6,146.8 L 310.6,146.2\" style=\"fill:none;stroke:#000000;stroke-width:2.0px;stroke-linecap:butt;stroke-linejoin:miter;stroke-opacity:1;\"/>\n<path class=\"atom-2\" d=\"M 257.3 54.5 L 262.5 62.9 Q 263.0 63.7, 263.9 65.2 Q 264.7 66.8, 264.8 66.8 L 264.8 54.5 L 266.9 54.5 L 266.9 70.4 L 264.7 70.4 L 259.1 61.2 Q 258.4 60.1, 257.7 58.9 Q 257.1 57.6, 256.9 57.2 L 256.9 70.4 L 254.8 70.4 L 254.8 54.5 L 257.3 54.5 \" fill=\"#0000FF\"/>\n<path class=\"atom-2\" d=\"M 269.9 54.5 L 272.1 54.5 L 272.1 61.2 L 280.2 61.2 L 280.2 54.5 L 282.4 54.5 L 282.4 70.4 L 280.2 70.4 L 280.2 63.0 L 272.1 63.0 L 272.1 70.4 L 269.9 70.4 L 269.9 54.5 \" fill=\"#0000FF\"/>\n<path class=\"atom-2\" d=\"M 285.5 69.8 Q 285.9 68.8, 286.8 68.3 Q 287.7 67.7, 289.0 67.7 Q 290.6 67.7, 291.5 68.6 Q 292.4 69.5, 292.4 71.0 Q 292.4 72.5, 291.2 74.0 Q 290.1 75.5, 287.7 77.2 L 292.6 77.2 L 292.6 78.4 L 285.5 78.4 L 285.5 77.4 Q 287.4 76.0, 288.6 74.9 Q 289.8 73.9, 290.3 73.0 Q 290.9 72.0, 290.9 71.1 Q 290.9 70.1, 290.4 69.5 Q 289.9 68.9, 289.0 68.9 Q 288.2 68.9, 287.6 69.3 Q 287.0 69.6, 286.6 70.4 L 285.5 69.8 \" fill=\"#0000FF\"/>\n<path class=\"atom-4\" d=\"M 354.8 110.7 L 360.0 119.2 Q 360.5 120.0, 361.3 121.5 Q 362.2 123.0, 362.2 123.1 L 362.2 110.7 L 364.3 110.7 L 364.3 126.7 L 362.1 126.7 L 356.5 117.4 Q 355.9 116.4, 355.2 115.1 Q 354.5 113.9, 354.3 113.5 L 354.3 126.7 L 352.2 126.7 L 352.2 110.7 L 354.8 110.7 \" fill=\"#0000FF\"/>\n<path class=\"atom-4\" d=\"M 367.4 110.7 L 369.5 110.7 L 369.5 117.5 L 377.7 117.5 L 377.7 110.7 L 379.8 110.7 L 379.8 126.7 L 377.7 126.7 L 377.7 119.3 L 369.5 119.3 L 369.5 126.7 L 367.4 126.7 L 367.4 110.7 \" fill=\"#0000FF\"/>\n<path class=\"atom-4\" d=\"M 382.9 126.1 Q 383.3 125.1, 384.3 124.6 Q 385.2 124.0, 386.5 124.0 Q 388.0 124.0, 388.9 124.9 Q 389.8 125.7, 389.8 127.2 Q 389.8 128.8, 388.7 130.3 Q 387.5 131.7, 385.1 133.4 L 390.0 133.4 L 390.0 134.6 L 382.9 134.6 L 382.9 133.6 Q 384.9 132.2, 386.0 131.2 Q 387.2 130.2, 387.8 129.2 Q 388.3 128.3, 388.3 127.3 Q 388.3 126.3, 387.8 125.7 Q 387.3 125.2, 386.5 125.2 Q 385.6 125.2, 385.0 125.5 Q 384.5 125.9, 384.1 126.6 L 382.9 126.1 \" fill=\"#0000FF\"/>\n</svg>"
          },
          "metadata": {}
        }
      ]
    },
    {
      "cell_type": "code",
      "source": [
        "state_transitions"
      ],
      "metadata": {
        "colab": {
          "base_uri": "https://localhost:8080/"
        },
        "id": "geoXRdMEShJp",
        "outputId": "412609e7-3d9b-4fbd-c7fe-a126a01f0298"
      },
      "execution_count": 40,
      "outputs": [
        {
          "output_type": "execute_result",
          "data": {
            "text/plain": [
              "[(0,\n",
              "  1,\n",
              "  <rdkit.Chem.rdchem.Mol at 0x7c848e8c3370>,\n",
              "  <rdkit.Chem.rdchem.Mol at 0x7c848e8c3300>),\n",
              " (0,\n",
              "  2,\n",
              "  <rdkit.Chem.rdchem.Mol at 0x7c848e8c3370>,\n",
              "  <rdkit.Chem.rdchem.Mol at 0x7c848e8c34c0>),\n",
              " (1,\n",
              "  3,\n",
              "  <rdkit.Chem.rdchem.Mol at 0x7c848e8c3300>,\n",
              "  <rdkit.Chem.rdchem.Mol at 0x7c848e8c3290>),\n",
              " (2,\n",
              "  3,\n",
              "  <rdkit.Chem.rdchem.Mol at 0x7c848e8c34c0>,\n",
              "  <rdkit.Chem.rdchem.Mol at 0x7c848e8c3290>)]"
            ]
          },
          "metadata": {},
          "execution_count": 40
        }
      ]
    },
    {
      "cell_type": "code",
      "source": [
        "#@title Provide pKa values for transitions between protonated states\n",
        "#@markdown Please, provide pKa values for protonated states.\n",
        "pka_0 = 2 #@param {type:\"number\"}\n",
        "pka_1 = 3 #@param {type:\"number\"}\n",
        "pka_2 = 4 #@param {type:\"number\"}\n",
        "pka_3 = 5 #@param {type:\"number\"}\n",
        "pka_4 = 0.0 #@param {type:\"number\"}\n",
        "pka_5 = 0.0 #@param {type:\"number\"}\n",
        "pka_6 = 0.0 #@param {type:\"number\"}\n",
        "pka_7 = 0.0 #@param {type:\"number\"}\n",
        "pka_8 = 0.0 #@param {type:\"number\"}\n",
        "pka_9 = 0.0 #@param {type:\"number\"}\n",
        "\n",
        "pkas = [\n",
        "    pka_0, pka_1, pka_2, pka_3, pka_4,\n",
        "    pka_5, pka_6, pka_7, pka_8, pka_9,\n",
        "][:len(state_transitions)]"
      ],
      "metadata": {
        "id": "Qg4YAxSh-Ibw"
      },
      "execution_count": 41,
      "outputs": []
    },
    {
      "cell_type": "code",
      "source": [
        "states"
      ],
      "metadata": {
        "colab": {
          "base_uri": "https://localhost:8080/"
        },
        "id": "OTheYiivkbto",
        "outputId": "946f0868-7160-4679-a3e3-04202358f3f2"
      },
      "execution_count": 23,
      "outputs": [
        {
          "output_type": "execute_result",
          "data": {
            "text/plain": [
              "{0: (<rdkit.Chem.rdchem.Mol at 0x7c849071c120>, 1, 1, None, []),\n",
              " 1: (<rdkit.Chem.rdchem.Mol at 0x7c849071ec00>, 1, 3, None, [4]),\n",
              " 2: (<rdkit.Chem.rdchem.Mol at 0x7c849071c270>, 1, 3, None, [2]),\n",
              " 3: (<rdkit.Chem.rdchem.Mol at 0x7c849071ec70>, 1, 9, None, [2, 4])}"
            ]
          },
          "metadata": {},
          "execution_count": 23
        }
      ]
    },
    {
      "cell_type": "code",
      "source": [
        "#@title Generate pKa matrix equation\n",
        "import numpy as np\n",
        "from sympy import Matrix, MatrixSymbol, symbols\n",
        "if len(mols) == 2 and all(states[x][2] == 1 for x in states):\n",
        "    print(f\"Single state should be used. pKa = {pkas[0]}\")\n",
        "else:\n",
        "    ph = symbols(\"pH\")\n",
        "    A = np.zeros((len(state_transitions) + 1, len(mols)), dtype = 'int')\n",
        "    b = MatrixSymbol('b', len(state_transitions) + 1, 1).as_explicit()\n",
        "    bsubs = {b[0,0]: ph}\n",
        "    for i, (tr, pka) in enumerate(zip(state_transitions, pkas)):\n",
        "        state1 = tr[0]\n",
        "        state2 = tr[1]\n",
        "        n = states[state1][2]\n",
        "        m = states[state2][2]\n",
        "        if Chem.GetFormalCharge(tr[2]) > Chem.GetFormalCharge(tr[3]):\n",
        "            A[i+1, state1] =-1\n",
        "            A[i+1, state2] = 1\n",
        "            bsubs[b[i + 1, 0]] = pka - np.log10(n/m) - ph\n",
        "        else:\n",
        "            A[i+1, state1] = 1\n",
        "            A[i+1, state2] = -1\n",
        "            bsubs[b[i + 1, 0]] = pka - np.log10(m/n) - ph\n",
        "    A[0, 0] = 1\n",
        "    m = Matrix(A)\n",
        "    _, inds = m.T.rref()\n",
        "    removed_inds = [x for x in range(len(state_transitions) + 1) if x not in inds]\n",
        "    Ar = A[list(inds)]\n",
        "    Ad = A[list(removed_inds)]\n",
        "    mr = Matrix(Ar)\n",
        "    md = Matrix(Ad)\n",
        "    p = MatrixSymbol('p', len(mols), 1).as_explicit()\n",
        "    b = b.subs(bsubs)\n",
        "    br = MatrixSymbol('br', len(inds), 1).as_explicit()\n",
        "    brsubs = {}\n",
        "    for i, idx in enumerate(inds):\n",
        "        brsubs[br[i, 0]] = b[idx, 0]\n",
        "\n",
        "    br = br.subs(brsubs)\n",
        "    br\n",
        "\n",
        "    sol = mr.solve(br)\n",
        "    print(\n",
        "        \"Recommended pKa values for protonations states, considering all previous \"\n",
        "        + \"input are:\"\n",
        "    )\n",
        "    for i in range(len(mols)):\n",
        "        print(f\"State {i}: pKa = {sol[i,0]}\")"
      ],
      "metadata": {
        "colab": {
          "base_uri": "https://localhost:8080/"
        },
        "id": "FPCRNZxE_EIz",
        "outputId": "8ef86d00-0959-4d2f-a619-2d434d2530fc"
      },
      "execution_count": 42,
      "outputs": [
        {
          "output_type": "stream",
          "name": "stdout",
          "text": [
            "Recommended pKa values for protonations states, considering all previous input are:\n",
            "State 0: pKa = pH\n",
            "State 1: pKa = 2.47712125471966\n",
            "State 2: pKa = 3.47712125471966\n",
            "State 3: pKa = 6.95424250943933 - pH\n"
          ]
        }
      ]
    },
    {
      "cell_type": "code",
      "source": [
        "#@title Topology and structure general behavior\n",
        "#@markdown Do you want us to generate topology and molecule structure with\n",
        "#@markdown Open Force Field? If no, you would need to provide topologies in\n",
        "#@markdown **.itp** format in the following steps.\n",
        "is_generation_needed = True #@param {type:\"boolean\"}\n",
        "ff_to_use = \"openff-2.1.0.offxml\" #@param {type:\"string\"}\n",
        "molecule_name = \"MOL\" #@param {type:\"string\"}\n",
        "_mols = []\n",
        "charges = []\n",
        "if is_generation_needed:\n",
        "    ff = ForceField(ff_to_use)\n",
        "    for _i, m in enumerate(mols):\n",
        "        _m = Molecule.from_rdkit(m)\n",
        "        _m.generate_conformers()\n",
        "        interchange = ff.create_interchange(_m.to_topology())\n",
        "        charges.append(\n",
        "            [a.partial_charge.magnitude for a in interchange.topology.atoms]\n",
        "        )\n",
        "        _mols.append(_m.to_rdkit())\n",
        "        if _i == 0:\n",
        "            interchange.to_gromacs(f\"molecule_{_i}\")\n",
        "        else:\n",
        "            interchange.to_top(f\"molecule_{_i}.top\")\n",
        "\n",
        "_base_mol = _mols[0]\n",
        "charge_table =[charges[0]]\n",
        "\n",
        "def _basic_treatment(\n",
        "        idx: int,\n",
        "        match1_list: list[int],\n",
        "        match2_list: list[int],\n",
        "        charge_list: list[float],\n",
        "    ) -> dict:\n",
        "    \"\"\"\n",
        "    \"\"\"\n",
        "    _tmp = {}\n",
        "    _tmp[0] = []\n",
        "    for i in range(len(charge_table[0])):\n",
        "        if i in match1_list:\n",
        "            _ch_idx = match2_list[match1_list.index(i)]\n",
        "            _tmp[0].append(charge_list[_ch_idx])\n",
        "        else:\n",
        "            _tmp[0].append(0)\n",
        "    return _tmp\n",
        "\n",
        "def _only_mhs_treatment(\n",
        "        idx: int,\n",
        "        match1_list: list[int],\n",
        "        match2_list: list[int],\n",
        "        charge_list: list[float],\n",
        "    ) -> dict:\n",
        "    \"\"\"\n",
        "    \"\"\"\n",
        "    _tmp = {_s: [] for _s in range(states[idx+1][2])}\n",
        "\n",
        "    mhs = states[idx+1][4]\n",
        "    # we search for hydrogens attached to any of mh sites\n",
        "    hs = {}\n",
        "    for i in mhs:\n",
        "        hs[i] = []\n",
        "        _a = _base_mol.GetAtomWithIdx(i)\n",
        "        for _b in _a.GetBonds():\n",
        "            _oi = _b.GetBeginAtomIdx() if _b.GetBeginAtomIdx() != i else _b.GetEndAtomIdx()\n",
        "            if _base_mol.GetAtomWithIdx(_oi).GetSymbol() == \"H\":\n",
        "                hs[i].append(_oi)\n",
        "\n",
        "    # Generate combinations for states\n",
        "    import itertools\n",
        "    mh_nstates = [len(hs[i]) for i in hs]\n",
        "    mh_h_states = list(itertools.product(*[range(x) for x in mh_nstates]))\n",
        "    assert len(mh_h_states) == states[idx+1][2], \"Incorrect number of states\"\n",
        "    def _is_mhh(idx: int) -> int:\n",
        "        \"\"\"\n",
        "        Check if atom is a hydrogen connected to mh atom.\n",
        "        \"\"\"\n",
        "        for _idx in mhs:\n",
        "            if idx in hs[_idx]:\n",
        "                return _idx\n",
        "            else:\n",
        "                continue\n",
        "        return -1\n",
        "\n",
        "    for i in range(len(charge_table[0])):\n",
        "        _mh_idx = _is_mhh(i)\n",
        "        if _mh_idx >= 0:\n",
        "            # We are treating mh hydrogen\n",
        "            # Get hydrogen charges in deprotonated molecule\n",
        "            _ch = []\n",
        "            for _j in hs[_mh_idx]:\n",
        "                if _j in match1_list:\n",
        "                    _ch_idx = match2_list[match1_list.index(_j)]\n",
        "                    _ch.append(charge_list[_ch_idx])\n",
        "            # Check that all charges are identical\n",
        "            for _ch1 in _ch[1:]:\n",
        "                assert np.abs(_ch[0] - _ch1) < 1e-5, \"Multiple hydrogens at the same site are expexted to have similar charges\"\n",
        "            for _idx, _s in enumerate(mh_h_states):\n",
        "                _ha_idx = mhs.index(_mh_idx)\n",
        "                if hs[_mh_idx].index(i) == _s[_ha_idx]:\n",
        "                    _tmp[_idx].append(0)\n",
        "                else:\n",
        "                    _tmp[_idx].append(_ch[0])\n",
        "            continue\n",
        "        if i in match1_list:\n",
        "            # We are treating any other atom\n",
        "            for _s in _tmp:\n",
        "                _ch_idx = match2_list[match1_list.index(i)]\n",
        "                _tmp[_s].append(charge_list[_ch_idx])\n",
        "            continue\n",
        "        # In all other cases we write 0\n",
        "        # It can be a singe hydrogen, for instance of the other site\n",
        "        for _s in _tmp:\n",
        "            _tmp[0].append(0)\n",
        "\n",
        "    return _tmp\n",
        "\n",
        "def _only_sym_treatment(\n",
        "        idx: int,\n",
        "        match1_list: list[int],\n",
        "        match2_list: list[int],\n",
        "        charge_list: list[float],\n",
        "    ) -> dict:\n",
        "    \"\"\"\n",
        "    \"\"\"\n",
        "    _tmp = {_s: [] for _s in range(states[idx+1][2])}\n",
        "\n",
        "    _ss_atoms = states[idx+1][3][0]\n",
        "    _formal_charges = states[idx+1][3][1]\n",
        "    # we generate list of hydrogens connected to symmetrical atoms\n",
        "    hs = {}\n",
        "    for i in _ss_atoms:\n",
        "        hs[i] = []\n",
        "        _a = _base_mol.GetAtomWithIdx(i)\n",
        "        for _b in _a.GetBonds():\n",
        "            _oi = _b.GetBeginAtomIdx() if _b.GetBeginAtomIdx() != i else _b.GetEndAtomIdx()\n",
        "            if _base_mol.GetAtomWithIdx(_oi).GetSymbol() == \"H\":\n",
        "                hs[i].append(_oi)\n",
        "\n",
        "    def _is_ss_h(idx: int) -> int:\n",
        "        \"\"\"\n",
        "        Check if atom is a hydrogen connected to symmetrical atom.\n",
        "        \"\"\"\n",
        "        for _idx in _ss_atoms:\n",
        "            if idx in hs[_idx]:\n",
        "                return _idx\n",
        "            else:\n",
        "                continue\n",
        "        return -1\n",
        "\n",
        "    for i in range(len(charge_table[0])):\n",
        "        _ss_idx = _is_ss_h(i)\n",
        "        if _ss_idx >= 0:\n",
        "            # We are treating ss hydrogen\n",
        "            # hydrogens can only be attached in the protonated state\n",
        "            # We can only have one bond to h atom.\n",
        "            _ch = -100\n",
        "            for _si in symmetrical_sites[_ss_idx]:\n",
        "                if _si in hs:\n",
        "                    _j = hs[_si][0]\n",
        "                else:\n",
        "                    continue\n",
        "                if _j in match1_list:\n",
        "                    _ch_idx = match2_list[match1_list.index(_j)]\n",
        "                    _ch = charge_list[_ch_idx]\n",
        "                    break\n",
        "            assert _ch > -2, \"Charge not found\"\n",
        "            # This is a list of formal charges for the heavy connected to a\n",
        "            # hydrogen of interest\n",
        "            _f_charge_list = [x[_ss_idx] for x in _formal_charges]\n",
        "            _max_formal_charge = np.max(np.array(_f_charge_list))\n",
        "            _min_formal_charge = np.min(np.array(_f_charge_list))\n",
        "            assert all(x in [_max_formal_charge, _min_formal_charge] for x in _f_charge_list), \"Only two formal charges are possible\"\n",
        "\n",
        "            _max_charge = np.max(np.array([_ch, 0]))\n",
        "            _min_charge = np.min(np.array([_ch, 0]))\n",
        "            for _idx, _fc in enumerate(_f_charge_list):\n",
        "                if _fc == _max_formal_charge:\n",
        "                    _tmp[_idx].append(_max_charge)\n",
        "                else:\n",
        "                    _tmp[_idx].append(_min_charge)\n",
        "            continue\n",
        "        if i in match1_list:\n",
        "            # We are treating any other atom\n",
        "            for _s in _tmp:\n",
        "                _ch_idx = match2_list[match1_list.index(i)]\n",
        "                _tmp[_s].append(charge_list[_ch_idx])\n",
        "            continue\n",
        "        # In all other cases we write 0\n",
        "        # It can be a singe hydrogen, for instance of the other site\n",
        "        for _s in _tmp:\n",
        "            _tmp[0].append(0)\n",
        "\n",
        "    return _tmp\n",
        "\n",
        "def _ss_mhs_treatment(\n",
        "        idx: int,\n",
        "        match1_list: list[int],\n",
        "        match2_list: list[int],\n",
        "        charge_list: list[float],\n",
        "    ) -> dict:\n",
        "    \"\"\"\n",
        "    \"\"\"\n",
        "    _tmp = {_s: [] for _s in range(states[idx+1][2])}\n",
        "\n",
        "    _ss_atoms = states[idx+1][3][0]\n",
        "    _formal_charges = states[idx+1][3][1]\n",
        "    # we generate list of hydrogens connected to symmetrical atoms\n",
        "    hs = {}\n",
        "    for i in _ss_atoms:\n",
        "        hs[i] = []\n",
        "        _a = _base_mol.GetAtomWithIdx(i)\n",
        "        for _b in _a.GetBonds():\n",
        "            _oi = _b.GetBeginAtomIdx() if _b.GetBeginAtomIdx() != i else _b.GetEndAtomIdx()\n",
        "            if _base_mol.GetAtomWithIdx(_oi).GetSymbol() == \"H\":\n",
        "                hs[i].append(_oi)\n",
        "    print(hs)\n",
        "\n",
        "    def _is_ss_h(idx: int) -> int:\n",
        "        \"\"\"\n",
        "        Check if atom is a hydrogen connected to symmetrical atom.\n",
        "        \"\"\"\n",
        "        for _idx in _ss_atoms:\n",
        "            if idx in hs[_idx]:\n",
        "                return _idx\n",
        "            else:\n",
        "                continue\n",
        "        return -1\n",
        "\n",
        "    mhs = states[idx+1][4]\n",
        "    # we search for hydrogens attached to any of mh sites\n",
        "    hs_mh = {}\n",
        "    for i in mhs:\n",
        "        _sym_atoms = symmetrical_sites[i]\n",
        "        for j in _sym_atoms:\n",
        "            hs_mh[j] = []\n",
        "            _a = _base_mol.GetAtomWithIdx(j)\n",
        "            for _b in _a.GetBonds():\n",
        "                _oi = _b.GetBeginAtomIdx() if _b.GetBeginAtomIdx() != j else _b.GetEndAtomIdx()\n",
        "                if _base_mol.GetAtomWithIdx(_oi).GetSymbol() == \"H\":\n",
        "                    hs_mh[j].append(_oi)\n",
        "    print(mhs, hs_mh)\n",
        "\n",
        "    def _is_mhh(idx: int) -> int:\n",
        "        \"\"\"\n",
        "        Check if atom is a hydrogen connected to mh atom.\n",
        "        \"\"\"\n",
        "        for _idx in mhs:\n",
        "            if idx in hs_mh[_idx]:\n",
        "                return _idx\n",
        "            else:\n",
        "                continue\n",
        "        return -1\n",
        "\n",
        "    def _is_ss_mh_h(idx: int) -> int:\n",
        "        \"\"\"\n",
        "        Check if atom is a hydrogen connected to a symmetrical and mh atom.\n",
        "        \"\"\"\n",
        "        if _is_mhh(idx) == _is_ss_h(idx):\n",
        "            return _is_mhh(idx)\n",
        "        return -1\n",
        "\n",
        "\n",
        "    # Generate combinations for states\n",
        "    import itertools\n",
        "    mh_nstates = [len(hs_mh[i]) for i in hs_mh]\n",
        "    mh_h_states = list(itertools.product(*[range(x) for x in mh_nstates]))\n",
        "    print(mh_nstates, mh_h_states)\n",
        "    assert len(mh_h_states) == states[idx+1][2], \"Incorrect number of states\"\n",
        "\n",
        "    for i in range(len(charge_table[0])):\n",
        "        _mh_idx = _is_mhh(i)\n",
        "        _ss_idx = _is_ss_h(i)\n",
        "        _ss_mh_idx = _is_ss_mh_h(i)\n",
        "\n",
        "        if _mh_idx >= 0:\n",
        "            # We are treating mh hydrogen\n",
        "            # Get hydrogen charges in deprotonated molecule\n",
        "            _ch = []\n",
        "            for _j in hs_mh[_mh_idx]:\n",
        "                if _j in match1_list:\n",
        "                    _ch_idx = match2_list[match1_list.index(_j)]\n",
        "                    _ch.append(charge_list[_ch_idx])\n",
        "            # Check that all charges are identical\n",
        "            for _ch1 in _ch[1:]:\n",
        "                assert np.abs(_ch[0] - _ch1) < 1e-5, \"Multiple hydrogens at the same site are expexted to have similar charges\"\n",
        "            for _idx, _s in enumerate(mh_h_states):\n",
        "                _ha_idx = mhs.index(_mh_idx)\n",
        "                if hs[_mh_idx].index(i) == _s[_ha_idx]:\n",
        "                    _tmp[_idx].append(0)\n",
        "                else:\n",
        "                    _tmp[_idx].append(_ch[0])\n",
        "            continue\n",
        "        if i in match1_list:\n",
        "            # We are treating any other atom\n",
        "            for _s in _tmp:\n",
        "                _ch_idx = match2_list[match1_list.index(i)]\n",
        "                _tmp[_s].append(charge_list[_ch_idx])\n",
        "            continue\n",
        "        # In all other cases we write 0\n",
        "        # It can be a singe hydrogen, for instance of the other site\n",
        "        for _s in _tmp:\n",
        "            _tmp[0].append(0)\n",
        "\n",
        "    return _tmp\n",
        "_charge_table_basic = [charges[0]]\n",
        "for _i, (_m, _c) in enumerate(zip(_mols[1:], charges[1:])):\n",
        "    mcs = rdFMCS.FindMCS([_base_mol, _m])\n",
        "    mcs_mol = Chem.MolFromSmarts(mcs.smartsString)\n",
        "    match1 = _base_mol.GetSubstructMatch(mcs_mol)\n",
        "    match2 = _m.GetSubstructMatch(mcs_mol)\n",
        "\n",
        "    _tmp_to_cmp = _basic_treatment(_i, match1, match2, _c)\n",
        "    # No symmetry sites and no mhs sites\n",
        "    if states[_i+1][2] == 1:\n",
        "        _tmp = _basic_treatment(_i, match1, match2, _c)\n",
        "    # Only mhs are present\n",
        "    elif not states[_i+1][3]:\n",
        "        _tmp = _only_mhs_treatment(_i, match1, match2, _c)\n",
        "    elif not states[_i+1][4]:\n",
        "        _tmp = _only_sym_treatment(_i, match1, match2, _c)\n",
        "    else:\n",
        "        _tmp = _ss_mhs_treatment(_i, match1, match2, _c)\n",
        "    for x in _tmp:\n",
        "        charge_table.append(_tmp[x])\n",
        "    for x in _tmp_to_cmp:\n",
        "        _charge_table_basic.append(_tmp_to_cmp[x])\n",
        "\"\"\"\n",
        "print(np.array(charge_table).T)\n",
        "assert all(x in charge_table for x in _charge_table_basic), \"All simple charge lists should be in complex\"\n",
        "\"\"\""
      ],
      "metadata": {
        "colab": {
          "base_uri": "https://localhost:8080/",
          "height": 404
        },
        "id": "JsdLCCMpX4LS",
        "outputId": "ac551822-800e-4085-e0aa-014fff52ff13"
      },
      "execution_count": 74,
      "outputs": [
        {
          "output_type": "stream",
          "name": "stdout",
          "text": [
            "{0: [8, 9, 10], 7: [15, 16, 17]}\n",
            "[0] {0: [8, 9, 10], 7: [15, 16, 17]}\n",
            "[3, 3] [(0, 0), (0, 1), (0, 2), (1, 0), (1, 1), (1, 2), (2, 0), (2, 1), (2, 2)]\n"
          ]
        },
        {
          "output_type": "error",
          "ename": "AssertionError",
          "evalue": "Incorrect number of states",
          "traceback": [
            "\u001b[0;31m---------------------------------------------------------------------------\u001b[0m",
            "\u001b[0;31mAssertionError\u001b[0m                            Traceback (most recent call last)",
            "\u001b[0;32m<ipython-input-74-ada1991feb95>\u001b[0m in \u001b[0;36m<cell line: 305>\u001b[0;34m()\u001b[0m\n\u001b[1;32m    319\u001b[0m         \u001b[0m_tmp\u001b[0m \u001b[0;34m=\u001b[0m \u001b[0m_only_sym_treatment\u001b[0m\u001b[0;34m(\u001b[0m\u001b[0m_i\u001b[0m\u001b[0;34m,\u001b[0m \u001b[0mmatch1\u001b[0m\u001b[0;34m,\u001b[0m \u001b[0mmatch2\u001b[0m\u001b[0;34m,\u001b[0m \u001b[0m_c\u001b[0m\u001b[0;34m)\u001b[0m\u001b[0;34m\u001b[0m\u001b[0;34m\u001b[0m\u001b[0m\n\u001b[1;32m    320\u001b[0m     \u001b[0;32melse\u001b[0m\u001b[0;34m:\u001b[0m\u001b[0;34m\u001b[0m\u001b[0;34m\u001b[0m\u001b[0m\n\u001b[0;32m--> 321\u001b[0;31m         \u001b[0m_tmp\u001b[0m \u001b[0;34m=\u001b[0m \u001b[0m_ss_mhs_treatment\u001b[0m\u001b[0;34m(\u001b[0m\u001b[0m_i\u001b[0m\u001b[0;34m,\u001b[0m \u001b[0mmatch1\u001b[0m\u001b[0;34m,\u001b[0m \u001b[0mmatch2\u001b[0m\u001b[0;34m,\u001b[0m \u001b[0m_c\u001b[0m\u001b[0;34m)\u001b[0m\u001b[0;34m\u001b[0m\u001b[0;34m\u001b[0m\u001b[0m\n\u001b[0m\u001b[1;32m    322\u001b[0m     \u001b[0;32mfor\u001b[0m \u001b[0mx\u001b[0m \u001b[0;32min\u001b[0m \u001b[0m_tmp\u001b[0m\u001b[0;34m:\u001b[0m\u001b[0;34m\u001b[0m\u001b[0;34m\u001b[0m\u001b[0m\n\u001b[1;32m    323\u001b[0m         \u001b[0mcharge_table\u001b[0m\u001b[0;34m.\u001b[0m\u001b[0mappend\u001b[0m\u001b[0;34m(\u001b[0m\u001b[0m_tmp\u001b[0m\u001b[0;34m[\u001b[0m\u001b[0mx\u001b[0m\u001b[0;34m]\u001b[0m\u001b[0;34m)\u001b[0m\u001b[0;34m\u001b[0m\u001b[0;34m\u001b[0m\u001b[0m\n",
            "\u001b[0;32m<ipython-input-74-ada1991feb95>\u001b[0m in \u001b[0;36m_ss_mhs_treatment\u001b[0;34m(idx, match1_list, match2_list, charge_list)\u001b[0m\n\u001b[1;32m    265\u001b[0m     \u001b[0mmh_h_states\u001b[0m \u001b[0;34m=\u001b[0m \u001b[0mlist\u001b[0m\u001b[0;34m(\u001b[0m\u001b[0mitertools\u001b[0m\u001b[0;34m.\u001b[0m\u001b[0mproduct\u001b[0m\u001b[0;34m(\u001b[0m\u001b[0;34m*\u001b[0m\u001b[0;34m[\u001b[0m\u001b[0mrange\u001b[0m\u001b[0;34m(\u001b[0m\u001b[0mx\u001b[0m\u001b[0;34m)\u001b[0m \u001b[0;32mfor\u001b[0m \u001b[0mx\u001b[0m \u001b[0;32min\u001b[0m \u001b[0mmh_nstates\u001b[0m\u001b[0;34m]\u001b[0m\u001b[0;34m)\u001b[0m\u001b[0;34m)\u001b[0m\u001b[0;34m\u001b[0m\u001b[0;34m\u001b[0m\u001b[0m\n\u001b[1;32m    266\u001b[0m     \u001b[0mprint\u001b[0m\u001b[0;34m(\u001b[0m\u001b[0mmh_nstates\u001b[0m\u001b[0;34m,\u001b[0m \u001b[0mmh_h_states\u001b[0m\u001b[0;34m)\u001b[0m\u001b[0;34m\u001b[0m\u001b[0;34m\u001b[0m\u001b[0m\n\u001b[0;32m--> 267\u001b[0;31m     \u001b[0;32massert\u001b[0m \u001b[0mlen\u001b[0m\u001b[0;34m(\u001b[0m\u001b[0mmh_h_states\u001b[0m\u001b[0;34m)\u001b[0m \u001b[0;34m==\u001b[0m \u001b[0mstates\u001b[0m\u001b[0;34m[\u001b[0m\u001b[0midx\u001b[0m\u001b[0;34m+\u001b[0m\u001b[0;36m1\u001b[0m\u001b[0;34m]\u001b[0m\u001b[0;34m[\u001b[0m\u001b[0;36m2\u001b[0m\u001b[0;34m]\u001b[0m\u001b[0;34m,\u001b[0m \u001b[0;34m\"Incorrect number of states\"\u001b[0m\u001b[0;34m\u001b[0m\u001b[0;34m\u001b[0m\u001b[0m\n\u001b[0m\u001b[1;32m    268\u001b[0m \u001b[0;34m\u001b[0m\u001b[0m\n\u001b[1;32m    269\u001b[0m     \u001b[0;32mfor\u001b[0m \u001b[0mi\u001b[0m \u001b[0;32min\u001b[0m \u001b[0mrange\u001b[0m\u001b[0;34m(\u001b[0m\u001b[0mlen\u001b[0m\u001b[0;34m(\u001b[0m\u001b[0mcharge_table\u001b[0m\u001b[0;34m[\u001b[0m\u001b[0;36m0\u001b[0m\u001b[0;34m]\u001b[0m\u001b[0;34m)\u001b[0m\u001b[0;34m)\u001b[0m\u001b[0;34m:\u001b[0m\u001b[0;34m\u001b[0m\u001b[0;34m\u001b[0m\u001b[0m\n",
            "\u001b[0;31mAssertionError\u001b[0m: Incorrect number of states"
          ]
        }
      ]
    },
    {
      "cell_type": "code",
      "source": [
        "states"
      ],
      "metadata": {
        "colab": {
          "base_uri": "https://localhost:8080/"
        },
        "id": "Nb6wjPSEYBfR",
        "outputId": "f5216ac7-8619-4069-db0c-1ae0ad851230"
      },
      "execution_count": 59,
      "outputs": [
        {
          "output_type": "execute_result",
          "data": {
            "text/plain": [
              "{0: (<rdkit.Chem.rdchem.Mol at 0x7c84789031b0>, 1, 1, None, []),\n",
              " 1: (<rdkit.Chem.rdchem.Mol at 0x7c8478903060>,\n",
              "  2,\n",
              "  6,\n",
              "  ([0, 7], [[0, 0, 0, 0, 0, 0, 0, 1], [1, 0, 0, 0, 0, 0, 0, 0]]),\n",
              "  [0]),\n",
              " 2: (<rdkit.Chem.rdchem.Mol at 0x7c84789030d0>, 1, 9, None, [0, 7])}"
            ]
          },
          "metadata": {},
          "execution_count": 59
        }
      ]
    },
    {
      "cell_type": "code",
      "source": [
        "# We need to transform top to itp and also for the future\n",
        "# needs we need the functionality for parsing atoms and\n",
        "# bonds sections. This will allow us to generate molecular\n",
        "# graphs, which in turn, will allow us to compare molecules\n",
        "# and prepare data for constant pH.\n",
        "\"\"\"\n",
        "We need to support two types of behaviour:\n",
        "1. Easy case\n",
        "    We generate molecule our selves with OpenFF.\n",
        "    In this case we actually know what is the order atoms in\n",
        "    all protonation states and we can easily do matching.\n",
        "    We also know what to do with all possible states -\n",
        "    symmetrical and with multiple hydrogens. From created\n",
        "    interchanges and topology files we can get all the\n",
        "    partial charges and then using rdkit and we can generate\n",
        "    correct charge lists.\n",
        "    We start by implementing this.\n",
        "2. More complex case\n",
        "    The topologies are provided by the user. In this case\n",
        "    we:\n",
        "        (i) expect that the user will provide us not only\n",
        "            with the topologies, but also with structures\n",
        "            for all states\n",
        "        (ii) don't expect that the order of atoms is the\n",
        "            same as in RdKit.\n",
        "    We will reconstruct the order based on rdkit functionality\n",
        "    https://greglandrum.github.io/rdkit-blog/posts/2022-12-18-introducing-rdDetermineBonds.html\n",
        "\n",
        "    NOTE: in principal, the first case can also be treated\n",
        "    as the second. But we will add it later.\n",
        "In general, we need to read top/itp files (for now we always\n",
        "expect [ atoms ] section to be present) and assign charges\n",
        "in the order of mols[0]. For each state we additionally\n",
        "treap symmetrical states and multi-H states. Then we change\n",
        "the order according to the order in the first file.\n",
        "\"\"\"\n",
        "class GMX_topology:\n",
        "    \"\"\"\n",
        "    Reads gromacs topology file and parses some of the sections.\n",
        "\n",
        "    Parameters\n",
        "    ----------\n",
        "    gmx_top: str\n",
        "        GROMACS topology file\n",
        "\n",
        "    Attributes\n",
        "    ----------\n",
        "    blocks: Dict[str, str]\n",
        "        Dictionary of blocks available in the topology file\n",
        "    atoms: list\n",
        "\n",
        "    Methods\n",
        "    -------\n",
        "    parse_atoms()\n",
        "        Parse atom section if present. Generates at\n",
        "    parse_atomtypes()\n",
        "        Parse atomtypes section if present.\n",
        "    parse_bonds()\n",
        "        Parse bonds.\n",
        "\n",
        "\n",
        "    \"\"\"\n",
        "    def __init__(self, gmx_top):\n",
        "        self.blocks = {}\n",
        "        with open(gmx_top, \"r\") as top:\n",
        "            section = None\n",
        "            tmp = []\n",
        "            for line in top:\n",
        "                if line.strip().startswith(\"[\"):\n",
        "                    if section:\n",
        "                        if section in self.blocks:\n",
        "                            self.blocks[section] += [tmp]\n",
        "                        else:\n",
        "                            self.blocks[section] = [tmp]\n",
        "                    else:\n",
        "                        self.blocks[\"header\"] = [tmp]\n",
        "                    section = line.strip()[1:-1].strip()\n",
        "                    tmp = []\n",
        "                else:\n",
        "                    tmp += [line]\n",
        "            if section in self.blocks:\n",
        "                self.blocks[section] += [tmp]\n",
        "            else:\n",
        "                self.blocks[section] = [tmp]\n",
        "\n",
        "    def parse_atoms(self):\n",
        "        \"\"\"\n",
        "        Parse atoms block. As a result, creates atoms attribute, where for each\n",
        "        atom in the provided topology atomtype and index are stored\n",
        "        \"\"\"\n",
        "        if \"atoms\" not in self.blocks:\n",
        "            self.atoms = []\n",
        "        else:\n",
        "            self.atoms = []\n",
        "            for section in self.blocks[\"atoms\"]:\n",
        "                for line in section:\n",
        "                    # Skip non-informative lines\n",
        "                    if line.strip().startswith(\";\"):\n",
        "                        continue\n",
        "                    if line.strip().startswith(\"#\"):\n",
        "                        continue\n",
        "                    if not line.strip():\n",
        "                        continue\n",
        "                    self.atoms.append(\n",
        "                        (\n",
        "                            int(line.split()[0]) - 1,\n",
        "                            line.split()[1],\n",
        "                        )\n",
        "                    )\n",
        "\n",
        "    def parse_dihedrals(self):\n",
        "        \"\"\"\n",
        "        Parse dihedral section of the topology. Only dihdrals of type 1 and 9\n",
        "        with explicitly provided parameters are taken into account.\n",
        "        \"\"\"\n",
        "        if \"dihedrals\" not in self.blocks:\n",
        "            self.dihedrals = []\n",
        "        else:\n",
        "            self.dihedrals = []\n",
        "            for section in self.blocks[\"dihedrals\"]:\n",
        "                for line in section:\n",
        "                    # Skip non-informative lines\n",
        "                    if line.strip().startswith(\";\"):\n",
        "                        continue\n",
        "                    if line.strip().startswith(\"#\"):\n",
        "                        continue\n",
        "                    if not line.strip():\n",
        "                        continue\n",
        "                    if int(line.split()[4]) not in [1, 9]:\n",
        "                        continue\n",
        "                    if len(line.split()) < 8:\n",
        "                        continue\n",
        "                    self.dihedrals.append(\n",
        "                        (\n",
        "                            int(line.split()[0])-1,\n",
        "                            int(line.split()[1])-1,\n",
        "                            int(line.split()[2])-1,\n",
        "                            int(line.split()[3])-1,\n",
        "                            line\n",
        "                        )\n",
        "                    )\n",
        "\n",
        "    def parse_dihedraltypes(self):\n",
        "        \"\"\"\n",
        "        Parse dihedraltypes section in the topology if present. Creates\n",
        "        dihedraltypes attribute, where types and of 4 atoms are provided\n",
        "        and also the corresponding dihedral string (to ease the search in\n",
        "        topology file). All imporpers and Fourier dihedrals are for now\n",
        "        excluded. Thus, only type 1 and 9 are supported.\n",
        "        https://manual.gromacs.org/current/reference-manual/topologies/topology-file-formats.html\n",
        "\n",
        "        NOTE: We also should somehow iterate through difened torsions if they\n",
        "        are present.\n",
        "        \"\"\"\n",
        "        if \"dihedraltypes\" not in self.blocks:\n",
        "            self.dihedraltypes = []\n",
        "        else:\n",
        "            self.dihedraltypes = []\n",
        "            for section in self.blocks[\"dihedraltypes\"]:\n",
        "                for line in section:\n",
        "                    # Skip non-informative lines\n",
        "                    if line.strip().startswith(\";\"):\n",
        "                        continue\n",
        "                    if line.strip().startswith(\"#\"):\n",
        "                        continue\n",
        "                    if not line.strip():\n",
        "                        continue\n",
        "                    if int(line.split()[4]) not in [1, 9]:\n",
        "                        continue\n",
        "                    self.dihedraltypes.append(\n",
        "                        (\n",
        "                            line.split()[0],\n",
        "                            line.split()[1],\n",
        "                            line.split()[2],\n",
        "                            line.split()[3],\n",
        "                            line[:(line.rfind(line.split()[3]) + len(line.split()[3]))].strip()\n",
        "                        )\n",
        "                    )"
      ],
      "metadata": {
        "id": "h-x0GMr6xMgS"
      },
      "execution_count": null,
      "outputs": []
    },
    {
      "cell_type": "code",
      "source": [
        "#@title Provide topologies data\n",
        "#@markdown If parameterisation is needed, all included molecules will be\n",
        "#@markdown parameterized with open force field. If not, for all\n",
        "is_parameterisation_needed = True #@param {type:\"boolean\"}\n",
        "included_mols = [m for m,i in zip(mols, incl) if i]\n",
        "included_svgs = [s for s,i in zip(svgs, incl) if i]\n",
        "for i, s in enumerate(included_svgs):\n",
        "    print(f\"This is Molecule {i}\")\n",
        "    display(SVG(svgs[i]))\n",
        "\n",
        "parameters_for_molecule_0 = \"\" #@param {type:\"string\"}\n",
        "parameters_for_molecule_1 = \"\" #@param {type:\"string\"}\n",
        "parameters_for_molecule_2 = \"\" #@param {type:\"string\"}\n",
        "parameters_for_molecule_3 = \"\" #@param {type:\"string\"}\n",
        "parameters_for_molecule_4 = \"\" #@param {type:\"string\"}"
      ],
      "metadata": {
        "colab": {
          "base_uri": "https://localhost:8080/",
          "height": 464
        },
        "id": "dugAhjr3ex7W",
        "outputId": "cd8a07b4-a286-4dc3-bcf1-da5ee3de28a3"
      },
      "execution_count": null,
      "outputs": [
        {
          "output_type": "stream",
          "name": "stdout",
          "text": [
            "This is Molecule 0\n"
          ]
        },
        {
          "output_type": "display_data",
          "data": {
            "text/plain": [
              "<IPython.core.display.SVG object>"
            ],
            "image/svg+xml": "<svg xmlns=\"http://www.w3.org/2000/svg\" xmlns:rdkit=\"http://www.rdkit.org/xml\" xmlns:xlink=\"http://www.w3.org/1999/xlink\" version=\"1.1\" baseProfile=\"full\" xml:space=\"preserve\" width=\"250px\" height=\"200px\" viewBox=\"0 0 250 200\">\n<!-- END OF HEADER -->\n<rect style=\"opacity:1.0;fill:#FFFFFF;stroke:none\" width=\"250.0\" height=\"200.0\" x=\"0.0\" y=\"0.0\"> </rect>\n<path class=\"bond-0 atom-0 atom-1\" d=\"M 166.3,106.4 L 142.2,99.2\" style=\"fill:none;fill-rule:evenodd;stroke:#0000FF;stroke-width:2.0px;stroke-linecap:butt;stroke-linejoin:miter;stroke-opacity:1\"/>\n<path class=\"bond-0 atom-0 atom-1\" d=\"M 142.2,99.2 L 118.2,92.1\" style=\"fill:none;fill-rule:evenodd;stroke:#000000;stroke-width:2.0px;stroke-linecap:butt;stroke-linejoin:miter;stroke-opacity:1\"/>\n<path class=\"bond-1 atom-1 atom-2\" d=\"M 123.0,93.5 L 117.2,69.0\" style=\"fill:none;fill-rule:evenodd;stroke:#000000;stroke-width:2.0px;stroke-linecap:butt;stroke-linejoin:miter;stroke-opacity:1\"/>\n<path class=\"bond-1 atom-1 atom-2\" d=\"M 117.2,69.0 L 111.3,44.4\" style=\"fill:none;fill-rule:evenodd;stroke:#FF0000;stroke-width:2.0px;stroke-linecap:butt;stroke-linejoin:miter;stroke-opacity:1\"/>\n<path class=\"bond-1 atom-1 atom-2\" d=\"M 114.5,95.6 L 108.6,71.0\" style=\"fill:none;fill-rule:evenodd;stroke:#000000;stroke-width:2.0px;stroke-linecap:butt;stroke-linejoin:miter;stroke-opacity:1\"/>\n<path class=\"bond-1 atom-1 atom-2\" d=\"M 108.6,71.0 L 102.7,46.5\" style=\"fill:none;fill-rule:evenodd;stroke:#FF0000;stroke-width:2.0px;stroke-linecap:butt;stroke-linejoin:miter;stroke-opacity:1\"/>\n<path class=\"bond-2 atom-1 atom-3\" d=\"M 118.2,92.1 L 101.6,107.8\" style=\"fill:none;fill-rule:evenodd;stroke:#000000;stroke-width:2.0px;stroke-linecap:butt;stroke-linejoin:miter;stroke-opacity:1\"/>\n<path class=\"bond-2 atom-1 atom-3\" d=\"M 101.6,107.8 L 85.0,123.5\" style=\"fill:none;fill-rule:evenodd;stroke:#FF0000;stroke-width:2.0px;stroke-linecap:butt;stroke-linejoin:miter;stroke-opacity:1\"/>\n<path class=\"bond-3 atom-0 atom-4\" d=\"M 182.8,111.3 L 202.7,117.2\" style=\"fill:none;fill-rule:evenodd;stroke:#0000FF;stroke-width:2.0px;stroke-linecap:butt;stroke-linejoin:miter;stroke-opacity:1\"/>\n<path class=\"bond-3 atom-0 atom-4\" d=\"M 202.7,117.2 L 222.5,123.1\" style=\"fill:none;fill-rule:evenodd;stroke:#000000;stroke-width:2.0px;stroke-linecap:butt;stroke-linejoin:miter;stroke-opacity:1\"/>\n<path class=\"bond-4 atom-0 atom-5\" d=\"M 171.5,119.1 L 166.2,137.1\" style=\"fill:none;fill-rule:evenodd;stroke:#0000FF;stroke-width:2.0px;stroke-linecap:butt;stroke-linejoin:miter;stroke-opacity:1\"/>\n<path class=\"bond-4 atom-0 atom-5\" d=\"M 166.2,137.1 L 160.9,155.0\" style=\"fill:none;fill-rule:evenodd;stroke:#000000;stroke-width:2.0px;stroke-linecap:butt;stroke-linejoin:miter;stroke-opacity:1\"/>\n<path class=\"bond-5 atom-0 atom-6\" d=\"M 177.6,98.6 L 183.0,80.6\" style=\"fill:none;fill-rule:evenodd;stroke:#0000FF;stroke-width:2.0px;stroke-linecap:butt;stroke-linejoin:miter;stroke-opacity:1\"/>\n<path class=\"bond-5 atom-0 atom-6\" d=\"M 183.0,80.6 L 188.3,62.7\" style=\"fill:none;fill-rule:evenodd;stroke:#000000;stroke-width:2.0px;stroke-linecap:butt;stroke-linejoin:miter;stroke-opacity:1\"/>\n<path class=\"bond-6 atom-3 atom-7\" d=\"M 65.8,129.7 L 46.7,124.0\" style=\"fill:none;fill-rule:evenodd;stroke:#FF0000;stroke-width:2.0px;stroke-linecap:butt;stroke-linejoin:miter;stroke-opacity:1\"/>\n<path class=\"bond-6 atom-3 atom-7\" d=\"M 46.7,124.0 L 27.5,118.3\" style=\"fill:none;fill-rule:evenodd;stroke:#000000;stroke-width:2.0px;stroke-linecap:butt;stroke-linejoin:miter;stroke-opacity:1\"/>\n<path d=\"M 119.4,92.4 L 118.2,92.1 L 117.3,92.9\" style=\"fill:none;stroke:#000000;stroke-width:2.0px;stroke-linecap:butt;stroke-linejoin:miter;stroke-opacity:1;\"/>\n<path class=\"atom-0\" d=\"M 170.9 100.5 L 176.3 109.3 Q 176.9 110.2, 177.8 111.8 Q 178.6 113.4, 178.7 113.5 L 178.7 100.5 L 180.9 100.5 L 180.9 117.2 L 178.6 117.2 L 172.7 107.5 Q 172.1 106.4, 171.3 105.1 Q 170.6 103.8, 170.4 103.4 L 170.4 117.2 L 168.2 117.2 L 168.2 100.5 L 170.9 100.5 \" fill=\"#0000FF\"/>\n<path class=\"atom-0\" d=\"M 184.0 103.5 L 187.0 103.5 L 187.0 100.4 L 188.3 100.4 L 188.3 103.5 L 191.3 103.5 L 191.3 104.6 L 188.3 104.6 L 188.3 107.7 L 187.0 107.7 L 187.0 104.6 L 184.0 104.6 L 184.0 103.5 \" fill=\"#0000FF\"/>\n<path class=\"atom-2\" d=\"M 96.8 34.9 Q 96.8 30.9, 98.8 28.6 Q 100.8 26.4, 104.5 26.4 Q 108.2 26.4, 110.2 28.6 Q 112.1 30.9, 112.1 34.9 Q 112.1 38.9, 110.1 41.2 Q 108.1 43.5, 104.5 43.5 Q 100.8 43.5, 98.8 41.2 Q 96.8 39.0, 96.8 34.9 M 104.5 41.6 Q 107.0 41.6, 108.4 39.9 Q 109.8 38.2, 109.8 34.9 Q 109.8 31.6, 108.4 30.0 Q 107.0 28.3, 104.5 28.3 Q 101.9 28.3, 100.5 29.9 Q 99.2 31.6, 99.2 34.9 Q 99.2 38.3, 100.5 39.9 Q 101.9 41.6, 104.5 41.6 \" fill=\"#FF0000\"/>\n<path class=\"atom-3\" d=\"M 67.8 132.6 Q 67.8 128.6, 69.8 126.4 Q 71.7 124.1, 75.4 124.1 Q 79.1 124.1, 81.1 126.4 Q 83.1 128.6, 83.1 132.6 Q 83.1 136.6, 81.1 138.9 Q 79.1 141.2, 75.4 141.2 Q 71.8 141.2, 69.8 138.9 Q 67.8 136.7, 67.8 132.6 M 75.4 139.3 Q 78.0 139.3, 79.3 137.6 Q 80.7 135.9, 80.7 132.6 Q 80.7 129.3, 79.3 127.7 Q 78.0 126.0, 75.4 126.0 Q 72.9 126.0, 71.5 127.6 Q 70.1 129.3, 70.1 132.6 Q 70.1 136.0, 71.5 137.6 Q 72.9 139.3, 75.4 139.3 \" fill=\"#FF0000\"/>\n<path class=\"atom-4\" d=\"M 224.5 117.3 L 226.7 117.3 L 226.7 124.4 L 235.2 124.4 L 235.2 117.3 L 237.5 117.3 L 237.5 134.0 L 235.2 134.0 L 235.2 126.3 L 226.7 126.3 L 226.7 134.0 L 224.5 134.0 L 224.5 117.3 \" fill=\"#000000\"/>\n<path class=\"atom-5\" d=\"M 151.3 156.9 L 153.5 156.9 L 153.5 164.0 L 162.1 164.0 L 162.1 156.9 L 164.3 156.9 L 164.3 173.6 L 162.1 173.6 L 162.1 165.9 L 153.5 165.9 L 153.5 173.6 L 151.3 173.6 L 151.3 156.9 \" fill=\"#000000\"/>\n<path class=\"atom-6\" d=\"M 184.8 44.1 L 187.1 44.1 L 187.1 51.2 L 195.6 51.2 L 195.6 44.1 L 197.9 44.1 L 197.9 60.8 L 195.6 60.8 L 195.6 53.1 L 187.1 53.1 L 187.1 60.8 L 184.8 60.8 L 184.8 44.1 \" fill=\"#000000\"/>\n<path class=\"atom-7\" d=\"M 12.5 107.4 L 14.8 107.4 L 14.8 114.5 L 23.3 114.5 L 23.3 107.4 L 25.5 107.4 L 25.5 124.1 L 23.3 124.1 L 23.3 116.4 L 14.8 116.4 L 14.8 124.1 L 12.5 124.1 L 12.5 107.4 \" fill=\"#000000\"/>\n</svg>"
          },
          "metadata": {}
        },
        {
          "output_type": "stream",
          "name": "stdout",
          "text": [
            "This is Molecule 1\n"
          ]
        },
        {
          "output_type": "display_data",
          "data": {
            "text/plain": [
              "<IPython.core.display.SVG object>"
            ],
            "image/svg+xml": "<svg xmlns=\"http://www.w3.org/2000/svg\" xmlns:rdkit=\"http://www.rdkit.org/xml\" xmlns:xlink=\"http://www.w3.org/1999/xlink\" version=\"1.1\" baseProfile=\"full\" xml:space=\"preserve\" width=\"250px\" height=\"200px\" viewBox=\"0 0 250 200\">\n<!-- END OF HEADER -->\n<rect style=\"opacity:1.0;fill:#FFFFFF;stroke:none\" width=\"250.0\" height=\"200.0\" x=\"0.0\" y=\"0.0\"> </rect>\n<path class=\"bond-0 atom-0 atom-1\" d=\"M 134.4,100.0 L 100.5,100.0\" style=\"fill:none;fill-rule:evenodd;stroke:#0000FF;stroke-width:2.0px;stroke-linecap:butt;stroke-linejoin:miter;stroke-opacity:1\"/>\n<path class=\"bond-0 atom-0 atom-1\" d=\"M 100.5,100.0 L 66.6,100.0\" style=\"fill:none;fill-rule:evenodd;stroke:#000000;stroke-width:2.0px;stroke-linecap:butt;stroke-linejoin:miter;stroke-opacity:1\"/>\n<path class=\"bond-1 atom-1 atom-2\" d=\"M 73.5,100.0 L 57.0,71.5\" style=\"fill:none;fill-rule:evenodd;stroke:#000000;stroke-width:2.0px;stroke-linecap:butt;stroke-linejoin:miter;stroke-opacity:1\"/>\n<path class=\"bond-1 atom-1 atom-2\" d=\"M 57.0,71.5 L 40.6,43.0\" style=\"fill:none;fill-rule:evenodd;stroke:#FF0000;stroke-width:2.0px;stroke-linecap:butt;stroke-linejoin:miter;stroke-opacity:1\"/>\n<path class=\"bond-1 atom-1 atom-2\" d=\"M 63.2,105.9 L 46.8,77.4\" style=\"fill:none;fill-rule:evenodd;stroke:#000000;stroke-width:2.0px;stroke-linecap:butt;stroke-linejoin:miter;stroke-opacity:1\"/>\n<path class=\"bond-1 atom-1 atom-2\" d=\"M 46.8,77.4 L 30.3,48.9\" style=\"fill:none;fill-rule:evenodd;stroke:#FF0000;stroke-width:2.0px;stroke-linecap:butt;stroke-linejoin:miter;stroke-opacity:1\"/>\n<path class=\"bond-2 atom-1 atom-3\" d=\"M 66.6,100.0 L 50.9,127.2\" style=\"fill:none;fill-rule:evenodd;stroke:#000000;stroke-width:2.0px;stroke-linecap:butt;stroke-linejoin:miter;stroke-opacity:1\"/>\n<path class=\"bond-2 atom-1 atom-3\" d=\"M 50.9,127.2 L 35.2,154.4\" style=\"fill:none;fill-rule:evenodd;stroke:#FF0000;stroke-width:2.0px;stroke-linecap:butt;stroke-linejoin:miter;stroke-opacity:1\"/>\n<path class=\"bond-3 atom-0 atom-4\" d=\"M 170.5,100.0 L 191.7,100.0\" style=\"fill:none;fill-rule:evenodd;stroke:#0000FF;stroke-width:2.0px;stroke-linecap:butt;stroke-linejoin:miter;stroke-opacity:1\"/>\n<path class=\"bond-3 atom-0 atom-4\" d=\"M 191.7,100.0 L 213.0,100.0\" style=\"fill:none;fill-rule:evenodd;stroke:#000000;stroke-width:2.0px;stroke-linecap:butt;stroke-linejoin:miter;stroke-opacity:1\"/>\n<path class=\"bond-4 atom-0 atom-5\" d=\"M 145.5,113.8 L 145.5,139.4\" style=\"fill:none;fill-rule:evenodd;stroke:#0000FF;stroke-width:2.0px;stroke-linecap:butt;stroke-linejoin:miter;stroke-opacity:1\"/>\n<path class=\"bond-4 atom-0 atom-5\" d=\"M 145.5,139.4 L 145.5,165.1\" style=\"fill:none;fill-rule:evenodd;stroke:#000000;stroke-width:2.0px;stroke-linecap:butt;stroke-linejoin:miter;stroke-opacity:1\"/>\n<path class=\"bond-5 atom-0 atom-6\" d=\"M 145.5,86.2 L 145.5,60.6\" style=\"fill:none;fill-rule:evenodd;stroke:#0000FF;stroke-width:2.0px;stroke-linecap:butt;stroke-linejoin:miter;stroke-opacity:1\"/>\n<path class=\"bond-5 atom-0 atom-6\" d=\"M 145.5,60.6 L 145.5,34.9\" style=\"fill:none;fill-rule:evenodd;stroke:#000000;stroke-width:2.0px;stroke-linecap:butt;stroke-linejoin:miter;stroke-opacity:1\"/>\n<path d=\"M 68.3,100.0 L 66.6,100.0 L 65.8,101.4\" style=\"fill:none;stroke:#000000;stroke-width:2.0px;stroke-linecap:butt;stroke-linejoin:miter;stroke-opacity:1;\"/>\n<path class=\"atom-0\" d=\"M 140.5 88.8 L 147.8 100.7 Q 148.6 101.8, 149.7 103.9 Q 150.9 106.1, 151.0 106.2 L 151.0 88.8 L 153.9 88.8 L 153.9 111.2 L 150.9 111.2 L 143.0 98.2 Q 142.1 96.7, 141.1 95.0 Q 140.2 93.3, 139.9 92.7 L 139.9 111.2 L 137.0 111.2 L 137.0 88.8 L 140.5 88.8 \" fill=\"#0000FF\"/>\n<path class=\"atom-0\" d=\"M 158.1 92.9 L 162.1 92.9 L 162.1 88.7 L 163.8 88.7 L 163.8 92.9 L 167.9 92.9 L 167.9 94.4 L 163.8 94.4 L 163.8 98.5 L 162.1 98.5 L 162.1 94.4 L 158.1 94.4 L 158.1 92.9 \" fill=\"#0000FF\"/>\n<path class=\"atom-2\" d=\"M 17.0 31.8 Q 17.0 26.4, 19.6 23.4 Q 22.3 20.4, 27.2 20.4 Q 32.2 20.4, 34.8 23.4 Q 37.5 26.4, 37.5 31.8 Q 37.5 37.2, 34.8 40.3 Q 32.1 43.4, 27.2 43.4 Q 22.3 43.4, 19.6 40.3 Q 17.0 37.2, 17.0 31.8 M 27.2 40.8 Q 30.6 40.8, 32.4 38.6 Q 34.3 36.3, 34.3 31.8 Q 34.3 27.4, 32.4 25.2 Q 30.6 23.0, 27.2 23.0 Q 23.8 23.0, 21.9 25.2 Q 20.1 27.4, 20.1 31.8 Q 20.1 36.3, 21.9 38.6 Q 23.8 40.8, 27.2 40.8 \" fill=\"#FF0000\"/>\n<path class=\"atom-3\" d=\"M 17.0 168.3 Q 17.0 163.0, 19.6 160.0 Q 22.3 157.0, 27.2 157.0 Q 32.2 157.0, 34.8 160.0 Q 37.5 163.0, 37.5 168.3 Q 37.5 173.8, 34.8 176.9 Q 32.1 179.9, 27.2 179.9 Q 22.3 179.9, 19.6 176.9 Q 17.0 173.8, 17.0 168.3 M 27.2 177.4 Q 30.6 177.4, 32.4 175.1 Q 34.3 172.8, 34.3 168.3 Q 34.3 164.0, 32.4 161.7 Q 30.6 159.5, 27.2 159.5 Q 23.8 159.5, 21.9 161.7 Q 20.1 163.9, 20.1 168.3 Q 20.1 172.8, 21.9 175.1 Q 23.8 177.4, 27.2 177.4 \" fill=\"#FF0000\"/>\n<path class=\"atom-3\" d=\"M 40.6 160.6 L 48.3 160.6 L 48.3 162.3 L 40.6 162.3 L 40.6 160.6 \" fill=\"#FF0000\"/>\n<path class=\"atom-4\" d=\"M 215.6 88.8 L 218.6 88.8 L 218.6 98.3 L 230.0 98.3 L 230.0 88.8 L 233.0 88.8 L 233.0 111.2 L 230.0 111.2 L 230.0 100.9 L 218.6 100.9 L 218.6 111.2 L 215.6 111.2 L 215.6 88.8 \" fill=\"#000000\"/>\n<path class=\"atom-5\" d=\"M 136.7 167.7 L 139.8 167.7 L 139.8 177.2 L 151.2 177.2 L 151.2 167.7 L 154.2 167.7 L 154.2 190.0 L 151.2 190.0 L 151.2 179.7 L 139.8 179.7 L 139.8 190.0 L 136.7 190.0 L 136.7 167.7 \" fill=\"#000000\"/>\n<path class=\"atom-6\" d=\"M 136.7 10.0 L 139.8 10.0 L 139.8 19.5 L 151.2 19.5 L 151.2 10.0 L 154.2 10.0 L 154.2 32.3 L 151.2 32.3 L 151.2 22.0 L 139.8 22.0 L 139.8 32.3 L 136.7 32.3 L 136.7 10.0 \" fill=\"#000000\"/>\n</svg>"
          },
          "metadata": {}
        }
      ]
    },
    {
      "cell_type": "code",
      "source": [
        "from openff.interchange import Interchange"
      ],
      "metadata": {
        "id": "5-2RAwueN0DQ"
      },
      "execution_count": null,
      "outputs": []
    },
    {
      "cell_type": "code",
      "source": [
        "inter = Interchange.from_smirnoff(force_field=ff, topology=top)"
      ],
      "metadata": {
        "id": "jarT_qXWN76B"
      },
      "execution_count": null,
      "outputs": []
    },
    {
      "cell_type": "code",
      "source": [
        "inter.to_top(\"test.top\")"
      ],
      "metadata": {
        "id": "3lfNtlY_Oq6T"
      },
      "execution_count": null,
      "outputs": []
    },
    {
      "cell_type": "code",
      "source": [],
      "metadata": {
        "id": "61TBk7goN61o"
      },
      "execution_count": null,
      "outputs": []
    },
    {
      "cell_type": "code",
      "source": [],
      "metadata": {
        "id": "4PyU1Va5MXJK"
      },
      "execution_count": null,
      "outputs": []
    }
  ]
}