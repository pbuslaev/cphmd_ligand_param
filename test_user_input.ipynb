{
  "nbformat": 4,
  "nbformat_minor": 0,
  "metadata": {
    "colab": {
      "provenance": [],
      "include_colab_link": true
    },
    "kernelspec": {
      "name": "python3",
      "display_name": "Python 3"
    },
    "language_info": {
      "name": "python"
    }
  },
  "cells": [
    {
      "cell_type": "markdown",
      "metadata": {
        "id": "view-in-github",
        "colab_type": "text"
      },
      "source": [
        "<a href=\"https://colab.research.google.com/github/pbuslaev/test_ipynb/blob/main/test_user_input.ipynb\" target=\"_parent\"><img src=\"https://colab.research.google.com/assets/colab-badge.svg\" alt=\"Open In Colab\"/></a>"
      ]
    },
    {
      "cell_type": "markdown",
      "metadata": {
        "id": "06409e3b"
      },
      "source": [
        "### This notebook has to be run on Google colab"
      ]
    },
    {
      "cell_type": "markdown",
      "metadata": {
        "id": "8818275f"
      },
      "source": [
        "<a target=\"_blank\" href=\"https://colab.research.google.com/github/pbuslaev/test_ipynb/blob/main/test_user_input.ipynb\">\n",
        "  <img src=\"https://colab.research.google.com/assets/colab-badge.svg\" alt=\"Open In Colab\"/>\n",
        "</a>"
      ]
    },
    {
      "cell_type": "code",
      "execution_count": 1,
      "metadata": {
        "id": "tXHVawUbd_yp",
        "cellView": "form"
      },
      "outputs": [],
      "source": [
        "#@title Conda installation\n",
        "%%capture\n",
        "!pip install -q condacolab\n",
        "import condacolab\n",
        "condacolab.install()"
      ]
    },
    {
      "cell_type": "code",
      "source": [
        "#@title Intall packages\n",
        "%%capture\n",
        "!pip install dimorphite_dl --upgrade\n",
        "!mamba install -c conda-forge rdkit sympy openff-toolkit"
      ],
      "metadata": {
        "id": "HApR6x6ptwjO",
        "cellView": "form"
      },
      "execution_count": 1,
      "outputs": []
    },
    {
      "cell_type": "code",
      "source": [
        "#@title Import packages\n",
        "from rdkit import Chem\n",
        "from rdkit.Chem import AllChem\n",
        "from rdkit.Chem import Draw\n",
        "from rdkit.Chem.Draw import rdMolDraw2D\n",
        "from rdkit.Chem.Draw import IPythonConsole\n",
        "IPythonConsole.molSize = 300,300\n",
        "from IPython.display import SVG\n",
        "from dimorphite_dl import DimorphiteDL\n",
        "\n",
        "from openff.toolkit import Molecule, Topology, ForceField\n",
        "\n",
        "from IPython.display import HTML, display\n",
        "\n",
        "def set_css():\n",
        "  display(HTML('''\n",
        "  <style>\n",
        "    pre {\n",
        "        white-space: pre-wrap;\n",
        "    }\n",
        "  </style>\n",
        "  '''))\n",
        "  get_ipython().events.register('pre_run_cell', set_css)"
      ],
      "metadata": {
        "id": "9F1Rak-meOlC",
        "cellView": "form"
      },
      "execution_count": 2,
      "outputs": []
    },
    {
      "cell_type": "code",
      "source": [
        "#@title Input molecule\n",
        "#@markdown Please provide molecule SMILES. We will generate its protonation\n",
        "#@markdown states. Also, specify pH range for which to create states.\n",
        "# As a two state example we will use SM-26 from SAMP7 challenge\n",
        "# (https://github.com/samplchallenges/SAMPL7/tree/master/physical_property)\n",
        "# SMILES: O=S(CCC1=CC=CC=C1)(NC(C)=O)=O\n",
        "# pKa = 4.91\n",
        "# (https://github.com/samplchallenges/SAMPL7/blob/master/physical_property/experimental_data/Experimental_Properties_of_SAMPL7_Compounds.pdf)\n",
        "smiles = \"c1ncncc1\" #@param {type: \"string\"}\n",
        "min_ph = -10 #@param {type: \"number\"}\n",
        "max_ph = 24 #@param {type: \"number\"}\n",
        "dimorphite_dl = DimorphiteDL(\n",
        "    min_ph=min_ph,\n",
        "    max_ph=max_ph,\n",
        "    max_variants=256,\n",
        "    label_states=False,\n",
        "    pka_precision=0.1\n",
        ")\n",
        "mols = [Chem.MolFromSmiles(mol) for mol in dimorphite_dl.protonate(smiles)]\n",
        "mols = sorted(mols, key = lambda x: Chem.GetFormalCharge(x), reverse=True)\n",
        "# Now mols[0] is the highest protonation state\n",
        "for i, m in enumerate(mols):\n",
        "    print(f\"This is Molecule {i}\")\n",
        "    d2d = rdMolDraw2D.MolDraw2DSVG(250, 200)\n",
        "    d2d.DrawMolecule(m)\n",
        "    d2d.FinishDrawing()\n",
        "    display(SVG(d2d.GetDrawingText()))"
      ],
      "metadata": {
        "colab": {
          "base_uri": "https://localhost:8080/",
          "height": 687
        },
        "id": "HxjpTW0CkrDS",
        "outputId": "465a5817-f156-4f4b-cb09-12418fd39232"
      },
      "execution_count": 5,
      "outputs": [
        {
          "output_type": "stream",
          "name": "stdout",
          "text": [
            "This is Molecule 0\n"
          ]
        },
        {
          "output_type": "display_data",
          "data": {
            "text/plain": [
              "<IPython.core.display.SVG object>"
            ],
            "image/svg+xml": "<svg xmlns=\"http://www.w3.org/2000/svg\" xmlns:rdkit=\"http://www.rdkit.org/xml\" xmlns:xlink=\"http://www.w3.org/1999/xlink\" version=\"1.1\" baseProfile=\"full\" xml:space=\"preserve\" width=\"250px\" height=\"200px\" viewBox=\"0 0 250 200\">\n<!-- END OF HEADER -->\n<rect style=\"opacity:1.0;fill:#FFFFFF;stroke:none\" width=\"250.0\" height=\"200.0\" x=\"0.0\" y=\"0.0\"> </rect>\n<path class=\"bond-0 atom-0 atom-1\" d=\"M 214.3,100.1 L 169.6,177.4\" style=\"fill:none;fill-rule:evenodd;stroke:#000000;stroke-width:2.0px;stroke-linecap:butt;stroke-linejoin:miter;stroke-opacity:1\"/>\n<path class=\"bond-0 atom-0 atom-1\" d=\"M 198.8,100.1 L 161.9,164.0\" style=\"fill:none;fill-rule:evenodd;stroke:#000000;stroke-width:2.0px;stroke-linecap:butt;stroke-linejoin:miter;stroke-opacity:1\"/>\n<path class=\"bond-1 atom-1 atom-2\" d=\"M 169.6,177.4 L 139.2,177.4\" style=\"fill:none;fill-rule:evenodd;stroke:#000000;stroke-width:2.0px;stroke-linecap:butt;stroke-linejoin:miter;stroke-opacity:1\"/>\n<path class=\"bond-1 atom-1 atom-2\" d=\"M 139.2,177.4 L 108.7,177.4\" style=\"fill:none;fill-rule:evenodd;stroke:#0000FF;stroke-width:2.0px;stroke-linecap:butt;stroke-linejoin:miter;stroke-opacity:1\"/>\n<path class=\"bond-2 atom-2 atom-3\" d=\"M 71.4,161.8 L 53.6,130.9\" style=\"fill:none;fill-rule:evenodd;stroke:#0000FF;stroke-width:2.0px;stroke-linecap:butt;stroke-linejoin:miter;stroke-opacity:1\"/>\n<path class=\"bond-2 atom-2 atom-3\" d=\"M 53.6,130.9 L 35.7,100.1\" style=\"fill:none;fill-rule:evenodd;stroke:#000000;stroke-width:2.0px;stroke-linecap:butt;stroke-linejoin:miter;stroke-opacity:1\"/>\n<path class=\"bond-2 atom-2 atom-3\" d=\"M 83.0,155.1 L 67.1,127.6\" style=\"fill:none;fill-rule:evenodd;stroke:#0000FF;stroke-width:2.0px;stroke-linecap:butt;stroke-linejoin:miter;stroke-opacity:1\"/>\n<path class=\"bond-2 atom-2 atom-3\" d=\"M 67.1,127.6 L 51.2,100.1\" style=\"fill:none;fill-rule:evenodd;stroke:#000000;stroke-width:2.0px;stroke-linecap:butt;stroke-linejoin:miter;stroke-opacity:1\"/>\n<path class=\"bond-3 atom-3 atom-4\" d=\"M 35.7,100.1 L 53.6,69.2\" style=\"fill:none;fill-rule:evenodd;stroke:#000000;stroke-width:2.0px;stroke-linecap:butt;stroke-linejoin:miter;stroke-opacity:1\"/>\n<path class=\"bond-3 atom-3 atom-4\" d=\"M 53.6,69.2 L 71.4,38.4\" style=\"fill:none;fill-rule:evenodd;stroke:#0000FF;stroke-width:2.0px;stroke-linecap:butt;stroke-linejoin:miter;stroke-opacity:1\"/>\n<path class=\"bond-4 atom-4 atom-5\" d=\"M 108.7,22.8 L 139.2,22.8\" style=\"fill:none;fill-rule:evenodd;stroke:#0000FF;stroke-width:2.0px;stroke-linecap:butt;stroke-linejoin:miter;stroke-opacity:1\"/>\n<path class=\"bond-4 atom-4 atom-5\" d=\"M 139.2,22.8 L 169.6,22.8\" style=\"fill:none;fill-rule:evenodd;stroke:#000000;stroke-width:2.0px;stroke-linecap:butt;stroke-linejoin:miter;stroke-opacity:1\"/>\n<path class=\"bond-4 atom-4 atom-5\" d=\"M 108.7,36.2 L 135.3,36.2\" style=\"fill:none;fill-rule:evenodd;stroke:#0000FF;stroke-width:2.0px;stroke-linecap:butt;stroke-linejoin:miter;stroke-opacity:1\"/>\n<path class=\"bond-4 atom-4 atom-5\" d=\"M 135.3,36.2 L 161.9,36.2\" style=\"fill:none;fill-rule:evenodd;stroke:#000000;stroke-width:2.0px;stroke-linecap:butt;stroke-linejoin:miter;stroke-opacity:1\"/>\n<path class=\"bond-5 atom-5 atom-0\" d=\"M 169.6,22.8 L 214.3,100.1\" style=\"fill:none;fill-rule:evenodd;stroke:#000000;stroke-width:2.0px;stroke-linecap:butt;stroke-linejoin:miter;stroke-opacity:1\"/>\n<path d=\"M 212.0,103.9 L 214.3,100.1 L 212.0,96.2\" style=\"fill:none;stroke:#000000;stroke-width:2.0px;stroke-linecap:butt;stroke-linejoin:miter;stroke-opacity:1;\"/>\n<path d=\"M 171.9,173.5 L 169.6,177.4 L 168.1,177.4\" style=\"fill:none;stroke:#000000;stroke-width:2.0px;stroke-linecap:butt;stroke-linejoin:miter;stroke-opacity:1;\"/>\n<path d=\"M 36.6,101.6 L 35.7,100.1 L 36.6,98.5\" style=\"fill:none;stroke:#000000;stroke-width:2.0px;stroke-linecap:butt;stroke-linejoin:miter;stroke-opacity:1;\"/>\n<path d=\"M 168.1,22.8 L 169.6,22.8 L 171.9,26.6\" style=\"fill:none;stroke:#000000;stroke-width:2.0px;stroke-linecap:butt;stroke-linejoin:miter;stroke-opacity:1;\"/>\n<path class=\"atom-2\" d=\"M 46.1 164.7 L 49.5 164.7 L 49.5 175.5 L 62.5 175.5 L 62.5 164.7 L 65.9 164.7 L 65.9 190.0 L 62.5 190.0 L 62.5 178.3 L 49.5 178.3 L 49.5 190.0 L 46.1 190.0 L 46.1 164.7 \" fill=\"#0000FF\"/>\n<path class=\"atom-2\" d=\"M 74.8 164.7 L 83.1 178.1 Q 83.9 179.4, 85.2 181.8 Q 86.5 184.2, 86.6 184.4 L 86.6 164.7 L 90.0 164.7 L 90.0 190.0 L 86.5 190.0 L 77.6 175.4 Q 76.6 173.6, 75.5 171.7 Q 74.4 169.7, 74.1 169.1 L 74.1 190.0 L 70.8 190.0 L 70.8 164.7 L 74.8 164.7 \" fill=\"#0000FF\"/>\n<path class=\"atom-2\" d=\"M 94.8 169.3 L 99.2 169.3 L 99.2 164.6 L 101.2 164.6 L 101.2 169.3 L 105.8 169.3 L 105.8 171.0 L 101.2 171.0 L 101.2 175.7 L 99.2 175.7 L 99.2 171.0 L 94.8 171.0 L 94.8 169.3 \" fill=\"#0000FF\"/>\n<path class=\"atom-4\" d=\"M 46.1 10.1 L 49.5 10.1 L 49.5 20.9 L 62.5 20.9 L 62.5 10.1 L 65.9 10.1 L 65.9 35.4 L 62.5 35.4 L 62.5 23.7 L 49.5 23.7 L 49.5 35.4 L 46.1 35.4 L 46.1 10.1 \" fill=\"#0000FF\"/>\n<path class=\"atom-4\" d=\"M 74.8 10.1 L 83.1 23.5 Q 83.9 24.8, 85.2 27.2 Q 86.5 29.6, 86.6 29.8 L 86.6 10.1 L 90.0 10.1 L 90.0 35.4 L 86.5 35.4 L 77.6 20.8 Q 76.6 19.1, 75.5 17.1 Q 74.4 15.1, 74.1 14.5 L 74.1 35.4 L 70.8 35.4 L 70.8 10.1 L 74.8 10.1 \" fill=\"#0000FF\"/>\n<path class=\"atom-4\" d=\"M 94.8 14.7 L 99.2 14.7 L 99.2 10.0 L 101.2 10.0 L 101.2 14.7 L 105.8 14.7 L 105.8 16.4 L 101.2 16.4 L 101.2 21.1 L 99.2 21.1 L 99.2 16.4 L 94.8 16.4 L 94.8 14.7 \" fill=\"#0000FF\"/>\n</svg>"
          },
          "metadata": {}
        },
        {
          "output_type": "stream",
          "name": "stdout",
          "text": [
            "This is Molecule 1\n"
          ]
        },
        {
          "output_type": "display_data",
          "data": {
            "text/plain": [
              "<IPython.core.display.SVG object>"
            ],
            "image/svg+xml": "<svg xmlns=\"http://www.w3.org/2000/svg\" xmlns:rdkit=\"http://www.rdkit.org/xml\" xmlns:xlink=\"http://www.w3.org/1999/xlink\" version=\"1.1\" baseProfile=\"full\" xml:space=\"preserve\" width=\"250px\" height=\"200px\" viewBox=\"0 0 250 200\">\n<!-- END OF HEADER -->\n<rect style=\"opacity:1.0;fill:#FFFFFF;stroke:none\" width=\"250.0\" height=\"200.0\" x=\"0.0\" y=\"0.0\"> </rect>\n<path class=\"bond-0 atom-0 atom-1\" d=\"M 214.3,100.1 L 169.6,177.4\" style=\"fill:none;fill-rule:evenodd;stroke:#000000;stroke-width:2.0px;stroke-linecap:butt;stroke-linejoin:miter;stroke-opacity:1\"/>\n<path class=\"bond-0 atom-0 atom-1\" d=\"M 198.8,100.1 L 161.9,164.0\" style=\"fill:none;fill-rule:evenodd;stroke:#000000;stroke-width:2.0px;stroke-linecap:butt;stroke-linejoin:miter;stroke-opacity:1\"/>\n<path class=\"bond-1 atom-1 atom-2\" d=\"M 169.6,177.4 L 131.3,177.4\" style=\"fill:none;fill-rule:evenodd;stroke:#000000;stroke-width:2.0px;stroke-linecap:butt;stroke-linejoin:miter;stroke-opacity:1\"/>\n<path class=\"bond-1 atom-1 atom-2\" d=\"M 131.3,177.4 L 92.9,177.4\" style=\"fill:none;fill-rule:evenodd;stroke:#0000FF;stroke-width:2.0px;stroke-linecap:butt;stroke-linejoin:miter;stroke-opacity:1\"/>\n<path class=\"bond-2 atom-2 atom-3\" d=\"M 71.4,161.8 L 53.6,130.9\" style=\"fill:none;fill-rule:evenodd;stroke:#0000FF;stroke-width:2.0px;stroke-linecap:butt;stroke-linejoin:miter;stroke-opacity:1\"/>\n<path class=\"bond-2 atom-2 atom-3\" d=\"M 53.6,130.9 L 35.7,100.1\" style=\"fill:none;fill-rule:evenodd;stroke:#000000;stroke-width:2.0px;stroke-linecap:butt;stroke-linejoin:miter;stroke-opacity:1\"/>\n<path class=\"bond-2 atom-2 atom-3\" d=\"M 83.0,155.1 L 67.1,127.6\" style=\"fill:none;fill-rule:evenodd;stroke:#0000FF;stroke-width:2.0px;stroke-linecap:butt;stroke-linejoin:miter;stroke-opacity:1\"/>\n<path class=\"bond-2 atom-2 atom-3\" d=\"M 67.1,127.6 L 51.2,100.1\" style=\"fill:none;fill-rule:evenodd;stroke:#000000;stroke-width:2.0px;stroke-linecap:butt;stroke-linejoin:miter;stroke-opacity:1\"/>\n<path class=\"bond-3 atom-3 atom-4\" d=\"M 35.7,100.1 L 53.6,69.2\" style=\"fill:none;fill-rule:evenodd;stroke:#000000;stroke-width:2.0px;stroke-linecap:butt;stroke-linejoin:miter;stroke-opacity:1\"/>\n<path class=\"bond-3 atom-3 atom-4\" d=\"M 53.6,69.2 L 71.4,38.4\" style=\"fill:none;fill-rule:evenodd;stroke:#0000FF;stroke-width:2.0px;stroke-linecap:butt;stroke-linejoin:miter;stroke-opacity:1\"/>\n<path class=\"bond-4 atom-4 atom-5\" d=\"M 108.7,22.8 L 139.2,22.8\" style=\"fill:none;fill-rule:evenodd;stroke:#0000FF;stroke-width:2.0px;stroke-linecap:butt;stroke-linejoin:miter;stroke-opacity:1\"/>\n<path class=\"bond-4 atom-4 atom-5\" d=\"M 139.2,22.8 L 169.6,22.8\" style=\"fill:none;fill-rule:evenodd;stroke:#000000;stroke-width:2.0px;stroke-linecap:butt;stroke-linejoin:miter;stroke-opacity:1\"/>\n<path class=\"bond-4 atom-4 atom-5\" d=\"M 108.7,36.2 L 135.3,36.2\" style=\"fill:none;fill-rule:evenodd;stroke:#0000FF;stroke-width:2.0px;stroke-linecap:butt;stroke-linejoin:miter;stroke-opacity:1\"/>\n<path class=\"bond-4 atom-4 atom-5\" d=\"M 135.3,36.2 L 161.9,36.2\" style=\"fill:none;fill-rule:evenodd;stroke:#000000;stroke-width:2.0px;stroke-linecap:butt;stroke-linejoin:miter;stroke-opacity:1\"/>\n<path class=\"bond-5 atom-5 atom-0\" d=\"M 169.6,22.8 L 214.3,100.1\" style=\"fill:none;fill-rule:evenodd;stroke:#000000;stroke-width:2.0px;stroke-linecap:butt;stroke-linejoin:miter;stroke-opacity:1\"/>\n<path d=\"M 212.0,103.9 L 214.3,100.1 L 212.0,96.2\" style=\"fill:none;stroke:#000000;stroke-width:2.0px;stroke-linecap:butt;stroke-linejoin:miter;stroke-opacity:1;\"/>\n<path d=\"M 171.9,173.5 L 169.6,177.4 L 167.7,177.4\" style=\"fill:none;stroke:#000000;stroke-width:2.0px;stroke-linecap:butt;stroke-linejoin:miter;stroke-opacity:1;\"/>\n<path d=\"M 36.6,101.6 L 35.7,100.1 L 36.6,98.5\" style=\"fill:none;stroke:#000000;stroke-width:2.0px;stroke-linecap:butt;stroke-linejoin:miter;stroke-opacity:1;\"/>\n<path d=\"M 168.1,22.8 L 169.6,22.8 L 171.9,26.6\" style=\"fill:none;stroke:#000000;stroke-width:2.0px;stroke-linecap:butt;stroke-linejoin:miter;stroke-opacity:1;\"/>\n<path class=\"atom-2\" d=\"M 74.8 164.7 L 83.1 178.1 Q 83.9 179.4, 85.2 181.8 Q 86.5 184.2, 86.6 184.4 L 86.6 164.7 L 90.0 164.7 L 90.0 190.0 L 86.5 190.0 L 77.6 175.4 Q 76.6 173.6, 75.5 171.7 Q 74.4 169.7, 74.1 169.1 L 74.1 190.0 L 70.8 190.0 L 70.8 164.7 L 74.8 164.7 \" fill=\"#0000FF\"/>\n<path class=\"atom-4\" d=\"M 46.1 10.1 L 49.5 10.1 L 49.5 20.9 L 62.5 20.9 L 62.5 10.1 L 65.9 10.1 L 65.9 35.4 L 62.5 35.4 L 62.5 23.7 L 49.5 23.7 L 49.5 35.4 L 46.1 35.4 L 46.1 10.1 \" fill=\"#0000FF\"/>\n<path class=\"atom-4\" d=\"M 74.8 10.1 L 83.1 23.5 Q 83.9 24.8, 85.2 27.2 Q 86.5 29.6, 86.6 29.8 L 86.6 10.1 L 90.0 10.1 L 90.0 35.4 L 86.5 35.4 L 77.6 20.8 Q 76.6 19.1, 75.5 17.1 Q 74.4 15.1, 74.1 14.5 L 74.1 35.4 L 70.8 35.4 L 70.8 10.1 L 74.8 10.1 \" fill=\"#0000FF\"/>\n<path class=\"atom-4\" d=\"M 94.8 14.7 L 99.2 14.7 L 99.2 10.0 L 101.2 10.0 L 101.2 14.7 L 105.8 14.7 L 105.8 16.4 L 101.2 16.4 L 101.2 21.1 L 99.2 21.1 L 99.2 16.4 L 94.8 16.4 L 94.8 14.7 \" fill=\"#0000FF\"/>\n</svg>"
          },
          "metadata": {}
        },
        {
          "output_type": "stream",
          "name": "stdout",
          "text": [
            "This is Molecule 2\n"
          ]
        },
        {
          "output_type": "display_data",
          "data": {
            "text/plain": [
              "<IPython.core.display.SVG object>"
            ],
            "image/svg+xml": "<svg xmlns=\"http://www.w3.org/2000/svg\" xmlns:rdkit=\"http://www.rdkit.org/xml\" xmlns:xlink=\"http://www.w3.org/1999/xlink\" version=\"1.1\" baseProfile=\"full\" xml:space=\"preserve\" width=\"250px\" height=\"200px\" viewBox=\"0 0 250 200\">\n<!-- END OF HEADER -->\n<rect style=\"opacity:1.0;fill:#FFFFFF;stroke:none\" width=\"250.0\" height=\"200.0\" x=\"0.0\" y=\"0.0\"> </rect>\n<path class=\"bond-0 atom-0 atom-1\" d=\"M 214.3,100.0 L 169.7,177.4\" style=\"fill:none;fill-rule:evenodd;stroke:#000000;stroke-width:2.0px;stroke-linecap:butt;stroke-linejoin:miter;stroke-opacity:1\"/>\n<path class=\"bond-0 atom-0 atom-1\" d=\"M 198.8,100.0 L 161.9,164.0\" style=\"fill:none;fill-rule:evenodd;stroke:#000000;stroke-width:2.0px;stroke-linecap:butt;stroke-linejoin:miter;stroke-opacity:1\"/>\n<path class=\"bond-1 atom-1 atom-2\" d=\"M 169.7,177.4 L 131.3,177.4\" style=\"fill:none;fill-rule:evenodd;stroke:#000000;stroke-width:2.0px;stroke-linecap:butt;stroke-linejoin:miter;stroke-opacity:1\"/>\n<path class=\"bond-1 atom-1 atom-2\" d=\"M 131.3,177.4 L 92.9,177.4\" style=\"fill:none;fill-rule:evenodd;stroke:#0000FF;stroke-width:2.0px;stroke-linecap:butt;stroke-linejoin:miter;stroke-opacity:1\"/>\n<path class=\"bond-2 atom-2 atom-3\" d=\"M 71.3,161.8 L 53.5,130.9\" style=\"fill:none;fill-rule:evenodd;stroke:#0000FF;stroke-width:2.0px;stroke-linecap:butt;stroke-linejoin:miter;stroke-opacity:1\"/>\n<path class=\"bond-2 atom-2 atom-3\" d=\"M 53.5,130.9 L 35.7,100.0\" style=\"fill:none;fill-rule:evenodd;stroke:#000000;stroke-width:2.0px;stroke-linecap:butt;stroke-linejoin:miter;stroke-opacity:1\"/>\n<path class=\"bond-2 atom-2 atom-3\" d=\"M 82.9,155.1 L 67.0,127.5\" style=\"fill:none;fill-rule:evenodd;stroke:#0000FF;stroke-width:2.0px;stroke-linecap:butt;stroke-linejoin:miter;stroke-opacity:1\"/>\n<path class=\"bond-2 atom-2 atom-3\" d=\"M 67.0,127.5 L 51.2,100.0\" style=\"fill:none;fill-rule:evenodd;stroke:#000000;stroke-width:2.0px;stroke-linecap:butt;stroke-linejoin:miter;stroke-opacity:1\"/>\n<path class=\"bond-3 atom-3 atom-4\" d=\"M 35.7,100.0 L 53.5,69.1\" style=\"fill:none;fill-rule:evenodd;stroke:#000000;stroke-width:2.0px;stroke-linecap:butt;stroke-linejoin:miter;stroke-opacity:1\"/>\n<path class=\"bond-3 atom-3 atom-4\" d=\"M 53.5,69.1 L 71.3,38.2\" style=\"fill:none;fill-rule:evenodd;stroke:#0000FF;stroke-width:2.0px;stroke-linecap:butt;stroke-linejoin:miter;stroke-opacity:1\"/>\n<path class=\"bond-4 atom-4 atom-5\" d=\"M 92.9,22.6 L 131.3,22.6\" style=\"fill:none;fill-rule:evenodd;stroke:#0000FF;stroke-width:2.0px;stroke-linecap:butt;stroke-linejoin:miter;stroke-opacity:1\"/>\n<path class=\"bond-4 atom-4 atom-5\" d=\"M 131.3,22.6 L 169.7,22.6\" style=\"fill:none;fill-rule:evenodd;stroke:#000000;stroke-width:2.0px;stroke-linecap:butt;stroke-linejoin:miter;stroke-opacity:1\"/>\n<path class=\"bond-4 atom-4 atom-5\" d=\"M 92.9,36.0 L 127.4,36.0\" style=\"fill:none;fill-rule:evenodd;stroke:#0000FF;stroke-width:2.0px;stroke-linecap:butt;stroke-linejoin:miter;stroke-opacity:1\"/>\n<path class=\"bond-4 atom-4 atom-5\" d=\"M 127.4,36.0 L 161.9,36.0\" style=\"fill:none;fill-rule:evenodd;stroke:#000000;stroke-width:2.0px;stroke-linecap:butt;stroke-linejoin:miter;stroke-opacity:1\"/>\n<path class=\"bond-5 atom-5 atom-0\" d=\"M 169.7,22.6 L 214.3,100.0\" style=\"fill:none;fill-rule:evenodd;stroke:#000000;stroke-width:2.0px;stroke-linecap:butt;stroke-linejoin:miter;stroke-opacity:1\"/>\n<path d=\"M 212.1,103.9 L 214.3,100.0 L 212.1,96.1\" style=\"fill:none;stroke:#000000;stroke-width:2.0px;stroke-linecap:butt;stroke-linejoin:miter;stroke-opacity:1;\"/>\n<path d=\"M 171.9,173.5 L 169.7,177.4 L 167.7,177.4\" style=\"fill:none;stroke:#000000;stroke-width:2.0px;stroke-linecap:butt;stroke-linejoin:miter;stroke-opacity:1;\"/>\n<path d=\"M 36.6,101.5 L 35.7,100.0 L 36.6,98.5\" style=\"fill:none;stroke:#000000;stroke-width:2.0px;stroke-linecap:butt;stroke-linejoin:miter;stroke-opacity:1;\"/>\n<path d=\"M 167.7,22.6 L 169.7,22.6 L 171.9,26.5\" style=\"fill:none;stroke:#000000;stroke-width:2.0px;stroke-linecap:butt;stroke-linejoin:miter;stroke-opacity:1;\"/>\n<path class=\"atom-2\" d=\"M 74.7 164.7 L 83.0 178.1 Q 83.9 179.4, 85.2 181.8 Q 86.5 184.2, 86.6 184.4 L 86.6 164.7 L 89.9 164.7 L 89.9 190.0 L 86.5 190.0 L 77.6 175.4 Q 76.5 173.6, 75.4 171.7 Q 74.4 169.7, 74.0 169.1 L 74.0 190.0 L 70.7 190.0 L 70.7 164.7 L 74.7 164.7 \" fill=\"#0000FF\"/>\n<path class=\"atom-4\" d=\"M 74.7 10.0 L 83.0 23.4 Q 83.9 24.7, 85.2 27.1 Q 86.5 29.5, 86.6 29.7 L 86.6 10.0 L 89.9 10.0 L 89.9 35.3 L 86.5 35.3 L 77.6 20.6 Q 76.5 18.9, 75.4 17.0 Q 74.4 15.0, 74.0 14.4 L 74.0 35.3 L 70.7 35.3 L 70.7 10.0 L 74.7 10.0 \" fill=\"#0000FF\"/>\n</svg>"
          },
          "metadata": {}
        }
      ]
    },
    {
      "cell_type": "code",
      "source": [
        "#@title Select molecules\n",
        "#@markdown Which molecule states do you want to use?\n",
        "#@markdown The molecule ids are shown in the previous cell.\n",
        "mol1 = True #@param {type:\"boolean\"}\n",
        "mol2 = True #@param {type:\"boolean\"}\n",
        "mol3 = True #@param {type:\"boolean\"}\n",
        "mol4 = True #@param {type:\"boolean\"}\n",
        "mol5 = False #@param {type:\"boolean\"}\n",
        "mol6 = False #@param {type:\"boolean\"}\n",
        "mol7 = False #@param {type:\"boolean\"}\n",
        "mol8 = False #@param {type:\"boolean\"}\n",
        "mol9 = False #@param {type:\"boolean\"}\n",
        "mol10 = False #@param {type:\"boolean\"}\n",
        "\n",
        "mols_to_use = [\n",
        "    mol1, mol2, mol3, mol4, mol5, mol6, mol7, mol8, mol9, mol10,\n",
        "][:len(mols)]\n",
        "\n",
        "mols = [mols[i] for i in range(len(mols)) if mols_to_use[i]]"
      ],
      "metadata": {
        "id": "6cC1ul8MS8ZO"
      },
      "execution_count": 6,
      "outputs": []
    },
    {
      "cell_type": "code",
      "source": [
        "#@title Selected molecules\n",
        "#@markdown The foloweing molecules will be used in the furhter analysis.\n",
        "for i, m in enumerate(mols):\n",
        "    print(f\"This is Molecule {i}\")\n",
        "    d2d = rdMolDraw2D.MolDraw2DSVG(250, 200)\n",
        "    d2d.DrawMolecule(m)\n",
        "    d2d.FinishDrawing()\n",
        "    display(SVG(d2d.GetDrawingText()))"
      ],
      "metadata": {
        "colab": {
          "base_uri": "https://localhost:8080/",
          "height": 687
        },
        "id": "VfSF4T0PV3XY",
        "outputId": "cf074891-de78-4675-9535-74f34a118b03"
      },
      "execution_count": 7,
      "outputs": [
        {
          "output_type": "stream",
          "name": "stdout",
          "text": [
            "This is Molecule 0\n"
          ]
        },
        {
          "output_type": "display_data",
          "data": {
            "text/plain": [
              "<IPython.core.display.SVG object>"
            ],
            "image/svg+xml": "<svg xmlns=\"http://www.w3.org/2000/svg\" xmlns:rdkit=\"http://www.rdkit.org/xml\" xmlns:xlink=\"http://www.w3.org/1999/xlink\" version=\"1.1\" baseProfile=\"full\" xml:space=\"preserve\" width=\"250px\" height=\"200px\" viewBox=\"0 0 250 200\">\n<!-- END OF HEADER -->\n<rect style=\"opacity:1.0;fill:#FFFFFF;stroke:none\" width=\"250.0\" height=\"200.0\" x=\"0.0\" y=\"0.0\"> </rect>\n<path class=\"bond-0 atom-0 atom-1\" d=\"M 214.3,100.1 L 169.6,177.4\" style=\"fill:none;fill-rule:evenodd;stroke:#000000;stroke-width:2.0px;stroke-linecap:butt;stroke-linejoin:miter;stroke-opacity:1\"/>\n<path class=\"bond-0 atom-0 atom-1\" d=\"M 198.8,100.1 L 161.9,164.0\" style=\"fill:none;fill-rule:evenodd;stroke:#000000;stroke-width:2.0px;stroke-linecap:butt;stroke-linejoin:miter;stroke-opacity:1\"/>\n<path class=\"bond-1 atom-1 atom-2\" d=\"M 169.6,177.4 L 139.2,177.4\" style=\"fill:none;fill-rule:evenodd;stroke:#000000;stroke-width:2.0px;stroke-linecap:butt;stroke-linejoin:miter;stroke-opacity:1\"/>\n<path class=\"bond-1 atom-1 atom-2\" d=\"M 139.2,177.4 L 108.7,177.4\" style=\"fill:none;fill-rule:evenodd;stroke:#0000FF;stroke-width:2.0px;stroke-linecap:butt;stroke-linejoin:miter;stroke-opacity:1\"/>\n<path class=\"bond-2 atom-2 atom-3\" d=\"M 71.4,161.8 L 53.6,130.9\" style=\"fill:none;fill-rule:evenodd;stroke:#0000FF;stroke-width:2.0px;stroke-linecap:butt;stroke-linejoin:miter;stroke-opacity:1\"/>\n<path class=\"bond-2 atom-2 atom-3\" d=\"M 53.6,130.9 L 35.7,100.1\" style=\"fill:none;fill-rule:evenodd;stroke:#000000;stroke-width:2.0px;stroke-linecap:butt;stroke-linejoin:miter;stroke-opacity:1\"/>\n<path class=\"bond-2 atom-2 atom-3\" d=\"M 83.0,155.1 L 67.1,127.6\" style=\"fill:none;fill-rule:evenodd;stroke:#0000FF;stroke-width:2.0px;stroke-linecap:butt;stroke-linejoin:miter;stroke-opacity:1\"/>\n<path class=\"bond-2 atom-2 atom-3\" d=\"M 67.1,127.6 L 51.2,100.1\" style=\"fill:none;fill-rule:evenodd;stroke:#000000;stroke-width:2.0px;stroke-linecap:butt;stroke-linejoin:miter;stroke-opacity:1\"/>\n<path class=\"bond-3 atom-3 atom-4\" d=\"M 35.7,100.1 L 53.6,69.2\" style=\"fill:none;fill-rule:evenodd;stroke:#000000;stroke-width:2.0px;stroke-linecap:butt;stroke-linejoin:miter;stroke-opacity:1\"/>\n<path class=\"bond-3 atom-3 atom-4\" d=\"M 53.6,69.2 L 71.4,38.4\" style=\"fill:none;fill-rule:evenodd;stroke:#0000FF;stroke-width:2.0px;stroke-linecap:butt;stroke-linejoin:miter;stroke-opacity:1\"/>\n<path class=\"bond-4 atom-4 atom-5\" d=\"M 108.7,22.8 L 139.2,22.8\" style=\"fill:none;fill-rule:evenodd;stroke:#0000FF;stroke-width:2.0px;stroke-linecap:butt;stroke-linejoin:miter;stroke-opacity:1\"/>\n<path class=\"bond-4 atom-4 atom-5\" d=\"M 139.2,22.8 L 169.6,22.8\" style=\"fill:none;fill-rule:evenodd;stroke:#000000;stroke-width:2.0px;stroke-linecap:butt;stroke-linejoin:miter;stroke-opacity:1\"/>\n<path class=\"bond-4 atom-4 atom-5\" d=\"M 108.7,36.2 L 135.3,36.2\" style=\"fill:none;fill-rule:evenodd;stroke:#0000FF;stroke-width:2.0px;stroke-linecap:butt;stroke-linejoin:miter;stroke-opacity:1\"/>\n<path class=\"bond-4 atom-4 atom-5\" d=\"M 135.3,36.2 L 161.9,36.2\" style=\"fill:none;fill-rule:evenodd;stroke:#000000;stroke-width:2.0px;stroke-linecap:butt;stroke-linejoin:miter;stroke-opacity:1\"/>\n<path class=\"bond-5 atom-5 atom-0\" d=\"M 169.6,22.8 L 214.3,100.1\" style=\"fill:none;fill-rule:evenodd;stroke:#000000;stroke-width:2.0px;stroke-linecap:butt;stroke-linejoin:miter;stroke-opacity:1\"/>\n<path d=\"M 212.0,103.9 L 214.3,100.1 L 212.0,96.2\" style=\"fill:none;stroke:#000000;stroke-width:2.0px;stroke-linecap:butt;stroke-linejoin:miter;stroke-opacity:1;\"/>\n<path d=\"M 171.9,173.5 L 169.6,177.4 L 168.1,177.4\" style=\"fill:none;stroke:#000000;stroke-width:2.0px;stroke-linecap:butt;stroke-linejoin:miter;stroke-opacity:1;\"/>\n<path d=\"M 36.6,101.6 L 35.7,100.1 L 36.6,98.5\" style=\"fill:none;stroke:#000000;stroke-width:2.0px;stroke-linecap:butt;stroke-linejoin:miter;stroke-opacity:1;\"/>\n<path d=\"M 168.1,22.8 L 169.6,22.8 L 171.9,26.6\" style=\"fill:none;stroke:#000000;stroke-width:2.0px;stroke-linecap:butt;stroke-linejoin:miter;stroke-opacity:1;\"/>\n<path class=\"atom-2\" d=\"M 46.1 164.7 L 49.5 164.7 L 49.5 175.5 L 62.5 175.5 L 62.5 164.7 L 65.9 164.7 L 65.9 190.0 L 62.5 190.0 L 62.5 178.3 L 49.5 178.3 L 49.5 190.0 L 46.1 190.0 L 46.1 164.7 \" fill=\"#0000FF\"/>\n<path class=\"atom-2\" d=\"M 74.8 164.7 L 83.1 178.1 Q 83.9 179.4, 85.2 181.8 Q 86.5 184.2, 86.6 184.4 L 86.6 164.7 L 90.0 164.7 L 90.0 190.0 L 86.5 190.0 L 77.6 175.4 Q 76.6 173.6, 75.5 171.7 Q 74.4 169.7, 74.1 169.1 L 74.1 190.0 L 70.8 190.0 L 70.8 164.7 L 74.8 164.7 \" fill=\"#0000FF\"/>\n<path class=\"atom-2\" d=\"M 94.8 169.3 L 99.2 169.3 L 99.2 164.6 L 101.2 164.6 L 101.2 169.3 L 105.8 169.3 L 105.8 171.0 L 101.2 171.0 L 101.2 175.7 L 99.2 175.7 L 99.2 171.0 L 94.8 171.0 L 94.8 169.3 \" fill=\"#0000FF\"/>\n<path class=\"atom-4\" d=\"M 46.1 10.1 L 49.5 10.1 L 49.5 20.9 L 62.5 20.9 L 62.5 10.1 L 65.9 10.1 L 65.9 35.4 L 62.5 35.4 L 62.5 23.7 L 49.5 23.7 L 49.5 35.4 L 46.1 35.4 L 46.1 10.1 \" fill=\"#0000FF\"/>\n<path class=\"atom-4\" d=\"M 74.8 10.1 L 83.1 23.5 Q 83.9 24.8, 85.2 27.2 Q 86.5 29.6, 86.6 29.8 L 86.6 10.1 L 90.0 10.1 L 90.0 35.4 L 86.5 35.4 L 77.6 20.8 Q 76.6 19.1, 75.5 17.1 Q 74.4 15.1, 74.1 14.5 L 74.1 35.4 L 70.8 35.4 L 70.8 10.1 L 74.8 10.1 \" fill=\"#0000FF\"/>\n<path class=\"atom-4\" d=\"M 94.8 14.7 L 99.2 14.7 L 99.2 10.0 L 101.2 10.0 L 101.2 14.7 L 105.8 14.7 L 105.8 16.4 L 101.2 16.4 L 101.2 21.1 L 99.2 21.1 L 99.2 16.4 L 94.8 16.4 L 94.8 14.7 \" fill=\"#0000FF\"/>\n</svg>"
          },
          "metadata": {}
        },
        {
          "output_type": "stream",
          "name": "stdout",
          "text": [
            "This is Molecule 1\n"
          ]
        },
        {
          "output_type": "display_data",
          "data": {
            "text/plain": [
              "<IPython.core.display.SVG object>"
            ],
            "image/svg+xml": "<svg xmlns=\"http://www.w3.org/2000/svg\" xmlns:rdkit=\"http://www.rdkit.org/xml\" xmlns:xlink=\"http://www.w3.org/1999/xlink\" version=\"1.1\" baseProfile=\"full\" xml:space=\"preserve\" width=\"250px\" height=\"200px\" viewBox=\"0 0 250 200\">\n<!-- END OF HEADER -->\n<rect style=\"opacity:1.0;fill:#FFFFFF;stroke:none\" width=\"250.0\" height=\"200.0\" x=\"0.0\" y=\"0.0\"> </rect>\n<path class=\"bond-0 atom-0 atom-1\" d=\"M 214.3,100.1 L 169.6,177.4\" style=\"fill:none;fill-rule:evenodd;stroke:#000000;stroke-width:2.0px;stroke-linecap:butt;stroke-linejoin:miter;stroke-opacity:1\"/>\n<path class=\"bond-0 atom-0 atom-1\" d=\"M 198.8,100.1 L 161.9,164.0\" style=\"fill:none;fill-rule:evenodd;stroke:#000000;stroke-width:2.0px;stroke-linecap:butt;stroke-linejoin:miter;stroke-opacity:1\"/>\n<path class=\"bond-1 atom-1 atom-2\" d=\"M 169.6,177.4 L 131.3,177.4\" style=\"fill:none;fill-rule:evenodd;stroke:#000000;stroke-width:2.0px;stroke-linecap:butt;stroke-linejoin:miter;stroke-opacity:1\"/>\n<path class=\"bond-1 atom-1 atom-2\" d=\"M 131.3,177.4 L 92.9,177.4\" style=\"fill:none;fill-rule:evenodd;stroke:#0000FF;stroke-width:2.0px;stroke-linecap:butt;stroke-linejoin:miter;stroke-opacity:1\"/>\n<path class=\"bond-2 atom-2 atom-3\" d=\"M 71.4,161.8 L 53.6,130.9\" style=\"fill:none;fill-rule:evenodd;stroke:#0000FF;stroke-width:2.0px;stroke-linecap:butt;stroke-linejoin:miter;stroke-opacity:1\"/>\n<path class=\"bond-2 atom-2 atom-3\" d=\"M 53.6,130.9 L 35.7,100.1\" style=\"fill:none;fill-rule:evenodd;stroke:#000000;stroke-width:2.0px;stroke-linecap:butt;stroke-linejoin:miter;stroke-opacity:1\"/>\n<path class=\"bond-2 atom-2 atom-3\" d=\"M 83.0,155.1 L 67.1,127.6\" style=\"fill:none;fill-rule:evenodd;stroke:#0000FF;stroke-width:2.0px;stroke-linecap:butt;stroke-linejoin:miter;stroke-opacity:1\"/>\n<path class=\"bond-2 atom-2 atom-3\" d=\"M 67.1,127.6 L 51.2,100.1\" style=\"fill:none;fill-rule:evenodd;stroke:#000000;stroke-width:2.0px;stroke-linecap:butt;stroke-linejoin:miter;stroke-opacity:1\"/>\n<path class=\"bond-3 atom-3 atom-4\" d=\"M 35.7,100.1 L 53.6,69.2\" style=\"fill:none;fill-rule:evenodd;stroke:#000000;stroke-width:2.0px;stroke-linecap:butt;stroke-linejoin:miter;stroke-opacity:1\"/>\n<path class=\"bond-3 atom-3 atom-4\" d=\"M 53.6,69.2 L 71.4,38.4\" style=\"fill:none;fill-rule:evenodd;stroke:#0000FF;stroke-width:2.0px;stroke-linecap:butt;stroke-linejoin:miter;stroke-opacity:1\"/>\n<path class=\"bond-4 atom-4 atom-5\" d=\"M 108.7,22.8 L 139.2,22.8\" style=\"fill:none;fill-rule:evenodd;stroke:#0000FF;stroke-width:2.0px;stroke-linecap:butt;stroke-linejoin:miter;stroke-opacity:1\"/>\n<path class=\"bond-4 atom-4 atom-5\" d=\"M 139.2,22.8 L 169.6,22.8\" style=\"fill:none;fill-rule:evenodd;stroke:#000000;stroke-width:2.0px;stroke-linecap:butt;stroke-linejoin:miter;stroke-opacity:1\"/>\n<path class=\"bond-4 atom-4 atom-5\" d=\"M 108.7,36.2 L 135.3,36.2\" style=\"fill:none;fill-rule:evenodd;stroke:#0000FF;stroke-width:2.0px;stroke-linecap:butt;stroke-linejoin:miter;stroke-opacity:1\"/>\n<path class=\"bond-4 atom-4 atom-5\" d=\"M 135.3,36.2 L 161.9,36.2\" style=\"fill:none;fill-rule:evenodd;stroke:#000000;stroke-width:2.0px;stroke-linecap:butt;stroke-linejoin:miter;stroke-opacity:1\"/>\n<path class=\"bond-5 atom-5 atom-0\" d=\"M 169.6,22.8 L 214.3,100.1\" style=\"fill:none;fill-rule:evenodd;stroke:#000000;stroke-width:2.0px;stroke-linecap:butt;stroke-linejoin:miter;stroke-opacity:1\"/>\n<path d=\"M 212.0,103.9 L 214.3,100.1 L 212.0,96.2\" style=\"fill:none;stroke:#000000;stroke-width:2.0px;stroke-linecap:butt;stroke-linejoin:miter;stroke-opacity:1;\"/>\n<path d=\"M 171.9,173.5 L 169.6,177.4 L 167.7,177.4\" style=\"fill:none;stroke:#000000;stroke-width:2.0px;stroke-linecap:butt;stroke-linejoin:miter;stroke-opacity:1;\"/>\n<path d=\"M 36.6,101.6 L 35.7,100.1 L 36.6,98.5\" style=\"fill:none;stroke:#000000;stroke-width:2.0px;stroke-linecap:butt;stroke-linejoin:miter;stroke-opacity:1;\"/>\n<path d=\"M 168.1,22.8 L 169.6,22.8 L 171.9,26.6\" style=\"fill:none;stroke:#000000;stroke-width:2.0px;stroke-linecap:butt;stroke-linejoin:miter;stroke-opacity:1;\"/>\n<path class=\"atom-2\" d=\"M 74.8 164.7 L 83.1 178.1 Q 83.9 179.4, 85.2 181.8 Q 86.5 184.2, 86.6 184.4 L 86.6 164.7 L 90.0 164.7 L 90.0 190.0 L 86.5 190.0 L 77.6 175.4 Q 76.6 173.6, 75.5 171.7 Q 74.4 169.7, 74.1 169.1 L 74.1 190.0 L 70.8 190.0 L 70.8 164.7 L 74.8 164.7 \" fill=\"#0000FF\"/>\n<path class=\"atom-4\" d=\"M 46.1 10.1 L 49.5 10.1 L 49.5 20.9 L 62.5 20.9 L 62.5 10.1 L 65.9 10.1 L 65.9 35.4 L 62.5 35.4 L 62.5 23.7 L 49.5 23.7 L 49.5 35.4 L 46.1 35.4 L 46.1 10.1 \" fill=\"#0000FF\"/>\n<path class=\"atom-4\" d=\"M 74.8 10.1 L 83.1 23.5 Q 83.9 24.8, 85.2 27.2 Q 86.5 29.6, 86.6 29.8 L 86.6 10.1 L 90.0 10.1 L 90.0 35.4 L 86.5 35.4 L 77.6 20.8 Q 76.6 19.1, 75.5 17.1 Q 74.4 15.1, 74.1 14.5 L 74.1 35.4 L 70.8 35.4 L 70.8 10.1 L 74.8 10.1 \" fill=\"#0000FF\"/>\n<path class=\"atom-4\" d=\"M 94.8 14.7 L 99.2 14.7 L 99.2 10.0 L 101.2 10.0 L 101.2 14.7 L 105.8 14.7 L 105.8 16.4 L 101.2 16.4 L 101.2 21.1 L 99.2 21.1 L 99.2 16.4 L 94.8 16.4 L 94.8 14.7 \" fill=\"#0000FF\"/>\n</svg>"
          },
          "metadata": {}
        },
        {
          "output_type": "stream",
          "name": "stdout",
          "text": [
            "This is Molecule 2\n"
          ]
        },
        {
          "output_type": "display_data",
          "data": {
            "text/plain": [
              "<IPython.core.display.SVG object>"
            ],
            "image/svg+xml": "<svg xmlns=\"http://www.w3.org/2000/svg\" xmlns:rdkit=\"http://www.rdkit.org/xml\" xmlns:xlink=\"http://www.w3.org/1999/xlink\" version=\"1.1\" baseProfile=\"full\" xml:space=\"preserve\" width=\"250px\" height=\"200px\" viewBox=\"0 0 250 200\">\n<!-- END OF HEADER -->\n<rect style=\"opacity:1.0;fill:#FFFFFF;stroke:none\" width=\"250.0\" height=\"200.0\" x=\"0.0\" y=\"0.0\"> </rect>\n<path class=\"bond-0 atom-0 atom-1\" d=\"M 214.3,100.0 L 169.7,177.4\" style=\"fill:none;fill-rule:evenodd;stroke:#000000;stroke-width:2.0px;stroke-linecap:butt;stroke-linejoin:miter;stroke-opacity:1\"/>\n<path class=\"bond-0 atom-0 atom-1\" d=\"M 198.8,100.0 L 161.9,164.0\" style=\"fill:none;fill-rule:evenodd;stroke:#000000;stroke-width:2.0px;stroke-linecap:butt;stroke-linejoin:miter;stroke-opacity:1\"/>\n<path class=\"bond-1 atom-1 atom-2\" d=\"M 169.7,177.4 L 131.3,177.4\" style=\"fill:none;fill-rule:evenodd;stroke:#000000;stroke-width:2.0px;stroke-linecap:butt;stroke-linejoin:miter;stroke-opacity:1\"/>\n<path class=\"bond-1 atom-1 atom-2\" d=\"M 131.3,177.4 L 92.9,177.4\" style=\"fill:none;fill-rule:evenodd;stroke:#0000FF;stroke-width:2.0px;stroke-linecap:butt;stroke-linejoin:miter;stroke-opacity:1\"/>\n<path class=\"bond-2 atom-2 atom-3\" d=\"M 71.3,161.8 L 53.5,130.9\" style=\"fill:none;fill-rule:evenodd;stroke:#0000FF;stroke-width:2.0px;stroke-linecap:butt;stroke-linejoin:miter;stroke-opacity:1\"/>\n<path class=\"bond-2 atom-2 atom-3\" d=\"M 53.5,130.9 L 35.7,100.0\" style=\"fill:none;fill-rule:evenodd;stroke:#000000;stroke-width:2.0px;stroke-linecap:butt;stroke-linejoin:miter;stroke-opacity:1\"/>\n<path class=\"bond-2 atom-2 atom-3\" d=\"M 82.9,155.1 L 67.0,127.5\" style=\"fill:none;fill-rule:evenodd;stroke:#0000FF;stroke-width:2.0px;stroke-linecap:butt;stroke-linejoin:miter;stroke-opacity:1\"/>\n<path class=\"bond-2 atom-2 atom-3\" d=\"M 67.0,127.5 L 51.2,100.0\" style=\"fill:none;fill-rule:evenodd;stroke:#000000;stroke-width:2.0px;stroke-linecap:butt;stroke-linejoin:miter;stroke-opacity:1\"/>\n<path class=\"bond-3 atom-3 atom-4\" d=\"M 35.7,100.0 L 53.5,69.1\" style=\"fill:none;fill-rule:evenodd;stroke:#000000;stroke-width:2.0px;stroke-linecap:butt;stroke-linejoin:miter;stroke-opacity:1\"/>\n<path class=\"bond-3 atom-3 atom-4\" d=\"M 53.5,69.1 L 71.3,38.2\" style=\"fill:none;fill-rule:evenodd;stroke:#0000FF;stroke-width:2.0px;stroke-linecap:butt;stroke-linejoin:miter;stroke-opacity:1\"/>\n<path class=\"bond-4 atom-4 atom-5\" d=\"M 92.9,22.6 L 131.3,22.6\" style=\"fill:none;fill-rule:evenodd;stroke:#0000FF;stroke-width:2.0px;stroke-linecap:butt;stroke-linejoin:miter;stroke-opacity:1\"/>\n<path class=\"bond-4 atom-4 atom-5\" d=\"M 131.3,22.6 L 169.7,22.6\" style=\"fill:none;fill-rule:evenodd;stroke:#000000;stroke-width:2.0px;stroke-linecap:butt;stroke-linejoin:miter;stroke-opacity:1\"/>\n<path class=\"bond-4 atom-4 atom-5\" d=\"M 92.9,36.0 L 127.4,36.0\" style=\"fill:none;fill-rule:evenodd;stroke:#0000FF;stroke-width:2.0px;stroke-linecap:butt;stroke-linejoin:miter;stroke-opacity:1\"/>\n<path class=\"bond-4 atom-4 atom-5\" d=\"M 127.4,36.0 L 161.9,36.0\" style=\"fill:none;fill-rule:evenodd;stroke:#000000;stroke-width:2.0px;stroke-linecap:butt;stroke-linejoin:miter;stroke-opacity:1\"/>\n<path class=\"bond-5 atom-5 atom-0\" d=\"M 169.7,22.6 L 214.3,100.0\" style=\"fill:none;fill-rule:evenodd;stroke:#000000;stroke-width:2.0px;stroke-linecap:butt;stroke-linejoin:miter;stroke-opacity:1\"/>\n<path d=\"M 212.1,103.9 L 214.3,100.0 L 212.1,96.1\" style=\"fill:none;stroke:#000000;stroke-width:2.0px;stroke-linecap:butt;stroke-linejoin:miter;stroke-opacity:1;\"/>\n<path d=\"M 171.9,173.5 L 169.7,177.4 L 167.7,177.4\" style=\"fill:none;stroke:#000000;stroke-width:2.0px;stroke-linecap:butt;stroke-linejoin:miter;stroke-opacity:1;\"/>\n<path d=\"M 36.6,101.5 L 35.7,100.0 L 36.6,98.5\" style=\"fill:none;stroke:#000000;stroke-width:2.0px;stroke-linecap:butt;stroke-linejoin:miter;stroke-opacity:1;\"/>\n<path d=\"M 167.7,22.6 L 169.7,22.6 L 171.9,26.5\" style=\"fill:none;stroke:#000000;stroke-width:2.0px;stroke-linecap:butt;stroke-linejoin:miter;stroke-opacity:1;\"/>\n<path class=\"atom-2\" d=\"M 74.7 164.7 L 83.0 178.1 Q 83.9 179.4, 85.2 181.8 Q 86.5 184.2, 86.6 184.4 L 86.6 164.7 L 89.9 164.7 L 89.9 190.0 L 86.5 190.0 L 77.6 175.4 Q 76.5 173.6, 75.4 171.7 Q 74.4 169.7, 74.0 169.1 L 74.0 190.0 L 70.7 190.0 L 70.7 164.7 L 74.7 164.7 \" fill=\"#0000FF\"/>\n<path class=\"atom-4\" d=\"M 74.7 10.0 L 83.0 23.4 Q 83.9 24.7, 85.2 27.1 Q 86.5 29.5, 86.6 29.7 L 86.6 10.0 L 89.9 10.0 L 89.9 35.3 L 86.5 35.3 L 77.6 20.6 Q 76.5 18.9, 75.4 17.0 Q 74.4 15.0, 74.0 14.4 L 74.0 35.3 L 70.7 35.3 L 70.7 10.0 L 74.7 10.0 \" fill=\"#0000FF\"/>\n</svg>"
          },
          "metadata": {}
        }
      ]
    },
    {
      "cell_type": "code",
      "source": [
        "#@title Get titratable site\n",
        "# Highest protonation state is always in state[0]\n",
        "titratable_sites = []\n",
        "# pmol is a protonated molecule - always in the highest available protonation\n",
        "# state\n",
        "pmol = mols[0]\n",
        "from rdkit.Chem import rdFMCS\n",
        "res = rdFMCS.FindMCS([pmol, pmol])\n",
        "similar_patt = Chem.MolFromSmarts(res.smartsString)\n",
        "# This is a constant mol[0] substructure match\n",
        "subst_matches_pmol = pmol.GetSubstructMatches(similar_patt)[0]\n",
        "for m in mols[1:]:\n",
        "    subst_matches = m.GetSubstructMatches(similar_patt)[0]\n",
        "    for a0, a in zip(subst_matches_pmol, subst_matches):\n",
        "        if (pmol.GetAtomWithIdx(a0).GetFormalCharge() !=\n",
        "            m.GetAtomWithIdx(a).GetFormalCharge()\n",
        "        ):\n",
        "            titratable_sites.append(a0)\n",
        "titratable_sites = list(set(titratable_sites))"
      ],
      "metadata": {
        "id": "Sl3r5d_MdQcN"
      },
      "execution_count": 8,
      "outputs": []
    },
    {
      "cell_type": "code",
      "source": [
        "titratable_sites"
      ],
      "metadata": {
        "colab": {
          "base_uri": "https://localhost:8080/"
        },
        "id": "X9XK4iUcf9gj",
        "outputId": "e5293eb9-3505-44f9-cb26-6bfbb52b182e"
      },
      "execution_count": 9,
      "outputs": [
        {
          "output_type": "execute_result",
          "data": {
            "text/plain": [
              "[2, 4]"
            ]
          },
          "metadata": {},
          "execution_count": 9
        }
      ]
    },
    {
      "cell_type": "code",
      "source": [
        "#@title Get list of symmetrical titratable sites\n",
        "from rdkit.Chem import rdFMCS\n",
        "# We search for symmetrical sites based on the highest protonation states\n",
        "# NOTE: If the user selects not to include the highest protonation state\n",
        "# this behaviour can cause problems.\n",
        "res = rdFMCS.FindMCS([pmol, pmol])\n",
        "similar_patt = Chem.MolFromSmarts(res.smartsString)\n",
        "subst_matches = pmol.GetSubstructMatches(similar_patt, uniquify=False)\n",
        "print(subst_matches)\n",
        "symmetrical_sites = {x.GetIdx():[x.GetIdx()] for x in pmol.GetAtoms()}\n",
        "if len(subst_matches) > 1:\n",
        "    for sm in subst_matches[1:]:\n",
        "        for ts in titratable_sites:\n",
        "            if sm[subst_matches_pmol.index(ts)] not in symmetrical_sites[ts]:\n",
        "                symmetrical_sites[ts].append(sm[subst_matches_pmol.index(ts)])\n",
        "                symmetrical_sites[sm[subst_matches_pmol.index(ts)]].append(ts)\n",
        "symmetrical_sites"
      ],
      "metadata": {
        "colab": {
          "base_uri": "https://localhost:8080/"
        },
        "id": "SE9qyt_YeuWl",
        "outputId": "b5fca2d8-fb59-4b67-a845-e0e76547e18d"
      },
      "execution_count": 10,
      "outputs": [
        {
          "output_type": "stream",
          "name": "stdout",
          "text": [
            "((0, 1, 2, 3, 4, 5), (0, 5, 4, 3, 2, 1))\n"
          ]
        },
        {
          "output_type": "execute_result",
          "data": {
            "text/plain": [
              "{0: [0], 1: [1], 2: [2, 4], 3: [3], 4: [4, 2], 5: [5]}"
            ]
          },
          "metadata": {},
          "execution_count": 10
        }
      ]
    },
    {
      "cell_type": "code",
      "source": [
        "#@title Get list of sites with multiple hydrogens\n",
        "sites_with_multiple_hs = []\n",
        "for ts in titratable_sites:\n",
        "    if (\n",
        "        pmol.GetAtomWithIdx(ts).GetNumExplicitHs()\n",
        "        + pmol.GetAtomWithIdx(ts).GetNumImplicitHs()\n",
        "        > 1\n",
        "    ):\n",
        "        sites_with_multiple_hs.append(ts)\n",
        "sites_with_multiple_hs"
      ],
      "metadata": {
        "colab": {
          "base_uri": "https://localhost:8080/"
        },
        "id": "c0aAHRyilzwZ",
        "outputId": "8e9c271f-98a1-4dfe-a444-75ff0c8d4b49"
      },
      "execution_count": 11,
      "outputs": [
        {
          "output_type": "execute_result",
          "data": {
            "text/plain": [
              "[]"
            ]
          },
          "metadata": {},
          "execution_count": 11
        }
      ]
    },
    {
      "cell_type": "code",
      "source": [
        "#@title Highlight sites with multiple hydrogens\n",
        "import textwrap\n",
        "if sites_with_multiple_hs:\n",
        "    print(\n",
        "        textwrap.fill(\n",
        "            (\n",
        "                f\"We detected {len(sites_with_multiple_hs)} sites to which \"\n",
        "                + \"multiple hydrogens are attached. Please, take a careful \"\n",
        "                + \"look and let us know whether we should consider those sites \"\n",
        "                + \"as multisite with each hydrogen titrating separately, or as \"\n",
        "                + \"single site, where only one hydrogen is titrated. Note, \"\n",
        "                + \"that we highlight the titratable sites for the molecule in \"\n",
        "                + \"the highest protonation state.\"\n",
        "            ),\n",
        "            120\n",
        "        )\n",
        "    )\n",
        "    colors = [(1.0, 0.0, 0.0, 0.2)]\n",
        "    for i, a in enumerate(sites_with_multiple_hs):\n",
        "        (pmol.GetAtomWithIdx(a)).SetProp('atomNote', str(i+1))\n",
        "    d2d = rdMolDraw2D.MolDraw2DSVG(250, 200)\n",
        "    at_highlights = {x: [colors[0]] for x in sites_with_multiple_hs}\n",
        "    at_rads = {x: 0.5 for x in sites_with_multiple_hs}\n",
        "    d2d.DrawMoleculeWithHighlights(pmol,\"\", at_highlights,{}, at_rads, {})\n",
        "    d2d.FinishDrawing()\n",
        "    display(SVG(d2d.GetDrawingText()))\n",
        "    for a in sites_with_multiple_hs:\n",
        "        (pmol.GetAtomWithIdx(a)).SetProp('atomNote', '')\n",
        "else:\n",
        "    mHs = None\n",
        "    print(\n",
        "        \"No sites to which multiple hydrogens are attached were detected. \"\n",
        "        + \" You can skip the next step.\"\n",
        "    )"
      ],
      "metadata": {
        "colab": {
          "base_uri": "https://localhost:8080/"
        },
        "id": "Yg2K0Mew3-KU",
        "outputId": "494f76c8-821d-450e-f5ee-cda63d78f23e"
      },
      "execution_count": 12,
      "outputs": [
        {
          "output_type": "stream",
          "name": "stdout",
          "text": [
            "No sites to which multiple hydrogens are attached were detected.  You can skip the next step.\n"
          ]
        }
      ]
    },
    {
      "cell_type": "code",
      "source": [
        "#@title Select treatment of multi-hydrogen sites\n",
        "#@markdown Do you want to treat titratable sites with multiple hydrogens\n",
        "#@markdown attached as single multisite or no? Default is no. If you want\n",
        "#@markdown to treat those with multisite representation tick the corresponding\n",
        "#@markdown variable. The id of titratable sites are shown in the previous cell.\n",
        "multiHs_titratable_site_1 = False #@param {type:\"boolean\"}\n",
        "multiHs_titratable_site_2 = False #@param {type:\"boolean\"}\n",
        "multiHs_titratable_site_3 = False #@param {type:\"boolean\"}\n",
        "multiHs_titratable_site_4 = False #@param {type:\"boolean\"}\n",
        "multiHs_titratable_site_5 = False #@param {type:\"boolean\"}\n",
        "\n",
        "mHs = [\n",
        "    multiHs_titratable_site_1,\n",
        "    multiHs_titratable_site_2,\n",
        "    multiHs_titratable_site_3,\n",
        "    multiHs_titratable_site_4,\n",
        "    multiHs_titratable_site_5,\n",
        "][:len(sites_with_multiple_hs)]"
      ],
      "metadata": {
        "id": "6hA84tEeetpF"
      },
      "execution_count": 102,
      "outputs": []
    },
    {
      "cell_type": "code",
      "source": [
        "mHs"
      ],
      "metadata": {
        "id": "9eb3evy4-8JY",
        "colab": {
          "base_uri": "https://localhost:8080/"
        },
        "outputId": "35333319-6d31-450c-e700-4f20849312bf"
      },
      "execution_count": 103,
      "outputs": [
        {
          "output_type": "execute_result",
          "data": {
            "text/plain": [
              "[False]"
            ]
          },
          "metadata": {},
          "execution_count": 103
        }
      ]
    },
    {
      "cell_type": "code",
      "source": [
        "#@title Symmetrical states treatment\n",
        "states = {}  # Dictionary of states and state treatment. Each state has a\n",
        "# molecule, number of states and number of states for consideration, atoms with\n",
        "# different charges of the symmetrical states, and atoms with multiple hydrogens\n",
        "# NOTE: numbering is given in the pmol indices\n",
        "# NOTE: state treatment should be fixed/changed after user input is provided\n",
        "for i, m in enumerate(mols):\n",
        "    from rdkit.Chem import rdFMCS\n",
        "    res = rdFMCS.FindMCS([pmol, pmol])\n",
        "    similar_patt = Chem.MolFromSmarts(res.smartsString)\n",
        "    subst_matches = m.GetSubstructMatches(similar_patt)[0]\n",
        "    charges = {}\n",
        "    for a in symmetrical_sites:\n",
        "        # We collect formal charges for each symmetrical state.\n",
        "        charges[a] = [\n",
        "            m.GetAtomWithIdx(\n",
        "                subst_matches[subst_matches_pmol.index(a)]\n",
        "            ).GetFormalCharge()\n",
        "        ]\n",
        "        # If there is only one symmetrical site for an atom, nothing to do.\n",
        "        if len(symmetrical_sites[a]) == 1:\n",
        "            continue\n",
        "        # Add symmetrical charges to the atom charge list\n",
        "        for idx in symmetrical_sites[a][1:]:\n",
        "            charges[a].append(\n",
        "                m.GetAtomWithIdx(\n",
        "                    subst_matches[subst_matches_pmol.index(idx)]\n",
        "                ).GetFormalCharge()\n",
        "            )\n",
        "    # If for all atoms in this states there is only on charge, nothing to do.\n",
        "    if all([len(list(set(x))) == 1 for x in charges.values()]):\n",
        "        states[i] = (m, 1, 1, None, None)\n",
        "        continue\n",
        "    print(f\"For molecule {i} symmetrical states were detected:\")\n",
        "    d2d = rdMolDraw2D.MolDraw2DSVG(250, 200)\n",
        "    d2d.DrawMolecule(m)\n",
        "    d2d.FinishDrawing()\n",
        "    display(SVG(d2d.GetDrawingText()))\n",
        "    print(\"These are found symmetrical states:\")\n",
        "    # Symmetrical atoms with different charges\n",
        "    atoms_to_change = [x for x in charges if len(charges[x]) > 1]\n",
        "    # Atoms for which there no difference between states, but their charge is\n",
        "    # different from the highest protonation state\n",
        "    atoms_with_dif_charges = [\n",
        "        x for x in charges if len(charges[x]) == 1 and\n",
        "        charges[x][0] != pmol.GetAtomWithIdx(x).GetFormalCharge()\n",
        "    ]\n",
        "    charge_combinations = list(zip(*[charges[x] for x in atoms_to_change]))\n",
        "    # We collect already seen sets of charges in state_charges\n",
        "    state_charges = []\n",
        "    from copy import deepcopy\n",
        "    for c in charge_combinations:\n",
        "        m_new = deepcopy(pmol)\n",
        "        # We set up state specific symmetrical charges\n",
        "        for a in atoms_with_dif_charges:\n",
        "            m_new.GetAtomWithIdx(a).SetFormalCharge(\n",
        "                pmol.GetAtomWithIdx(a).GetFormalCharge() - 1\n",
        "            )\n",
        "            m_new.GetAtomWithIdx(a).SetNumExplicitHs(\n",
        "                pmol.GetAtomWithIdx(a).GetNumExplicitHs() - 1\n",
        "            )\n",
        "        # We set up other state charges\n",
        "        for a_charge, a in zip(c, atoms_to_change):\n",
        "            if a_charge != pmol.GetAtomWithIdx(a).GetFormalCharge():\n",
        "                m_new.GetAtomWithIdx(a).SetFormalCharge(a_charge)\n",
        "                m_new.GetAtomWithIdx(a).SetNumExplicitHs(\n",
        "                    pmol.GetAtomWithIdx(a).GetNumExplicitHs() - 1\n",
        "                )\n",
        "        # We do nothing if there are\n",
        "        if [x.GetFormalCharge() for x in m_new.GetAtoms()] in state_charges:\n",
        "            continue\n",
        "        state_charges.append([x.GetFormalCharge() for x in m_new.GetAtoms()])\n",
        "        d2d = rdMolDraw2D.MolDraw2DSVG(250, 200)\n",
        "        colors = [(0.0, 1.0, 0.0, 0.2)]\n",
        "        at_highlights = {x: [colors[0]] for x in atoms_to_change}\n",
        "        at_rads = {x: 0.5 for x in atoms_to_change}\n",
        "        d2d.DrawMoleculeWithHighlights(m_new,\"\", at_highlights,{}, at_rads, {})\n",
        "        d2d.FinishDrawing()\n",
        "        display(SVG(d2d.GetDrawingText()))\n",
        "    states[i] = (\n",
        "        m, len(state_charges), 1, (atoms_to_change, state_charges), None\n",
        "    )\n",
        "if all([x[1] == 1 for x in states.values()]):\n",
        "    ss = None\n",
        "    print(\n",
        "        \"No symmetrical states were found \"\n",
        "        + \" You can skip the next step.\"\n",
        "    )"
      ],
      "metadata": {
        "colab": {
          "base_uri": "https://localhost:8080/",
          "height": 669
        },
        "id": "cMIgAhkBxviB",
        "outputId": "40c2696a-e506-4ca1-f43f-0c0f929639fc"
      },
      "execution_count": 26,
      "outputs": [
        {
          "output_type": "stream",
          "name": "stdout",
          "text": [
            "For molecule 1 symmetrical states were detected:\n"
          ]
        },
        {
          "output_type": "display_data",
          "data": {
            "text/plain": [
              "<IPython.core.display.SVG object>"
            ],
            "image/svg+xml": "<svg xmlns=\"http://www.w3.org/2000/svg\" xmlns:rdkit=\"http://www.rdkit.org/xml\" xmlns:xlink=\"http://www.w3.org/1999/xlink\" version=\"1.1\" baseProfile=\"full\" xml:space=\"preserve\" width=\"250px\" height=\"200px\" viewBox=\"0 0 250 200\">\n<!-- END OF HEADER -->\n<rect style=\"opacity:1.0;fill:#FFFFFF;stroke:none\" width=\"250.0\" height=\"200.0\" x=\"0.0\" y=\"0.0\"> </rect>\n<path class=\"bond-0 atom-0 atom-1\" d=\"M 214.3,100.1 L 169.6,177.4\" style=\"fill:none;fill-rule:evenodd;stroke:#000000;stroke-width:2.0px;stroke-linecap:butt;stroke-linejoin:miter;stroke-opacity:1\"/>\n<path class=\"bond-0 atom-0 atom-1\" d=\"M 198.8,100.1 L 161.9,164.0\" style=\"fill:none;fill-rule:evenodd;stroke:#000000;stroke-width:2.0px;stroke-linecap:butt;stroke-linejoin:miter;stroke-opacity:1\"/>\n<path class=\"bond-1 atom-1 atom-2\" d=\"M 169.6,177.4 L 131.3,177.4\" style=\"fill:none;fill-rule:evenodd;stroke:#000000;stroke-width:2.0px;stroke-linecap:butt;stroke-linejoin:miter;stroke-opacity:1\"/>\n<path class=\"bond-1 atom-1 atom-2\" d=\"M 131.3,177.4 L 92.9,177.4\" style=\"fill:none;fill-rule:evenodd;stroke:#0000FF;stroke-width:2.0px;stroke-linecap:butt;stroke-linejoin:miter;stroke-opacity:1\"/>\n<path class=\"bond-2 atom-2 atom-3\" d=\"M 71.4,161.8 L 53.6,130.9\" style=\"fill:none;fill-rule:evenodd;stroke:#0000FF;stroke-width:2.0px;stroke-linecap:butt;stroke-linejoin:miter;stroke-opacity:1\"/>\n<path class=\"bond-2 atom-2 atom-3\" d=\"M 53.6,130.9 L 35.7,100.1\" style=\"fill:none;fill-rule:evenodd;stroke:#000000;stroke-width:2.0px;stroke-linecap:butt;stroke-linejoin:miter;stroke-opacity:1\"/>\n<path class=\"bond-2 atom-2 atom-3\" d=\"M 83.0,155.1 L 67.1,127.6\" style=\"fill:none;fill-rule:evenodd;stroke:#0000FF;stroke-width:2.0px;stroke-linecap:butt;stroke-linejoin:miter;stroke-opacity:1\"/>\n<path class=\"bond-2 atom-2 atom-3\" d=\"M 67.1,127.6 L 51.2,100.1\" style=\"fill:none;fill-rule:evenodd;stroke:#000000;stroke-width:2.0px;stroke-linecap:butt;stroke-linejoin:miter;stroke-opacity:1\"/>\n<path class=\"bond-3 atom-3 atom-4\" d=\"M 35.7,100.1 L 53.6,69.2\" style=\"fill:none;fill-rule:evenodd;stroke:#000000;stroke-width:2.0px;stroke-linecap:butt;stroke-linejoin:miter;stroke-opacity:1\"/>\n<path class=\"bond-3 atom-3 atom-4\" d=\"M 53.6,69.2 L 71.4,38.4\" style=\"fill:none;fill-rule:evenodd;stroke:#0000FF;stroke-width:2.0px;stroke-linecap:butt;stroke-linejoin:miter;stroke-opacity:1\"/>\n<path class=\"bond-4 atom-4 atom-5\" d=\"M 108.7,22.8 L 139.2,22.8\" style=\"fill:none;fill-rule:evenodd;stroke:#0000FF;stroke-width:2.0px;stroke-linecap:butt;stroke-linejoin:miter;stroke-opacity:1\"/>\n<path class=\"bond-4 atom-4 atom-5\" d=\"M 139.2,22.8 L 169.6,22.8\" style=\"fill:none;fill-rule:evenodd;stroke:#000000;stroke-width:2.0px;stroke-linecap:butt;stroke-linejoin:miter;stroke-opacity:1\"/>\n<path class=\"bond-4 atom-4 atom-5\" d=\"M 108.7,36.2 L 135.3,36.2\" style=\"fill:none;fill-rule:evenodd;stroke:#0000FF;stroke-width:2.0px;stroke-linecap:butt;stroke-linejoin:miter;stroke-opacity:1\"/>\n<path class=\"bond-4 atom-4 atom-5\" d=\"M 135.3,36.2 L 161.9,36.2\" style=\"fill:none;fill-rule:evenodd;stroke:#000000;stroke-width:2.0px;stroke-linecap:butt;stroke-linejoin:miter;stroke-opacity:1\"/>\n<path class=\"bond-5 atom-5 atom-0\" d=\"M 169.6,22.8 L 214.3,100.1\" style=\"fill:none;fill-rule:evenodd;stroke:#000000;stroke-width:2.0px;stroke-linecap:butt;stroke-linejoin:miter;stroke-opacity:1\"/>\n<path d=\"M 212.0,103.9 L 214.3,100.1 L 212.0,96.2\" style=\"fill:none;stroke:#000000;stroke-width:2.0px;stroke-linecap:butt;stroke-linejoin:miter;stroke-opacity:1;\"/>\n<path d=\"M 171.9,173.5 L 169.6,177.4 L 167.7,177.4\" style=\"fill:none;stroke:#000000;stroke-width:2.0px;stroke-linecap:butt;stroke-linejoin:miter;stroke-opacity:1;\"/>\n<path d=\"M 36.6,101.6 L 35.7,100.1 L 36.6,98.5\" style=\"fill:none;stroke:#000000;stroke-width:2.0px;stroke-linecap:butt;stroke-linejoin:miter;stroke-opacity:1;\"/>\n<path d=\"M 168.1,22.8 L 169.6,22.8 L 171.9,26.6\" style=\"fill:none;stroke:#000000;stroke-width:2.0px;stroke-linecap:butt;stroke-linejoin:miter;stroke-opacity:1;\"/>\n<path class=\"atom-2\" d=\"M 74.8 164.7 L 83.1 178.1 Q 83.9 179.4, 85.2 181.8 Q 86.5 184.2, 86.6 184.4 L 86.6 164.7 L 90.0 164.7 L 90.0 190.0 L 86.5 190.0 L 77.6 175.4 Q 76.6 173.6, 75.5 171.7 Q 74.4 169.7, 74.1 169.1 L 74.1 190.0 L 70.8 190.0 L 70.8 164.7 L 74.8 164.7 \" fill=\"#0000FF\"/>\n<path class=\"atom-4\" d=\"M 46.1 10.1 L 49.5 10.1 L 49.5 20.9 L 62.5 20.9 L 62.5 10.1 L 65.9 10.1 L 65.9 35.4 L 62.5 35.4 L 62.5 23.7 L 49.5 23.7 L 49.5 35.4 L 46.1 35.4 L 46.1 10.1 \" fill=\"#0000FF\"/>\n<path class=\"atom-4\" d=\"M 74.8 10.1 L 83.1 23.5 Q 83.9 24.8, 85.2 27.2 Q 86.5 29.6, 86.6 29.8 L 86.6 10.1 L 90.0 10.1 L 90.0 35.4 L 86.5 35.4 L 77.6 20.8 Q 76.6 19.1, 75.5 17.1 Q 74.4 15.1, 74.1 14.5 L 74.1 35.4 L 70.8 35.4 L 70.8 10.1 L 74.8 10.1 \" fill=\"#0000FF\"/>\n<path class=\"atom-4\" d=\"M 94.8 14.7 L 99.2 14.7 L 99.2 10.0 L 101.2 10.0 L 101.2 14.7 L 105.8 14.7 L 105.8 16.4 L 101.2 16.4 L 101.2 21.1 L 99.2 21.1 L 99.2 16.4 L 94.8 16.4 L 94.8 14.7 \" fill=\"#0000FF\"/>\n</svg>"
          },
          "metadata": {}
        },
        {
          "output_type": "stream",
          "name": "stdout",
          "text": [
            "These are found symmetrical states:\n"
          ]
        },
        {
          "output_type": "display_data",
          "data": {
            "text/plain": [
              "<IPython.core.display.SVG object>"
            ],
            "image/svg+xml": "<svg xmlns=\"http://www.w3.org/2000/svg\" xmlns:rdkit=\"http://www.rdkit.org/xml\" xmlns:xlink=\"http://www.w3.org/1999/xlink\" version=\"1.1\" baseProfile=\"full\" xml:space=\"preserve\" width=\"250px\" height=\"200px\" viewBox=\"0 0 250 200\">\n<!-- END OF HEADER -->\n<rect style=\"opacity:1.0;fill:#FFFFFF;stroke:none\" width=\"250.0\" height=\"200.0\" x=\"0.0\" y=\"0.0\"> </rect>\n<ellipse cx=\"88.3\" cy=\"165.0\" rx=\"25.0\" ry=\"25.0\" class=\"atom-2\" style=\"fill:#00FF0033;fill-rule:evenodd;stroke:#00FF0033;stroke-width:1.0px;stroke-linecap:butt;stroke-linejoin:miter;stroke-opacity:1\"/>\n<ellipse cx=\"84.6\" cy=\"35.0\" rx=\"35.5\" ry=\"25.0\" class=\"atom-4\" style=\"fill:#00FF0033;fill-rule:evenodd;stroke:#00FF0033;stroke-width:1.0px;stroke-linecap:butt;stroke-linejoin:miter;stroke-opacity:1\"/>\n<path class=\"bond-0 atom-0 atom-1\" d=\"M 200.8,100.0 L 163.3,165.0\" style=\"fill:none;fill-rule:evenodd;stroke:#000000;stroke-width:2.0px;stroke-linecap:butt;stroke-linejoin:miter;stroke-opacity:1\"/>\n<path class=\"bond-0 atom-0 atom-1\" d=\"M 187.9,100.0 L 156.8,153.7\" style=\"fill:none;fill-rule:evenodd;stroke:#000000;stroke-width:2.0px;stroke-linecap:butt;stroke-linejoin:miter;stroke-opacity:1\"/>\n<path class=\"bond-1 atom-1 atom-2\" d=\"M 163.3,165.0 L 131.1,165.0\" style=\"fill:none;fill-rule:evenodd;stroke:#000000;stroke-width:2.0px;stroke-linecap:butt;stroke-linejoin:miter;stroke-opacity:1\"/>\n<path class=\"bond-1 atom-1 atom-2\" d=\"M 131.1,165.0 L 98.9,165.0\" style=\"fill:none;fill-rule:evenodd;stroke:#0000FF;stroke-width:2.0px;stroke-linecap:butt;stroke-linejoin:miter;stroke-opacity:1\"/>\n<path class=\"bond-2 atom-2 atom-3\" d=\"M 80.8,151.9 L 65.8,126.0\" style=\"fill:none;fill-rule:evenodd;stroke:#0000FF;stroke-width:2.0px;stroke-linecap:butt;stroke-linejoin:miter;stroke-opacity:1\"/>\n<path class=\"bond-2 atom-2 atom-3\" d=\"M 65.8,126.0 L 50.8,100.0\" style=\"fill:none;fill-rule:evenodd;stroke:#000000;stroke-width:2.0px;stroke-linecap:butt;stroke-linejoin:miter;stroke-opacity:1\"/>\n<path class=\"bond-2 atom-2 atom-3\" d=\"M 90.5,146.3 L 77.2,123.1\" style=\"fill:none;fill-rule:evenodd;stroke:#0000FF;stroke-width:2.0px;stroke-linecap:butt;stroke-linejoin:miter;stroke-opacity:1\"/>\n<path class=\"bond-2 atom-2 atom-3\" d=\"M 77.2,123.1 L 63.8,100.0\" style=\"fill:none;fill-rule:evenodd;stroke:#000000;stroke-width:2.0px;stroke-linecap:butt;stroke-linejoin:miter;stroke-opacity:1\"/>\n<path class=\"bond-3 atom-3 atom-4\" d=\"M 50.8,100.0 L 65.8,74.1\" style=\"fill:none;fill-rule:evenodd;stroke:#000000;stroke-width:2.0px;stroke-linecap:butt;stroke-linejoin:miter;stroke-opacity:1\"/>\n<path class=\"bond-3 atom-3 atom-4\" d=\"M 65.8,74.1 L 80.8,48.2\" style=\"fill:none;fill-rule:evenodd;stroke:#0000FF;stroke-width:2.0px;stroke-linecap:butt;stroke-linejoin:miter;stroke-opacity:1\"/>\n<path class=\"bond-4 atom-4 atom-5\" d=\"M 112.2,35.1 L 137.7,35.1\" style=\"fill:none;fill-rule:evenodd;stroke:#0000FF;stroke-width:2.0px;stroke-linecap:butt;stroke-linejoin:miter;stroke-opacity:1\"/>\n<path class=\"bond-4 atom-4 atom-5\" d=\"M 137.7,35.1 L 163.3,35.1\" style=\"fill:none;fill-rule:evenodd;stroke:#000000;stroke-width:2.0px;stroke-linecap:butt;stroke-linejoin:miter;stroke-opacity:1\"/>\n<path class=\"bond-4 atom-4 atom-5\" d=\"M 112.2,46.3 L 134.5,46.3\" style=\"fill:none;fill-rule:evenodd;stroke:#0000FF;stroke-width:2.0px;stroke-linecap:butt;stroke-linejoin:miter;stroke-opacity:1\"/>\n<path class=\"bond-4 atom-4 atom-5\" d=\"M 134.5,46.3 L 156.8,46.3\" style=\"fill:none;fill-rule:evenodd;stroke:#000000;stroke-width:2.0px;stroke-linecap:butt;stroke-linejoin:miter;stroke-opacity:1\"/>\n<path class=\"bond-5 atom-5 atom-0\" d=\"M 163.3,35.1 L 200.8,100.0\" style=\"fill:none;fill-rule:evenodd;stroke:#000000;stroke-width:2.0px;stroke-linecap:butt;stroke-linejoin:miter;stroke-opacity:1\"/>\n<path d=\"M 199.0,103.3 L 200.8,100.0 L 199.0,96.8\" style=\"fill:none;stroke:#000000;stroke-width:2.0px;stroke-linecap:butt;stroke-linejoin:miter;stroke-opacity:1;\"/>\n<path d=\"M 165.2,161.7 L 163.3,165.0 L 161.7,165.0\" style=\"fill:none;stroke:#000000;stroke-width:2.0px;stroke-linecap:butt;stroke-linejoin:miter;stroke-opacity:1;\"/>\n<path d=\"M 51.6,101.3 L 50.8,100.0 L 51.6,98.7\" style=\"fill:none;stroke:#000000;stroke-width:2.0px;stroke-linecap:butt;stroke-linejoin:miter;stroke-opacity:1;\"/>\n<path d=\"M 162.1,35.1 L 163.3,35.1 L 165.2,38.3\" style=\"fill:none;stroke:#000000;stroke-width:2.0px;stroke-linecap:butt;stroke-linejoin:miter;stroke-opacity:1;\"/>\n<path class=\"atom-2\" d=\"M 83.6 154.4 L 90.6 165.6 Q 91.3 166.7, 92.4 168.7 Q 93.5 170.8, 93.6 170.9 L 93.6 154.4 L 96.4 154.4 L 96.4 175.6 L 93.5 175.6 L 86.0 163.3 Q 85.1 161.9, 84.2 160.2 Q 83.3 158.6, 83.0 158.1 L 83.0 175.6 L 80.3 175.6 L 80.3 154.4 L 83.6 154.4 \" fill=\"#0000FF\"/>\n<path class=\"atom-4\" d=\"M 59.5 24.4 L 62.4 24.4 L 62.4 33.5 L 73.3 33.5 L 73.3 24.4 L 76.2 24.4 L 76.2 45.7 L 73.3 45.7 L 73.3 35.9 L 62.4 35.9 L 62.4 45.7 L 59.5 45.7 L 59.5 24.4 \" fill=\"#0000FF\"/>\n<path class=\"atom-4\" d=\"M 83.6 24.4 L 90.6 35.7 Q 91.3 36.8, 92.4 38.8 Q 93.5 40.8, 93.6 40.9 L 93.6 24.4 L 96.4 24.4 L 96.4 45.7 L 93.5 45.7 L 86.0 33.4 Q 85.1 31.9, 84.2 30.3 Q 83.3 28.6, 83.0 28.1 L 83.0 45.7 L 80.3 45.7 L 80.3 24.4 L 83.6 24.4 \" fill=\"#0000FF\"/>\n<path class=\"atom-4\" d=\"M 100.4 28.3 L 104.2 28.3 L 104.2 24.3 L 105.8 24.3 L 105.8 28.3 L 109.7 28.3 L 109.7 29.7 L 105.8 29.7 L 105.8 33.7 L 104.2 33.7 L 104.2 29.7 L 100.4 29.7 L 100.4 28.3 \" fill=\"#0000FF\"/>\n</svg>"
          },
          "metadata": {}
        },
        {
          "output_type": "display_data",
          "data": {
            "text/plain": [
              "<IPython.core.display.SVG object>"
            ],
            "image/svg+xml": "<svg xmlns=\"http://www.w3.org/2000/svg\" xmlns:rdkit=\"http://www.rdkit.org/xml\" xmlns:xlink=\"http://www.w3.org/1999/xlink\" version=\"1.1\" baseProfile=\"full\" xml:space=\"preserve\" width=\"250px\" height=\"200px\" viewBox=\"0 0 250 200\">\n<!-- END OF HEADER -->\n<rect style=\"opacity:1.0;fill:#FFFFFF;stroke:none\" width=\"250.0\" height=\"200.0\" x=\"0.0\" y=\"0.0\"> </rect>\n<ellipse cx=\"84.6\" cy=\"165.0\" rx=\"35.5\" ry=\"25.0\" class=\"atom-2\" style=\"fill:#00FF0033;fill-rule:evenodd;stroke:#00FF0033;stroke-width:1.0px;stroke-linecap:butt;stroke-linejoin:miter;stroke-opacity:1\"/>\n<ellipse cx=\"88.3\" cy=\"35.0\" rx=\"25.0\" ry=\"25.0\" class=\"atom-4\" style=\"fill:#00FF0033;fill-rule:evenodd;stroke:#00FF0033;stroke-width:1.0px;stroke-linecap:butt;stroke-linejoin:miter;stroke-opacity:1\"/>\n<path class=\"bond-0 atom-0 atom-1\" d=\"M 200.9,100.0 L 163.4,165.0\" style=\"fill:none;fill-rule:evenodd;stroke:#000000;stroke-width:2.0px;stroke-linecap:butt;stroke-linejoin:miter;stroke-opacity:1\"/>\n<path class=\"bond-0 atom-0 atom-1\" d=\"M 187.9,100.0 L 156.9,153.8\" style=\"fill:none;fill-rule:evenodd;stroke:#000000;stroke-width:2.0px;stroke-linecap:butt;stroke-linejoin:miter;stroke-opacity:1\"/>\n<path class=\"bond-1 atom-1 atom-2\" d=\"M 163.4,165.0 L 137.8,165.0\" style=\"fill:none;fill-rule:evenodd;stroke:#000000;stroke-width:2.0px;stroke-linecap:butt;stroke-linejoin:miter;stroke-opacity:1\"/>\n<path class=\"bond-1 atom-1 atom-2\" d=\"M 137.8,165.0 L 112.1,165.0\" style=\"fill:none;fill-rule:evenodd;stroke:#0000FF;stroke-width:2.0px;stroke-linecap:butt;stroke-linejoin:miter;stroke-opacity:1\"/>\n<path class=\"bond-2 atom-2 atom-3\" d=\"M 80.7,151.9 L 65.8,126.0\" style=\"fill:none;fill-rule:evenodd;stroke:#0000FF;stroke-width:2.0px;stroke-linecap:butt;stroke-linejoin:miter;stroke-opacity:1\"/>\n<path class=\"bond-2 atom-2 atom-3\" d=\"M 65.8,126.0 L 50.8,100.0\" style=\"fill:none;fill-rule:evenodd;stroke:#000000;stroke-width:2.0px;stroke-linecap:butt;stroke-linejoin:miter;stroke-opacity:1\"/>\n<path class=\"bond-2 atom-2 atom-3\" d=\"M 90.5,146.3 L 77.1,123.2\" style=\"fill:none;fill-rule:evenodd;stroke:#0000FF;stroke-width:2.0px;stroke-linecap:butt;stroke-linejoin:miter;stroke-opacity:1\"/>\n<path class=\"bond-2 atom-2 atom-3\" d=\"M 77.1,123.2 L 63.8,100.0\" style=\"fill:none;fill-rule:evenodd;stroke:#000000;stroke-width:2.0px;stroke-linecap:butt;stroke-linejoin:miter;stroke-opacity:1\"/>\n<path class=\"bond-3 atom-3 atom-4\" d=\"M 50.8,100.0 L 65.8,74.1\" style=\"fill:none;fill-rule:evenodd;stroke:#000000;stroke-width:2.0px;stroke-linecap:butt;stroke-linejoin:miter;stroke-opacity:1\"/>\n<path class=\"bond-3 atom-3 atom-4\" d=\"M 65.8,74.1 L 80.7,48.1\" style=\"fill:none;fill-rule:evenodd;stroke:#0000FF;stroke-width:2.0px;stroke-linecap:butt;stroke-linejoin:miter;stroke-opacity:1\"/>\n<path class=\"bond-4 atom-4 atom-5\" d=\"M 98.8,35.0 L 131.1,35.0\" style=\"fill:none;fill-rule:evenodd;stroke:#0000FF;stroke-width:2.0px;stroke-linecap:butt;stroke-linejoin:miter;stroke-opacity:1\"/>\n<path class=\"bond-4 atom-4 atom-5\" d=\"M 131.1,35.0 L 163.4,35.0\" style=\"fill:none;fill-rule:evenodd;stroke:#000000;stroke-width:2.0px;stroke-linecap:butt;stroke-linejoin:miter;stroke-opacity:1\"/>\n<path class=\"bond-4 atom-4 atom-5\" d=\"M 98.8,46.3 L 127.9,46.3\" style=\"fill:none;fill-rule:evenodd;stroke:#0000FF;stroke-width:2.0px;stroke-linecap:butt;stroke-linejoin:miter;stroke-opacity:1\"/>\n<path class=\"bond-4 atom-4 atom-5\" d=\"M 127.9,46.3 L 156.9,46.3\" style=\"fill:none;fill-rule:evenodd;stroke:#000000;stroke-width:2.0px;stroke-linecap:butt;stroke-linejoin:miter;stroke-opacity:1\"/>\n<path class=\"bond-5 atom-5 atom-0\" d=\"M 163.4,35.0 L 200.9,100.0\" style=\"fill:none;fill-rule:evenodd;stroke:#000000;stroke-width:2.0px;stroke-linecap:butt;stroke-linejoin:miter;stroke-opacity:1\"/>\n<path d=\"M 199.0,103.3 L 200.9,100.0 L 199.0,96.8\" style=\"fill:none;stroke:#000000;stroke-width:2.0px;stroke-linecap:butt;stroke-linejoin:miter;stroke-opacity:1;\"/>\n<path d=\"M 165.2,161.8 L 163.4,165.0 L 162.1,165.0\" style=\"fill:none;stroke:#000000;stroke-width:2.0px;stroke-linecap:butt;stroke-linejoin:miter;stroke-opacity:1;\"/>\n<path d=\"M 51.5,101.3 L 50.8,100.0 L 51.5,98.7\" style=\"fill:none;stroke:#000000;stroke-width:2.0px;stroke-linecap:butt;stroke-linejoin:miter;stroke-opacity:1;\"/>\n<path d=\"M 161.8,35.0 L 163.4,35.0 L 165.2,38.3\" style=\"fill:none;stroke:#000000;stroke-width:2.0px;stroke-linecap:butt;stroke-linejoin:miter;stroke-opacity:1;\"/>\n<path class=\"atom-2\" d=\"M 59.5 154.4 L 62.4 154.4 L 62.4 163.4 L 73.2 163.4 L 73.2 154.4 L 76.1 154.4 L 76.1 175.7 L 73.2 175.7 L 73.2 165.8 L 62.4 165.8 L 62.4 175.7 L 59.5 175.7 L 59.5 154.4 \" fill=\"#0000FF\"/>\n<path class=\"atom-2\" d=\"M 83.6 154.4 L 90.6 165.7 Q 91.3 166.8, 92.4 168.8 Q 93.5 170.8, 93.5 170.9 L 93.5 154.4 L 96.4 154.4 L 96.4 175.7 L 93.5 175.7 L 86.0 163.4 Q 85.1 161.9, 84.2 160.3 Q 83.3 158.6, 83.0 158.1 L 83.0 175.7 L 80.2 175.7 L 80.2 154.4 L 83.6 154.4 \" fill=\"#0000FF\"/>\n<path class=\"atom-2\" d=\"M 100.4 158.2 L 104.2 158.2 L 104.2 154.3 L 105.8 154.3 L 105.8 158.2 L 109.7 158.2 L 109.7 159.7 L 105.8 159.7 L 105.8 163.6 L 104.2 163.6 L 104.2 159.7 L 100.4 159.7 L 100.4 158.2 \" fill=\"#0000FF\"/>\n<path class=\"atom-4\" d=\"M 83.6 24.4 L 90.6 35.7 Q 91.3 36.8, 92.4 38.8 Q 93.5 40.8, 93.5 40.9 L 93.5 24.4 L 96.4 24.4 L 96.4 45.7 L 93.5 45.7 L 86.0 33.3 Q 85.1 31.9, 84.2 30.2 Q 83.3 28.6, 83.0 28.1 L 83.0 45.7 L 80.2 45.7 L 80.2 24.4 L 83.6 24.4 \" fill=\"#0000FF\"/>\n</svg>"
          },
          "metadata": {}
        }
      ]
    },
    {
      "cell_type": "code",
      "source": [
        "#@title Select treatment of symmetrical states\n",
        "#@markdown Please, select whether to inclue symmetrical states for a molecule\n",
        "#@markdown or not. If for a particular molecule there are no symmetrical\n",
        "#@markdown states available, selecting True won't influence the behaviour\n",
        "use_symmetrical_states_molecule_0 = False #@param {type:\"boolean\"}\n",
        "use_symmetrical_states_molecule_1 = True #@param {type:\"boolean\"}\n",
        "use_symmetrical_states_molecule_2 = False #@param {type:\"boolean\"}\n",
        "use_symmetrical_states_molecule_3 = False #@param {type:\"boolean\"}\n",
        "use_symmetrical_states_molecule_4 = False #@param {type:\"boolean\"}\n",
        "use_symmetrical_states_molecule_5 = False #@param {type:\"boolean\"}\n",
        "use_symmetrical_states_molecule_6 = False #@param {type:\"boolean\"}\n",
        "use_symmetrical_states_molecule_7 = False #@param {type:\"boolean\"}\n",
        "use_symmetrical_states_molecule_8 = False #@param {type:\"boolean\"}\n",
        "use_symmetrical_states_molecule_9 = False #@param {type:\"boolean\"}\n",
        "\n",
        "ss = [\n",
        "    use_symmetrical_states_molecule_0,\n",
        "    use_symmetrical_states_molecule_1,\n",
        "    use_symmetrical_states_molecule_2,\n",
        "    use_symmetrical_states_molecule_3,\n",
        "    use_symmetrical_states_molecule_4,\n",
        "    use_symmetrical_states_molecule_5,\n",
        "    use_symmetrical_states_molecule_6,\n",
        "    use_symmetrical_states_molecule_7,\n",
        "    use_symmetrical_states_molecule_8,\n",
        "    use_symmetrical_states_molecule_9,\n",
        "][:len(states)]"
      ],
      "metadata": {
        "id": "gbwN4jUv9e0f"
      },
      "execution_count": 27,
      "outputs": []
    },
    {
      "cell_type": "code",
      "source": [
        "#@title Update states information\n",
        "for i, s in zip(states.keys(), states.values()):\n",
        "    if ss:\n",
        "        t = ss[i]\n",
        "    else:\n",
        "        t = False\n",
        "    if t:\n",
        "        states[i] = (s[0], s[1], s[1], s[3], s[4])\n",
        "    if mHs:\n",
        "        from rdkit.Chem import rdFMCS\n",
        "        res = rdFMCS.FindMCS([pmol, pmol])\n",
        "        similar_patt = Chem.MolFromSmarts(res.smartsString)\n",
        "        subst_matches = s[0].GetSubstructMatches(similar_patt)[0]\n",
        "        factor = 1\n",
        "        atoms_with_mhs = []\n",
        "        for idx in sites_with_multiple_hs:\n",
        "            if not mHs[sites_with_multiple_hs.index(idx)]:\n",
        "                continue\n",
        "            a = s[0].GetAtomWithIdx(\n",
        "                subst_matches[subst_matches_pmol.index(idx)]\n",
        "            )\n",
        "            a_p = pmol.GetAtomWithIdx(idx)\n",
        "            if (\n",
        "                (a.GetNumExplicitHs() + a.GetNumImplicitHs()) !=\n",
        "                (a_p.GetNumExplicitHs() + a_p.GetNumImplicitHs())\n",
        "            ):\n",
        "                # TODO: we also need to add symmetrical atoms\n",
        "                atoms_with_mhs.append(idx)\n",
        "                factor *= (a_p.GetNumExplicitHs() + a_p.GetNumImplicitHs())\n",
        "        states[i] = (s[0], s[1], states[i][1] * factor, s[3], atoms_with_mhs)\n",
        "states"
      ],
      "metadata": {
        "colab": {
          "base_uri": "https://localhost:8080/"
        },
        "id": "GjWEZ3WGvpSf",
        "outputId": "3d207668-cfb2-46e0-ef5b-37f2f6220dc6"
      },
      "execution_count": 28,
      "outputs": [
        {
          "output_type": "execute_result",
          "data": {
            "text/plain": [
              "{0: (<rdkit.Chem.rdchem.Mol at 0x7b81ffc54e40>, 1, 1, None, None),\n",
              " 1: (<rdkit.Chem.rdchem.Mol at 0x7b81ffc56b90>,\n",
              "  2,\n",
              "  2,\n",
              "  ([2, 4], [[0, 0, 0, 0, 1, 0], [0, 0, 1, 0, 0, 0]]),\n",
              "  None),\n",
              " 2: (<rdkit.Chem.rdchem.Mol at 0x7b81ffc55000>, 1, 1, None, None)}"
            ]
          },
          "metadata": {},
          "execution_count": 28
        }
      ]
    },
    {
      "cell_type": "code",
      "source": [
        "#@title Show state transitions\n",
        "state_transitions = []\n",
        "for i, m1 in enumerate(mols):\n",
        "    for j, m2 in enumerate(mols[i+1:]):\n",
        "        from rdkit.Chem import rdFMCS\n",
        "        res = rdFMCS.FindMCS([pmol, pmol])\n",
        "        similar_patt = Chem.MolFromSmarts(res.smartsString)\n",
        "        subst_matches1 = m1.GetSubstructMatches(similar_patt)[0]\n",
        "        subst_matches2 = m2.GetSubstructMatches(similar_patt)[0]\n",
        "        n_diffs = 0\n",
        "        for idx in titratable_sites:\n",
        "            if (\n",
        "                m1.GetAtomWithIdx(\n",
        "                    subst_matches1[subst_matches_pmol.index(idx)]\n",
        "                ).GetFormalCharge() !=\n",
        "                m2.GetAtomWithIdx(\n",
        "                    subst_matches2[subst_matches_pmol.index(idx)]\n",
        "                ).GetFormalCharge()\n",
        "            ):\n",
        "                n_diffs += 1\n",
        "        if n_diffs != 1:\n",
        "            continue\n",
        "        state_transitions.append((i, i + 1+j, m1, m2))\n",
        "\n",
        "def view_difference(mol1, mol2):\n",
        "    mcs = rdFMCS.FindMCS([mol1,mol2])\n",
        "    mcs_mol = Chem.MolFromSmarts(mcs.smartsString)\n",
        "    match1 = mol1.GetSubstructMatch(mcs_mol)\n",
        "    match2 = mol2.GetSubstructMatch(mcs_mol)\n",
        "    target_atm1 = []\n",
        "    target_atm2 = []\n",
        "    for a1, a2 in zip(match1, match2):\n",
        "        if (\n",
        "            mol1.GetAtomWithIdx(a1).GetFormalCharge() !=\n",
        "            mol2.GetAtomWithIdx(a2).GetFormalCharge()\n",
        "        ):\n",
        "            target_atm1.append(a1)\n",
        "            target_atm2.append(a2)\n",
        "    d2d = Draw.MolsToGridImage(\n",
        "        [mol1, mol2],\n",
        "        highlightAtomLists=[target_atm1, target_atm2],\n",
        "        useSVG = True,\n",
        "    )\n",
        "    display(d2d)\n",
        "\n",
        "print(\"We found the following transitions between protonation states:\")\n",
        "for i, st_t in enumerate(state_transitions):\n",
        "    print(f\"Transition {i}\")\n",
        "    view_difference(st_t[2], st_t[3])"
      ],
      "metadata": {
        "colab": {
          "base_uri": "https://localhost:8080/",
          "height": 482
        },
        "id": "ZBKOWkcz2HnX",
        "outputId": "fe86dcc9-59f6-4299-ce52-2df21c89f1cf"
      },
      "execution_count": 16,
      "outputs": [
        {
          "output_type": "stream",
          "name": "stdout",
          "text": [
            "We found the following transitions between protonation states:\n",
            "Transition 0\n"
          ]
        },
        {
          "output_type": "display_data",
          "data": {
            "text/plain": [
              "<IPython.core.display.SVG object>"
            ],
            "image/svg+xml": "<svg xmlns=\"http://www.w3.org/2000/svg\" xmlns:rdkit=\"http://www.rdkit.org/xml\" xmlns:xlink=\"http://www.w3.org/1999/xlink\" version=\"1.1\" baseProfile=\"full\" xml:space=\"preserve\" width=\"600px\" height=\"200px\" viewBox=\"0 0 600 200\">\n<!-- END OF HEADER -->\n<rect style=\"opacity:1.0;fill:#FFFFFF;stroke:none\" width=\"600.0\" height=\"200.0\" x=\"0.0\" y=\"0.0\"> </rect>\n<ellipse cx=\"53.3\" cy=\"172.5\" rx=\"41.0\" ry=\"17.5\" class=\"atom-2\" style=\"fill:#FF7F7F;fill-rule:evenodd;stroke:#FF7F7F;stroke-width:1.0px;stroke-linecap:butt;stroke-linejoin:miter;stroke-opacity:1\"/>\n<path class=\"bond-0 atom-0 atom-1\" d=\"M 187.7,97.5 L 144.3,172.6\" style=\"fill:none;fill-rule:evenodd;stroke:#000000;stroke-width:2.0px;stroke-linecap:butt;stroke-linejoin:miter;stroke-opacity:1\"/>\n<path class=\"bond-0 atom-0 atom-1\" d=\"M 172.7,97.5 L 136.8,159.6\" style=\"fill:none;fill-rule:evenodd;stroke:#000000;stroke-width:2.0px;stroke-linecap:butt;stroke-linejoin:miter;stroke-opacity:1\"/>\n<path class=\"bond-1 atom-1 atom-2\" d=\"M 144.3,172.6 L 114.7,172.6\" style=\"fill:none;fill-rule:evenodd;stroke:#000000;stroke-width:2.0px;stroke-linecap:butt;stroke-linejoin:miter;stroke-opacity:1\"/>\n<path class=\"bond-1 atom-1 atom-2\" d=\"M 114.7,172.6 L 85.2,172.6\" style=\"fill:none;fill-rule:evenodd;stroke:#0000FF;stroke-width:2.0px;stroke-linecap:butt;stroke-linejoin:miter;stroke-opacity:1\"/>\n<path class=\"bond-2 atom-2 atom-3\" d=\"M 48.9,157.5 L 31.6,127.5\" style=\"fill:none;fill-rule:evenodd;stroke:#0000FF;stroke-width:2.0px;stroke-linecap:butt;stroke-linejoin:miter;stroke-opacity:1\"/>\n<path class=\"bond-2 atom-2 atom-3\" d=\"M 31.6,127.5 L 14.2,97.5\" style=\"fill:none;fill-rule:evenodd;stroke:#000000;stroke-width:2.0px;stroke-linecap:butt;stroke-linejoin:miter;stroke-opacity:1\"/>\n<path class=\"bond-2 atom-2 atom-3\" d=\"M 60.1,151.0 L 44.7,124.2\" style=\"fill:none;fill-rule:evenodd;stroke:#0000FF;stroke-width:2.0px;stroke-linecap:butt;stroke-linejoin:miter;stroke-opacity:1\"/>\n<path class=\"bond-2 atom-2 atom-3\" d=\"M 44.7,124.2 L 29.3,97.5\" style=\"fill:none;fill-rule:evenodd;stroke:#000000;stroke-width:2.0px;stroke-linecap:butt;stroke-linejoin:miter;stroke-opacity:1\"/>\n<path class=\"bond-3 atom-3 atom-4\" d=\"M 14.2,97.5 L 31.6,67.5\" style=\"fill:none;fill-rule:evenodd;stroke:#000000;stroke-width:2.0px;stroke-linecap:butt;stroke-linejoin:miter;stroke-opacity:1\"/>\n<path class=\"bond-3 atom-3 atom-4\" d=\"M 31.6,67.5 L 48.9,37.5\" style=\"fill:none;fill-rule:evenodd;stroke:#0000FF;stroke-width:2.0px;stroke-linecap:butt;stroke-linejoin:miter;stroke-opacity:1\"/>\n<path class=\"bond-4 atom-4 atom-5\" d=\"M 85.2,22.4 L 114.7,22.4\" style=\"fill:none;fill-rule:evenodd;stroke:#0000FF;stroke-width:2.0px;stroke-linecap:butt;stroke-linejoin:miter;stroke-opacity:1\"/>\n<path class=\"bond-4 atom-4 atom-5\" d=\"M 114.7,22.4 L 144.3,22.4\" style=\"fill:none;fill-rule:evenodd;stroke:#000000;stroke-width:2.0px;stroke-linecap:butt;stroke-linejoin:miter;stroke-opacity:1\"/>\n<path class=\"bond-4 atom-4 atom-5\" d=\"M 85.2,35.4 L 111.0,35.4\" style=\"fill:none;fill-rule:evenodd;stroke:#0000FF;stroke-width:2.0px;stroke-linecap:butt;stroke-linejoin:miter;stroke-opacity:1\"/>\n<path class=\"bond-4 atom-4 atom-5\" d=\"M 111.0,35.4 L 136.8,35.4\" style=\"fill:none;fill-rule:evenodd;stroke:#000000;stroke-width:2.0px;stroke-linecap:butt;stroke-linejoin:miter;stroke-opacity:1\"/>\n<path class=\"bond-5 atom-5 atom-0\" d=\"M 144.3,22.4 L 187.7,97.5\" style=\"fill:none;fill-rule:evenodd;stroke:#000000;stroke-width:2.0px;stroke-linecap:butt;stroke-linejoin:miter;stroke-opacity:1\"/>\n<path d=\"M 185.5,101.3 L 187.7,97.5 L 185.5,93.8\" style=\"fill:none;stroke:#000000;stroke-width:2.0px;stroke-linecap:butt;stroke-linejoin:miter;stroke-opacity:1;\"/>\n<path d=\"M 146.5,168.9 L 144.3,172.6 L 142.8,172.6\" style=\"fill:none;stroke:#000000;stroke-width:2.0px;stroke-linecap:butt;stroke-linejoin:miter;stroke-opacity:1;\"/>\n<path d=\"M 15.1,99.0 L 14.2,97.5 L 15.1,96.0\" style=\"fill:none;stroke:#000000;stroke-width:2.0px;stroke-linecap:butt;stroke-linejoin:miter;stroke-opacity:1;\"/>\n<path d=\"M 142.8,22.4 L 144.3,22.4 L 146.5,26.2\" style=\"fill:none;stroke:#000000;stroke-width:2.0px;stroke-linecap:butt;stroke-linejoin:miter;stroke-opacity:1;\"/>\n<path class=\"atom-2\" d=\"M 24.3 160.3 L 27.7 160.3 L 27.7 170.8 L 40.2 170.8 L 40.2 160.3 L 43.5 160.3 L 43.5 184.9 L 40.2 184.9 L 40.2 173.5 L 27.7 173.5 L 27.7 184.9 L 24.3 184.9 L 24.3 160.3 \" fill=\"#0000FF\"/>\n<path class=\"atom-2\" d=\"M 52.2 160.3 L 60.2 173.3 Q 61.0 174.6, 62.3 176.9 Q 63.6 179.3, 63.7 179.4 L 63.7 160.3 L 66.9 160.3 L 66.9 184.9 L 63.6 184.9 L 54.9 170.7 Q 53.9 169.0, 52.8 167.1 Q 51.8 165.2, 51.5 164.6 L 51.5 184.9 L 48.3 184.9 L 48.3 160.3 L 52.2 160.3 \" fill=\"#0000FF\"/>\n<path class=\"atom-2\" d=\"M 71.6 164.8 L 75.9 164.8 L 75.9 160.2 L 77.8 160.2 L 77.8 164.8 L 82.3 164.8 L 82.3 166.4 L 77.8 166.4 L 77.8 171.0 L 75.9 171.0 L 75.9 166.4 L 71.6 166.4 L 71.6 164.8 \" fill=\"#0000FF\"/>\n<path class=\"atom-4\" d=\"M 24.3 10.1 L 27.7 10.1 L 27.7 20.6 L 40.2 20.6 L 40.2 10.1 L 43.5 10.1 L 43.5 34.7 L 40.2 34.7 L 40.2 23.3 L 27.7 23.3 L 27.7 34.7 L 24.3 34.7 L 24.3 10.1 \" fill=\"#0000FF\"/>\n<path class=\"atom-4\" d=\"M 52.2 10.1 L 60.2 23.1 Q 61.0 24.4, 62.3 26.7 Q 63.6 29.1, 63.7 29.2 L 63.7 10.1 L 66.9 10.1 L 66.9 34.7 L 63.6 34.7 L 54.9 20.5 Q 53.9 18.8, 52.8 16.9 Q 51.8 15.0, 51.5 14.4 L 51.5 34.7 L 48.3 34.7 L 48.3 10.1 L 52.2 10.1 \" fill=\"#0000FF\"/>\n<path class=\"atom-4\" d=\"M 71.6 14.6 L 75.9 14.6 L 75.9 10.0 L 77.8 10.0 L 77.8 14.6 L 82.3 14.6 L 82.3 16.2 L 77.8 16.2 L 77.8 20.8 L 75.9 20.8 L 75.9 16.2 L 71.6 16.2 L 71.6 14.6 \" fill=\"#0000FF\"/>\n<ellipse cx=\"256.6\" cy=\"172.6\" rx=\"17.3\" ry=\"17.4\" class=\"atom-2\" style=\"fill:#FF7F7F;fill-rule:evenodd;stroke:#FF7F7F;stroke-width:1.0px;stroke-linecap:butt;stroke-linejoin:miter;stroke-opacity:1\"/>\n<path class=\"bond-0 atom-0 atom-1\" d=\"M 386.7,97.5 L 343.4,172.6\" style=\"fill:none;fill-rule:evenodd;stroke:#000000;stroke-width:2.0px;stroke-linecap:butt;stroke-linejoin:miter;stroke-opacity:1\"/>\n<path class=\"bond-0 atom-0 atom-1\" d=\"M 371.7,97.5 L 335.8,159.6\" style=\"fill:none;fill-rule:evenodd;stroke:#000000;stroke-width:2.0px;stroke-linecap:butt;stroke-linejoin:miter;stroke-opacity:1\"/>\n<path class=\"bond-1 atom-1 atom-2\" d=\"M 343.4,172.6 L 306.1,172.6\" style=\"fill:none;fill-rule:evenodd;stroke:#000000;stroke-width:2.0px;stroke-linecap:butt;stroke-linejoin:miter;stroke-opacity:1\"/>\n<path class=\"bond-1 atom-1 atom-2\" d=\"M 306.1,172.6 L 268.8,172.6\" style=\"fill:none;fill-rule:evenodd;stroke:#0000FF;stroke-width:2.0px;stroke-linecap:butt;stroke-linejoin:miter;stroke-opacity:1\"/>\n<path class=\"bond-2 atom-2 atom-3\" d=\"M 247.9,157.5 L 230.6,127.5\" style=\"fill:none;fill-rule:evenodd;stroke:#0000FF;stroke-width:2.0px;stroke-linecap:butt;stroke-linejoin:miter;stroke-opacity:1\"/>\n<path class=\"bond-2 atom-2 atom-3\" d=\"M 230.6,127.5 L 213.3,97.5\" style=\"fill:none;fill-rule:evenodd;stroke:#000000;stroke-width:2.0px;stroke-linecap:butt;stroke-linejoin:miter;stroke-opacity:1\"/>\n<path class=\"bond-2 atom-2 atom-3\" d=\"M 259.2,151.0 L 243.7,124.2\" style=\"fill:none;fill-rule:evenodd;stroke:#0000FF;stroke-width:2.0px;stroke-linecap:butt;stroke-linejoin:miter;stroke-opacity:1\"/>\n<path class=\"bond-2 atom-2 atom-3\" d=\"M 243.7,124.2 L 228.3,97.5\" style=\"fill:none;fill-rule:evenodd;stroke:#000000;stroke-width:2.0px;stroke-linecap:butt;stroke-linejoin:miter;stroke-opacity:1\"/>\n<path class=\"bond-3 atom-3 atom-4\" d=\"M 213.3,97.5 L 230.6,67.5\" style=\"fill:none;fill-rule:evenodd;stroke:#000000;stroke-width:2.0px;stroke-linecap:butt;stroke-linejoin:miter;stroke-opacity:1\"/>\n<path class=\"bond-3 atom-3 atom-4\" d=\"M 230.6,67.5 L 247.9,37.6\" style=\"fill:none;fill-rule:evenodd;stroke:#0000FF;stroke-width:2.0px;stroke-linecap:butt;stroke-linejoin:miter;stroke-opacity:1\"/>\n<path class=\"bond-4 atom-4 atom-5\" d=\"M 284.2,22.4 L 313.8,22.4\" style=\"fill:none;fill-rule:evenodd;stroke:#0000FF;stroke-width:2.0px;stroke-linecap:butt;stroke-linejoin:miter;stroke-opacity:1\"/>\n<path class=\"bond-4 atom-4 atom-5\" d=\"M 313.8,22.4 L 343.4,22.4\" style=\"fill:none;fill-rule:evenodd;stroke:#000000;stroke-width:2.0px;stroke-linecap:butt;stroke-linejoin:miter;stroke-opacity:1\"/>\n<path class=\"bond-4 atom-4 atom-5\" d=\"M 284.2,35.4 L 310.0,35.4\" style=\"fill:none;fill-rule:evenodd;stroke:#0000FF;stroke-width:2.0px;stroke-linecap:butt;stroke-linejoin:miter;stroke-opacity:1\"/>\n<path class=\"bond-4 atom-4 atom-5\" d=\"M 310.0,35.4 L 335.8,35.4\" style=\"fill:none;fill-rule:evenodd;stroke:#000000;stroke-width:2.0px;stroke-linecap:butt;stroke-linejoin:miter;stroke-opacity:1\"/>\n<path class=\"bond-5 atom-5 atom-0\" d=\"M 343.4,22.4 L 386.7,97.5\" style=\"fill:none;fill-rule:evenodd;stroke:#000000;stroke-width:2.0px;stroke-linecap:butt;stroke-linejoin:miter;stroke-opacity:1\"/>\n<path d=\"M 384.5,101.3 L 386.7,97.5 L 384.5,93.8\" style=\"fill:none;stroke:#000000;stroke-width:2.0px;stroke-linecap:butt;stroke-linejoin:miter;stroke-opacity:1;\"/>\n<path d=\"M 345.5,168.9 L 343.4,172.6 L 341.5,172.6\" style=\"fill:none;stroke:#000000;stroke-width:2.0px;stroke-linecap:butt;stroke-linejoin:miter;stroke-opacity:1;\"/>\n<path d=\"M 214.1,99.0 L 213.3,97.5 L 214.1,96.0\" style=\"fill:none;stroke:#000000;stroke-width:2.0px;stroke-linecap:butt;stroke-linejoin:miter;stroke-opacity:1;\"/>\n<path d=\"M 341.9,22.4 L 343.4,22.4 L 345.5,26.2\" style=\"fill:none;stroke:#000000;stroke-width:2.0px;stroke-linecap:butt;stroke-linejoin:miter;stroke-opacity:1;\"/>\n<path class=\"atom-2\" d=\"M 251.2 160.3 L 259.3 173.3 Q 260.1 174.6, 261.3 177.0 Q 262.6 179.3, 262.7 179.4 L 262.7 160.3 L 266.0 160.3 L 266.0 184.9 L 262.6 184.9 L 254.0 170.7 Q 252.9 169.0, 251.9 167.1 Q 250.8 165.2, 250.5 164.6 L 250.5 184.9 L 247.3 184.9 L 247.3 160.3 L 251.2 160.3 \" fill=\"#0000FF\"/>\n<path class=\"atom-4\" d=\"M 223.4 10.1 L 226.7 10.1 L 226.7 20.6 L 239.2 20.6 L 239.2 10.1 L 242.6 10.1 L 242.6 34.7 L 239.2 34.7 L 239.2 23.4 L 226.7 23.4 L 226.7 34.7 L 223.4 34.7 L 223.4 10.1 \" fill=\"#0000FF\"/>\n<path class=\"atom-4\" d=\"M 251.2 10.1 L 259.3 23.2 Q 260.1 24.4, 261.3 26.8 Q 262.6 29.1, 262.7 29.2 L 262.7 10.1 L 266.0 10.1 L 266.0 34.7 L 262.6 34.7 L 254.0 20.5 Q 252.9 18.8, 251.9 16.9 Q 250.8 15.0, 250.5 14.4 L 250.5 34.7 L 247.3 34.7 L 247.3 10.1 L 251.2 10.1 \" fill=\"#0000FF\"/>\n<path class=\"atom-4\" d=\"M 270.6 14.6 L 275.0 14.6 L 275.0 10.0 L 276.9 10.0 L 276.9 14.6 L 281.3 14.6 L 281.3 16.2 L 276.9 16.2 L 276.9 20.8 L 275.0 20.8 L 275.0 16.2 L 270.6 16.2 L 270.6 14.6 \" fill=\"#0000FF\"/>\n</svg>"
          },
          "metadata": {}
        },
        {
          "output_type": "stream",
          "name": "stdout",
          "text": [
            "Transition 1\n"
          ]
        },
        {
          "output_type": "display_data",
          "data": {
            "text/plain": [
              "<IPython.core.display.SVG object>"
            ],
            "image/svg+xml": "<svg xmlns=\"http://www.w3.org/2000/svg\" xmlns:rdkit=\"http://www.rdkit.org/xml\" xmlns:xlink=\"http://www.w3.org/1999/xlink\" version=\"1.1\" baseProfile=\"full\" xml:space=\"preserve\" width=\"600px\" height=\"200px\" viewBox=\"0 0 600 200\">\n<!-- END OF HEADER -->\n<rect style=\"opacity:1.0;fill:#FFFFFF;stroke:none\" width=\"600.0\" height=\"200.0\" x=\"0.0\" y=\"0.0\"> </rect>\n<ellipse cx=\"53.3\" cy=\"27.5\" rx=\"41.0\" ry=\"17.5\" class=\"atom-4\" style=\"fill:#FF7F7F;fill-rule:evenodd;stroke:#FF7F7F;stroke-width:1.0px;stroke-linecap:butt;stroke-linejoin:miter;stroke-opacity:1\"/>\n<path class=\"bond-0 atom-0 atom-1\" d=\"M 187.7,102.6 L 144.3,177.7\" style=\"fill:none;fill-rule:evenodd;stroke:#000000;stroke-width:2.0px;stroke-linecap:butt;stroke-linejoin:miter;stroke-opacity:1\"/>\n<path class=\"bond-0 atom-0 atom-1\" d=\"M 172.7,102.6 L 136.8,164.7\" style=\"fill:none;fill-rule:evenodd;stroke:#000000;stroke-width:2.0px;stroke-linecap:butt;stroke-linejoin:miter;stroke-opacity:1\"/>\n<path class=\"bond-1 atom-1 atom-2\" d=\"M 144.3,177.7 L 107.1,177.7\" style=\"fill:none;fill-rule:evenodd;stroke:#000000;stroke-width:2.0px;stroke-linecap:butt;stroke-linejoin:miter;stroke-opacity:1\"/>\n<path class=\"bond-1 atom-1 atom-2\" d=\"M 107.1,177.7 L 69.8,177.7\" style=\"fill:none;fill-rule:evenodd;stroke:#0000FF;stroke-width:2.0px;stroke-linecap:butt;stroke-linejoin:miter;stroke-opacity:1\"/>\n<path class=\"bond-2 atom-2 atom-3\" d=\"M 48.9,162.6 L 31.6,132.6\" style=\"fill:none;fill-rule:evenodd;stroke:#0000FF;stroke-width:2.0px;stroke-linecap:butt;stroke-linejoin:miter;stroke-opacity:1\"/>\n<path class=\"bond-2 atom-2 atom-3\" d=\"M 31.6,132.6 L 14.2,102.6\" style=\"fill:none;fill-rule:evenodd;stroke:#000000;stroke-width:2.0px;stroke-linecap:butt;stroke-linejoin:miter;stroke-opacity:1\"/>\n<path class=\"bond-2 atom-2 atom-3\" d=\"M 60.1,156.1 L 44.7,129.3\" style=\"fill:none;fill-rule:evenodd;stroke:#0000FF;stroke-width:2.0px;stroke-linecap:butt;stroke-linejoin:miter;stroke-opacity:1\"/>\n<path class=\"bond-2 atom-2 atom-3\" d=\"M 44.7,129.3 L 29.3,102.6\" style=\"fill:none;fill-rule:evenodd;stroke:#000000;stroke-width:2.0px;stroke-linecap:butt;stroke-linejoin:miter;stroke-opacity:1\"/>\n<path class=\"bond-3 atom-3 atom-4\" d=\"M 14.2,102.6 L 31.6,72.6\" style=\"fill:none;fill-rule:evenodd;stroke:#000000;stroke-width:2.0px;stroke-linecap:butt;stroke-linejoin:miter;stroke-opacity:1\"/>\n<path class=\"bond-3 atom-3 atom-4\" d=\"M 31.6,72.6 L 48.9,42.7\" style=\"fill:none;fill-rule:evenodd;stroke:#0000FF;stroke-width:2.0px;stroke-linecap:butt;stroke-linejoin:miter;stroke-opacity:1\"/>\n<path class=\"bond-4 atom-4 atom-5\" d=\"M 85.2,27.5 L 114.7,27.5\" style=\"fill:none;fill-rule:evenodd;stroke:#0000FF;stroke-width:2.0px;stroke-linecap:butt;stroke-linejoin:miter;stroke-opacity:1\"/>\n<path class=\"bond-4 atom-4 atom-5\" d=\"M 114.7,27.5 L 144.3,27.5\" style=\"fill:none;fill-rule:evenodd;stroke:#000000;stroke-width:2.0px;stroke-linecap:butt;stroke-linejoin:miter;stroke-opacity:1\"/>\n<path class=\"bond-4 atom-4 atom-5\" d=\"M 85.2,40.5 L 111.0,40.5\" style=\"fill:none;fill-rule:evenodd;stroke:#0000FF;stroke-width:2.0px;stroke-linecap:butt;stroke-linejoin:miter;stroke-opacity:1\"/>\n<path class=\"bond-4 atom-4 atom-5\" d=\"M 111.0,40.5 L 136.8,40.5\" style=\"fill:none;fill-rule:evenodd;stroke:#000000;stroke-width:2.0px;stroke-linecap:butt;stroke-linejoin:miter;stroke-opacity:1\"/>\n<path class=\"bond-5 atom-5 atom-0\" d=\"M 144.3,27.5 L 187.7,102.6\" style=\"fill:none;fill-rule:evenodd;stroke:#000000;stroke-width:2.0px;stroke-linecap:butt;stroke-linejoin:miter;stroke-opacity:1\"/>\n<path d=\"M 185.5,106.4 L 187.7,102.6 L 185.5,98.9\" style=\"fill:none;stroke:#000000;stroke-width:2.0px;stroke-linecap:butt;stroke-linejoin:miter;stroke-opacity:1;\"/>\n<path d=\"M 146.5,174.0 L 144.3,177.7 L 142.5,177.7\" style=\"fill:none;stroke:#000000;stroke-width:2.0px;stroke-linecap:butt;stroke-linejoin:miter;stroke-opacity:1;\"/>\n<path d=\"M 15.1,104.1 L 14.2,102.6 L 15.1,101.1\" style=\"fill:none;stroke:#000000;stroke-width:2.0px;stroke-linecap:butt;stroke-linejoin:miter;stroke-opacity:1;\"/>\n<path d=\"M 142.8,27.5 L 144.3,27.5 L 146.5,31.3\" style=\"fill:none;stroke:#000000;stroke-width:2.0px;stroke-linecap:butt;stroke-linejoin:miter;stroke-opacity:1;\"/>\n<path class=\"atom-2\" d=\"M 52.2 165.4 L 60.2 178.4 Q 61.0 179.7, 62.3 182.1 Q 63.6 184.4, 63.7 184.5 L 63.7 165.4 L 66.9 165.4 L 66.9 190.0 L 63.6 190.0 L 54.9 175.8 Q 53.9 174.1, 52.8 172.2 Q 51.8 170.3, 51.5 169.7 L 51.5 190.0 L 48.3 190.0 L 48.3 165.4 L 52.2 165.4 \" fill=\"#0000FF\"/>\n<path class=\"atom-4\" d=\"M 24.3 15.2 L 27.7 15.2 L 27.7 25.7 L 40.2 25.7 L 40.2 15.2 L 43.5 15.2 L 43.5 39.8 L 40.2 39.8 L 40.2 28.5 L 27.7 28.5 L 27.7 39.8 L 24.3 39.8 L 24.3 15.2 \" fill=\"#0000FF\"/>\n<path class=\"atom-4\" d=\"M 52.2 15.2 L 60.2 28.2 Q 61.0 29.5, 62.3 31.9 Q 63.6 34.2, 63.7 34.3 L 63.7 15.2 L 66.9 15.2 L 66.9 39.8 L 63.6 39.8 L 54.9 25.6 Q 53.9 23.9, 52.8 22.0 Q 51.8 20.1, 51.5 19.5 L 51.5 39.8 L 48.3 39.8 L 48.3 15.2 L 52.2 15.2 \" fill=\"#0000FF\"/>\n<path class=\"atom-4\" d=\"M 71.6 19.7 L 75.9 19.7 L 75.9 15.1 L 77.8 15.1 L 77.8 19.7 L 82.3 19.7 L 82.3 21.3 L 77.8 21.3 L 77.8 25.9 L 75.9 25.9 L 75.9 21.3 L 71.6 21.3 L 71.6 19.7 \" fill=\"#0000FF\"/>\n<ellipse cx=\"256.6\" cy=\"27.4\" rx=\"17.3\" ry=\"17.4\" class=\"atom-4\" style=\"fill:#FF7F7F;fill-rule:evenodd;stroke:#FF7F7F;stroke-width:1.0px;stroke-linecap:butt;stroke-linejoin:miter;stroke-opacity:1\"/>\n<path class=\"bond-0 atom-0 atom-1\" d=\"M 386.7,102.5 L 343.4,177.6\" style=\"fill:none;fill-rule:evenodd;stroke:#000000;stroke-width:2.0px;stroke-linecap:butt;stroke-linejoin:miter;stroke-opacity:1\"/>\n<path class=\"bond-0 atom-0 atom-1\" d=\"M 371.7,102.5 L 335.8,164.6\" style=\"fill:none;fill-rule:evenodd;stroke:#000000;stroke-width:2.0px;stroke-linecap:butt;stroke-linejoin:miter;stroke-opacity:1\"/>\n<path class=\"bond-1 atom-1 atom-2\" d=\"M 343.4,177.6 L 306.1,177.6\" style=\"fill:none;fill-rule:evenodd;stroke:#000000;stroke-width:2.0px;stroke-linecap:butt;stroke-linejoin:miter;stroke-opacity:1\"/>\n<path class=\"bond-1 atom-1 atom-2\" d=\"M 306.1,177.6 L 268.8,177.6\" style=\"fill:none;fill-rule:evenodd;stroke:#0000FF;stroke-width:2.0px;stroke-linecap:butt;stroke-linejoin:miter;stroke-opacity:1\"/>\n<path class=\"bond-2 atom-2 atom-3\" d=\"M 247.9,162.5 L 230.6,132.5\" style=\"fill:none;fill-rule:evenodd;stroke:#0000FF;stroke-width:2.0px;stroke-linecap:butt;stroke-linejoin:miter;stroke-opacity:1\"/>\n<path class=\"bond-2 atom-2 atom-3\" d=\"M 230.6,132.5 L 213.3,102.5\" style=\"fill:none;fill-rule:evenodd;stroke:#000000;stroke-width:2.0px;stroke-linecap:butt;stroke-linejoin:miter;stroke-opacity:1\"/>\n<path class=\"bond-2 atom-2 atom-3\" d=\"M 259.2,156.0 L 243.7,129.3\" style=\"fill:none;fill-rule:evenodd;stroke:#0000FF;stroke-width:2.0px;stroke-linecap:butt;stroke-linejoin:miter;stroke-opacity:1\"/>\n<path class=\"bond-2 atom-2 atom-3\" d=\"M 243.7,129.3 L 228.3,102.5\" style=\"fill:none;fill-rule:evenodd;stroke:#000000;stroke-width:2.0px;stroke-linecap:butt;stroke-linejoin:miter;stroke-opacity:1\"/>\n<path class=\"bond-3 atom-3 atom-4\" d=\"M 213.3,102.5 L 230.6,72.6\" style=\"fill:none;fill-rule:evenodd;stroke:#000000;stroke-width:2.0px;stroke-linecap:butt;stroke-linejoin:miter;stroke-opacity:1\"/>\n<path class=\"bond-3 atom-3 atom-4\" d=\"M 230.6,72.6 L 247.9,42.6\" style=\"fill:none;fill-rule:evenodd;stroke:#0000FF;stroke-width:2.0px;stroke-linecap:butt;stroke-linejoin:miter;stroke-opacity:1\"/>\n<path class=\"bond-4 atom-4 atom-5\" d=\"M 268.8,27.4 L 306.1,27.4\" style=\"fill:none;fill-rule:evenodd;stroke:#0000FF;stroke-width:2.0px;stroke-linecap:butt;stroke-linejoin:miter;stroke-opacity:1\"/>\n<path class=\"bond-4 atom-4 atom-5\" d=\"M 306.1,27.4 L 343.4,27.4\" style=\"fill:none;fill-rule:evenodd;stroke:#000000;stroke-width:2.0px;stroke-linecap:butt;stroke-linejoin:miter;stroke-opacity:1\"/>\n<path class=\"bond-4 atom-4 atom-5\" d=\"M 268.8,40.5 L 302.3,40.5\" style=\"fill:none;fill-rule:evenodd;stroke:#0000FF;stroke-width:2.0px;stroke-linecap:butt;stroke-linejoin:miter;stroke-opacity:1\"/>\n<path class=\"bond-4 atom-4 atom-5\" d=\"M 302.3,40.5 L 335.8,40.5\" style=\"fill:none;fill-rule:evenodd;stroke:#000000;stroke-width:2.0px;stroke-linecap:butt;stroke-linejoin:miter;stroke-opacity:1\"/>\n<path class=\"bond-5 atom-5 atom-0\" d=\"M 343.4,27.4 L 386.7,102.5\" style=\"fill:none;fill-rule:evenodd;stroke:#000000;stroke-width:2.0px;stroke-linecap:butt;stroke-linejoin:miter;stroke-opacity:1\"/>\n<path d=\"M 384.5,106.3 L 386.7,102.5 L 384.5,98.8\" style=\"fill:none;stroke:#000000;stroke-width:2.0px;stroke-linecap:butt;stroke-linejoin:miter;stroke-opacity:1;\"/>\n<path d=\"M 345.5,173.9 L 343.4,177.6 L 341.5,177.6\" style=\"fill:none;stroke:#000000;stroke-width:2.0px;stroke-linecap:butt;stroke-linejoin:miter;stroke-opacity:1;\"/>\n<path d=\"M 214.1,104.0 L 213.3,102.5 L 214.1,101.0\" style=\"fill:none;stroke:#000000;stroke-width:2.0px;stroke-linecap:butt;stroke-linejoin:miter;stroke-opacity:1;\"/>\n<path d=\"M 341.5,27.4 L 343.4,27.4 L 345.5,31.2\" style=\"fill:none;stroke:#000000;stroke-width:2.0px;stroke-linecap:butt;stroke-linejoin:miter;stroke-opacity:1;\"/>\n<path class=\"atom-2\" d=\"M 251.2 165.4 L 259.3 178.4 Q 260.1 179.7, 261.3 182.0 Q 262.6 184.3, 262.7 184.4 L 262.7 165.4 L 266.0 165.4 L 266.0 189.9 L 262.6 189.9 L 254.0 175.7 Q 252.9 174.0, 251.9 172.1 Q 250.8 170.2, 250.5 169.6 L 250.5 189.9 L 247.3 189.9 L 247.3 165.4 L 251.2 165.4 \" fill=\"#0000FF\"/>\n<path class=\"atom-4\" d=\"M 251.2 15.2 L 259.3 28.2 Q 260.1 29.5, 261.3 31.8 Q 262.6 34.1, 262.7 34.2 L 262.7 15.2 L 266.0 15.2 L 266.0 39.7 L 262.6 39.7 L 254.0 25.5 Q 252.9 23.8, 251.9 21.9 Q 250.8 20.0, 250.5 19.4 L 250.5 39.7 L 247.3 39.7 L 247.3 15.2 L 251.2 15.2 \" fill=\"#0000FF\"/>\n</svg>"
          },
          "metadata": {}
        }
      ]
    },
    {
      "cell_type": "code",
      "source": [
        "state_transitions"
      ],
      "metadata": {
        "colab": {
          "base_uri": "https://localhost:8080/"
        },
        "id": "geoXRdMEShJp",
        "outputId": "d7e742ef-ed5c-465c-d0b2-7503d642ac60"
      },
      "execution_count": 17,
      "outputs": [
        {
          "output_type": "execute_result",
          "data": {
            "text/plain": [
              "[(0,\n",
              "  1,\n",
              "  <rdkit.Chem.rdchem.Mol at 0x7b81ffc54e40>,\n",
              "  <rdkit.Chem.rdchem.Mol at 0x7b81ffc56b90>),\n",
              " (1,\n",
              "  2,\n",
              "  <rdkit.Chem.rdchem.Mol at 0x7b81ffc56b90>,\n",
              "  <rdkit.Chem.rdchem.Mol at 0x7b81ffc55000>)]"
            ]
          },
          "metadata": {},
          "execution_count": 17
        }
      ]
    },
    {
      "cell_type": "code",
      "source": [
        "#@title Provide pKa values for transitions between protonated states\n",
        "#@markdown Please, provide pKa values for protonated states.\n",
        "pka_0 = 2 #@param {type:\"number\"}\n",
        "pka_1 = 3 #@param {type:\"number\"}\n",
        "pka_2 = 4 #@param {type:\"number\"}\n",
        "pka_3 = 5 #@param {type:\"number\"}\n",
        "pka_4 = 0.0 #@param {type:\"number\"}\n",
        "pka_5 = 0.0 #@param {type:\"number\"}\n",
        "pka_6 = 0.0 #@param {type:\"number\"}\n",
        "pka_7 = 0.0 #@param {type:\"number\"}\n",
        "pka_8 = 0.0 #@param {type:\"number\"}\n",
        "pka_9 = 0.0 #@param {type:\"number\"}\n",
        "\n",
        "pkas = [\n",
        "    pka_0, pka_1, pka_2, pka_3, pka_4,\n",
        "    pka_5, pka_6, pka_7, pka_8, pka_9,\n",
        "][:len(state_transitions)]"
      ],
      "metadata": {
        "id": "Qg4YAxSh-Ibw"
      },
      "execution_count": 18,
      "outputs": []
    },
    {
      "cell_type": "code",
      "source": [
        "states"
      ],
      "metadata": {
        "colab": {
          "base_uri": "https://localhost:8080/"
        },
        "id": "OTheYiivkbto",
        "outputId": "1aad8b83-e454-4468-e9d5-8002378b4f2d"
      },
      "execution_count": 19,
      "outputs": [
        {
          "output_type": "execute_result",
          "data": {
            "text/plain": [
              "{0: (<rdkit.Chem.rdchem.Mol at 0x7b81ffc54e40>, 1, 1, None, None),\n",
              " 1: (<rdkit.Chem.rdchem.Mol at 0x7b81ffc56b90>, 2, 2, [2, 4], None),\n",
              " 2: (<rdkit.Chem.rdchem.Mol at 0x7b81ffc55000>, 1, 1, None, None)}"
            ]
          },
          "metadata": {},
          "execution_count": 19
        }
      ]
    },
    {
      "cell_type": "code",
      "source": [
        "#@title Generate pKa matrix equation\n",
        "import numpy as np\n",
        "from sympy import Matrix, MatrixSymbol, symbols\n",
        "if len(mols) == 2 and all(states[x][2] == 1 for x in states):\n",
        "    print(f\"Single state should be used. pKa = {pkas[0]}\")\n",
        "else:\n",
        "    ph = symbols(\"pH\")\n",
        "    A = np.zeros((len(state_transitions) + 1, len(mols)), dtype = 'int')\n",
        "    b = MatrixSymbol('b', len(state_transitions) + 1, 1).as_explicit()\n",
        "    bsubs = {b[0,0]: ph}\n",
        "    for i, (tr, pka) in enumerate(zip(state_transitions, pkas)):\n",
        "        state1 = tr[0]\n",
        "        state2 = tr[1]\n",
        "        n = states[state1][2]\n",
        "        m = states[state2][2]\n",
        "        if Chem.GetFormalCharge(tr[2]) > Chem.GetFormalCharge(tr[3]):\n",
        "            A[i+1, state1] =-1\n",
        "            A[i+1, state2] = 1\n",
        "            bsubs[b[i + 1, 0]] = pka - np.log10(n/m) - ph\n",
        "        else:\n",
        "            A[i+1, state1] = 1\n",
        "            A[i+1, state2] = -1\n",
        "            bsubs[b[i + 1, 0]] = pka - np.log10(m/n) - ph\n",
        "    A[0, 0] = 1\n",
        "    m = Matrix(A)\n",
        "    _, inds = m.T.rref()\n",
        "    removed_inds = [x for x in range(len(state_transitions) + 1) if x not in inds]\n",
        "    Ar = A[list(inds)]\n",
        "    Ad = A[list(removed_inds)]\n",
        "    mr = Matrix(Ar)\n",
        "    md = Matrix(Ad)\n",
        "    p = MatrixSymbol('p', len(mols), 1).as_explicit()\n",
        "    b = b.subs(bsubs)\n",
        "    br = MatrixSymbol('br', len(inds), 1).as_explicit()\n",
        "    brsubs = {}\n",
        "    for i, idx in enumerate(inds):\n",
        "        brsubs[br[i, 0]] = b[idx, 0]\n",
        "\n",
        "    br = br.subs(brsubs)\n",
        "    br\n",
        "\n",
        "    sol = mr.solve(br)\n",
        "    print(\n",
        "        \"Recommended pKa values for protonations states, considering all previous \"\n",
        "        + \"input are:\"\n",
        "    )\n",
        "    for i in range(len(mols)):\n",
        "        print(f\"State {i}: pKa = {sol[i,0]}\")"
      ],
      "metadata": {
        "colab": {
          "base_uri": "https://localhost:8080/"
        },
        "id": "FPCRNZxE_EIz",
        "outputId": "7b4478f8-31e9-442e-f2b8-f8749c00b27a"
      },
      "execution_count": 20,
      "outputs": [
        {
          "output_type": "stream",
          "name": "stdout",
          "text": [
            "Recommended pKa values for protonations states, considering all previous input are:\n",
            "State 0: pKa = pH\n",
            "State 1: pKa = 2.30102999566398\n",
            "State 2: pKa = 5.0 - pH\n"
          ]
        }
      ]
    },
    {
      "cell_type": "code",
      "source": [
        "import itertools\n",
        "set(list(itertools.permutations([1,1,0,0])))"
      ],
      "metadata": {
        "colab": {
          "base_uri": "https://localhost:8080/"
        },
        "id": "QOrZmUbyMgMg",
        "outputId": "81dd9334-a954-41f3-af06-961f4b301101"
      },
      "execution_count": 25,
      "outputs": [
        {
          "output_type": "execute_result",
          "data": {
            "text/plain": [
              "{(0, 0, 1, 1),\n",
              " (0, 1, 0, 1),\n",
              " (0, 1, 1, 0),\n",
              " (1, 0, 0, 1),\n",
              " (1, 0, 1, 0),\n",
              " (1, 1, 0, 0)}"
            ]
          },
          "metadata": {},
          "execution_count": 25
        }
      ]
    },
    {
      "cell_type": "code",
      "source": [
        "#@title Topology and structure general behavior\n",
        "#@markdown Do you want us to generate topology and molecule structure with\n",
        "#@markdown Open Force Field? If no, you would need to provide topologies in\n",
        "#@markdown **.itp** format in the following steps.\n",
        "is_generation_needed = True #@param {type:\"boolean\"}\n",
        "ff_to_use = \"openff-2.1.0.offxml\" #@param {type:\"string\"}\n",
        "molecule_name = \"MOL\" #@param {type:\"string\"}\n",
        "_mols = []\n",
        "charges = []\n",
        "if is_generation_needed:\n",
        "    ff = ForceField(ff_to_use)\n",
        "    for _i, m in enumerate(mols):\n",
        "        _m = Molecule.from_rdkit(m)\n",
        "        _m.generate_conformers()\n",
        "        interchange = ff.create_interchange(_m.to_topology())\n",
        "        charges.append(\n",
        "            [a.partial_charge.magnitude for a in interchange.topology.atoms]\n",
        "        )\n",
        "        _mols.append(_m.to_rdkit())\n",
        "        if _i == 0:\n",
        "            interchange.to_gromacs(f\"molecule_{_i}\")\n",
        "        else:\n",
        "            interchange.to_top(f\"molecule_{_i}.top\")\n",
        "\n",
        "_base_mol = _mols[0]\n",
        "charge_table =[charges[0]]\n",
        "\n",
        "def _basic_treatment(\n",
        "        idx: int,\n",
        "        match1_list: list[int],\n",
        "        match2_list: list[int],\n",
        "        charge_list: list[float],\n",
        "    ) -> dict:\n",
        "    \"\"\"\n",
        "    \"\"\"\n",
        "    _tmp = {}\n",
        "    _tmp[0] = []\n",
        "    for i in range(len(charge_table[0])):\n",
        "        if i in match1_list:\n",
        "            _ch_idx = match2_list[match1_list.index(i)]\n",
        "            _tmp[0].append(charge_list[_ch_idx])\n",
        "        else:\n",
        "            _tmp[0].append(0)\n",
        "    return _tmp\n",
        "\n",
        "def _only_mhs_treatment(\n",
        "        idx: int,\n",
        "        match1_list: list[int],\n",
        "        match2_list: list[int],\n",
        "        charge_list: list[float],\n",
        "    ) -> dict:\n",
        "    \"\"\"\n",
        "    \"\"\"\n",
        "    _tmp = {_s: [] for _s in range(states[idx+1][2])}\n",
        "\n",
        "    mhs = states[idx+1][4]\n",
        "    # we search for hydrogens attached to any of mh sites\n",
        "    hs = {}\n",
        "    for i in mhs:\n",
        "        hs[i] = []\n",
        "        _a = _base_mol.GetAtomWithIdx(i)\n",
        "        for _b in _a.GetBonds():\n",
        "            _oi = _b.GetBeginAtomIdx() if _b.GetBeginAtomIdx() != i else _b.GetEndAtomIdx()\n",
        "            if _base_mol.GetAtomWithIdx(_oi).GetSymbol() == \"H\":\n",
        "                hs[i].append(_oi)\n",
        "    # Which of the hydrogens connected to the atom set to zero\n",
        "    mh_state_to_zero = {x: 0 for x in mhs}\n",
        "\n",
        "    # Generate combinations for states\n",
        "    import itertools\n",
        "    mh_nstates = [len(hs[i]) for i in hs]\n",
        "    mh_h_states = list(itertools.product(*[range(x) for x in mh_nstates]))\n",
        "    assert len(mh_h_states) == states[idx+1][2], \"Incorrect number of states\"\n",
        "    def _is_mhh(idx: int) -> int:\n",
        "        \"\"\"\n",
        "        Check if atom is a hydrogen connected to mh atom.\n",
        "        \"\"\"\n",
        "        for _idx in mhs:\n",
        "            if idx in hs[_idx]:\n",
        "                return _idx\n",
        "            else:\n",
        "                continue\n",
        "        return -1\n",
        "\n",
        "    for i in range(len(charge_table[0])):\n",
        "        _mh_idx = _is_mhh(i)\n",
        "        if _mh_idx >= 0:\n",
        "            # We are treating mh hydrogen\n",
        "            # Get hydrogen charges in deprotonated molecule\n",
        "            _ch = []\n",
        "            for _j in hs[_mh_idx]:\n",
        "                if _j in match1_list:\n",
        "                    _ch_idx = match2_list[match1_list.index(_j)]\n",
        "                    _ch.append(charge_list[_ch_idx])\n",
        "            # Check that all charges are identical\n",
        "            for _ch1 in _ch[1:]:\n",
        "                assert np.abs(_ch[0] - _ch1) < 1e-5, \"Multiple hydrogens at the same site are expexted to have similar charges\"\n",
        "            for _idx, _s in enumerate(mh_h_states):\n",
        "                _ha_idx = mhs.index(_mh_idx)\n",
        "                if hs[_mh_idx].index(i) == _s[_ha_idx]:\n",
        "                    _tmp[_idx].append(0)\n",
        "                else:\n",
        "                    _tmp[_idx].append(_ch[0])\n",
        "            continue\n",
        "        if i in match1_list:\n",
        "            # We are treating any other atom\n",
        "            for _s in _tmp:\n",
        "                _ch_idx = match2_list[match1_list.index(i)]\n",
        "                _tmp[_s].append(charge_list[_ch_idx])\n",
        "            continue\n",
        "        # In all other cases we write 0\n",
        "        # It can be a singe hydrogen, for instance of the other site\n",
        "        for _s in _tmp:\n",
        "            _tmp[0].append(0)\n",
        "\n",
        "    return _tmp\n",
        "\n",
        "def _only_sym_treatment(\n",
        "        idx: int,\n",
        "        match1_list: list[int],\n",
        "        match2_list: list[int],\n",
        "        charge_list: list[float],\n",
        "    ) -> dict:\n",
        "    \"\"\"\n",
        "    \"\"\"\n",
        "    _tmp = {_s: [] for _s in range(states[idx+1][2])}\n",
        "\n",
        "    _ss_atoms = states[idx+1][3][0]\n",
        "    _formal_charges = states[idx+1][3][1]\n",
        "    # we generate list of hydrogens connected to symmetrical atoms\n",
        "    hs = {}\n",
        "    for i in _ss_atoms:\n",
        "        hs[i] = []\n",
        "        _a = _base_mol.GetAtomWithIdx(i)\n",
        "        for _b in _a.GetBonds():\n",
        "            _oi = _b.GetBeginAtomIdx() if _b.GetBeginAtomIdx() != i else _b.GetEndAtomIdx()\n",
        "            if _base_mol.GetAtomWithIdx(_oi).GetSymbol() == \"H\":\n",
        "                hs[i].append(_oi)\n",
        "\n",
        "    def _is_ss_h(idx: int) -> int:\n",
        "        \"\"\"\n",
        "        Check if atom is a hydrogen connected to symmetrical atom.\n",
        "        \"\"\"\n",
        "        for _idx in _ss_atoms:\n",
        "            if idx in hs[_idx]:\n",
        "                return _idx\n",
        "            else:\n",
        "                continue\n",
        "        return -1\n",
        "\n",
        "    for i in range(len(charge_table[0])):\n",
        "        _ss_idx = _is_ss_h(i)\n",
        "        if _ss_idx >= 0:\n",
        "            # We are treating ss hydrogen\n",
        "            # hydrogens can only be attached in the protonated state\n",
        "            # We can only have one bond to h atom.\n",
        "            _ch = -100\n",
        "            for _si in symmetrical_sites[_ss_idx]:\n",
        "                if _si in hs:\n",
        "                    _j = hs[_si][0]\n",
        "                else:\n",
        "                    continue\n",
        "                if _j in match1_list:\n",
        "                    _ch_idx = match2_list[match1_list.index(_j)]\n",
        "                    _ch = charge_list[_ch_idx]\n",
        "                    break\n",
        "            assert _ch > -2, \"Charge not found\"\n",
        "            # This is a list of formal charges for the heavy connected to a\n",
        "            # hydrogen of interest\n",
        "            _f_charge_list = [x[_ss_idx] for x in _formal_charges]\n",
        "            _max_formal_charge = np.max(np.array(_f_charge_list))\n",
        "            _min_formal_charge = np.min(np.array(_f_charge_list))\n",
        "            assert all(x in [_max_formal_charge, _min_formal_charge] for x in _f_charge_list), \"Only two formal charges are possible\"\n",
        "\n",
        "            _max_charge = np.max(np.array([_ch, 0]))\n",
        "            _min_charge = np.min(np.array([_ch, 0]))\n",
        "            for _idx, _fc in enumerate(_f_charge_list):\n",
        "                if _fc == _max_formal_charge:\n",
        "                    _tmp[_idx].append(_max_charge)\n",
        "                else:\n",
        "                    _tmp[_idx].append(_min_charge)\n",
        "            continue\n",
        "        if i in match1_list:\n",
        "            # We are treating any other atom\n",
        "            for _s in _tmp:\n",
        "                _ch_idx = match2_list[match1_list.index(i)]\n",
        "                _tmp[_s].append(charge_list[_ch_idx])\n",
        "            continue\n",
        "        # In all other cases we write 0\n",
        "        # It can be a singe hydrogen, for instance of the other site\n",
        "        for _s in _tmp:\n",
        "            _tmp[0].append(0)\n",
        "\n",
        "    return _tmp\n",
        "\n",
        "_charge_table_basic = [charges[0]]\n",
        "for _i, (_m, _c) in enumerate(zip(_mols[1:], charges[1:])):\n",
        "    mcs = rdFMCS.FindMCS([_base_mol, _m])\n",
        "    mcs_mol = Chem.MolFromSmarts(mcs.smartsString)\n",
        "    match1 = _base_mol.GetSubstructMatch(mcs_mol)\n",
        "    match2 = _m.GetSubstructMatch(mcs_mol)\n",
        "\n",
        "    _tmp_to_cmp = _basic_treatment(_i, match1, match2, _c)\n",
        "    # No symmetry sites and no mhs sites\n",
        "    if states[_i+1][2] == 1:\n",
        "        _tmp = _basic_treatment(_i, match1, match2, _c)\n",
        "    # Only mhs are present\n",
        "    elif not states[_i+1][3]:\n",
        "        _tmp = _only_mhs_treatment(_i, match1, match2, _c)\n",
        "    elif not states[_i+1][4]:\n",
        "        _tmp = _only_sym_treatment(_i, match1, match2, _c)\n",
        "    for x in _tmp:\n",
        "        charge_table.append(_tmp[x])\n",
        "    for x in _tmp_to_cmp:\n",
        "        _charge_table_basic.append(_tmp_to_cmp[x])\n",
        "print(np.array(charge_table).T)\n",
        "assert all(x in charge_table for x in _charge_table_basic), \"All simple charge lists should be in complex\""
      ],
      "metadata": {
        "colab": {
          "base_uri": "https://localhost:8080/"
        },
        "id": "JsdLCCMpX4LS",
        "outputId": "cc9c9490-d682-401f-dfaf-b068647b0a51"
      },
      "execution_count": 47,
      "outputs": [
        {
          "output_type": "stream",
          "name": "stdout",
          "text": [
            "[[-0.14608333 -0.2513     -0.2513     -0.3637    ]\n",
            " [ 0.11761667  0.5322      0.5322      0.4251    ]\n",
            " [-0.11218333 -0.628      -0.628      -0.6911    ]\n",
            " [ 0.13531667  0.5704      0.5704      0.6268    ]\n",
            " [-0.11218333 -0.2529     -0.2529     -0.6911    ]\n",
            " [ 0.11761667  0.0197      0.0197      0.4251    ]\n",
            " [ 0.27991667  0.218       0.218       0.1549    ]\n",
            " [ 0.28691667  0.0951      0.0951      0.029     ]\n",
            " [ 0.41661667  0.          0.3557      0.        ]\n",
            " [ 0.31291667  0.1171      0.1171      0.056     ]\n",
            " [ 0.41661667  0.3557      0.          0.        ]\n",
            " [ 0.28691667  0.224       0.224       0.029     ]]\n"
          ]
        }
      ]
    },
    {
      "cell_type": "code",
      "source": [
        "print(np.array(charge_table).T)"
      ],
      "metadata": {
        "colab": {
          "base_uri": "https://localhost:8080/"
        },
        "id": "Nb6wjPSEYBfR",
        "outputId": "8aab84ee-bf0b-462a-db8a-8588908ef083"
      },
      "execution_count": 101,
      "outputs": [
        {
          "output_type": "stream",
          "name": "stdout",
          "text": [
            "[[-0.84559994 -0.91674118 -0.91674118 -0.91674118]\n",
            " [ 0.17610006  0.20315882  0.20315882  0.20315882]\n",
            " [-0.20429994 -0.09524118 -0.09524118 -0.09524118]\n",
            " [-0.09649994 -0.11794118 -0.11794118 -0.11794118]\n",
            " [-0.11699994 -0.13344118 -0.13344118 -0.13344118]\n",
            " [-0.06999994 -0.12794118 -0.12794118 -0.12794118]\n",
            " [-0.11699994 -0.13344118 -0.13344118 -0.13344118]\n",
            " [-0.09649994 -0.11794118 -0.11794118 -0.11794118]\n",
            " [ 0.45813306  0.          0.35185882  0.35185882]\n",
            " [ 0.45813306  0.35185882  0.          0.35185882]\n",
            " [ 0.45813306  0.35185882  0.35185882  0.        ]\n",
            " [ 0.11270006  0.03375882  0.03375882  0.03375882]\n",
            " [ 0.11270006  0.03375882  0.03375882  0.03375882]\n",
            " [ 0.14000006  0.13805882  0.13805882  0.13805882]\n",
            " [ 0.16300006  0.13105882  0.13105882  0.13105882]\n",
            " [ 0.16500006  0.13005882  0.13005882  0.13005882]\n",
            " [ 0.16300006  0.13105882  0.13105882  0.13105882]\n",
            " [ 0.14000006  0.13805882  0.13805882  0.13805882]]\n"
          ]
        }
      ]
    },
    {
      "cell_type": "code",
      "source": [
        "# We need to transform top to itp and also for the future\n",
        "# needs we need the functionality for parsing atoms and\n",
        "# bonds sections. This will allow us to generate molecular\n",
        "# graphs, which in turn, will allow us to compare molecules\n",
        "# and prepare data for constant pH.\n",
        "\"\"\"\n",
        "We need to support two types of behaviour:\n",
        "1. Easy case\n",
        "    We generate molecule our selves with OpenFF.\n",
        "    In this case we actually know what is the order atoms in\n",
        "    all protonation states and we can easily do matching.\n",
        "    We also know what to do with all possible states -\n",
        "    symmetrical and with multiple hydrogens. From created\n",
        "    interchanges and topology files we can get all the\n",
        "    partial charges and then using rdkit and we can generate\n",
        "    correct charge lists.\n",
        "    We start by implementing this.\n",
        "2. More complex case\n",
        "    The topologies are provided by the user. In this case\n",
        "    we:\n",
        "        (i) expect that the user will provide us not only\n",
        "            with the topologies, but also with structures\n",
        "            for all states\n",
        "        (ii) don't expect that the order of atoms is the\n",
        "            same as in RdKit.\n",
        "    We will reconstruct the order based on rdkit functionality\n",
        "    https://greglandrum.github.io/rdkit-blog/posts/2022-12-18-introducing-rdDetermineBonds.html\n",
        "\n",
        "    NOTE: in principal, the first case can also be treated\n",
        "    as the second. But we will add it later.\n",
        "In general, we need to read top/itp files (for now we always\n",
        "expect [ atoms ] section to be present) and assign charges\n",
        "in the order of mols[0]. For each state we additionally\n",
        "treap symmetrical states and multi-H states. Then we change\n",
        "the order according to the order in the first file.\n",
        "\"\"\"\n",
        "class GMX_topology:\n",
        "    \"\"\"\n",
        "    Reads gromacs topology file and parses some of the sections.\n",
        "\n",
        "    Parameters\n",
        "    ----------\n",
        "    gmx_top: str\n",
        "        GROMACS topology file\n",
        "\n",
        "    Attributes\n",
        "    ----------\n",
        "    blocks: Dict[str, str]\n",
        "        Dictionary of blocks available in the topology file\n",
        "    atoms: list\n",
        "\n",
        "    Methods\n",
        "    -------\n",
        "    parse_atoms()\n",
        "        Parse atom section if present. Generates at\n",
        "    parse_atomtypes()\n",
        "        Parse atomtypes section if present.\n",
        "    parse_bonds()\n",
        "        Parse bonds.\n",
        "\n",
        "\n",
        "    \"\"\"\n",
        "    def __init__(self, gmx_top):\n",
        "        self.blocks = {}\n",
        "        with open(gmx_top, \"r\") as top:\n",
        "            section = None\n",
        "            tmp = []\n",
        "            for line in top:\n",
        "                if line.strip().startswith(\"[\"):\n",
        "                    if section:\n",
        "                        if section in self.blocks:\n",
        "                            self.blocks[section] += [tmp]\n",
        "                        else:\n",
        "                            self.blocks[section] = [tmp]\n",
        "                    else:\n",
        "                        self.blocks[\"header\"] = [tmp]\n",
        "                    section = line.strip()[1:-1].strip()\n",
        "                    tmp = []\n",
        "                else:\n",
        "                    tmp += [line]\n",
        "            if section in self.blocks:\n",
        "                self.blocks[section] += [tmp]\n",
        "            else:\n",
        "                self.blocks[section] = [tmp]\n",
        "\n",
        "    def parse_atoms(self):\n",
        "        \"\"\"\n",
        "        Parse atoms block. As a result, creates atoms attribute, where for each\n",
        "        atom in the provided topology atomtype and index are stored\n",
        "        \"\"\"\n",
        "        if \"atoms\" not in self.blocks:\n",
        "            self.atoms = []\n",
        "        else:\n",
        "            self.atoms = []\n",
        "            for section in self.blocks[\"atoms\"]:\n",
        "                for line in section:\n",
        "                    # Skip non-informative lines\n",
        "                    if line.strip().startswith(\";\"):\n",
        "                        continue\n",
        "                    if line.strip().startswith(\"#\"):\n",
        "                        continue\n",
        "                    if not line.strip():\n",
        "                        continue\n",
        "                    self.atoms.append(\n",
        "                        (\n",
        "                            int(line.split()[0]) - 1,\n",
        "                            line.split()[1],\n",
        "                        )\n",
        "                    )\n",
        "\n",
        "    def parse_dihedrals(self):\n",
        "        \"\"\"\n",
        "        Parse dihedral section of the topology. Only dihdrals of type 1 and 9\n",
        "        with explicitly provided parameters are taken into account.\n",
        "        \"\"\"\n",
        "        if \"dihedrals\" not in self.blocks:\n",
        "            self.dihedrals = []\n",
        "        else:\n",
        "            self.dihedrals = []\n",
        "            for section in self.blocks[\"dihedrals\"]:\n",
        "                for line in section:\n",
        "                    # Skip non-informative lines\n",
        "                    if line.strip().startswith(\";\"):\n",
        "                        continue\n",
        "                    if line.strip().startswith(\"#\"):\n",
        "                        continue\n",
        "                    if not line.strip():\n",
        "                        continue\n",
        "                    if int(line.split()[4]) not in [1, 9]:\n",
        "                        continue\n",
        "                    if len(line.split()) < 8:\n",
        "                        continue\n",
        "                    self.dihedrals.append(\n",
        "                        (\n",
        "                            int(line.split()[0])-1,\n",
        "                            int(line.split()[1])-1,\n",
        "                            int(line.split()[2])-1,\n",
        "                            int(line.split()[3])-1,\n",
        "                            line\n",
        "                        )\n",
        "                    )\n",
        "\n",
        "    def parse_dihedraltypes(self):\n",
        "        \"\"\"\n",
        "        Parse dihedraltypes section in the topology if present. Creates\n",
        "        dihedraltypes attribute, where types and of 4 atoms are provided\n",
        "        and also the corresponding dihedral string (to ease the search in\n",
        "        topology file). All imporpers and Fourier dihedrals are for now\n",
        "        excluded. Thus, only type 1 and 9 are supported.\n",
        "        https://manual.gromacs.org/current/reference-manual/topologies/topology-file-formats.html\n",
        "\n",
        "        NOTE: We also should somehow iterate through difened torsions if they\n",
        "        are present.\n",
        "        \"\"\"\n",
        "        if \"dihedraltypes\" not in self.blocks:\n",
        "            self.dihedraltypes = []\n",
        "        else:\n",
        "            self.dihedraltypes = []\n",
        "            for section in self.blocks[\"dihedraltypes\"]:\n",
        "                for line in section:\n",
        "                    # Skip non-informative lines\n",
        "                    if line.strip().startswith(\";\"):\n",
        "                        continue\n",
        "                    if line.strip().startswith(\"#\"):\n",
        "                        continue\n",
        "                    if not line.strip():\n",
        "                        continue\n",
        "                    if int(line.split()[4]) not in [1, 9]:\n",
        "                        continue\n",
        "                    self.dihedraltypes.append(\n",
        "                        (\n",
        "                            line.split()[0],\n",
        "                            line.split()[1],\n",
        "                            line.split()[2],\n",
        "                            line.split()[3],\n",
        "                            line[:(line.rfind(line.split()[3]) + len(line.split()[3]))].strip()\n",
        "                        )\n",
        "                    )"
      ],
      "metadata": {
        "id": "h-x0GMr6xMgS"
      },
      "execution_count": null,
      "outputs": []
    },
    {
      "cell_type": "code",
      "source": [
        "#@title Provide topologies data\n",
        "#@markdown If parameterisation is needed, all included molecules will be\n",
        "#@markdown parameterized with open force field. If not, for all\n",
        "is_parameterisation_needed = True #@param {type:\"boolean\"}\n",
        "included_mols = [m for m,i in zip(mols, incl) if i]\n",
        "included_svgs = [s for s,i in zip(svgs, incl) if i]\n",
        "for i, s in enumerate(included_svgs):\n",
        "    print(f\"This is Molecule {i}\")\n",
        "    display(SVG(svgs[i]))\n",
        "\n",
        "parameters_for_molecule_0 = \"\" #@param {type:\"string\"}\n",
        "parameters_for_molecule_1 = \"\" #@param {type:\"string\"}\n",
        "parameters_for_molecule_2 = \"\" #@param {type:\"string\"}\n",
        "parameters_for_molecule_3 = \"\" #@param {type:\"string\"}\n",
        "parameters_for_molecule_4 = \"\" #@param {type:\"string\"}"
      ],
      "metadata": {
        "colab": {
          "base_uri": "https://localhost:8080/",
          "height": 464
        },
        "id": "dugAhjr3ex7W",
        "outputId": "cd8a07b4-a286-4dc3-bcf1-da5ee3de28a3"
      },
      "execution_count": null,
      "outputs": [
        {
          "output_type": "stream",
          "name": "stdout",
          "text": [
            "This is Molecule 0\n"
          ]
        },
        {
          "output_type": "display_data",
          "data": {
            "text/plain": [
              "<IPython.core.display.SVG object>"
            ],
            "image/svg+xml": "<svg xmlns=\"http://www.w3.org/2000/svg\" xmlns:rdkit=\"http://www.rdkit.org/xml\" xmlns:xlink=\"http://www.w3.org/1999/xlink\" version=\"1.1\" baseProfile=\"full\" xml:space=\"preserve\" width=\"250px\" height=\"200px\" viewBox=\"0 0 250 200\">\n<!-- END OF HEADER -->\n<rect style=\"opacity:1.0;fill:#FFFFFF;stroke:none\" width=\"250.0\" height=\"200.0\" x=\"0.0\" y=\"0.0\"> </rect>\n<path class=\"bond-0 atom-0 atom-1\" d=\"M 166.3,106.4 L 142.2,99.2\" style=\"fill:none;fill-rule:evenodd;stroke:#0000FF;stroke-width:2.0px;stroke-linecap:butt;stroke-linejoin:miter;stroke-opacity:1\"/>\n<path class=\"bond-0 atom-0 atom-1\" d=\"M 142.2,99.2 L 118.2,92.1\" style=\"fill:none;fill-rule:evenodd;stroke:#000000;stroke-width:2.0px;stroke-linecap:butt;stroke-linejoin:miter;stroke-opacity:1\"/>\n<path class=\"bond-1 atom-1 atom-2\" d=\"M 123.0,93.5 L 117.2,69.0\" style=\"fill:none;fill-rule:evenodd;stroke:#000000;stroke-width:2.0px;stroke-linecap:butt;stroke-linejoin:miter;stroke-opacity:1\"/>\n<path class=\"bond-1 atom-1 atom-2\" d=\"M 117.2,69.0 L 111.3,44.4\" style=\"fill:none;fill-rule:evenodd;stroke:#FF0000;stroke-width:2.0px;stroke-linecap:butt;stroke-linejoin:miter;stroke-opacity:1\"/>\n<path class=\"bond-1 atom-1 atom-2\" d=\"M 114.5,95.6 L 108.6,71.0\" style=\"fill:none;fill-rule:evenodd;stroke:#000000;stroke-width:2.0px;stroke-linecap:butt;stroke-linejoin:miter;stroke-opacity:1\"/>\n<path class=\"bond-1 atom-1 atom-2\" d=\"M 108.6,71.0 L 102.7,46.5\" style=\"fill:none;fill-rule:evenodd;stroke:#FF0000;stroke-width:2.0px;stroke-linecap:butt;stroke-linejoin:miter;stroke-opacity:1\"/>\n<path class=\"bond-2 atom-1 atom-3\" d=\"M 118.2,92.1 L 101.6,107.8\" style=\"fill:none;fill-rule:evenodd;stroke:#000000;stroke-width:2.0px;stroke-linecap:butt;stroke-linejoin:miter;stroke-opacity:1\"/>\n<path class=\"bond-2 atom-1 atom-3\" d=\"M 101.6,107.8 L 85.0,123.5\" style=\"fill:none;fill-rule:evenodd;stroke:#FF0000;stroke-width:2.0px;stroke-linecap:butt;stroke-linejoin:miter;stroke-opacity:1\"/>\n<path class=\"bond-3 atom-0 atom-4\" d=\"M 182.8,111.3 L 202.7,117.2\" style=\"fill:none;fill-rule:evenodd;stroke:#0000FF;stroke-width:2.0px;stroke-linecap:butt;stroke-linejoin:miter;stroke-opacity:1\"/>\n<path class=\"bond-3 atom-0 atom-4\" d=\"M 202.7,117.2 L 222.5,123.1\" style=\"fill:none;fill-rule:evenodd;stroke:#000000;stroke-width:2.0px;stroke-linecap:butt;stroke-linejoin:miter;stroke-opacity:1\"/>\n<path class=\"bond-4 atom-0 atom-5\" d=\"M 171.5,119.1 L 166.2,137.1\" style=\"fill:none;fill-rule:evenodd;stroke:#0000FF;stroke-width:2.0px;stroke-linecap:butt;stroke-linejoin:miter;stroke-opacity:1\"/>\n<path class=\"bond-4 atom-0 atom-5\" d=\"M 166.2,137.1 L 160.9,155.0\" style=\"fill:none;fill-rule:evenodd;stroke:#000000;stroke-width:2.0px;stroke-linecap:butt;stroke-linejoin:miter;stroke-opacity:1\"/>\n<path class=\"bond-5 atom-0 atom-6\" d=\"M 177.6,98.6 L 183.0,80.6\" style=\"fill:none;fill-rule:evenodd;stroke:#0000FF;stroke-width:2.0px;stroke-linecap:butt;stroke-linejoin:miter;stroke-opacity:1\"/>\n<path class=\"bond-5 atom-0 atom-6\" d=\"M 183.0,80.6 L 188.3,62.7\" style=\"fill:none;fill-rule:evenodd;stroke:#000000;stroke-width:2.0px;stroke-linecap:butt;stroke-linejoin:miter;stroke-opacity:1\"/>\n<path class=\"bond-6 atom-3 atom-7\" d=\"M 65.8,129.7 L 46.7,124.0\" style=\"fill:none;fill-rule:evenodd;stroke:#FF0000;stroke-width:2.0px;stroke-linecap:butt;stroke-linejoin:miter;stroke-opacity:1\"/>\n<path class=\"bond-6 atom-3 atom-7\" d=\"M 46.7,124.0 L 27.5,118.3\" style=\"fill:none;fill-rule:evenodd;stroke:#000000;stroke-width:2.0px;stroke-linecap:butt;stroke-linejoin:miter;stroke-opacity:1\"/>\n<path d=\"M 119.4,92.4 L 118.2,92.1 L 117.3,92.9\" style=\"fill:none;stroke:#000000;stroke-width:2.0px;stroke-linecap:butt;stroke-linejoin:miter;stroke-opacity:1;\"/>\n<path class=\"atom-0\" d=\"M 170.9 100.5 L 176.3 109.3 Q 176.9 110.2, 177.8 111.8 Q 178.6 113.4, 178.7 113.5 L 178.7 100.5 L 180.9 100.5 L 180.9 117.2 L 178.6 117.2 L 172.7 107.5 Q 172.1 106.4, 171.3 105.1 Q 170.6 103.8, 170.4 103.4 L 170.4 117.2 L 168.2 117.2 L 168.2 100.5 L 170.9 100.5 \" fill=\"#0000FF\"/>\n<path class=\"atom-0\" d=\"M 184.0 103.5 L 187.0 103.5 L 187.0 100.4 L 188.3 100.4 L 188.3 103.5 L 191.3 103.5 L 191.3 104.6 L 188.3 104.6 L 188.3 107.7 L 187.0 107.7 L 187.0 104.6 L 184.0 104.6 L 184.0 103.5 \" fill=\"#0000FF\"/>\n<path class=\"atom-2\" d=\"M 96.8 34.9 Q 96.8 30.9, 98.8 28.6 Q 100.8 26.4, 104.5 26.4 Q 108.2 26.4, 110.2 28.6 Q 112.1 30.9, 112.1 34.9 Q 112.1 38.9, 110.1 41.2 Q 108.1 43.5, 104.5 43.5 Q 100.8 43.5, 98.8 41.2 Q 96.8 39.0, 96.8 34.9 M 104.5 41.6 Q 107.0 41.6, 108.4 39.9 Q 109.8 38.2, 109.8 34.9 Q 109.8 31.6, 108.4 30.0 Q 107.0 28.3, 104.5 28.3 Q 101.9 28.3, 100.5 29.9 Q 99.2 31.6, 99.2 34.9 Q 99.2 38.3, 100.5 39.9 Q 101.9 41.6, 104.5 41.6 \" fill=\"#FF0000\"/>\n<path class=\"atom-3\" d=\"M 67.8 132.6 Q 67.8 128.6, 69.8 126.4 Q 71.7 124.1, 75.4 124.1 Q 79.1 124.1, 81.1 126.4 Q 83.1 128.6, 83.1 132.6 Q 83.1 136.6, 81.1 138.9 Q 79.1 141.2, 75.4 141.2 Q 71.8 141.2, 69.8 138.9 Q 67.8 136.7, 67.8 132.6 M 75.4 139.3 Q 78.0 139.3, 79.3 137.6 Q 80.7 135.9, 80.7 132.6 Q 80.7 129.3, 79.3 127.7 Q 78.0 126.0, 75.4 126.0 Q 72.9 126.0, 71.5 127.6 Q 70.1 129.3, 70.1 132.6 Q 70.1 136.0, 71.5 137.6 Q 72.9 139.3, 75.4 139.3 \" fill=\"#FF0000\"/>\n<path class=\"atom-4\" d=\"M 224.5 117.3 L 226.7 117.3 L 226.7 124.4 L 235.2 124.4 L 235.2 117.3 L 237.5 117.3 L 237.5 134.0 L 235.2 134.0 L 235.2 126.3 L 226.7 126.3 L 226.7 134.0 L 224.5 134.0 L 224.5 117.3 \" fill=\"#000000\"/>\n<path class=\"atom-5\" d=\"M 151.3 156.9 L 153.5 156.9 L 153.5 164.0 L 162.1 164.0 L 162.1 156.9 L 164.3 156.9 L 164.3 173.6 L 162.1 173.6 L 162.1 165.9 L 153.5 165.9 L 153.5 173.6 L 151.3 173.6 L 151.3 156.9 \" fill=\"#000000\"/>\n<path class=\"atom-6\" d=\"M 184.8 44.1 L 187.1 44.1 L 187.1 51.2 L 195.6 51.2 L 195.6 44.1 L 197.9 44.1 L 197.9 60.8 L 195.6 60.8 L 195.6 53.1 L 187.1 53.1 L 187.1 60.8 L 184.8 60.8 L 184.8 44.1 \" fill=\"#000000\"/>\n<path class=\"atom-7\" d=\"M 12.5 107.4 L 14.8 107.4 L 14.8 114.5 L 23.3 114.5 L 23.3 107.4 L 25.5 107.4 L 25.5 124.1 L 23.3 124.1 L 23.3 116.4 L 14.8 116.4 L 14.8 124.1 L 12.5 124.1 L 12.5 107.4 \" fill=\"#000000\"/>\n</svg>"
          },
          "metadata": {}
        },
        {
          "output_type": "stream",
          "name": "stdout",
          "text": [
            "This is Molecule 1\n"
          ]
        },
        {
          "output_type": "display_data",
          "data": {
            "text/plain": [
              "<IPython.core.display.SVG object>"
            ],
            "image/svg+xml": "<svg xmlns=\"http://www.w3.org/2000/svg\" xmlns:rdkit=\"http://www.rdkit.org/xml\" xmlns:xlink=\"http://www.w3.org/1999/xlink\" version=\"1.1\" baseProfile=\"full\" xml:space=\"preserve\" width=\"250px\" height=\"200px\" viewBox=\"0 0 250 200\">\n<!-- END OF HEADER -->\n<rect style=\"opacity:1.0;fill:#FFFFFF;stroke:none\" width=\"250.0\" height=\"200.0\" x=\"0.0\" y=\"0.0\"> </rect>\n<path class=\"bond-0 atom-0 atom-1\" d=\"M 134.4,100.0 L 100.5,100.0\" style=\"fill:none;fill-rule:evenodd;stroke:#0000FF;stroke-width:2.0px;stroke-linecap:butt;stroke-linejoin:miter;stroke-opacity:1\"/>\n<path class=\"bond-0 atom-0 atom-1\" d=\"M 100.5,100.0 L 66.6,100.0\" style=\"fill:none;fill-rule:evenodd;stroke:#000000;stroke-width:2.0px;stroke-linecap:butt;stroke-linejoin:miter;stroke-opacity:1\"/>\n<path class=\"bond-1 atom-1 atom-2\" d=\"M 73.5,100.0 L 57.0,71.5\" style=\"fill:none;fill-rule:evenodd;stroke:#000000;stroke-width:2.0px;stroke-linecap:butt;stroke-linejoin:miter;stroke-opacity:1\"/>\n<path class=\"bond-1 atom-1 atom-2\" d=\"M 57.0,71.5 L 40.6,43.0\" style=\"fill:none;fill-rule:evenodd;stroke:#FF0000;stroke-width:2.0px;stroke-linecap:butt;stroke-linejoin:miter;stroke-opacity:1\"/>\n<path class=\"bond-1 atom-1 atom-2\" d=\"M 63.2,105.9 L 46.8,77.4\" style=\"fill:none;fill-rule:evenodd;stroke:#000000;stroke-width:2.0px;stroke-linecap:butt;stroke-linejoin:miter;stroke-opacity:1\"/>\n<path class=\"bond-1 atom-1 atom-2\" d=\"M 46.8,77.4 L 30.3,48.9\" style=\"fill:none;fill-rule:evenodd;stroke:#FF0000;stroke-width:2.0px;stroke-linecap:butt;stroke-linejoin:miter;stroke-opacity:1\"/>\n<path class=\"bond-2 atom-1 atom-3\" d=\"M 66.6,100.0 L 50.9,127.2\" style=\"fill:none;fill-rule:evenodd;stroke:#000000;stroke-width:2.0px;stroke-linecap:butt;stroke-linejoin:miter;stroke-opacity:1\"/>\n<path class=\"bond-2 atom-1 atom-3\" d=\"M 50.9,127.2 L 35.2,154.4\" style=\"fill:none;fill-rule:evenodd;stroke:#FF0000;stroke-width:2.0px;stroke-linecap:butt;stroke-linejoin:miter;stroke-opacity:1\"/>\n<path class=\"bond-3 atom-0 atom-4\" d=\"M 170.5,100.0 L 191.7,100.0\" style=\"fill:none;fill-rule:evenodd;stroke:#0000FF;stroke-width:2.0px;stroke-linecap:butt;stroke-linejoin:miter;stroke-opacity:1\"/>\n<path class=\"bond-3 atom-0 atom-4\" d=\"M 191.7,100.0 L 213.0,100.0\" style=\"fill:none;fill-rule:evenodd;stroke:#000000;stroke-width:2.0px;stroke-linecap:butt;stroke-linejoin:miter;stroke-opacity:1\"/>\n<path class=\"bond-4 atom-0 atom-5\" d=\"M 145.5,113.8 L 145.5,139.4\" style=\"fill:none;fill-rule:evenodd;stroke:#0000FF;stroke-width:2.0px;stroke-linecap:butt;stroke-linejoin:miter;stroke-opacity:1\"/>\n<path class=\"bond-4 atom-0 atom-5\" d=\"M 145.5,139.4 L 145.5,165.1\" style=\"fill:none;fill-rule:evenodd;stroke:#000000;stroke-width:2.0px;stroke-linecap:butt;stroke-linejoin:miter;stroke-opacity:1\"/>\n<path class=\"bond-5 atom-0 atom-6\" d=\"M 145.5,86.2 L 145.5,60.6\" style=\"fill:none;fill-rule:evenodd;stroke:#0000FF;stroke-width:2.0px;stroke-linecap:butt;stroke-linejoin:miter;stroke-opacity:1\"/>\n<path class=\"bond-5 atom-0 atom-6\" d=\"M 145.5,60.6 L 145.5,34.9\" style=\"fill:none;fill-rule:evenodd;stroke:#000000;stroke-width:2.0px;stroke-linecap:butt;stroke-linejoin:miter;stroke-opacity:1\"/>\n<path d=\"M 68.3,100.0 L 66.6,100.0 L 65.8,101.4\" style=\"fill:none;stroke:#000000;stroke-width:2.0px;stroke-linecap:butt;stroke-linejoin:miter;stroke-opacity:1;\"/>\n<path class=\"atom-0\" d=\"M 140.5 88.8 L 147.8 100.7 Q 148.6 101.8, 149.7 103.9 Q 150.9 106.1, 151.0 106.2 L 151.0 88.8 L 153.9 88.8 L 153.9 111.2 L 150.9 111.2 L 143.0 98.2 Q 142.1 96.7, 141.1 95.0 Q 140.2 93.3, 139.9 92.7 L 139.9 111.2 L 137.0 111.2 L 137.0 88.8 L 140.5 88.8 \" fill=\"#0000FF\"/>\n<path class=\"atom-0\" d=\"M 158.1 92.9 L 162.1 92.9 L 162.1 88.7 L 163.8 88.7 L 163.8 92.9 L 167.9 92.9 L 167.9 94.4 L 163.8 94.4 L 163.8 98.5 L 162.1 98.5 L 162.1 94.4 L 158.1 94.4 L 158.1 92.9 \" fill=\"#0000FF\"/>\n<path class=\"atom-2\" d=\"M 17.0 31.8 Q 17.0 26.4, 19.6 23.4 Q 22.3 20.4, 27.2 20.4 Q 32.2 20.4, 34.8 23.4 Q 37.5 26.4, 37.5 31.8 Q 37.5 37.2, 34.8 40.3 Q 32.1 43.4, 27.2 43.4 Q 22.3 43.4, 19.6 40.3 Q 17.0 37.2, 17.0 31.8 M 27.2 40.8 Q 30.6 40.8, 32.4 38.6 Q 34.3 36.3, 34.3 31.8 Q 34.3 27.4, 32.4 25.2 Q 30.6 23.0, 27.2 23.0 Q 23.8 23.0, 21.9 25.2 Q 20.1 27.4, 20.1 31.8 Q 20.1 36.3, 21.9 38.6 Q 23.8 40.8, 27.2 40.8 \" fill=\"#FF0000\"/>\n<path class=\"atom-3\" d=\"M 17.0 168.3 Q 17.0 163.0, 19.6 160.0 Q 22.3 157.0, 27.2 157.0 Q 32.2 157.0, 34.8 160.0 Q 37.5 163.0, 37.5 168.3 Q 37.5 173.8, 34.8 176.9 Q 32.1 179.9, 27.2 179.9 Q 22.3 179.9, 19.6 176.9 Q 17.0 173.8, 17.0 168.3 M 27.2 177.4 Q 30.6 177.4, 32.4 175.1 Q 34.3 172.8, 34.3 168.3 Q 34.3 164.0, 32.4 161.7 Q 30.6 159.5, 27.2 159.5 Q 23.8 159.5, 21.9 161.7 Q 20.1 163.9, 20.1 168.3 Q 20.1 172.8, 21.9 175.1 Q 23.8 177.4, 27.2 177.4 \" fill=\"#FF0000\"/>\n<path class=\"atom-3\" d=\"M 40.6 160.6 L 48.3 160.6 L 48.3 162.3 L 40.6 162.3 L 40.6 160.6 \" fill=\"#FF0000\"/>\n<path class=\"atom-4\" d=\"M 215.6 88.8 L 218.6 88.8 L 218.6 98.3 L 230.0 98.3 L 230.0 88.8 L 233.0 88.8 L 233.0 111.2 L 230.0 111.2 L 230.0 100.9 L 218.6 100.9 L 218.6 111.2 L 215.6 111.2 L 215.6 88.8 \" fill=\"#000000\"/>\n<path class=\"atom-5\" d=\"M 136.7 167.7 L 139.8 167.7 L 139.8 177.2 L 151.2 177.2 L 151.2 167.7 L 154.2 167.7 L 154.2 190.0 L 151.2 190.0 L 151.2 179.7 L 139.8 179.7 L 139.8 190.0 L 136.7 190.0 L 136.7 167.7 \" fill=\"#000000\"/>\n<path class=\"atom-6\" d=\"M 136.7 10.0 L 139.8 10.0 L 139.8 19.5 L 151.2 19.5 L 151.2 10.0 L 154.2 10.0 L 154.2 32.3 L 151.2 32.3 L 151.2 22.0 L 139.8 22.0 L 139.8 32.3 L 136.7 32.3 L 136.7 10.0 \" fill=\"#000000\"/>\n</svg>"
          },
          "metadata": {}
        }
      ]
    },
    {
      "cell_type": "code",
      "source": [
        "from openff.interchange import Interchange"
      ],
      "metadata": {
        "id": "5-2RAwueN0DQ"
      },
      "execution_count": null,
      "outputs": []
    },
    {
      "cell_type": "code",
      "source": [
        "inter = Interchange.from_smirnoff(force_field=ff, topology=top)"
      ],
      "metadata": {
        "id": "jarT_qXWN76B"
      },
      "execution_count": null,
      "outputs": []
    },
    {
      "cell_type": "code",
      "source": [
        "inter.to_top(\"test.top\")"
      ],
      "metadata": {
        "id": "3lfNtlY_Oq6T"
      },
      "execution_count": null,
      "outputs": []
    },
    {
      "cell_type": "code",
      "source": [],
      "metadata": {
        "id": "61TBk7goN61o"
      },
      "execution_count": null,
      "outputs": []
    },
    {
      "cell_type": "code",
      "source": [],
      "metadata": {
        "id": "4PyU1Va5MXJK"
      },
      "execution_count": null,
      "outputs": []
    }
  ]
}