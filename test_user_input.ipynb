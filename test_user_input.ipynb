{
  "nbformat": 4,
  "nbformat_minor": 0,
  "metadata": {
    "colab": {
      "provenance": []
    },
    "kernelspec": {
      "name": "python3",
      "display_name": "Python 3"
    },
    "language_info": {
      "name": "python"
    }
  },
  "cells": [
    {
      "cell_type": "markdown",
      "metadata": {
        "id": "06409e3b"
      },
      "source": [
        "### This notebook has to be run on Google colab"
      ]
    },
    {
      "cell_type": "markdown",
      "metadata": {
        "id": "8818275f"
      },
      "source": [
        "<a target=\"_blank\" href=\"https://colab.research.google.com/github/pbuslaev/test_ipynb/blob/main/test_user_input.ipynb\">\n",
        "  <img src=\"https://colab.research.google.com/assets/colab-badge.svg\" alt=\"Open In Colab\"/>\n",
        "</a>"
      ]
    },
    {
      "cell_type": "code",
      "execution_count": 1,
      "metadata": {
        "colab": {
          "base_uri": "https://localhost:8080/"
        },
        "cellView": "form",
        "id": "tXHVawUbd_yp",
        "outputId": "440784f2-0feb-4bb3-d7da-cb2a4c00635d"
      },
      "outputs": [
        {
          "output_type": "stream",
          "name": "stdout",
          "text": [
            "⏬ Downloading https://github.com/conda-forge/miniforge/releases/download/23.11.0-0/Mambaforge-23.11.0-0-Linux-x86_64.sh...\n",
            "📦 Installing...\n",
            "📌 Adjusting configuration...\n",
            "🩹 Patching environment...\n",
            "⏲ Done in 0:00:15\n",
            "🔁 Restarting kernel...\n"
          ]
        }
      ],
      "source": [
        "#@title Conda installation\n",
        "!pip install -q condacolab\n",
        "import condacolab\n",
        "condacolab.install()"
      ]
    },
    {
      "cell_type": "code",
      "source": [
        "#@title Intall packages\n",
        "!pip install dimorphite_dl --upgrade\n",
        "!mamba install -c conda-forge rdkit sympy openff-toolkit"
      ],
      "metadata": {
        "colab": {
          "base_uri": "https://localhost:8080/"
        },
        "id": "HApR6x6ptwjO",
        "outputId": "a4d273c4-fa2f-40a5-8357-cc8bc07f88e4",
        "cellView": "form"
      },
      "execution_count": 1,
      "outputs": [
        {
          "output_type": "stream",
          "name": "stdout",
          "text": [
            "Collecting dimorphite_dl\n",
            "  Downloading dimorphite_dl-1.3.2.tar.gz (18 kB)\n",
            "  Preparing metadata (setup.py) ... \u001b[?25l\u001b[?25hdone\n",
            "Collecting rdkit-pypi (from dimorphite_dl)\n",
            "  Downloading rdkit_pypi-2022.9.5-cp310-cp310-manylinux_2_17_x86_64.manylinux2014_x86_64.whl.metadata (3.9 kB)\n",
            "Collecting numpy (from rdkit-pypi->dimorphite_dl)\n",
            "  Downloading numpy-1.26.4-cp310-cp310-manylinux_2_17_x86_64.manylinux2014_x86_64.whl.metadata (61 kB)\n",
            "\u001b[2K     \u001b[90m━━━━━━━━━━━━━━━━━━━━━━━━━━━━━━━━━━━━━━━━\u001b[0m \u001b[32m61.0/61.0 kB\u001b[0m \u001b[31m3.5 MB/s\u001b[0m eta \u001b[36m0:00:00\u001b[0m\n",
            "\u001b[?25hCollecting Pillow (from rdkit-pypi->dimorphite_dl)\n",
            "  Downloading pillow-10.2.0-cp310-cp310-manylinux_2_28_x86_64.whl.metadata (9.7 kB)\n",
            "Downloading rdkit_pypi-2022.9.5-cp310-cp310-manylinux_2_17_x86_64.manylinux2014_x86_64.whl (29.4 MB)\n",
            "\u001b[2K   \u001b[90m━━━━━━━━━━━━━━━━━━━━━━━━━━━━━━━━━━━━━━━━\u001b[0m \u001b[32m29.4/29.4 MB\u001b[0m \u001b[31m38.6 MB/s\u001b[0m eta \u001b[36m0:00:00\u001b[0m\n",
            "\u001b[?25hDownloading numpy-1.26.4-cp310-cp310-manylinux_2_17_x86_64.manylinux2014_x86_64.whl (18.2 MB)\n",
            "\u001b[2K   \u001b[90m━━━━━━━━━━━━━━━━━━━━━━━━━━━━━━━━━━━━━━━━\u001b[0m \u001b[32m18.2/18.2 MB\u001b[0m \u001b[31m55.4 MB/s\u001b[0m eta \u001b[36m0:00:00\u001b[0m\n",
            "\u001b[?25hDownloading pillow-10.2.0-cp310-cp310-manylinux_2_28_x86_64.whl (4.5 MB)\n",
            "\u001b[2K   \u001b[90m━━━━━━━━━━━━━━━━━━━━━━━━━━━━━━━━━━━━━━━━\u001b[0m \u001b[32m4.5/4.5 MB\u001b[0m \u001b[31m62.0 MB/s\u001b[0m eta \u001b[36m0:00:00\u001b[0m\n",
            "\u001b[?25hBuilding wheels for collected packages: dimorphite_dl\n",
            "  Building wheel for dimorphite_dl (setup.py) ... \u001b[?25l\u001b[?25hdone\n",
            "  Created wheel for dimorphite_dl: filename=dimorphite_dl-1.3.2-py3-none-any.whl size=16867 sha256=6d1a0631315638da1a0a2b5848ecb6847b0307d45abed8848a6c366cc7444905\n",
            "  Stored in directory: /root/.cache/pip/wheels/61/49/66/d58266747837b243c5495f897daaa3ee4f4dc6115755a9ef72\n",
            "Successfully built dimorphite_dl\n",
            "Installing collected packages: Pillow, numpy, rdkit-pypi, dimorphite_dl\n",
            "Successfully installed Pillow-10.2.0 dimorphite_dl-1.3.2 numpy-1.26.4 rdkit-pypi-2022.9.5\n",
            "\u001b[33mWARNING: Running pip as the 'root' user can result in broken permissions and conflicting behaviour with the system package manager. It is recommended to use a virtual environment instead: https://pip.pypa.io/warnings/venv\u001b[0m\u001b[33m\n",
            "\u001b[0m\n",
            "Looking for: ['rdkit', 'sympy']\n",
            "\n",
            "\u001b[?25l\u001b[2K\u001b[0G[+] 0.0s\n",
            "\u001b[2K\u001b[1A\u001b[2K\u001b[0G[+] 0.1s\n",
            "conda-forge/linux-64  ⣾  \n",
            "conda-forge/noarch    ⣾  \u001b[2K\u001b[1A\u001b[2K\u001b[1A\u001b[2K\u001b[0G[+] 0.2s\n",
            "conda-forge/linux-64   1%\n",
            "conda-forge/noarch    15%\u001b[2K\u001b[1A\u001b[2K\u001b[1A\u001b[2K\u001b[0G[+] 0.3s\n",
            "conda-forge/linux-64   5%\n",
            "conda-forge/noarch    39%\u001b[2K\u001b[1A\u001b[2K\u001b[1A\u001b[2K\u001b[0G[+] 0.4s\n",
            "conda-forge/linux-64  10%\n",
            "conda-forge/noarch    62%\u001b[2K\u001b[1A\u001b[2K\u001b[1A\u001b[2K\u001b[0G[+] 0.5s\n",
            "conda-forge/linux-64  15%\n",
            "conda-forge/noarch    74%\u001b[2K\u001b[1A\u001b[2K\u001b[1A\u001b[2K\u001b[0G[+] 0.6s\n",
            "conda-forge/linux-64  20%\n",
            "conda-forge/noarch    85%\u001b[2K\u001b[1A\u001b[2K\u001b[1A\u001b[2K\u001b[0Gconda-forge/noarch                                \n",
            "[+] 0.7s\n",
            "conda-forge/linux-64  30%\u001b[2K\u001b[1A\u001b[2K\u001b[0G[+] 0.8s\n",
            "conda-forge/linux-64  35%\u001b[2K\u001b[1A\u001b[2K\u001b[0G[+] 0.9s\n",
            "conda-forge/linux-64  55%\u001b[2K\u001b[1A\u001b[2K\u001b[0G[+] 1.0s\n",
            "conda-forge/linux-64  65%\u001b[2K\u001b[1A\u001b[2K\u001b[0G[+] 1.1s\n",
            "conda-forge/linux-64  80%\u001b[2K\u001b[1A\u001b[2K\u001b[0G[+] 1.2s\n",
            "conda-forge/linux-64  90%\u001b[2K\u001b[1A\u001b[2K\u001b[0Gconda-forge/linux-64                              \n",
            "\u001b[?25h\n",
            "Pinned packages:\n",
            "  - python 3.10.*\n",
            "  - python 3.10.*\n",
            "  - python_abi 3.10.* *cp310*\n",
            "  - cuda-version 12.*\n",
            "\n",
            "\n",
            "Transaction\n",
            "\n",
            "  Prefix: /usr/local\n",
            "\n",
            "  Updating specs:\n",
            "\n",
            "   - rdkit\n",
            "   - sympy\n",
            "   - ca-certificates\n",
            "   - certifi\n",
            "   - openssl\n",
            "\n",
            "\n",
            "  Package                         Version  Build                Channel           Size\n",
            "────────────────────────────────────────────────────────────────────────────────────────\n",
            "  Install:\n",
            "────────────────────────────────────────────────────────────────────────────────────────\n",
            "\n",
            "  \u001b[32m+ xorg-libice              \u001b[0m       1.1.1  hd590300_0           conda-forge       58kB\n",
            "  \u001b[32m+ zlib                     \u001b[0m      1.2.13  hd590300_5           conda-forge       93kB\n",
            "  \u001b[32m+ xorg-xextproto           \u001b[0m       7.3.0  h0b41bf4_1003        conda-forge       30kB\n",
            "  \u001b[32m+ libwebp-base             \u001b[0m       1.3.2  hd590300_0           conda-forge      402kB\n",
            "  \u001b[32m+ libboost                 \u001b[0m      1.82.0  h6fcfa73_6           conda-forge        3MB\n",
            "  \u001b[32m+ libjpeg-turbo            \u001b[0m       3.0.0  hd590300_1           conda-forge      619kB\n",
            "  \u001b[32m+ lerc                     \u001b[0m       4.0.0  h27087fc_0           conda-forge      282kB\n",
            "  \u001b[32m+ libdeflate               \u001b[0m        1.19  hd590300_0           conda-forge       67kB\n",
            "  \u001b[32m+ libpng                   \u001b[0m      1.6.43  h2797004_0           conda-forge      288kB\n",
            "  \u001b[32m+ kiwisolver               \u001b[0m       1.4.5  py310hd41b1e2_1      conda-forge       73kB\n",
            "  \u001b[32m+ xorg-libxau              \u001b[0m      1.0.11  hd590300_0           conda-forge       14kB\n",
            "  \u001b[32m+ libgfortran5             \u001b[0m      13.2.0  ha4646dd_5           conda-forge        1MB\n",
            "  \u001b[32m+ libbrotlicommon          \u001b[0m       1.1.0  hd590300_1           conda-forge       69kB\n",
            "  \u001b[32m+ unicodedata2             \u001b[0m      15.1.0  py310h2372a71_0      conda-forge      374kB\n",
            "  \u001b[32m+ libexpat                 \u001b[0m       2.5.0  hcb278e6_1           conda-forge       78kB\n",
            "  \u001b[32m+ gettext                  \u001b[0m      0.21.1  h27087fc_0           conda-forge        4MB\n",
            "  \u001b[32m+ pcre2                    \u001b[0m       10.42  hcad00b1_0           conda-forge        1MB\n",
            "  \u001b[32m+ pixman                   \u001b[0m      0.43.2  h59595ed_0           conda-forge      387kB\n",
            "  \u001b[32m+ gmp                      \u001b[0m       6.3.0  h59595ed_0           conda-forge      563kB\n",
            "  \u001b[32m+ greenlet                 \u001b[0m       3.0.3  py310hc6cd4ac_0      conda-forge      211kB\n",
            "  \u001b[32m+ chardet                  \u001b[0m       5.2.0  py310hff52083_1      conda-forge      247kB\n",
            "  \u001b[32m+ xorg-renderproto         \u001b[0m      0.11.1  h7f98852_1002        conda-forge       10kB\n",
            "  \u001b[32m+ xorg-kbproto             \u001b[0m       1.0.7  h7f98852_1002        conda-forge       27kB\n",
            "  \u001b[32m+ xorg-xproto              \u001b[0m      7.0.31  h7f98852_1007        conda-forge       75kB\n",
            "  \u001b[32m+ pthread-stubs            \u001b[0m         0.4  h36c2ea0_1001        conda-forge        6kB\n",
            "  \u001b[32m+ xorg-libxdmcp            \u001b[0m       1.1.3  h7f98852_0           conda-forge       19kB\n",
            "  \u001b[32m+ xorg-libsm               \u001b[0m       1.2.4  h7391055_0           conda-forge       27kB\n",
            "  \u001b[32m+ libtiff                  \u001b[0m       4.6.0  ha9c0a0a_2           conda-forge      283kB\n",
            "  \u001b[32m+ freetype                 \u001b[0m      2.12.1  h267a509_2           conda-forge      635kB\n",
            "  \u001b[32m+ libgfortran-ng           \u001b[0m      13.2.0  h69a702a_5           conda-forge       24kB\n",
            "  \u001b[32m+ libbrotlienc             \u001b[0m       1.1.0  hd590300_1           conda-forge      283kB\n",
            "  \u001b[32m+ libbrotlidec             \u001b[0m       1.1.0  hd590300_1           conda-forge       33kB\n",
            "  \u001b[32m+ expat                    \u001b[0m       2.5.0  hcb278e6_1           conda-forge      137kB\n",
            "  \u001b[32m+ libglib                  \u001b[0m      2.78.4  h783c2da_0           conda-forge        3MB\n",
            "  \u001b[32m+ mpfr                     \u001b[0m       4.2.1  h9458935_0           conda-forge      642kB\n",
            "  \u001b[32m+ libxcb                   \u001b[0m        1.15  h0b41bf4_0           conda-forge      384kB\n",
            "  \u001b[32m+ openjpeg                 \u001b[0m       2.5.0  h488ebb8_3           conda-forge      357kB\n",
            "  \u001b[32m+ lcms2                    \u001b[0m        2.16  hb7c19ff_0           conda-forge      245kB\n",
            "  \u001b[32m+ libopenblas              \u001b[0m      0.3.26  pthreads_h413a1c8_0  conda-forge        6MB\n",
            "  \u001b[32m+ brotli-bin               \u001b[0m       1.1.0  hd590300_1           conda-forge       19kB\n",
            "  \u001b[32m+ fontconfig               \u001b[0m      2.14.2  h14ed4e7_0           conda-forge      272kB\n",
            "  \u001b[32m+ mpc                      \u001b[0m       1.3.1  hfe3b2da_0           conda-forge      116kB\n",
            "  \u001b[32m+ xorg-libx11              \u001b[0m       1.8.7  h8ee46fc_0           conda-forge      829kB\n",
            "  \u001b[32m+ pillow                   \u001b[0m      10.2.0  py310h01dd4db_0      conda-forge       41MB\n",
            "  \u001b[32m+ libblas                  \u001b[0m       3.9.0  21_linux64_openblas  conda-forge       15kB\n",
            "  \u001b[32m+ brotli                   \u001b[0m       1.1.0  hd590300_1           conda-forge       19kB\n",
            "  \u001b[32m+ gmpy2                    \u001b[0m       2.1.2  py310h3ec546c_1      conda-forge      220kB\n",
            "  \u001b[32m+ xorg-libxext             \u001b[0m       1.3.4  h0b41bf4_2           conda-forge       50kB\n",
            "  \u001b[32m+ xorg-libxrender          \u001b[0m      0.9.11  hd590300_0           conda-forge       38kB\n",
            "  \u001b[32m+ libcblas                 \u001b[0m       3.9.0  21_linux64_openblas  conda-forge       15kB\n",
            "  \u001b[32m+ liblapack                \u001b[0m       3.9.0  21_linux64_openblas  conda-forge       15kB\n",
            "  \u001b[32m+ numpy                    \u001b[0m      1.26.4  py310hb13e2d6_0      conda-forge        7MB\n",
            "  \u001b[32m+ contourpy                \u001b[0m       1.2.0  py310hd41b1e2_0      conda-forge      239kB\n",
            "  \u001b[32m+ libboost-python          \u001b[0m      1.82.0  py310hcb52e73_6      conda-forge      119kB\n",
            "  \u001b[32m+ font-ttf-dejavu-sans-mono\u001b[0m        2.37  hab24e00_0           conda-forge      397kB\n",
            "  \u001b[32m+ mpmath                   \u001b[0m       1.3.0  pyhd8ed1ab_0         conda-forge      438kB\n",
            "  \u001b[32m+ font-ttf-inconsolata     \u001b[0m       3.000  h77eed37_0           conda-forge       97kB\n",
            "  \u001b[32m+ font-ttf-source-code-pro \u001b[0m       2.038  h77eed37_0           conda-forge      701kB\n",
            "  \u001b[32m+ font-ttf-ubuntu          \u001b[0m        0.83  h77eed37_1           conda-forge        2MB\n",
            "  \u001b[32m+ python-tzdata            \u001b[0m      2024.1  pyhd8ed1ab_0         conda-forge      144kB\n",
            "  \u001b[32m+ pytz                     \u001b[0m      2024.1  pyhd8ed1ab_0         conda-forge      189kB\n",
            "  \u001b[32m+ cycler                   \u001b[0m      0.12.1  pyhd8ed1ab_0         conda-forge       13kB\n",
            "  \u001b[32m+ pyparsing                \u001b[0m       3.1.1  pyhd8ed1ab_0         conda-forge       90kB\n",
            "  \u001b[32m+ munkres                  \u001b[0m       1.1.4  pyh9f0ad1d_0         conda-forge       12kB\n",
            "  \u001b[32m+ six                      \u001b[0m      1.16.0  pyh6c4a22f_0         conda-forge       14kB\n",
            "  \u001b[32m+ typing_extensions        \u001b[0m       4.9.0  pyha770c72_0         conda-forge       36kB\n",
            "  \u001b[32m+ freetype-py              \u001b[0m       2.3.0  pyhd8ed1ab_0         conda-forge       59kB\n",
            "  \u001b[32m+ sympy                    \u001b[0m        1.12  pypyh9d50eac_103     conda-forge        4MB\n",
            "  \u001b[32m+ fonts-conda-forge        \u001b[0m           1  0                    conda-forge        4kB\n",
            "  \u001b[32m+ python-dateutil          \u001b[0m       2.8.2  pyhd8ed1ab_0         conda-forge      246kB\n",
            "  \u001b[32m+ typing-extensions        \u001b[0m       4.9.0  hd8ed1ab_0           conda-forge       10kB\n",
            "  \u001b[32m+ fonts-conda-ecosystem    \u001b[0m           1  0                    conda-forge        4kB\n",
            "  \u001b[32m+ fonttools                \u001b[0m      4.49.0  py310h2372a71_0      conda-forge        2MB\n",
            "  \u001b[32m+ pandas                   \u001b[0m       2.2.1  py310hcc13569_0      conda-forge       13MB\n",
            "  \u001b[32m+ sqlalchemy               \u001b[0m      2.0.27  py310h2372a71_0      conda-forge        3MB\n",
            "  \u001b[32m+ cairo                    \u001b[0m      1.18.0  h3faef2a_0           conda-forge      982kB\n",
            "  \u001b[32m+ matplotlib-base          \u001b[0m       3.8.3  py310h62c0568_0      conda-forge        7MB\n",
            "  \u001b[32m+ pycairo                  \u001b[0m      1.26.0  py310hda9f760_0      conda-forge      117kB\n",
            "  \u001b[32m+ rlpycairo                \u001b[0m       0.2.0  pyhd8ed1ab_0         conda-forge       15kB\n",
            "  \u001b[32m+ reportlab                \u001b[0m       4.1.0  py310h2372a71_0      conda-forge        2MB\n",
            "  \u001b[32m+ rdkit                    \u001b[0m   2023.09.5  py310hb79e901_0      conda-forge       38MB\n",
            "\n",
            "  Upgrade:\n",
            "────────────────────────────────────────────────────────────────────────────────────────\n",
            "\n",
            "  \u001b[31m- ca-certificates          \u001b[0m  2023.11.17  hbcca054_0           conda-forge\u001b[32m     Cached\u001b[0m\n",
            "  \u001b[32m+ ca-certificates          \u001b[0m    2024.2.2  hbcca054_0           conda-forge      155kB\n",
            "  \u001b[31m- openssl                  \u001b[0m       3.2.0  hd590300_1           conda-forge\u001b[32m     Cached\u001b[0m\n",
            "  \u001b[32m+ openssl                  \u001b[0m       3.2.1  hd590300_0           conda-forge        3MB\n",
            "  \u001b[31m- certifi                  \u001b[0m  2023.11.17  pyhd8ed1ab_0         conda-forge\u001b[32m     Cached\u001b[0m\n",
            "  \u001b[32m+ certifi                  \u001b[0m    2024.2.2  pyhd8ed1ab_0         conda-forge      161kB\n",
            "\n",
            "  Summary:\n",
            "\n",
            "  Install: 81 packages\n",
            "  Upgrade: 3 packages\n",
            "\n",
            "  Total download: 153MB\n",
            "\n",
            "────────────────────────────────────────────────────────────────────────────────────────\n",
            "\n",
            "\n",
            "\u001b[?25l\u001b[2K\u001b[0G[+] 0.0s\n",
            "Downloading        0%\n",
            "Extracting         0%\u001b[2K\u001b[1A\u001b[2K\u001b[1A\u001b[2K\u001b[0Gxorg-libice                                         58.5kB @ 621.5kB/s  0.1s\n",
            "[+] 0.1s\n",
            "Downloading  (5)   1%\n",
            "Extracting   (1)  ⣾  \u001b[2K\u001b[1A\u001b[2K\u001b[1A\u001b[2K\u001b[0Gxorg-xextproto                                      30.3kB @ 277.9kB/s  0.1s\n",
            "zlib                                                92.8kB @ 782.5kB/s  0.1s\n",
            "ca-certificates                                    155.4kB @   1.2MB/s  0.1s\n",
            "libwebp-base                                       401.8kB @   2.9MB/s  0.1s\n",
            "libbrotlicommon                                     69.4kB @ 461.4kB/s  0.0s\n",
            "kiwisolver                                          73.1kB @ 476.1kB/s  0.1s\n",
            "pthread-stubs                                        5.6kB @  31.2kB/s  0.0s\n",
            "[+] 0.2s\n",
            "Downloading  (5)   1%\n",
            "Extracting   (7)  ⣾  \u001b[2K\u001b[1A\u001b[2K\u001b[1A\u001b[2K\u001b[0Ggmp                                                563.1kB @   2.8MB/s  0.1s\n",
            "xorg-renderproto                                     9.6kB @  46.9kB/s  0.1s\n",
            "libgfortran-ng                                      23.8kB @ 106.2kB/s  0.0s\n",
            "openssl                                              2.9MB @  11.3MB/s  0.1s\n",
            "gettext                                              4.3MB @  16.8MB/s  0.1s\n",
            "expat                                              136.8kB @ 515.7kB/s  0.0s\n",
            "mpfr                                               641.5kB @   2.3MB/s  0.1s\n",
            "[+] 0.3s\n",
            "Downloading  (5)   7%\n",
            "Extracting  (13)  ⣾  \u001b[2K\u001b[1A\u001b[2K\u001b[1A\u001b[2K\u001b[0Glibglib                                              2.7MB @   8.5MB/s  0.1s\n",
            "xorg-libxext                                        50.1kB @ 137.6kB/s  0.1s\n",
            "liblapack                                           14.6kB @  40.0kB/s  0.1s\n",
            "[+] 0.4s\n",
            "Downloading  (5)  12%\n",
            "Extracting  (15)  ⣾  \u001b[2K\u001b[1A\u001b[2K\u001b[1A\u001b[2K\u001b[0Glibboost-python                                    119.1kB @ 281.7kB/s  0.1s\n",
            "font-ttf-dejavu-sans-mono                          397.4kB @ 937.2kB/s  0.1s\n",
            "certifi                                            160.6kB @ 378.1kB/s  0.1s\n",
            "libopenblas                                          5.6MB @  12.0MB/s  0.2s\n",
            "python-tzdata                                      144.0kB @ 299.3kB/s  0.1s\n",
            "pytz                                               188.5kB @ 386.1kB/s  0.1s\n",
            "[+] 0.5s\n",
            "Downloading  (5)  18%\n",
            "Extracting  (19)  ⣾  \u001b[2K\u001b[1A\u001b[2K\u001b[1A\u001b[2K\u001b[0Gfont-ttf-ubuntu                                      1.6MB @   3.1MB/s  0.1s\n",
            "typing-extensions                                   10.2kB @  18.2kB/s  0.1s\n",
            "fonts-conda-ecosystem                                3.7kB @   6.6kB/s  0.1s\n",
            "[+] 0.6s\n",
            "Downloading  (5)  20%\n",
            "Extracting  (21)  ⣾  \u001b[2K\u001b[1A\u001b[2K\u001b[1A\u001b[2K\u001b[0Gfonttools                                            2.3MB @   3.7MB/s  0.1s\n",
            "libjpeg-turbo                                      618.6kB @ 974.9kB/s  0.1s\n",
            "[+] 0.7s\n",
            "Downloading  (5)  26%\n",
            "Extracting  (23)  ⣾  \u001b[2K\u001b[1A\u001b[2K\u001b[1A\u001b[2K\u001b[0Gxorg-libxau                                         14.5kB @  20.0kB/s  0.1s\n",
            "libgfortran5                                         1.4MB @   1.9MB/s  0.1s\n",
            "[+] 0.8s\n",
            "Downloading  (5)  29%\n",
            "Extracting  (23)  ⣾  \u001b[2K\u001b[1A\u001b[2K\u001b[1A\u001b[2K\u001b[0Glibboost                                             2.6MB @   3.2MB/s  0.2s\n",
            "chardet                                            246.6kB @ 302.9kB/s  0.1s\n",
            "greenlet                                           211.0kB @ 250.2kB/s  0.1s\n",
            "matplotlib-base                                      7.0MB @   8.2MB/s  0.3s\n",
            "[+] 0.9s\n",
            "Downloading  (5)  36%\n",
            "Extracting  (26)  ⣾  \u001b[2K\u001b[1A\u001b[2K\u001b[1A\u001b[2K\u001b[0Glibtiff                                            283.2kB @ 311.1kB/s  0.2s\n",
            "freetype                                           635.0kB @ 696.9kB/s  0.2s\n",
            "lcms2                                              245.2kB @ 257.0kB/s  0.1s\n",
            "xorg-libx11                                        828.7kB @ 860.0kB/s  0.1s\n",
            "[+] 1.0s\n",
            "Downloading  (5)  37%\n",
            "Extracting  (30)  ⣾  \u001b[2K\u001b[1A\u001b[2K\u001b[1A\u001b[2K\u001b[0Ggmpy2                                              220.0kB @ 211.2kB/s  0.1s\n",
            "xorg-libxrender                                     37.8kB @  36.3kB/s  0.1s\n",
            "libcblas                                            14.6kB @  14.0kB/s  0.1s\n",
            "[+] 1.1s\n",
            "Downloading  (5)  40%\n",
            "Extracting  (33)  ⣾  \u001b[2K\u001b[1A\u001b[2K\u001b[1A\u001b[2K\u001b[0Gpyparsing                                           89.5kB @  78.4kB/s  0.1s\n",
            "munkres                                             12.5kB @  10.9kB/s  0.1s\n",
            "six                                                 14.3kB @  12.5kB/s  0.1s\n",
            "[+] 1.2s\n",
            "Downloading  (5)  43%\n",
            "Extracting  (34)  ⣾  \u001b[2K\u001b[1A\u001b[2K\u001b[1A\u001b[2K\u001b[0Gcairo                                              982.4kB @ 803.9kB/s  0.1s\n",
            "pycairo                                            116.9kB @  95.6kB/s  0.1s\n",
            "rlpycairo                                           14.9kB @  12.2kB/s  0.1s\n",
            "numpy                                                7.0MB @   5.6MB/s  0.3s\n",
            "xorg-kbproto                                        27.3kB @  21.6kB/s  0.0s\n",
            "[+] 1.3s\n",
            "Downloading  (5)  51%\n",
            "Extracting  (39)  ⣾  \u001b[2K\u001b[1A\u001b[2K\u001b[1A\u001b[2K\u001b[0Gxorg-xproto                                         74.9kB @  58.0kB/s  0.1s\n",
            "xorg-libxdmcp                                       19.1kB @  14.8kB/s  0.1s\n",
            "libxcb                                             384.2kB @ 294.6kB/s  0.1s\n",
            "libblas                                             14.7kB @  10.9kB/s  0.1s\n",
            "mpmath                                             438.3kB @ 324.1kB/s  0.1s\n",
            "font-ttf-inconsolata                                96.5kB @  71.0kB/s  0.1s\n",
            "font-ttf-source-code-pro                           700.8kB @ 514.2kB/s  0.1s\n",
            "[+] 1.4s\n",
            "Downloading  (5)  53%\n",
            "Extracting  (43)  ⣾  \u001b[2K\u001b[1A\u001b[2K\u001b[1A\u001b[2K\u001b[0Gfonts-conda-forge                                    4.1kB @   2.9kB/s  0.1s\n",
            "python-dateutil                                    246.0kB @ 174.1kB/s  0.1s\n",
            "sqlalchemy                                           2.8MB @   2.0MB/s  0.1s\n",
            "pillow                                              41.2MB @  28.3MB/s  1.2s\n",
            "openjpeg                                           356.7kB @ 242.0kB/s  0.1s\n",
            "brotli-bin                                          19.0kB @  12.9kB/s  0.1s\n",
            "[+] 1.5s\n",
            "Downloading  (5)  64%\n",
            "Extracting  (50)  ⣾  \u001b[2K\u001b[1A\u001b[2K\u001b[1A\u001b[2K\u001b[0Glibbrotlidec                                        32.8kB @  21.7kB/s  0.1s\n",
            "freetype-py                                         58.9kB @  39.0kB/s  0.0s\n",
            "pcre2                                                1.0MB @ 639.7kB/s  0.1s\n",
            "pixman                                             386.8kB @ 242.9kB/s  0.1s\n",
            "[+] 1.6s\n",
            "Downloading  (5)  71%\n",
            "Extracting  (52)  ⣾  \u001b[2K\u001b[1A\u001b[2K\u001b[1A\u001b[2K\u001b[0Greportlab                                            2.4MB @   1.4MB/s  0.2s\n",
            "fontconfig                                         272.0kB @ 166.7kB/s  0.0s\n",
            "pandas                                              13.0MB @   7.9MB/s  0.3s\n",
            "sympy                                                4.3MB @   2.6MB/s  0.2s\n",
            "mpc                                                116.3kB @  70.5kB/s  0.1s\n",
            "[+] 1.7s\n",
            "Downloading  (5)  76%\n",
            "Extracting  (59)  ⣾  \u001b[2K\u001b[1A\u001b[2K\u001b[1A\u001b[2K\u001b[0Glerc                                               281.8kB @ 165.8kB/s  0.1s\n",
            "xorg-libsm                                          27.4kB @  16.1kB/s  0.1s\n",
            "libbrotlienc                                       282.5kB @ 166.1kB/s  0.1s\n",
            "brotli                                              19.4kB @  11.4kB/s  0.1s\n",
            "libdeflate                                          67.1kB @  38.6kB/s  0.0s\n",
            "cycler                                              13.5kB @   7.7kB/s  0.0s\n",
            "typing_extensions                                   36.1kB @  20.7kB/s  0.0s\n",
            "libpng                                             288.2kB @ 162.4kB/s  0.1s\n",
            "unicodedata2                                       374.1kB @ 210.6kB/s  0.0s\n",
            "[+] 1.8s\n",
            "Downloading  (3)  82%\n",
            "Extracting  (67)  ⣾  \u001b[2K\u001b[1A\u001b[2K\u001b[1A\u001b[2K\u001b[0Glibexpat                                            78.0kB @  42.7kB/s  0.1s\n",
            "contourpy                                          238.9kB @ 130.9kB/s  0.1s\n",
            "[+] 1.9s\n",
            "Downloading  (1)  87%\n",
            "Extracting  (68)  ⣾  \u001b[2K\u001b[1A\u001b[2K\u001b[1A\u001b[2K\u001b[0G[+] 2.0s\n",
            "Downloading  (1)  90%\n",
            "Extracting  (67)  ⣾  \u001b[2K\u001b[1A\u001b[2K\u001b[1A\u001b[2K\u001b[0Grdkit                                               37.9MB @  18.2MB/s  0.5s\n",
            "[+] 2.1s\n",
            "Downloading      100%\n",
            "Extracting  (64)  ⣾  \u001b[2K\u001b[1A\u001b[2K\u001b[1A\u001b[2K\u001b[0G[+] 2.2s\n",
            "Downloading      100%\n",
            "Extracting  (63)  ⣾  \u001b[2K\u001b[1A\u001b[2K\u001b[1A\u001b[2K\u001b[0G[+] 2.3s\n",
            "Downloading      100%\n",
            "Extracting  (60)  ⣾  \u001b[2K\u001b[1A\u001b[2K\u001b[1A\u001b[2K\u001b[0G[+] 2.4s\n",
            "Downloading      100%\n",
            "Extracting  (58)  ⣾  \u001b[2K\u001b[1A\u001b[2K\u001b[1A\u001b[2K\u001b[0G[+] 2.5s\n",
            "Downloading      100%\n",
            "Extracting  (57)  ⣾  \u001b[2K\u001b[1A\u001b[2K\u001b[1A\u001b[2K\u001b[0G[+] 2.6s\n",
            "Downloading      100%\n",
            "Extracting  (57)  ⣾  \u001b[2K\u001b[1A\u001b[2K\u001b[1A\u001b[2K\u001b[0G[+] 2.7s\n",
            "Downloading      100%\n",
            "Extracting  (56)  ⣾  \u001b[2K\u001b[1A\u001b[2K\u001b[1A\u001b[2K\u001b[0G[+] 2.8s\n",
            "Downloading      100%\n",
            "Extracting  (56)  ⣾  \u001b[2K\u001b[1A\u001b[2K\u001b[1A\u001b[2K\u001b[0G[+] 2.9s\n",
            "Downloading      100%\n",
            "Extracting  (55)  ⣾  \u001b[2K\u001b[1A\u001b[2K\u001b[1A\u001b[2K\u001b[0G[+] 3.0s\n",
            "Downloading      100%\n",
            "Extracting  (55)  ⣾  \u001b[2K\u001b[1A\u001b[2K\u001b[1A\u001b[2K\u001b[0G[+] 3.1s\n",
            "Downloading      100%\n",
            "Extracting  (55)  ⣾  \u001b[2K\u001b[1A\u001b[2K\u001b[1A\u001b[2K\u001b[0G[+] 3.2s\n",
            "Downloading      100%\n",
            "Extracting  (55)  ⣾  \u001b[2K\u001b[1A\u001b[2K\u001b[1A\u001b[2K\u001b[0G[+] 3.3s\n",
            "Downloading      100%\n",
            "Extracting  (55)  ⣾  \u001b[2K\u001b[1A\u001b[2K\u001b[1A\u001b[2K\u001b[0G[+] 3.4s\n",
            "Downloading      100%\n",
            "Extracting  (55)  ⣾  \u001b[2K\u001b[1A\u001b[2K\u001b[1A\u001b[2K\u001b[0G[+] 3.5s\n",
            "Downloading      100%\n",
            "Extracting  (55)  ⣾  \u001b[2K\u001b[1A\u001b[2K\u001b[1A\u001b[2K\u001b[0G[+] 3.6s\n",
            "Downloading      100%\n",
            "Extracting  (55)  ⣾  \u001b[2K\u001b[1A\u001b[2K\u001b[1A\u001b[2K\u001b[0G[+] 3.7s\n",
            "Downloading      100%\n",
            "Extracting  (55)  ⣾  \u001b[2K\u001b[1A\u001b[2K\u001b[1A\u001b[2K\u001b[0G[+] 3.8s\n",
            "Downloading      100%\n",
            "Extracting  (55)  ⣾  \u001b[2K\u001b[1A\u001b[2K\u001b[1A\u001b[2K\u001b[0G[+] 3.9s\n",
            "Downloading      100%\n",
            "Extracting  (54)  ⣾  \u001b[2K\u001b[1A\u001b[2K\u001b[1A\u001b[2K\u001b[0G[+] 4.0s\n",
            "Downloading      100%\n",
            "Extracting  (52)  ⣾  \u001b[2K\u001b[1A\u001b[2K\u001b[1A\u001b[2K\u001b[0G[+] 4.1s\n",
            "Downloading      100%\n",
            "Extracting  (52)  ⣾  \u001b[2K\u001b[1A\u001b[2K\u001b[1A\u001b[2K\u001b[0G[+] 4.2s\n",
            "Downloading      100%\n",
            "Extracting  (51)  ⣾  \u001b[2K\u001b[1A\u001b[2K\u001b[1A\u001b[2K\u001b[0G[+] 4.3s\n",
            "Downloading      100%\n",
            "Extracting  (51)  ⣾  \u001b[2K\u001b[1A\u001b[2K\u001b[1A\u001b[2K\u001b[0G[+] 4.4s\n",
            "Downloading      100%\n",
            "Extracting  (50)  ⣾  \u001b[2K\u001b[1A\u001b[2K\u001b[1A\u001b[2K\u001b[0G[+] 4.5s\n",
            "Downloading      100%\n",
            "Extracting  (49)  ⣾  \u001b[2K\u001b[1A\u001b[2K\u001b[1A\u001b[2K\u001b[0G[+] 4.6s\n",
            "Downloading      100%\n",
            "Extracting  (49)  ⣾  \u001b[2K\u001b[1A\u001b[2K\u001b[1A\u001b[2K\u001b[0G[+] 4.7s\n",
            "Downloading      100%\n",
            "Extracting  (49)  ⣾  \u001b[2K\u001b[1A\u001b[2K\u001b[1A\u001b[2K\u001b[0G[+] 4.8s\n",
            "Downloading      100%\n",
            "Extracting  (49)  ⣾  \u001b[2K\u001b[1A\u001b[2K\u001b[1A\u001b[2K\u001b[0G[+] 4.9s\n",
            "Downloading      100%\n",
            "Extracting  (48)  ⣾  \u001b[2K\u001b[1A\u001b[2K\u001b[1A\u001b[2K\u001b[0G[+] 5.0s\n",
            "Downloading      100%\n",
            "Extracting  (48)  ⣾  \u001b[2K\u001b[1A\u001b[2K\u001b[1A\u001b[2K\u001b[0G[+] 5.1s\n",
            "Downloading      100%\n",
            "Extracting  (47)  ⣾  \u001b[2K\u001b[1A\u001b[2K\u001b[1A\u001b[2K\u001b[0G[+] 5.2s\n",
            "Downloading      100%\n",
            "Extracting  (45)  ⣾  \u001b[2K\u001b[1A\u001b[2K\u001b[1A\u001b[2K\u001b[0G[+] 5.3s\n",
            "Downloading      100%\n",
            "Extracting  (44)  ⣾  \u001b[2K\u001b[1A\u001b[2K\u001b[1A\u001b[2K\u001b[0G[+] 5.4s\n",
            "Downloading      100%\n",
            "Extracting  (43)  ⣾  \u001b[2K\u001b[1A\u001b[2K\u001b[1A\u001b[2K\u001b[0G[+] 5.5s\n",
            "Downloading      100%\n",
            "Extracting  (42)  ⣾  \u001b[2K\u001b[1A\u001b[2K\u001b[1A\u001b[2K\u001b[0G[+] 5.6s\n",
            "Downloading      100%\n",
            "Extracting  (41)  ⣾  \u001b[2K\u001b[1A\u001b[2K\u001b[1A\u001b[2K\u001b[0G[+] 5.7s\n",
            "Downloading      100%\n",
            "Extracting  (40)  ⣾  \u001b[2K\u001b[1A\u001b[2K\u001b[1A\u001b[2K\u001b[0G[+] 5.8s\n",
            "Downloading      100%\n",
            "Extracting  (38)  ⣾  \u001b[2K\u001b[1A\u001b[2K\u001b[1A\u001b[2K\u001b[0G[+] 5.9s\n",
            "Downloading      100%\n",
            "Extracting  (37)  ⣾  \u001b[2K\u001b[1A\u001b[2K\u001b[1A\u001b[2K\u001b[0G[+] 6.0s\n",
            "Downloading      100%\n",
            "Extracting  (37)  ⣾  \u001b[2K\u001b[1A\u001b[2K\u001b[1A\u001b[2K\u001b[0G[+] 6.1s\n",
            "Downloading      100%\n",
            "Extracting  (37)  ⣾  \u001b[2K\u001b[1A\u001b[2K\u001b[1A\u001b[2K\u001b[0G[+] 6.2s\n",
            "Downloading      100%\n",
            "Extracting  (37)  ⣾  \u001b[2K\u001b[1A\u001b[2K\u001b[1A\u001b[2K\u001b[0G[+] 6.3s\n",
            "Downloading      100%\n",
            "Extracting  (37)  ⣾  \u001b[2K\u001b[1A\u001b[2K\u001b[1A\u001b[2K\u001b[0G[+] 6.4s\n",
            "Downloading      100%\n",
            "Extracting  (37)  ⣾  \u001b[2K\u001b[1A\u001b[2K\u001b[1A\u001b[2K\u001b[0G[+] 6.5s\n",
            "Downloading      100%\n",
            "Extracting  (36)  ⣾  \u001b[2K\u001b[1A\u001b[2K\u001b[1A\u001b[2K\u001b[0G[+] 6.6s\n",
            "Downloading      100%\n",
            "Extracting  (34)  ⣾  \u001b[2K\u001b[1A\u001b[2K\u001b[1A\u001b[2K\u001b[0G[+] 6.7s\n",
            "Downloading      100%\n",
            "Extracting  (33)  ⣾  \u001b[2K\u001b[1A\u001b[2K\u001b[1A\u001b[2K\u001b[0G[+] 6.8s\n",
            "Downloading      100%\n",
            "Extracting  (31)  ⣾  \u001b[2K\u001b[1A\u001b[2K\u001b[1A\u001b[2K\u001b[0G[+] 6.9s\n",
            "Downloading      100%\n",
            "Extracting  (31)  ⣾  \u001b[2K\u001b[1A\u001b[2K\u001b[1A\u001b[2K\u001b[0G[+] 7.0s\n",
            "Downloading      100%\n",
            "Extracting  (29)  ⣾  \u001b[2K\u001b[1A\u001b[2K\u001b[1A\u001b[2K\u001b[0G[+] 7.1s\n",
            "Downloading      100%\n",
            "Extracting  (29)  ⣾  \u001b[2K\u001b[1A\u001b[2K\u001b[1A\u001b[2K\u001b[0G[+] 7.2s\n",
            "Downloading      100%\n",
            "Extracting  (27)  ⣾  \u001b[2K\u001b[1A\u001b[2K\u001b[1A\u001b[2K\u001b[0G[+] 7.3s\n",
            "Downloading      100%\n",
            "Extracting  (24)  ⣾  \u001b[2K\u001b[1A\u001b[2K\u001b[1A\u001b[2K\u001b[0G[+] 7.4s\n",
            "Downloading      100%\n",
            "Extracting  (23)  ⣾  \u001b[2K\u001b[1A\u001b[2K\u001b[1A\u001b[2K\u001b[0G[+] 7.5s\n",
            "Downloading      100%\n",
            "Extracting  (23)  ⣾  \u001b[2K\u001b[1A\u001b[2K\u001b[1A\u001b[2K\u001b[0G[+] 7.6s\n",
            "Downloading      100%\n",
            "Extracting  (23)  ⣾  \u001b[2K\u001b[1A\u001b[2K\u001b[1A\u001b[2K\u001b[0G[+] 7.7s\n",
            "Downloading      100%\n",
            "Extracting  (23)  ⣾  \u001b[2K\u001b[1A\u001b[2K\u001b[1A\u001b[2K\u001b[0G[+] 7.8s\n",
            "Downloading      100%\n",
            "Extracting  (22)  ⣾  \u001b[2K\u001b[1A\u001b[2K\u001b[1A\u001b[2K\u001b[0G[+] 7.9s\n",
            "Downloading      100%\n",
            "Extracting  (19)  ⣾  \u001b[2K\u001b[1A\u001b[2K\u001b[1A\u001b[2K\u001b[0G[+] 8.0s\n",
            "Downloading      100%\n",
            "Extracting  (18)  ⣾  \u001b[2K\u001b[1A\u001b[2K\u001b[1A\u001b[2K\u001b[0G[+] 8.1s\n",
            "Downloading      100%\n",
            "Extracting  (17)  ⣾  \u001b[2K\u001b[1A\u001b[2K\u001b[1A\u001b[2K\u001b[0G[+] 8.2s\n",
            "Downloading      100%\n",
            "Extracting  (14)  ⣾  \u001b[2K\u001b[1A\u001b[2K\u001b[1A\u001b[2K\u001b[0G[+] 8.3s\n",
            "Downloading      100%\n",
            "Extracting  (12)  ⣾  \u001b[2K\u001b[1A\u001b[2K\u001b[1A\u001b[2K\u001b[0G[+] 8.4s\n",
            "Downloading      100%\n",
            "Extracting  (12)  ⣾  \u001b[2K\u001b[1A\u001b[2K\u001b[1A\u001b[2K\u001b[0G[+] 8.5s\n",
            "Downloading      100%\n",
            "Extracting  (12)  ⣾  \u001b[2K\u001b[1A\u001b[2K\u001b[1A\u001b[2K\u001b[0G[+] 8.6s\n",
            "Downloading      100%\n",
            "Extracting  (11)  ⣾  \u001b[2K\u001b[1A\u001b[2K\u001b[1A\u001b[2K\u001b[0G[+] 8.7s\n",
            "Downloading      100%\n",
            "Extracting   (7)  ⣾  \u001b[2K\u001b[1A\u001b[2K\u001b[1A\u001b[2K\u001b[0G[+] 8.8s\n",
            "Downloading      100%\n",
            "Extracting   (4)  ⣾  \u001b[2K\u001b[1A\u001b[2K\u001b[1A\u001b[2K\u001b[0G[+] 8.9s\n",
            "Downloading      100%\n",
            "Extracting   (1)  ⣾  \u001b[2K\u001b[1A\u001b[2K\u001b[1A\u001b[2K\u001b[0G\u001b[?25h\n",
            "Downloading and Extracting Packages:\n",
            "\n",
            "Preparing transaction: - \b\b\\ \b\b| \b\b/ \b\b- \b\b\\ \b\b| \b\b/ \b\bdone\n",
            "Verifying transaction: \\ \b\b| \b\b/ \b\b- \b\b\\ \b\b| \b\b/ \b\b- \b\b\\ \b\b| \b\b/ \b\b- \b\b\\ \b\b| \b\b/ \b\b- \b\b\\ \b\b| \b\b/ \b\b- \b\b\\ \b\b| \b\b/ \b\b- \b\b\\ \b\b| \b\b/ \b\b- \b\b\\ \b\b| \b\b/ \b\b- \b\b\\ \b\b| \b\b/ \b\b- \b\b\\ \b\b| \b\b/ \b\b- \b\bdone\n",
            "Executing transaction: | \b\b/ \b\b- \b\b\\ \b\b| \b\b/ \b\b- \b\b\\ \b\b| \b\b/ \b\b- \b\b\\ \b\b| \b\b/ \b\b- \b\b\\ \b\b| \b\b/ \b\b- \b\b\\ \b\b| \b\b/ \b\b- \b\b\\ \b\b| \b\b/ \b\b- \b\b\\ \b\b| \b\b/ \b\b- \b\b\\ \b\b| \b\b/ \b\b- \b\b\\ \b\b| \b\b/ \b\b- \b\b\\ \b\b| \b\b/ \b\b- \b\b\\ \b\b| \b\b/ \b\b- \b\b\\ \b\b| \b\b/ \b\b- \b\b\\ \b\b| \b\b/ \b\b- \b\b\\ \b\b| \b\b/ \b\b- \b\b\\ \b\b| \b\b/ \b\b- \b\b\\ \b\b| \b\b/ \b\b- \b\b\\ \b\b| \b\b/ \b\b- \b\b\\ \b\b| \b\b/ \b\b- \b\b\\ \b\b| \b\b/ \b\b- \b\b\\ \b\b| \b\b/ \b\b- \b\b\\ \b\b| \b\b/ \b\b- \b\b\\ \b\b| \b\b/ \b\b- \b\b\\ \b\b| \b\b/ \b\b- \b\bdone\n"
          ]
        }
      ]
    },
    {
      "cell_type": "code",
      "source": [
        "#@title Import packages\n",
        "from rdkit import Chem\n",
        "from rdkit.Chem import AllChem\n",
        "from rdkit.Chem import Draw\n",
        "from rdkit.Chem.Draw import rdMolDraw2D\n",
        "from rdkit.Chem.Draw import IPythonConsole\n",
        "IPythonConsole.molSize = 300,300\n",
        "from IPython.display import SVG\n",
        "from dimorphite_dl import DimorphiteDL\n",
        "\n",
        "from openff.toolkit import Molecule, Topology, ForceField\n",
        "\n",
        "from IPython.display import HTML, display\n",
        "\n",
        "def set_css():\n",
        "  display(HTML('''\n",
        "  <style>\n",
        "    pre {\n",
        "        white-space: pre-wrap;\n",
        "    }\n",
        "  </style>\n",
        "  '''))\n",
        "  get_ipython().events.register('pre_run_cell', set_css)"
      ],
      "metadata": {
        "id": "9F1Rak-meOlC",
        "cellView": "form"
      },
      "execution_count": 30,
      "outputs": []
    },
    {
      "cell_type": "code",
      "source": [
        "#@title Input molecule\n",
        "#@markdown Please provide molecule SMILES. We will generate its protonation\n",
        "#@markdown states.\n",
        "# As a two state example we will use SM-26 from SAMP7 challenge\n",
        "# (https://github.com/samplchallenges/SAMPL7/tree/master/physical_property)\n",
        "# SMILES: O=S(CCC1=CC=CC=C1)(NC(C)=O)=O\n",
        "# pKa = 4.91\n",
        "# (https://github.com/samplchallenges/SAMPL7/blob/master/physical_property/experimental_data/Experimental_Properties_of_SAMPL7_Compounds.pdf)\n",
        "smiles = \"O=S(CCC1=CC=CC=C1)(NC(C)=O)=O\" #@param {type: \"string\"}\n",
        "dimorphite_dl = DimorphiteDL(\n",
        "    min_ph=1,\n",
        "    max_ph=13,\n",
        "    max_variants=256,\n",
        "    label_states=False,\n",
        "    pka_precision=0.1\n",
        ")\n",
        "mols = [Chem.MolFromSmiles(mol) for mol in dimorphite_dl.protonate(smiles)]\n",
        "mols = sorted(mols, key = lambda x: Chem.GetFormalCharge(x), reverse=True)\n",
        "# Now mols[0] is the highest protonation state\n",
        "for i, m in enumerate(mols):\n",
        "    print(f\"This is Molecule {i}\")\n",
        "    d2d = rdMolDraw2D.MolDraw2DSVG(250, 200)\n",
        "    d2d.DrawMolecule(m)\n",
        "    d2d.FinishDrawing()\n",
        "    display(SVG(d2d.GetDrawingText()))"
      ],
      "metadata": {
        "colab": {
          "base_uri": "https://localhost:8080/",
          "height": 464
        },
        "id": "HxjpTW0CkrDS",
        "outputId": "4c21029a-382e-41fa-a8e3-00e254b89ed5",
        "cellView": "form"
      },
      "execution_count": 11,
      "outputs": [
        {
          "output_type": "stream",
          "name": "stdout",
          "text": [
            "This is Molecule 0\n"
          ]
        },
        {
          "output_type": "display_data",
          "data": {
            "text/plain": [
              "<IPython.core.display.SVG object>"
            ],
            "image/svg+xml": "<svg xmlns=\"http://www.w3.org/2000/svg\" xmlns:rdkit=\"http://www.rdkit.org/xml\" xmlns:xlink=\"http://www.w3.org/1999/xlink\" version=\"1.1\" baseProfile=\"full\" xml:space=\"preserve\" width=\"250px\" height=\"200px\" viewBox=\"0 0 250 200\">\n<!-- END OF HEADER -->\n<rect style=\"opacity:1.0;fill:#FFFFFF;stroke:none\" width=\"250.0\" height=\"200.0\" x=\"0.0\" y=\"0.0\"> </rect>\n<path class=\"bond-0 atom-0 atom-1\" d=\"M 12.5,119.3 L 44.6,117.7\" style=\"fill:none;fill-rule:evenodd;stroke:#000000;stroke-width:2.0px;stroke-linecap:butt;stroke-linejoin:miter;stroke-opacity:1\"/>\n<path class=\"bond-1 atom-1 atom-2\" d=\"M 41.9,117.8 L 49.2,129.1\" style=\"fill:none;fill-rule:evenodd;stroke:#000000;stroke-width:2.0px;stroke-linecap:butt;stroke-linejoin:miter;stroke-opacity:1\"/>\n<path class=\"bond-1 atom-1 atom-2\" d=\"M 49.2,129.1 L 56.5,140.3\" style=\"fill:none;fill-rule:evenodd;stroke:#FF0000;stroke-width:2.0px;stroke-linecap:butt;stroke-linejoin:miter;stroke-opacity:1\"/>\n<path class=\"bond-1 atom-1 atom-2\" d=\"M 45.9,115.2 L 53.2,126.4\" style=\"fill:none;fill-rule:evenodd;stroke:#000000;stroke-width:2.0px;stroke-linecap:butt;stroke-linejoin:miter;stroke-opacity:1\"/>\n<path class=\"bond-1 atom-1 atom-2\" d=\"M 53.2,126.4 L 60.5,137.7\" style=\"fill:none;fill-rule:evenodd;stroke:#FF0000;stroke-width:2.0px;stroke-linecap:butt;stroke-linejoin:miter;stroke-opacity:1\"/>\n<path class=\"bond-2 atom-1 atom-3\" d=\"M 44.6,117.7 L 50.5,106.1\" style=\"fill:none;fill-rule:evenodd;stroke:#000000;stroke-width:2.0px;stroke-linecap:butt;stroke-linejoin:miter;stroke-opacity:1\"/>\n<path class=\"bond-2 atom-1 atom-3\" d=\"M 50.5,106.1 L 56.4,94.6\" style=\"fill:none;fill-rule:evenodd;stroke:#0000FF;stroke-width:2.0px;stroke-linecap:butt;stroke-linejoin:miter;stroke-opacity:1\"/>\n<path class=\"bond-3 atom-3 atom-4\" d=\"M 63.8,88.8 L 75.6,88.2\" style=\"fill:none;fill-rule:evenodd;stroke:#0000FF;stroke-width:2.0px;stroke-linecap:butt;stroke-linejoin:miter;stroke-opacity:1\"/>\n<path class=\"bond-3 atom-3 atom-4\" d=\"M 75.6,88.2 L 87.4,87.5\" style=\"fill:none;fill-rule:evenodd;stroke:#CCCC00;stroke-width:2.0px;stroke-linecap:butt;stroke-linejoin:miter;stroke-opacity:1\"/>\n<path class=\"bond-4 atom-4 atom-5\" d=\"M 93.5,81.6 L 93.0,71.2\" style=\"fill:none;fill-rule:evenodd;stroke:#CCCC00;stroke-width:2.0px;stroke-linecap:butt;stroke-linejoin:miter;stroke-opacity:1\"/>\n<path class=\"bond-4 atom-4 atom-5\" d=\"M 93.0,71.2 L 92.5,60.9\" style=\"fill:none;fill-rule:evenodd;stroke:#FF0000;stroke-width:2.0px;stroke-linecap:butt;stroke-linejoin:miter;stroke-opacity:1\"/>\n<path class=\"bond-4 atom-4 atom-5\" d=\"M 88.7,81.8 L 88.2,71.5\" style=\"fill:none;fill-rule:evenodd;stroke:#CCCC00;stroke-width:2.0px;stroke-linecap:butt;stroke-linejoin:miter;stroke-opacity:1\"/>\n<path class=\"bond-4 atom-4 atom-5\" d=\"M 88.2,71.5 L 87.6,61.1\" style=\"fill:none;fill-rule:evenodd;stroke:#FF0000;stroke-width:2.0px;stroke-linecap:butt;stroke-linejoin:miter;stroke-opacity:1\"/>\n<path class=\"bond-5 atom-4 atom-6\" d=\"M 89.3,93.3 L 89.8,103.6\" style=\"fill:none;fill-rule:evenodd;stroke:#CCCC00;stroke-width:2.0px;stroke-linecap:butt;stroke-linejoin:miter;stroke-opacity:1\"/>\n<path class=\"bond-5 atom-4 atom-6\" d=\"M 89.8,103.6 L 90.4,113.9\" style=\"fill:none;fill-rule:evenodd;stroke:#FF0000;stroke-width:2.0px;stroke-linecap:butt;stroke-linejoin:miter;stroke-opacity:1\"/>\n<path class=\"bond-5 atom-4 atom-6\" d=\"M 94.1,93.1 L 94.7,103.4\" style=\"fill:none;fill-rule:evenodd;stroke:#CCCC00;stroke-width:2.0px;stroke-linecap:butt;stroke-linejoin:miter;stroke-opacity:1\"/>\n<path class=\"bond-5 atom-4 atom-6\" d=\"M 94.7,103.4 L 95.2,113.7\" style=\"fill:none;fill-rule:evenodd;stroke:#FF0000;stroke-width:2.0px;stroke-linecap:butt;stroke-linejoin:miter;stroke-opacity:1\"/>\n<path class=\"bond-6 atom-4 atom-7\" d=\"M 95.4,87.1 L 109.5,86.4\" style=\"fill:none;fill-rule:evenodd;stroke:#CCCC00;stroke-width:2.0px;stroke-linecap:butt;stroke-linejoin:miter;stroke-opacity:1\"/>\n<path class=\"bond-6 atom-4 atom-7\" d=\"M 109.5,86.4 L 123.6,85.7\" style=\"fill:none;fill-rule:evenodd;stroke:#000000;stroke-width:2.0px;stroke-linecap:butt;stroke-linejoin:miter;stroke-opacity:1\"/>\n<path class=\"bond-7 atom-7 atom-8\" d=\"M 123.6,85.7 L 141.1,112.7\" style=\"fill:none;fill-rule:evenodd;stroke:#000000;stroke-width:2.0px;stroke-linecap:butt;stroke-linejoin:miter;stroke-opacity:1\"/>\n<path class=\"bond-8 atom-8 atom-9\" d=\"M 141.1,112.7 L 173.2,111.0\" style=\"fill:none;fill-rule:evenodd;stroke:#000000;stroke-width:2.0px;stroke-linecap:butt;stroke-linejoin:miter;stroke-opacity:1\"/>\n<path class=\"bond-9 atom-9 atom-10\" d=\"M 173.2,111.0 L 187.8,82.3\" style=\"fill:none;fill-rule:evenodd;stroke:#000000;stroke-width:2.0px;stroke-linecap:butt;stroke-linejoin:miter;stroke-opacity:1\"/>\n<path class=\"bond-9 atom-9 atom-10\" d=\"M 178.8,110.7 L 190.9,87.0\" style=\"fill:none;fill-rule:evenodd;stroke:#000000;stroke-width:2.0px;stroke-linecap:butt;stroke-linejoin:miter;stroke-opacity:1\"/>\n<path class=\"bond-10 atom-10 atom-11\" d=\"M 187.8,82.3 L 220.0,80.7\" style=\"fill:none;fill-rule:evenodd;stroke:#000000;stroke-width:2.0px;stroke-linecap:butt;stroke-linejoin:miter;stroke-opacity:1\"/>\n<path class=\"bond-11 atom-11 atom-12\" d=\"M 220.0,80.7 L 237.5,107.7\" style=\"fill:none;fill-rule:evenodd;stroke:#000000;stroke-width:2.0px;stroke-linecap:butt;stroke-linejoin:miter;stroke-opacity:1\"/>\n<path class=\"bond-11 atom-11 atom-12\" d=\"M 217.5,85.6 L 231.9,108.0\" style=\"fill:none;fill-rule:evenodd;stroke:#000000;stroke-width:2.0px;stroke-linecap:butt;stroke-linejoin:miter;stroke-opacity:1\"/>\n<path class=\"bond-12 atom-12 atom-13\" d=\"M 237.5,107.7 L 222.9,136.3\" style=\"fill:none;fill-rule:evenodd;stroke:#000000;stroke-width:2.0px;stroke-linecap:butt;stroke-linejoin:miter;stroke-opacity:1\"/>\n<path class=\"bond-13 atom-13 atom-14\" d=\"M 222.9,136.3 L 190.7,138.0\" style=\"fill:none;fill-rule:evenodd;stroke:#000000;stroke-width:2.0px;stroke-linecap:butt;stroke-linejoin:miter;stroke-opacity:1\"/>\n<path class=\"bond-13 atom-13 atom-14\" d=\"M 219.8,131.7 L 193.3,133.0\" style=\"fill:none;fill-rule:evenodd;stroke:#000000;stroke-width:2.0px;stroke-linecap:butt;stroke-linejoin:miter;stroke-opacity:1\"/>\n<path class=\"bond-14 atom-14 atom-9\" d=\"M 190.7,138.0 L 173.2,111.0\" style=\"fill:none;fill-rule:evenodd;stroke:#000000;stroke-width:2.0px;stroke-linecap:butt;stroke-linejoin:miter;stroke-opacity:1\"/>\n<path d=\"M 43.0,117.7 L 44.6,117.7 L 44.9,117.1\" style=\"fill:none;stroke:#000000;stroke-width:2.0px;stroke-linecap:butt;stroke-linejoin:miter;stroke-opacity:1;\"/>\n<path d=\"M 122.9,85.7 L 123.6,85.7 L 124.4,87.0\" style=\"fill:none;stroke:#000000;stroke-width:2.0px;stroke-linecap:butt;stroke-linejoin:miter;stroke-opacity:1;\"/>\n<path d=\"M 140.2,111.3 L 141.1,112.7 L 142.7,112.6\" style=\"fill:none;stroke:#000000;stroke-width:2.0px;stroke-linecap:butt;stroke-linejoin:miter;stroke-opacity:1;\"/>\n<path d=\"M 187.1,83.8 L 187.8,82.3 L 189.5,82.3\" style=\"fill:none;stroke:#000000;stroke-width:2.0px;stroke-linecap:butt;stroke-linejoin:miter;stroke-opacity:1;\"/>\n<path d=\"M 218.4,80.8 L 220.0,80.7 L 220.9,82.0\" style=\"fill:none;stroke:#000000;stroke-width:2.0px;stroke-linecap:butt;stroke-linejoin:miter;stroke-opacity:1;\"/>\n<path d=\"M 236.6,106.3 L 237.5,107.7 L 236.8,109.1\" style=\"fill:none;stroke:#000000;stroke-width:2.0px;stroke-linecap:butt;stroke-linejoin:miter;stroke-opacity:1;\"/>\n<path d=\"M 223.6,134.9 L 222.9,136.3 L 221.3,136.4\" style=\"fill:none;stroke:#000000;stroke-width:2.0px;stroke-linecap:butt;stroke-linejoin:miter;stroke-opacity:1;\"/>\n<path d=\"M 192.3,137.9 L 190.7,138.0 L 189.9,136.7\" style=\"fill:none;stroke:#000000;stroke-width:2.0px;stroke-linecap:butt;stroke-linejoin:miter;stroke-opacity:1;\"/>\n<path class=\"atom-2\" d=\"M 58.0 144.7 Q 58.0 142.5, 59.1 141.3 Q 60.1 140.1, 62.2 140.1 Q 64.2 140.1, 65.3 141.3 Q 66.3 142.5, 66.3 144.7 Q 66.3 146.9, 65.2 148.2 Q 64.2 149.4, 62.2 149.4 Q 60.1 149.4, 59.1 148.2 Q 58.0 146.9, 58.0 144.7 M 62.2 148.4 Q 63.5 148.4, 64.3 147.5 Q 65.1 146.5, 65.1 144.7 Q 65.1 142.9, 64.3 142.0 Q 63.5 141.1, 62.2 141.1 Q 60.8 141.1, 60.0 142.0 Q 59.3 142.9, 59.3 144.7 Q 59.3 146.5, 60.0 147.5 Q 60.8 148.4, 62.2 148.4 \" fill=\"#FF0000\"/>\n<path class=\"atom-3\" d=\"M 46.9 84.4 L 48.1 84.4 L 48.1 88.3 L 52.8 88.3 L 52.8 84.4 L 54.0 84.4 L 54.0 93.6 L 52.8 93.6 L 52.8 89.3 L 48.1 89.3 L 48.1 93.6 L 46.9 93.6 L 46.9 84.4 \" fill=\"#0000FF\"/>\n<path class=\"atom-3\" d=\"M 57.3 84.4 L 60.2 89.3 Q 60.5 89.7, 61.0 90.6 Q 61.5 91.5, 61.5 91.5 L 61.5 84.4 L 62.7 84.4 L 62.7 93.6 L 61.5 93.6 L 58.3 88.3 Q 57.9 87.7, 57.5 86.9 Q 57.1 86.2, 57.0 86.0 L 57.0 93.6 L 55.8 93.6 L 55.8 84.4 L 57.3 84.4 \" fill=\"#0000FF\"/>\n<path class=\"atom-4\" d=\"M 88.8 90.5 Q 88.9 90.5, 89.4 90.7 Q 89.8 90.9, 90.3 91.0 Q 90.7 91.1, 91.2 91.1 Q 92.1 91.1, 92.6 90.7 Q 93.1 90.2, 93.1 89.5 Q 93.1 89.0, 92.8 88.7 Q 92.6 88.4, 92.2 88.2 Q 91.8 88.1, 91.1 87.9 Q 90.3 87.6, 89.8 87.4 Q 89.4 87.2, 89.0 86.7 Q 88.7 86.2, 88.7 85.3 Q 88.7 84.2, 89.5 83.5 Q 90.2 82.8, 91.8 82.8 Q 92.8 82.8, 94.0 83.3 L 93.7 84.3 Q 92.7 83.8, 91.8 83.8 Q 90.9 83.8, 90.4 84.2 Q 90.0 84.6, 90.0 85.2 Q 90.0 85.7, 90.2 86.0 Q 90.5 86.3, 90.8 86.4 Q 91.2 86.6, 91.8 86.8 Q 92.7 87.1, 93.1 87.3 Q 93.6 87.6, 94.0 88.1 Q 94.3 88.6, 94.3 89.5 Q 94.3 90.8, 93.5 91.5 Q 92.7 92.1, 91.2 92.1 Q 90.4 92.1, 89.8 91.9 Q 89.2 91.8, 88.5 91.5 L 88.8 90.5 \" fill=\"#CCCC00\"/>\n<path class=\"atom-5\" d=\"M 85.6 55.2 Q 85.6 53.0, 86.6 51.8 Q 87.7 50.6, 89.8 50.6 Q 91.8 50.6, 92.9 51.8 Q 93.9 53.0, 93.9 55.2 Q 93.9 57.4, 92.8 58.7 Q 91.7 59.9, 89.8 59.9 Q 87.7 59.9, 86.6 58.7 Q 85.6 57.4, 85.6 55.2 M 89.8 58.9 Q 91.1 58.9, 91.9 58.0 Q 92.6 57.0, 92.6 55.2 Q 92.6 53.4, 91.9 52.5 Q 91.1 51.6, 89.8 51.6 Q 88.4 51.6, 87.6 52.5 Q 86.9 53.4, 86.9 55.2 Q 86.9 57.1, 87.6 58.0 Q 88.4 58.9, 89.8 58.9 \" fill=\"#FF0000\"/>\n<path class=\"atom-6\" d=\"M 88.9 119.5 Q 88.9 117.3, 90.0 116.1 Q 91.1 114.9, 93.1 114.9 Q 95.1 114.9, 96.2 116.1 Q 97.3 117.3, 97.3 119.5 Q 97.3 121.7, 96.2 123.0 Q 95.1 124.2, 93.1 124.2 Q 91.1 124.2, 90.0 123.0 Q 88.9 121.7, 88.9 119.5 M 93.1 123.2 Q 94.5 123.2, 95.2 122.3 Q 96.0 121.3, 96.0 119.5 Q 96.0 117.7, 95.2 116.8 Q 94.5 115.9, 93.1 115.9 Q 91.7 115.9, 90.9 116.8 Q 90.2 117.7, 90.2 119.5 Q 90.2 121.3, 90.9 122.3 Q 91.7 123.2, 93.1 123.2 \" fill=\"#FF0000\"/>\n</svg>"
          },
          "metadata": {}
        },
        {
          "output_type": "stream",
          "name": "stdout",
          "text": [
            "This is Molecule 1\n"
          ]
        },
        {
          "output_type": "display_data",
          "data": {
            "text/plain": [
              "<IPython.core.display.SVG object>"
            ],
            "image/svg+xml": "<svg xmlns=\"http://www.w3.org/2000/svg\" xmlns:rdkit=\"http://www.rdkit.org/xml\" xmlns:xlink=\"http://www.w3.org/1999/xlink\" version=\"1.1\" baseProfile=\"full\" xml:space=\"preserve\" width=\"250px\" height=\"200px\" viewBox=\"0 0 250 200\">\n<!-- END OF HEADER -->\n<rect style=\"opacity:1.0;fill:#FFFFFF;stroke:none\" width=\"250.0\" height=\"200.0\" x=\"0.0\" y=\"0.0\"> </rect>\n<path class=\"bond-0 atom-0 atom-1\" d=\"M 12.5,119.3 L 44.6,117.7\" style=\"fill:none;fill-rule:evenodd;stroke:#000000;stroke-width:2.0px;stroke-linecap:butt;stroke-linejoin:miter;stroke-opacity:1\"/>\n<path class=\"bond-1 atom-1 atom-2\" d=\"M 41.9,117.8 L 49.2,129.1\" style=\"fill:none;fill-rule:evenodd;stroke:#000000;stroke-width:2.0px;stroke-linecap:butt;stroke-linejoin:miter;stroke-opacity:1\"/>\n<path class=\"bond-1 atom-1 atom-2\" d=\"M 49.2,129.1 L 56.5,140.3\" style=\"fill:none;fill-rule:evenodd;stroke:#FF0000;stroke-width:2.0px;stroke-linecap:butt;stroke-linejoin:miter;stroke-opacity:1\"/>\n<path class=\"bond-1 atom-1 atom-2\" d=\"M 45.9,115.2 L 53.2,126.4\" style=\"fill:none;fill-rule:evenodd;stroke:#000000;stroke-width:2.0px;stroke-linecap:butt;stroke-linejoin:miter;stroke-opacity:1\"/>\n<path class=\"bond-1 atom-1 atom-2\" d=\"M 53.2,126.4 L 60.5,137.7\" style=\"fill:none;fill-rule:evenodd;stroke:#FF0000;stroke-width:2.0px;stroke-linecap:butt;stroke-linejoin:miter;stroke-opacity:1\"/>\n<path class=\"bond-2 atom-1 atom-3\" d=\"M 44.6,117.7 L 50.5,106.1\" style=\"fill:none;fill-rule:evenodd;stroke:#000000;stroke-width:2.0px;stroke-linecap:butt;stroke-linejoin:miter;stroke-opacity:1\"/>\n<path class=\"bond-2 atom-1 atom-3\" d=\"M 50.5,106.1 L 56.4,94.6\" style=\"fill:none;fill-rule:evenodd;stroke:#0000FF;stroke-width:2.0px;stroke-linecap:butt;stroke-linejoin:miter;stroke-opacity:1\"/>\n<path class=\"bond-3 atom-3 atom-4\" d=\"M 63.8,88.8 L 75.6,88.2\" style=\"fill:none;fill-rule:evenodd;stroke:#0000FF;stroke-width:2.0px;stroke-linecap:butt;stroke-linejoin:miter;stroke-opacity:1\"/>\n<path class=\"bond-3 atom-3 atom-4\" d=\"M 75.6,88.2 L 87.4,87.5\" style=\"fill:none;fill-rule:evenodd;stroke:#CCCC00;stroke-width:2.0px;stroke-linecap:butt;stroke-linejoin:miter;stroke-opacity:1\"/>\n<path class=\"bond-4 atom-4 atom-5\" d=\"M 93.5,81.6 L 93.0,71.2\" style=\"fill:none;fill-rule:evenodd;stroke:#CCCC00;stroke-width:2.0px;stroke-linecap:butt;stroke-linejoin:miter;stroke-opacity:1\"/>\n<path class=\"bond-4 atom-4 atom-5\" d=\"M 93.0,71.2 L 92.5,60.9\" style=\"fill:none;fill-rule:evenodd;stroke:#FF0000;stroke-width:2.0px;stroke-linecap:butt;stroke-linejoin:miter;stroke-opacity:1\"/>\n<path class=\"bond-4 atom-4 atom-5\" d=\"M 88.7,81.8 L 88.2,71.5\" style=\"fill:none;fill-rule:evenodd;stroke:#CCCC00;stroke-width:2.0px;stroke-linecap:butt;stroke-linejoin:miter;stroke-opacity:1\"/>\n<path class=\"bond-4 atom-4 atom-5\" d=\"M 88.2,71.5 L 87.6,61.1\" style=\"fill:none;fill-rule:evenodd;stroke:#FF0000;stroke-width:2.0px;stroke-linecap:butt;stroke-linejoin:miter;stroke-opacity:1\"/>\n<path class=\"bond-5 atom-4 atom-6\" d=\"M 89.3,93.3 L 89.8,103.6\" style=\"fill:none;fill-rule:evenodd;stroke:#CCCC00;stroke-width:2.0px;stroke-linecap:butt;stroke-linejoin:miter;stroke-opacity:1\"/>\n<path class=\"bond-5 atom-4 atom-6\" d=\"M 89.8,103.6 L 90.4,113.9\" style=\"fill:none;fill-rule:evenodd;stroke:#FF0000;stroke-width:2.0px;stroke-linecap:butt;stroke-linejoin:miter;stroke-opacity:1\"/>\n<path class=\"bond-5 atom-4 atom-6\" d=\"M 94.1,93.1 L 94.7,103.4\" style=\"fill:none;fill-rule:evenodd;stroke:#CCCC00;stroke-width:2.0px;stroke-linecap:butt;stroke-linejoin:miter;stroke-opacity:1\"/>\n<path class=\"bond-5 atom-4 atom-6\" d=\"M 94.7,103.4 L 95.2,113.7\" style=\"fill:none;fill-rule:evenodd;stroke:#FF0000;stroke-width:2.0px;stroke-linecap:butt;stroke-linejoin:miter;stroke-opacity:1\"/>\n<path class=\"bond-6 atom-4 atom-7\" d=\"M 95.4,87.1 L 109.5,86.4\" style=\"fill:none;fill-rule:evenodd;stroke:#CCCC00;stroke-width:2.0px;stroke-linecap:butt;stroke-linejoin:miter;stroke-opacity:1\"/>\n<path class=\"bond-6 atom-4 atom-7\" d=\"M 109.5,86.4 L 123.6,85.7\" style=\"fill:none;fill-rule:evenodd;stroke:#000000;stroke-width:2.0px;stroke-linecap:butt;stroke-linejoin:miter;stroke-opacity:1\"/>\n<path class=\"bond-7 atom-7 atom-8\" d=\"M 123.6,85.7 L 141.1,112.7\" style=\"fill:none;fill-rule:evenodd;stroke:#000000;stroke-width:2.0px;stroke-linecap:butt;stroke-linejoin:miter;stroke-opacity:1\"/>\n<path class=\"bond-8 atom-8 atom-9\" d=\"M 141.1,112.7 L 173.2,111.0\" style=\"fill:none;fill-rule:evenodd;stroke:#000000;stroke-width:2.0px;stroke-linecap:butt;stroke-linejoin:miter;stroke-opacity:1\"/>\n<path class=\"bond-9 atom-9 atom-10\" d=\"M 173.2,111.0 L 187.8,82.3\" style=\"fill:none;fill-rule:evenodd;stroke:#000000;stroke-width:2.0px;stroke-linecap:butt;stroke-linejoin:miter;stroke-opacity:1\"/>\n<path class=\"bond-9 atom-9 atom-10\" d=\"M 178.8,110.7 L 190.9,87.0\" style=\"fill:none;fill-rule:evenodd;stroke:#000000;stroke-width:2.0px;stroke-linecap:butt;stroke-linejoin:miter;stroke-opacity:1\"/>\n<path class=\"bond-10 atom-10 atom-11\" d=\"M 187.8,82.3 L 220.0,80.7\" style=\"fill:none;fill-rule:evenodd;stroke:#000000;stroke-width:2.0px;stroke-linecap:butt;stroke-linejoin:miter;stroke-opacity:1\"/>\n<path class=\"bond-11 atom-11 atom-12\" d=\"M 220.0,80.7 L 237.5,107.7\" style=\"fill:none;fill-rule:evenodd;stroke:#000000;stroke-width:2.0px;stroke-linecap:butt;stroke-linejoin:miter;stroke-opacity:1\"/>\n<path class=\"bond-11 atom-11 atom-12\" d=\"M 217.5,85.6 L 231.9,108.0\" style=\"fill:none;fill-rule:evenodd;stroke:#000000;stroke-width:2.0px;stroke-linecap:butt;stroke-linejoin:miter;stroke-opacity:1\"/>\n<path class=\"bond-12 atom-12 atom-13\" d=\"M 237.5,107.7 L 222.9,136.3\" style=\"fill:none;fill-rule:evenodd;stroke:#000000;stroke-width:2.0px;stroke-linecap:butt;stroke-linejoin:miter;stroke-opacity:1\"/>\n<path class=\"bond-13 atom-13 atom-14\" d=\"M 222.9,136.3 L 190.7,138.0\" style=\"fill:none;fill-rule:evenodd;stroke:#000000;stroke-width:2.0px;stroke-linecap:butt;stroke-linejoin:miter;stroke-opacity:1\"/>\n<path class=\"bond-13 atom-13 atom-14\" d=\"M 219.8,131.7 L 193.3,133.0\" style=\"fill:none;fill-rule:evenodd;stroke:#000000;stroke-width:2.0px;stroke-linecap:butt;stroke-linejoin:miter;stroke-opacity:1\"/>\n<path class=\"bond-14 atom-14 atom-9\" d=\"M 190.7,138.0 L 173.2,111.0\" style=\"fill:none;fill-rule:evenodd;stroke:#000000;stroke-width:2.0px;stroke-linecap:butt;stroke-linejoin:miter;stroke-opacity:1\"/>\n<path d=\"M 43.0,117.7 L 44.6,117.7 L 44.9,117.1\" style=\"fill:none;stroke:#000000;stroke-width:2.0px;stroke-linecap:butt;stroke-linejoin:miter;stroke-opacity:1;\"/>\n<path d=\"M 122.9,85.7 L 123.6,85.7 L 124.4,87.0\" style=\"fill:none;stroke:#000000;stroke-width:2.0px;stroke-linecap:butt;stroke-linejoin:miter;stroke-opacity:1;\"/>\n<path d=\"M 140.2,111.3 L 141.1,112.7 L 142.7,112.6\" style=\"fill:none;stroke:#000000;stroke-width:2.0px;stroke-linecap:butt;stroke-linejoin:miter;stroke-opacity:1;\"/>\n<path d=\"M 187.1,83.8 L 187.8,82.3 L 189.5,82.3\" style=\"fill:none;stroke:#000000;stroke-width:2.0px;stroke-linecap:butt;stroke-linejoin:miter;stroke-opacity:1;\"/>\n<path d=\"M 218.4,80.8 L 220.0,80.7 L 220.9,82.0\" style=\"fill:none;stroke:#000000;stroke-width:2.0px;stroke-linecap:butt;stroke-linejoin:miter;stroke-opacity:1;\"/>\n<path d=\"M 236.6,106.3 L 237.5,107.7 L 236.8,109.1\" style=\"fill:none;stroke:#000000;stroke-width:2.0px;stroke-linecap:butt;stroke-linejoin:miter;stroke-opacity:1;\"/>\n<path d=\"M 223.6,134.9 L 222.9,136.3 L 221.3,136.4\" style=\"fill:none;stroke:#000000;stroke-width:2.0px;stroke-linecap:butt;stroke-linejoin:miter;stroke-opacity:1;\"/>\n<path d=\"M 192.3,137.9 L 190.7,138.0 L 189.9,136.7\" style=\"fill:none;stroke:#000000;stroke-width:2.0px;stroke-linecap:butt;stroke-linejoin:miter;stroke-opacity:1;\"/>\n<path class=\"atom-2\" d=\"M 58.0 144.7 Q 58.0 142.5, 59.1 141.3 Q 60.1 140.1, 62.2 140.1 Q 64.2 140.1, 65.3 141.3 Q 66.3 142.5, 66.3 144.7 Q 66.3 146.9, 65.2 148.2 Q 64.2 149.4, 62.2 149.4 Q 60.1 149.4, 59.1 148.2 Q 58.0 146.9, 58.0 144.7 M 62.2 148.4 Q 63.5 148.4, 64.3 147.5 Q 65.1 146.5, 65.1 144.7 Q 65.1 142.9, 64.3 142.0 Q 63.5 141.1, 62.2 141.1 Q 60.8 141.1, 60.0 142.0 Q 59.3 142.9, 59.3 144.7 Q 59.3 146.5, 60.0 147.5 Q 60.8 148.4, 62.2 148.4 \" fill=\"#FF0000\"/>\n<path class=\"atom-3\" d=\"M 57.3 84.4 L 60.2 89.3 Q 60.5 89.7, 61.0 90.6 Q 61.5 91.5, 61.5 91.5 L 61.5 84.4 L 62.7 84.4 L 62.7 93.6 L 61.5 93.6 L 58.3 88.3 Q 57.9 87.7, 57.5 86.9 Q 57.1 86.2, 57.0 86.0 L 57.0 93.6 L 55.8 93.6 L 55.8 84.4 L 57.3 84.4 \" fill=\"#0000FF\"/>\n<path class=\"atom-3\" d=\"M 64.4 85.9 L 67.5 85.9 L 67.5 86.6 L 64.4 86.6 L 64.4 85.9 \" fill=\"#0000FF\"/>\n<path class=\"atom-4\" d=\"M 88.8 90.5 Q 88.9 90.5, 89.4 90.7 Q 89.8 90.9, 90.3 91.0 Q 90.7 91.1, 91.2 91.1 Q 92.1 91.1, 92.6 90.7 Q 93.1 90.2, 93.1 89.5 Q 93.1 89.0, 92.8 88.7 Q 92.6 88.4, 92.2 88.2 Q 91.8 88.1, 91.1 87.9 Q 90.3 87.6, 89.8 87.4 Q 89.4 87.2, 89.0 86.7 Q 88.7 86.2, 88.7 85.3 Q 88.7 84.2, 89.5 83.5 Q 90.2 82.8, 91.8 82.8 Q 92.8 82.8, 94.0 83.3 L 93.7 84.3 Q 92.7 83.8, 91.8 83.8 Q 90.9 83.8, 90.4 84.2 Q 90.0 84.6, 90.0 85.2 Q 90.0 85.7, 90.2 86.0 Q 90.5 86.3, 90.8 86.4 Q 91.2 86.6, 91.8 86.8 Q 92.7 87.1, 93.1 87.3 Q 93.6 87.6, 94.0 88.1 Q 94.3 88.6, 94.3 89.5 Q 94.3 90.8, 93.5 91.5 Q 92.7 92.1, 91.2 92.1 Q 90.4 92.1, 89.8 91.9 Q 89.2 91.8, 88.5 91.5 L 88.8 90.5 \" fill=\"#CCCC00\"/>\n<path class=\"atom-5\" d=\"M 85.6 55.2 Q 85.6 53.0, 86.6 51.8 Q 87.7 50.6, 89.8 50.6 Q 91.8 50.6, 92.9 51.8 Q 93.9 53.0, 93.9 55.2 Q 93.9 57.4, 92.8 58.7 Q 91.7 59.9, 89.8 59.9 Q 87.7 59.9, 86.6 58.7 Q 85.6 57.4, 85.6 55.2 M 89.8 58.9 Q 91.1 58.9, 91.9 58.0 Q 92.6 57.0, 92.6 55.2 Q 92.6 53.4, 91.9 52.5 Q 91.1 51.6, 89.8 51.6 Q 88.4 51.6, 87.6 52.5 Q 86.9 53.4, 86.9 55.2 Q 86.9 57.1, 87.6 58.0 Q 88.4 58.9, 89.8 58.9 \" fill=\"#FF0000\"/>\n<path class=\"atom-6\" d=\"M 88.9 119.5 Q 88.9 117.3, 90.0 116.1 Q 91.1 114.9, 93.1 114.9 Q 95.1 114.9, 96.2 116.1 Q 97.3 117.3, 97.3 119.5 Q 97.3 121.7, 96.2 123.0 Q 95.1 124.2, 93.1 124.2 Q 91.1 124.2, 90.0 123.0 Q 88.9 121.7, 88.9 119.5 M 93.1 123.2 Q 94.5 123.2, 95.2 122.3 Q 96.0 121.3, 96.0 119.5 Q 96.0 117.7, 95.2 116.8 Q 94.5 115.9, 93.1 115.9 Q 91.7 115.9, 90.9 116.8 Q 90.2 117.7, 90.2 119.5 Q 90.2 121.3, 90.9 122.3 Q 91.7 123.2, 93.1 123.2 \" fill=\"#FF0000\"/>\n</svg>"
          },
          "metadata": {}
        }
      ]
    },
    {
      "cell_type": "code",
      "source": [
        "#@title Select molecules\n",
        "#@markdown Which molecule states do you want to use?\n",
        "#@markdown The molecule ids are shown in the previous cell.\n",
        "mol1 = True #@param {type:\"boolean\"}\n",
        "mol2 = True #@param {type:\"boolean\"}\n",
        "mol3 = False #@param {type:\"boolean\"}\n",
        "mol4 = False #@param {type:\"boolean\"}\n",
        "mol5 = False #@param {type:\"boolean\"}\n",
        "mol6 = False #@param {type:\"boolean\"}\n",
        "mol7 = False #@param {type:\"boolean\"}\n",
        "mol8 = False #@param {type:\"boolean\"}\n",
        "mol9 = False #@param {type:\"boolean\"}\n",
        "mol10 = False #@param {type:\"boolean\"}\n",
        "\n",
        "mols_to_use = [\n",
        "    mol1, mol2, mol3, mol4, mol5, mol6, mol7, mol8, mol9, mol10,\n",
        "][:len(mols)]\n",
        "\n",
        "mols = [mols[i] for i in range(len(mols)) if mols_to_use[i]]"
      ],
      "metadata": {
        "cellView": "form",
        "id": "6cC1ul8MS8ZO"
      },
      "execution_count": 31,
      "outputs": []
    },
    {
      "cell_type": "code",
      "source": [
        "#@title Selected molecules\n",
        "#@markdown The foloweing molecules will be used in the furhter analysis.\n",
        "for i, m in enumerate(mols):\n",
        "    print(f\"This is Molecule {i}\")\n",
        "    d2d = rdMolDraw2D.MolDraw2DSVG(250, 200)\n",
        "    d2d.DrawMolecule(m)\n",
        "    d2d.FinishDrawing()\n",
        "    display(SVG(d2d.GetDrawingText()))"
      ],
      "metadata": {
        "colab": {
          "base_uri": "https://localhost:8080/",
          "height": 464
        },
        "cellView": "form",
        "id": "VfSF4T0PV3XY",
        "outputId": "0c88d64b-3300-43dc-cdf1-2d6d39684df5"
      },
      "execution_count": 32,
      "outputs": [
        {
          "output_type": "stream",
          "name": "stdout",
          "text": [
            "This is Molecule 0\n"
          ]
        },
        {
          "output_type": "display_data",
          "data": {
            "text/plain": [
              "<IPython.core.display.SVG object>"
            ],
            "image/svg+xml": "<svg xmlns=\"http://www.w3.org/2000/svg\" xmlns:rdkit=\"http://www.rdkit.org/xml\" xmlns:xlink=\"http://www.w3.org/1999/xlink\" version=\"1.1\" baseProfile=\"full\" xml:space=\"preserve\" width=\"250px\" height=\"200px\" viewBox=\"0 0 250 200\">\n<!-- END OF HEADER -->\n<rect style=\"opacity:1.0;fill:#FFFFFF;stroke:none\" width=\"250.0\" height=\"200.0\" x=\"0.0\" y=\"0.0\"> </rect>\n<path class=\"bond-0 atom-0 atom-1\" d=\"M 12.5,119.3 L 44.6,117.7\" style=\"fill:none;fill-rule:evenodd;stroke:#000000;stroke-width:2.0px;stroke-linecap:butt;stroke-linejoin:miter;stroke-opacity:1\"/>\n<path class=\"bond-1 atom-1 atom-2\" d=\"M 41.9,117.8 L 49.2,129.1\" style=\"fill:none;fill-rule:evenodd;stroke:#000000;stroke-width:2.0px;stroke-linecap:butt;stroke-linejoin:miter;stroke-opacity:1\"/>\n<path class=\"bond-1 atom-1 atom-2\" d=\"M 49.2,129.1 L 56.5,140.3\" style=\"fill:none;fill-rule:evenodd;stroke:#FF0000;stroke-width:2.0px;stroke-linecap:butt;stroke-linejoin:miter;stroke-opacity:1\"/>\n<path class=\"bond-1 atom-1 atom-2\" d=\"M 45.9,115.2 L 53.2,126.4\" style=\"fill:none;fill-rule:evenodd;stroke:#000000;stroke-width:2.0px;stroke-linecap:butt;stroke-linejoin:miter;stroke-opacity:1\"/>\n<path class=\"bond-1 atom-1 atom-2\" d=\"M 53.2,126.4 L 60.5,137.7\" style=\"fill:none;fill-rule:evenodd;stroke:#FF0000;stroke-width:2.0px;stroke-linecap:butt;stroke-linejoin:miter;stroke-opacity:1\"/>\n<path class=\"bond-2 atom-1 atom-3\" d=\"M 44.6,117.7 L 50.5,106.1\" style=\"fill:none;fill-rule:evenodd;stroke:#000000;stroke-width:2.0px;stroke-linecap:butt;stroke-linejoin:miter;stroke-opacity:1\"/>\n<path class=\"bond-2 atom-1 atom-3\" d=\"M 50.5,106.1 L 56.4,94.6\" style=\"fill:none;fill-rule:evenodd;stroke:#0000FF;stroke-width:2.0px;stroke-linecap:butt;stroke-linejoin:miter;stroke-opacity:1\"/>\n<path class=\"bond-3 atom-3 atom-4\" d=\"M 63.8,88.8 L 75.6,88.2\" style=\"fill:none;fill-rule:evenodd;stroke:#0000FF;stroke-width:2.0px;stroke-linecap:butt;stroke-linejoin:miter;stroke-opacity:1\"/>\n<path class=\"bond-3 atom-3 atom-4\" d=\"M 75.6,88.2 L 87.4,87.5\" style=\"fill:none;fill-rule:evenodd;stroke:#CCCC00;stroke-width:2.0px;stroke-linecap:butt;stroke-linejoin:miter;stroke-opacity:1\"/>\n<path class=\"bond-4 atom-4 atom-5\" d=\"M 93.5,81.6 L 93.0,71.2\" style=\"fill:none;fill-rule:evenodd;stroke:#CCCC00;stroke-width:2.0px;stroke-linecap:butt;stroke-linejoin:miter;stroke-opacity:1\"/>\n<path class=\"bond-4 atom-4 atom-5\" d=\"M 93.0,71.2 L 92.5,60.9\" style=\"fill:none;fill-rule:evenodd;stroke:#FF0000;stroke-width:2.0px;stroke-linecap:butt;stroke-linejoin:miter;stroke-opacity:1\"/>\n<path class=\"bond-4 atom-4 atom-5\" d=\"M 88.7,81.8 L 88.2,71.5\" style=\"fill:none;fill-rule:evenodd;stroke:#CCCC00;stroke-width:2.0px;stroke-linecap:butt;stroke-linejoin:miter;stroke-opacity:1\"/>\n<path class=\"bond-4 atom-4 atom-5\" d=\"M 88.2,71.5 L 87.6,61.1\" style=\"fill:none;fill-rule:evenodd;stroke:#FF0000;stroke-width:2.0px;stroke-linecap:butt;stroke-linejoin:miter;stroke-opacity:1\"/>\n<path class=\"bond-5 atom-4 atom-6\" d=\"M 89.3,93.3 L 89.8,103.6\" style=\"fill:none;fill-rule:evenodd;stroke:#CCCC00;stroke-width:2.0px;stroke-linecap:butt;stroke-linejoin:miter;stroke-opacity:1\"/>\n<path class=\"bond-5 atom-4 atom-6\" d=\"M 89.8,103.6 L 90.4,113.9\" style=\"fill:none;fill-rule:evenodd;stroke:#FF0000;stroke-width:2.0px;stroke-linecap:butt;stroke-linejoin:miter;stroke-opacity:1\"/>\n<path class=\"bond-5 atom-4 atom-6\" d=\"M 94.1,93.1 L 94.7,103.4\" style=\"fill:none;fill-rule:evenodd;stroke:#CCCC00;stroke-width:2.0px;stroke-linecap:butt;stroke-linejoin:miter;stroke-opacity:1\"/>\n<path class=\"bond-5 atom-4 atom-6\" d=\"M 94.7,103.4 L 95.2,113.7\" style=\"fill:none;fill-rule:evenodd;stroke:#FF0000;stroke-width:2.0px;stroke-linecap:butt;stroke-linejoin:miter;stroke-opacity:1\"/>\n<path class=\"bond-6 atom-4 atom-7\" d=\"M 95.4,87.1 L 109.5,86.4\" style=\"fill:none;fill-rule:evenodd;stroke:#CCCC00;stroke-width:2.0px;stroke-linecap:butt;stroke-linejoin:miter;stroke-opacity:1\"/>\n<path class=\"bond-6 atom-4 atom-7\" d=\"M 109.5,86.4 L 123.6,85.7\" style=\"fill:none;fill-rule:evenodd;stroke:#000000;stroke-width:2.0px;stroke-linecap:butt;stroke-linejoin:miter;stroke-opacity:1\"/>\n<path class=\"bond-7 atom-7 atom-8\" d=\"M 123.6,85.7 L 141.1,112.7\" style=\"fill:none;fill-rule:evenodd;stroke:#000000;stroke-width:2.0px;stroke-linecap:butt;stroke-linejoin:miter;stroke-opacity:1\"/>\n<path class=\"bond-8 atom-8 atom-9\" d=\"M 141.1,112.7 L 173.2,111.0\" style=\"fill:none;fill-rule:evenodd;stroke:#000000;stroke-width:2.0px;stroke-linecap:butt;stroke-linejoin:miter;stroke-opacity:1\"/>\n<path class=\"bond-9 atom-9 atom-10\" d=\"M 173.2,111.0 L 187.8,82.3\" style=\"fill:none;fill-rule:evenodd;stroke:#000000;stroke-width:2.0px;stroke-linecap:butt;stroke-linejoin:miter;stroke-opacity:1\"/>\n<path class=\"bond-9 atom-9 atom-10\" d=\"M 178.8,110.7 L 190.9,87.0\" style=\"fill:none;fill-rule:evenodd;stroke:#000000;stroke-width:2.0px;stroke-linecap:butt;stroke-linejoin:miter;stroke-opacity:1\"/>\n<path class=\"bond-10 atom-10 atom-11\" d=\"M 187.8,82.3 L 220.0,80.7\" style=\"fill:none;fill-rule:evenodd;stroke:#000000;stroke-width:2.0px;stroke-linecap:butt;stroke-linejoin:miter;stroke-opacity:1\"/>\n<path class=\"bond-11 atom-11 atom-12\" d=\"M 220.0,80.7 L 237.5,107.7\" style=\"fill:none;fill-rule:evenodd;stroke:#000000;stroke-width:2.0px;stroke-linecap:butt;stroke-linejoin:miter;stroke-opacity:1\"/>\n<path class=\"bond-11 atom-11 atom-12\" d=\"M 217.5,85.6 L 231.9,108.0\" style=\"fill:none;fill-rule:evenodd;stroke:#000000;stroke-width:2.0px;stroke-linecap:butt;stroke-linejoin:miter;stroke-opacity:1\"/>\n<path class=\"bond-12 atom-12 atom-13\" d=\"M 237.5,107.7 L 222.9,136.3\" style=\"fill:none;fill-rule:evenodd;stroke:#000000;stroke-width:2.0px;stroke-linecap:butt;stroke-linejoin:miter;stroke-opacity:1\"/>\n<path class=\"bond-13 atom-13 atom-14\" d=\"M 222.9,136.3 L 190.7,138.0\" style=\"fill:none;fill-rule:evenodd;stroke:#000000;stroke-width:2.0px;stroke-linecap:butt;stroke-linejoin:miter;stroke-opacity:1\"/>\n<path class=\"bond-13 atom-13 atom-14\" d=\"M 219.8,131.7 L 193.3,133.0\" style=\"fill:none;fill-rule:evenodd;stroke:#000000;stroke-width:2.0px;stroke-linecap:butt;stroke-linejoin:miter;stroke-opacity:1\"/>\n<path class=\"bond-14 atom-14 atom-9\" d=\"M 190.7,138.0 L 173.2,111.0\" style=\"fill:none;fill-rule:evenodd;stroke:#000000;stroke-width:2.0px;stroke-linecap:butt;stroke-linejoin:miter;stroke-opacity:1\"/>\n<path d=\"M 43.0,117.7 L 44.6,117.7 L 44.9,117.1\" style=\"fill:none;stroke:#000000;stroke-width:2.0px;stroke-linecap:butt;stroke-linejoin:miter;stroke-opacity:1;\"/>\n<path d=\"M 122.9,85.7 L 123.6,85.7 L 124.4,87.0\" style=\"fill:none;stroke:#000000;stroke-width:2.0px;stroke-linecap:butt;stroke-linejoin:miter;stroke-opacity:1;\"/>\n<path d=\"M 140.2,111.3 L 141.1,112.7 L 142.7,112.6\" style=\"fill:none;stroke:#000000;stroke-width:2.0px;stroke-linecap:butt;stroke-linejoin:miter;stroke-opacity:1;\"/>\n<path d=\"M 187.1,83.8 L 187.8,82.3 L 189.5,82.3\" style=\"fill:none;stroke:#000000;stroke-width:2.0px;stroke-linecap:butt;stroke-linejoin:miter;stroke-opacity:1;\"/>\n<path d=\"M 218.4,80.8 L 220.0,80.7 L 220.9,82.0\" style=\"fill:none;stroke:#000000;stroke-width:2.0px;stroke-linecap:butt;stroke-linejoin:miter;stroke-opacity:1;\"/>\n<path d=\"M 236.6,106.3 L 237.5,107.7 L 236.8,109.1\" style=\"fill:none;stroke:#000000;stroke-width:2.0px;stroke-linecap:butt;stroke-linejoin:miter;stroke-opacity:1;\"/>\n<path d=\"M 223.6,134.9 L 222.9,136.3 L 221.3,136.4\" style=\"fill:none;stroke:#000000;stroke-width:2.0px;stroke-linecap:butt;stroke-linejoin:miter;stroke-opacity:1;\"/>\n<path d=\"M 192.3,137.9 L 190.7,138.0 L 189.9,136.7\" style=\"fill:none;stroke:#000000;stroke-width:2.0px;stroke-linecap:butt;stroke-linejoin:miter;stroke-opacity:1;\"/>\n<path class=\"atom-2\" d=\"M 58.0 144.7 Q 58.0 142.5, 59.1 141.3 Q 60.1 140.1, 62.2 140.1 Q 64.2 140.1, 65.3 141.3 Q 66.3 142.5, 66.3 144.7 Q 66.3 146.9, 65.2 148.2 Q 64.2 149.4, 62.2 149.4 Q 60.1 149.4, 59.1 148.2 Q 58.0 146.9, 58.0 144.7 M 62.2 148.4 Q 63.5 148.4, 64.3 147.5 Q 65.1 146.5, 65.1 144.7 Q 65.1 142.9, 64.3 142.0 Q 63.5 141.1, 62.2 141.1 Q 60.8 141.1, 60.0 142.0 Q 59.3 142.9, 59.3 144.7 Q 59.3 146.5, 60.0 147.5 Q 60.8 148.4, 62.2 148.4 \" fill=\"#FF0000\"/>\n<path class=\"atom-3\" d=\"M 46.9 84.4 L 48.1 84.4 L 48.1 88.3 L 52.8 88.3 L 52.8 84.4 L 54.0 84.4 L 54.0 93.6 L 52.8 93.6 L 52.8 89.3 L 48.1 89.3 L 48.1 93.6 L 46.9 93.6 L 46.9 84.4 \" fill=\"#0000FF\"/>\n<path class=\"atom-3\" d=\"M 57.3 84.4 L 60.2 89.3 Q 60.5 89.7, 61.0 90.6 Q 61.5 91.5, 61.5 91.5 L 61.5 84.4 L 62.7 84.4 L 62.7 93.6 L 61.5 93.6 L 58.3 88.3 Q 57.9 87.7, 57.5 86.9 Q 57.1 86.2, 57.0 86.0 L 57.0 93.6 L 55.8 93.6 L 55.8 84.4 L 57.3 84.4 \" fill=\"#0000FF\"/>\n<path class=\"atom-4\" d=\"M 88.8 90.5 Q 88.9 90.5, 89.4 90.7 Q 89.8 90.9, 90.3 91.0 Q 90.7 91.1, 91.2 91.1 Q 92.1 91.1, 92.6 90.7 Q 93.1 90.2, 93.1 89.5 Q 93.1 89.0, 92.8 88.7 Q 92.6 88.4, 92.2 88.2 Q 91.8 88.1, 91.1 87.9 Q 90.3 87.6, 89.8 87.4 Q 89.4 87.2, 89.0 86.7 Q 88.7 86.2, 88.7 85.3 Q 88.7 84.2, 89.5 83.5 Q 90.2 82.8, 91.8 82.8 Q 92.8 82.8, 94.0 83.3 L 93.7 84.3 Q 92.7 83.8, 91.8 83.8 Q 90.9 83.8, 90.4 84.2 Q 90.0 84.6, 90.0 85.2 Q 90.0 85.7, 90.2 86.0 Q 90.5 86.3, 90.8 86.4 Q 91.2 86.6, 91.8 86.8 Q 92.7 87.1, 93.1 87.3 Q 93.6 87.6, 94.0 88.1 Q 94.3 88.6, 94.3 89.5 Q 94.3 90.8, 93.5 91.5 Q 92.7 92.1, 91.2 92.1 Q 90.4 92.1, 89.8 91.9 Q 89.2 91.8, 88.5 91.5 L 88.8 90.5 \" fill=\"#CCCC00\"/>\n<path class=\"atom-5\" d=\"M 85.6 55.2 Q 85.6 53.0, 86.6 51.8 Q 87.7 50.6, 89.8 50.6 Q 91.8 50.6, 92.9 51.8 Q 93.9 53.0, 93.9 55.2 Q 93.9 57.4, 92.8 58.7 Q 91.7 59.9, 89.8 59.9 Q 87.7 59.9, 86.6 58.7 Q 85.6 57.4, 85.6 55.2 M 89.8 58.9 Q 91.1 58.9, 91.9 58.0 Q 92.6 57.0, 92.6 55.2 Q 92.6 53.4, 91.9 52.5 Q 91.1 51.6, 89.8 51.6 Q 88.4 51.6, 87.6 52.5 Q 86.9 53.4, 86.9 55.2 Q 86.9 57.1, 87.6 58.0 Q 88.4 58.9, 89.8 58.9 \" fill=\"#FF0000\"/>\n<path class=\"atom-6\" d=\"M 88.9 119.5 Q 88.9 117.3, 90.0 116.1 Q 91.1 114.9, 93.1 114.9 Q 95.1 114.9, 96.2 116.1 Q 97.3 117.3, 97.3 119.5 Q 97.3 121.7, 96.2 123.0 Q 95.1 124.2, 93.1 124.2 Q 91.1 124.2, 90.0 123.0 Q 88.9 121.7, 88.9 119.5 M 93.1 123.2 Q 94.5 123.2, 95.2 122.3 Q 96.0 121.3, 96.0 119.5 Q 96.0 117.7, 95.2 116.8 Q 94.5 115.9, 93.1 115.9 Q 91.7 115.9, 90.9 116.8 Q 90.2 117.7, 90.2 119.5 Q 90.2 121.3, 90.9 122.3 Q 91.7 123.2, 93.1 123.2 \" fill=\"#FF0000\"/>\n</svg>"
          },
          "metadata": {}
        },
        {
          "output_type": "stream",
          "name": "stdout",
          "text": [
            "This is Molecule 1\n"
          ]
        },
        {
          "output_type": "display_data",
          "data": {
            "text/plain": [
              "<IPython.core.display.SVG object>"
            ],
            "image/svg+xml": "<svg xmlns=\"http://www.w3.org/2000/svg\" xmlns:rdkit=\"http://www.rdkit.org/xml\" xmlns:xlink=\"http://www.w3.org/1999/xlink\" version=\"1.1\" baseProfile=\"full\" xml:space=\"preserve\" width=\"250px\" height=\"200px\" viewBox=\"0 0 250 200\">\n<!-- END OF HEADER -->\n<rect style=\"opacity:1.0;fill:#FFFFFF;stroke:none\" width=\"250.0\" height=\"200.0\" x=\"0.0\" y=\"0.0\"> </rect>\n<path class=\"bond-0 atom-0 atom-1\" d=\"M 12.5,119.3 L 44.6,117.7\" style=\"fill:none;fill-rule:evenodd;stroke:#000000;stroke-width:2.0px;stroke-linecap:butt;stroke-linejoin:miter;stroke-opacity:1\"/>\n<path class=\"bond-1 atom-1 atom-2\" d=\"M 41.9,117.8 L 49.2,129.1\" style=\"fill:none;fill-rule:evenodd;stroke:#000000;stroke-width:2.0px;stroke-linecap:butt;stroke-linejoin:miter;stroke-opacity:1\"/>\n<path class=\"bond-1 atom-1 atom-2\" d=\"M 49.2,129.1 L 56.5,140.3\" style=\"fill:none;fill-rule:evenodd;stroke:#FF0000;stroke-width:2.0px;stroke-linecap:butt;stroke-linejoin:miter;stroke-opacity:1\"/>\n<path class=\"bond-1 atom-1 atom-2\" d=\"M 45.9,115.2 L 53.2,126.4\" style=\"fill:none;fill-rule:evenodd;stroke:#000000;stroke-width:2.0px;stroke-linecap:butt;stroke-linejoin:miter;stroke-opacity:1\"/>\n<path class=\"bond-1 atom-1 atom-2\" d=\"M 53.2,126.4 L 60.5,137.7\" style=\"fill:none;fill-rule:evenodd;stroke:#FF0000;stroke-width:2.0px;stroke-linecap:butt;stroke-linejoin:miter;stroke-opacity:1\"/>\n<path class=\"bond-2 atom-1 atom-3\" d=\"M 44.6,117.7 L 50.5,106.1\" style=\"fill:none;fill-rule:evenodd;stroke:#000000;stroke-width:2.0px;stroke-linecap:butt;stroke-linejoin:miter;stroke-opacity:1\"/>\n<path class=\"bond-2 atom-1 atom-3\" d=\"M 50.5,106.1 L 56.4,94.6\" style=\"fill:none;fill-rule:evenodd;stroke:#0000FF;stroke-width:2.0px;stroke-linecap:butt;stroke-linejoin:miter;stroke-opacity:1\"/>\n<path class=\"bond-3 atom-3 atom-4\" d=\"M 63.8,88.8 L 75.6,88.2\" style=\"fill:none;fill-rule:evenodd;stroke:#0000FF;stroke-width:2.0px;stroke-linecap:butt;stroke-linejoin:miter;stroke-opacity:1\"/>\n<path class=\"bond-3 atom-3 atom-4\" d=\"M 75.6,88.2 L 87.4,87.5\" style=\"fill:none;fill-rule:evenodd;stroke:#CCCC00;stroke-width:2.0px;stroke-linecap:butt;stroke-linejoin:miter;stroke-opacity:1\"/>\n<path class=\"bond-4 atom-4 atom-5\" d=\"M 93.5,81.6 L 93.0,71.2\" style=\"fill:none;fill-rule:evenodd;stroke:#CCCC00;stroke-width:2.0px;stroke-linecap:butt;stroke-linejoin:miter;stroke-opacity:1\"/>\n<path class=\"bond-4 atom-4 atom-5\" d=\"M 93.0,71.2 L 92.5,60.9\" style=\"fill:none;fill-rule:evenodd;stroke:#FF0000;stroke-width:2.0px;stroke-linecap:butt;stroke-linejoin:miter;stroke-opacity:1\"/>\n<path class=\"bond-4 atom-4 atom-5\" d=\"M 88.7,81.8 L 88.2,71.5\" style=\"fill:none;fill-rule:evenodd;stroke:#CCCC00;stroke-width:2.0px;stroke-linecap:butt;stroke-linejoin:miter;stroke-opacity:1\"/>\n<path class=\"bond-4 atom-4 atom-5\" d=\"M 88.2,71.5 L 87.6,61.1\" style=\"fill:none;fill-rule:evenodd;stroke:#FF0000;stroke-width:2.0px;stroke-linecap:butt;stroke-linejoin:miter;stroke-opacity:1\"/>\n<path class=\"bond-5 atom-4 atom-6\" d=\"M 89.3,93.3 L 89.8,103.6\" style=\"fill:none;fill-rule:evenodd;stroke:#CCCC00;stroke-width:2.0px;stroke-linecap:butt;stroke-linejoin:miter;stroke-opacity:1\"/>\n<path class=\"bond-5 atom-4 atom-6\" d=\"M 89.8,103.6 L 90.4,113.9\" style=\"fill:none;fill-rule:evenodd;stroke:#FF0000;stroke-width:2.0px;stroke-linecap:butt;stroke-linejoin:miter;stroke-opacity:1\"/>\n<path class=\"bond-5 atom-4 atom-6\" d=\"M 94.1,93.1 L 94.7,103.4\" style=\"fill:none;fill-rule:evenodd;stroke:#CCCC00;stroke-width:2.0px;stroke-linecap:butt;stroke-linejoin:miter;stroke-opacity:1\"/>\n<path class=\"bond-5 atom-4 atom-6\" d=\"M 94.7,103.4 L 95.2,113.7\" style=\"fill:none;fill-rule:evenodd;stroke:#FF0000;stroke-width:2.0px;stroke-linecap:butt;stroke-linejoin:miter;stroke-opacity:1\"/>\n<path class=\"bond-6 atom-4 atom-7\" d=\"M 95.4,87.1 L 109.5,86.4\" style=\"fill:none;fill-rule:evenodd;stroke:#CCCC00;stroke-width:2.0px;stroke-linecap:butt;stroke-linejoin:miter;stroke-opacity:1\"/>\n<path class=\"bond-6 atom-4 atom-7\" d=\"M 109.5,86.4 L 123.6,85.7\" style=\"fill:none;fill-rule:evenodd;stroke:#000000;stroke-width:2.0px;stroke-linecap:butt;stroke-linejoin:miter;stroke-opacity:1\"/>\n<path class=\"bond-7 atom-7 atom-8\" d=\"M 123.6,85.7 L 141.1,112.7\" style=\"fill:none;fill-rule:evenodd;stroke:#000000;stroke-width:2.0px;stroke-linecap:butt;stroke-linejoin:miter;stroke-opacity:1\"/>\n<path class=\"bond-8 atom-8 atom-9\" d=\"M 141.1,112.7 L 173.2,111.0\" style=\"fill:none;fill-rule:evenodd;stroke:#000000;stroke-width:2.0px;stroke-linecap:butt;stroke-linejoin:miter;stroke-opacity:1\"/>\n<path class=\"bond-9 atom-9 atom-10\" d=\"M 173.2,111.0 L 187.8,82.3\" style=\"fill:none;fill-rule:evenodd;stroke:#000000;stroke-width:2.0px;stroke-linecap:butt;stroke-linejoin:miter;stroke-opacity:1\"/>\n<path class=\"bond-9 atom-9 atom-10\" d=\"M 178.8,110.7 L 190.9,87.0\" style=\"fill:none;fill-rule:evenodd;stroke:#000000;stroke-width:2.0px;stroke-linecap:butt;stroke-linejoin:miter;stroke-opacity:1\"/>\n<path class=\"bond-10 atom-10 atom-11\" d=\"M 187.8,82.3 L 220.0,80.7\" style=\"fill:none;fill-rule:evenodd;stroke:#000000;stroke-width:2.0px;stroke-linecap:butt;stroke-linejoin:miter;stroke-opacity:1\"/>\n<path class=\"bond-11 atom-11 atom-12\" d=\"M 220.0,80.7 L 237.5,107.7\" style=\"fill:none;fill-rule:evenodd;stroke:#000000;stroke-width:2.0px;stroke-linecap:butt;stroke-linejoin:miter;stroke-opacity:1\"/>\n<path class=\"bond-11 atom-11 atom-12\" d=\"M 217.5,85.6 L 231.9,108.0\" style=\"fill:none;fill-rule:evenodd;stroke:#000000;stroke-width:2.0px;stroke-linecap:butt;stroke-linejoin:miter;stroke-opacity:1\"/>\n<path class=\"bond-12 atom-12 atom-13\" d=\"M 237.5,107.7 L 222.9,136.3\" style=\"fill:none;fill-rule:evenodd;stroke:#000000;stroke-width:2.0px;stroke-linecap:butt;stroke-linejoin:miter;stroke-opacity:1\"/>\n<path class=\"bond-13 atom-13 atom-14\" d=\"M 222.9,136.3 L 190.7,138.0\" style=\"fill:none;fill-rule:evenodd;stroke:#000000;stroke-width:2.0px;stroke-linecap:butt;stroke-linejoin:miter;stroke-opacity:1\"/>\n<path class=\"bond-13 atom-13 atom-14\" d=\"M 219.8,131.7 L 193.3,133.0\" style=\"fill:none;fill-rule:evenodd;stroke:#000000;stroke-width:2.0px;stroke-linecap:butt;stroke-linejoin:miter;stroke-opacity:1\"/>\n<path class=\"bond-14 atom-14 atom-9\" d=\"M 190.7,138.0 L 173.2,111.0\" style=\"fill:none;fill-rule:evenodd;stroke:#000000;stroke-width:2.0px;stroke-linecap:butt;stroke-linejoin:miter;stroke-opacity:1\"/>\n<path d=\"M 43.0,117.7 L 44.6,117.7 L 44.9,117.1\" style=\"fill:none;stroke:#000000;stroke-width:2.0px;stroke-linecap:butt;stroke-linejoin:miter;stroke-opacity:1;\"/>\n<path d=\"M 122.9,85.7 L 123.6,85.7 L 124.4,87.0\" style=\"fill:none;stroke:#000000;stroke-width:2.0px;stroke-linecap:butt;stroke-linejoin:miter;stroke-opacity:1;\"/>\n<path d=\"M 140.2,111.3 L 141.1,112.7 L 142.7,112.6\" style=\"fill:none;stroke:#000000;stroke-width:2.0px;stroke-linecap:butt;stroke-linejoin:miter;stroke-opacity:1;\"/>\n<path d=\"M 187.1,83.8 L 187.8,82.3 L 189.5,82.3\" style=\"fill:none;stroke:#000000;stroke-width:2.0px;stroke-linecap:butt;stroke-linejoin:miter;stroke-opacity:1;\"/>\n<path d=\"M 218.4,80.8 L 220.0,80.7 L 220.9,82.0\" style=\"fill:none;stroke:#000000;stroke-width:2.0px;stroke-linecap:butt;stroke-linejoin:miter;stroke-opacity:1;\"/>\n<path d=\"M 236.6,106.3 L 237.5,107.7 L 236.8,109.1\" style=\"fill:none;stroke:#000000;stroke-width:2.0px;stroke-linecap:butt;stroke-linejoin:miter;stroke-opacity:1;\"/>\n<path d=\"M 223.6,134.9 L 222.9,136.3 L 221.3,136.4\" style=\"fill:none;stroke:#000000;stroke-width:2.0px;stroke-linecap:butt;stroke-linejoin:miter;stroke-opacity:1;\"/>\n<path d=\"M 192.3,137.9 L 190.7,138.0 L 189.9,136.7\" style=\"fill:none;stroke:#000000;stroke-width:2.0px;stroke-linecap:butt;stroke-linejoin:miter;stroke-opacity:1;\"/>\n<path class=\"atom-2\" d=\"M 58.0 144.7 Q 58.0 142.5, 59.1 141.3 Q 60.1 140.1, 62.2 140.1 Q 64.2 140.1, 65.3 141.3 Q 66.3 142.5, 66.3 144.7 Q 66.3 146.9, 65.2 148.2 Q 64.2 149.4, 62.2 149.4 Q 60.1 149.4, 59.1 148.2 Q 58.0 146.9, 58.0 144.7 M 62.2 148.4 Q 63.5 148.4, 64.3 147.5 Q 65.1 146.5, 65.1 144.7 Q 65.1 142.9, 64.3 142.0 Q 63.5 141.1, 62.2 141.1 Q 60.8 141.1, 60.0 142.0 Q 59.3 142.9, 59.3 144.7 Q 59.3 146.5, 60.0 147.5 Q 60.8 148.4, 62.2 148.4 \" fill=\"#FF0000\"/>\n<path class=\"atom-3\" d=\"M 57.3 84.4 L 60.2 89.3 Q 60.5 89.7, 61.0 90.6 Q 61.5 91.5, 61.5 91.5 L 61.5 84.4 L 62.7 84.4 L 62.7 93.6 L 61.5 93.6 L 58.3 88.3 Q 57.9 87.7, 57.5 86.9 Q 57.1 86.2, 57.0 86.0 L 57.0 93.6 L 55.8 93.6 L 55.8 84.4 L 57.3 84.4 \" fill=\"#0000FF\"/>\n<path class=\"atom-3\" d=\"M 64.4 85.9 L 67.5 85.9 L 67.5 86.6 L 64.4 86.6 L 64.4 85.9 \" fill=\"#0000FF\"/>\n<path class=\"atom-4\" d=\"M 88.8 90.5 Q 88.9 90.5, 89.4 90.7 Q 89.8 90.9, 90.3 91.0 Q 90.7 91.1, 91.2 91.1 Q 92.1 91.1, 92.6 90.7 Q 93.1 90.2, 93.1 89.5 Q 93.1 89.0, 92.8 88.7 Q 92.6 88.4, 92.2 88.2 Q 91.8 88.1, 91.1 87.9 Q 90.3 87.6, 89.8 87.4 Q 89.4 87.2, 89.0 86.7 Q 88.7 86.2, 88.7 85.3 Q 88.7 84.2, 89.5 83.5 Q 90.2 82.8, 91.8 82.8 Q 92.8 82.8, 94.0 83.3 L 93.7 84.3 Q 92.7 83.8, 91.8 83.8 Q 90.9 83.8, 90.4 84.2 Q 90.0 84.6, 90.0 85.2 Q 90.0 85.7, 90.2 86.0 Q 90.5 86.3, 90.8 86.4 Q 91.2 86.6, 91.8 86.8 Q 92.7 87.1, 93.1 87.3 Q 93.6 87.6, 94.0 88.1 Q 94.3 88.6, 94.3 89.5 Q 94.3 90.8, 93.5 91.5 Q 92.7 92.1, 91.2 92.1 Q 90.4 92.1, 89.8 91.9 Q 89.2 91.8, 88.5 91.5 L 88.8 90.5 \" fill=\"#CCCC00\"/>\n<path class=\"atom-5\" d=\"M 85.6 55.2 Q 85.6 53.0, 86.6 51.8 Q 87.7 50.6, 89.8 50.6 Q 91.8 50.6, 92.9 51.8 Q 93.9 53.0, 93.9 55.2 Q 93.9 57.4, 92.8 58.7 Q 91.7 59.9, 89.8 59.9 Q 87.7 59.9, 86.6 58.7 Q 85.6 57.4, 85.6 55.2 M 89.8 58.9 Q 91.1 58.9, 91.9 58.0 Q 92.6 57.0, 92.6 55.2 Q 92.6 53.4, 91.9 52.5 Q 91.1 51.6, 89.8 51.6 Q 88.4 51.6, 87.6 52.5 Q 86.9 53.4, 86.9 55.2 Q 86.9 57.1, 87.6 58.0 Q 88.4 58.9, 89.8 58.9 \" fill=\"#FF0000\"/>\n<path class=\"atom-6\" d=\"M 88.9 119.5 Q 88.9 117.3, 90.0 116.1 Q 91.1 114.9, 93.1 114.9 Q 95.1 114.9, 96.2 116.1 Q 97.3 117.3, 97.3 119.5 Q 97.3 121.7, 96.2 123.0 Q 95.1 124.2, 93.1 124.2 Q 91.1 124.2, 90.0 123.0 Q 88.9 121.7, 88.9 119.5 M 93.1 123.2 Q 94.5 123.2, 95.2 122.3 Q 96.0 121.3, 96.0 119.5 Q 96.0 117.7, 95.2 116.8 Q 94.5 115.9, 93.1 115.9 Q 91.7 115.9, 90.9 116.8 Q 90.2 117.7, 90.2 119.5 Q 90.2 121.3, 90.9 122.3 Q 91.7 123.2, 93.1 123.2 \" fill=\"#FF0000\"/>\n</svg>"
          },
          "metadata": {}
        }
      ]
    },
    {
      "cell_type": "code",
      "source": [
        "#@title Get titratable site\n",
        "# Highest protonation state is always in state[0]\n",
        "titratable_sites = []\n",
        "pmol = mols[0]\n",
        "for m in mols[1:]:\n",
        "    from rdkit.Chem import rdFMCS\n",
        "    res = rdFMCS.FindMCS([pmol, pmol])\n",
        "    similar_patt = Chem.MolFromSmarts(res.smartsString)\n",
        "    subst_matches_pmol = pmol.GetSubstructMatches(similar_patt)[0]\n",
        "    subst_matches = m.GetSubstructMatches(similar_patt)[0]\n",
        "    for a0, a in zip(subst_matches_pmol, subst_matches):\n",
        "        if (pmol.GetAtomWithIdx(a0).GetFormalCharge() !=\n",
        "            m.GetAtomWithIdx(a).GetFormalCharge()\n",
        "        ):\n",
        "            titratable_sites.append(a0)\n",
        "titratable_sites = list(set(titratable_sites))"
      ],
      "metadata": {
        "id": "Sl3r5d_MdQcN",
        "cellView": "form"
      },
      "execution_count": 33,
      "outputs": []
    },
    {
      "cell_type": "code",
      "source": [
        "titratable_sites"
      ],
      "metadata": {
        "colab": {
          "base_uri": "https://localhost:8080/"
        },
        "id": "X9XK4iUcf9gj",
        "outputId": "29b56cbe-be7d-47b1-df69-04293699965c"
      },
      "execution_count": 34,
      "outputs": [
        {
          "output_type": "execute_result",
          "data": {
            "text/plain": [
              "[3]"
            ]
          },
          "metadata": {},
          "execution_count": 34
        }
      ]
    },
    {
      "cell_type": "code",
      "source": [
        "#@title Get list of symmetrical titratable sites\n",
        "from rdkit.Chem import rdFMCS\n",
        "res = rdFMCS.FindMCS([pmol, pmol])\n",
        "similar_patt = Chem.MolFromSmarts(res.smartsString)\n",
        "subst_matches = pmol.GetSubstructMatches(similar_patt, uniquify=False)\n",
        "print(subst_matches)\n",
        "symmetrical_sites = {x.GetIdx():[x.GetIdx()] for x in pmol.GetAtoms()}\n",
        "if len(subst_matches) > 1:\n",
        "    for sm in subst_matches[1:]:\n",
        "        for ts in titratable_sites:\n",
        "            if sm[subst_matches_pmol.index(ts)] not in symmetrical_sites[ts]:\n",
        "                symmetrical_sites[ts].append(sm[subst_matches_pmol.index(ts)])\n",
        "                symmetrical_sites[sm[subst_matches_pmol.index(ts)]].append(ts)\n",
        "symmetrical_sites"
      ],
      "metadata": {
        "colab": {
          "base_uri": "https://localhost:8080/"
        },
        "id": "SE9qyt_YeuWl",
        "outputId": "4021561d-ed73-45c6-a92a-905a152de1bb",
        "cellView": "form"
      },
      "execution_count": 35,
      "outputs": [
        {
          "output_type": "stream",
          "name": "stdout",
          "text": [
            "((0, 1, 2, 3, 4, 5, 6, 7, 8, 9, 10, 11, 12, 13, 14), (0, 1, 2, 3, 4, 5, 6, 7, 8, 9, 14, 13, 12, 11, 10), (0, 1, 2, 3, 4, 6, 5, 7, 8, 9, 10, 11, 12, 13, 14), (0, 1, 2, 3, 4, 6, 5, 7, 8, 9, 14, 13, 12, 11, 10))\n"
          ]
        },
        {
          "output_type": "execute_result",
          "data": {
            "text/plain": [
              "{0: [0],\n",
              " 1: [1],\n",
              " 2: [2],\n",
              " 3: [3],\n",
              " 4: [4],\n",
              " 5: [5],\n",
              " 6: [6],\n",
              " 7: [7],\n",
              " 8: [8],\n",
              " 9: [9],\n",
              " 10: [10],\n",
              " 11: [11],\n",
              " 12: [12],\n",
              " 13: [13],\n",
              " 14: [14]}"
            ]
          },
          "metadata": {},
          "execution_count": 35
        }
      ]
    },
    {
      "cell_type": "code",
      "source": [
        "#@title Get list of sites with multiple hydrogens\n",
        "sites_with_multiple_hs = []\n",
        "for ts in titratable_sites:\n",
        "    if (\n",
        "        pmol.GetAtomWithIdx(ts).GetNumExplicitHs()\n",
        "        + pmol.GetAtomWithIdx(ts).GetNumImplicitHs()\n",
        "        > 1\n",
        "    ):\n",
        "        sites_with_multiple_hs.append(ts)\n",
        "sites_with_multiple_hs"
      ],
      "metadata": {
        "colab": {
          "base_uri": "https://localhost:8080/"
        },
        "id": "c0aAHRyilzwZ",
        "outputId": "06554e85-aab5-419b-c44f-83d075c04d87",
        "cellView": "form"
      },
      "execution_count": 36,
      "outputs": [
        {
          "output_type": "execute_result",
          "data": {
            "text/plain": [
              "[]"
            ]
          },
          "metadata": {},
          "execution_count": 36
        }
      ]
    },
    {
      "cell_type": "code",
      "source": [
        "#@title Highlight sites with multiple hydrogens\n",
        "if sites_with_multiple_hs:\n",
        "    print(\n",
        "        f\"We detected {len(sites_with_multiple_hs)} sites to which multiple \"\n",
        "        + \"hydrogens are attached. Please, take a careful look and let us know \"\n",
        "        + \"whether we should consider those sites as multisite with each \"\n",
        "        + \"hydrogen titrating separately, or as single site, where only one \"\n",
        "        + \"hydrogen is titrated. Note, that we highlight the titratable sites \"\n",
        "        + \"for the molecule in the highest protonation state, The .\"\n",
        "    )\n",
        "    colors = [(1.0, 0.0, 0.0, 0.2)]\n",
        "    for i, a in enumerate(sites_with_multiple_hs):\n",
        "        (pmol.GetAtomWithIdx(a)).SetProp('atomNote', str(i+1))\n",
        "    d2d = rdMolDraw2D.MolDraw2DSVG(250, 200)\n",
        "    at_highlights = {x: [colors[0]] for x in sites_with_multiple_hs}\n",
        "    at_rads = {x: 0.5 for x in sites_with_multiple_hs}\n",
        "    d2d.DrawMoleculeWithHighlights(pmol,\"\", at_highlights,{}, at_rads, {})\n",
        "    d2d.FinishDrawing()\n",
        "    display(SVG(d2d.GetDrawingText()))\n",
        "    for a in sites_with_multiple_hs:\n",
        "        (pmol.GetAtomWithIdx(a)).SetProp('atomNote', '')\n",
        "else:\n",
        "    mHs = None\n",
        "    print(\n",
        "        \"No sites to which multiple hydrogens are attached were detected. \"\n",
        "        + \" You can skip the next step.\"\n",
        "    )"
      ],
      "metadata": {
        "colab": {
          "base_uri": "https://localhost:8080/"
        },
        "id": "Yg2K0Mew3-KU",
        "outputId": "cf602d46-cc13-4913-c37b-fa5ba1776636",
        "cellView": "form"
      },
      "execution_count": 37,
      "outputs": [
        {
          "output_type": "stream",
          "name": "stdout",
          "text": [
            "No sites to which multiple hydrogens are attached were detected.  You can skip the next step.\n"
          ]
        }
      ]
    },
    {
      "cell_type": "code",
      "source": [
        "#@title Select treatment of multi-hydrogen sites\n",
        "#@markdown Do you want to treat titratable sites with multiple hydrogens\n",
        "#@markdown attached as single multisite or no? Default is no. If you want\n",
        "#@markdown to treat those with multisite representation tick the corresponding\n",
        "#@markdown variable. The id of titratable sites are shown in the previous cell.\n",
        "multiHs_titratable_site_1 = True #@param {type:\"boolean\"}\n",
        "multiHs_titratable_site_2 = False #@param {type:\"boolean\"}\n",
        "multiHs_titratable_site_3 = False #@param {type:\"boolean\"}\n",
        "multiHs_titratable_site_4 = False #@param {type:\"boolean\"}\n",
        "multiHs_titratable_site_5 = False #@param {type:\"boolean\"}\n",
        "\n",
        "mHs = [\n",
        "    multiHs_titratable_site_1,\n",
        "    multiHs_titratable_site_2,\n",
        "    multiHs_titratable_site_3,\n",
        "    multiHs_titratable_site_4,\n",
        "    multiHs_titratable_site_5,\n",
        "][:len(sites_with_multiple_hs)]"
      ],
      "metadata": {
        "id": "6hA84tEeetpF",
        "cellView": "form"
      },
      "execution_count": null,
      "outputs": []
    },
    {
      "cell_type": "code",
      "source": [
        "mHs"
      ],
      "metadata": {
        "id": "9eb3evy4-8JY"
      },
      "execution_count": 38,
      "outputs": []
    },
    {
      "cell_type": "code",
      "source": [
        "#@title Symmetrical states treatment\n",
        "states = {}  # Dictionary of states and state treatment. Each state has a\n",
        "# molecule, number of states and number of states for consideration\n",
        "# NOTE: state treatment should be fixed/changed after user input is provided\n",
        "for i, m in enumerate(mols):\n",
        "    from rdkit.Chem import rdFMCS\n",
        "    res = rdFMCS.FindMCS([pmol, pmol])\n",
        "    similar_patt = Chem.MolFromSmarts(res.smartsString)\n",
        "    subst_matches = m.GetSubstructMatches(similar_patt)[0]\n",
        "    charges = {}\n",
        "    for a in symmetrical_sites:\n",
        "        charges[a] = [\n",
        "            m.GetAtomWithIdx(\n",
        "                subst_matches[subst_matches_pmol.index(a)]\n",
        "            ).GetFormalCharge()\n",
        "        ]\n",
        "        if len(symmetrical_sites[a]) == 1:\n",
        "            continue\n",
        "        for idx in symmetrical_sites[a][1:]:\n",
        "            charges[a].append(\n",
        "                m.GetAtomWithIdx(\n",
        "                    subst_matches[subst_matches_pmol.index(idx)]\n",
        "                ).GetFormalCharge()\n",
        "            )\n",
        "    if all([len(list(set(x))) == 1 for x in charges.values()]):\n",
        "        states[i] = (m, 1, 1)\n",
        "        continue\n",
        "    print(f\"For molecule {i} symmetrical states were detected:\")\n",
        "    d2d = rdMolDraw2D.MolDraw2DSVG(250, 200)\n",
        "    d2d.DrawMolecule(m)\n",
        "    d2d.FinishDrawing()\n",
        "    display(SVG(d2d.GetDrawingText()))\n",
        "    print(\"These are found symmetrical states:\")\n",
        "    atoms_to_change = [x for x in charges if len(charges[x]) > 1]\n",
        "    atoms_with_dif_charges = [\n",
        "        x for x in charges if len(charges[x]) == 1 and\n",
        "        charges[x][0] != pmol.GetAtomWithIdx(x).GetFormalCharge()\n",
        "    ]\n",
        "    charge_combinations = list(zip(*[charges[x] for x in atoms_to_change]))\n",
        "    state_charges = []\n",
        "    from copy import deepcopy\n",
        "    for c in charge_combinations:\n",
        "        m_new = deepcopy(pmol)\n",
        "        for a in atoms_with_dif_charges:\n",
        "            m_new.GetAtomWithIdx(a).SetFormalCharge(\n",
        "                pmol.GetAtomWithIdx(a).GetFormalCharge() - 1\n",
        "            )\n",
        "            m_new.GetAtomWithIdx(a).SetNumExplicitHs(\n",
        "                pmol.GetAtomWithIdx(a).GetNumExplicitHs() - 1\n",
        "            )\n",
        "        for a_charge, a in zip(c, atoms_to_change):\n",
        "            if a_charge != pmol.GetAtomWithIdx(a).GetFormalCharge():\n",
        "                m_new.GetAtomWithIdx(a).SetFormalCharge(a_charge)\n",
        "                m_new.GetAtomWithIdx(a).SetNumExplicitHs(\n",
        "                    pmol.GetAtomWithIdx(a).GetNumExplicitHs() - 1\n",
        "                )\n",
        "        if [x.GetFormalCharge() for x in m_new.GetAtoms()] in state_charges:\n",
        "            continue\n",
        "        state_charges.append([x.GetFormalCharge() for x in m_new.GetAtoms()])\n",
        "        d2d = rdMolDraw2D.MolDraw2DSVG(250, 200)\n",
        "        colors = [(0.0, 1.0, 0.0, 0.2)]\n",
        "        at_highlights = {x: [colors[0]] for x in atoms_to_change}\n",
        "        at_rads = {x: 0.5 for x in atoms_to_change}\n",
        "        d2d.DrawMoleculeWithHighlights(m_new,\"\", at_highlights,{}, at_rads, {})\n",
        "        d2d.FinishDrawing()\n",
        "        display(SVG(d2d.GetDrawingText()))\n",
        "    states[i] = (m, len(state_charges), 1)\n",
        "if all([x[1] == 1 for x in states.values()]):\n",
        "    ss = None\n",
        "    print(\n",
        "        \"No symmetrical states were found \"\n",
        "        + \" You can skip the next step.\"\n",
        "    )"
      ],
      "metadata": {
        "colab": {
          "base_uri": "https://localhost:8080/"
        },
        "id": "cMIgAhkBxviB",
        "outputId": "4057133a-d0b3-4e39-b213-351453e522ae",
        "cellView": "form"
      },
      "execution_count": 39,
      "outputs": [
        {
          "output_type": "stream",
          "name": "stdout",
          "text": [
            "No symmetrical states were found  You can skip the next step.\n"
          ]
        }
      ]
    },
    {
      "cell_type": "code",
      "source": [
        "#@title Select treatment of symmetrical states\n",
        "#@markdown Please, select whether to inclue symmetrical states for a molecule\n",
        "#@markdown or not. If for a particular molecule there are no symmetrical\n",
        "#@markdown states available, selecting True won't influence the behaviour\n",
        "use_symmetrical_states_molecule_0 = True #@param {type:\"boolean\"}\n",
        "use_symmetrical_states_molecule_1 = True #@param {type:\"boolean\"}\n",
        "use_symmetrical_states_molecule_2 = False #@param {type:\"boolean\"}\n",
        "use_symmetrical_states_molecule_3 = False #@param {type:\"boolean\"}\n",
        "use_symmetrical_states_molecule_4 = False #@param {type:\"boolean\"}\n",
        "use_symmetrical_states_molecule_5 = False #@param {type:\"boolean\"}\n",
        "use_symmetrical_states_molecule_6 = False #@param {type:\"boolean\"}\n",
        "use_symmetrical_states_molecule_7 = False #@param {type:\"boolean\"}\n",
        "use_symmetrical_states_molecule_8 = False #@param {type:\"boolean\"}\n",
        "use_symmetrical_states_molecule_9 = False #@param {type:\"boolean\"}\n",
        "\n",
        "ss = [\n",
        "    use_symmetrical_states_molecule_0,\n",
        "    use_symmetrical_states_molecule_1,\n",
        "    use_symmetrical_states_molecule_2,\n",
        "    use_symmetrical_states_molecule_3,\n",
        "    use_symmetrical_states_molecule_4,\n",
        "    use_symmetrical_states_molecule_5,\n",
        "    use_symmetrical_states_molecule_6,\n",
        "    use_symmetrical_states_molecule_7,\n",
        "    use_symmetrical_states_molecule_8,\n",
        "    use_symmetrical_states_molecule_9,\n",
        "][:len(states)]"
      ],
      "metadata": {
        "id": "gbwN4jUv9e0f",
        "cellView": "form"
      },
      "execution_count": 40,
      "outputs": []
    },
    {
      "cell_type": "code",
      "source": [
        "#@title Update states information\n",
        "for i, s in zip(states.keys(), states.values()):\n",
        "    if ss:\n",
        "        t = ss[i]\n",
        "    else:\n",
        "        t = False\n",
        "    if t:\n",
        "        states[i] = (s[0], s[1], s[1])\n",
        "    if mHs:\n",
        "        from rdkit.Chem import rdFMCS\n",
        "        res = rdFMCS.FindMCS([pmol, pmol])\n",
        "        similar_patt = Chem.MolFromSmarts(res.smartsString)\n",
        "        subst_matches = s[0].GetSubstructMatches(similar_patt)[0]\n",
        "        factor = 1\n",
        "        for idx in sites_with_multiple_hs:\n",
        "            if not mHs[sites_with_multiple_hs.index(idx)]:\n",
        "                continue\n",
        "            a = s[0].GetAtomWithIdx(\n",
        "                subst_matches[subst_matches_pmol.index(idx)]\n",
        "            )\n",
        "            a_p = pmol.GetAtomWithIdx(idx)\n",
        "            if (\n",
        "                (a.GetNumExplicitHs() + a.GetNumImplicitHs()) !=\n",
        "                (a_p.GetNumExplicitHs() + a_p.GetNumImplicitHs())\n",
        "            ):\n",
        "                factor *= (a_p.GetNumExplicitHs() + a_p.GetNumImplicitHs())\n",
        "        states[i] = (s[0], s[1], states[i][1] * factor)\n",
        "states"
      ],
      "metadata": {
        "colab": {
          "base_uri": "https://localhost:8080/"
        },
        "id": "GjWEZ3WGvpSf",
        "outputId": "2611dab2-9137-4cac-b012-e86809afdb35",
        "cellView": "form"
      },
      "execution_count": 41,
      "outputs": [
        {
          "output_type": "execute_result",
          "data": {
            "text/plain": [
              "{0: (<rdkit.Chem.rdchem.Mol at 0x7f69ccde3ca0>, 1, 1),\n",
              " 1: (<rdkit.Chem.rdchem.Mol at 0x7f69ccde3d10>, 1, 1)}"
            ]
          },
          "metadata": {},
          "execution_count": 41
        }
      ]
    },
    {
      "cell_type": "code",
      "source": [
        "#@title Show state transitions\n",
        "state_transitions = []\n",
        "for i, m1 in enumerate(mols):\n",
        "    for j, m2 in enumerate(mols[i+1:]):\n",
        "        from rdkit.Chem import rdFMCS\n",
        "        res = rdFMCS.FindMCS([pmol, pmol])\n",
        "        similar_patt = Chem.MolFromSmarts(res.smartsString)\n",
        "        subst_matches1 = m1.GetSubstructMatches(similar_patt)[0]\n",
        "        subst_matches2 = m2.GetSubstructMatches(similar_patt)[0]\n",
        "        n_diffs = 0\n",
        "        for idx in titratable_sites:\n",
        "            if (\n",
        "                m1.GetAtomWithIdx(\n",
        "                    subst_matches1[subst_matches_pmol.index(idx)]\n",
        "                ).GetFormalCharge() !=\n",
        "                m2.GetAtomWithIdx(\n",
        "                    subst_matches2[subst_matches_pmol.index(idx)]\n",
        "                ).GetFormalCharge()\n",
        "            ):\n",
        "                n_diffs += 1\n",
        "        if n_diffs != 1:\n",
        "            continue\n",
        "        state_transitions.append((i, i + 1+j, m1, m2))\n",
        "\n",
        "def view_difference(mol1, mol2):\n",
        "    mcs = rdFMCS.FindMCS([mol1,mol2])\n",
        "    mcs_mol = Chem.MolFromSmarts(mcs.smartsString)\n",
        "    match1 = mol1.GetSubstructMatch(mcs_mol)\n",
        "    match2 = mol2.GetSubstructMatch(mcs_mol)\n",
        "    target_atm1 = []\n",
        "    target_atm2 = []\n",
        "    for a1, a2 in zip(match1, match2):\n",
        "        if (\n",
        "            mol1.GetAtomWithIdx(a1).GetFormalCharge() !=\n",
        "            mol2.GetAtomWithIdx(a2).GetFormalCharge()\n",
        "        ):\n",
        "            target_atm1.append(a1)\n",
        "            target_atm2.append(a2)\n",
        "    d2d = Draw.MolsToGridImage(\n",
        "        [mol1, mol2],\n",
        "        highlightAtomLists=[target_atm1, target_atm2],\n",
        "        useSVG = True,\n",
        "    )\n",
        "    display(d2d)\n",
        "\n",
        "print(\"We found the following transitions between protonation states:\")\n",
        "for i, st_t in enumerate(state_transitions):\n",
        "    print(f\"Transition {i}\")\n",
        "    view_difference(st_t[2], st_t[3])"
      ],
      "metadata": {
        "colab": {
          "base_uri": "https://localhost:8080/",
          "height": 259
        },
        "id": "ZBKOWkcz2HnX",
        "outputId": "d942bf25-87b3-4735-d380-187e4c9c0c9b",
        "cellView": "form"
      },
      "execution_count": 42,
      "outputs": [
        {
          "output_type": "stream",
          "name": "stdout",
          "text": [
            "We found the following transitions between protonation states:\n",
            "Transition 0\n"
          ]
        },
        {
          "output_type": "display_data",
          "data": {
            "text/plain": [
              "<IPython.core.display.SVG object>"
            ],
            "image/svg+xml": "<svg xmlns=\"http://www.w3.org/2000/svg\" xmlns:rdkit=\"http://www.rdkit.org/xml\" xmlns:xlink=\"http://www.w3.org/1999/xlink\" version=\"1.1\" baseProfile=\"full\" xml:space=\"preserve\" width=\"600px\" height=\"200px\" viewBox=\"0 0 600 200\">\n<!-- END OF HEADER -->\n<rect style=\"opacity:1.0;fill:#FFFFFF;stroke:none\" width=\"600.0\" height=\"200.0\" x=\"0.0\" y=\"0.0\"> </rect>\n<ellipse cx=\"43.8\" cy=\"91.2\" rx=\"9.0\" ry=\"5.2\" class=\"atom-3\" style=\"fill:#FF7F7F;fill-rule:evenodd;stroke:#FF7F7F;stroke-width:1.0px;stroke-linecap:butt;stroke-linejoin:miter;stroke-opacity:1\"/>\n<path class=\"bond-0 atom-0 atom-1\" d=\"M 10.0,115.5 L 35.7,114.1\" style=\"fill:none;fill-rule:evenodd;stroke:#000000;stroke-width:2.0px;stroke-linecap:butt;stroke-linejoin:miter;stroke-opacity:1\"/>\n<path class=\"bond-1 atom-1 atom-2\" d=\"M 33.5,114.2 L 39.3,123.2\" style=\"fill:none;fill-rule:evenodd;stroke:#000000;stroke-width:2.0px;stroke-linecap:butt;stroke-linejoin:miter;stroke-opacity:1\"/>\n<path class=\"bond-1 atom-1 atom-2\" d=\"M 39.3,123.2 L 45.2,132.2\" style=\"fill:none;fill-rule:evenodd;stroke:#FF0000;stroke-width:2.0px;stroke-linecap:butt;stroke-linejoin:miter;stroke-opacity:1\"/>\n<path class=\"bond-1 atom-1 atom-2\" d=\"M 36.7,112.1 L 42.6,121.1\" style=\"fill:none;fill-rule:evenodd;stroke:#000000;stroke-width:2.0px;stroke-linecap:butt;stroke-linejoin:miter;stroke-opacity:1\"/>\n<path class=\"bond-1 atom-1 atom-2\" d=\"M 42.6,121.1 L 48.4,130.1\" style=\"fill:none;fill-rule:evenodd;stroke:#FF0000;stroke-width:2.0px;stroke-linecap:butt;stroke-linejoin:miter;stroke-opacity:1\"/>\n<path class=\"bond-2 atom-1 atom-3\" d=\"M 35.7,114.1 L 40.4,104.9\" style=\"fill:none;fill-rule:evenodd;stroke:#000000;stroke-width:2.0px;stroke-linecap:butt;stroke-linejoin:miter;stroke-opacity:1\"/>\n<path class=\"bond-2 atom-1 atom-3\" d=\"M 40.4,104.9 L 45.1,95.7\" style=\"fill:none;fill-rule:evenodd;stroke:#0000FF;stroke-width:2.0px;stroke-linecap:butt;stroke-linejoin:miter;stroke-opacity:1\"/>\n<path class=\"bond-3 atom-3 atom-4\" d=\"M 51.0,91.0 L 60.5,90.5\" style=\"fill:none;fill-rule:evenodd;stroke:#0000FF;stroke-width:2.0px;stroke-linecap:butt;stroke-linejoin:miter;stroke-opacity:1\"/>\n<path class=\"bond-3 atom-3 atom-4\" d=\"M 60.5,90.5 L 69.9,90.0\" style=\"fill:none;fill-rule:evenodd;stroke:#CCCC00;stroke-width:2.0px;stroke-linecap:butt;stroke-linejoin:miter;stroke-opacity:1\"/>\n<path class=\"bond-4 atom-4 atom-5\" d=\"M 74.8,85.3 L 74.4,77.0\" style=\"fill:none;fill-rule:evenodd;stroke:#CCCC00;stroke-width:2.0px;stroke-linecap:butt;stroke-linejoin:miter;stroke-opacity:1\"/>\n<path class=\"bond-4 atom-4 atom-5\" d=\"M 74.4,77.0 L 74.0,68.7\" style=\"fill:none;fill-rule:evenodd;stroke:#FF0000;stroke-width:2.0px;stroke-linecap:butt;stroke-linejoin:miter;stroke-opacity:1\"/>\n<path class=\"bond-4 atom-4 atom-5\" d=\"M 71.0,85.5 L 70.5,77.2\" style=\"fill:none;fill-rule:evenodd;stroke:#CCCC00;stroke-width:2.0px;stroke-linecap:butt;stroke-linejoin:miter;stroke-opacity:1\"/>\n<path class=\"bond-4 atom-4 atom-5\" d=\"M 70.5,77.2 L 70.1,68.9\" style=\"fill:none;fill-rule:evenodd;stroke:#FF0000;stroke-width:2.0px;stroke-linecap:butt;stroke-linejoin:miter;stroke-opacity:1\"/>\n<path class=\"bond-5 atom-4 atom-6\" d=\"M 71.4,94.6 L 71.9,102.9\" style=\"fill:none;fill-rule:evenodd;stroke:#CCCC00;stroke-width:2.0px;stroke-linecap:butt;stroke-linejoin:miter;stroke-opacity:1\"/>\n<path class=\"bond-5 atom-4 atom-6\" d=\"M 71.9,102.9 L 72.3,111.1\" style=\"fill:none;fill-rule:evenodd;stroke:#FF0000;stroke-width:2.0px;stroke-linecap:butt;stroke-linejoin:miter;stroke-opacity:1\"/>\n<path class=\"bond-5 atom-4 atom-6\" d=\"M 75.3,94.4 L 75.7,102.7\" style=\"fill:none;fill-rule:evenodd;stroke:#CCCC00;stroke-width:2.0px;stroke-linecap:butt;stroke-linejoin:miter;stroke-opacity:1\"/>\n<path class=\"bond-5 atom-4 atom-6\" d=\"M 75.7,102.7 L 76.2,110.9\" style=\"fill:none;fill-rule:evenodd;stroke:#FF0000;stroke-width:2.0px;stroke-linecap:butt;stroke-linejoin:miter;stroke-opacity:1\"/>\n<path class=\"bond-6 atom-4 atom-7\" d=\"M 76.3,89.7 L 87.6,89.1\" style=\"fill:none;fill-rule:evenodd;stroke:#CCCC00;stroke-width:2.0px;stroke-linecap:butt;stroke-linejoin:miter;stroke-opacity:1\"/>\n<path class=\"bond-6 atom-4 atom-7\" d=\"M 87.6,89.1 L 98.8,88.5\" style=\"fill:none;fill-rule:evenodd;stroke:#000000;stroke-width:2.0px;stroke-linecap:butt;stroke-linejoin:miter;stroke-opacity:1\"/>\n<path class=\"bond-7 atom-7 atom-8\" d=\"M 98.8,88.5 L 112.9,110.1\" style=\"fill:none;fill-rule:evenodd;stroke:#000000;stroke-width:2.0px;stroke-linecap:butt;stroke-linejoin:miter;stroke-opacity:1\"/>\n<path class=\"bond-8 atom-8 atom-9\" d=\"M 112.9,110.1 L 138.6,108.8\" style=\"fill:none;fill-rule:evenodd;stroke:#000000;stroke-width:2.0px;stroke-linecap:butt;stroke-linejoin:miter;stroke-opacity:1\"/>\n<path class=\"bond-9 atom-9 atom-10\" d=\"M 138.6,108.8 L 150.3,85.9\" style=\"fill:none;fill-rule:evenodd;stroke:#000000;stroke-width:2.0px;stroke-linecap:butt;stroke-linejoin:miter;stroke-opacity:1\"/>\n<path class=\"bond-9 atom-9 atom-10\" d=\"M 143.0,108.6 L 152.7,89.6\" style=\"fill:none;fill-rule:evenodd;stroke:#000000;stroke-width:2.0px;stroke-linecap:butt;stroke-linejoin:miter;stroke-opacity:1\"/>\n<path class=\"bond-10 atom-10 atom-11\" d=\"M 150.3,85.9 L 176.0,84.5\" style=\"fill:none;fill-rule:evenodd;stroke:#000000;stroke-width:2.0px;stroke-linecap:butt;stroke-linejoin:miter;stroke-opacity:1\"/>\n<path class=\"bond-11 atom-11 atom-12\" d=\"M 176.0,84.5 L 190.0,106.1\" style=\"fill:none;fill-rule:evenodd;stroke:#000000;stroke-width:2.0px;stroke-linecap:butt;stroke-linejoin:miter;stroke-opacity:1\"/>\n<path class=\"bond-11 atom-11 atom-12\" d=\"M 174.0,88.5 L 185.5,106.4\" style=\"fill:none;fill-rule:evenodd;stroke:#000000;stroke-width:2.0px;stroke-linecap:butt;stroke-linejoin:miter;stroke-opacity:1\"/>\n<path class=\"bond-12 atom-12 atom-13\" d=\"M 190.0,106.1 L 178.3,129.1\" style=\"fill:none;fill-rule:evenodd;stroke:#000000;stroke-width:2.0px;stroke-linecap:butt;stroke-linejoin:miter;stroke-opacity:1\"/>\n<path class=\"bond-13 atom-13 atom-14\" d=\"M 178.3,129.1 L 152.6,130.4\" style=\"fill:none;fill-rule:evenodd;stroke:#000000;stroke-width:2.0px;stroke-linecap:butt;stroke-linejoin:miter;stroke-opacity:1\"/>\n<path class=\"bond-13 atom-13 atom-14\" d=\"M 175.9,125.3 L 154.6,126.4\" style=\"fill:none;fill-rule:evenodd;stroke:#000000;stroke-width:2.0px;stroke-linecap:butt;stroke-linejoin:miter;stroke-opacity:1\"/>\n<path class=\"bond-14 atom-14 atom-9\" d=\"M 152.6,130.4 L 138.6,108.8\" style=\"fill:none;fill-rule:evenodd;stroke:#000000;stroke-width:2.0px;stroke-linecap:butt;stroke-linejoin:miter;stroke-opacity:1\"/>\n<path d=\"M 34.4,114.2 L 35.7,114.1 L 35.9,113.7\" style=\"fill:none;stroke:#000000;stroke-width:2.0px;stroke-linecap:butt;stroke-linejoin:miter;stroke-opacity:1;\"/>\n<path d=\"M 98.3,88.6 L 98.8,88.5 L 99.5,89.6\" style=\"fill:none;stroke:#000000;stroke-width:2.0px;stroke-linecap:butt;stroke-linejoin:miter;stroke-opacity:1;\"/>\n<path d=\"M 112.2,109.1 L 112.9,110.1 L 114.1,110.1\" style=\"fill:none;stroke:#000000;stroke-width:2.0px;stroke-linecap:butt;stroke-linejoin:miter;stroke-opacity:1;\"/>\n<path d=\"M 149.7,87.0 L 150.3,85.9 L 151.6,85.8\" style=\"fill:none;stroke:#000000;stroke-width:2.0px;stroke-linecap:butt;stroke-linejoin:miter;stroke-opacity:1;\"/>\n<path d=\"M 174.7,84.6 L 176.0,84.5 L 176.7,85.6\" style=\"fill:none;stroke:#000000;stroke-width:2.0px;stroke-linecap:butt;stroke-linejoin:miter;stroke-opacity:1;\"/>\n<path d=\"M 189.3,105.1 L 190.0,106.1 L 189.4,107.3\" style=\"fill:none;stroke:#000000;stroke-width:2.0px;stroke-linecap:butt;stroke-linejoin:miter;stroke-opacity:1;\"/>\n<path d=\"M 178.9,127.9 L 178.3,129.1 L 177.0,129.1\" style=\"fill:none;stroke:#000000;stroke-width:2.0px;stroke-linecap:butt;stroke-linejoin:miter;stroke-opacity:1;\"/>\n<path d=\"M 153.9,130.3 L 152.6,130.4 L 151.9,129.3\" style=\"fill:none;stroke:#000000;stroke-width:2.0px;stroke-linecap:butt;stroke-linejoin:miter;stroke-opacity:1;\"/>\n<path class=\"atom-2\" d=\"M 46.4 135.8 Q 46.4 134.0, 47.2 133.0 Q 48.1 132.0, 49.7 132.0 Q 51.3 132.0, 52.2 133.0 Q 53.1 134.0, 53.1 135.8 Q 53.1 137.5, 52.2 138.5 Q 51.3 139.5, 49.7 139.5 Q 48.1 139.5, 47.2 138.5 Q 46.4 137.5, 46.4 135.8 M 49.7 138.7 Q 50.8 138.7, 51.4 138.0 Q 52.0 137.2, 52.0 135.8 Q 52.0 134.3, 51.4 133.6 Q 50.8 132.9, 49.7 132.9 Q 48.6 132.9, 48.0 133.6 Q 47.4 134.3, 47.4 135.8 Q 47.4 137.2, 48.0 138.0 Q 48.6 138.7, 49.7 138.7 \" fill=\"#FF0000\"/>\n<path class=\"atom-3\" d=\"M 37.5 87.6 L 38.5 87.6 L 38.5 90.7 L 42.2 90.7 L 42.2 87.6 L 43.2 87.6 L 43.2 94.8 L 42.2 94.8 L 42.2 91.5 L 38.5 91.5 L 38.5 94.8 L 37.5 94.8 L 37.5 87.6 \" fill=\"#0000FF\"/>\n<path class=\"atom-3\" d=\"M 45.8 87.6 L 48.2 91.4 Q 48.4 91.8, 48.8 92.5 Q 49.2 93.2, 49.2 93.2 L 49.2 87.6 L 50.2 87.6 L 50.2 94.8 L 49.2 94.8 L 46.6 90.6 Q 46.3 90.1, 46.0 89.6 Q 45.7 89.0, 45.6 88.8 L 45.6 94.8 L 44.7 94.8 L 44.7 87.6 L 45.8 87.6 \" fill=\"#0000FF\"/>\n<path class=\"atom-4\" d=\"M 71.1 92.4 Q 71.2 92.4, 71.5 92.5 Q 71.8 92.7, 72.2 92.8 Q 72.6 92.9, 73.0 92.9 Q 73.6 92.9, 74.0 92.5 Q 74.5 92.2, 74.5 91.6 Q 74.5 91.2, 74.2 91.0 Q 74.0 90.7, 73.7 90.6 Q 73.4 90.4, 72.9 90.3 Q 72.3 90.1, 71.9 89.9 Q 71.5 89.7, 71.2 89.3 Q 70.9 88.9, 70.9 88.3 Q 70.9 87.4, 71.6 86.8 Q 72.2 86.2, 73.4 86.2 Q 74.3 86.2, 75.2 86.6 L 75.0 87.4 Q 74.1 87.1, 73.5 87.1 Q 72.8 87.1, 72.4 87.4 Q 72.0 87.7, 72.0 88.2 Q 72.0 88.5, 72.2 88.8 Q 72.4 89.0, 72.7 89.2 Q 73.0 89.3, 73.5 89.4 Q 74.1 89.6, 74.5 89.9 Q 74.9 90.1, 75.2 90.5 Q 75.5 90.9, 75.5 91.6 Q 75.5 92.6, 74.8 93.2 Q 74.1 93.7, 73.0 93.7 Q 72.3 93.7, 71.9 93.6 Q 71.4 93.4, 70.8 93.2 L 71.1 92.4 \" fill=\"#CCCC00\"/>\n<path class=\"atom-5\" d=\"M 68.5 64.2 Q 68.5 62.4, 69.3 61.4 Q 70.2 60.5, 71.8 60.5 Q 73.4 60.5, 74.3 61.4 Q 75.1 62.4, 75.1 64.2 Q 75.1 65.9, 74.3 67.0 Q 73.4 68.0, 71.8 68.0 Q 70.2 68.0, 69.3 67.0 Q 68.5 66.0, 68.5 64.2 M 71.8 67.1 Q 72.9 67.1, 73.5 66.4 Q 74.1 65.6, 74.1 64.2 Q 74.1 62.7, 73.5 62.0 Q 72.9 61.3, 71.8 61.3 Q 70.7 61.3, 70.1 62.0 Q 69.5 62.7, 69.5 64.2 Q 69.5 65.6, 70.1 66.4 Q 70.7 67.1, 71.8 67.1 \" fill=\"#FF0000\"/>\n<path class=\"atom-6\" d=\"M 71.1 115.6 Q 71.1 113.8, 72.0 112.9 Q 72.8 111.9, 74.5 111.9 Q 76.1 111.9, 76.9 112.9 Q 77.8 113.8, 77.8 115.6 Q 77.8 117.4, 76.9 118.4 Q 76.1 119.4, 74.5 119.4 Q 72.9 119.4, 72.0 118.4 Q 71.1 117.4, 71.1 115.6 M 74.5 118.6 Q 75.6 118.6, 76.2 117.8 Q 76.8 117.1, 76.8 115.6 Q 76.8 114.2, 76.2 113.4 Q 75.6 112.7, 74.5 112.7 Q 73.4 112.7, 72.7 113.4 Q 72.1 114.2, 72.1 115.6 Q 72.1 117.1, 72.7 117.8 Q 73.4 118.6, 74.5 118.6 \" fill=\"#FF0000\"/>\n<ellipse cx=\"249.3\" cy=\"91.2\" rx=\"6.6\" ry=\"5.2\" class=\"atom-3\" style=\"fill:#FF7F7F;fill-rule:evenodd;stroke:#FF7F7F;stroke-width:1.0px;stroke-linecap:butt;stroke-linejoin:miter;stroke-opacity:1\"/>\n<path class=\"bond-0 atom-0 atom-1\" d=\"M 210.0,115.5 L 235.7,114.1\" style=\"fill:none;fill-rule:evenodd;stroke:#000000;stroke-width:2.0px;stroke-linecap:butt;stroke-linejoin:miter;stroke-opacity:1\"/>\n<path class=\"bond-1 atom-1 atom-2\" d=\"M 233.5,114.2 L 239.3,123.2\" style=\"fill:none;fill-rule:evenodd;stroke:#000000;stroke-width:2.0px;stroke-linecap:butt;stroke-linejoin:miter;stroke-opacity:1\"/>\n<path class=\"bond-1 atom-1 atom-2\" d=\"M 239.3,123.2 L 245.2,132.2\" style=\"fill:none;fill-rule:evenodd;stroke:#FF0000;stroke-width:2.0px;stroke-linecap:butt;stroke-linejoin:miter;stroke-opacity:1\"/>\n<path class=\"bond-1 atom-1 atom-2\" d=\"M 236.7,112.1 L 242.6,121.1\" style=\"fill:none;fill-rule:evenodd;stroke:#000000;stroke-width:2.0px;stroke-linecap:butt;stroke-linejoin:miter;stroke-opacity:1\"/>\n<path class=\"bond-1 atom-1 atom-2\" d=\"M 242.6,121.1 L 248.4,130.1\" style=\"fill:none;fill-rule:evenodd;stroke:#FF0000;stroke-width:2.0px;stroke-linecap:butt;stroke-linejoin:miter;stroke-opacity:1\"/>\n<path class=\"bond-2 atom-1 atom-3\" d=\"M 235.7,114.1 L 240.4,104.9\" style=\"fill:none;fill-rule:evenodd;stroke:#000000;stroke-width:2.0px;stroke-linecap:butt;stroke-linejoin:miter;stroke-opacity:1\"/>\n<path class=\"bond-2 atom-1 atom-3\" d=\"M 240.4,104.9 L 245.1,95.7\" style=\"fill:none;fill-rule:evenodd;stroke:#0000FF;stroke-width:2.0px;stroke-linecap:butt;stroke-linejoin:miter;stroke-opacity:1\"/>\n<path class=\"bond-3 atom-3 atom-4\" d=\"M 251.0,91.0 L 260.5,90.5\" style=\"fill:none;fill-rule:evenodd;stroke:#0000FF;stroke-width:2.0px;stroke-linecap:butt;stroke-linejoin:miter;stroke-opacity:1\"/>\n<path class=\"bond-3 atom-3 atom-4\" d=\"M 260.5,90.5 L 269.9,90.0\" style=\"fill:none;fill-rule:evenodd;stroke:#CCCC00;stroke-width:2.0px;stroke-linecap:butt;stroke-linejoin:miter;stroke-opacity:1\"/>\n<path class=\"bond-4 atom-4 atom-5\" d=\"M 274.8,85.3 L 274.4,77.0\" style=\"fill:none;fill-rule:evenodd;stroke:#CCCC00;stroke-width:2.0px;stroke-linecap:butt;stroke-linejoin:miter;stroke-opacity:1\"/>\n<path class=\"bond-4 atom-4 atom-5\" d=\"M 274.4,77.0 L 274.0,68.7\" style=\"fill:none;fill-rule:evenodd;stroke:#FF0000;stroke-width:2.0px;stroke-linecap:butt;stroke-linejoin:miter;stroke-opacity:1\"/>\n<path class=\"bond-4 atom-4 atom-5\" d=\"M 271.0,85.5 L 270.5,77.2\" style=\"fill:none;fill-rule:evenodd;stroke:#CCCC00;stroke-width:2.0px;stroke-linecap:butt;stroke-linejoin:miter;stroke-opacity:1\"/>\n<path class=\"bond-4 atom-4 atom-5\" d=\"M 270.5,77.2 L 270.1,68.9\" style=\"fill:none;fill-rule:evenodd;stroke:#FF0000;stroke-width:2.0px;stroke-linecap:butt;stroke-linejoin:miter;stroke-opacity:1\"/>\n<path class=\"bond-5 atom-4 atom-6\" d=\"M 271.4,94.6 L 271.9,102.9\" style=\"fill:none;fill-rule:evenodd;stroke:#CCCC00;stroke-width:2.0px;stroke-linecap:butt;stroke-linejoin:miter;stroke-opacity:1\"/>\n<path class=\"bond-5 atom-4 atom-6\" d=\"M 271.9,102.9 L 272.3,111.1\" style=\"fill:none;fill-rule:evenodd;stroke:#FF0000;stroke-width:2.0px;stroke-linecap:butt;stroke-linejoin:miter;stroke-opacity:1\"/>\n<path class=\"bond-5 atom-4 atom-6\" d=\"M 275.3,94.4 L 275.7,102.7\" style=\"fill:none;fill-rule:evenodd;stroke:#CCCC00;stroke-width:2.0px;stroke-linecap:butt;stroke-linejoin:miter;stroke-opacity:1\"/>\n<path class=\"bond-5 atom-4 atom-6\" d=\"M 275.7,102.7 L 276.2,110.9\" style=\"fill:none;fill-rule:evenodd;stroke:#FF0000;stroke-width:2.0px;stroke-linecap:butt;stroke-linejoin:miter;stroke-opacity:1\"/>\n<path class=\"bond-6 atom-4 atom-7\" d=\"M 276.3,89.7 L 287.6,89.1\" style=\"fill:none;fill-rule:evenodd;stroke:#CCCC00;stroke-width:2.0px;stroke-linecap:butt;stroke-linejoin:miter;stroke-opacity:1\"/>\n<path class=\"bond-6 atom-4 atom-7\" d=\"M 287.6,89.1 L 298.8,88.5\" style=\"fill:none;fill-rule:evenodd;stroke:#000000;stroke-width:2.0px;stroke-linecap:butt;stroke-linejoin:miter;stroke-opacity:1\"/>\n<path class=\"bond-7 atom-7 atom-8\" d=\"M 298.8,88.5 L 312.9,110.1\" style=\"fill:none;fill-rule:evenodd;stroke:#000000;stroke-width:2.0px;stroke-linecap:butt;stroke-linejoin:miter;stroke-opacity:1\"/>\n<path class=\"bond-8 atom-8 atom-9\" d=\"M 312.9,110.1 L 338.6,108.8\" style=\"fill:none;fill-rule:evenodd;stroke:#000000;stroke-width:2.0px;stroke-linecap:butt;stroke-linejoin:miter;stroke-opacity:1\"/>\n<path class=\"bond-9 atom-9 atom-10\" d=\"M 338.6,108.8 L 350.3,85.9\" style=\"fill:none;fill-rule:evenodd;stroke:#000000;stroke-width:2.0px;stroke-linecap:butt;stroke-linejoin:miter;stroke-opacity:1\"/>\n<path class=\"bond-9 atom-9 atom-10\" d=\"M 343.0,108.6 L 352.7,89.6\" style=\"fill:none;fill-rule:evenodd;stroke:#000000;stroke-width:2.0px;stroke-linecap:butt;stroke-linejoin:miter;stroke-opacity:1\"/>\n<path class=\"bond-10 atom-10 atom-11\" d=\"M 350.3,85.9 L 376.0,84.5\" style=\"fill:none;fill-rule:evenodd;stroke:#000000;stroke-width:2.0px;stroke-linecap:butt;stroke-linejoin:miter;stroke-opacity:1\"/>\n<path class=\"bond-11 atom-11 atom-12\" d=\"M 376.0,84.5 L 390.0,106.1\" style=\"fill:none;fill-rule:evenodd;stroke:#000000;stroke-width:2.0px;stroke-linecap:butt;stroke-linejoin:miter;stroke-opacity:1\"/>\n<path class=\"bond-11 atom-11 atom-12\" d=\"M 374.0,88.5 L 385.5,106.4\" style=\"fill:none;fill-rule:evenodd;stroke:#000000;stroke-width:2.0px;stroke-linecap:butt;stroke-linejoin:miter;stroke-opacity:1\"/>\n<path class=\"bond-12 atom-12 atom-13\" d=\"M 390.0,106.1 L 378.3,129.1\" style=\"fill:none;fill-rule:evenodd;stroke:#000000;stroke-width:2.0px;stroke-linecap:butt;stroke-linejoin:miter;stroke-opacity:1\"/>\n<path class=\"bond-13 atom-13 atom-14\" d=\"M 378.3,129.1 L 352.6,130.4\" style=\"fill:none;fill-rule:evenodd;stroke:#000000;stroke-width:2.0px;stroke-linecap:butt;stroke-linejoin:miter;stroke-opacity:1\"/>\n<path class=\"bond-13 atom-13 atom-14\" d=\"M 375.9,125.3 L 354.6,126.4\" style=\"fill:none;fill-rule:evenodd;stroke:#000000;stroke-width:2.0px;stroke-linecap:butt;stroke-linejoin:miter;stroke-opacity:1\"/>\n<path class=\"bond-14 atom-14 atom-9\" d=\"M 352.6,130.4 L 338.6,108.8\" style=\"fill:none;fill-rule:evenodd;stroke:#000000;stroke-width:2.0px;stroke-linecap:butt;stroke-linejoin:miter;stroke-opacity:1\"/>\n<path d=\"M 234.4,114.2 L 235.7,114.1 L 235.9,113.7\" style=\"fill:none;stroke:#000000;stroke-width:2.0px;stroke-linecap:butt;stroke-linejoin:miter;stroke-opacity:1;\"/>\n<path d=\"M 298.3,88.6 L 298.8,88.5 L 299.5,89.6\" style=\"fill:none;stroke:#000000;stroke-width:2.0px;stroke-linecap:butt;stroke-linejoin:miter;stroke-opacity:1;\"/>\n<path d=\"M 312.2,109.1 L 312.9,110.1 L 314.1,110.1\" style=\"fill:none;stroke:#000000;stroke-width:2.0px;stroke-linecap:butt;stroke-linejoin:miter;stroke-opacity:1;\"/>\n<path d=\"M 349.7,87.0 L 350.3,85.9 L 351.6,85.8\" style=\"fill:none;stroke:#000000;stroke-width:2.0px;stroke-linecap:butt;stroke-linejoin:miter;stroke-opacity:1;\"/>\n<path d=\"M 374.7,84.6 L 376.0,84.5 L 376.7,85.6\" style=\"fill:none;stroke:#000000;stroke-width:2.0px;stroke-linecap:butt;stroke-linejoin:miter;stroke-opacity:1;\"/>\n<path d=\"M 389.3,105.1 L 390.0,106.1 L 389.4,107.3\" style=\"fill:none;stroke:#000000;stroke-width:2.0px;stroke-linecap:butt;stroke-linejoin:miter;stroke-opacity:1;\"/>\n<path d=\"M 378.9,127.9 L 378.3,129.1 L 377.0,129.1\" style=\"fill:none;stroke:#000000;stroke-width:2.0px;stroke-linecap:butt;stroke-linejoin:miter;stroke-opacity:1;\"/>\n<path d=\"M 353.9,130.3 L 352.6,130.4 L 351.9,129.3\" style=\"fill:none;stroke:#000000;stroke-width:2.0px;stroke-linecap:butt;stroke-linejoin:miter;stroke-opacity:1;\"/>\n<path class=\"atom-2\" d=\"M 246.4 135.8 Q 246.4 134.0, 247.2 133.0 Q 248.1 132.0, 249.7 132.0 Q 251.3 132.0, 252.2 133.0 Q 253.1 134.0, 253.1 135.8 Q 253.1 137.5, 252.2 138.5 Q 251.3 139.5, 249.7 139.5 Q 248.1 139.5, 247.2 138.5 Q 246.4 137.5, 246.4 135.8 M 249.7 138.7 Q 250.8 138.7, 251.4 138.0 Q 252.0 137.2, 252.0 135.8 Q 252.0 134.3, 251.4 133.6 Q 250.8 132.9, 249.7 132.9 Q 248.6 132.9, 248.0 133.6 Q 247.4 134.3, 247.4 135.8 Q 247.4 137.2, 248.0 138.0 Q 248.6 138.7, 249.7 138.7 \" fill=\"#FF0000\"/>\n<path class=\"atom-3\" d=\"M 245.8 87.6 L 248.2 91.4 Q 248.4 91.8, 248.8 92.5 Q 249.2 93.2, 249.2 93.2 L 249.2 87.6 L 250.2 87.6 L 250.2 94.8 L 249.2 94.8 L 246.6 90.6 Q 246.3 90.1, 246.0 89.6 Q 245.7 89.0, 245.6 88.8 L 245.6 94.8 L 244.7 94.8 L 244.7 87.6 L 245.8 87.6 \" fill=\"#0000FF\"/>\n<path class=\"atom-3\" d=\"M 251.5 88.8 L 254.0 88.8 L 254.0 89.3 L 251.5 89.3 L 251.5 88.8 \" fill=\"#0000FF\"/>\n<path class=\"atom-4\" d=\"M 271.1 92.4 Q 271.2 92.4, 271.5 92.5 Q 271.8 92.7, 272.2 92.8 Q 272.6 92.9, 273.0 92.9 Q 273.6 92.9, 274.0 92.5 Q 274.5 92.2, 274.5 91.6 Q 274.5 91.2, 274.2 91.0 Q 274.0 90.7, 273.7 90.6 Q 273.4 90.4, 272.9 90.3 Q 272.3 90.1, 271.9 89.9 Q 271.5 89.7, 271.2 89.3 Q 270.9 88.9, 270.9 88.3 Q 270.9 87.4, 271.6 86.8 Q 272.2 86.2, 273.4 86.2 Q 274.3 86.2, 275.2 86.6 L 275.0 87.4 Q 274.1 87.1, 273.5 87.1 Q 272.8 87.1, 272.4 87.4 Q 272.0 87.7, 272.0 88.2 Q 272.0 88.5, 272.2 88.8 Q 272.4 89.0, 272.7 89.2 Q 273.0 89.3, 273.5 89.4 Q 274.1 89.6, 274.5 89.9 Q 274.9 90.1, 275.2 90.5 Q 275.5 90.9, 275.5 91.6 Q 275.5 92.6, 274.8 93.2 Q 274.1 93.7, 273.0 93.7 Q 272.3 93.7, 271.9 93.6 Q 271.4 93.4, 270.8 93.2 L 271.1 92.4 \" fill=\"#CCCC00\"/>\n<path class=\"atom-5\" d=\"M 268.5 64.2 Q 268.5 62.4, 269.3 61.4 Q 270.2 60.5, 271.8 60.5 Q 273.4 60.5, 274.3 61.4 Q 275.1 62.4, 275.1 64.2 Q 275.1 65.9, 274.3 67.0 Q 273.4 68.0, 271.8 68.0 Q 270.2 68.0, 269.3 67.0 Q 268.5 66.0, 268.5 64.2 M 271.8 67.1 Q 272.9 67.1, 273.5 66.4 Q 274.1 65.6, 274.1 64.2 Q 274.1 62.7, 273.5 62.0 Q 272.9 61.3, 271.8 61.3 Q 270.7 61.3, 270.1 62.0 Q 269.5 62.7, 269.5 64.2 Q 269.5 65.6, 270.1 66.4 Q 270.7 67.1, 271.8 67.1 \" fill=\"#FF0000\"/>\n<path class=\"atom-6\" d=\"M 271.1 115.6 Q 271.1 113.8, 272.0 112.9 Q 272.8 111.9, 274.5 111.9 Q 276.1 111.9, 276.9 112.9 Q 277.8 113.8, 277.8 115.6 Q 277.8 117.4, 276.9 118.4 Q 276.1 119.4, 274.5 119.4 Q 272.9 119.4, 272.0 118.4 Q 271.1 117.4, 271.1 115.6 M 274.5 118.6 Q 275.6 118.6, 276.2 117.8 Q 276.8 117.1, 276.8 115.6 Q 276.8 114.2, 276.2 113.4 Q 275.6 112.7, 274.5 112.7 Q 273.4 112.7, 272.7 113.4 Q 272.1 114.2, 272.1 115.6 Q 272.1 117.1, 272.7 117.8 Q 273.4 118.6, 274.5 118.6 \" fill=\"#FF0000\"/>\n</svg>"
          },
          "metadata": {}
        }
      ]
    },
    {
      "cell_type": "code",
      "source": [
        "state_transitions"
      ],
      "metadata": {
        "colab": {
          "base_uri": "https://localhost:8080/"
        },
        "id": "geoXRdMEShJp",
        "outputId": "e6b42168-028e-436b-873b-b1004cd16bd6"
      },
      "execution_count": 43,
      "outputs": [
        {
          "output_type": "execute_result",
          "data": {
            "text/plain": [
              "[(0,\n",
              "  1,\n",
              "  <rdkit.Chem.rdchem.Mol at 0x7f69ccde3ca0>,\n",
              "  <rdkit.Chem.rdchem.Mol at 0x7f69ccde3d10>)]"
            ]
          },
          "metadata": {},
          "execution_count": 43
        }
      ]
    },
    {
      "cell_type": "code",
      "source": [
        "#@title Provide pKa values for transitions between protonated states\n",
        "#@markdown Please, provide pKa values for protonated states.\n",
        "pka_0 = 4.91 #@param {type:\"number\"}\n",
        "pka_1 = 5.0 #@param {type:\"number\"}\n",
        "pka_2 = 7.0 #@param {type:\"number\"}\n",
        "pka_3 = 6.0 #@param {type:\"number\"}\n",
        "pka_4 = 0.0 #@param {type:\"number\"}\n",
        "pka_5 = 0.0 #@param {type:\"number\"}\n",
        "pka_6 = 0.0 #@param {type:\"number\"}\n",
        "pka_7 = 0.0 #@param {type:\"number\"}\n",
        "pka_8 = 0.0 #@param {type:\"number\"}\n",
        "pka_9 = 0.0 #@param {type:\"number\"}\n",
        "\n",
        "pkas = [\n",
        "    pka_0, pka_1, pka_2, pka_3, pka_4,\n",
        "    pka_5, pka_6, pka_7, pka_8, pka_9,\n",
        "][:len(state_transitions)]"
      ],
      "metadata": {
        "id": "Qg4YAxSh-Ibw"
      },
      "execution_count": 44,
      "outputs": []
    },
    {
      "cell_type": "code",
      "source": [
        "#@title Generate pKa matrix equation\n",
        "import numpy as np\n",
        "from sympy import Matrix, MatrixSymbol, symbols\n",
        "if len(mols) == 2:\n",
        "    print(f\"Single state should be used. pKa = {pkas[0]}\")\n",
        "else:\n",
        "    ph = symbols(\"pH\")\n",
        "    A = np.zeros((len(state_transitions) + 1, len(mols)), dtype = 'int')\n",
        "    b = MatrixSymbol('b', len(state_transitions) + 1, 1).as_explicit()\n",
        "    bsubs = {b[0,0]: ph}\n",
        "    for i, (tr, pka) in enumerate(zip(state_transitions, pkas)):\n",
        "        state1 = tr[0]\n",
        "        state2 = tr[1]\n",
        "        n = states[state1][2]\n",
        "        m = states[state2][2]\n",
        "        if Chem.GetFormalCharge(tr[2]) > Chem.GetFormalCharge(tr[3]):\n",
        "            A[i+1, state1] =-1\n",
        "            A[i+1, state2] = 1\n",
        "            bsubs[b[i + 1, 0]] = pka - np.log10(n/m) - ph\n",
        "        else:\n",
        "            A[i+1, state1] = 1\n",
        "            A[i+1, state2] = -1\n",
        "            bsubs[b[i + 1, 0]] = pka - np.log10(m/n) - ph\n",
        "    A[0, 0] = 1\n",
        "    m = Matrix(A)\n",
        "    _, inds = m.T.rref()\n",
        "    removed_inds = [x for x in range(len(state_transitions) + 1) if x not in inds]\n",
        "    Ar = A[list(inds)]\n",
        "    Ad = A[list(removed_inds)]\n",
        "    mr = Matrix(Ar)\n",
        "    md = Matrix(Ad)\n",
        "    p = MatrixSymbol('p', len(mols), 1).as_explicit()\n",
        "    b = b.subs(bsubs)\n",
        "    br = MatrixSymbol('br', len(inds), 1).as_explicit()\n",
        "    brsubs = {}\n",
        "    for i, idx in enumerate(inds):\n",
        "        brsubs[br[i, 0]] = b[idx, 0]\n",
        "\n",
        "    br = br.subs(brsubs)\n",
        "    br\n",
        "\n",
        "    sol = mr.solve(br)\n",
        "    print(\n",
        "        \"Recommended pKa values for protonations states, considering all previous \"\n",
        "        + \"input are:\"\n",
        "    )\n",
        "    for i in range(len(mols)):\n",
        "        print(f\"State {i}: pKa = {sol[i,0]}\")"
      ],
      "metadata": {
        "colab": {
          "base_uri": "https://localhost:8080/"
        },
        "id": "FPCRNZxE_EIz",
        "outputId": "07349479-6bac-4dd2-b5f2-418bc595f19b"
      },
      "execution_count": 45,
      "outputs": [
        {
          "output_type": "stream",
          "name": "stdout",
          "text": [
            "Single state should be used. pKa = 4.91\n"
          ]
        }
      ]
    },
    {
      "cell_type": "code",
      "source": [
        "#@title Topology and structure general behavior\n",
        "#@markdown Do you want us to generate topology and molecule structure with\n",
        "#@markdown Open Force Field? If no, you would need to provide topologies in\n",
        "#@markdown **.itp** format in the following steps.\n",
        "is_generation_needed = True #@param {type:\"boolean\"}\n",
        "ff_to_use = \"openff-2.1.0.offxml\" #@param {type:\"string\"}\n",
        "\n",
        "if is_generation_needed:\n",
        "    ff = ForceField(ff_to_use)\n",
        "    for _i, m in enumerate(mols):\n",
        "        _m = Molecule.from_rdkit(m)\n",
        "        _m.generate_conformers()\n",
        "        interchange = ff.create_interchange(_m.to_topology())\n",
        "        if _i == 0:\n",
        "            interchange.to_gromacs(f\"molecule_{_i}\")\n",
        "        else:\n",
        "            interchange.to_top(f\"molecule_{_i}.top\")"
      ],
      "metadata": {
        "id": "JsdLCCMpX4LS"
      },
      "execution_count": 52,
      "outputs": []
    },
    {
      "cell_type": "code",
      "source": [
        "#@title Provide topologies data\n",
        "#@markdown If parameterisation is needed, all included molecules will be\n",
        "#@markdown parameterized with open force field. If not, for all\n",
        "is_parameterisation_needed = True #@param {type:\"boolean\"}\n",
        "included_mols = [m for m,i in zip(mols, incl) if i]\n",
        "included_svgs = [s for s,i in zip(svgs, incl) if i]\n",
        "for i, s in enumerate(included_svgs):\n",
        "    print(f\"This is Molecule {i}\")\n",
        "    display(SVG(svgs[i]))\n",
        "\n",
        "parameters_for_molecule_0 = \"\" #@param {type:\"string\"}\n",
        "parameters_for_molecule_1 = \"\" #@param {type:\"string\"}\n",
        "parameters_for_molecule_2 = \"\" #@param {type:\"string\"}\n",
        "parameters_for_molecule_3 = \"\" #@param {type:\"string\"}\n",
        "parameters_for_molecule_4 = \"\" #@param {type:\"string\"}"
      ],
      "metadata": {
        "colab": {
          "base_uri": "https://localhost:8080/",
          "height": 464
        },
        "id": "dugAhjr3ex7W",
        "outputId": "cd8a07b4-a286-4dc3-bcf1-da5ee3de28a3"
      },
      "execution_count": null,
      "outputs": [
        {
          "output_type": "stream",
          "name": "stdout",
          "text": [
            "This is Molecule 0\n"
          ]
        },
        {
          "output_type": "display_data",
          "data": {
            "text/plain": [
              "<IPython.core.display.SVG object>"
            ],
            "image/svg+xml": "<svg xmlns=\"http://www.w3.org/2000/svg\" xmlns:rdkit=\"http://www.rdkit.org/xml\" xmlns:xlink=\"http://www.w3.org/1999/xlink\" version=\"1.1\" baseProfile=\"full\" xml:space=\"preserve\" width=\"250px\" height=\"200px\" viewBox=\"0 0 250 200\">\n<!-- END OF HEADER -->\n<rect style=\"opacity:1.0;fill:#FFFFFF;stroke:none\" width=\"250.0\" height=\"200.0\" x=\"0.0\" y=\"0.0\"> </rect>\n<path class=\"bond-0 atom-0 atom-1\" d=\"M 166.3,106.4 L 142.2,99.2\" style=\"fill:none;fill-rule:evenodd;stroke:#0000FF;stroke-width:2.0px;stroke-linecap:butt;stroke-linejoin:miter;stroke-opacity:1\"/>\n<path class=\"bond-0 atom-0 atom-1\" d=\"M 142.2,99.2 L 118.2,92.1\" style=\"fill:none;fill-rule:evenodd;stroke:#000000;stroke-width:2.0px;stroke-linecap:butt;stroke-linejoin:miter;stroke-opacity:1\"/>\n<path class=\"bond-1 atom-1 atom-2\" d=\"M 123.0,93.5 L 117.2,69.0\" style=\"fill:none;fill-rule:evenodd;stroke:#000000;stroke-width:2.0px;stroke-linecap:butt;stroke-linejoin:miter;stroke-opacity:1\"/>\n<path class=\"bond-1 atom-1 atom-2\" d=\"M 117.2,69.0 L 111.3,44.4\" style=\"fill:none;fill-rule:evenodd;stroke:#FF0000;stroke-width:2.0px;stroke-linecap:butt;stroke-linejoin:miter;stroke-opacity:1\"/>\n<path class=\"bond-1 atom-1 atom-2\" d=\"M 114.5,95.6 L 108.6,71.0\" style=\"fill:none;fill-rule:evenodd;stroke:#000000;stroke-width:2.0px;stroke-linecap:butt;stroke-linejoin:miter;stroke-opacity:1\"/>\n<path class=\"bond-1 atom-1 atom-2\" d=\"M 108.6,71.0 L 102.7,46.5\" style=\"fill:none;fill-rule:evenodd;stroke:#FF0000;stroke-width:2.0px;stroke-linecap:butt;stroke-linejoin:miter;stroke-opacity:1\"/>\n<path class=\"bond-2 atom-1 atom-3\" d=\"M 118.2,92.1 L 101.6,107.8\" style=\"fill:none;fill-rule:evenodd;stroke:#000000;stroke-width:2.0px;stroke-linecap:butt;stroke-linejoin:miter;stroke-opacity:1\"/>\n<path class=\"bond-2 atom-1 atom-3\" d=\"M 101.6,107.8 L 85.0,123.5\" style=\"fill:none;fill-rule:evenodd;stroke:#FF0000;stroke-width:2.0px;stroke-linecap:butt;stroke-linejoin:miter;stroke-opacity:1\"/>\n<path class=\"bond-3 atom-0 atom-4\" d=\"M 182.8,111.3 L 202.7,117.2\" style=\"fill:none;fill-rule:evenodd;stroke:#0000FF;stroke-width:2.0px;stroke-linecap:butt;stroke-linejoin:miter;stroke-opacity:1\"/>\n<path class=\"bond-3 atom-0 atom-4\" d=\"M 202.7,117.2 L 222.5,123.1\" style=\"fill:none;fill-rule:evenodd;stroke:#000000;stroke-width:2.0px;stroke-linecap:butt;stroke-linejoin:miter;stroke-opacity:1\"/>\n<path class=\"bond-4 atom-0 atom-5\" d=\"M 171.5,119.1 L 166.2,137.1\" style=\"fill:none;fill-rule:evenodd;stroke:#0000FF;stroke-width:2.0px;stroke-linecap:butt;stroke-linejoin:miter;stroke-opacity:1\"/>\n<path class=\"bond-4 atom-0 atom-5\" d=\"M 166.2,137.1 L 160.9,155.0\" style=\"fill:none;fill-rule:evenodd;stroke:#000000;stroke-width:2.0px;stroke-linecap:butt;stroke-linejoin:miter;stroke-opacity:1\"/>\n<path class=\"bond-5 atom-0 atom-6\" d=\"M 177.6,98.6 L 183.0,80.6\" style=\"fill:none;fill-rule:evenodd;stroke:#0000FF;stroke-width:2.0px;stroke-linecap:butt;stroke-linejoin:miter;stroke-opacity:1\"/>\n<path class=\"bond-5 atom-0 atom-6\" d=\"M 183.0,80.6 L 188.3,62.7\" style=\"fill:none;fill-rule:evenodd;stroke:#000000;stroke-width:2.0px;stroke-linecap:butt;stroke-linejoin:miter;stroke-opacity:1\"/>\n<path class=\"bond-6 atom-3 atom-7\" d=\"M 65.8,129.7 L 46.7,124.0\" style=\"fill:none;fill-rule:evenodd;stroke:#FF0000;stroke-width:2.0px;stroke-linecap:butt;stroke-linejoin:miter;stroke-opacity:1\"/>\n<path class=\"bond-6 atom-3 atom-7\" d=\"M 46.7,124.0 L 27.5,118.3\" style=\"fill:none;fill-rule:evenodd;stroke:#000000;stroke-width:2.0px;stroke-linecap:butt;stroke-linejoin:miter;stroke-opacity:1\"/>\n<path d=\"M 119.4,92.4 L 118.2,92.1 L 117.3,92.9\" style=\"fill:none;stroke:#000000;stroke-width:2.0px;stroke-linecap:butt;stroke-linejoin:miter;stroke-opacity:1;\"/>\n<path class=\"atom-0\" d=\"M 170.9 100.5 L 176.3 109.3 Q 176.9 110.2, 177.8 111.8 Q 178.6 113.4, 178.7 113.5 L 178.7 100.5 L 180.9 100.5 L 180.9 117.2 L 178.6 117.2 L 172.7 107.5 Q 172.1 106.4, 171.3 105.1 Q 170.6 103.8, 170.4 103.4 L 170.4 117.2 L 168.2 117.2 L 168.2 100.5 L 170.9 100.5 \" fill=\"#0000FF\"/>\n<path class=\"atom-0\" d=\"M 184.0 103.5 L 187.0 103.5 L 187.0 100.4 L 188.3 100.4 L 188.3 103.5 L 191.3 103.5 L 191.3 104.6 L 188.3 104.6 L 188.3 107.7 L 187.0 107.7 L 187.0 104.6 L 184.0 104.6 L 184.0 103.5 \" fill=\"#0000FF\"/>\n<path class=\"atom-2\" d=\"M 96.8 34.9 Q 96.8 30.9, 98.8 28.6 Q 100.8 26.4, 104.5 26.4 Q 108.2 26.4, 110.2 28.6 Q 112.1 30.9, 112.1 34.9 Q 112.1 38.9, 110.1 41.2 Q 108.1 43.5, 104.5 43.5 Q 100.8 43.5, 98.8 41.2 Q 96.8 39.0, 96.8 34.9 M 104.5 41.6 Q 107.0 41.6, 108.4 39.9 Q 109.8 38.2, 109.8 34.9 Q 109.8 31.6, 108.4 30.0 Q 107.0 28.3, 104.5 28.3 Q 101.9 28.3, 100.5 29.9 Q 99.2 31.6, 99.2 34.9 Q 99.2 38.3, 100.5 39.9 Q 101.9 41.6, 104.5 41.6 \" fill=\"#FF0000\"/>\n<path class=\"atom-3\" d=\"M 67.8 132.6 Q 67.8 128.6, 69.8 126.4 Q 71.7 124.1, 75.4 124.1 Q 79.1 124.1, 81.1 126.4 Q 83.1 128.6, 83.1 132.6 Q 83.1 136.6, 81.1 138.9 Q 79.1 141.2, 75.4 141.2 Q 71.8 141.2, 69.8 138.9 Q 67.8 136.7, 67.8 132.6 M 75.4 139.3 Q 78.0 139.3, 79.3 137.6 Q 80.7 135.9, 80.7 132.6 Q 80.7 129.3, 79.3 127.7 Q 78.0 126.0, 75.4 126.0 Q 72.9 126.0, 71.5 127.6 Q 70.1 129.3, 70.1 132.6 Q 70.1 136.0, 71.5 137.6 Q 72.9 139.3, 75.4 139.3 \" fill=\"#FF0000\"/>\n<path class=\"atom-4\" d=\"M 224.5 117.3 L 226.7 117.3 L 226.7 124.4 L 235.2 124.4 L 235.2 117.3 L 237.5 117.3 L 237.5 134.0 L 235.2 134.0 L 235.2 126.3 L 226.7 126.3 L 226.7 134.0 L 224.5 134.0 L 224.5 117.3 \" fill=\"#000000\"/>\n<path class=\"atom-5\" d=\"M 151.3 156.9 L 153.5 156.9 L 153.5 164.0 L 162.1 164.0 L 162.1 156.9 L 164.3 156.9 L 164.3 173.6 L 162.1 173.6 L 162.1 165.9 L 153.5 165.9 L 153.5 173.6 L 151.3 173.6 L 151.3 156.9 \" fill=\"#000000\"/>\n<path class=\"atom-6\" d=\"M 184.8 44.1 L 187.1 44.1 L 187.1 51.2 L 195.6 51.2 L 195.6 44.1 L 197.9 44.1 L 197.9 60.8 L 195.6 60.8 L 195.6 53.1 L 187.1 53.1 L 187.1 60.8 L 184.8 60.8 L 184.8 44.1 \" fill=\"#000000\"/>\n<path class=\"atom-7\" d=\"M 12.5 107.4 L 14.8 107.4 L 14.8 114.5 L 23.3 114.5 L 23.3 107.4 L 25.5 107.4 L 25.5 124.1 L 23.3 124.1 L 23.3 116.4 L 14.8 116.4 L 14.8 124.1 L 12.5 124.1 L 12.5 107.4 \" fill=\"#000000\"/>\n</svg>"
          },
          "metadata": {}
        },
        {
          "output_type": "stream",
          "name": "stdout",
          "text": [
            "This is Molecule 1\n"
          ]
        },
        {
          "output_type": "display_data",
          "data": {
            "text/plain": [
              "<IPython.core.display.SVG object>"
            ],
            "image/svg+xml": "<svg xmlns=\"http://www.w3.org/2000/svg\" xmlns:rdkit=\"http://www.rdkit.org/xml\" xmlns:xlink=\"http://www.w3.org/1999/xlink\" version=\"1.1\" baseProfile=\"full\" xml:space=\"preserve\" width=\"250px\" height=\"200px\" viewBox=\"0 0 250 200\">\n<!-- END OF HEADER -->\n<rect style=\"opacity:1.0;fill:#FFFFFF;stroke:none\" width=\"250.0\" height=\"200.0\" x=\"0.0\" y=\"0.0\"> </rect>\n<path class=\"bond-0 atom-0 atom-1\" d=\"M 134.4,100.0 L 100.5,100.0\" style=\"fill:none;fill-rule:evenodd;stroke:#0000FF;stroke-width:2.0px;stroke-linecap:butt;stroke-linejoin:miter;stroke-opacity:1\"/>\n<path class=\"bond-0 atom-0 atom-1\" d=\"M 100.5,100.0 L 66.6,100.0\" style=\"fill:none;fill-rule:evenodd;stroke:#000000;stroke-width:2.0px;stroke-linecap:butt;stroke-linejoin:miter;stroke-opacity:1\"/>\n<path class=\"bond-1 atom-1 atom-2\" d=\"M 73.5,100.0 L 57.0,71.5\" style=\"fill:none;fill-rule:evenodd;stroke:#000000;stroke-width:2.0px;stroke-linecap:butt;stroke-linejoin:miter;stroke-opacity:1\"/>\n<path class=\"bond-1 atom-1 atom-2\" d=\"M 57.0,71.5 L 40.6,43.0\" style=\"fill:none;fill-rule:evenodd;stroke:#FF0000;stroke-width:2.0px;stroke-linecap:butt;stroke-linejoin:miter;stroke-opacity:1\"/>\n<path class=\"bond-1 atom-1 atom-2\" d=\"M 63.2,105.9 L 46.8,77.4\" style=\"fill:none;fill-rule:evenodd;stroke:#000000;stroke-width:2.0px;stroke-linecap:butt;stroke-linejoin:miter;stroke-opacity:1\"/>\n<path class=\"bond-1 atom-1 atom-2\" d=\"M 46.8,77.4 L 30.3,48.9\" style=\"fill:none;fill-rule:evenodd;stroke:#FF0000;stroke-width:2.0px;stroke-linecap:butt;stroke-linejoin:miter;stroke-opacity:1\"/>\n<path class=\"bond-2 atom-1 atom-3\" d=\"M 66.6,100.0 L 50.9,127.2\" style=\"fill:none;fill-rule:evenodd;stroke:#000000;stroke-width:2.0px;stroke-linecap:butt;stroke-linejoin:miter;stroke-opacity:1\"/>\n<path class=\"bond-2 atom-1 atom-3\" d=\"M 50.9,127.2 L 35.2,154.4\" style=\"fill:none;fill-rule:evenodd;stroke:#FF0000;stroke-width:2.0px;stroke-linecap:butt;stroke-linejoin:miter;stroke-opacity:1\"/>\n<path class=\"bond-3 atom-0 atom-4\" d=\"M 170.5,100.0 L 191.7,100.0\" style=\"fill:none;fill-rule:evenodd;stroke:#0000FF;stroke-width:2.0px;stroke-linecap:butt;stroke-linejoin:miter;stroke-opacity:1\"/>\n<path class=\"bond-3 atom-0 atom-4\" d=\"M 191.7,100.0 L 213.0,100.0\" style=\"fill:none;fill-rule:evenodd;stroke:#000000;stroke-width:2.0px;stroke-linecap:butt;stroke-linejoin:miter;stroke-opacity:1\"/>\n<path class=\"bond-4 atom-0 atom-5\" d=\"M 145.5,113.8 L 145.5,139.4\" style=\"fill:none;fill-rule:evenodd;stroke:#0000FF;stroke-width:2.0px;stroke-linecap:butt;stroke-linejoin:miter;stroke-opacity:1\"/>\n<path class=\"bond-4 atom-0 atom-5\" d=\"M 145.5,139.4 L 145.5,165.1\" style=\"fill:none;fill-rule:evenodd;stroke:#000000;stroke-width:2.0px;stroke-linecap:butt;stroke-linejoin:miter;stroke-opacity:1\"/>\n<path class=\"bond-5 atom-0 atom-6\" d=\"M 145.5,86.2 L 145.5,60.6\" style=\"fill:none;fill-rule:evenodd;stroke:#0000FF;stroke-width:2.0px;stroke-linecap:butt;stroke-linejoin:miter;stroke-opacity:1\"/>\n<path class=\"bond-5 atom-0 atom-6\" d=\"M 145.5,60.6 L 145.5,34.9\" style=\"fill:none;fill-rule:evenodd;stroke:#000000;stroke-width:2.0px;stroke-linecap:butt;stroke-linejoin:miter;stroke-opacity:1\"/>\n<path d=\"M 68.3,100.0 L 66.6,100.0 L 65.8,101.4\" style=\"fill:none;stroke:#000000;stroke-width:2.0px;stroke-linecap:butt;stroke-linejoin:miter;stroke-opacity:1;\"/>\n<path class=\"atom-0\" d=\"M 140.5 88.8 L 147.8 100.7 Q 148.6 101.8, 149.7 103.9 Q 150.9 106.1, 151.0 106.2 L 151.0 88.8 L 153.9 88.8 L 153.9 111.2 L 150.9 111.2 L 143.0 98.2 Q 142.1 96.7, 141.1 95.0 Q 140.2 93.3, 139.9 92.7 L 139.9 111.2 L 137.0 111.2 L 137.0 88.8 L 140.5 88.8 \" fill=\"#0000FF\"/>\n<path class=\"atom-0\" d=\"M 158.1 92.9 L 162.1 92.9 L 162.1 88.7 L 163.8 88.7 L 163.8 92.9 L 167.9 92.9 L 167.9 94.4 L 163.8 94.4 L 163.8 98.5 L 162.1 98.5 L 162.1 94.4 L 158.1 94.4 L 158.1 92.9 \" fill=\"#0000FF\"/>\n<path class=\"atom-2\" d=\"M 17.0 31.8 Q 17.0 26.4, 19.6 23.4 Q 22.3 20.4, 27.2 20.4 Q 32.2 20.4, 34.8 23.4 Q 37.5 26.4, 37.5 31.8 Q 37.5 37.2, 34.8 40.3 Q 32.1 43.4, 27.2 43.4 Q 22.3 43.4, 19.6 40.3 Q 17.0 37.2, 17.0 31.8 M 27.2 40.8 Q 30.6 40.8, 32.4 38.6 Q 34.3 36.3, 34.3 31.8 Q 34.3 27.4, 32.4 25.2 Q 30.6 23.0, 27.2 23.0 Q 23.8 23.0, 21.9 25.2 Q 20.1 27.4, 20.1 31.8 Q 20.1 36.3, 21.9 38.6 Q 23.8 40.8, 27.2 40.8 \" fill=\"#FF0000\"/>\n<path class=\"atom-3\" d=\"M 17.0 168.3 Q 17.0 163.0, 19.6 160.0 Q 22.3 157.0, 27.2 157.0 Q 32.2 157.0, 34.8 160.0 Q 37.5 163.0, 37.5 168.3 Q 37.5 173.8, 34.8 176.9 Q 32.1 179.9, 27.2 179.9 Q 22.3 179.9, 19.6 176.9 Q 17.0 173.8, 17.0 168.3 M 27.2 177.4 Q 30.6 177.4, 32.4 175.1 Q 34.3 172.8, 34.3 168.3 Q 34.3 164.0, 32.4 161.7 Q 30.6 159.5, 27.2 159.5 Q 23.8 159.5, 21.9 161.7 Q 20.1 163.9, 20.1 168.3 Q 20.1 172.8, 21.9 175.1 Q 23.8 177.4, 27.2 177.4 \" fill=\"#FF0000\"/>\n<path class=\"atom-3\" d=\"M 40.6 160.6 L 48.3 160.6 L 48.3 162.3 L 40.6 162.3 L 40.6 160.6 \" fill=\"#FF0000\"/>\n<path class=\"atom-4\" d=\"M 215.6 88.8 L 218.6 88.8 L 218.6 98.3 L 230.0 98.3 L 230.0 88.8 L 233.0 88.8 L 233.0 111.2 L 230.0 111.2 L 230.0 100.9 L 218.6 100.9 L 218.6 111.2 L 215.6 111.2 L 215.6 88.8 \" fill=\"#000000\"/>\n<path class=\"atom-5\" d=\"M 136.7 167.7 L 139.8 167.7 L 139.8 177.2 L 151.2 177.2 L 151.2 167.7 L 154.2 167.7 L 154.2 190.0 L 151.2 190.0 L 151.2 179.7 L 139.8 179.7 L 139.8 190.0 L 136.7 190.0 L 136.7 167.7 \" fill=\"#000000\"/>\n<path class=\"atom-6\" d=\"M 136.7 10.0 L 139.8 10.0 L 139.8 19.5 L 151.2 19.5 L 151.2 10.0 L 154.2 10.0 L 154.2 32.3 L 151.2 32.3 L 151.2 22.0 L 139.8 22.0 L 139.8 32.3 L 136.7 32.3 L 136.7 10.0 \" fill=\"#000000\"/>\n</svg>"
          },
          "metadata": {}
        }
      ]
    },
    {
      "cell_type": "code",
      "source": [
        "from openff.interchange import Interchange"
      ],
      "metadata": {
        "id": "5-2RAwueN0DQ"
      },
      "execution_count": 29,
      "outputs": []
    },
    {
      "cell_type": "code",
      "source": [
        "inter = Interchange.from_smirnoff(force_field=ff, topology=top)"
      ],
      "metadata": {
        "id": "jarT_qXWN76B"
      },
      "execution_count": null,
      "outputs": []
    },
    {
      "cell_type": "code",
      "source": [
        "inter.to_top(\"test.top\")"
      ],
      "metadata": {
        "id": "3lfNtlY_Oq6T"
      },
      "execution_count": null,
      "outputs": []
    },
    {
      "cell_type": "code",
      "source": [],
      "metadata": {
        "id": "61TBk7goN61o"
      },
      "execution_count": null,
      "outputs": []
    },
    {
      "cell_type": "code",
      "source": [],
      "metadata": {
        "id": "4PyU1Va5MXJK"
      },
      "execution_count": null,
      "outputs": []
    }
  ]
}