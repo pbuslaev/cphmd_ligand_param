{
  "nbformat": 4,
  "nbformat_minor": 0,
  "metadata": {
    "colab": {
      "provenance": [],
      "include_colab_link": true
    },
    "kernelspec": {
      "name": "python3",
      "display_name": "Python 3"
    },
    "language_info": {
      "name": "python"
    }
  },
  "cells": [
    {
      "cell_type": "markdown",
      "metadata": {
        "id": "view-in-github",
        "colab_type": "text"
      },
      "source": [
        "<a href=\"https://colab.research.google.com/github/pbuslaev/cphmd_ligand_param/blob/main/prep_ligand_for_gmx_cphmd.ipynb\" target=\"_parent\"><img src=\"https://colab.research.google.com/assets/colab-badge.svg\" alt=\"Open In Colab\"/></a>"
      ]
    },
    {
      "cell_type": "markdown",
      "metadata": {
        "id": "06409e3b"
      },
      "source": [
        "### This notebook has to be run on Google colab"
      ]
    },
    {
      "cell_type": "markdown",
      "metadata": {
        "id": "8818275f"
      },
      "source": [
        "<a target=\"_blank\" href=\"https://colab.research.google.com/github/pbuslaev/test_ipynb/blob/main/test_user_input.ipynb\">\n",
        "  <img src=\"https://colab.research.google.com/assets/colab-badge.svg\" alt=\"Open In Colab\"/>\n",
        "</a>"
      ]
    },
    {
      "cell_type": "code",
      "execution_count": 1,
      "metadata": {
        "id": "tXHVawUbd_yp",
        "cellView": "form"
      },
      "outputs": [],
      "source": [
        "#@title Conda installation\n",
        "%%capture\n",
        "!pip install -q condacolab\n",
        "import condacolab\n",
        "condacolab.install()"
      ]
    },
    {
      "cell_type": "code",
      "source": [
        "#@title Intall packages\n",
        "%%capture\n",
        "!pip install dimorphite_dl --upgrade\n",
        "!mamba install -c conda-forge rdkit sympy openff-toolkit"
      ],
      "metadata": {
        "id": "HApR6x6ptwjO",
        "cellView": "form"
      },
      "execution_count": 1,
      "outputs": []
    },
    {
      "cell_type": "code",
      "source": [
        "#@title Import packages\n",
        "from rdkit import Chem\n",
        "from rdkit.Chem import AllChem\n",
        "from rdkit.Chem import Draw\n",
        "from rdkit.Chem.Draw import rdMolDraw2D\n",
        "from rdkit.Chem.Draw import IPythonConsole\n",
        "IPythonConsole.molSize = 300,300\n",
        "from IPython.display import SVG\n",
        "from dimorphite_dl import DimorphiteDL\n",
        "\n",
        "from openff.toolkit import Molecule, Topology, ForceField\n",
        "\n",
        "from IPython.display import HTML, display\n",
        "\n",
        "def set_css():\n",
        "  display(HTML('''\n",
        "  <style>\n",
        "    pre {\n",
        "        white-space: pre-wrap;\n",
        "    }\n",
        "  </style>\n",
        "  '''))\n",
        "  get_ipython().events.register('pre_run_cell', set_css)"
      ],
      "metadata": {
        "id": "9F1Rak-meOlC",
        "cellView": "form"
      },
      "execution_count": 2,
      "outputs": []
    },
    {
      "cell_type": "code",
      "source": [
        "#@title Input molecule\n",
        "#@markdown Please provide molecule SMILES. We will generate its protonation\n",
        "#@markdown states. Also, specify pH range for which to create states.\n",
        "# As a two state example we will use SM-26 from SAMP7 challenge\n",
        "# (https://github.com/samplchallenges/SAMPL7/tree/master/physical_property)\n",
        "# SMILES: O=S(CCC1=CC=CC=C1)(NC(C)=O)=O\n",
        "# test 1: c1cc(N)c(N)cc1\n",
        "# test 2: c1cc(CO)cc(CO)c1\n",
        "# pKa = 4.91\n",
        "# (https://github.com/samplchallenges/SAMPL7/blob/master/physical_property/experimental_data/Experimental_Properties_of_SAMPL7_Compounds.pdf)\n",
        "smiles = \"c1cc(CO)cc(CO)c1\" #@param {type: \"string\"}\n",
        "min_ph = -10 #@param {type: \"number\"}\n",
        "max_ph = 24 #@param {type: \"number\"}\n",
        "dimorphite_dl = DimorphiteDL(\n",
        "    min_ph=min_ph,\n",
        "    max_ph=max_ph,\n",
        "    max_variants=256,\n",
        "    label_states=False,\n",
        "    pka_precision=0.1\n",
        ")\n",
        "mols = [Chem.MolFromSmiles(mol) for mol in dimorphite_dl.protonate(smiles)]\n",
        "mols = sorted(mols, key = lambda x: Chem.GetFormalCharge(x), reverse=True)\n",
        "# Now mols[0] is the highest protonation state\n",
        "for i, m in enumerate(mols):\n",
        "    print(f\"This is Molecule {i}\")\n",
        "    d2d = rdMolDraw2D.MolDraw2DSVG(250, 200)\n",
        "    d2d.DrawMolecule(m)\n",
        "    d2d.FinishDrawing()\n",
        "    display(SVG(d2d.GetDrawingText()))"
      ],
      "metadata": {
        "colab": {
          "base_uri": "https://localhost:8080/",
          "height": 687
        },
        "id": "HxjpTW0CkrDS",
        "outputId": "52100bf1-5279-4501-fa58-e45c86b54bf4"
      },
      "execution_count": 53,
      "outputs": [
        {
          "output_type": "stream",
          "name": "stdout",
          "text": [
            "This is Molecule 0\n"
          ]
        },
        {
          "output_type": "display_data",
          "data": {
            "text/plain": [
              "<IPython.core.display.SVG object>"
            ],
            "image/svg+xml": "<svg xmlns=\"http://www.w3.org/2000/svg\" xmlns:rdkit=\"http://www.rdkit.org/xml\" xmlns:xlink=\"http://www.w3.org/1999/xlink\" version=\"1.1\" baseProfile=\"full\" xml:space=\"preserve\" width=\"250px\" height=\"200px\" viewBox=\"0 0 250 200\">\n<!-- END OF HEADER -->\n<rect style=\"opacity:1.0;fill:#FFFFFF;stroke:none\" width=\"250.0\" height=\"200.0\" x=\"0.0\" y=\"0.0\"> </rect>\n<path class=\"bond-0 atom-0 atom-1\" d=\"M 36.6,129.5 L 53.1,134.8\" style=\"fill:none;fill-rule:evenodd;stroke:#FF0000;stroke-width:2.0px;stroke-linecap:butt;stroke-linejoin:miter;stroke-opacity:1\"/>\n<path class=\"bond-0 atom-0 atom-1\" d=\"M 53.1,134.8 L 69.7,140.2\" style=\"fill:none;fill-rule:evenodd;stroke:#000000;stroke-width:2.0px;stroke-linecap:butt;stroke-linejoin:miter;stroke-opacity:1\"/>\n<path class=\"bond-1 atom-1 atom-2\" d=\"M 69.7,140.2 L 100.9,112.1\" style=\"fill:none;fill-rule:evenodd;stroke:#000000;stroke-width:2.0px;stroke-linecap:butt;stroke-linejoin:miter;stroke-opacity:1\"/>\n<path class=\"bond-2 atom-2 atom-3\" d=\"M 100.9,112.1 L 92.2,71.0\" style=\"fill:none;fill-rule:evenodd;stroke:#000000;stroke-width:2.0px;stroke-linecap:butt;stroke-linejoin:miter;stroke-opacity:1\"/>\n<path class=\"bond-2 atom-2 atom-3\" d=\"M 106.3,107.2 L 99.1,73.2\" style=\"fill:none;fill-rule:evenodd;stroke:#000000;stroke-width:2.0px;stroke-linecap:butt;stroke-linejoin:miter;stroke-opacity:1\"/>\n<path class=\"bond-3 atom-3 atom-4\" d=\"M 92.2,71.0 L 123.4,42.8\" style=\"fill:none;fill-rule:evenodd;stroke:#000000;stroke-width:2.0px;stroke-linecap:butt;stroke-linejoin:miter;stroke-opacity:1\"/>\n<path class=\"bond-4 atom-4 atom-5\" d=\"M 123.4,42.8 L 163.4,55.8\" style=\"fill:none;fill-rule:evenodd;stroke:#000000;stroke-width:2.0px;stroke-linecap:butt;stroke-linejoin:miter;stroke-opacity:1\"/>\n<path class=\"bond-4 atom-4 atom-5\" d=\"M 124.9,49.9 L 158.0,60.7\" style=\"fill:none;fill-rule:evenodd;stroke:#000000;stroke-width:2.0px;stroke-linecap:butt;stroke-linejoin:miter;stroke-opacity:1\"/>\n<path class=\"bond-5 atom-5 atom-6\" d=\"M 163.4,55.8 L 172.1,96.9\" style=\"fill:none;fill-rule:evenodd;stroke:#000000;stroke-width:2.0px;stroke-linecap:butt;stroke-linejoin:miter;stroke-opacity:1\"/>\n<path class=\"bond-6 atom-6 atom-7\" d=\"M 172.1,96.9 L 212.1,109.9\" style=\"fill:none;fill-rule:evenodd;stroke:#000000;stroke-width:2.0px;stroke-linecap:butt;stroke-linejoin:miter;stroke-opacity:1\"/>\n<path class=\"bond-7 atom-7 atom-8\" d=\"M 212.1,109.9 L 215.7,126.7\" style=\"fill:none;fill-rule:evenodd;stroke:#000000;stroke-width:2.0px;stroke-linecap:butt;stroke-linejoin:miter;stroke-opacity:1\"/>\n<path class=\"bond-7 atom-7 atom-8\" d=\"M 215.7,126.7 L 219.3,143.6\" style=\"fill:none;fill-rule:evenodd;stroke:#FF0000;stroke-width:2.0px;stroke-linecap:butt;stroke-linejoin:miter;stroke-opacity:1\"/>\n<path class=\"bond-8 atom-6 atom-9\" d=\"M 172.1,96.9 L 140.9,125.0\" style=\"fill:none;fill-rule:evenodd;stroke:#000000;stroke-width:2.0px;stroke-linecap:butt;stroke-linejoin:miter;stroke-opacity:1\"/>\n<path class=\"bond-8 atom-6 atom-9\" d=\"M 165.2,94.7 L 139.4,117.9\" style=\"fill:none;fill-rule:evenodd;stroke:#000000;stroke-width:2.0px;stroke-linecap:butt;stroke-linejoin:miter;stroke-opacity:1\"/>\n<path class=\"bond-9 atom-9 atom-2\" d=\"M 140.9,125.0 L 100.9,112.1\" style=\"fill:none;fill-rule:evenodd;stroke:#000000;stroke-width:2.0px;stroke-linecap:butt;stroke-linejoin:miter;stroke-opacity:1\"/>\n<path d=\"M 68.9,139.9 L 69.7,140.2 L 71.3,138.8\" style=\"fill:none;stroke:#000000;stroke-width:2.0px;stroke-linecap:butt;stroke-linejoin:miter;stroke-opacity:1;\"/>\n<path d=\"M 92.6,73.0 L 92.2,71.0 L 93.7,69.5\" style=\"fill:none;stroke:#000000;stroke-width:2.0px;stroke-linecap:butt;stroke-linejoin:miter;stroke-opacity:1;\"/>\n<path d=\"M 121.8,44.2 L 123.4,42.8 L 125.4,43.5\" style=\"fill:none;stroke:#000000;stroke-width:2.0px;stroke-linecap:butt;stroke-linejoin:miter;stroke-opacity:1;\"/>\n<path d=\"M 161.4,55.1 L 163.4,55.8 L 163.8,57.8\" style=\"fill:none;stroke:#000000;stroke-width:2.0px;stroke-linecap:butt;stroke-linejoin:miter;stroke-opacity:1;\"/>\n<path d=\"M 210.1,109.2 L 212.1,109.9 L 212.3,110.7\" style=\"fill:none;stroke:#000000;stroke-width:2.0px;stroke-linecap:butt;stroke-linejoin:miter;stroke-opacity:1;\"/>\n<path d=\"M 142.5,123.6 L 140.9,125.0 L 138.9,124.4\" style=\"fill:none;stroke:#000000;stroke-width:2.0px;stroke-linecap:butt;stroke-linejoin:miter;stroke-opacity:1;\"/>\n<path class=\"atom-0\" d=\"M 12.5 121.3 L 14.1 121.3 L 14.1 126.4 L 20.2 126.4 L 20.2 121.3 L 21.8 121.3 L 21.8 133.3 L 20.2 133.3 L 20.2 127.8 L 14.1 127.8 L 14.1 133.3 L 12.5 133.3 L 12.5 121.3 \" fill=\"#FF0000\"/>\n<path class=\"atom-0\" d=\"M 24.3 127.3 Q 24.3 124.4, 25.7 122.8 Q 27.1 121.2, 29.7 121.2 Q 32.4 121.2, 33.8 122.8 Q 35.2 124.4, 35.2 127.3 Q 35.2 130.2, 33.8 131.8 Q 32.3 133.4, 29.7 133.4 Q 27.1 133.4, 25.7 131.8 Q 24.3 130.2, 24.3 127.3 M 29.7 132.1 Q 31.5 132.1, 32.5 130.9 Q 33.5 129.7, 33.5 127.3 Q 33.5 124.9, 32.5 123.8 Q 31.5 122.6, 29.7 122.6 Q 27.9 122.6, 26.9 123.7 Q 25.9 124.9, 25.9 127.3 Q 25.9 129.7, 26.9 130.9 Q 27.9 132.1, 29.7 132.1 \" fill=\"#FF0000\"/>\n<path class=\"atom-8\" d=\"M 215.4 151.0 Q 215.4 148.2, 216.8 146.6 Q 218.2 145.0, 220.9 145.0 Q 223.5 145.0, 224.9 146.6 Q 226.3 148.2, 226.3 151.0 Q 226.3 153.9, 224.9 155.6 Q 223.5 157.2, 220.9 157.2 Q 218.2 157.2, 216.8 155.6 Q 215.4 153.9, 215.4 151.0 M 220.9 155.8 Q 222.7 155.8, 223.7 154.6 Q 224.7 153.4, 224.7 151.0 Q 224.7 148.7, 223.7 147.5 Q 222.7 146.3, 220.9 146.3 Q 219.1 146.3, 218.1 147.5 Q 217.1 148.7, 217.1 151.0 Q 217.1 153.4, 218.1 154.6 Q 219.1 155.8, 220.9 155.8 \" fill=\"#FF0000\"/>\n<path class=\"atom-8\" d=\"M 228.2 145.1 L 229.8 145.1 L 229.8 150.2 L 235.9 150.2 L 235.9 145.1 L 237.5 145.1 L 237.5 157.0 L 235.9 157.0 L 235.9 151.5 L 229.8 151.5 L 229.8 157.0 L 228.2 157.0 L 228.2 145.1 \" fill=\"#FF0000\"/>\n</svg>"
          },
          "metadata": {}
        },
        {
          "output_type": "stream",
          "name": "stdout",
          "text": [
            "This is Molecule 1\n"
          ]
        },
        {
          "output_type": "display_data",
          "data": {
            "text/plain": [
              "<IPython.core.display.SVG object>"
            ],
            "image/svg+xml": "<svg xmlns=\"http://www.w3.org/2000/svg\" xmlns:rdkit=\"http://www.rdkit.org/xml\" xmlns:xlink=\"http://www.w3.org/1999/xlink\" version=\"1.1\" baseProfile=\"full\" xml:space=\"preserve\" width=\"250px\" height=\"200px\" viewBox=\"0 0 250 200\">\n<!-- END OF HEADER -->\n<rect style=\"opacity:1.0;fill:#FFFFFF;stroke:none\" width=\"250.0\" height=\"200.0\" x=\"0.0\" y=\"0.0\"> </rect>\n<path class=\"bond-0 atom-0 atom-1\" d=\"M 25.5,131.1 L 43.0,136.7\" style=\"fill:none;fill-rule:evenodd;stroke:#FF0000;stroke-width:2.0px;stroke-linecap:butt;stroke-linejoin:miter;stroke-opacity:1\"/>\n<path class=\"bond-0 atom-0 atom-1\" d=\"M 43.0,136.7 L 60.5,142.4\" style=\"fill:none;fill-rule:evenodd;stroke:#000000;stroke-width:2.0px;stroke-linecap:butt;stroke-linejoin:miter;stroke-opacity:1\"/>\n<path class=\"bond-1 atom-1 atom-2\" d=\"M 60.5,142.4 L 93.4,112.7\" style=\"fill:none;fill-rule:evenodd;stroke:#000000;stroke-width:2.0px;stroke-linecap:butt;stroke-linejoin:miter;stroke-opacity:1\"/>\n<path class=\"bond-2 atom-2 atom-3\" d=\"M 93.4,112.7 L 84.2,69.4\" style=\"fill:none;fill-rule:evenodd;stroke:#000000;stroke-width:2.0px;stroke-linecap:butt;stroke-linejoin:miter;stroke-opacity:1\"/>\n<path class=\"bond-2 atom-2 atom-3\" d=\"M 99.1,107.6 L 91.5,71.7\" style=\"fill:none;fill-rule:evenodd;stroke:#000000;stroke-width:2.0px;stroke-linecap:butt;stroke-linejoin:miter;stroke-opacity:1\"/>\n<path class=\"bond-3 atom-3 atom-4\" d=\"M 84.2,69.4 L 117.1,39.7\" style=\"fill:none;fill-rule:evenodd;stroke:#000000;stroke-width:2.0px;stroke-linecap:butt;stroke-linejoin:miter;stroke-opacity:1\"/>\n<path class=\"bond-4 atom-4 atom-5\" d=\"M 117.1,39.7 L 159.3,53.4\" style=\"fill:none;fill-rule:evenodd;stroke:#000000;stroke-width:2.0px;stroke-linecap:butt;stroke-linejoin:miter;stroke-opacity:1\"/>\n<path class=\"bond-4 atom-4 atom-5\" d=\"M 118.7,47.2 L 153.6,58.5\" style=\"fill:none;fill-rule:evenodd;stroke:#000000;stroke-width:2.0px;stroke-linecap:butt;stroke-linejoin:miter;stroke-opacity:1\"/>\n<path class=\"bond-5 atom-5 atom-6\" d=\"M 159.3,53.4 L 168.5,96.7\" style=\"fill:none;fill-rule:evenodd;stroke:#000000;stroke-width:2.0px;stroke-linecap:butt;stroke-linejoin:miter;stroke-opacity:1\"/>\n<path class=\"bond-6 atom-6 atom-7\" d=\"M 168.5,96.7 L 210.7,110.4\" style=\"fill:none;fill-rule:evenodd;stroke:#000000;stroke-width:2.0px;stroke-linecap:butt;stroke-linejoin:miter;stroke-opacity:1\"/>\n<path class=\"bond-7 atom-7 atom-8\" d=\"M 210.7,110.4 L 214.5,128.2\" style=\"fill:none;fill-rule:evenodd;stroke:#000000;stroke-width:2.0px;stroke-linecap:butt;stroke-linejoin:miter;stroke-opacity:1\"/>\n<path class=\"bond-7 atom-7 atom-8\" d=\"M 214.5,128.2 L 218.3,146.0\" style=\"fill:none;fill-rule:evenodd;stroke:#FF0000;stroke-width:2.0px;stroke-linecap:butt;stroke-linejoin:miter;stroke-opacity:1\"/>\n<path class=\"bond-8 atom-6 atom-9\" d=\"M 168.5,96.7 L 135.6,126.4\" style=\"fill:none;fill-rule:evenodd;stroke:#000000;stroke-width:2.0px;stroke-linecap:butt;stroke-linejoin:miter;stroke-opacity:1\"/>\n<path class=\"bond-8 atom-6 atom-9\" d=\"M 161.2,94.4 L 134.0,118.9\" style=\"fill:none;fill-rule:evenodd;stroke:#000000;stroke-width:2.0px;stroke-linecap:butt;stroke-linejoin:miter;stroke-opacity:1\"/>\n<path class=\"bond-9 atom-9 atom-2\" d=\"M 135.6,126.4 L 93.4,112.7\" style=\"fill:none;fill-rule:evenodd;stroke:#000000;stroke-width:2.0px;stroke-linecap:butt;stroke-linejoin:miter;stroke-opacity:1\"/>\n<path d=\"M 59.6,142.1 L 60.5,142.4 L 62.1,140.9\" style=\"fill:none;stroke:#000000;stroke-width:2.0px;stroke-linecap:butt;stroke-linejoin:miter;stroke-opacity:1;\"/>\n<path d=\"M 84.6,71.5 L 84.2,69.4 L 85.8,67.9\" style=\"fill:none;stroke:#000000;stroke-width:2.0px;stroke-linecap:butt;stroke-linejoin:miter;stroke-opacity:1;\"/>\n<path d=\"M 115.5,41.1 L 117.1,39.7 L 119.2,40.3\" style=\"fill:none;stroke:#000000;stroke-width:2.0px;stroke-linecap:butt;stroke-linejoin:miter;stroke-opacity:1;\"/>\n<path d=\"M 157.2,52.7 L 159.3,53.4 L 159.7,55.5\" style=\"fill:none;stroke:#000000;stroke-width:2.0px;stroke-linecap:butt;stroke-linejoin:miter;stroke-opacity:1;\"/>\n<path d=\"M 208.6,109.7 L 210.7,110.4 L 210.9,111.3\" style=\"fill:none;stroke:#000000;stroke-width:2.0px;stroke-linecap:butt;stroke-linejoin:miter;stroke-opacity:1;\"/>\n<path d=\"M 137.2,124.9 L 135.6,126.4 L 133.5,125.7\" style=\"fill:none;stroke:#000000;stroke-width:2.0px;stroke-linecap:butt;stroke-linejoin:miter;stroke-opacity:1;\"/>\n<path class=\"atom-0\" d=\"M 12.5 128.8 Q 12.5 125.8, 14.0 124.1 Q 15.5 122.4, 18.3 122.4 Q 21.1 122.4, 22.5 124.1 Q 24.0 125.8, 24.0 128.8 Q 24.0 131.8, 22.5 133.6 Q 21.0 135.3, 18.3 135.3 Q 15.5 135.3, 14.0 133.6 Q 12.5 131.8, 12.5 128.8 M 18.3 133.9 Q 20.2 133.9, 21.2 132.6 Q 22.3 131.3, 22.3 128.8 Q 22.3 126.3, 21.2 125.1 Q 20.2 123.8, 18.3 123.8 Q 16.3 123.8, 15.3 125.0 Q 14.3 126.3, 14.3 128.8 Q 14.3 131.3, 15.3 132.6 Q 16.3 133.9, 18.3 133.9 \" fill=\"#FF0000\"/>\n<path class=\"atom-0\" d=\"M 25.8 124.4 L 30.1 124.4 L 30.1 125.4 L 25.8 125.4 L 25.8 124.4 \" fill=\"#FF0000\"/>\n<path class=\"atom-8\" d=\"M 214.2 153.8 Q 214.2 150.8, 215.7 149.1 Q 217.2 147.4, 220.0 147.4 Q 222.7 147.4, 224.2 149.1 Q 225.7 150.8, 225.7 153.8 Q 225.7 156.9, 224.2 158.6 Q 222.7 160.3, 220.0 160.3 Q 217.2 160.3, 215.7 158.6 Q 214.2 156.9, 214.2 153.8 M 220.0 158.9 Q 221.9 158.9, 222.9 157.6 Q 223.9 156.3, 223.9 153.8 Q 223.9 151.4, 222.9 150.1 Q 221.9 148.9, 220.0 148.9 Q 218.0 148.9, 217.0 150.1 Q 216.0 151.3, 216.0 153.8 Q 216.0 156.4, 217.0 157.6 Q 218.0 158.9, 220.0 158.9 \" fill=\"#FF0000\"/>\n<path class=\"atom-8\" d=\"M 227.7 147.6 L 229.4 147.6 L 229.4 152.9 L 235.8 152.9 L 235.8 147.6 L 237.5 147.6 L 237.5 160.1 L 235.8 160.1 L 235.8 154.3 L 229.4 154.3 L 229.4 160.1 L 227.7 160.1 L 227.7 147.6 \" fill=\"#FF0000\"/>\n</svg>"
          },
          "metadata": {}
        },
        {
          "output_type": "stream",
          "name": "stdout",
          "text": [
            "This is Molecule 2\n"
          ]
        },
        {
          "output_type": "display_data",
          "data": {
            "text/plain": [
              "<IPython.core.display.SVG object>"
            ],
            "image/svg+xml": "<svg xmlns=\"http://www.w3.org/2000/svg\" xmlns:rdkit=\"http://www.rdkit.org/xml\" xmlns:xlink=\"http://www.w3.org/1999/xlink\" version=\"1.1\" baseProfile=\"full\" xml:space=\"preserve\" width=\"250px\" height=\"200px\" viewBox=\"0 0 250 200\">\n<!-- END OF HEADER -->\n<rect style=\"opacity:1.0;fill:#FFFFFF;stroke:none\" width=\"250.0\" height=\"200.0\" x=\"0.0\" y=\"0.0\"> </rect>\n<path class=\"bond-0 atom-0 atom-1\" d=\"M 25.8,131.9 L 43.8,137.7\" style=\"fill:none;fill-rule:evenodd;stroke:#FF0000;stroke-width:2.0px;stroke-linecap:butt;stroke-linejoin:miter;stroke-opacity:1\"/>\n<path class=\"bond-0 atom-0 atom-1\" d=\"M 43.8,137.7 L 61.7,143.5\" style=\"fill:none;fill-rule:evenodd;stroke:#000000;stroke-width:2.0px;stroke-linecap:butt;stroke-linejoin:miter;stroke-opacity:1\"/>\n<path class=\"bond-1 atom-1 atom-2\" d=\"M 61.7,143.5 L 95.5,113.1\" style=\"fill:none;fill-rule:evenodd;stroke:#000000;stroke-width:2.0px;stroke-linecap:butt;stroke-linejoin:miter;stroke-opacity:1\"/>\n<path class=\"bond-2 atom-2 atom-3\" d=\"M 95.5,113.1 L 86.0,68.6\" style=\"fill:none;fill-rule:evenodd;stroke:#000000;stroke-width:2.0px;stroke-linecap:butt;stroke-linejoin:miter;stroke-opacity:1\"/>\n<path class=\"bond-2 atom-2 atom-3\" d=\"M 101.4,107.8 L 93.5,71.0\" style=\"fill:none;fill-rule:evenodd;stroke:#000000;stroke-width:2.0px;stroke-linecap:butt;stroke-linejoin:miter;stroke-opacity:1\"/>\n<path class=\"bond-3 atom-3 atom-4\" d=\"M 86.0,68.6 L 119.8,38.1\" style=\"fill:none;fill-rule:evenodd;stroke:#000000;stroke-width:2.0px;stroke-linecap:butt;stroke-linejoin:miter;stroke-opacity:1\"/>\n<path class=\"bond-4 atom-4 atom-5\" d=\"M 119.8,38.1 L 163.1,52.1\" style=\"fill:none;fill-rule:evenodd;stroke:#000000;stroke-width:2.0px;stroke-linecap:butt;stroke-linejoin:miter;stroke-opacity:1\"/>\n<path class=\"bond-4 atom-4 atom-5\" d=\"M 121.5,45.8 L 157.2,57.4\" style=\"fill:none;fill-rule:evenodd;stroke:#000000;stroke-width:2.0px;stroke-linecap:butt;stroke-linejoin:miter;stroke-opacity:1\"/>\n<path class=\"bond-5 atom-5 atom-6\" d=\"M 163.1,52.1 L 172.6,96.6\" style=\"fill:none;fill-rule:evenodd;stroke:#000000;stroke-width:2.0px;stroke-linecap:butt;stroke-linejoin:miter;stroke-opacity:1\"/>\n<path class=\"bond-6 atom-6 atom-7\" d=\"M 172.6,96.6 L 215.9,110.7\" style=\"fill:none;fill-rule:evenodd;stroke:#000000;stroke-width:2.0px;stroke-linecap:butt;stroke-linejoin:miter;stroke-opacity:1\"/>\n<path class=\"bond-7 atom-7 atom-8\" d=\"M 215.9,110.7 L 219.7,128.9\" style=\"fill:none;fill-rule:evenodd;stroke:#000000;stroke-width:2.0px;stroke-linecap:butt;stroke-linejoin:miter;stroke-opacity:1\"/>\n<path class=\"bond-7 atom-7 atom-8\" d=\"M 219.7,128.9 L 223.6,147.2\" style=\"fill:none;fill-rule:evenodd;stroke:#FF0000;stroke-width:2.0px;stroke-linecap:butt;stroke-linejoin:miter;stroke-opacity:1\"/>\n<path class=\"bond-8 atom-6 atom-9\" d=\"M 172.6,96.6 L 138.8,127.1\" style=\"fill:none;fill-rule:evenodd;stroke:#000000;stroke-width:2.0px;stroke-linecap:butt;stroke-linejoin:miter;stroke-opacity:1\"/>\n<path class=\"bond-8 atom-6 atom-9\" d=\"M 165.1,94.2 L 137.1,119.4\" style=\"fill:none;fill-rule:evenodd;stroke:#000000;stroke-width:2.0px;stroke-linecap:butt;stroke-linejoin:miter;stroke-opacity:1\"/>\n<path class=\"bond-9 atom-9 atom-2\" d=\"M 138.8,127.1 L 95.5,113.1\" style=\"fill:none;fill-rule:evenodd;stroke:#000000;stroke-width:2.0px;stroke-linecap:butt;stroke-linejoin:miter;stroke-opacity:1\"/>\n<path d=\"M 60.8,143.2 L 61.7,143.5 L 63.4,142.0\" style=\"fill:none;stroke:#000000;stroke-width:2.0px;stroke-linecap:butt;stroke-linejoin:miter;stroke-opacity:1;\"/>\n<path d=\"M 86.5,70.8 L 86.0,68.6 L 87.7,67.0\" style=\"fill:none;stroke:#000000;stroke-width:2.0px;stroke-linecap:butt;stroke-linejoin:miter;stroke-opacity:1;\"/>\n<path d=\"M 118.1,39.6 L 119.8,38.1 L 122.0,38.8\" style=\"fill:none;stroke:#000000;stroke-width:2.0px;stroke-linecap:butt;stroke-linejoin:miter;stroke-opacity:1;\"/>\n<path d=\"M 160.9,51.4 L 163.1,52.1 L 163.6,54.4\" style=\"fill:none;stroke:#000000;stroke-width:2.0px;stroke-linecap:butt;stroke-linejoin:miter;stroke-opacity:1;\"/>\n<path d=\"M 213.7,110.0 L 215.9,110.7 L 216.1,111.6\" style=\"fill:none;stroke:#000000;stroke-width:2.0px;stroke-linecap:butt;stroke-linejoin:miter;stroke-opacity:1;\"/>\n<path d=\"M 140.5,125.6 L 138.8,127.1 L 136.6,126.4\" style=\"fill:none;stroke:#000000;stroke-width:2.0px;stroke-linecap:butt;stroke-linejoin:miter;stroke-opacity:1;\"/>\n<path class=\"atom-0\" d=\"M 12.5 129.5 Q 12.5 126.4, 14.0 124.7 Q 15.6 123.0, 18.4 123.0 Q 21.3 123.0, 22.8 124.7 Q 24.3 126.4, 24.3 129.5 Q 24.3 132.6, 22.8 134.4 Q 21.2 136.2, 18.4 136.2 Q 15.6 136.2, 14.0 134.4 Q 12.5 132.7, 12.5 129.5 M 18.4 134.7 Q 20.4 134.7, 21.4 133.4 Q 22.5 132.1, 22.5 129.5 Q 22.5 127.0, 21.4 125.7 Q 20.4 124.4, 18.4 124.4 Q 16.4 124.4, 15.4 125.7 Q 14.3 127.0, 14.3 129.5 Q 14.3 132.1, 15.4 133.4 Q 16.4 134.7, 18.4 134.7 \" fill=\"#FF0000\"/>\n<path class=\"atom-0\" d=\"M 26.2 125.1 L 30.6 125.1 L 30.6 126.0 L 26.2 126.0 L 26.2 125.1 \" fill=\"#FF0000\"/>\n<path class=\"atom-8\" d=\"M 219.4 155.2 Q 219.4 152.1, 221.0 150.4 Q 222.5 148.7, 225.3 148.7 Q 228.2 148.7, 229.7 150.4 Q 231.3 152.1, 231.3 155.2 Q 231.3 158.4, 229.7 160.1 Q 228.2 161.9, 225.3 161.9 Q 222.5 161.9, 221.0 160.1 Q 219.4 158.4, 219.4 155.2 M 225.3 160.4 Q 227.3 160.4, 228.4 159.1 Q 229.4 157.8, 229.4 155.2 Q 229.4 152.7, 228.4 151.4 Q 227.3 150.1, 225.3 150.1 Q 223.4 150.1, 222.3 151.4 Q 221.2 152.7, 221.2 155.2 Q 221.2 157.8, 222.3 159.1 Q 223.4 160.4, 225.3 160.4 \" fill=\"#FF0000\"/>\n<path class=\"atom-8\" d=\"M 233.1 150.8 L 237.5 150.8 L 237.5 151.7 L 233.1 151.7 L 233.1 150.8 \" fill=\"#FF0000\"/>\n</svg>"
          },
          "metadata": {}
        }
      ]
    },
    {
      "cell_type": "code",
      "source": [
        "#@title Select molecules\n",
        "#@markdown Which molecule states do you want to use?\n",
        "#@markdown The molecule ids are shown in the previous cell.\n",
        "mol1 = True #@param {type:\"boolean\"}\n",
        "mol2 = True #@param {type:\"boolean\"}\n",
        "mol3 = True #@param {type:\"boolean\"}\n",
        "mol4 = True #@param {type:\"boolean\"}\n",
        "mol5 = True #@param {type:\"boolean\"}\n",
        "mol6 = False #@param {type:\"boolean\"}\n",
        "mol7 = False #@param {type:\"boolean\"}\n",
        "mol8 = False #@param {type:\"boolean\"}\n",
        "mol9 = False #@param {type:\"boolean\"}\n",
        "mol10 = False #@param {type:\"boolean\"}\n",
        "\n",
        "mols_to_use = [\n",
        "    mol1, mol2, mol3, mol4, mol5, mol6, mol7, mol8, mol9, mol10,\n",
        "][:len(mols)]\n",
        "\n",
        "mols = [mols[i] for i in range(len(mols)) if mols_to_use[i]]"
      ],
      "metadata": {
        "id": "6cC1ul8MS8ZO"
      },
      "execution_count": 54,
      "outputs": []
    },
    {
      "cell_type": "code",
      "source": [
        "#@title Selected molecules\n",
        "#@markdown The foloweing molecules will be used in the furhter analysis.\n",
        "for i, m in enumerate(mols):\n",
        "    print(f\"This is Molecule {i}\")\n",
        "    d2d = rdMolDraw2D.MolDraw2DSVG(250, 200)\n",
        "    d2d.DrawMolecule(m)\n",
        "    d2d.FinishDrawing()\n",
        "    display(SVG(d2d.GetDrawingText()))"
      ],
      "metadata": {
        "colab": {
          "base_uri": "https://localhost:8080/",
          "height": 687
        },
        "id": "VfSF4T0PV3XY",
        "outputId": "4cef281e-9173-428a-95e3-5c639b103c3c"
      },
      "execution_count": 55,
      "outputs": [
        {
          "output_type": "stream",
          "name": "stdout",
          "text": [
            "This is Molecule 0\n"
          ]
        },
        {
          "output_type": "display_data",
          "data": {
            "text/plain": [
              "<IPython.core.display.SVG object>"
            ],
            "image/svg+xml": "<svg xmlns=\"http://www.w3.org/2000/svg\" xmlns:rdkit=\"http://www.rdkit.org/xml\" xmlns:xlink=\"http://www.w3.org/1999/xlink\" version=\"1.1\" baseProfile=\"full\" xml:space=\"preserve\" width=\"250px\" height=\"200px\" viewBox=\"0 0 250 200\">\n<!-- END OF HEADER -->\n<rect style=\"opacity:1.0;fill:#FFFFFF;stroke:none\" width=\"250.0\" height=\"200.0\" x=\"0.0\" y=\"0.0\"> </rect>\n<path class=\"bond-0 atom-0 atom-1\" d=\"M 36.6,129.5 L 53.1,134.8\" style=\"fill:none;fill-rule:evenodd;stroke:#FF0000;stroke-width:2.0px;stroke-linecap:butt;stroke-linejoin:miter;stroke-opacity:1\"/>\n<path class=\"bond-0 atom-0 atom-1\" d=\"M 53.1,134.8 L 69.7,140.2\" style=\"fill:none;fill-rule:evenodd;stroke:#000000;stroke-width:2.0px;stroke-linecap:butt;stroke-linejoin:miter;stroke-opacity:1\"/>\n<path class=\"bond-1 atom-1 atom-2\" d=\"M 69.7,140.2 L 100.9,112.1\" style=\"fill:none;fill-rule:evenodd;stroke:#000000;stroke-width:2.0px;stroke-linecap:butt;stroke-linejoin:miter;stroke-opacity:1\"/>\n<path class=\"bond-2 atom-2 atom-3\" d=\"M 100.9,112.1 L 92.2,71.0\" style=\"fill:none;fill-rule:evenodd;stroke:#000000;stroke-width:2.0px;stroke-linecap:butt;stroke-linejoin:miter;stroke-opacity:1\"/>\n<path class=\"bond-2 atom-2 atom-3\" d=\"M 106.3,107.2 L 99.1,73.2\" style=\"fill:none;fill-rule:evenodd;stroke:#000000;stroke-width:2.0px;stroke-linecap:butt;stroke-linejoin:miter;stroke-opacity:1\"/>\n<path class=\"bond-3 atom-3 atom-4\" d=\"M 92.2,71.0 L 123.4,42.8\" style=\"fill:none;fill-rule:evenodd;stroke:#000000;stroke-width:2.0px;stroke-linecap:butt;stroke-linejoin:miter;stroke-opacity:1\"/>\n<path class=\"bond-4 atom-4 atom-5\" d=\"M 123.4,42.8 L 163.4,55.8\" style=\"fill:none;fill-rule:evenodd;stroke:#000000;stroke-width:2.0px;stroke-linecap:butt;stroke-linejoin:miter;stroke-opacity:1\"/>\n<path class=\"bond-4 atom-4 atom-5\" d=\"M 124.9,49.9 L 158.0,60.7\" style=\"fill:none;fill-rule:evenodd;stroke:#000000;stroke-width:2.0px;stroke-linecap:butt;stroke-linejoin:miter;stroke-opacity:1\"/>\n<path class=\"bond-5 atom-5 atom-6\" d=\"M 163.4,55.8 L 172.1,96.9\" style=\"fill:none;fill-rule:evenodd;stroke:#000000;stroke-width:2.0px;stroke-linecap:butt;stroke-linejoin:miter;stroke-opacity:1\"/>\n<path class=\"bond-6 atom-6 atom-7\" d=\"M 172.1,96.9 L 212.1,109.9\" style=\"fill:none;fill-rule:evenodd;stroke:#000000;stroke-width:2.0px;stroke-linecap:butt;stroke-linejoin:miter;stroke-opacity:1\"/>\n<path class=\"bond-7 atom-7 atom-8\" d=\"M 212.1,109.9 L 215.7,126.7\" style=\"fill:none;fill-rule:evenodd;stroke:#000000;stroke-width:2.0px;stroke-linecap:butt;stroke-linejoin:miter;stroke-opacity:1\"/>\n<path class=\"bond-7 atom-7 atom-8\" d=\"M 215.7,126.7 L 219.3,143.6\" style=\"fill:none;fill-rule:evenodd;stroke:#FF0000;stroke-width:2.0px;stroke-linecap:butt;stroke-linejoin:miter;stroke-opacity:1\"/>\n<path class=\"bond-8 atom-6 atom-9\" d=\"M 172.1,96.9 L 140.9,125.0\" style=\"fill:none;fill-rule:evenodd;stroke:#000000;stroke-width:2.0px;stroke-linecap:butt;stroke-linejoin:miter;stroke-opacity:1\"/>\n<path class=\"bond-8 atom-6 atom-9\" d=\"M 165.2,94.7 L 139.4,117.9\" style=\"fill:none;fill-rule:evenodd;stroke:#000000;stroke-width:2.0px;stroke-linecap:butt;stroke-linejoin:miter;stroke-opacity:1\"/>\n<path class=\"bond-9 atom-9 atom-2\" d=\"M 140.9,125.0 L 100.9,112.1\" style=\"fill:none;fill-rule:evenodd;stroke:#000000;stroke-width:2.0px;stroke-linecap:butt;stroke-linejoin:miter;stroke-opacity:1\"/>\n<path d=\"M 68.9,139.9 L 69.7,140.2 L 71.3,138.8\" style=\"fill:none;stroke:#000000;stroke-width:2.0px;stroke-linecap:butt;stroke-linejoin:miter;stroke-opacity:1;\"/>\n<path d=\"M 92.6,73.0 L 92.2,71.0 L 93.7,69.5\" style=\"fill:none;stroke:#000000;stroke-width:2.0px;stroke-linecap:butt;stroke-linejoin:miter;stroke-opacity:1;\"/>\n<path d=\"M 121.8,44.2 L 123.4,42.8 L 125.4,43.5\" style=\"fill:none;stroke:#000000;stroke-width:2.0px;stroke-linecap:butt;stroke-linejoin:miter;stroke-opacity:1;\"/>\n<path d=\"M 161.4,55.1 L 163.4,55.8 L 163.8,57.8\" style=\"fill:none;stroke:#000000;stroke-width:2.0px;stroke-linecap:butt;stroke-linejoin:miter;stroke-opacity:1;\"/>\n<path d=\"M 210.1,109.2 L 212.1,109.9 L 212.3,110.7\" style=\"fill:none;stroke:#000000;stroke-width:2.0px;stroke-linecap:butt;stroke-linejoin:miter;stroke-opacity:1;\"/>\n<path d=\"M 142.5,123.6 L 140.9,125.0 L 138.9,124.4\" style=\"fill:none;stroke:#000000;stroke-width:2.0px;stroke-linecap:butt;stroke-linejoin:miter;stroke-opacity:1;\"/>\n<path class=\"atom-0\" d=\"M 12.5 121.3 L 14.1 121.3 L 14.1 126.4 L 20.2 126.4 L 20.2 121.3 L 21.8 121.3 L 21.8 133.3 L 20.2 133.3 L 20.2 127.8 L 14.1 127.8 L 14.1 133.3 L 12.5 133.3 L 12.5 121.3 \" fill=\"#FF0000\"/>\n<path class=\"atom-0\" d=\"M 24.3 127.3 Q 24.3 124.4, 25.7 122.8 Q 27.1 121.2, 29.7 121.2 Q 32.4 121.2, 33.8 122.8 Q 35.2 124.4, 35.2 127.3 Q 35.2 130.2, 33.8 131.8 Q 32.3 133.4, 29.7 133.4 Q 27.1 133.4, 25.7 131.8 Q 24.3 130.2, 24.3 127.3 M 29.7 132.1 Q 31.5 132.1, 32.5 130.9 Q 33.5 129.7, 33.5 127.3 Q 33.5 124.9, 32.5 123.8 Q 31.5 122.6, 29.7 122.6 Q 27.9 122.6, 26.9 123.7 Q 25.9 124.9, 25.9 127.3 Q 25.9 129.7, 26.9 130.9 Q 27.9 132.1, 29.7 132.1 \" fill=\"#FF0000\"/>\n<path class=\"atom-8\" d=\"M 215.4 151.0 Q 215.4 148.2, 216.8 146.6 Q 218.2 145.0, 220.9 145.0 Q 223.5 145.0, 224.9 146.6 Q 226.3 148.2, 226.3 151.0 Q 226.3 153.9, 224.9 155.6 Q 223.5 157.2, 220.9 157.2 Q 218.2 157.2, 216.8 155.6 Q 215.4 153.9, 215.4 151.0 M 220.9 155.8 Q 222.7 155.8, 223.7 154.6 Q 224.7 153.4, 224.7 151.0 Q 224.7 148.7, 223.7 147.5 Q 222.7 146.3, 220.9 146.3 Q 219.1 146.3, 218.1 147.5 Q 217.1 148.7, 217.1 151.0 Q 217.1 153.4, 218.1 154.6 Q 219.1 155.8, 220.9 155.8 \" fill=\"#FF0000\"/>\n<path class=\"atom-8\" d=\"M 228.2 145.1 L 229.8 145.1 L 229.8 150.2 L 235.9 150.2 L 235.9 145.1 L 237.5 145.1 L 237.5 157.0 L 235.9 157.0 L 235.9 151.5 L 229.8 151.5 L 229.8 157.0 L 228.2 157.0 L 228.2 145.1 \" fill=\"#FF0000\"/>\n</svg>"
          },
          "metadata": {}
        },
        {
          "output_type": "stream",
          "name": "stdout",
          "text": [
            "This is Molecule 1\n"
          ]
        },
        {
          "output_type": "display_data",
          "data": {
            "text/plain": [
              "<IPython.core.display.SVG object>"
            ],
            "image/svg+xml": "<svg xmlns=\"http://www.w3.org/2000/svg\" xmlns:rdkit=\"http://www.rdkit.org/xml\" xmlns:xlink=\"http://www.w3.org/1999/xlink\" version=\"1.1\" baseProfile=\"full\" xml:space=\"preserve\" width=\"250px\" height=\"200px\" viewBox=\"0 0 250 200\">\n<!-- END OF HEADER -->\n<rect style=\"opacity:1.0;fill:#FFFFFF;stroke:none\" width=\"250.0\" height=\"200.0\" x=\"0.0\" y=\"0.0\"> </rect>\n<path class=\"bond-0 atom-0 atom-1\" d=\"M 25.5,131.1 L 43.0,136.7\" style=\"fill:none;fill-rule:evenodd;stroke:#FF0000;stroke-width:2.0px;stroke-linecap:butt;stroke-linejoin:miter;stroke-opacity:1\"/>\n<path class=\"bond-0 atom-0 atom-1\" d=\"M 43.0,136.7 L 60.5,142.4\" style=\"fill:none;fill-rule:evenodd;stroke:#000000;stroke-width:2.0px;stroke-linecap:butt;stroke-linejoin:miter;stroke-opacity:1\"/>\n<path class=\"bond-1 atom-1 atom-2\" d=\"M 60.5,142.4 L 93.4,112.7\" style=\"fill:none;fill-rule:evenodd;stroke:#000000;stroke-width:2.0px;stroke-linecap:butt;stroke-linejoin:miter;stroke-opacity:1\"/>\n<path class=\"bond-2 atom-2 atom-3\" d=\"M 93.4,112.7 L 84.2,69.4\" style=\"fill:none;fill-rule:evenodd;stroke:#000000;stroke-width:2.0px;stroke-linecap:butt;stroke-linejoin:miter;stroke-opacity:1\"/>\n<path class=\"bond-2 atom-2 atom-3\" d=\"M 99.1,107.6 L 91.5,71.7\" style=\"fill:none;fill-rule:evenodd;stroke:#000000;stroke-width:2.0px;stroke-linecap:butt;stroke-linejoin:miter;stroke-opacity:1\"/>\n<path class=\"bond-3 atom-3 atom-4\" d=\"M 84.2,69.4 L 117.1,39.7\" style=\"fill:none;fill-rule:evenodd;stroke:#000000;stroke-width:2.0px;stroke-linecap:butt;stroke-linejoin:miter;stroke-opacity:1\"/>\n<path class=\"bond-4 atom-4 atom-5\" d=\"M 117.1,39.7 L 159.3,53.4\" style=\"fill:none;fill-rule:evenodd;stroke:#000000;stroke-width:2.0px;stroke-linecap:butt;stroke-linejoin:miter;stroke-opacity:1\"/>\n<path class=\"bond-4 atom-4 atom-5\" d=\"M 118.7,47.2 L 153.6,58.5\" style=\"fill:none;fill-rule:evenodd;stroke:#000000;stroke-width:2.0px;stroke-linecap:butt;stroke-linejoin:miter;stroke-opacity:1\"/>\n<path class=\"bond-5 atom-5 atom-6\" d=\"M 159.3,53.4 L 168.5,96.7\" style=\"fill:none;fill-rule:evenodd;stroke:#000000;stroke-width:2.0px;stroke-linecap:butt;stroke-linejoin:miter;stroke-opacity:1\"/>\n<path class=\"bond-6 atom-6 atom-7\" d=\"M 168.5,96.7 L 210.7,110.4\" style=\"fill:none;fill-rule:evenodd;stroke:#000000;stroke-width:2.0px;stroke-linecap:butt;stroke-linejoin:miter;stroke-opacity:1\"/>\n<path class=\"bond-7 atom-7 atom-8\" d=\"M 210.7,110.4 L 214.5,128.2\" style=\"fill:none;fill-rule:evenodd;stroke:#000000;stroke-width:2.0px;stroke-linecap:butt;stroke-linejoin:miter;stroke-opacity:1\"/>\n<path class=\"bond-7 atom-7 atom-8\" d=\"M 214.5,128.2 L 218.3,146.0\" style=\"fill:none;fill-rule:evenodd;stroke:#FF0000;stroke-width:2.0px;stroke-linecap:butt;stroke-linejoin:miter;stroke-opacity:1\"/>\n<path class=\"bond-8 atom-6 atom-9\" d=\"M 168.5,96.7 L 135.6,126.4\" style=\"fill:none;fill-rule:evenodd;stroke:#000000;stroke-width:2.0px;stroke-linecap:butt;stroke-linejoin:miter;stroke-opacity:1\"/>\n<path class=\"bond-8 atom-6 atom-9\" d=\"M 161.2,94.4 L 134.0,118.9\" style=\"fill:none;fill-rule:evenodd;stroke:#000000;stroke-width:2.0px;stroke-linecap:butt;stroke-linejoin:miter;stroke-opacity:1\"/>\n<path class=\"bond-9 atom-9 atom-2\" d=\"M 135.6,126.4 L 93.4,112.7\" style=\"fill:none;fill-rule:evenodd;stroke:#000000;stroke-width:2.0px;stroke-linecap:butt;stroke-linejoin:miter;stroke-opacity:1\"/>\n<path d=\"M 59.6,142.1 L 60.5,142.4 L 62.1,140.9\" style=\"fill:none;stroke:#000000;stroke-width:2.0px;stroke-linecap:butt;stroke-linejoin:miter;stroke-opacity:1;\"/>\n<path d=\"M 84.6,71.5 L 84.2,69.4 L 85.8,67.9\" style=\"fill:none;stroke:#000000;stroke-width:2.0px;stroke-linecap:butt;stroke-linejoin:miter;stroke-opacity:1;\"/>\n<path d=\"M 115.5,41.1 L 117.1,39.7 L 119.2,40.3\" style=\"fill:none;stroke:#000000;stroke-width:2.0px;stroke-linecap:butt;stroke-linejoin:miter;stroke-opacity:1;\"/>\n<path d=\"M 157.2,52.7 L 159.3,53.4 L 159.7,55.5\" style=\"fill:none;stroke:#000000;stroke-width:2.0px;stroke-linecap:butt;stroke-linejoin:miter;stroke-opacity:1;\"/>\n<path d=\"M 208.6,109.7 L 210.7,110.4 L 210.9,111.3\" style=\"fill:none;stroke:#000000;stroke-width:2.0px;stroke-linecap:butt;stroke-linejoin:miter;stroke-opacity:1;\"/>\n<path d=\"M 137.2,124.9 L 135.6,126.4 L 133.5,125.7\" style=\"fill:none;stroke:#000000;stroke-width:2.0px;stroke-linecap:butt;stroke-linejoin:miter;stroke-opacity:1;\"/>\n<path class=\"atom-0\" d=\"M 12.5 128.8 Q 12.5 125.8, 14.0 124.1 Q 15.5 122.4, 18.3 122.4 Q 21.1 122.4, 22.5 124.1 Q 24.0 125.8, 24.0 128.8 Q 24.0 131.8, 22.5 133.6 Q 21.0 135.3, 18.3 135.3 Q 15.5 135.3, 14.0 133.6 Q 12.5 131.8, 12.5 128.8 M 18.3 133.9 Q 20.2 133.9, 21.2 132.6 Q 22.3 131.3, 22.3 128.8 Q 22.3 126.3, 21.2 125.1 Q 20.2 123.8, 18.3 123.8 Q 16.3 123.8, 15.3 125.0 Q 14.3 126.3, 14.3 128.8 Q 14.3 131.3, 15.3 132.6 Q 16.3 133.9, 18.3 133.9 \" fill=\"#FF0000\"/>\n<path class=\"atom-0\" d=\"M 25.8 124.4 L 30.1 124.4 L 30.1 125.4 L 25.8 125.4 L 25.8 124.4 \" fill=\"#FF0000\"/>\n<path class=\"atom-8\" d=\"M 214.2 153.8 Q 214.2 150.8, 215.7 149.1 Q 217.2 147.4, 220.0 147.4 Q 222.7 147.4, 224.2 149.1 Q 225.7 150.8, 225.7 153.8 Q 225.7 156.9, 224.2 158.6 Q 222.7 160.3, 220.0 160.3 Q 217.2 160.3, 215.7 158.6 Q 214.2 156.9, 214.2 153.8 M 220.0 158.9 Q 221.9 158.9, 222.9 157.6 Q 223.9 156.3, 223.9 153.8 Q 223.9 151.4, 222.9 150.1 Q 221.9 148.9, 220.0 148.9 Q 218.0 148.9, 217.0 150.1 Q 216.0 151.3, 216.0 153.8 Q 216.0 156.4, 217.0 157.6 Q 218.0 158.9, 220.0 158.9 \" fill=\"#FF0000\"/>\n<path class=\"atom-8\" d=\"M 227.7 147.6 L 229.4 147.6 L 229.4 152.9 L 235.8 152.9 L 235.8 147.6 L 237.5 147.6 L 237.5 160.1 L 235.8 160.1 L 235.8 154.3 L 229.4 154.3 L 229.4 160.1 L 227.7 160.1 L 227.7 147.6 \" fill=\"#FF0000\"/>\n</svg>"
          },
          "metadata": {}
        },
        {
          "output_type": "stream",
          "name": "stdout",
          "text": [
            "This is Molecule 2\n"
          ]
        },
        {
          "output_type": "display_data",
          "data": {
            "text/plain": [
              "<IPython.core.display.SVG object>"
            ],
            "image/svg+xml": "<svg xmlns=\"http://www.w3.org/2000/svg\" xmlns:rdkit=\"http://www.rdkit.org/xml\" xmlns:xlink=\"http://www.w3.org/1999/xlink\" version=\"1.1\" baseProfile=\"full\" xml:space=\"preserve\" width=\"250px\" height=\"200px\" viewBox=\"0 0 250 200\">\n<!-- END OF HEADER -->\n<rect style=\"opacity:1.0;fill:#FFFFFF;stroke:none\" width=\"250.0\" height=\"200.0\" x=\"0.0\" y=\"0.0\"> </rect>\n<path class=\"bond-0 atom-0 atom-1\" d=\"M 25.8,131.9 L 43.8,137.7\" style=\"fill:none;fill-rule:evenodd;stroke:#FF0000;stroke-width:2.0px;stroke-linecap:butt;stroke-linejoin:miter;stroke-opacity:1\"/>\n<path class=\"bond-0 atom-0 atom-1\" d=\"M 43.8,137.7 L 61.7,143.5\" style=\"fill:none;fill-rule:evenodd;stroke:#000000;stroke-width:2.0px;stroke-linecap:butt;stroke-linejoin:miter;stroke-opacity:1\"/>\n<path class=\"bond-1 atom-1 atom-2\" d=\"M 61.7,143.5 L 95.5,113.1\" style=\"fill:none;fill-rule:evenodd;stroke:#000000;stroke-width:2.0px;stroke-linecap:butt;stroke-linejoin:miter;stroke-opacity:1\"/>\n<path class=\"bond-2 atom-2 atom-3\" d=\"M 95.5,113.1 L 86.0,68.6\" style=\"fill:none;fill-rule:evenodd;stroke:#000000;stroke-width:2.0px;stroke-linecap:butt;stroke-linejoin:miter;stroke-opacity:1\"/>\n<path class=\"bond-2 atom-2 atom-3\" d=\"M 101.4,107.8 L 93.5,71.0\" style=\"fill:none;fill-rule:evenodd;stroke:#000000;stroke-width:2.0px;stroke-linecap:butt;stroke-linejoin:miter;stroke-opacity:1\"/>\n<path class=\"bond-3 atom-3 atom-4\" d=\"M 86.0,68.6 L 119.8,38.1\" style=\"fill:none;fill-rule:evenodd;stroke:#000000;stroke-width:2.0px;stroke-linecap:butt;stroke-linejoin:miter;stroke-opacity:1\"/>\n<path class=\"bond-4 atom-4 atom-5\" d=\"M 119.8,38.1 L 163.1,52.1\" style=\"fill:none;fill-rule:evenodd;stroke:#000000;stroke-width:2.0px;stroke-linecap:butt;stroke-linejoin:miter;stroke-opacity:1\"/>\n<path class=\"bond-4 atom-4 atom-5\" d=\"M 121.5,45.8 L 157.2,57.4\" style=\"fill:none;fill-rule:evenodd;stroke:#000000;stroke-width:2.0px;stroke-linecap:butt;stroke-linejoin:miter;stroke-opacity:1\"/>\n<path class=\"bond-5 atom-5 atom-6\" d=\"M 163.1,52.1 L 172.6,96.6\" style=\"fill:none;fill-rule:evenodd;stroke:#000000;stroke-width:2.0px;stroke-linecap:butt;stroke-linejoin:miter;stroke-opacity:1\"/>\n<path class=\"bond-6 atom-6 atom-7\" d=\"M 172.6,96.6 L 215.9,110.7\" style=\"fill:none;fill-rule:evenodd;stroke:#000000;stroke-width:2.0px;stroke-linecap:butt;stroke-linejoin:miter;stroke-opacity:1\"/>\n<path class=\"bond-7 atom-7 atom-8\" d=\"M 215.9,110.7 L 219.7,128.9\" style=\"fill:none;fill-rule:evenodd;stroke:#000000;stroke-width:2.0px;stroke-linecap:butt;stroke-linejoin:miter;stroke-opacity:1\"/>\n<path class=\"bond-7 atom-7 atom-8\" d=\"M 219.7,128.9 L 223.6,147.2\" style=\"fill:none;fill-rule:evenodd;stroke:#FF0000;stroke-width:2.0px;stroke-linecap:butt;stroke-linejoin:miter;stroke-opacity:1\"/>\n<path class=\"bond-8 atom-6 atom-9\" d=\"M 172.6,96.6 L 138.8,127.1\" style=\"fill:none;fill-rule:evenodd;stroke:#000000;stroke-width:2.0px;stroke-linecap:butt;stroke-linejoin:miter;stroke-opacity:1\"/>\n<path class=\"bond-8 atom-6 atom-9\" d=\"M 165.1,94.2 L 137.1,119.4\" style=\"fill:none;fill-rule:evenodd;stroke:#000000;stroke-width:2.0px;stroke-linecap:butt;stroke-linejoin:miter;stroke-opacity:1\"/>\n<path class=\"bond-9 atom-9 atom-2\" d=\"M 138.8,127.1 L 95.5,113.1\" style=\"fill:none;fill-rule:evenodd;stroke:#000000;stroke-width:2.0px;stroke-linecap:butt;stroke-linejoin:miter;stroke-opacity:1\"/>\n<path d=\"M 60.8,143.2 L 61.7,143.5 L 63.4,142.0\" style=\"fill:none;stroke:#000000;stroke-width:2.0px;stroke-linecap:butt;stroke-linejoin:miter;stroke-opacity:1;\"/>\n<path d=\"M 86.5,70.8 L 86.0,68.6 L 87.7,67.0\" style=\"fill:none;stroke:#000000;stroke-width:2.0px;stroke-linecap:butt;stroke-linejoin:miter;stroke-opacity:1;\"/>\n<path d=\"M 118.1,39.6 L 119.8,38.1 L 122.0,38.8\" style=\"fill:none;stroke:#000000;stroke-width:2.0px;stroke-linecap:butt;stroke-linejoin:miter;stroke-opacity:1;\"/>\n<path d=\"M 160.9,51.4 L 163.1,52.1 L 163.6,54.4\" style=\"fill:none;stroke:#000000;stroke-width:2.0px;stroke-linecap:butt;stroke-linejoin:miter;stroke-opacity:1;\"/>\n<path d=\"M 213.7,110.0 L 215.9,110.7 L 216.1,111.6\" style=\"fill:none;stroke:#000000;stroke-width:2.0px;stroke-linecap:butt;stroke-linejoin:miter;stroke-opacity:1;\"/>\n<path d=\"M 140.5,125.6 L 138.8,127.1 L 136.6,126.4\" style=\"fill:none;stroke:#000000;stroke-width:2.0px;stroke-linecap:butt;stroke-linejoin:miter;stroke-opacity:1;\"/>\n<path class=\"atom-0\" d=\"M 12.5 129.5 Q 12.5 126.4, 14.0 124.7 Q 15.6 123.0, 18.4 123.0 Q 21.3 123.0, 22.8 124.7 Q 24.3 126.4, 24.3 129.5 Q 24.3 132.6, 22.8 134.4 Q 21.2 136.2, 18.4 136.2 Q 15.6 136.2, 14.0 134.4 Q 12.5 132.7, 12.5 129.5 M 18.4 134.7 Q 20.4 134.7, 21.4 133.4 Q 22.5 132.1, 22.5 129.5 Q 22.5 127.0, 21.4 125.7 Q 20.4 124.4, 18.4 124.4 Q 16.4 124.4, 15.4 125.7 Q 14.3 127.0, 14.3 129.5 Q 14.3 132.1, 15.4 133.4 Q 16.4 134.7, 18.4 134.7 \" fill=\"#FF0000\"/>\n<path class=\"atom-0\" d=\"M 26.2 125.1 L 30.6 125.1 L 30.6 126.0 L 26.2 126.0 L 26.2 125.1 \" fill=\"#FF0000\"/>\n<path class=\"atom-8\" d=\"M 219.4 155.2 Q 219.4 152.1, 221.0 150.4 Q 222.5 148.7, 225.3 148.7 Q 228.2 148.7, 229.7 150.4 Q 231.3 152.1, 231.3 155.2 Q 231.3 158.4, 229.7 160.1 Q 228.2 161.9, 225.3 161.9 Q 222.5 161.9, 221.0 160.1 Q 219.4 158.4, 219.4 155.2 M 225.3 160.4 Q 227.3 160.4, 228.4 159.1 Q 229.4 157.8, 229.4 155.2 Q 229.4 152.7, 228.4 151.4 Q 227.3 150.1, 225.3 150.1 Q 223.4 150.1, 222.3 151.4 Q 221.2 152.7, 221.2 155.2 Q 221.2 157.8, 222.3 159.1 Q 223.4 160.4, 225.3 160.4 \" fill=\"#FF0000\"/>\n<path class=\"atom-8\" d=\"M 233.1 150.8 L 237.5 150.8 L 237.5 151.7 L 233.1 151.7 L 233.1 150.8 \" fill=\"#FF0000\"/>\n</svg>"
          },
          "metadata": {}
        }
      ]
    },
    {
      "cell_type": "code",
      "source": [
        "#@title Get titratable site\n",
        "# Highest protonation state is always in state[0]\n",
        "titratable_sites = []\n",
        "# pmol is a protonated molecule - always in the highest available protonation\n",
        "# state\n",
        "pmol = mols[0]\n",
        "from rdkit.Chem import rdFMCS\n",
        "res = rdFMCS.FindMCS([pmol, pmol])\n",
        "similar_patt = Chem.MolFromSmarts(res.smartsString)\n",
        "# This is a constant mol[0] substructure match\n",
        "subst_matches_pmol = pmol.GetSubstructMatches(similar_patt)[0]\n",
        "for m in mols[1:]:\n",
        "    subst_matches = m.GetSubstructMatches(similar_patt)[0]\n",
        "    for a0, a in zip(subst_matches_pmol, subst_matches):\n",
        "        if (pmol.GetAtomWithIdx(a0).GetFormalCharge() !=\n",
        "            m.GetAtomWithIdx(a).GetFormalCharge()\n",
        "        ):\n",
        "            titratable_sites.append(a0)\n",
        "titratable_sites = list(set(titratable_sites))"
      ],
      "metadata": {
        "id": "Sl3r5d_MdQcN"
      },
      "execution_count": 56,
      "outputs": []
    },
    {
      "cell_type": "code",
      "source": [
        "titratable_sites"
      ],
      "metadata": {
        "colab": {
          "base_uri": "https://localhost:8080/"
        },
        "id": "X9XK4iUcf9gj",
        "outputId": "87ce0044-e710-4053-ef01-8f76a53c9a25"
      },
      "execution_count": 57,
      "outputs": [
        {
          "output_type": "execute_result",
          "data": {
            "text/plain": [
              "[0, 8]"
            ]
          },
          "metadata": {},
          "execution_count": 57
        }
      ]
    },
    {
      "cell_type": "code",
      "source": [
        "#@title Get list of symmetrical titratable sites\n",
        "from rdkit.Chem import rdFMCS\n",
        "# We search for symmetrical sites based on the highest protonation states\n",
        "# NOTE: If the user selects not to include the highest protonation state\n",
        "# this behaviour can cause problems.\n",
        "res = rdFMCS.FindMCS([pmol, pmol])\n",
        "similar_patt = Chem.MolFromSmarts(res.smartsString)\n",
        "sym_subst_matches = pmol.GetSubstructMatches(similar_patt, uniquify=False)\n",
        "subst_matches = sym_subst_matches\n",
        "print(subst_matches)\n",
        "symmetrical_sites = {x.GetIdx():[x.GetIdx()] for x in pmol.GetAtoms()}\n",
        "if len(subst_matches) > 1:\n",
        "    for sm in subst_matches[1:]:\n",
        "        for ts in titratable_sites:\n",
        "            if sm[subst_matches_pmol.index(ts)] not in symmetrical_sites[ts]:\n",
        "                symmetrical_sites[ts].append(sm[subst_matches_pmol.index(ts)])\n",
        "                symmetrical_sites[sm[subst_matches_pmol.index(ts)]].append(ts)\n",
        "symmetrical_sites"
      ],
      "metadata": {
        "colab": {
          "base_uri": "https://localhost:8080/"
        },
        "id": "SE9qyt_YeuWl",
        "outputId": "1a759530-90e9-4d06-cbb0-43e7015b0b6d"
      },
      "execution_count": 84,
      "outputs": [
        {
          "output_type": "stream",
          "name": "stdout",
          "text": [
            "((0, 1, 2, 3, 4, 5, 6, 9, 7, 8), (8, 7, 6, 5, 4, 3, 2, 9, 1, 0))\n"
          ]
        },
        {
          "output_type": "execute_result",
          "data": {
            "text/plain": [
              "{0: [0, 8],\n",
              " 1: [1],\n",
              " 2: [2],\n",
              " 3: [3],\n",
              " 4: [4],\n",
              " 5: [5],\n",
              " 6: [6],\n",
              " 7: [7],\n",
              " 8: [8, 0],\n",
              " 9: [9]}"
            ]
          },
          "metadata": {},
          "execution_count": 84
        }
      ]
    },
    {
      "cell_type": "code",
      "source": [
        "symmetrical_sites"
      ],
      "metadata": {
        "id": "cjqJpFUl4s9r",
        "outputId": "feaa5f3b-8ae2-4c93-cc38-458c66bb828c",
        "colab": {
          "base_uri": "https://localhost:8080/"
        }
      },
      "execution_count": 85,
      "outputs": [
        {
          "output_type": "execute_result",
          "data": {
            "text/plain": [
              "{0: [0, 8],\n",
              " 1: [1],\n",
              " 2: [2],\n",
              " 3: [3],\n",
              " 4: [4],\n",
              " 5: [5],\n",
              " 6: [6],\n",
              " 7: [7],\n",
              " 8: [8, 0],\n",
              " 9: [9]}"
            ]
          },
          "metadata": {},
          "execution_count": 85
        }
      ]
    },
    {
      "cell_type": "code",
      "source": [
        "#@title Get list of sites with multiple hydrogens\n",
        "sites_with_multiple_hs = []\n",
        "for ts in titratable_sites:\n",
        "    if (\n",
        "        pmol.GetAtomWithIdx(ts).GetNumExplicitHs()\n",
        "        + pmol.GetAtomWithIdx(ts).GetNumImplicitHs()\n",
        "        > 1\n",
        "    ):\n",
        "        sites_with_multiple_hs.append(ts)\n",
        "sites_with_multiple_hs"
      ],
      "metadata": {
        "colab": {
          "base_uri": "https://localhost:8080/"
        },
        "id": "c0aAHRyilzwZ",
        "outputId": "0bc42289-a342-4981-ea4a-93356556b6c5"
      },
      "execution_count": 86,
      "outputs": [
        {
          "output_type": "execute_result",
          "data": {
            "text/plain": [
              "[]"
            ]
          },
          "metadata": {},
          "execution_count": 86
        }
      ]
    },
    {
      "cell_type": "code",
      "source": [
        "#@title Highlight sites with multiple hydrogens\n",
        "import textwrap\n",
        "if sites_with_multiple_hs:\n",
        "    print(\n",
        "        textwrap.fill(\n",
        "            (\n",
        "                f\"We detected {len(sites_with_multiple_hs)} sites to which \"\n",
        "                + \"multiple hydrogens are attached. Please, take a careful \"\n",
        "                + \"look and let us know whether we should consider those sites \"\n",
        "                + \"as multisite with each hydrogen titrating separately, or as \"\n",
        "                + \"single site, where only one hydrogen is titrated. Note, \"\n",
        "                + \"that we highlight the titratable sites for the molecule in \"\n",
        "                + \"the highest protonation state.\"\n",
        "            ),\n",
        "            120\n",
        "        )\n",
        "    )\n",
        "    colors = [(1.0, 0.0, 0.0, 0.2)]\n",
        "    for i, a in enumerate(sites_with_multiple_hs):\n",
        "        (pmol.GetAtomWithIdx(a)).SetProp('atomNote', str(i+1))\n",
        "    d2d = rdMolDraw2D.MolDraw2DSVG(250, 200)\n",
        "    at_highlights = {x: [colors[0]] for x in sites_with_multiple_hs}\n",
        "    at_rads = {x: 0.5 for x in sites_with_multiple_hs}\n",
        "    d2d.DrawMoleculeWithHighlights(pmol,\"\", at_highlights,{}, at_rads, {})\n",
        "    d2d.FinishDrawing()\n",
        "    display(SVG(d2d.GetDrawingText()))\n",
        "    for a in sites_with_multiple_hs:\n",
        "        (pmol.GetAtomWithIdx(a)).SetProp('atomNote', '')\n",
        "else:\n",
        "    mHs = None\n",
        "    print(\n",
        "        \"No sites to which multiple hydrogens are attached were detected. \"\n",
        "        + \" You can skip the next step.\"\n",
        "    )"
      ],
      "metadata": {
        "colab": {
          "base_uri": "https://localhost:8080/"
        },
        "id": "Yg2K0Mew3-KU",
        "outputId": "960590e4-0182-4d3b-a15e-c5330dba15e2"
      },
      "execution_count": 87,
      "outputs": [
        {
          "output_type": "stream",
          "name": "stdout",
          "text": [
            "No sites to which multiple hydrogens are attached were detected.  You can skip the next step.\n"
          ]
        }
      ]
    },
    {
      "cell_type": "code",
      "source": [
        "#@title Select treatment of multi-hydrogen sites\n",
        "#@markdown Do you want to treat titratable sites with multiple hydrogens\n",
        "#@markdown attached as single multisite or no? Default is no. If you want\n",
        "#@markdown to treat those with multisite representation tick the corresponding\n",
        "#@markdown variable. The id of titratable sites are shown in the previous cell.\n",
        "multiHs_titratable_site_1 = True #@param {type:\"boolean\"}\n",
        "multiHs_titratable_site_2 = True #@param {type:\"boolean\"}\n",
        "multiHs_titratable_site_3 = False #@param {type:\"boolean\"}\n",
        "multiHs_titratable_site_4 = False #@param {type:\"boolean\"}\n",
        "multiHs_titratable_site_5 = False #@param {type:\"boolean\"}\n",
        "\n",
        "mHs = [\n",
        "    multiHs_titratable_site_1,\n",
        "    multiHs_titratable_site_2,\n",
        "    multiHs_titratable_site_3,\n",
        "    multiHs_titratable_site_4,\n",
        "    multiHs_titratable_site_5,\n",
        "][:len(sites_with_multiple_hs)]"
      ],
      "metadata": {
        "id": "6hA84tEeetpF"
      },
      "execution_count": 62,
      "outputs": []
    },
    {
      "cell_type": "code",
      "source": [
        "mHs"
      ],
      "metadata": {
        "id": "9eb3evy4-8JY",
        "colab": {
          "base_uri": "https://localhost:8080/"
        },
        "outputId": "ad17f634-08f6-4776-860f-9c0bbf4ff0fd"
      },
      "execution_count": 15,
      "outputs": [
        {
          "output_type": "execute_result",
          "data": {
            "text/plain": [
              "[True, True]"
            ]
          },
          "metadata": {},
          "execution_count": 15
        }
      ]
    },
    {
      "cell_type": "code",
      "source": [
        "#@title Symmetrical states treatment\n",
        "states = {}  # Dictionary of states and state treatment. Each state has a\n",
        "# molecule, number of states and number of states for consideration, atoms with\n",
        "# different charges of the symmetrical states, and atoms with multiple hydrogens\n",
        "# NOTE: numbering is given in the pmol indices\n",
        "# NOTE: state treatment should be fixed/changed after user input is provided\n",
        "for i, m in enumerate(mols):\n",
        "    from rdkit.Chem import rdFMCS\n",
        "    res = rdFMCS.FindMCS([pmol, pmol])\n",
        "    similar_patt = Chem.MolFromSmarts(res.smartsString)\n",
        "    subst_matches = m.GetSubstructMatches(similar_patt)[0]\n",
        "    charges = {}\n",
        "    for a in symmetrical_sites:\n",
        "        # We collect formal charges for each symmetrical state.\n",
        "        charges[a] = [\n",
        "            m.GetAtomWithIdx(\n",
        "                subst_matches[subst_matches_pmol.index(a)]\n",
        "            ).GetFormalCharge()\n",
        "        ]\n",
        "        # If there is only one symmetrical site for an atom, nothing to do.\n",
        "        if len(symmetrical_sites[a]) == 1:\n",
        "            continue\n",
        "        # Add symmetrical charges to the atom charge list\n",
        "        for idx in symmetrical_sites[a][1:]:\n",
        "            charges[a].append(\n",
        "                m.GetAtomWithIdx(\n",
        "                    subst_matches[subst_matches_pmol.index(idx)]\n",
        "                ).GetFormalCharge()\n",
        "            )\n",
        "\n",
        "    # If for all atoms in this states there is only on charge, nothing to do.\n",
        "    if all([len(list(set(x))) == 1 for x in charges.values()]):\n",
        "        states[i] = (m, 1, 1, None, None)\n",
        "        continue\n",
        "    print(f\"For molecule {i} symmetrical states were detected:\")\n",
        "    d2d = rdMolDraw2D.MolDraw2DSVG(250, 200)\n",
        "    d2d.DrawMolecule(m)\n",
        "    d2d.FinishDrawing()\n",
        "    display(SVG(d2d.GetDrawingText()))\n",
        "    print(\"These are found symmetrical states:\")\n",
        "    # Symmetrical atoms with different charges\n",
        "    atoms_to_change = [x for x in charges if len(charges[x]) > 1]\n",
        "    # Atoms for which there is no difference between states, but their charge is\n",
        "    # different from the highest protonation state\n",
        "    atoms_with_dif_charges = [\n",
        "        x for x in charges if len(charges[x]) == 1 and\n",
        "        charges[x][0] != pmol.GetAtomWithIdx(x).GetFormalCharge()\n",
        "    ]\n",
        "    charge_combinations = list(zip(*[charges[x] for x in atoms_to_change]))\n",
        "    # We collect already seen sets of charges in state_charges\n",
        "    state_charges = []\n",
        "    from copy import deepcopy\n",
        "    for c in charge_combinations:\n",
        "        m_new = deepcopy(pmol)\n",
        "        # We set up state specific symmetrical charges\n",
        "        for a in atoms_with_dif_charges:\n",
        "            m_new.GetAtomWithIdx(a).SetFormalCharge(\n",
        "                pmol.GetAtomWithIdx(a).GetFormalCharge() - 1\n",
        "            )\n",
        "            m_new.GetAtomWithIdx(a).SetNumExplicitHs(\n",
        "                pmol.GetAtomWithIdx(a).GetNumImplicitHs() +\n",
        "                pmol.GetAtomWithIdx(a).GetNumExplicitHs() - 1\n",
        "            )\n",
        "        # We set up other state charges\n",
        "        for a_charge, a in zip(c, atoms_to_change):\n",
        "            if a_charge != pmol.GetAtomWithIdx(a).GetFormalCharge():\n",
        "                m_new.GetAtomWithIdx(a).SetFormalCharge(a_charge)\n",
        "                m_new.GetAtomWithIdx(a).SetNumExplicitHs(\n",
        "                    pmol.GetAtomWithIdx(a).GetNumImplicitHs() +\n",
        "                    pmol.GetAtomWithIdx(a).GetNumExplicitHs() - 1\n",
        "                )\n",
        "        # We do nothing if there are\n",
        "        if [x.GetFormalCharge() for x in m_new.GetAtoms()] in state_charges:\n",
        "            continue\n",
        "        state_charges.append([x.GetFormalCharge() for x in m_new.GetAtoms()])\n",
        "        d2d = rdMolDraw2D.MolDraw2DSVG(250, 200)\n",
        "        colors = [(0.0, 1.0, 0.0, 0.2)]\n",
        "        at_highlights = {x: [colors[0]] for x in atoms_to_change}\n",
        "        at_rads = {x: 0.5 for x in atoms_to_change}\n",
        "        d2d.DrawMoleculeWithHighlights(m_new,\"\", at_highlights,{}, at_rads, {})\n",
        "        d2d.FinishDrawing()\n",
        "        display(SVG(d2d.GetDrawingText()))\n",
        "    states[i] = (\n",
        "        m, len(state_charges), 1, (atoms_to_change, state_charges), None\n",
        "    )\n",
        "if all([x[1] == 1 for x in states.values()]):\n",
        "    ss = None\n",
        "    print(\n",
        "        \"No symmetrical states were found \"\n",
        "        + \" You can skip the next step.\"\n",
        "    )"
      ],
      "metadata": {
        "colab": {
          "base_uri": "https://localhost:8080/",
          "height": 669
        },
        "id": "cMIgAhkBxviB",
        "outputId": "15c84e83-fb88-403d-d21a-3831a20d1f2e"
      },
      "execution_count": 88,
      "outputs": [
        {
          "output_type": "stream",
          "name": "stdout",
          "text": [
            "For molecule 1 symmetrical states were detected:\n"
          ]
        },
        {
          "output_type": "display_data",
          "data": {
            "text/plain": [
              "<IPython.core.display.SVG object>"
            ],
            "image/svg+xml": "<svg xmlns=\"http://www.w3.org/2000/svg\" xmlns:rdkit=\"http://www.rdkit.org/xml\" xmlns:xlink=\"http://www.w3.org/1999/xlink\" version=\"1.1\" baseProfile=\"full\" xml:space=\"preserve\" width=\"250px\" height=\"200px\" viewBox=\"0 0 250 200\">\n<!-- END OF HEADER -->\n<rect style=\"opacity:1.0;fill:#FFFFFF;stroke:none\" width=\"250.0\" height=\"200.0\" x=\"0.0\" y=\"0.0\"> </rect>\n<path class=\"bond-0 atom-0 atom-1\" d=\"M 25.5,131.1 L 43.0,136.7\" style=\"fill:none;fill-rule:evenodd;stroke:#FF0000;stroke-width:2.0px;stroke-linecap:butt;stroke-linejoin:miter;stroke-opacity:1\"/>\n<path class=\"bond-0 atom-0 atom-1\" d=\"M 43.0,136.7 L 60.5,142.4\" style=\"fill:none;fill-rule:evenodd;stroke:#000000;stroke-width:2.0px;stroke-linecap:butt;stroke-linejoin:miter;stroke-opacity:1\"/>\n<path class=\"bond-1 atom-1 atom-2\" d=\"M 60.5,142.4 L 93.4,112.7\" style=\"fill:none;fill-rule:evenodd;stroke:#000000;stroke-width:2.0px;stroke-linecap:butt;stroke-linejoin:miter;stroke-opacity:1\"/>\n<path class=\"bond-2 atom-2 atom-3\" d=\"M 93.4,112.7 L 84.2,69.4\" style=\"fill:none;fill-rule:evenodd;stroke:#000000;stroke-width:2.0px;stroke-linecap:butt;stroke-linejoin:miter;stroke-opacity:1\"/>\n<path class=\"bond-2 atom-2 atom-3\" d=\"M 99.1,107.6 L 91.5,71.7\" style=\"fill:none;fill-rule:evenodd;stroke:#000000;stroke-width:2.0px;stroke-linecap:butt;stroke-linejoin:miter;stroke-opacity:1\"/>\n<path class=\"bond-3 atom-3 atom-4\" d=\"M 84.2,69.4 L 117.1,39.7\" style=\"fill:none;fill-rule:evenodd;stroke:#000000;stroke-width:2.0px;stroke-linecap:butt;stroke-linejoin:miter;stroke-opacity:1\"/>\n<path class=\"bond-4 atom-4 atom-5\" d=\"M 117.1,39.7 L 159.3,53.4\" style=\"fill:none;fill-rule:evenodd;stroke:#000000;stroke-width:2.0px;stroke-linecap:butt;stroke-linejoin:miter;stroke-opacity:1\"/>\n<path class=\"bond-4 atom-4 atom-5\" d=\"M 118.7,47.2 L 153.6,58.5\" style=\"fill:none;fill-rule:evenodd;stroke:#000000;stroke-width:2.0px;stroke-linecap:butt;stroke-linejoin:miter;stroke-opacity:1\"/>\n<path class=\"bond-5 atom-5 atom-6\" d=\"M 159.3,53.4 L 168.5,96.7\" style=\"fill:none;fill-rule:evenodd;stroke:#000000;stroke-width:2.0px;stroke-linecap:butt;stroke-linejoin:miter;stroke-opacity:1\"/>\n<path class=\"bond-6 atom-6 atom-7\" d=\"M 168.5,96.7 L 210.7,110.4\" style=\"fill:none;fill-rule:evenodd;stroke:#000000;stroke-width:2.0px;stroke-linecap:butt;stroke-linejoin:miter;stroke-opacity:1\"/>\n<path class=\"bond-7 atom-7 atom-8\" d=\"M 210.7,110.4 L 214.5,128.2\" style=\"fill:none;fill-rule:evenodd;stroke:#000000;stroke-width:2.0px;stroke-linecap:butt;stroke-linejoin:miter;stroke-opacity:1\"/>\n<path class=\"bond-7 atom-7 atom-8\" d=\"M 214.5,128.2 L 218.3,146.0\" style=\"fill:none;fill-rule:evenodd;stroke:#FF0000;stroke-width:2.0px;stroke-linecap:butt;stroke-linejoin:miter;stroke-opacity:1\"/>\n<path class=\"bond-8 atom-6 atom-9\" d=\"M 168.5,96.7 L 135.6,126.4\" style=\"fill:none;fill-rule:evenodd;stroke:#000000;stroke-width:2.0px;stroke-linecap:butt;stroke-linejoin:miter;stroke-opacity:1\"/>\n<path class=\"bond-8 atom-6 atom-9\" d=\"M 161.2,94.4 L 134.0,118.9\" style=\"fill:none;fill-rule:evenodd;stroke:#000000;stroke-width:2.0px;stroke-linecap:butt;stroke-linejoin:miter;stroke-opacity:1\"/>\n<path class=\"bond-9 atom-9 atom-2\" d=\"M 135.6,126.4 L 93.4,112.7\" style=\"fill:none;fill-rule:evenodd;stroke:#000000;stroke-width:2.0px;stroke-linecap:butt;stroke-linejoin:miter;stroke-opacity:1\"/>\n<path d=\"M 59.6,142.1 L 60.5,142.4 L 62.1,140.9\" style=\"fill:none;stroke:#000000;stroke-width:2.0px;stroke-linecap:butt;stroke-linejoin:miter;stroke-opacity:1;\"/>\n<path d=\"M 84.6,71.5 L 84.2,69.4 L 85.8,67.9\" style=\"fill:none;stroke:#000000;stroke-width:2.0px;stroke-linecap:butt;stroke-linejoin:miter;stroke-opacity:1;\"/>\n<path d=\"M 115.5,41.1 L 117.1,39.7 L 119.2,40.3\" style=\"fill:none;stroke:#000000;stroke-width:2.0px;stroke-linecap:butt;stroke-linejoin:miter;stroke-opacity:1;\"/>\n<path d=\"M 157.2,52.7 L 159.3,53.4 L 159.7,55.5\" style=\"fill:none;stroke:#000000;stroke-width:2.0px;stroke-linecap:butt;stroke-linejoin:miter;stroke-opacity:1;\"/>\n<path d=\"M 208.6,109.7 L 210.7,110.4 L 210.9,111.3\" style=\"fill:none;stroke:#000000;stroke-width:2.0px;stroke-linecap:butt;stroke-linejoin:miter;stroke-opacity:1;\"/>\n<path d=\"M 137.2,124.9 L 135.6,126.4 L 133.5,125.7\" style=\"fill:none;stroke:#000000;stroke-width:2.0px;stroke-linecap:butt;stroke-linejoin:miter;stroke-opacity:1;\"/>\n<path class=\"atom-0\" d=\"M 12.5 128.8 Q 12.5 125.8, 14.0 124.1 Q 15.5 122.4, 18.3 122.4 Q 21.1 122.4, 22.5 124.1 Q 24.0 125.8, 24.0 128.8 Q 24.0 131.8, 22.5 133.6 Q 21.0 135.3, 18.3 135.3 Q 15.5 135.3, 14.0 133.6 Q 12.5 131.8, 12.5 128.8 M 18.3 133.9 Q 20.2 133.9, 21.2 132.6 Q 22.3 131.3, 22.3 128.8 Q 22.3 126.3, 21.2 125.1 Q 20.2 123.8, 18.3 123.8 Q 16.3 123.8, 15.3 125.0 Q 14.3 126.3, 14.3 128.8 Q 14.3 131.3, 15.3 132.6 Q 16.3 133.9, 18.3 133.9 \" fill=\"#FF0000\"/>\n<path class=\"atom-0\" d=\"M 25.8 124.4 L 30.1 124.4 L 30.1 125.4 L 25.8 125.4 L 25.8 124.4 \" fill=\"#FF0000\"/>\n<path class=\"atom-8\" d=\"M 214.2 153.8 Q 214.2 150.8, 215.7 149.1 Q 217.2 147.4, 220.0 147.4 Q 222.7 147.4, 224.2 149.1 Q 225.7 150.8, 225.7 153.8 Q 225.7 156.9, 224.2 158.6 Q 222.7 160.3, 220.0 160.3 Q 217.2 160.3, 215.7 158.6 Q 214.2 156.9, 214.2 153.8 M 220.0 158.9 Q 221.9 158.9, 222.9 157.6 Q 223.9 156.3, 223.9 153.8 Q 223.9 151.4, 222.9 150.1 Q 221.9 148.9, 220.0 148.9 Q 218.0 148.9, 217.0 150.1 Q 216.0 151.3, 216.0 153.8 Q 216.0 156.4, 217.0 157.6 Q 218.0 158.9, 220.0 158.9 \" fill=\"#FF0000\"/>\n<path class=\"atom-8\" d=\"M 227.7 147.6 L 229.4 147.6 L 229.4 152.9 L 235.8 152.9 L 235.8 147.6 L 237.5 147.6 L 237.5 160.1 L 235.8 160.1 L 235.8 154.3 L 229.4 154.3 L 229.4 160.1 L 227.7 160.1 L 227.7 147.6 \" fill=\"#FF0000\"/>\n</svg>"
          },
          "metadata": {}
        },
        {
          "output_type": "stream",
          "name": "stdout",
          "text": [
            "These are found symmetrical states:\n"
          ]
        },
        {
          "output_type": "display_data",
          "data": {
            "text/plain": [
              "<IPython.core.display.SVG object>"
            ],
            "image/svg+xml": "<svg xmlns=\"http://www.w3.org/2000/svg\" xmlns:rdkit=\"http://www.rdkit.org/xml\" xmlns:xlink=\"http://www.w3.org/1999/xlink\" version=\"1.1\" baseProfile=\"full\" xml:space=\"preserve\" width=\"250px\" height=\"200px\" viewBox=\"0 0 250 200\">\n<!-- END OF HEADER -->\n<rect style=\"opacity:1.0;fill:#FFFFFF;stroke:none\" width=\"250.0\" height=\"200.0\" x=\"0.0\" y=\"0.0\"> </rect>\n<ellipse cx=\"26.6\" cy=\"123.5\" rx=\"14.1\" ry=\"14.1\" class=\"atom-0\" style=\"fill:#00FF0033;fill-rule:evenodd;stroke:#00FF0033;stroke-width:1.0px;stroke-linecap:butt;stroke-linejoin:miter;stroke-opacity:1\"/>\n<ellipse cx=\"221.8\" cy=\"147.4\" rx=\"15.7\" ry=\"14.1\" class=\"atom-8\" style=\"fill:#00FF0033;fill-rule:evenodd;stroke:#00FF0033;stroke-width:1.0px;stroke-linecap:butt;stroke-linejoin:miter;stroke-opacity:1\"/>\n<path class=\"bond-0 atom-0 atom-1\" d=\"M 30.6,125.7 L 47.3,131.1\" style=\"fill:none;fill-rule:evenodd;stroke:#FF0000;stroke-width:2.0px;stroke-linecap:butt;stroke-linejoin:miter;stroke-opacity:1\"/>\n<path class=\"bond-0 atom-0 atom-1\" d=\"M 47.3,131.1 L 64.0,136.5\" style=\"fill:none;fill-rule:evenodd;stroke:#000000;stroke-width:2.0px;stroke-linecap:butt;stroke-linejoin:miter;stroke-opacity:1\"/>\n<path class=\"bond-1 atom-1 atom-2\" d=\"M 64.0,136.5 L 95.4,108.2\" style=\"fill:none;fill-rule:evenodd;stroke:#000000;stroke-width:2.0px;stroke-linecap:butt;stroke-linejoin:miter;stroke-opacity:1\"/>\n<path class=\"bond-2 atom-2 atom-3\" d=\"M 95.4,108.2 L 86.6,66.8\" style=\"fill:none;fill-rule:evenodd;stroke:#000000;stroke-width:2.0px;stroke-linecap:butt;stroke-linejoin:miter;stroke-opacity:1\"/>\n<path class=\"bond-2 atom-2 atom-3\" d=\"M 100.8,103.3 L 93.5,69.0\" style=\"fill:none;fill-rule:evenodd;stroke:#000000;stroke-width:2.0px;stroke-linecap:butt;stroke-linejoin:miter;stroke-opacity:1\"/>\n<path class=\"bond-3 atom-3 atom-4\" d=\"M 86.6,66.8 L 118.0,38.5\" style=\"fill:none;fill-rule:evenodd;stroke:#000000;stroke-width:2.0px;stroke-linecap:butt;stroke-linejoin:miter;stroke-opacity:1\"/>\n<path class=\"bond-4 atom-4 atom-5\" d=\"M 118.0,38.5 L 158.3,51.5\" style=\"fill:none;fill-rule:evenodd;stroke:#000000;stroke-width:2.0px;stroke-linecap:butt;stroke-linejoin:miter;stroke-opacity:1\"/>\n<path class=\"bond-4 atom-4 atom-5\" d=\"M 119.5,45.6 L 152.8,56.4\" style=\"fill:none;fill-rule:evenodd;stroke:#000000;stroke-width:2.0px;stroke-linecap:butt;stroke-linejoin:miter;stroke-opacity:1\"/>\n<path class=\"bond-5 atom-5 atom-6\" d=\"M 158.3,51.5 L 167.1,92.9\" style=\"fill:none;fill-rule:evenodd;stroke:#000000;stroke-width:2.0px;stroke-linecap:butt;stroke-linejoin:miter;stroke-opacity:1\"/>\n<path class=\"bond-6 atom-6 atom-7\" d=\"M 167.1,92.9 L 207.3,106.0\" style=\"fill:none;fill-rule:evenodd;stroke:#000000;stroke-width:2.0px;stroke-linecap:butt;stroke-linejoin:miter;stroke-opacity:1\"/>\n<path class=\"bond-7 atom-7 atom-8\" d=\"M 207.3,106.0 L 210.9,122.9\" style=\"fill:none;fill-rule:evenodd;stroke:#000000;stroke-width:2.0px;stroke-linecap:butt;stroke-linejoin:miter;stroke-opacity:1\"/>\n<path class=\"bond-7 atom-7 atom-8\" d=\"M 210.9,122.9 L 214.6,139.9\" style=\"fill:none;fill-rule:evenodd;stroke:#FF0000;stroke-width:2.0px;stroke-linecap:butt;stroke-linejoin:miter;stroke-opacity:1\"/>\n<path class=\"bond-8 atom-6 atom-9\" d=\"M 167.1,92.9 L 135.6,121.2\" style=\"fill:none;fill-rule:evenodd;stroke:#000000;stroke-width:2.0px;stroke-linecap:butt;stroke-linejoin:miter;stroke-opacity:1\"/>\n<path class=\"bond-8 atom-6 atom-9\" d=\"M 160.1,90.6 L 134.1,114.1\" style=\"fill:none;fill-rule:evenodd;stroke:#000000;stroke-width:2.0px;stroke-linecap:butt;stroke-linejoin:miter;stroke-opacity:1\"/>\n<path class=\"bond-9 atom-9 atom-2\" d=\"M 135.6,121.2 L 95.4,108.2\" style=\"fill:none;fill-rule:evenodd;stroke:#000000;stroke-width:2.0px;stroke-linecap:butt;stroke-linejoin:miter;stroke-opacity:1\"/>\n<path d=\"M 63.1,136.2 L 64.0,136.5 L 65.5,135.1\" style=\"fill:none;stroke:#000000;stroke-width:2.0px;stroke-linecap:butt;stroke-linejoin:miter;stroke-opacity:1;\"/>\n<path d=\"M 87.0,68.9 L 86.6,66.8 L 88.1,65.4\" style=\"fill:none;stroke:#000000;stroke-width:2.0px;stroke-linecap:butt;stroke-linejoin:miter;stroke-opacity:1;\"/>\n<path d=\"M 116.4,39.9 L 118.0,38.5 L 120.0,39.1\" style=\"fill:none;stroke:#000000;stroke-width:2.0px;stroke-linecap:butt;stroke-linejoin:miter;stroke-opacity:1;\"/>\n<path d=\"M 156.3,50.9 L 158.3,51.5 L 158.7,53.6\" style=\"fill:none;stroke:#000000;stroke-width:2.0px;stroke-linecap:butt;stroke-linejoin:miter;stroke-opacity:1;\"/>\n<path d=\"M 205.3,105.3 L 207.3,106.0 L 207.5,106.8\" style=\"fill:none;stroke:#000000;stroke-width:2.0px;stroke-linecap:butt;stroke-linejoin:miter;stroke-opacity:1;\"/>\n<path d=\"M 137.2,119.8 L 135.6,121.2 L 133.6,120.6\" style=\"fill:none;stroke:#000000;stroke-width:2.0px;stroke-linecap:butt;stroke-linejoin:miter;stroke-opacity:1;\"/>\n<path class=\"atom-0\" d=\"M 18.2 123.5 Q 18.2 120.6, 19.6 119.0 Q 21.0 117.4, 23.7 117.4 Q 26.4 117.4, 27.8 119.0 Q 29.2 120.6, 29.2 123.5 Q 29.2 126.4, 27.8 128.0 Q 26.3 129.7, 23.7 129.7 Q 21.1 129.7, 19.6 128.0 Q 18.2 126.4, 18.2 123.5 M 23.7 128.3 Q 25.5 128.3, 26.5 127.1 Q 27.5 125.9, 27.5 123.5 Q 27.5 121.1, 26.5 119.9 Q 25.5 118.7, 23.7 118.7 Q 21.9 118.7, 20.9 119.9 Q 19.9 121.1, 19.9 123.5 Q 19.9 125.9, 20.9 127.1 Q 21.9 128.3, 23.7 128.3 \" fill=\"#FF0000\"/>\n<path class=\"atom-0\" d=\"M 30.9 119.3 L 35.0 119.3 L 35.0 120.2 L 30.9 120.2 L 30.9 119.3 \" fill=\"#FF0000\"/>\n<path class=\"atom-8\" d=\"M 210.6 147.4 Q 210.6 144.5, 212.1 142.9 Q 213.5 141.3, 216.1 141.3 Q 218.8 141.3, 220.2 142.9 Q 221.6 144.5, 221.6 147.4 Q 221.6 150.3, 220.2 152.0 Q 218.8 153.6, 216.1 153.6 Q 213.5 153.6, 212.1 152.0 Q 210.6 150.3, 210.6 147.4 M 216.1 152.2 Q 218.0 152.2, 219.0 151.0 Q 220.0 149.8, 220.0 147.4 Q 220.0 145.0, 219.0 143.8 Q 218.0 142.6, 216.1 142.6 Q 214.3 142.6, 213.3 143.8 Q 212.3 145.0, 212.3 147.4 Q 212.3 149.8, 213.3 151.0 Q 214.3 152.2, 216.1 152.2 \" fill=\"#FF0000\"/>\n<path class=\"atom-8\" d=\"M 223.5 141.4 L 225.1 141.4 L 225.1 146.5 L 231.3 146.5 L 231.3 141.4 L 232.9 141.4 L 232.9 153.4 L 231.3 153.4 L 231.3 147.9 L 225.1 147.9 L 225.1 153.4 L 223.5 153.4 L 223.5 141.4 \" fill=\"#FF0000\"/>\n</svg>"
          },
          "metadata": {}
        },
        {
          "output_type": "display_data",
          "data": {
            "text/plain": [
              "<IPython.core.display.SVG object>"
            ],
            "image/svg+xml": "<svg xmlns=\"http://www.w3.org/2000/svg\" xmlns:rdkit=\"http://www.rdkit.org/xml\" xmlns:xlink=\"http://www.w3.org/1999/xlink\" version=\"1.1\" baseProfile=\"full\" xml:space=\"preserve\" width=\"250px\" height=\"200px\" viewBox=\"0 0 250 200\">\n<!-- END OF HEADER -->\n<rect style=\"opacity:1.0;fill:#FFFFFF;stroke:none\" width=\"250.0\" height=\"200.0\" x=\"0.0\" y=\"0.0\"> </rect>\n<ellipse cx=\"28.2\" cy=\"122.9\" rx=\"15.7\" ry=\"13.7\" class=\"atom-0\" style=\"fill:#00FF0033;fill-rule:evenodd;stroke:#00FF0033;stroke-width:1.0px;stroke-linecap:butt;stroke-linejoin:miter;stroke-opacity:1\"/>\n<ellipse cx=\"223.8\" cy=\"146.1\" rx=\"13.7\" ry=\"13.7\" class=\"atom-8\" style=\"fill:#00FF0033;fill-rule:evenodd;stroke:#00FF0033;stroke-width:1.0px;stroke-linecap:butt;stroke-linejoin:miter;stroke-opacity:1\"/>\n<path class=\"bond-0 atom-0 atom-1\" d=\"M 40.6,125.0 L 56.9,130.2\" style=\"fill:none;fill-rule:evenodd;stroke:#FF0000;stroke-width:2.0px;stroke-linecap:butt;stroke-linejoin:miter;stroke-opacity:1\"/>\n<path class=\"bond-0 atom-0 atom-1\" d=\"M 56.9,130.2 L 73.1,135.5\" style=\"fill:none;fill-rule:evenodd;stroke:#000000;stroke-width:2.0px;stroke-linecap:butt;stroke-linejoin:miter;stroke-opacity:1\"/>\n<path class=\"bond-1 atom-1 atom-2\" d=\"M 73.1,135.5 L 103.6,107.9\" style=\"fill:none;fill-rule:evenodd;stroke:#000000;stroke-width:2.0px;stroke-linecap:butt;stroke-linejoin:miter;stroke-opacity:1\"/>\n<path class=\"bond-2 atom-2 atom-3\" d=\"M 103.6,107.9 L 95.0,67.7\" style=\"fill:none;fill-rule:evenodd;stroke:#000000;stroke-width:2.0px;stroke-linecap:butt;stroke-linejoin:miter;stroke-opacity:1\"/>\n<path class=\"bond-2 atom-2 atom-3\" d=\"M 108.9,103.2 L 101.8,69.9\" style=\"fill:none;fill-rule:evenodd;stroke:#000000;stroke-width:2.0px;stroke-linecap:butt;stroke-linejoin:miter;stroke-opacity:1\"/>\n<path class=\"bond-3 atom-3 atom-4\" d=\"M 95.0,67.7 L 125.6,40.2\" style=\"fill:none;fill-rule:evenodd;stroke:#000000;stroke-width:2.0px;stroke-linecap:butt;stroke-linejoin:miter;stroke-opacity:1\"/>\n<path class=\"bond-4 atom-4 atom-5\" d=\"M 125.6,40.2 L 164.7,52.9\" style=\"fill:none;fill-rule:evenodd;stroke:#000000;stroke-width:2.0px;stroke-linecap:butt;stroke-linejoin:miter;stroke-opacity:1\"/>\n<path class=\"bond-4 atom-4 atom-5\" d=\"M 127.1,47.2 L 159.4,57.6\" style=\"fill:none;fill-rule:evenodd;stroke:#000000;stroke-width:2.0px;stroke-linecap:butt;stroke-linejoin:miter;stroke-opacity:1\"/>\n<path class=\"bond-5 atom-5 atom-6\" d=\"M 164.7,52.9 L 173.3,93.1\" style=\"fill:none;fill-rule:evenodd;stroke:#000000;stroke-width:2.0px;stroke-linecap:butt;stroke-linejoin:miter;stroke-opacity:1\"/>\n<path class=\"bond-6 atom-6 atom-7\" d=\"M 173.3,93.1 L 212.4,105.8\" style=\"fill:none;fill-rule:evenodd;stroke:#000000;stroke-width:2.0px;stroke-linecap:butt;stroke-linejoin:miter;stroke-opacity:1\"/>\n<path class=\"bond-7 atom-7 atom-8\" d=\"M 212.4,105.8 L 215.9,122.3\" style=\"fill:none;fill-rule:evenodd;stroke:#000000;stroke-width:2.0px;stroke-linecap:butt;stroke-linejoin:miter;stroke-opacity:1\"/>\n<path class=\"bond-7 atom-7 atom-8\" d=\"M 215.9,122.3 L 219.4,138.8\" style=\"fill:none;fill-rule:evenodd;stroke:#FF0000;stroke-width:2.0px;stroke-linecap:butt;stroke-linejoin:miter;stroke-opacity:1\"/>\n<path class=\"bond-8 atom-6 atom-9\" d=\"M 173.3,93.1 L 142.7,120.6\" style=\"fill:none;fill-rule:evenodd;stroke:#000000;stroke-width:2.0px;stroke-linecap:butt;stroke-linejoin:miter;stroke-opacity:1\"/>\n<path class=\"bond-8 atom-6 atom-9\" d=\"M 166.5,90.9 L 141.2,113.7\" style=\"fill:none;fill-rule:evenodd;stroke:#000000;stroke-width:2.0px;stroke-linecap:butt;stroke-linejoin:miter;stroke-opacity:1\"/>\n<path class=\"bond-9 atom-9 atom-2\" d=\"M 142.7,120.6 L 103.6,107.9\" style=\"fill:none;fill-rule:evenodd;stroke:#000000;stroke-width:2.0px;stroke-linecap:butt;stroke-linejoin:miter;stroke-opacity:1\"/>\n<path d=\"M 72.3,135.2 L 73.1,135.5 L 74.6,134.1\" style=\"fill:none;stroke:#000000;stroke-width:2.0px;stroke-linecap:butt;stroke-linejoin:miter;stroke-opacity:1;\"/>\n<path d=\"M 95.5,69.7 L 95.0,67.7 L 96.6,66.3\" style=\"fill:none;stroke:#000000;stroke-width:2.0px;stroke-linecap:butt;stroke-linejoin:miter;stroke-opacity:1;\"/>\n<path d=\"M 124.1,41.6 L 125.6,40.2 L 127.6,40.8\" style=\"fill:none;stroke:#000000;stroke-width:2.0px;stroke-linecap:butt;stroke-linejoin:miter;stroke-opacity:1;\"/>\n<path d=\"M 162.8,52.2 L 164.7,52.9 L 165.1,54.9\" style=\"fill:none;stroke:#000000;stroke-width:2.0px;stroke-linecap:butt;stroke-linejoin:miter;stroke-opacity:1;\"/>\n<path d=\"M 210.4,105.2 L 212.4,105.8 L 212.6,106.6\" style=\"fill:none;stroke:#000000;stroke-width:2.0px;stroke-linecap:butt;stroke-linejoin:miter;stroke-opacity:1;\"/>\n<path d=\"M 144.3,119.3 L 142.7,120.6 L 140.8,120.0\" style=\"fill:none;stroke:#000000;stroke-width:2.0px;stroke-linecap:butt;stroke-linejoin:miter;stroke-opacity:1;\"/>\n<path class=\"atom-0\" d=\"M 17.1 117.0 L 18.7 117.0 L 18.7 122.0 L 24.6 122.0 L 24.6 117.0 L 26.2 117.0 L 26.2 128.7 L 24.6 128.7 L 24.6 123.3 L 18.7 123.3 L 18.7 128.7 L 17.1 128.7 L 17.1 117.0 \" fill=\"#FF0000\"/>\n<path class=\"atom-0\" d=\"M 28.6 122.8 Q 28.6 120.0, 30.0 118.5 Q 31.4 116.9, 33.9 116.9 Q 36.5 116.9, 37.9 118.5 Q 39.3 120.0, 39.3 122.8 Q 39.3 125.6, 37.9 127.3 Q 36.5 128.8, 33.9 128.8 Q 31.4 128.8, 30.0 127.3 Q 28.6 125.7, 28.6 122.8 M 33.9 127.5 Q 35.7 127.5, 36.7 126.3 Q 37.6 125.1, 37.6 122.8 Q 37.6 120.5, 36.7 119.4 Q 35.7 118.2, 33.9 118.2 Q 32.2 118.2, 31.2 119.4 Q 30.2 120.5, 30.2 122.8 Q 30.2 125.2, 31.2 126.3 Q 32.2 127.5, 33.9 127.5 \" fill=\"#FF0000\"/>\n<path class=\"atom-8\" d=\"M 215.6 146.0 Q 215.6 143.3, 217.0 141.7 Q 218.4 140.1, 221.0 140.1 Q 223.6 140.1, 224.9 141.7 Q 226.3 143.3, 226.3 146.0 Q 226.3 148.9, 224.9 150.5 Q 223.5 152.1, 221.0 152.1 Q 218.4 152.1, 217.0 150.5 Q 215.6 148.9, 215.6 146.0 M 221.0 150.8 Q 222.7 150.8, 223.7 149.6 Q 224.7 148.4, 224.7 146.0 Q 224.7 143.8, 223.7 142.6 Q 222.7 141.4, 221.0 141.4 Q 219.2 141.4, 218.2 142.6 Q 217.3 143.7, 217.3 146.0 Q 217.3 148.4, 218.2 149.6 Q 219.2 150.8, 221.0 150.8 \" fill=\"#FF0000\"/>\n<path class=\"atom-8\" d=\"M 228.0 142.0 L 232.0 142.0 L 232.0 142.9 L 228.0 142.9 L 228.0 142.0 \" fill=\"#FF0000\"/>\n</svg>"
          },
          "metadata": {}
        }
      ]
    },
    {
      "cell_type": "code",
      "source": [
        "#@title Select treatment of symmetrical states\n",
        "#@markdown Please, select whether to inclue symmetrical states for a molecule\n",
        "#@markdown or not. If for a particular molecule there are no symmetrical\n",
        "#@markdown states available, selecting True won't influence the behaviour\n",
        "use_symmetrical_states_molecule_0 = False #@param {type:\"boolean\"}\n",
        "use_symmetrical_states_molecule_1 = True #@param {type:\"boolean\"}\n",
        "use_symmetrical_states_molecule_2 = False #@param {type:\"boolean\"}\n",
        "use_symmetrical_states_molecule_3 = False #@param {type:\"boolean\"}\n",
        "use_symmetrical_states_molecule_4 = False #@param {type:\"boolean\"}\n",
        "use_symmetrical_states_molecule_5 = False #@param {type:\"boolean\"}\n",
        "use_symmetrical_states_molecule_6 = False #@param {type:\"boolean\"}\n",
        "use_symmetrical_states_molecule_7 = False #@param {type:\"boolean\"}\n",
        "use_symmetrical_states_molecule_8 = False #@param {type:\"boolean\"}\n",
        "use_symmetrical_states_molecule_9 = False #@param {type:\"boolean\"}\n",
        "\n",
        "ss = [\n",
        "    use_symmetrical_states_molecule_0,\n",
        "    use_symmetrical_states_molecule_1,\n",
        "    use_symmetrical_states_molecule_2,\n",
        "    use_symmetrical_states_molecule_3,\n",
        "    use_symmetrical_states_molecule_4,\n",
        "    use_symmetrical_states_molecule_5,\n",
        "    use_symmetrical_states_molecule_6,\n",
        "    use_symmetrical_states_molecule_7,\n",
        "    use_symmetrical_states_molecule_8,\n",
        "    use_symmetrical_states_molecule_9,\n",
        "][:len(states)]"
      ],
      "metadata": {
        "id": "gbwN4jUv9e0f"
      },
      "execution_count": 89,
      "outputs": []
    },
    {
      "cell_type": "code",
      "source": [
        "#@title Update states information\n",
        "for i, s in zip(states.keys(), states.values()):\n",
        "    if ss:\n",
        "        t = ss[i]\n",
        "    else:\n",
        "        t = False\n",
        "    if t:\n",
        "        states[i] = (s[0], s[1], s[1], s[3], s[4])\n",
        "    if mHs:\n",
        "        from rdkit.Chem import rdFMCS\n",
        "        res = rdFMCS.FindMCS([pmol, pmol])\n",
        "        similar_patt = Chem.MolFromSmarts(res.smartsString)\n",
        "        subst_matches = s[0].GetSubstructMatches(similar_patt)[0]\n",
        "        factor = 1\n",
        "        atoms_with_mhs = []\n",
        "        for idx in sites_with_multiple_hs:\n",
        "            if not mHs[sites_with_multiple_hs.index(idx)]:\n",
        "                continue\n",
        "            a = s[0].GetAtomWithIdx(\n",
        "                subst_matches[subst_matches_pmol.index(idx)]\n",
        "            )\n",
        "            a_p = pmol.GetAtomWithIdx(idx)\n",
        "            if (\n",
        "                (a.GetNumExplicitHs() + a.GetNumImplicitHs()) !=\n",
        "                (a_p.GetNumExplicitHs() + a_p.GetNumImplicitHs())\n",
        "            ):\n",
        "                # TODO: we also need to add symmetrical atoms\n",
        "                atoms_with_mhs.append(idx)\n",
        "                factor *= (a_p.GetNumExplicitHs() + a_p.GetNumImplicitHs())\n",
        "        states[i] = (s[0], s[1], states[i][1] * factor, s[3], atoms_with_mhs)\n",
        "states"
      ],
      "metadata": {
        "colab": {
          "base_uri": "https://localhost:8080/"
        },
        "id": "GjWEZ3WGvpSf",
        "outputId": "0d972d5a-5b41-4dcc-d487-61eade4eb45f"
      },
      "execution_count": 90,
      "outputs": [
        {
          "output_type": "execute_result",
          "data": {
            "text/plain": [
              "{0: (<rdkit.Chem.rdchem.Mol at 0x7e4413509850>, 1, 1, None, None),\n",
              " 1: (<rdkit.Chem.rdchem.Mol at 0x7e441350aea0>,\n",
              "  2,\n",
              "  2,\n",
              "  ([0, 8], [[-1, 0, 0, 0, 0, 0, 0, 0, 0, 0], [0, 0, 0, 0, 0, 0, 0, 0, -1, 0]]),\n",
              "  None),\n",
              " 2: (<rdkit.Chem.rdchem.Mol at 0x7e441350b1b0>, 1, 1, None, None)}"
            ]
          },
          "metadata": {},
          "execution_count": 90
        }
      ]
    },
    {
      "cell_type": "code",
      "source": [
        "#@title Show state transitions\n",
        "state_transitions = []\n",
        "for i, m1 in enumerate(mols):\n",
        "    for j, m2 in enumerate(mols[i+1:]):\n",
        "        from rdkit.Chem import rdFMCS\n",
        "        res = rdFMCS.FindMCS([pmol, pmol])\n",
        "        similar_patt = Chem.MolFromSmarts(res.smartsString)\n",
        "        subst_matches1 = m1.GetSubstructMatches(similar_patt)[0]\n",
        "        subst_matches2 = m2.GetSubstructMatches(similar_patt)[0]\n",
        "        n_diffs = 0\n",
        "        for idx in titratable_sites:\n",
        "            if (\n",
        "                m1.GetAtomWithIdx(\n",
        "                    subst_matches1[subst_matches_pmol.index(idx)]\n",
        "                ).GetFormalCharge() !=\n",
        "                m2.GetAtomWithIdx(\n",
        "                    subst_matches2[subst_matches_pmol.index(idx)]\n",
        "                ).GetFormalCharge()\n",
        "            ):\n",
        "                n_diffs += 1\n",
        "        if n_diffs != 1:\n",
        "            continue\n",
        "        state_transitions.append((i, i + 1+j, m1, m2))\n",
        "\n",
        "def view_difference(mol1, mol2):\n",
        "    mcs = rdFMCS.FindMCS([mol1,mol2])\n",
        "    mcs_mol = Chem.MolFromSmarts(mcs.smartsString)\n",
        "    match1 = mol1.GetSubstructMatch(mcs_mol)\n",
        "    match2 = mol2.GetSubstructMatch(mcs_mol)\n",
        "    target_atm1 = []\n",
        "    target_atm2 = []\n",
        "    for a1, a2 in zip(match1, match2):\n",
        "        if (\n",
        "            mol1.GetAtomWithIdx(a1).GetFormalCharge() !=\n",
        "            mol2.GetAtomWithIdx(a2).GetFormalCharge()\n",
        "        ):\n",
        "            target_atm1.append(a1)\n",
        "            target_atm2.append(a2)\n",
        "    d2d = Draw.MolsToGridImage(\n",
        "        [mol1, mol2],\n",
        "        highlightAtomLists=[target_atm1, target_atm2],\n",
        "        useSVG = True,\n",
        "    )\n",
        "    display(d2d)\n",
        "\n",
        "print(\"We found the following transitions between protonation states:\")\n",
        "for i, st_t in enumerate(state_transitions):\n",
        "    print(f\"Transition {i}\")\n",
        "    view_difference(st_t[2], st_t[3])"
      ],
      "metadata": {
        "colab": {
          "base_uri": "https://localhost:8080/",
          "height": 482
        },
        "id": "ZBKOWkcz2HnX",
        "outputId": "537a1b8a-3592-4b95-e49d-bd1a714f9a00"
      },
      "execution_count": 91,
      "outputs": [
        {
          "output_type": "stream",
          "name": "stdout",
          "text": [
            "We found the following transitions between protonation states:\n",
            "Transition 0\n"
          ]
        },
        {
          "output_type": "display_data",
          "data": {
            "text/plain": [
              "<IPython.core.display.SVG object>"
            ],
            "image/svg+xml": "<svg xmlns=\"http://www.w3.org/2000/svg\" xmlns:rdkit=\"http://www.rdkit.org/xml\" xmlns:xlink=\"http://www.w3.org/1999/xlink\" version=\"1.1\" baseProfile=\"full\" xml:space=\"preserve\" width=\"600px\" height=\"200px\" viewBox=\"0 0 600 200\">\n<!-- END OF HEADER -->\n<rect style=\"opacity:1.0;fill:#FFFFFF;stroke:none\" width=\"600.0\" height=\"200.0\" x=\"0.0\" y=\"0.0\"> </rect>\n<ellipse cx=\"22.6\" cy=\"121.4\" rx=\"12.6\" ry=\"6.8\" class=\"atom-0\" style=\"fill:#FF7F7F;fill-rule:evenodd;stroke:#FF7F7F;stroke-width:1.0px;stroke-linecap:butt;stroke-linejoin:miter;stroke-opacity:1\"/>\n<path class=\"bond-0 atom-0 atom-1\" d=\"M 32.5,123.1 L 45.5,127.3\" style=\"fill:none;fill-rule:evenodd;stroke:#FF0000;stroke-width:2.0px;stroke-linecap:butt;stroke-linejoin:miter;stroke-opacity:1\"/>\n<path class=\"bond-0 atom-0 atom-1\" d=\"M 45.5,127.3 L 58.5,131.5\" style=\"fill:none;fill-rule:evenodd;stroke:#000000;stroke-width:2.0px;stroke-linecap:butt;stroke-linejoin:miter;stroke-opacity:1\"/>\n<path class=\"bond-1 atom-1 atom-2\" d=\"M 58.5,131.5 L 83.0,109.5\" style=\"fill:none;fill-rule:evenodd;stroke:#000000;stroke-width:2.0px;stroke-linecap:butt;stroke-linejoin:miter;stroke-opacity:1\"/>\n<path class=\"bond-2 atom-2 atom-3\" d=\"M 83.0,109.5 L 76.1,77.2\" style=\"fill:none;fill-rule:evenodd;stroke:#000000;stroke-width:2.0px;stroke-linecap:butt;stroke-linejoin:miter;stroke-opacity:1\"/>\n<path class=\"bond-2 atom-2 atom-3\" d=\"M 87.2,105.6 L 81.5,79.0\" style=\"fill:none;fill-rule:evenodd;stroke:#000000;stroke-width:2.0px;stroke-linecap:butt;stroke-linejoin:miter;stroke-opacity:1\"/>\n<path class=\"bond-3 atom-3 atom-4\" d=\"M 76.1,77.2 L 100.6,55.2\" style=\"fill:none;fill-rule:evenodd;stroke:#000000;stroke-width:2.0px;stroke-linecap:butt;stroke-linejoin:miter;stroke-opacity:1\"/>\n<path class=\"bond-4 atom-4 atom-5\" d=\"M 100.6,55.2 L 131.9,65.4\" style=\"fill:none;fill-rule:evenodd;stroke:#000000;stroke-width:2.0px;stroke-linecap:butt;stroke-linejoin:miter;stroke-opacity:1\"/>\n<path class=\"bond-4 atom-4 atom-5\" d=\"M 101.8,60.8 L 127.7,69.2\" style=\"fill:none;fill-rule:evenodd;stroke:#000000;stroke-width:2.0px;stroke-linecap:butt;stroke-linejoin:miter;stroke-opacity:1\"/>\n<path class=\"bond-5 atom-5 atom-6\" d=\"M 131.9,65.4 L 138.8,97.6\" style=\"fill:none;fill-rule:evenodd;stroke:#000000;stroke-width:2.0px;stroke-linecap:butt;stroke-linejoin:miter;stroke-opacity:1\"/>\n<path class=\"bond-6 atom-6 atom-7\" d=\"M 138.8,97.6 L 170.1,107.7\" style=\"fill:none;fill-rule:evenodd;stroke:#000000;stroke-width:2.0px;stroke-linecap:butt;stroke-linejoin:miter;stroke-opacity:1\"/>\n<path class=\"bond-7 atom-7 atom-8\" d=\"M 170.1,107.7 L 172.9,120.9\" style=\"fill:none;fill-rule:evenodd;stroke:#000000;stroke-width:2.0px;stroke-linecap:butt;stroke-linejoin:miter;stroke-opacity:1\"/>\n<path class=\"bond-7 atom-7 atom-8\" d=\"M 172.9,120.9 L 175.7,134.1\" style=\"fill:none;fill-rule:evenodd;stroke:#FF0000;stroke-width:2.0px;stroke-linecap:butt;stroke-linejoin:miter;stroke-opacity:1\"/>\n<path class=\"bond-8 atom-6 atom-9\" d=\"M 138.8,97.6 L 114.3,119.6\" style=\"fill:none;fill-rule:evenodd;stroke:#000000;stroke-width:2.0px;stroke-linecap:butt;stroke-linejoin:miter;stroke-opacity:1\"/>\n<path class=\"bond-8 atom-6 atom-9\" d=\"M 133.3,95.8 L 113.1,114.0\" style=\"fill:none;fill-rule:evenodd;stroke:#000000;stroke-width:2.0px;stroke-linecap:butt;stroke-linejoin:miter;stroke-opacity:1\"/>\n<path class=\"bond-9 atom-9 atom-2\" d=\"M 114.3,119.6 L 83.0,109.5\" style=\"fill:none;fill-rule:evenodd;stroke:#000000;stroke-width:2.0px;stroke-linecap:butt;stroke-linejoin:miter;stroke-opacity:1\"/>\n<path d=\"M 57.9,131.3 L 58.5,131.5 L 59.7,130.4\" style=\"fill:none;stroke:#000000;stroke-width:2.0px;stroke-linecap:butt;stroke-linejoin:miter;stroke-opacity:1;\"/>\n<path d=\"M 76.5,78.8 L 76.1,77.2 L 77.3,76.1\" style=\"fill:none;stroke:#000000;stroke-width:2.0px;stroke-linecap:butt;stroke-linejoin:miter;stroke-opacity:1;\"/>\n<path d=\"M 99.4,56.3 L 100.6,55.2 L 102.1,55.7\" style=\"fill:none;stroke:#000000;stroke-width:2.0px;stroke-linecap:butt;stroke-linejoin:miter;stroke-opacity:1;\"/>\n<path d=\"M 130.3,64.8 L 131.9,65.4 L 132.3,67.0\" style=\"fill:none;stroke:#000000;stroke-width:2.0px;stroke-linecap:butt;stroke-linejoin:miter;stroke-opacity:1;\"/>\n<path d=\"M 168.5,107.2 L 170.1,107.7 L 170.2,108.4\" style=\"fill:none;stroke:#000000;stroke-width:2.0px;stroke-linecap:butt;stroke-linejoin:miter;stroke-opacity:1;\"/>\n<path d=\"M 115.5,118.5 L 114.3,119.6 L 112.7,119.1\" style=\"fill:none;stroke:#000000;stroke-width:2.0px;stroke-linecap:butt;stroke-linejoin:miter;stroke-opacity:1;\"/>\n<path class=\"atom-0\" d=\"M 13.7 116.7 L 14.9 116.7 L 14.9 120.7 L 19.7 120.7 L 19.7 116.7 L 21.0 116.7 L 21.0 126.1 L 19.7 126.1 L 19.7 121.7 L 14.9 121.7 L 14.9 126.1 L 13.7 126.1 L 13.7 116.7 \" fill=\"#FF0000\"/>\n<path class=\"atom-0\" d=\"M 22.9 121.4 Q 22.9 119.1, 24.0 117.9 Q 25.1 116.6, 27.2 116.6 Q 29.2 116.6, 30.4 117.9 Q 31.5 119.1, 31.5 121.4 Q 31.5 123.6, 30.3 124.9 Q 29.2 126.2, 27.2 126.2 Q 25.1 126.2, 24.0 124.9 Q 22.9 123.6, 22.9 121.4 M 27.2 125.1 Q 28.6 125.1, 29.4 124.2 Q 30.1 123.2, 30.1 121.4 Q 30.1 119.5, 29.4 118.6 Q 28.6 117.7, 27.2 117.7 Q 25.8 117.7, 25.0 118.6 Q 24.2 119.5, 24.2 121.4 Q 24.2 123.3, 25.0 124.2 Q 25.8 125.1, 27.2 125.1 \" fill=\"#FF0000\"/>\n<path class=\"atom-8\" d=\"M 172.7 140.0 Q 172.7 137.7, 173.8 136.5 Q 174.9 135.2, 177.0 135.2 Q 179.0 135.2, 180.1 136.5 Q 181.2 137.7, 181.2 140.0 Q 181.2 142.2, 180.1 143.5 Q 179.0 144.8, 177.0 144.8 Q 174.9 144.8, 173.8 143.5 Q 172.7 142.3, 172.7 140.0 M 177.0 143.8 Q 178.4 143.8, 179.2 142.8 Q 179.9 141.8, 179.9 140.0 Q 179.9 138.1, 179.2 137.2 Q 178.4 136.3, 177.0 136.3 Q 175.5 136.3, 174.8 137.2 Q 174.0 138.1, 174.0 140.0 Q 174.0 141.9, 174.8 142.8 Q 175.5 143.8, 177.0 143.8 \" fill=\"#FF0000\"/>\n<path class=\"atom-8\" d=\"M 182.7 135.3 L 184.0 135.3 L 184.0 139.3 L 188.7 139.3 L 188.7 135.3 L 190.0 135.3 L 190.0 144.7 L 188.7 144.7 L 188.7 140.4 L 184.0 140.4 L 184.0 144.7 L 182.7 144.7 L 182.7 135.3 \" fill=\"#FF0000\"/>\n<ellipse cx=\"224.3\" cy=\"121.4\" rx=\"9.3\" ry=\"6.8\" class=\"atom-0\" style=\"fill:#FF7F7F;fill-rule:evenodd;stroke:#FF7F7F;stroke-width:1.0px;stroke-linecap:butt;stroke-linejoin:miter;stroke-opacity:1\"/>\n<path class=\"bond-0 atom-0 atom-1\" d=\"M 227.5,123.1 L 240.4,127.3\" style=\"fill:none;fill-rule:evenodd;stroke:#FF0000;stroke-width:2.0px;stroke-linecap:butt;stroke-linejoin:miter;stroke-opacity:1\"/>\n<path class=\"bond-0 atom-0 atom-1\" d=\"M 240.4,127.3 L 253.4,131.5\" style=\"fill:none;fill-rule:evenodd;stroke:#000000;stroke-width:2.0px;stroke-linecap:butt;stroke-linejoin:miter;stroke-opacity:1\"/>\n<path class=\"bond-1 atom-1 atom-2\" d=\"M 253.4,131.5 L 277.9,109.5\" style=\"fill:none;fill-rule:evenodd;stroke:#000000;stroke-width:2.0px;stroke-linecap:butt;stroke-linejoin:miter;stroke-opacity:1\"/>\n<path class=\"bond-2 atom-2 atom-3\" d=\"M 277.9,109.5 L 271.0,77.2\" style=\"fill:none;fill-rule:evenodd;stroke:#000000;stroke-width:2.0px;stroke-linecap:butt;stroke-linejoin:miter;stroke-opacity:1\"/>\n<path class=\"bond-2 atom-2 atom-3\" d=\"M 282.1,105.6 L 276.4,79.0\" style=\"fill:none;fill-rule:evenodd;stroke:#000000;stroke-width:2.0px;stroke-linecap:butt;stroke-linejoin:miter;stroke-opacity:1\"/>\n<path class=\"bond-3 atom-3 atom-4\" d=\"M 271.0,77.2 L 295.5,55.2\" style=\"fill:none;fill-rule:evenodd;stroke:#000000;stroke-width:2.0px;stroke-linecap:butt;stroke-linejoin:miter;stroke-opacity:1\"/>\n<path class=\"bond-4 atom-4 atom-5\" d=\"M 295.5,55.2 L 326.8,65.4\" style=\"fill:none;fill-rule:evenodd;stroke:#000000;stroke-width:2.0px;stroke-linecap:butt;stroke-linejoin:miter;stroke-opacity:1\"/>\n<path class=\"bond-4 atom-4 atom-5\" d=\"M 296.7,60.8 L 322.6,69.2\" style=\"fill:none;fill-rule:evenodd;stroke:#000000;stroke-width:2.0px;stroke-linecap:butt;stroke-linejoin:miter;stroke-opacity:1\"/>\n<path class=\"bond-5 atom-5 atom-6\" d=\"M 326.8,65.4 L 333.7,97.6\" style=\"fill:none;fill-rule:evenodd;stroke:#000000;stroke-width:2.0px;stroke-linecap:butt;stroke-linejoin:miter;stroke-opacity:1\"/>\n<path class=\"bond-6 atom-6 atom-7\" d=\"M 333.7,97.6 L 365.0,107.7\" style=\"fill:none;fill-rule:evenodd;stroke:#000000;stroke-width:2.0px;stroke-linecap:butt;stroke-linejoin:miter;stroke-opacity:1\"/>\n<path class=\"bond-7 atom-7 atom-8\" d=\"M 365.0,107.7 L 367.8,120.9\" style=\"fill:none;fill-rule:evenodd;stroke:#000000;stroke-width:2.0px;stroke-linecap:butt;stroke-linejoin:miter;stroke-opacity:1\"/>\n<path class=\"bond-7 atom-7 atom-8\" d=\"M 367.8,120.9 L 370.6,134.1\" style=\"fill:none;fill-rule:evenodd;stroke:#FF0000;stroke-width:2.0px;stroke-linecap:butt;stroke-linejoin:miter;stroke-opacity:1\"/>\n<path class=\"bond-8 atom-6 atom-9\" d=\"M 333.7,97.6 L 309.2,119.6\" style=\"fill:none;fill-rule:evenodd;stroke:#000000;stroke-width:2.0px;stroke-linecap:butt;stroke-linejoin:miter;stroke-opacity:1\"/>\n<path class=\"bond-8 atom-6 atom-9\" d=\"M 328.3,95.8 L 308.0,114.0\" style=\"fill:none;fill-rule:evenodd;stroke:#000000;stroke-width:2.0px;stroke-linecap:butt;stroke-linejoin:miter;stroke-opacity:1\"/>\n<path class=\"bond-9 atom-9 atom-2\" d=\"M 309.2,119.6 L 277.9,109.5\" style=\"fill:none;fill-rule:evenodd;stroke:#000000;stroke-width:2.0px;stroke-linecap:butt;stroke-linejoin:miter;stroke-opacity:1\"/>\n<path d=\"M 252.8,131.3 L 253.4,131.5 L 254.6,130.4\" style=\"fill:none;stroke:#000000;stroke-width:2.0px;stroke-linecap:butt;stroke-linejoin:miter;stroke-opacity:1;\"/>\n<path d=\"M 271.4,78.8 L 271.0,77.2 L 272.2,76.1\" style=\"fill:none;stroke:#000000;stroke-width:2.0px;stroke-linecap:butt;stroke-linejoin:miter;stroke-opacity:1;\"/>\n<path d=\"M 294.3,56.3 L 295.5,55.2 L 297.1,55.7\" style=\"fill:none;stroke:#000000;stroke-width:2.0px;stroke-linecap:butt;stroke-linejoin:miter;stroke-opacity:1;\"/>\n<path d=\"M 325.3,64.8 L 326.8,65.4 L 327.2,67.0\" style=\"fill:none;stroke:#000000;stroke-width:2.0px;stroke-linecap:butt;stroke-linejoin:miter;stroke-opacity:1;\"/>\n<path d=\"M 363.4,107.2 L 365.0,107.7 L 365.2,108.4\" style=\"fill:none;stroke:#000000;stroke-width:2.0px;stroke-linecap:butt;stroke-linejoin:miter;stroke-opacity:1;\"/>\n<path d=\"M 310.4,118.5 L 309.2,119.6 L 307.6,119.1\" style=\"fill:none;stroke:#000000;stroke-width:2.0px;stroke-linecap:butt;stroke-linejoin:miter;stroke-opacity:1;\"/>\n<path class=\"atom-0\" d=\"M 217.8 121.4 Q 217.8 119.1, 218.9 117.9 Q 220.0 116.6, 222.1 116.6 Q 224.2 116.6, 225.3 117.9 Q 226.4 119.1, 226.4 121.4 Q 226.4 123.6, 225.2 124.9 Q 224.1 126.2, 222.1 126.2 Q 220.0 126.2, 218.9 124.9 Q 217.8 123.6, 217.8 121.4 M 222.1 125.1 Q 223.5 125.1, 224.3 124.2 Q 225.0 123.2, 225.0 121.4 Q 225.0 119.5, 224.3 118.6 Q 223.5 117.7, 222.1 117.7 Q 220.7 117.7, 219.9 118.6 Q 219.1 119.5, 219.1 121.4 Q 219.1 123.3, 219.9 124.2 Q 220.7 125.1, 222.1 125.1 \" fill=\"#FF0000\"/>\n<path class=\"atom-0\" d=\"M 227.7 118.1 L 230.9 118.1 L 230.9 118.8 L 227.7 118.8 L 227.7 118.1 \" fill=\"#FF0000\"/>\n<path class=\"atom-8\" d=\"M 367.6 140.0 Q 367.6 137.7, 368.7 136.5 Q 369.8 135.2, 371.9 135.2 Q 373.9 135.2, 375.1 136.5 Q 376.2 137.7, 376.2 140.0 Q 376.2 142.2, 375.0 143.5 Q 373.9 144.8, 371.9 144.8 Q 369.8 144.8, 368.7 143.5 Q 367.6 142.3, 367.6 140.0 M 371.9 143.8 Q 373.3 143.8, 374.1 142.8 Q 374.8 141.8, 374.8 140.0 Q 374.8 138.1, 374.1 137.2 Q 373.3 136.3, 371.9 136.3 Q 370.5 136.3, 369.7 137.2 Q 368.9 138.1, 368.9 140.0 Q 368.9 141.9, 369.7 142.8 Q 370.5 143.8, 371.9 143.8 \" fill=\"#FF0000\"/>\n<path class=\"atom-8\" d=\"M 377.6 135.3 L 378.9 135.3 L 378.9 139.3 L 383.6 139.3 L 383.6 135.3 L 384.9 135.3 L 384.9 144.7 L 383.6 144.7 L 383.6 140.4 L 378.9 140.4 L 378.9 144.7 L 377.6 144.7 L 377.6 135.3 \" fill=\"#FF0000\"/>\n</svg>"
          },
          "metadata": {}
        },
        {
          "output_type": "stream",
          "name": "stdout",
          "text": [
            "Transition 1\n"
          ]
        },
        {
          "output_type": "display_data",
          "data": {
            "text/plain": [
              "<IPython.core.display.SVG object>"
            ],
            "image/svg+xml": "<svg xmlns=\"http://www.w3.org/2000/svg\" xmlns:rdkit=\"http://www.rdkit.org/xml\" xmlns:xlink=\"http://www.w3.org/1999/xlink\" version=\"1.1\" baseProfile=\"full\" xml:space=\"preserve\" width=\"600px\" height=\"200px\" viewBox=\"0 0 600 200\">\n<!-- END OF HEADER -->\n<rect style=\"opacity:1.0;fill:#FFFFFF;stroke:none\" width=\"600.0\" height=\"200.0\" x=\"0.0\" y=\"0.0\"> </rect>\n<ellipse cx=\"177.1\" cy=\"141.2\" rx=\"12.9\" ry=\"7.1\" class=\"atom-8\" style=\"fill:#FF7F7F;fill-rule:evenodd;stroke:#FF7F7F;stroke-width:1.0px;stroke-linecap:butt;stroke-linejoin:miter;stroke-opacity:1\"/>\n<path class=\"bond-0 atom-0 atom-1\" d=\"M 20.2,123.3 L 33.9,127.7\" style=\"fill:none;fill-rule:evenodd;stroke:#FF0000;stroke-width:2.0px;stroke-linecap:butt;stroke-linejoin:miter;stroke-opacity:1\"/>\n<path class=\"bond-0 atom-0 atom-1\" d=\"M 33.9,127.7 L 47.6,132.2\" style=\"fill:none;fill-rule:evenodd;stroke:#000000;stroke-width:2.0px;stroke-linecap:butt;stroke-linejoin:miter;stroke-opacity:1\"/>\n<path class=\"bond-1 atom-1 atom-2\" d=\"M 47.6,132.2 L 73.4,108.9\" style=\"fill:none;fill-rule:evenodd;stroke:#000000;stroke-width:2.0px;stroke-linecap:butt;stroke-linejoin:miter;stroke-opacity:1\"/>\n<path class=\"bond-2 atom-2 atom-3\" d=\"M 73.4,108.9 L 66.1,75.0\" style=\"fill:none;fill-rule:evenodd;stroke:#000000;stroke-width:2.0px;stroke-linecap:butt;stroke-linejoin:miter;stroke-opacity:1\"/>\n<path class=\"bond-2 atom-2 atom-3\" d=\"M 77.8,104.9 L 71.8,76.8\" style=\"fill:none;fill-rule:evenodd;stroke:#000000;stroke-width:2.0px;stroke-linecap:butt;stroke-linejoin:miter;stroke-opacity:1\"/>\n<path class=\"bond-3 atom-3 atom-4\" d=\"M 66.1,75.0 L 91.9,51.7\" style=\"fill:none;fill-rule:evenodd;stroke:#000000;stroke-width:2.0px;stroke-linecap:butt;stroke-linejoin:miter;stroke-opacity:1\"/>\n<path class=\"bond-4 atom-4 atom-5\" d=\"M 91.9,51.7 L 125.0,62.4\" style=\"fill:none;fill-rule:evenodd;stroke:#000000;stroke-width:2.0px;stroke-linecap:butt;stroke-linejoin:miter;stroke-opacity:1\"/>\n<path class=\"bond-4 atom-4 atom-5\" d=\"M 93.2,57.6 L 120.5,66.4\" style=\"fill:none;fill-rule:evenodd;stroke:#000000;stroke-width:2.0px;stroke-linecap:butt;stroke-linejoin:miter;stroke-opacity:1\"/>\n<path class=\"bond-5 atom-5 atom-6\" d=\"M 125.0,62.4 L 132.2,96.4\" style=\"fill:none;fill-rule:evenodd;stroke:#000000;stroke-width:2.0px;stroke-linecap:butt;stroke-linejoin:miter;stroke-opacity:1\"/>\n<path class=\"bond-6 atom-6 atom-7\" d=\"M 132.2,96.4 L 165.2,107.1\" style=\"fill:none;fill-rule:evenodd;stroke:#000000;stroke-width:2.0px;stroke-linecap:butt;stroke-linejoin:miter;stroke-opacity:1\"/>\n<path class=\"bond-7 atom-7 atom-8\" d=\"M 165.2,107.1 L 168.2,121.0\" style=\"fill:none;fill-rule:evenodd;stroke:#000000;stroke-width:2.0px;stroke-linecap:butt;stroke-linejoin:miter;stroke-opacity:1\"/>\n<path class=\"bond-7 atom-7 atom-8\" d=\"M 168.2,121.0 L 171.2,135.0\" style=\"fill:none;fill-rule:evenodd;stroke:#FF0000;stroke-width:2.0px;stroke-linecap:butt;stroke-linejoin:miter;stroke-opacity:1\"/>\n<path class=\"bond-8 atom-6 atom-9\" d=\"M 132.2,96.4 L 106.4,119.6\" style=\"fill:none;fill-rule:evenodd;stroke:#000000;stroke-width:2.0px;stroke-linecap:butt;stroke-linejoin:miter;stroke-opacity:1\"/>\n<path class=\"bond-8 atom-6 atom-9\" d=\"M 126.5,94.5 L 105.1,113.8\" style=\"fill:none;fill-rule:evenodd;stroke:#000000;stroke-width:2.0px;stroke-linecap:butt;stroke-linejoin:miter;stroke-opacity:1\"/>\n<path class=\"bond-9 atom-9 atom-2\" d=\"M 106.4,119.6 L 73.4,108.9\" style=\"fill:none;fill-rule:evenodd;stroke:#000000;stroke-width:2.0px;stroke-linecap:butt;stroke-linejoin:miter;stroke-opacity:1\"/>\n<path d=\"M 46.9,132.0 L 47.6,132.2 L 48.8,131.0\" style=\"fill:none;stroke:#000000;stroke-width:2.0px;stroke-linecap:butt;stroke-linejoin:miter;stroke-opacity:1;\"/>\n<path d=\"M 66.5,76.7 L 66.1,75.0 L 67.4,73.8\" style=\"fill:none;stroke:#000000;stroke-width:2.0px;stroke-linecap:butt;stroke-linejoin:miter;stroke-opacity:1;\"/>\n<path d=\"M 90.6,52.9 L 91.9,51.7 L 93.6,52.2\" style=\"fill:none;stroke:#000000;stroke-width:2.0px;stroke-linecap:butt;stroke-linejoin:miter;stroke-opacity:1;\"/>\n<path d=\"M 123.3,61.9 L 125.0,62.4 L 125.3,64.1\" style=\"fill:none;stroke:#000000;stroke-width:2.0px;stroke-linecap:butt;stroke-linejoin:miter;stroke-opacity:1;\"/>\n<path d=\"M 163.6,106.6 L 165.2,107.1 L 165.4,107.8\" style=\"fill:none;stroke:#000000;stroke-width:2.0px;stroke-linecap:butt;stroke-linejoin:miter;stroke-opacity:1;\"/>\n<path d=\"M 107.7,118.5 L 106.4,119.6 L 104.7,119.1\" style=\"fill:none;stroke:#000000;stroke-width:2.0px;stroke-linecap:butt;stroke-linejoin:miter;stroke-opacity:1;\"/>\n<path class=\"atom-0\" d=\"M 10.0 121.5 Q 10.0 119.1, 11.2 117.8 Q 12.3 116.5, 14.5 116.5 Q 16.7 116.5, 17.9 117.8 Q 19.0 119.1, 19.0 121.5 Q 19.0 123.9, 17.9 125.2 Q 16.7 126.6, 14.5 126.6 Q 12.3 126.6, 11.2 125.2 Q 10.0 123.9, 10.0 121.5 M 14.5 125.5 Q 16.0 125.5, 16.8 124.5 Q 17.6 123.5, 17.6 121.5 Q 17.6 119.6, 16.8 118.6 Q 16.0 117.6, 14.5 117.6 Q 13.0 117.6, 12.2 118.6 Q 11.4 119.5, 11.4 121.5 Q 11.4 123.5, 12.2 124.5 Q 13.0 125.5, 14.5 125.5 \" fill=\"#FF0000\"/>\n<path class=\"atom-0\" d=\"M 20.4 118.1 L 23.8 118.1 L 23.8 118.8 L 20.4 118.8 L 20.4 118.1 \" fill=\"#FF0000\"/>\n<path class=\"atom-8\" d=\"M 168.0 141.1 Q 168.0 138.7, 169.1 137.4 Q 170.3 136.1, 172.5 136.1 Q 174.7 136.1, 175.8 137.4 Q 177.0 138.7, 177.0 141.1 Q 177.0 143.5, 175.8 144.9 Q 174.6 146.2, 172.5 146.2 Q 170.3 146.2, 169.1 144.9 Q 168.0 143.5, 168.0 141.1 M 172.5 145.1 Q 174.0 145.1, 174.8 144.1 Q 175.6 143.1, 175.6 141.1 Q 175.6 139.2, 174.8 138.2 Q 174.0 137.2, 172.5 137.2 Q 171.0 137.2, 170.2 138.2 Q 169.3 139.2, 169.3 141.1 Q 169.3 143.1, 170.2 144.1 Q 171.0 145.1, 172.5 145.1 \" fill=\"#FF0000\"/>\n<path class=\"atom-8\" d=\"M 178.5 136.2 L 179.9 136.2 L 179.9 140.4 L 184.9 140.4 L 184.9 136.2 L 186.2 136.2 L 186.2 146.1 L 184.9 146.1 L 184.9 141.5 L 179.9 141.5 L 179.9 146.1 L 178.5 146.1 L 178.5 136.2 \" fill=\"#FF0000\"/>\n<ellipse cx=\"377.6\" cy=\"141.2\" rx=\"9.8\" ry=\"7.1\" class=\"atom-8\" style=\"fill:#FF7F7F;fill-rule:evenodd;stroke:#FF7F7F;stroke-width:1.0px;stroke-linecap:butt;stroke-linejoin:miter;stroke-opacity:1\"/>\n<path class=\"bond-0 atom-0 atom-1\" d=\"M 222.9,123.3 L 236.6,127.7\" style=\"fill:none;fill-rule:evenodd;stroke:#FF0000;stroke-width:2.0px;stroke-linecap:butt;stroke-linejoin:miter;stroke-opacity:1\"/>\n<path class=\"bond-0 atom-0 atom-1\" d=\"M 236.6,127.7 L 250.2,132.2\" style=\"fill:none;fill-rule:evenodd;stroke:#000000;stroke-width:2.0px;stroke-linecap:butt;stroke-linejoin:miter;stroke-opacity:1\"/>\n<path class=\"bond-1 atom-1 atom-2\" d=\"M 250.2,132.2 L 276.1,108.9\" style=\"fill:none;fill-rule:evenodd;stroke:#000000;stroke-width:2.0px;stroke-linecap:butt;stroke-linejoin:miter;stroke-opacity:1\"/>\n<path class=\"bond-2 atom-2 atom-3\" d=\"M 276.1,108.9 L 268.8,75.0\" style=\"fill:none;fill-rule:evenodd;stroke:#000000;stroke-width:2.0px;stroke-linecap:butt;stroke-linejoin:miter;stroke-opacity:1\"/>\n<path class=\"bond-2 atom-2 atom-3\" d=\"M 280.5,104.9 L 274.5,76.8\" style=\"fill:none;fill-rule:evenodd;stroke:#000000;stroke-width:2.0px;stroke-linecap:butt;stroke-linejoin:miter;stroke-opacity:1\"/>\n<path class=\"bond-3 atom-3 atom-4\" d=\"M 268.8,75.0 L 294.6,51.7\" style=\"fill:none;fill-rule:evenodd;stroke:#000000;stroke-width:2.0px;stroke-linecap:butt;stroke-linejoin:miter;stroke-opacity:1\"/>\n<path class=\"bond-4 atom-4 atom-5\" d=\"M 294.6,51.7 L 327.7,62.4\" style=\"fill:none;fill-rule:evenodd;stroke:#000000;stroke-width:2.0px;stroke-linecap:butt;stroke-linejoin:miter;stroke-opacity:1\"/>\n<path class=\"bond-4 atom-4 atom-5\" d=\"M 295.9,57.6 L 323.2,66.4\" style=\"fill:none;fill-rule:evenodd;stroke:#000000;stroke-width:2.0px;stroke-linecap:butt;stroke-linejoin:miter;stroke-opacity:1\"/>\n<path class=\"bond-5 atom-5 atom-6\" d=\"M 327.7,62.4 L 334.9,96.4\" style=\"fill:none;fill-rule:evenodd;stroke:#000000;stroke-width:2.0px;stroke-linecap:butt;stroke-linejoin:miter;stroke-opacity:1\"/>\n<path class=\"bond-6 atom-6 atom-7\" d=\"M 334.9,96.4 L 367.9,107.1\" style=\"fill:none;fill-rule:evenodd;stroke:#000000;stroke-width:2.0px;stroke-linecap:butt;stroke-linejoin:miter;stroke-opacity:1\"/>\n<path class=\"bond-7 atom-7 atom-8\" d=\"M 367.9,107.1 L 370.9,121.0\" style=\"fill:none;fill-rule:evenodd;stroke:#000000;stroke-width:2.0px;stroke-linecap:butt;stroke-linejoin:miter;stroke-opacity:1\"/>\n<path class=\"bond-7 atom-7 atom-8\" d=\"M 370.9,121.0 L 373.9,135.0\" style=\"fill:none;fill-rule:evenodd;stroke:#FF0000;stroke-width:2.0px;stroke-linecap:butt;stroke-linejoin:miter;stroke-opacity:1\"/>\n<path class=\"bond-8 atom-6 atom-9\" d=\"M 334.9,96.4 L 309.1,119.6\" style=\"fill:none;fill-rule:evenodd;stroke:#000000;stroke-width:2.0px;stroke-linecap:butt;stroke-linejoin:miter;stroke-opacity:1\"/>\n<path class=\"bond-8 atom-6 atom-9\" d=\"M 329.2,94.5 L 307.8,113.8\" style=\"fill:none;fill-rule:evenodd;stroke:#000000;stroke-width:2.0px;stroke-linecap:butt;stroke-linejoin:miter;stroke-opacity:1\"/>\n<path class=\"bond-9 atom-9 atom-2\" d=\"M 309.1,119.6 L 276.1,108.9\" style=\"fill:none;fill-rule:evenodd;stroke:#000000;stroke-width:2.0px;stroke-linecap:butt;stroke-linejoin:miter;stroke-opacity:1\"/>\n<path d=\"M 249.6,132.0 L 250.2,132.2 L 251.5,131.0\" style=\"fill:none;stroke:#000000;stroke-width:2.0px;stroke-linecap:butt;stroke-linejoin:miter;stroke-opacity:1;\"/>\n<path d=\"M 269.2,76.7 L 268.8,75.0 L 270.1,73.8\" style=\"fill:none;stroke:#000000;stroke-width:2.0px;stroke-linecap:butt;stroke-linejoin:miter;stroke-opacity:1;\"/>\n<path d=\"M 293.3,52.9 L 294.6,51.7 L 296.3,52.2\" style=\"fill:none;stroke:#000000;stroke-width:2.0px;stroke-linecap:butt;stroke-linejoin:miter;stroke-opacity:1;\"/>\n<path d=\"M 326.0,61.9 L 327.7,62.4 L 328.0,64.1\" style=\"fill:none;stroke:#000000;stroke-width:2.0px;stroke-linecap:butt;stroke-linejoin:miter;stroke-opacity:1;\"/>\n<path d=\"M 366.3,106.6 L 367.9,107.1 L 368.1,107.8\" style=\"fill:none;stroke:#000000;stroke-width:2.0px;stroke-linecap:butt;stroke-linejoin:miter;stroke-opacity:1;\"/>\n<path d=\"M 310.4,118.5 L 309.1,119.6 L 307.4,119.1\" style=\"fill:none;stroke:#000000;stroke-width:2.0px;stroke-linecap:butt;stroke-linejoin:miter;stroke-opacity:1;\"/>\n<path class=\"atom-0\" d=\"M 212.7 121.5 Q 212.7 119.1, 213.9 117.8 Q 215.0 116.5, 217.2 116.5 Q 219.4 116.5, 220.6 117.8 Q 221.7 119.1, 221.7 121.5 Q 221.7 123.9, 220.5 125.2 Q 219.4 126.6, 217.2 126.6 Q 215.0 126.6, 213.9 125.2 Q 212.7 123.9, 212.7 121.5 M 217.2 125.5 Q 218.7 125.5, 219.5 124.5 Q 220.3 123.5, 220.3 121.5 Q 220.3 119.6, 219.5 118.6 Q 218.7 117.6, 217.2 117.6 Q 215.7 117.6, 214.9 118.6 Q 214.1 119.5, 214.1 121.5 Q 214.1 123.5, 214.9 124.5 Q 215.7 125.5, 217.2 125.5 \" fill=\"#FF0000\"/>\n<path class=\"atom-0\" d=\"M 223.1 118.1 L 226.5 118.1 L 226.5 118.8 L 223.1 118.8 L 223.1 118.1 \" fill=\"#FF0000\"/>\n<path class=\"atom-8\" d=\"M 370.7 141.1 Q 370.7 138.7, 371.8 137.4 Q 373.0 136.1, 375.2 136.1 Q 377.3 136.1, 378.5 137.4 Q 379.7 138.7, 379.7 141.1 Q 379.7 143.5, 378.5 144.9 Q 377.3 146.2, 375.2 146.2 Q 373.0 146.2, 371.8 144.9 Q 370.7 143.5, 370.7 141.1 M 375.2 145.1 Q 376.7 145.1, 377.5 144.1 Q 378.3 143.1, 378.3 141.1 Q 378.3 139.2, 377.5 138.2 Q 376.7 137.2, 375.2 137.2 Q 373.7 137.2, 372.8 138.2 Q 372.0 139.2, 372.0 141.1 Q 372.0 143.1, 372.8 144.1 Q 373.7 145.1, 375.2 145.1 \" fill=\"#FF0000\"/>\n<path class=\"atom-8\" d=\"M 381.1 137.7 L 384.4 137.7 L 384.4 138.4 L 381.1 138.4 L 381.1 137.7 \" fill=\"#FF0000\"/>\n</svg>"
          },
          "metadata": {}
        }
      ]
    },
    {
      "cell_type": "code",
      "source": [
        "state_transitions"
      ],
      "metadata": {
        "colab": {
          "base_uri": "https://localhost:8080/"
        },
        "id": "geoXRdMEShJp",
        "outputId": "aa3f6669-f94d-46b1-f0ec-0761d59a7b81"
      },
      "execution_count": 92,
      "outputs": [
        {
          "output_type": "execute_result",
          "data": {
            "text/plain": [
              "[(0,\n",
              "  1,\n",
              "  <rdkit.Chem.rdchem.Mol at 0x7e4413509850>,\n",
              "  <rdkit.Chem.rdchem.Mol at 0x7e441350aea0>),\n",
              " (1,\n",
              "  2,\n",
              "  <rdkit.Chem.rdchem.Mol at 0x7e441350aea0>,\n",
              "  <rdkit.Chem.rdchem.Mol at 0x7e441350b1b0>)]"
            ]
          },
          "metadata": {},
          "execution_count": 92
        }
      ]
    },
    {
      "cell_type": "code",
      "source": [
        "#@title Provide pKa values for transitions between protonated states\n",
        "#@markdown Please, provide pKa values for protonated states.\n",
        "pka_0 = 2 #@param {type:\"number\"}\n",
        "pka_1 = 3 #@param {type:\"number\"}\n",
        "pka_2 = 4 #@param {type:\"number\"}\n",
        "pka_3 = 5 #@param {type:\"number\"}\n",
        "pka_4 = 0.0 #@param {type:\"number\"}\n",
        "pka_5 = 0.0 #@param {type:\"number\"}\n",
        "pka_6 = 0.0 #@param {type:\"number\"}\n",
        "pka_7 = 0.0 #@param {type:\"number\"}\n",
        "pka_8 = 0.0 #@param {type:\"number\"}\n",
        "pka_9 = 0.0 #@param {type:\"number\"}\n",
        "\n",
        "pkas = [\n",
        "    pka_0, pka_1, pka_2, pka_3, pka_4,\n",
        "    pka_5, pka_6, pka_7, pka_8, pka_9,\n",
        "][:len(state_transitions)]"
      ],
      "metadata": {
        "id": "Qg4YAxSh-Ibw"
      },
      "execution_count": 93,
      "outputs": []
    },
    {
      "cell_type": "code",
      "source": [
        "states"
      ],
      "metadata": {
        "colab": {
          "base_uri": "https://localhost:8080/"
        },
        "id": "OTheYiivkbto",
        "outputId": "510bb1c1-ae79-4b66-e54f-3ef13c7b9311"
      },
      "execution_count": 94,
      "outputs": [
        {
          "output_type": "execute_result",
          "data": {
            "text/plain": [
              "{0: (<rdkit.Chem.rdchem.Mol at 0x7e4413509850>, 1, 1, None, None),\n",
              " 1: (<rdkit.Chem.rdchem.Mol at 0x7e441350aea0>,\n",
              "  2,\n",
              "  2,\n",
              "  ([0, 8], [[-1, 0, 0, 0, 0, 0, 0, 0, 0, 0], [0, 0, 0, 0, 0, 0, 0, 0, -1, 0]]),\n",
              "  None),\n",
              " 2: (<rdkit.Chem.rdchem.Mol at 0x7e441350b1b0>, 1, 1, None, None)}"
            ]
          },
          "metadata": {},
          "execution_count": 94
        }
      ]
    },
    {
      "cell_type": "code",
      "source": [
        "#@title Generate pKa matrix equation\n",
        "import numpy as np\n",
        "from sympy import Matrix, MatrixSymbol, symbols\n",
        "if len(mols) == 2 and all(states[x][2] == 1 for x in states):\n",
        "    print(f\"Single state should be used. pKa = {pkas[0]}\")\n",
        "else:\n",
        "    ph = symbols(\"pH\")\n",
        "    A = np.zeros((len(state_transitions) + 1, len(mols)), dtype = 'int')\n",
        "    b = MatrixSymbol('b', len(state_transitions) + 1, 1).as_explicit()\n",
        "    bsubs = {b[0,0]: ph}\n",
        "    for i, (tr, pka) in enumerate(zip(state_transitions, pkas)):\n",
        "        state1 = tr[0]\n",
        "        state2 = tr[1]\n",
        "        n = states[state1][2]\n",
        "        m = states[state2][2]\n",
        "        if Chem.GetFormalCharge(tr[2]) > Chem.GetFormalCharge(tr[3]):\n",
        "            A[i+1, state1] =-1\n",
        "            A[i+1, state2] = 1\n",
        "            bsubs[b[i + 1, 0]] = pka - np.log10(n/m) - ph\n",
        "        else:\n",
        "            A[i+1, state1] = 1\n",
        "            A[i+1, state2] = -1\n",
        "            bsubs[b[i + 1, 0]] = pka - np.log10(m/n) - ph\n",
        "    A[0, 0] = 1\n",
        "    m = Matrix(A)\n",
        "    _, inds = m.T.rref()\n",
        "    removed_inds = [x for x in range(len(state_transitions) + 1) if x not in inds]\n",
        "    Ar = A[list(inds)]\n",
        "    Ad = A[list(removed_inds)]\n",
        "    mr = Matrix(Ar)\n",
        "    md = Matrix(Ad)\n",
        "    p = MatrixSymbol('p', len(mols), 1).as_explicit()\n",
        "    b = b.subs(bsubs)\n",
        "    br = MatrixSymbol('br', len(inds), 1).as_explicit()\n",
        "    brsubs = {}\n",
        "    for i, idx in enumerate(inds):\n",
        "        brsubs[br[i, 0]] = b[idx, 0]\n",
        "\n",
        "    br = br.subs(brsubs)\n",
        "    br\n",
        "\n",
        "    sol = mr.solve(br)\n",
        "    print(\n",
        "        \"Recommended pKa values for protonations states, considering all previous \"\n",
        "        + \"input are:\"\n",
        "    )\n",
        "    for i in range(len(mols)):\n",
        "        print(f\"State {i}: pKa = {sol[i,0]}\")"
      ],
      "metadata": {
        "colab": {
          "base_uri": "https://localhost:8080/"
        },
        "id": "FPCRNZxE_EIz",
        "outputId": "adb41070-6ee1-4861-e849-f17187119463"
      },
      "execution_count": 96,
      "outputs": [
        {
          "output_type": "stream",
          "name": "stdout",
          "text": [
            "Recommended pKa values for protonations states, considering all previous input are:\n",
            "State 0: pKa = pH\n",
            "State 1: pKa = 2.30102999566398\n",
            "State 2: pKa = 5.0 - pH\n"
          ]
        }
      ]
    },
    {
      "cell_type": "code",
      "source": [
        "#@title Topology and structure general behavior\n",
        "#@markdown Do you want us to generate topology and molecule structure with\n",
        "#@markdown Open Force Field? If no, you would need to provide topologies in\n",
        "#@markdown **.itp** format in the following steps.\n",
        "is_generation_needed = True #@param {type:\"boolean\"}\n",
        "ff_to_use = \"openff-2.1.0.offxml\" #@param {type:\"string\"}\n",
        "molecule_name = \"MOL\" #@param {type:\"string\"}\n",
        "_mols = []\n",
        "charges = []\n",
        "if is_generation_needed:\n",
        "    ff = ForceField(ff_to_use)\n",
        "    for _i, m in enumerate(mols):\n",
        "        _m = Molecule.from_rdkit(m)\n",
        "        _m.generate_conformers()\n",
        "        interchange = ff.create_interchange(_m.to_topology())\n",
        "        charges.append(\n",
        "            [a.partial_charge.magnitude for a in interchange.topology.atoms]\n",
        "        )\n",
        "        _mols.append(_m.to_rdkit())\n",
        "        if _i == 0:\n",
        "            interchange.to_gromacs(f\"molecule_{_i}\")\n",
        "        else:\n",
        "            interchange.to_top(f\"molecule_{_i}.top\")\n",
        "\n",
        "_base_mol = _mols[0]\n",
        "charge_table =[charges[0]]\n",
        "\n",
        "def _basic_treatment(\n",
        "        idx: int,\n",
        "        match1_list: list[int],\n",
        "        match2_list: list[int],\n",
        "        charge_list: list[float],\n",
        "    ) -> dict:\n",
        "    \"\"\"\n",
        "    \"\"\"\n",
        "    _tmp = {}\n",
        "    _tmp[0] = []\n",
        "    for i in range(len(charge_table[0])):\n",
        "        if i in match1_list:\n",
        "            _ch_idx = match2_list[match1_list.index(i)]\n",
        "            _tmp[0].append(charge_list[_ch_idx])\n",
        "        else:\n",
        "            _tmp[0].append(0)\n",
        "    return _tmp\n",
        "\n",
        "def _only_mhs_treatment(\n",
        "        idx: int,\n",
        "        match1_list: list[int],\n",
        "        match2_list: list[int],\n",
        "        charge_list: list[float],\n",
        "    ) -> dict:\n",
        "    \"\"\"\n",
        "    \"\"\"\n",
        "    _tmp = {_s: [] for _s in range(states[idx+1][2])}\n",
        "\n",
        "    mhs = states[idx+1][4]\n",
        "    # we search for hydrogens attached to any of mh sites\n",
        "    hs = {}\n",
        "    for i in mhs:\n",
        "        hs[i] = []\n",
        "        _a = _base_mol.GetAtomWithIdx(i)\n",
        "        for _b in _a.GetBonds():\n",
        "            _oi = _b.GetBeginAtomIdx() if _b.GetBeginAtomIdx() != i else _b.GetEndAtomIdx()\n",
        "            if _base_mol.GetAtomWithIdx(_oi).GetSymbol() == \"H\":\n",
        "                hs[i].append(_oi)\n",
        "\n",
        "    # Generate combinations for states\n",
        "    import itertools\n",
        "    mh_nstates = [len(hs[i]) for i in hs]\n",
        "    mh_h_states = list(itertools.product(*[range(x) for x in mh_nstates]))\n",
        "    assert len(mh_h_states) == states[idx+1][2], \"Incorrect number of states\"\n",
        "    def _is_mhh(idx: int) -> int:\n",
        "        \"\"\"\n",
        "        Check if atom is a hydrogen connected to mh atom.\n",
        "        \"\"\"\n",
        "        for _idx in mhs:\n",
        "            if idx in hs[_idx]:\n",
        "                return _idx\n",
        "            else:\n",
        "                continue\n",
        "        return -1\n",
        "\n",
        "    for i in range(len(charge_table[0])):\n",
        "        _mh_idx = _is_mhh(i)\n",
        "        if _mh_idx >= 0:\n",
        "            # We are treating mh hydrogen\n",
        "            # Get hydrogen charges in deprotonated molecule\n",
        "            _ch = []\n",
        "            for _j in hs[_mh_idx]:\n",
        "                if _j in match1_list:\n",
        "                    _ch_idx = match2_list[match1_list.index(_j)]\n",
        "                    _ch.append(charge_list[_ch_idx])\n",
        "            # Check that all charges are identical\n",
        "            for _ch1 in _ch[1:]:\n",
        "                assert np.abs(_ch[0] - _ch1) < 1e-5, \"Multiple hydrogens at the same site are expexted to have similar charges\"\n",
        "            for _idx, _s in enumerate(mh_h_states):\n",
        "                _ha_idx = mhs.index(_mh_idx)\n",
        "                if hs[_mh_idx].index(i) == _s[_ha_idx]:\n",
        "                    _tmp[_idx].append(0)\n",
        "                else:\n",
        "                    _tmp[_idx].append(_ch[0])\n",
        "            continue\n",
        "        if i in match1_list:\n",
        "            # We are treating any other atom\n",
        "            for _s in _tmp:\n",
        "                _ch_idx = match2_list[match1_list.index(i)]\n",
        "                _tmp[_s].append(charge_list[_ch_idx])\n",
        "            continue\n",
        "        # In all other cases we write 0\n",
        "        # It can be a singe hydrogen, for instance of the other site\n",
        "        for _s in _tmp:\n",
        "            _tmp[0].append(0)\n",
        "\n",
        "    return _tmp\n",
        "\n",
        "def _only_sym_treatment(\n",
        "        idx: int,  # molecule index\n",
        "        match1_list: list[int],  # mcs in the highest protonated state\n",
        "        match2_list: list[int],  # mcs at the current state\n",
        "        charge_list: list[float],  # current charges from top\n",
        "    ) -> dict:\n",
        "    \"\"\"\n",
        "    \"\"\"\n",
        "    # dictionary of charge lists\n",
        "    _tmp = {_s: [] for _s in range(states[idx+1][2])}\n",
        "\n",
        "    _ss_atoms = states[idx+1][3][0]  # symmetrical states\n",
        "    _formal_charges = states[idx+1][3][1]  # formal charges in the symmetrical states\n",
        "    # we generate list of hydrogens connected to symmetrical atoms\n",
        "    hs = {}\n",
        "    for i in _ss_atoms:\n",
        "        hs[i] = []\n",
        "        _a = _base_mol.GetAtomWithIdx(i)\n",
        "        for _b in _a.GetBonds():\n",
        "            _oi = _b.GetBeginAtomIdx() if _b.GetBeginAtomIdx() != i else _b.GetEndAtomIdx()\n",
        "            if _base_mol.GetAtomWithIdx(_oi).GetSymbol() == \"H\":\n",
        "                hs[i].append(_oi)\n",
        "\n",
        "    # We generate list of all hydrogens\n",
        "    _heavy_atoms = list(range(pmol.GetNumAtoms()))\n",
        "    all_h = {}\n",
        "    # We iterate over heavy atoms and create list of hydrogens connected to\n",
        "    # them\n",
        "    for i in _heavy_atoms:\n",
        "        all_h[i] = []\n",
        "        _a = _base_mol.GetAtomWithIdx(i)\n",
        "        for _b in _a.GetBonds():\n",
        "            _oi = _b.GetBeginAtomIdx() if _b.GetBeginAtomIdx() != i else _b.GetEndAtomIdx()\n",
        "            if _base_mol.GetAtomWithIdx(_oi).GetSymbol() == \"H\":\n",
        "                all_h[i].append(_oi)\n",
        "    print(hs, all_h)\n",
        "\n",
        "    def _is_ss_h(idx: int) -> int:\n",
        "        \"\"\"\n",
        "        Check if atom is a hydrogen connected to symmetrical atom.\n",
        "        \"\"\"\n",
        "        for _idx in _ss_atoms:\n",
        "            if idx in hs[_idx]:\n",
        "                return _idx\n",
        "            else:\n",
        "                continue\n",
        "        return -1\n",
        "\n",
        "    def _is_h(idx: int) -> int:\n",
        "        \"\"\"\n",
        "        Check if atom is a hydrogen connected to heavy atom.\n",
        "        \"\"\"\n",
        "        for _idx in _heavy_atoms:\n",
        "            if idx in all_h[_idx]:\n",
        "                return _idx\n",
        "            else:\n",
        "                continue\n",
        "        return -1\n",
        "\n",
        "    # We now iterate over charge table and fill charges for each state\n",
        "    for i in range(len(charge_table[0])):\n",
        "        _ss_idx = _is_ss_h(i)\n",
        "        # If this is hydrogen connected to symmetrical state\n",
        "        if _ss_idx >= 0:\n",
        "            # We are treating ss hydrogen\n",
        "            # hydrogens can only be attached in the protonated state\n",
        "            # We can only have one bond to h atom.\n",
        "            _ch = -100\n",
        "            for _si in symmetrical_sites[_ss_idx]:\n",
        "                if _si in hs:\n",
        "                    _j = hs[_si][0]\n",
        "                else:\n",
        "                    continue\n",
        "                if _j in match1_list:\n",
        "                    _ch_idx = match2_list[match1_list.index(_j)]\n",
        "                    _ch = charge_list[_ch_idx]\n",
        "                    break\n",
        "            assert _ch > -2, \"Charge not found\"\n",
        "            # This is a list of formal charges for the heavy atom connected to a\n",
        "            # hydrogen of interest\n",
        "            _f_charge_list = [x[_ss_idx] for x in _formal_charges]\n",
        "            _max_formal_charge = np.max(np.array(_f_charge_list))\n",
        "            _min_formal_charge = np.min(np.array(_f_charge_list))\n",
        "            assert all(x in [_max_formal_charge, _min_formal_charge] for x in _f_charge_list), \"Only two formal charges are possible\"\n",
        "\n",
        "            _max_charge = np.max(np.array([_ch, 0]))\n",
        "            _min_charge = np.min(np.array([_ch, 0]))\n",
        "            for _idx, _fc in enumerate(_f_charge_list):\n",
        "                if _fc == _max_formal_charge:\n",
        "                    _tmp[_idx].append(_max_charge)\n",
        "                else:\n",
        "                    _tmp[_idx].append(_min_charge)\n",
        "            continue\n",
        "        for _s\n",
        "        if i in match1_list:\n",
        "            # We are treating any other atom\n",
        "            for _s in _tmp:\n",
        "                _ch_idx = match2_list[match1_list.index(i)]\n",
        "                _tmp[_s].append(charge_list[_ch_idx])\n",
        "            continue\n",
        "        # In all other cases we write 0\n",
        "        # It can be a singe hydrogen, for instance of the other site\n",
        "        for _s in _tmp:\n",
        "            _tmp[0].append(0)\n",
        "\n",
        "    return _tmp\n",
        "\n",
        "def _ss_mhs_treatment(\n",
        "        idx: int,\n",
        "        match1_list: list[int],\n",
        "        match2_list: list[int],\n",
        "        charge_list: list[float],\n",
        "    ) -> dict:\n",
        "    \"\"\"\n",
        "    The plan here is the following:\n",
        "        1. We iterate over possible combinations of formal charges and set\n",
        "            charges of titratable sites\n",
        "        2. We check if deprotonated sites have multiple hydrogens\n",
        "        3. For deprotonated sites with multiple hydrogens we do the same routine\n",
        "            as for mhs only\n",
        "    \"\"\"\n",
        "    _tmp = {_s: [] for _s in range(states[idx+1][2])}\n",
        "    print(_tmp)\n",
        "\n",
        "    _ss_atoms = states[idx+1][3][0]\n",
        "    _formal_charges = states[idx+1][3][1]\n",
        "    # we generate list of hydrogens connected to symmetrical atoms\n",
        "    hs = {}\n",
        "    for i in _ss_atoms:\n",
        "        hs[i] = []\n",
        "        _a = _base_mol.GetAtomWithIdx(i)\n",
        "        for _b in _a.GetBonds():\n",
        "            _oi = _b.GetBeginAtomIdx() if _b.GetBeginAtomIdx() != i else _b.GetEndAtomIdx()\n",
        "            if _base_mol.GetAtomWithIdx(_oi).GetSymbol() == \"H\":\n",
        "                hs[i].append(_oi)\n",
        "    print(hs)\n",
        "\n",
        "    def _is_ss_h(idx: int) -> int:\n",
        "        \"\"\"\n",
        "        Check if atom is a hydrogen connected to symmetrical atom.\n",
        "        \"\"\"\n",
        "        for _idx in _ss_atoms:\n",
        "            if idx in hs[_idx]:\n",
        "                return _idx\n",
        "            else:\n",
        "                continue\n",
        "        return -1\n",
        "\n",
        "    mhs = states[idx+1][4]\n",
        "    # we search for hydrogens attached to any of mh sites\n",
        "    hs_mh = {}\n",
        "    for i in mhs:\n",
        "        _sym_atoms = symmetrical_sites[i]\n",
        "        for j in _sym_atoms:\n",
        "            hs_mh[j] = []\n",
        "            _a = _base_mol.GetAtomWithIdx(j)\n",
        "            for _b in _a.GetBonds():\n",
        "                _oi = _b.GetBeginAtomIdx() if _b.GetBeginAtomIdx() != j else _b.GetEndAtomIdx()\n",
        "                if _base_mol.GetAtomWithIdx(_oi).GetSymbol() == \"H\":\n",
        "                    hs_mh[j].append(_oi)\n",
        "    print(mhs, hs_mh)\n",
        "\n",
        "    def _is_mhh(idx: int) -> int:\n",
        "        \"\"\"\n",
        "        Check if atom is a hydrogen connected to mh atom.\n",
        "        \"\"\"\n",
        "        for _idx in hs_mh:\n",
        "            if idx in hs_mh[_idx]:\n",
        "                return _idx\n",
        "            else:\n",
        "                continue\n",
        "        return -1\n",
        "\n",
        "    def _is_ss_mh_h(idx: int) -> int:\n",
        "        \"\"\"\n",
        "        Check if atom is a hydrogen connected to a symmetrical and mh atom.\n",
        "        \"\"\"\n",
        "        if _is_mhh(idx) == _is_ss_h(idx):\n",
        "            return _is_mhh(idx)\n",
        "        return -1\n",
        "\n",
        "    # n states per symmetry\n",
        "    _n_states_per_symm = states[idx+1][2] // states[idx+1][1]\n",
        "    assert _n_states_per_symm * states[idx+1][1] ==  states[idx+1][2], \"incorrect states partitioning\"\n",
        "    # We iterate of combinations of formal charges\n",
        "    # Each combination, can be treates as state with no symmetrical sites, but\n",
        "    # with multiple hydrogen sites\n",
        "    for _fch_idx, _f_charges_current in enumerate(_formal_charges):\n",
        "        # Now we look for formal charges that are different from those in the\n",
        "        # highest protonation state\n",
        "        _top_formal_charges = [x.GetFormalCharge() for x in pmol.GetAtoms()]\n",
        "        _diff_atoms = [\n",
        "            i for i in range(len(_f_charges_current))\n",
        "            if _f_charges_current[i] != _top_formal_charges[i]\n",
        "        ]\n",
        "        print(_diff_atoms)\n",
        "\n",
        "\n",
        "        # Generate combinations for states\n",
        "        import itertools\n",
        "        mh_nstates = [len(hs_mh[i]) for i in hs_mh if i in _diff_atoms]\n",
        "        mh_h_states = list(itertools.product(*[range(x) for x in mh_nstates]))\n",
        "        print(mh_nstates, mh_h_states)\n",
        "        assert len(mh_h_states) == _n_states_per_symm, \"Incorrect number of states\"\n",
        "\n",
        "        for i in range(len(charge_table[0])):\n",
        "            # we now iterate over all charge entries\n",
        "            _mh_idx = _is_mhh(i)\n",
        "            print(i, _mh_idx)\n",
        "            if _mh_idx >= 0 and _mh_idx in _diff_atoms:\n",
        "                # We are treating mh hydrogen\n",
        "                # Get hydrogen charges in deprotonated molecule\n",
        "                # If _mh_idx is a symmetrical atom, we need to also iterate\n",
        "                # over all symmetrical copies\n",
        "                _ch = {}\n",
        "                for _symm_idx in symmetrical_sites[_mh_idx]:\n",
        "                    _ch[_symm_idx] = []\n",
        "                    for _j in hs[_symm_idx]:\n",
        "                        if _j in match1_list:\n",
        "                            _ch_idx = match2_list[match1_list.index(_j)]\n",
        "                            _ch[_symm_idx].append(charge_list[_ch_idx])\n",
        "                # In the charge dictionary _ch we will have hydrogen charges\n",
        "                # for each hydrogen attached to each symmetrical site\n",
        "                # We then collect all charges, where the list is shorter and\n",
        "                # check that all of those charges are the same\n",
        "                # This should work, since smaller number of hydrogens correspond\n",
        "                # to a deprotonated site\n",
        "                _ch_lengths = np.array([[x, len(_ch[x])] for x in _ch])\n",
        "                assert np.max(_ch_lengths[:,1]) - np.min(_ch_lengths[:,1]) <= 1, \"We do not support double deprotonation of a single site\"\n",
        "                _ch_list = []\n",
        "                for _symm_idx, _len in _ch_lengths:\n",
        "                    if _len == np.min(_ch_lengths[:,1]):\n",
        "                        _ch_list.extend(_ch[_symm_idx])\n",
        "                # Check that all charges are identical\n",
        "                for _ch1 in _ch_list[1:]:\n",
        "                    assert np.abs(_ch_list[0] - _ch1) < 1e-5, \"Multiple hydrogens at the same site are expexted to have similar charges\"\n",
        "\n",
        "                # We create a list of titratable sites with mhs in the\n",
        "                # _diff_atoms list\n",
        "                _mhs = [x for x in _diff_atoms if x in hs_mh]\n",
        "                for _idx, _s in enumerate(mh_h_states):\n",
        "                    # we need to get the index of current hydrogen\n",
        "                    _ha_idx = _mhs.index(_mh_idx)\n",
        "                    if hs_mh[_mh_idx].index(i) == _s[_ha_idx]:\n",
        "                        _tmp[_fch_idx * _n_states_per_symm + _idx].append(0)\n",
        "                    else:\n",
        "                        _tmp[\n",
        "                            _fch_idx * _n_states_per_symm + _idx\n",
        "                        ].append(_ch_list[0])\n",
        "            continue\n",
        "        \"\"\"\n",
        "    for i in range(len(charge_table[0])):\n",
        "        _mh_idx = _is_mhh(i)\n",
        "        if _mh_idx >= 0:\n",
        "            # We are treating mh hydrogen\n",
        "            # Get hydrogen charges in deprotonated molecule\n",
        "            _ch = []\n",
        "            for _j in hs[_mh_idx]:\n",
        "                if _j in match1_list:\n",
        "                    _ch_idx = match2_list[match1_list.index(_j)]\n",
        "                    _ch.append(charge_list[_ch_idx])\n",
        "            # Check that all charges are identical\n",
        "            for _ch1 in _ch[1:]:\n",
        "                assert np.abs(_ch[0] - _ch1) < 1e-5, \"Multiple hydrogens at the same site are expexted to have similar charges\"\n",
        "            for _idx, _s in enumerate(mh_h_states):\n",
        "                _ha_idx = mhs.index(_mh_idx)\n",
        "                if hs[_mh_idx].index(i) == _s[_ha_idx]:\n",
        "                    _tmp[_idx].append(0)\n",
        "                else:\n",
        "                    _tmp[_idx].append(_ch[0])\n",
        "            continue\n",
        "        if i in match1_list:\n",
        "            # We are treating any other atom\n",
        "            for _s in _tmp:\n",
        "                _ch_idx = match2_list[match1_list.index(i)]\n",
        "                _tmp[_s].append(charge_list[_ch_idx])\n",
        "            continue\n",
        "        # In all other cases we write 0\n",
        "        # It can be a singe hydrogen, for instance of the other site\n",
        "        for _s in _tmp:\n",
        "            _tmp[0].append(0)\n",
        "        \"\"\"\n",
        "\n",
        "    return _tmp\n",
        "\n",
        "_charge_table_basic = [charges[0]]\n",
        "# We iterate over molecules and table of charges\n",
        "for _i, (_m, _c) in enumerate(zip(_mols[1:], charges[1:])):\n",
        "    mcs = rdFMCS.FindMCS([_base_mol, _m])\n",
        "    # We perform mcs search\n",
        "    mcs_mol = Chem.MolFromSmarts(mcs.smartsString)\n",
        "    match1 = _base_mol.GetSubstructMatch(mcs_mol)\n",
        "    match2 = _m.GetSubstructMatch(mcs_mol)\n",
        "\n",
        "    _tmp_to_cmp = _basic_treatment(_i, match1, match2, _c)\n",
        "    # No symmetry sites and no mhs sites\n",
        "    if states[_i+1][2] == 1:\n",
        "        _tmp = _basic_treatment(_i, match1, match2, _c)\n",
        "    # Only mhs are present\n",
        "    elif not states[_i+1][3]:\n",
        "        _tmp = _only_mhs_treatment(_i, match1, match2, _c)\n",
        "    elif not states[_i+1][4]:\n",
        "        _tmp = _only_sym_treatment(_i, match1, match2, _c)\n",
        "    else:\n",
        "        _tmp = _ss_mhs_treatment(_i, match1, match2, _c)\n",
        "        print(_tmp)\n",
        "    for x in _tmp:\n",
        "        charge_table.append(_tmp[x])\n",
        "    for x in _tmp_to_cmp:\n",
        "        _charge_table_basic.append(_tmp_to_cmp[x])\n",
        "print(np.array(charge_table).T)\n",
        "assert all(x in charge_table for x in _charge_table_basic), \"All simple charge lists should be in complex\""
      ],
      "metadata": {
        "colab": {
          "base_uri": "https://localhost:8080/"
        },
        "id": "JsdLCCMpX4LS",
        "outputId": "2cc1ca44-d0d2-4cf0-b8fd-0c159f73d139"
      },
      "execution_count": 100,
      "outputs": [
        {
          "output_type": "stream",
          "name": "stderr",
          "text": [
            "/usr/local/lib/python3.10/site-packages/openff/interchange/interop/gromacs/export/_export.py:48: UserWarning: WARNING: System defined with no box vectors, which GROMACS does not offically support in versions 2020 or newer (see https://gitlab.com/gromacs/gromacs/-/issues/3526). Setting box vectors to a 5  nm cube.\n",
            "  self._write_gro(gro, decimal)\n"
          ]
        },
        {
          "output_type": "stream",
          "name": "stdout",
          "text": [
            "{0: [10], 8: [18]} {0: [10], 1: [11, 12], 2: [], 3: [13], 4: [14], 5: [15], 6: [], 7: [16, 17], 8: [18], 9: [19]}\n",
            "[[-0.5958 -0.8865 -0.8865 -0.9305]\n",
            " [ 0.1717  0.4494  0.4494  0.4514]\n",
            " [-0.1298 -0.0913 -0.0913 -0.1063]\n",
            " [-0.118  -0.114  -0.114  -0.165 ]\n",
            " [-0.128  -0.154  -0.154  -0.182 ]\n",
            " [-0.118  -0.175  -0.175  -0.165 ]\n",
            " [-0.1298 -0.1613 -0.1613 -0.1063]\n",
            " [ 0.1717  0.1847  0.1847  0.4514]\n",
            " [-0.5958 -0.6268 -0.6268 -0.9305]\n",
            " [-0.112  -0.147  -0.147  -0.178 ]\n",
            " [ 0.402   0.      0.403   0.    ]\n",
            " [ 0.0552 -0.1148 -0.1148 -0.1363]\n",
            " [ 0.0552 -0.1148 -0.1148 -0.1363]\n",
            " [ 0.1395  0.162   0.162   0.124 ]\n",
            " [ 0.135   0.1     0.1     0.064 ]\n",
            " [ 0.1395  0.106   0.106   0.124 ]\n",
            " [ 0.0552  0.0332  0.0332 -0.1363]\n",
            " [ 0.0552  0.0332  0.0332 -0.1363]\n",
            " [ 0.402   0.403   0.      0.    ]\n",
            " [ 0.145   0.114   0.114   0.094 ]]\n"
          ]
        }
      ]
    },
    {
      "cell_type": "code",
      "source": [
        "print(symmetrical_sites)"
      ],
      "metadata": {
        "colab": {
          "base_uri": "https://localhost:8080/"
        },
        "id": "Nb6wjPSEYBfR",
        "outputId": "8da5111c-edfc-4fbc-9130-6f0c1e1704a4"
      },
      "execution_count": 82,
      "outputs": [
        {
          "output_type": "stream",
          "name": "stdout",
          "text": [
            "{0: [0, 8], 1: [1], 2: [2], 3: [3], 4: [4], 5: [5], 6: [6], 7: [7], 8: [8, 0], 9: [9]}\n"
          ]
        }
      ]
    },
    {
      "cell_type": "code",
      "source": [
        "list(range(pmol.GetNumAtoms()))"
      ],
      "metadata": {
        "id": "f5uymtzuhDY_",
        "outputId": "30225bb0-dab1-4857-ab63-56465402b45c",
        "colab": {
          "base_uri": "https://localhost:8080/"
        }
      },
      "execution_count": 99,
      "outputs": [
        {
          "output_type": "execute_result",
          "data": {
            "text/plain": [
              "[0, 1, 2, 3, 4, 5, 6, 7, 8, 9]"
            ]
          },
          "metadata": {},
          "execution_count": 99
        }
      ]
    },
    {
      "cell_type": "code",
      "source": [
        "pmol"
      ],
      "metadata": {
        "colab": {
          "base_uri": "https://localhost:8080/",
          "height": 317
        },
        "id": "72x3Q3YdVCU5",
        "outputId": "985c4dcc-54fd-4503-d111-3ddf3f09c5fb"
      },
      "execution_count": 101,
      "outputs": [
        {
          "output_type": "execute_result",
          "data": {
            "text/plain": [
              "<rdkit.Chem.rdchem.Mol at 0x7e4413509850>"
            ],
            "image/png": "[encoded data removed]"
          },
          "metadata": {},
          "execution_count": 101
        }
      ]
    },
    {
      "cell_type": "code",
      "source": [
        "# We need to transform top to itp and also for the future\n",
        "# needs we need the functionality for parsing atoms and\n",
        "# bonds sections. This will allow us to generate molecular\n",
        "# graphs, which in turn, will allow us to compare molecules\n",
        "# and prepare data for constant pH.\n",
        "\"\"\"\n",
        "We need to support two types of behaviour:\n",
        "1. Easy case\n",
        "    We generate molecule our selves with OpenFF.\n",
        "    In this case we actually know what is the order atoms in\n",
        "    all protonation states and we can easily do matching.\n",
        "    We also know what to do with all possible states -\n",
        "    symmetrical and with multiple hydrogens. From created\n",
        "    interchanges and topology files we can get all the\n",
        "    partial charges and then using rdkit and we can generate\n",
        "    correct charge lists.\n",
        "    We start by implementing this.\n",
        "2. More complex case\n",
        "    The topologies are provided by the user. In this case\n",
        "    we:\n",
        "        (i) expect that the user will provide us not only\n",
        "            with the topologies, but also with structures\n",
        "            for all states\n",
        "        (ii) don't expect that the order of atoms is the\n",
        "            same as in RdKit.\n",
        "    We will reconstruct the order based on rdkit functionality\n",
        "    https://greglandrum.github.io/rdkit-blog/posts/2022-12-18-introducing-rdDetermineBonds.html\n",
        "\n",
        "    NOTE: in principal, the first case can also be treated\n",
        "    as the second. But we will add it later.\n",
        "In general, we need to read top/itp files (for now we always\n",
        "expect [ atoms ] section to be present) and assign charges\n",
        "in the order of mols[0]. For each state we additionally\n",
        "treap symmetrical states and multi-H states. Then we change\n",
        "the order according to the order in the first file.\n",
        "\"\"\"\n",
        "class GMX_topology:\n",
        "    \"\"\"\n",
        "    Reads gromacs topology file and parses some of the sections.\n",
        "\n",
        "    Parameters\n",
        "    ----------\n",
        "    gmx_top: str\n",
        "        GROMACS topology file\n",
        "\n",
        "    Attributes\n",
        "    ----------\n",
        "    blocks: Dict[str, str]\n",
        "        Dictionary of blocks available in the topology file\n",
        "    atoms: list\n",
        "\n",
        "    Methods\n",
        "    -------\n",
        "    parse_atoms()\n",
        "        Parse atom section if present. Generates at\n",
        "    parse_atomtypes()\n",
        "        Parse atomtypes section if present.\n",
        "    parse_bonds()\n",
        "        Parse bonds.\n",
        "\n",
        "\n",
        "    \"\"\"\n",
        "    def __init__(self, gmx_top):\n",
        "        self.blocks = {}\n",
        "        with open(gmx_top, \"r\") as top:\n",
        "            section = None\n",
        "            tmp = []\n",
        "            for line in top:\n",
        "                if line.strip().startswith(\"[\"):\n",
        "                    if section:\n",
        "                        if section in self.blocks:\n",
        "                            self.blocks[section] += [tmp]\n",
        "                        else:\n",
        "                            self.blocks[section] = [tmp]\n",
        "                    else:\n",
        "                        self.blocks[\"header\"] = [tmp]\n",
        "                    section = line.strip()[1:-1].strip()\n",
        "                    tmp = []\n",
        "                else:\n",
        "                    tmp += [line]\n",
        "            if section in self.blocks:\n",
        "                self.blocks[section] += [tmp]\n",
        "            else:\n",
        "                self.blocks[section] = [tmp]\n",
        "\n",
        "    def parse_atoms(self):\n",
        "        \"\"\"\n",
        "        Parse atoms block. As a result, creates atoms attribute, where for each\n",
        "        atom in the provided topology atomtype and index are stored\n",
        "        \"\"\"\n",
        "        if \"atoms\" not in self.blocks:\n",
        "            self.atoms = []\n",
        "        else:\n",
        "            self.atoms = []\n",
        "            for section in self.blocks[\"atoms\"]:\n",
        "                for line in section:\n",
        "                    # Skip non-informative lines\n",
        "                    if line.strip().startswith(\";\"):\n",
        "                        continue\n",
        "                    if line.strip().startswith(\"#\"):\n",
        "                        continue\n",
        "                    if not line.strip():\n",
        "                        continue\n",
        "                    self.atoms.append(\n",
        "                        (\n",
        "                            int(line.split()[0]) - 1,\n",
        "                            line.split()[1],\n",
        "                        )\n",
        "                    )\n",
        "\n",
        "    def parse_dihedrals(self):\n",
        "        \"\"\"\n",
        "        Parse dihedral section of the topology. Only dihdrals of type 1 and 9\n",
        "        with explicitly provided parameters are taken into account.\n",
        "        \"\"\"\n",
        "        if \"dihedrals\" not in self.blocks:\n",
        "            self.dihedrals = []\n",
        "        else:\n",
        "            self.dihedrals = []\n",
        "            for section in self.blocks[\"dihedrals\"]:\n",
        "                for line in section:\n",
        "                    # Skip non-informative lines\n",
        "                    if line.strip().startswith(\";\"):\n",
        "                        continue\n",
        "                    if line.strip().startswith(\"#\"):\n",
        "                        continue\n",
        "                    if not line.strip():\n",
        "                        continue\n",
        "                    if int(line.split()[4]) not in [1, 9]:\n",
        "                        continue\n",
        "                    if len(line.split()) < 8:\n",
        "                        continue\n",
        "                    self.dihedrals.append(\n",
        "                        (\n",
        "                            int(line.split()[0])-1,\n",
        "                            int(line.split()[1])-1,\n",
        "                            int(line.split()[2])-1,\n",
        "                            int(line.split()[3])-1,\n",
        "                            line\n",
        "                        )\n",
        "                    )\n",
        "\n",
        "    def parse_dihedraltypes(self):\n",
        "        \"\"\"\n",
        "        Parse dihedraltypes section in the topology if present. Creates\n",
        "        dihedraltypes attribute, where types and of 4 atoms are provided\n",
        "        and also the corresponding dihedral string (to ease the search in\n",
        "        topology file). All imporpers and Fourier dihedrals are for now\n",
        "        excluded. Thus, only type 1 and 9 are supported.\n",
        "        https://manual.gromacs.org/current/reference-manual/topologies/topology-file-formats.html\n",
        "\n",
        "        NOTE: We also should somehow iterate through difened torsions if they\n",
        "        are present.\n",
        "        \"\"\"\n",
        "        if \"dihedraltypes\" not in self.blocks:\n",
        "            self.dihedraltypes = []\n",
        "        else:\n",
        "            self.dihedraltypes = []\n",
        "            for section in self.blocks[\"dihedraltypes\"]:\n",
        "                for line in section:\n",
        "                    # Skip non-informative lines\n",
        "                    if line.strip().startswith(\";\"):\n",
        "                        continue\n",
        "                    if line.strip().startswith(\"#\"):\n",
        "                        continue\n",
        "                    if not line.strip():\n",
        "                        continue\n",
        "                    if int(line.split()[4]) not in [1, 9]:\n",
        "                        continue\n",
        "                    self.dihedraltypes.append(\n",
        "                        (\n",
        "                            line.split()[0],\n",
        "                            line.split()[1],\n",
        "                            line.split()[2],\n",
        "                            line.split()[3],\n",
        "                            line[:(line.rfind(line.split()[3]) + len(line.split()[3]))].strip()\n",
        "                        )\n",
        "                    )"
      ],
      "metadata": {
        "id": "h-x0GMr6xMgS"
      },
      "execution_count": null,
      "outputs": []
    },
    {
      "cell_type": "code",
      "source": [
        "#@title Provide topologies data\n",
        "#@markdown If parameterisation is needed, all included molecules will be\n",
        "#@markdown parameterized with open force field. If not, for all\n",
        "is_parameterisation_needed = True #@param {type:\"boolean\"}\n",
        "included_mols = [m for m,i in zip(mols, incl) if i]\n",
        "included_svgs = [s for s,i in zip(svgs, incl) if i]\n",
        "for i, s in enumerate(included_svgs):\n",
        "    print(f\"This is Molecule {i}\")\n",
        "    display(SVG(svgs[i]))\n",
        "\n",
        "parameters_for_molecule_0 = \"\" #@param {type:\"string\"}\n",
        "parameters_for_molecule_1 = \"\" #@param {type:\"string\"}\n",
        "parameters_for_molecule_2 = \"\" #@param {type:\"string\"}\n",
        "parameters_for_molecule_3 = \"\" #@param {type:\"string\"}\n",
        "parameters_for_molecule_4 = \"\" #@param {type:\"string\"}"
      ],
      "metadata": {
        "colab": {
          "base_uri": "https://localhost:8080/",
          "height": 464
        },
        "id": "dugAhjr3ex7W",
        "outputId": "cd8a07b4-a286-4dc3-bcf1-da5ee3de28a3"
      },
      "execution_count": null,
      "outputs": [
        {
          "output_type": "stream",
          "name": "stdout",
          "text": [
            "This is Molecule 0\n"
          ]
        },
        {
          "output_type": "display_data",
          "data": {
            "text/plain": [
              "<IPython.core.display.SVG object>"
            ],
            "image/svg+xml": "<svg xmlns=\"http://www.w3.org/2000/svg\" xmlns:rdkit=\"http://www.rdkit.org/xml\" xmlns:xlink=\"http://www.w3.org/1999/xlink\" version=\"1.1\" baseProfile=\"full\" xml:space=\"preserve\" width=\"250px\" height=\"200px\" viewBox=\"0 0 250 200\">\n<!-- END OF HEADER -->\n<rect style=\"opacity:1.0;fill:#FFFFFF;stroke:none\" width=\"250.0\" height=\"200.0\" x=\"0.0\" y=\"0.0\"> </rect>\n<path class=\"bond-0 atom-0 atom-1\" d=\"M 166.3,106.4 L 142.2,99.2\" style=\"fill:none;fill-rule:evenodd;stroke:#0000FF;stroke-width:2.0px;stroke-linecap:butt;stroke-linejoin:miter;stroke-opacity:1\"/>\n<path class=\"bond-0 atom-0 atom-1\" d=\"M 142.2,99.2 L 118.2,92.1\" style=\"fill:none;fill-rule:evenodd;stroke:#000000;stroke-width:2.0px;stroke-linecap:butt;stroke-linejoin:miter;stroke-opacity:1\"/>\n<path class=\"bond-1 atom-1 atom-2\" d=\"M 123.0,93.5 L 117.2,69.0\" style=\"fill:none;fill-rule:evenodd;stroke:#000000;stroke-width:2.0px;stroke-linecap:butt;stroke-linejoin:miter;stroke-opacity:1\"/>\n<path class=\"bond-1 atom-1 atom-2\" d=\"M 117.2,69.0 L 111.3,44.4\" style=\"fill:none;fill-rule:evenodd;stroke:#FF0000;stroke-width:2.0px;stroke-linecap:butt;stroke-linejoin:miter;stroke-opacity:1\"/>\n<path class=\"bond-1 atom-1 atom-2\" d=\"M 114.5,95.6 L 108.6,71.0\" style=\"fill:none;fill-rule:evenodd;stroke:#000000;stroke-width:2.0px;stroke-linecap:butt;stroke-linejoin:miter;stroke-opacity:1\"/>\n<path class=\"bond-1 atom-1 atom-2\" d=\"M 108.6,71.0 L 102.7,46.5\" style=\"fill:none;fill-rule:evenodd;stroke:#FF0000;stroke-width:2.0px;stroke-linecap:butt;stroke-linejoin:miter;stroke-opacity:1\"/>\n<path class=\"bond-2 atom-1 atom-3\" d=\"M 118.2,92.1 L 101.6,107.8\" style=\"fill:none;fill-rule:evenodd;stroke:#000000;stroke-width:2.0px;stroke-linecap:butt;stroke-linejoin:miter;stroke-opacity:1\"/>\n<path class=\"bond-2 atom-1 atom-3\" d=\"M 101.6,107.8 L 85.0,123.5\" style=\"fill:none;fill-rule:evenodd;stroke:#FF0000;stroke-width:2.0px;stroke-linecap:butt;stroke-linejoin:miter;stroke-opacity:1\"/>\n<path class=\"bond-3 atom-0 atom-4\" d=\"M 182.8,111.3 L 202.7,117.2\" style=\"fill:none;fill-rule:evenodd;stroke:#0000FF;stroke-width:2.0px;stroke-linecap:butt;stroke-linejoin:miter;stroke-opacity:1\"/>\n<path class=\"bond-3 atom-0 atom-4\" d=\"M 202.7,117.2 L 222.5,123.1\" style=\"fill:none;fill-rule:evenodd;stroke:#000000;stroke-width:2.0px;stroke-linecap:butt;stroke-linejoin:miter;stroke-opacity:1\"/>\n<path class=\"bond-4 atom-0 atom-5\" d=\"M 171.5,119.1 L 166.2,137.1\" style=\"fill:none;fill-rule:evenodd;stroke:#0000FF;stroke-width:2.0px;stroke-linecap:butt;stroke-linejoin:miter;stroke-opacity:1\"/>\n<path class=\"bond-4 atom-0 atom-5\" d=\"M 166.2,137.1 L 160.9,155.0\" style=\"fill:none;fill-rule:evenodd;stroke:#000000;stroke-width:2.0px;stroke-linecap:butt;stroke-linejoin:miter;stroke-opacity:1\"/>\n<path class=\"bond-5 atom-0 atom-6\" d=\"M 177.6,98.6 L 183.0,80.6\" style=\"fill:none;fill-rule:evenodd;stroke:#0000FF;stroke-width:2.0px;stroke-linecap:butt;stroke-linejoin:miter;stroke-opacity:1\"/>\n<path class=\"bond-5 atom-0 atom-6\" d=\"M 183.0,80.6 L 188.3,62.7\" style=\"fill:none;fill-rule:evenodd;stroke:#000000;stroke-width:2.0px;stroke-linecap:butt;stroke-linejoin:miter;stroke-opacity:1\"/>\n<path class=\"bond-6 atom-3 atom-7\" d=\"M 65.8,129.7 L 46.7,124.0\" style=\"fill:none;fill-rule:evenodd;stroke:#FF0000;stroke-width:2.0px;stroke-linecap:butt;stroke-linejoin:miter;stroke-opacity:1\"/>\n<path class=\"bond-6 atom-3 atom-7\" d=\"M 46.7,124.0 L 27.5,118.3\" style=\"fill:none;fill-rule:evenodd;stroke:#000000;stroke-width:2.0px;stroke-linecap:butt;stroke-linejoin:miter;stroke-opacity:1\"/>\n<path d=\"M 119.4,92.4 L 118.2,92.1 L 117.3,92.9\" style=\"fill:none;stroke:#000000;stroke-width:2.0px;stroke-linecap:butt;stroke-linejoin:miter;stroke-opacity:1;\"/>\n<path class=\"atom-0\" d=\"M 170.9 100.5 L 176.3 109.3 Q 176.9 110.2, 177.8 111.8 Q 178.6 113.4, 178.7 113.5 L 178.7 100.5 L 180.9 100.5 L 180.9 117.2 L 178.6 117.2 L 172.7 107.5 Q 172.1 106.4, 171.3 105.1 Q 170.6 103.8, 170.4 103.4 L 170.4 117.2 L 168.2 117.2 L 168.2 100.5 L 170.9 100.5 \" fill=\"#0000FF\"/>\n<path class=\"atom-0\" d=\"M 184.0 103.5 L 187.0 103.5 L 187.0 100.4 L 188.3 100.4 L 188.3 103.5 L 191.3 103.5 L 191.3 104.6 L 188.3 104.6 L 188.3 107.7 L 187.0 107.7 L 187.0 104.6 L 184.0 104.6 L 184.0 103.5 \" fill=\"#0000FF\"/>\n<path class=\"atom-2\" d=\"M 96.8 34.9 Q 96.8 30.9, 98.8 28.6 Q 100.8 26.4, 104.5 26.4 Q 108.2 26.4, 110.2 28.6 Q 112.1 30.9, 112.1 34.9 Q 112.1 38.9, 110.1 41.2 Q 108.1 43.5, 104.5 43.5 Q 100.8 43.5, 98.8 41.2 Q 96.8 39.0, 96.8 34.9 M 104.5 41.6 Q 107.0 41.6, 108.4 39.9 Q 109.8 38.2, 109.8 34.9 Q 109.8 31.6, 108.4 30.0 Q 107.0 28.3, 104.5 28.3 Q 101.9 28.3, 100.5 29.9 Q 99.2 31.6, 99.2 34.9 Q 99.2 38.3, 100.5 39.9 Q 101.9 41.6, 104.5 41.6 \" fill=\"#FF0000\"/>\n<path class=\"atom-3\" d=\"M 67.8 132.6 Q 67.8 128.6, 69.8 126.4 Q 71.7 124.1, 75.4 124.1 Q 79.1 124.1, 81.1 126.4 Q 83.1 128.6, 83.1 132.6 Q 83.1 136.6, 81.1 138.9 Q 79.1 141.2, 75.4 141.2 Q 71.8 141.2, 69.8 138.9 Q 67.8 136.7, 67.8 132.6 M 75.4 139.3 Q 78.0 139.3, 79.3 137.6 Q 80.7 135.9, 80.7 132.6 Q 80.7 129.3, 79.3 127.7 Q 78.0 126.0, 75.4 126.0 Q 72.9 126.0, 71.5 127.6 Q 70.1 129.3, 70.1 132.6 Q 70.1 136.0, 71.5 137.6 Q 72.9 139.3, 75.4 139.3 \" fill=\"#FF0000\"/>\n<path class=\"atom-4\" d=\"M 224.5 117.3 L 226.7 117.3 L 226.7 124.4 L 235.2 124.4 L 235.2 117.3 L 237.5 117.3 L 237.5 134.0 L 235.2 134.0 L 235.2 126.3 L 226.7 126.3 L 226.7 134.0 L 224.5 134.0 L 224.5 117.3 \" fill=\"#000000\"/>\n<path class=\"atom-5\" d=\"M 151.3 156.9 L 153.5 156.9 L 153.5 164.0 L 162.1 164.0 L 162.1 156.9 L 164.3 156.9 L 164.3 173.6 L 162.1 173.6 L 162.1 165.9 L 153.5 165.9 L 153.5 173.6 L 151.3 173.6 L 151.3 156.9 \" fill=\"#000000\"/>\n<path class=\"atom-6\" d=\"M 184.8 44.1 L 187.1 44.1 L 187.1 51.2 L 195.6 51.2 L 195.6 44.1 L 197.9 44.1 L 197.9 60.8 L 195.6 60.8 L 195.6 53.1 L 187.1 53.1 L 187.1 60.8 L 184.8 60.8 L 184.8 44.1 \" fill=\"#000000\"/>\n<path class=\"atom-7\" d=\"M 12.5 107.4 L 14.8 107.4 L 14.8 114.5 L 23.3 114.5 L 23.3 107.4 L 25.5 107.4 L 25.5 124.1 L 23.3 124.1 L 23.3 116.4 L 14.8 116.4 L 14.8 124.1 L 12.5 124.1 L 12.5 107.4 \" fill=\"#000000\"/>\n</svg>"
          },
          "metadata": {}
        },
        {
          "output_type": "stream",
          "name": "stdout",
          "text": [
            "This is Molecule 1\n"
          ]
        },
        {
          "output_type": "display_data",
          "data": {
            "text/plain": [
              "<IPython.core.display.SVG object>"
            ],
            "image/svg+xml": "<svg xmlns=\"http://www.w3.org/2000/svg\" xmlns:rdkit=\"http://www.rdkit.org/xml\" xmlns:xlink=\"http://www.w3.org/1999/xlink\" version=\"1.1\" baseProfile=\"full\" xml:space=\"preserve\" width=\"250px\" height=\"200px\" viewBox=\"0 0 250 200\">\n<!-- END OF HEADER -->\n<rect style=\"opacity:1.0;fill:#FFFFFF;stroke:none\" width=\"250.0\" height=\"200.0\" x=\"0.0\" y=\"0.0\"> </rect>\n<path class=\"bond-0 atom-0 atom-1\" d=\"M 134.4,100.0 L 100.5,100.0\" style=\"fill:none;fill-rule:evenodd;stroke:#0000FF;stroke-width:2.0px;stroke-linecap:butt;stroke-linejoin:miter;stroke-opacity:1\"/>\n<path class=\"bond-0 atom-0 atom-1\" d=\"M 100.5,100.0 L 66.6,100.0\" style=\"fill:none;fill-rule:evenodd;stroke:#000000;stroke-width:2.0px;stroke-linecap:butt;stroke-linejoin:miter;stroke-opacity:1\"/>\n<path class=\"bond-1 atom-1 atom-2\" d=\"M 73.5,100.0 L 57.0,71.5\" style=\"fill:none;fill-rule:evenodd;stroke:#000000;stroke-width:2.0px;stroke-linecap:butt;stroke-linejoin:miter;stroke-opacity:1\"/>\n<path class=\"bond-1 atom-1 atom-2\" d=\"M 57.0,71.5 L 40.6,43.0\" style=\"fill:none;fill-rule:evenodd;stroke:#FF0000;stroke-width:2.0px;stroke-linecap:butt;stroke-linejoin:miter;stroke-opacity:1\"/>\n<path class=\"bond-1 atom-1 atom-2\" d=\"M 63.2,105.9 L 46.8,77.4\" style=\"fill:none;fill-rule:evenodd;stroke:#000000;stroke-width:2.0px;stroke-linecap:butt;stroke-linejoin:miter;stroke-opacity:1\"/>\n<path class=\"bond-1 atom-1 atom-2\" d=\"M 46.8,77.4 L 30.3,48.9\" style=\"fill:none;fill-rule:evenodd;stroke:#FF0000;stroke-width:2.0px;stroke-linecap:butt;stroke-linejoin:miter;stroke-opacity:1\"/>\n<path class=\"bond-2 atom-1 atom-3\" d=\"M 66.6,100.0 L 50.9,127.2\" style=\"fill:none;fill-rule:evenodd;stroke:#000000;stroke-width:2.0px;stroke-linecap:butt;stroke-linejoin:miter;stroke-opacity:1\"/>\n<path class=\"bond-2 atom-1 atom-3\" d=\"M 50.9,127.2 L 35.2,154.4\" style=\"fill:none;fill-rule:evenodd;stroke:#FF0000;stroke-width:2.0px;stroke-linecap:butt;stroke-linejoin:miter;stroke-opacity:1\"/>\n<path class=\"bond-3 atom-0 atom-4\" d=\"M 170.5,100.0 L 191.7,100.0\" style=\"fill:none;fill-rule:evenodd;stroke:#0000FF;stroke-width:2.0px;stroke-linecap:butt;stroke-linejoin:miter;stroke-opacity:1\"/>\n<path class=\"bond-3 atom-0 atom-4\" d=\"M 191.7,100.0 L 213.0,100.0\" style=\"fill:none;fill-rule:evenodd;stroke:#000000;stroke-width:2.0px;stroke-linecap:butt;stroke-linejoin:miter;stroke-opacity:1\"/>\n<path class=\"bond-4 atom-0 atom-5\" d=\"M 145.5,113.8 L 145.5,139.4\" style=\"fill:none;fill-rule:evenodd;stroke:#0000FF;stroke-width:2.0px;stroke-linecap:butt;stroke-linejoin:miter;stroke-opacity:1\"/>\n<path class=\"bond-4 atom-0 atom-5\" d=\"M 145.5,139.4 L 145.5,165.1\" style=\"fill:none;fill-rule:evenodd;stroke:#000000;stroke-width:2.0px;stroke-linecap:butt;stroke-linejoin:miter;stroke-opacity:1\"/>\n<path class=\"bond-5 atom-0 atom-6\" d=\"M 145.5,86.2 L 145.5,60.6\" style=\"fill:none;fill-rule:evenodd;stroke:#0000FF;stroke-width:2.0px;stroke-linecap:butt;stroke-linejoin:miter;stroke-opacity:1\"/>\n<path class=\"bond-5 atom-0 atom-6\" d=\"M 145.5,60.6 L 145.5,34.9\" style=\"fill:none;fill-rule:evenodd;stroke:#000000;stroke-width:2.0px;stroke-linecap:butt;stroke-linejoin:miter;stroke-opacity:1\"/>\n<path d=\"M 68.3,100.0 L 66.6,100.0 L 65.8,101.4\" style=\"fill:none;stroke:#000000;stroke-width:2.0px;stroke-linecap:butt;stroke-linejoin:miter;stroke-opacity:1;\"/>\n<path class=\"atom-0\" d=\"M 140.5 88.8 L 147.8 100.7 Q 148.6 101.8, 149.7 103.9 Q 150.9 106.1, 151.0 106.2 L 151.0 88.8 L 153.9 88.8 L 153.9 111.2 L 150.9 111.2 L 143.0 98.2 Q 142.1 96.7, 141.1 95.0 Q 140.2 93.3, 139.9 92.7 L 139.9 111.2 L 137.0 111.2 L 137.0 88.8 L 140.5 88.8 \" fill=\"#0000FF\"/>\n<path class=\"atom-0\" d=\"M 158.1 92.9 L 162.1 92.9 L 162.1 88.7 L 163.8 88.7 L 163.8 92.9 L 167.9 92.9 L 167.9 94.4 L 163.8 94.4 L 163.8 98.5 L 162.1 98.5 L 162.1 94.4 L 158.1 94.4 L 158.1 92.9 \" fill=\"#0000FF\"/>\n<path class=\"atom-2\" d=\"M 17.0 31.8 Q 17.0 26.4, 19.6 23.4 Q 22.3 20.4, 27.2 20.4 Q 32.2 20.4, 34.8 23.4 Q 37.5 26.4, 37.5 31.8 Q 37.5 37.2, 34.8 40.3 Q 32.1 43.4, 27.2 43.4 Q 22.3 43.4, 19.6 40.3 Q 17.0 37.2, 17.0 31.8 M 27.2 40.8 Q 30.6 40.8, 32.4 38.6 Q 34.3 36.3, 34.3 31.8 Q 34.3 27.4, 32.4 25.2 Q 30.6 23.0, 27.2 23.0 Q 23.8 23.0, 21.9 25.2 Q 20.1 27.4, 20.1 31.8 Q 20.1 36.3, 21.9 38.6 Q 23.8 40.8, 27.2 40.8 \" fill=\"#FF0000\"/>\n<path class=\"atom-3\" d=\"M 17.0 168.3 Q 17.0 163.0, 19.6 160.0 Q 22.3 157.0, 27.2 157.0 Q 32.2 157.0, 34.8 160.0 Q 37.5 163.0, 37.5 168.3 Q 37.5 173.8, 34.8 176.9 Q 32.1 179.9, 27.2 179.9 Q 22.3 179.9, 19.6 176.9 Q 17.0 173.8, 17.0 168.3 M 27.2 177.4 Q 30.6 177.4, 32.4 175.1 Q 34.3 172.8, 34.3 168.3 Q 34.3 164.0, 32.4 161.7 Q 30.6 159.5, 27.2 159.5 Q 23.8 159.5, 21.9 161.7 Q 20.1 163.9, 20.1 168.3 Q 20.1 172.8, 21.9 175.1 Q 23.8 177.4, 27.2 177.4 \" fill=\"#FF0000\"/>\n<path class=\"atom-3\" d=\"M 40.6 160.6 L 48.3 160.6 L 48.3 162.3 L 40.6 162.3 L 40.6 160.6 \" fill=\"#FF0000\"/>\n<path class=\"atom-4\" d=\"M 215.6 88.8 L 218.6 88.8 L 218.6 98.3 L 230.0 98.3 L 230.0 88.8 L 233.0 88.8 L 233.0 111.2 L 230.0 111.2 L 230.0 100.9 L 218.6 100.9 L 218.6 111.2 L 215.6 111.2 L 215.6 88.8 \" fill=\"#000000\"/>\n<path class=\"atom-5\" d=\"M 136.7 167.7 L 139.8 167.7 L 139.8 177.2 L 151.2 177.2 L 151.2 167.7 L 154.2 167.7 L 154.2 190.0 L 151.2 190.0 L 151.2 179.7 L 139.8 179.7 L 139.8 190.0 L 136.7 190.0 L 136.7 167.7 \" fill=\"#000000\"/>\n<path class=\"atom-6\" d=\"M 136.7 10.0 L 139.8 10.0 L 139.8 19.5 L 151.2 19.5 L 151.2 10.0 L 154.2 10.0 L 154.2 32.3 L 151.2 32.3 L 151.2 22.0 L 139.8 22.0 L 139.8 32.3 L 136.7 32.3 L 136.7 10.0 \" fill=\"#000000\"/>\n</svg>"
          },
          "metadata": {}
        }
      ]
    },
    {
      "cell_type": "code",
      "source": [
        "from openff.interchange import Interchange"
      ],
      "metadata": {
        "id": "5-2RAwueN0DQ"
      },
      "execution_count": null,
      "outputs": []
    },
    {
      "cell_type": "code",
      "source": [
        "inter = Interchange.from_smirnoff(force_field=ff, topology=top)"
      ],
      "metadata": {
        "id": "jarT_qXWN76B"
      },
      "execution_count": null,
      "outputs": []
    },
    {
      "cell_type": "code",
      "source": [
        "inter.to_top(\"test.top\")"
      ],
      "metadata": {
        "id": "3lfNtlY_Oq6T"
      },
      "execution_count": null,
      "outputs": []
    },
    {
      "cell_type": "code",
      "source": [],
      "metadata": {
        "id": "61TBk7goN61o"
      },
      "execution_count": null,
      "outputs": []
    },
    {
      "cell_type": "code",
      "source": [],
      "metadata": {
        "id": "4PyU1Va5MXJK"
      },
      "execution_count": null,
      "outputs": []
    }
  ]
}