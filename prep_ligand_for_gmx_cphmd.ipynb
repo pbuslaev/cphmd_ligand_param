{
  "nbformat": 4,
  "nbformat_minor": 0,
  "metadata": {
    "colab": {
      "provenance": [],
      "include_colab_link": true
    },
    "kernelspec": {
      "name": "python3",
      "display_name": "Python 3"
    },
    "language_info": {
      "name": "python"
    }
  },
  "cells": [
    {
      "cell_type": "markdown",
      "metadata": {
        "id": "view-in-github",
        "colab_type": "text"
      },
      "source": [
        "<a href=\"https://colab.research.google.com/github/pbuslaev/cphmd_ligand_param/blob/main/prep_ligand_for_gmx_cphmd.ipynb\" target=\"_parent\"><img src=\"https://colab.research.google.com/assets/colab-badge.svg\" alt=\"Open In Colab\"/></a>"
      ]
    },
    {
      "cell_type": "markdown",
      "metadata": {
        "id": "06409e3b"
      },
      "source": [
        "### This notebook has to be run on Google colab"
      ]
    },
    {
      "cell_type": "markdown",
      "metadata": {
        "id": "8818275f"
      },
      "source": [
        "<a target=\"_blank\" href=\"https://colab.research.google.com/github/pbuslaev/test_ipynb/blob/main/test_user_input.ipynb\">\n",
        "  <img src=\"https://colab.research.google.com/assets/colab-badge.svg\" alt=\"Open In Colab\"/>\n",
        "</a>"
      ]
    },
    {
      "cell_type": "code",
      "execution_count": 1,
      "metadata": {
        "id": "tXHVawUbd_yp",
        "cellView": "form"
      },
      "outputs": [],
      "source": [
        "#@title Conda installation\n",
        "%%capture\n",
        "!pip install -q condacolab\n",
        "import condacolab\n",
        "condacolab.install()"
      ]
    },
    {
      "cell_type": "code",
      "source": [
        "#@title Intall packages\n",
        "%%capture\n",
        "!pip install dimorphite_dl --upgrade\n",
        "!mamba install -c conda-forge rdkit sympy openff-toolkit"
      ],
      "metadata": {
        "id": "HApR6x6ptwjO",
        "cellView": "form"
      },
      "execution_count": 1,
      "outputs": []
    },
    {
      "cell_type": "code",
      "source": [
        "#@title Import packages\n",
        "from rdkit import Chem\n",
        "from rdkit.Chem import AllChem\n",
        "from rdkit.Chem import Draw\n",
        "from rdkit.Chem.Draw import rdMolDraw2D\n",
        "from rdkit.Chem.Draw import IPythonConsole\n",
        "IPythonConsole.molSize = 300,300\n",
        "from IPython.display import SVG\n",
        "from dimorphite_dl import DimorphiteDL\n",
        "\n",
        "from openff.toolkit import Molecule, Topology, ForceField\n",
        "\n",
        "from IPython.display import HTML, display\n",
        "\n",
        "def set_css():\n",
        "  display(HTML('''\n",
        "  <style>\n",
        "    pre {\n",
        "        white-space: pre-wrap;\n",
        "    }\n",
        "  </style>\n",
        "  '''))\n",
        "  get_ipython().events.register('pre_run_cell', set_css)"
      ],
      "metadata": {
        "id": "9F1Rak-meOlC",
        "cellView": "form"
      },
      "execution_count": 2,
      "outputs": []
    },
    {
      "cell_type": "code",
      "source": [
        "#@title Input molecule\n",
        "#@markdown Please provide molecule SMILES. We will generate its protonation\n",
        "#@markdown states. Also, specify pH range for which to create states.\n",
        "# As a two state example we will use SM-26 from SAMP7 challenge\n",
        "# (https://github.com/samplchallenges/SAMPL7/tree/master/physical_property)\n",
        "# SMILES: O=S(CCC1=CC=CC=C1)(NC(C)=O)=O\n",
        "# pKa = 4.91\n",
        "# (https://github.com/samplchallenges/SAMPL7/blob/master/physical_property/experimental_data/Experimental_Properties_of_SAMPL7_Compounds.pdf)\n",
        "smiles = \"c1cc(N)c(N)cc1\" #@param {type: \"string\"}\n",
        "min_ph = -10 #@param {type: \"number\"}\n",
        "max_ph = 24 #@param {type: \"number\"}\n",
        "dimorphite_dl = DimorphiteDL(\n",
        "    min_ph=min_ph,\n",
        "    max_ph=max_ph,\n",
        "    max_variants=256,\n",
        "    label_states=False,\n",
        "    pka_precision=0.1\n",
        ")\n",
        "mols = [Chem.MolFromSmiles(mol) for mol in dimorphite_dl.protonate(smiles)]\n",
        "mols = sorted(mols, key = lambda x: Chem.GetFormalCharge(x), reverse=True)\n",
        "# Now mols[0] is the highest protonation state\n",
        "for i, m in enumerate(mols):\n",
        "    print(f\"This is Molecule {i}\")\n",
        "    d2d = rdMolDraw2D.MolDraw2DSVG(250, 200)\n",
        "    d2d.DrawMolecule(m)\n",
        "    d2d.FinishDrawing()\n",
        "    display(SVG(d2d.GetDrawingText()))"
      ],
      "metadata": {
        "colab": {
          "base_uri": "https://localhost:8080/",
          "height": 687
        },
        "id": "HxjpTW0CkrDS",
        "outputId": "8aac8f2d-2f0f-438a-9b06-958132da1afe"
      },
      "execution_count": 3,
      "outputs": [
        {
          "output_type": "stream",
          "name": "stdout",
          "text": [
            "This is Molecule 0\n"
          ]
        },
        {
          "output_type": "display_data",
          "data": {
            "text/plain": [
              "<IPython.core.display.SVG object>"
            ],
            "image/svg+xml": "<svg xmlns=\"http://www.w3.org/2000/svg\" xmlns:rdkit=\"http://www.rdkit.org/xml\" xmlns:xlink=\"http://www.w3.org/1999/xlink\" version=\"1.1\" baseProfile=\"full\" xml:space=\"preserve\" width=\"250px\" height=\"200px\" viewBox=\"0 0 250 200\">\n<!-- END OF HEADER -->\n<rect style=\"opacity:1.0;fill:#FFFFFF;stroke:none\" width=\"250.0\" height=\"200.0\" x=\"0.0\" y=\"0.0\"> </rect>\n<path class=\"bond-0 atom-0 atom-1\" d=\"M 187.5,160.3 L 161.6,145.4\" style=\"fill:none;fill-rule:evenodd;stroke:#0000FF;stroke-width:2.0px;stroke-linecap:butt;stroke-linejoin:miter;stroke-opacity:1\"/>\n<path class=\"bond-0 atom-0 atom-1\" d=\"M 161.6,145.4 L 135.8,130.5\" style=\"fill:none;fill-rule:evenodd;stroke:#000000;stroke-width:2.0px;stroke-linecap:butt;stroke-linejoin:miter;stroke-opacity:1\"/>\n<path class=\"bond-1 atom-1 atom-2\" d=\"M 135.8,130.5 L 74.2,166.1\" style=\"fill:none;fill-rule:evenodd;stroke:#000000;stroke-width:2.0px;stroke-linecap:butt;stroke-linejoin:miter;stroke-opacity:1\"/>\n<path class=\"bond-1 atom-1 atom-2\" d=\"M 125.1,124.3 L 74.2,153.8\" style=\"fill:none;fill-rule:evenodd;stroke:#000000;stroke-width:2.0px;stroke-linecap:butt;stroke-linejoin:miter;stroke-opacity:1\"/>\n<path class=\"bond-2 atom-2 atom-3\" d=\"M 74.2,166.1 L 12.5,130.5\" style=\"fill:none;fill-rule:evenodd;stroke:#000000;stroke-width:2.0px;stroke-linecap:butt;stroke-linejoin:miter;stroke-opacity:1\"/>\n<path class=\"bond-3 atom-3 atom-4\" d=\"M 12.5,130.5 L 12.5,59.3\" style=\"fill:none;fill-rule:evenodd;stroke:#000000;stroke-width:2.0px;stroke-linecap:butt;stroke-linejoin:miter;stroke-opacity:1\"/>\n<path class=\"bond-3 atom-3 atom-4\" d=\"M 23.2,124.3 L 23.2,65.5\" style=\"fill:none;fill-rule:evenodd;stroke:#000000;stroke-width:2.0px;stroke-linecap:butt;stroke-linejoin:miter;stroke-opacity:1\"/>\n<path class=\"bond-4 atom-4 atom-5\" d=\"M 12.5,59.3 L 74.2,23.7\" style=\"fill:none;fill-rule:evenodd;stroke:#000000;stroke-width:2.0px;stroke-linecap:butt;stroke-linejoin:miter;stroke-opacity:1\"/>\n<path class=\"bond-5 atom-5 atom-6\" d=\"M 74.2,23.7 L 135.8,59.3\" style=\"fill:none;fill-rule:evenodd;stroke:#000000;stroke-width:2.0px;stroke-linecap:butt;stroke-linejoin:miter;stroke-opacity:1\"/>\n<path class=\"bond-5 atom-5 atom-6\" d=\"M 74.2,36.1 L 125.1,65.5\" style=\"fill:none;fill-rule:evenodd;stroke:#000000;stroke-width:2.0px;stroke-linecap:butt;stroke-linejoin:miter;stroke-opacity:1\"/>\n<path class=\"bond-6 atom-6 atom-7\" d=\"M 135.8,59.3 L 161.6,44.4\" style=\"fill:none;fill-rule:evenodd;stroke:#000000;stroke-width:2.0px;stroke-linecap:butt;stroke-linejoin:miter;stroke-opacity:1\"/>\n<path class=\"bond-6 atom-6 atom-7\" d=\"M 161.6,44.4 L 187.5,29.5\" style=\"fill:none;fill-rule:evenodd;stroke:#0000FF;stroke-width:2.0px;stroke-linecap:butt;stroke-linejoin:miter;stroke-opacity:1\"/>\n<path class=\"bond-7 atom-6 atom-1\" d=\"M 135.8,59.3 L 135.8,130.5\" style=\"fill:none;fill-rule:evenodd;stroke:#000000;stroke-width:2.0px;stroke-linecap:butt;stroke-linejoin:miter;stroke-opacity:1\"/>\n<path d=\"M 77.2,164.3 L 74.2,166.1 L 71.1,164.3\" style=\"fill:none;stroke:#000000;stroke-width:2.0px;stroke-linecap:butt;stroke-linejoin:miter;stroke-opacity:1;\"/>\n<path d=\"M 15.6,132.3 L 12.5,130.5 L 12.5,127.0\" style=\"fill:none;stroke:#000000;stroke-width:2.0px;stroke-linecap:butt;stroke-linejoin:miter;stroke-opacity:1;\"/>\n<path d=\"M 12.5,62.9 L 12.5,59.3 L 15.6,57.5\" style=\"fill:none;stroke:#000000;stroke-width:2.0px;stroke-linecap:butt;stroke-linejoin:miter;stroke-opacity:1;\"/>\n<path d=\"M 71.1,25.5 L 74.2,23.7 L 77.2,25.5\" style=\"fill:none;stroke:#000000;stroke-width:2.0px;stroke-linecap:butt;stroke-linejoin:miter;stroke-opacity:1;\"/>\n<path class=\"atom-0\" d=\"M 193.0 156.0 L 199.6 166.7 Q 200.3 167.8, 201.3 169.7 Q 202.4 171.6, 202.4 171.7 L 202.4 156.0 L 205.1 156.0 L 205.1 176.2 L 202.3 176.2 L 195.2 164.5 Q 194.4 163.1, 193.5 161.6 Q 192.7 160.0, 192.4 159.5 L 192.4 176.2 L 189.8 176.2 L 189.8 156.0 L 193.0 156.0 \" fill=\"#0000FF\"/>\n<path class=\"atom-0\" d=\"M 208.9 156.0 L 211.6 156.0 L 211.6 164.6 L 222.0 164.6 L 222.0 156.0 L 224.7 156.0 L 224.7 176.2 L 222.0 176.2 L 222.0 166.9 L 211.6 166.9 L 211.6 176.2 L 208.9 176.2 L 208.9 156.0 \" fill=\"#0000FF\"/>\n<path class=\"atom-0\" d=\"M 234.9 179.3 Q 236.2 179.6, 236.9 180.5 Q 237.5 181.3, 237.5 182.6 Q 237.5 183.7, 236.9 184.6 Q 236.4 185.5, 235.3 186.0 Q 234.3 186.5, 233.0 186.5 Q 231.5 186.5, 230.5 186.0 Q 229.4 185.5, 228.6 184.4 L 229.6 183.4 Q 230.5 184.3, 231.1 184.6 Q 231.8 185.0, 233.0 185.0 Q 234.2 185.0, 234.9 184.3 Q 235.6 183.7, 235.6 182.6 Q 235.6 181.3, 234.9 180.6 Q 234.1 180.0, 232.5 180.0 L 231.5 180.0 L 231.5 178.7 L 232.4 178.7 Q 233.8 178.7, 234.6 178.0 Q 235.3 177.4, 235.3 176.2 Q 235.3 175.3, 234.7 174.8 Q 234.1 174.3, 233.0 174.3 Q 231.9 174.3, 231.2 174.7 Q 230.5 175.1, 230.0 176.1 L 228.7 175.4 Q 229.1 174.3, 230.3 173.6 Q 231.4 172.8, 233.0 172.8 Q 234.9 172.8, 236.1 173.7 Q 237.2 174.7, 237.2 176.2 Q 237.2 177.3, 236.6 178.1 Q 236.1 178.8, 234.9 179.3 \" fill=\"#0000FF\"/>\n<path class=\"atom-0\" d=\"M 228.6 159.7 L 232.2 159.7 L 232.2 155.9 L 233.8 155.9 L 233.8 159.7 L 237.4 159.7 L 237.4 161.0 L 233.8 161.0 L 233.8 164.8 L 232.2 164.8 L 232.2 161.0 L 228.6 161.0 L 228.6 159.7 \" fill=\"#0000FF\"/>\n<path class=\"atom-7\" d=\"M 193.0 13.6 L 199.6 24.3 Q 200.3 25.4, 201.3 27.3 Q 202.4 29.2, 202.4 29.3 L 202.4 13.6 L 205.1 13.6 L 205.1 33.8 L 202.3 33.8 L 195.2 22.1 Q 194.4 20.8, 193.5 19.2 Q 192.7 17.6, 192.4 17.2 L 192.4 33.8 L 189.8 33.8 L 189.8 13.6 L 193.0 13.6 \" fill=\"#0000FF\"/>\n<path class=\"atom-7\" d=\"M 208.9 13.6 L 211.6 13.6 L 211.6 22.2 L 222.0 22.2 L 222.0 13.6 L 224.7 13.6 L 224.7 33.8 L 222.0 33.8 L 222.0 24.5 L 211.6 24.5 L 211.6 33.8 L 208.9 33.8 L 208.9 13.6 \" fill=\"#0000FF\"/>\n<path class=\"atom-7\" d=\"M 234.9 36.9 Q 236.2 37.3, 236.9 38.1 Q 237.5 38.9, 237.5 40.2 Q 237.5 41.4, 236.9 42.3 Q 236.4 43.1, 235.3 43.6 Q 234.3 44.1, 233.0 44.1 Q 231.5 44.1, 230.5 43.6 Q 229.4 43.1, 228.6 42.1 L 229.6 41.0 Q 230.5 41.9, 231.1 42.2 Q 231.8 42.6, 233.0 42.6 Q 234.2 42.6, 234.9 41.9 Q 235.6 41.3, 235.6 40.2 Q 235.6 38.9, 234.9 38.3 Q 234.1 37.7, 232.5 37.7 L 231.5 37.7 L 231.5 36.3 L 232.4 36.3 Q 233.8 36.3, 234.6 35.7 Q 235.3 35.0, 235.3 33.8 Q 235.3 33.0, 234.7 32.5 Q 234.1 31.9, 233.0 31.9 Q 231.9 31.9, 231.2 32.3 Q 230.5 32.7, 230.0 33.7 L 228.7 33.0 Q 229.1 31.9, 230.3 31.2 Q 231.4 30.4, 233.0 30.4 Q 234.9 30.4, 236.1 31.4 Q 237.2 32.3, 237.2 33.8 Q 237.2 34.9, 236.6 35.7 Q 236.1 36.4, 234.9 36.9 \" fill=\"#0000FF\"/>\n<path class=\"atom-7\" d=\"M 228.6 17.3 L 232.2 17.3 L 232.2 13.5 L 233.8 13.5 L 233.8 17.3 L 237.4 17.3 L 237.4 18.6 L 233.8 18.6 L 233.8 22.4 L 232.2 22.4 L 232.2 18.6 L 228.6 18.6 L 228.6 17.3 \" fill=\"#0000FF\"/>\n</svg>"
          },
          "metadata": {}
        },
        {
          "output_type": "stream",
          "name": "stdout",
          "text": [
            "This is Molecule 1\n"
          ]
        },
        {
          "output_type": "display_data",
          "data": {
            "text/plain": [
              "<IPython.core.display.SVG object>"
            ],
            "image/svg+xml": "<svg xmlns=\"http://www.w3.org/2000/svg\" xmlns:rdkit=\"http://www.rdkit.org/xml\" xmlns:xlink=\"http://www.w3.org/1999/xlink\" version=\"1.1\" baseProfile=\"full\" xml:space=\"preserve\" width=\"250px\" height=\"200px\" viewBox=\"0 0 250 200\">\n<!-- END OF HEADER -->\n<rect style=\"opacity:1.0;fill:#FFFFFF;stroke:none\" width=\"250.0\" height=\"200.0\" x=\"0.0\" y=\"0.0\"> </rect>\n<path class=\"bond-0 atom-0 atom-1\" d=\"M 187.4,160.4 L 161.6,145.5\" style=\"fill:none;fill-rule:evenodd;stroke:#0000FF;stroke-width:2.0px;stroke-linecap:butt;stroke-linejoin:miter;stroke-opacity:1\"/>\n<path class=\"bond-0 atom-0 atom-1\" d=\"M 161.6,145.5 L 135.7,130.6\" style=\"fill:none;fill-rule:evenodd;stroke:#000000;stroke-width:2.0px;stroke-linecap:butt;stroke-linejoin:miter;stroke-opacity:1\"/>\n<path class=\"bond-1 atom-1 atom-2\" d=\"M 135.7,130.6 L 74.1,166.2\" style=\"fill:none;fill-rule:evenodd;stroke:#000000;stroke-width:2.0px;stroke-linecap:butt;stroke-linejoin:miter;stroke-opacity:1\"/>\n<path class=\"bond-1 atom-1 atom-2\" d=\"M 125.1,124.4 L 74.1,153.8\" style=\"fill:none;fill-rule:evenodd;stroke:#000000;stroke-width:2.0px;stroke-linecap:butt;stroke-linejoin:miter;stroke-opacity:1\"/>\n<path class=\"bond-2 atom-2 atom-3\" d=\"M 74.1,166.2 L 12.5,130.6\" style=\"fill:none;fill-rule:evenodd;stroke:#000000;stroke-width:2.0px;stroke-linecap:butt;stroke-linejoin:miter;stroke-opacity:1\"/>\n<path class=\"bond-3 atom-3 atom-4\" d=\"M 12.5,130.6 L 12.5,59.4\" style=\"fill:none;fill-rule:evenodd;stroke:#000000;stroke-width:2.0px;stroke-linecap:butt;stroke-linejoin:miter;stroke-opacity:1\"/>\n<path class=\"bond-3 atom-3 atom-4\" d=\"M 23.2,124.4 L 23.2,65.6\" style=\"fill:none;fill-rule:evenodd;stroke:#000000;stroke-width:2.0px;stroke-linecap:butt;stroke-linejoin:miter;stroke-opacity:1\"/>\n<path class=\"bond-4 atom-4 atom-5\" d=\"M 12.5,59.4 L 74.1,23.9\" style=\"fill:none;fill-rule:evenodd;stroke:#000000;stroke-width:2.0px;stroke-linecap:butt;stroke-linejoin:miter;stroke-opacity:1\"/>\n<path class=\"bond-5 atom-5 atom-6\" d=\"M 74.1,23.9 L 135.7,59.4\" style=\"fill:none;fill-rule:evenodd;stroke:#000000;stroke-width:2.0px;stroke-linecap:butt;stroke-linejoin:miter;stroke-opacity:1\"/>\n<path class=\"bond-5 atom-5 atom-6\" d=\"M 74.1,36.2 L 125.1,65.6\" style=\"fill:none;fill-rule:evenodd;stroke:#000000;stroke-width:2.0px;stroke-linecap:butt;stroke-linejoin:miter;stroke-opacity:1\"/>\n<path class=\"bond-6 atom-6 atom-7\" d=\"M 135.7,59.4 L 161.6,44.5\" style=\"fill:none;fill-rule:evenodd;stroke:#000000;stroke-width:2.0px;stroke-linecap:butt;stroke-linejoin:miter;stroke-opacity:1\"/>\n<path class=\"bond-6 atom-6 atom-7\" d=\"M 161.6,44.5 L 187.4,29.6\" style=\"fill:none;fill-rule:evenodd;stroke:#0000FF;stroke-width:2.0px;stroke-linecap:butt;stroke-linejoin:miter;stroke-opacity:1\"/>\n<path class=\"bond-7 atom-6 atom-1\" d=\"M 135.7,59.4 L 135.7,130.6\" style=\"fill:none;fill-rule:evenodd;stroke:#000000;stroke-width:2.0px;stroke-linecap:butt;stroke-linejoin:miter;stroke-opacity:1\"/>\n<path d=\"M 77.2,164.4 L 74.1,166.2 L 71.0,164.4\" style=\"fill:none;stroke:#000000;stroke-width:2.0px;stroke-linecap:butt;stroke-linejoin:miter;stroke-opacity:1;\"/>\n<path d=\"M 15.6,132.4 L 12.5,130.6 L 12.5,127.0\" style=\"fill:none;stroke:#000000;stroke-width:2.0px;stroke-linecap:butt;stroke-linejoin:miter;stroke-opacity:1;\"/>\n<path d=\"M 12.5,63.0 L 12.5,59.4 L 15.6,57.7\" style=\"fill:none;stroke:#000000;stroke-width:2.0px;stroke-linecap:butt;stroke-linejoin:miter;stroke-opacity:1;\"/>\n<path d=\"M 71.0,25.6 L 74.1,23.9 L 77.2,25.6\" style=\"fill:none;stroke:#000000;stroke-width:2.0px;stroke-linecap:butt;stroke-linejoin:miter;stroke-opacity:1;\"/>\n<path class=\"atom-0\" d=\"M 192.9 156.1 L 199.5 166.8 Q 200.2 167.8, 201.2 169.7 Q 202.3 171.6, 202.3 171.8 L 202.3 156.1 L 205.0 156.1 L 205.0 176.2 L 202.3 176.2 L 195.2 164.6 Q 194.3 163.2, 193.5 161.6 Q 192.6 160.1, 192.3 159.6 L 192.3 176.2 L 189.7 176.2 L 189.7 156.1 L 192.9 156.1 \" fill=\"#0000FF\"/>\n<path class=\"atom-0\" d=\"M 208.9 156.1 L 211.6 156.1 L 211.6 164.7 L 221.9 164.7 L 221.9 156.1 L 224.6 156.1 L 224.6 176.2 L 221.9 176.2 L 221.9 166.9 L 211.6 166.9 L 211.6 176.2 L 208.9 176.2 L 208.9 156.1 \" fill=\"#0000FF\"/>\n<path class=\"atom-0\" d=\"M 228.6 175.5 Q 229.1 174.3, 230.2 173.6 Q 231.4 172.9, 233.0 172.9 Q 235.0 172.9, 236.1 174.0 Q 237.3 175.1, 237.3 177.0 Q 237.3 179.0, 235.8 180.8 Q 234.4 182.6, 231.4 184.8 L 237.5 184.8 L 237.5 186.3 L 228.5 186.3 L 228.5 185.1 Q 231.0 183.3, 232.5 182.0 Q 234.0 180.7, 234.7 179.5 Q 235.4 178.3, 235.4 177.1 Q 235.4 175.8, 234.8 175.1 Q 234.1 174.4, 233.0 174.4 Q 231.9 174.4, 231.2 174.8 Q 230.5 175.2, 230.0 176.2 L 228.6 175.5 \" fill=\"#0000FF\"/>\n<path class=\"atom-7\" d=\"M 192.9 13.8 L 199.5 24.5 Q 200.2 25.5, 201.2 27.4 Q 202.3 29.3, 202.3 29.4 L 202.3 13.8 L 205.0 13.8 L 205.0 33.9 L 202.3 33.9 L 195.2 22.3 Q 194.3 20.9, 193.5 19.3 Q 192.6 17.8, 192.3 17.3 L 192.3 33.9 L 189.7 33.9 L 189.7 13.8 L 192.9 13.8 \" fill=\"#0000FF\"/>\n<path class=\"atom-7\" d=\"M 208.8 13.8 L 211.6 13.8 L 211.6 22.3 L 221.9 22.3 L 221.9 13.8 L 224.6 13.8 L 224.6 33.9 L 221.9 33.9 L 221.9 24.6 L 211.6 24.6 L 211.6 33.9 L 208.8 33.9 L 208.8 13.8 \" fill=\"#0000FF\"/>\n<path class=\"atom-7\" d=\"M 234.8 37.0 Q 236.1 37.4, 236.8 38.2 Q 237.4 39.1, 237.4 40.4 Q 237.4 41.5, 236.8 42.4 Q 236.3 43.2, 235.2 43.7 Q 234.2 44.2, 232.9 44.2 Q 231.4 44.2, 230.4 43.7 Q 229.3 43.2, 228.5 42.2 L 229.5 41.1 Q 230.4 42.0, 231.1 42.4 Q 231.7 42.7, 232.9 42.7 Q 234.1 42.7, 234.8 42.1 Q 235.5 41.4, 235.5 40.3 Q 235.5 39.0, 234.8 38.4 Q 234.0 37.8, 232.4 37.8 L 231.4 37.8 L 231.4 36.4 L 232.3 36.4 Q 233.7 36.4, 234.5 35.8 Q 235.2 35.1, 235.2 34.0 Q 235.2 33.1, 234.6 32.6 Q 234.0 32.1, 232.9 32.1 Q 231.8 32.1, 231.1 32.5 Q 230.4 32.9, 229.9 33.8 L 228.6 33.2 Q 229.0 32.0, 230.2 31.3 Q 231.3 30.6, 232.9 30.6 Q 234.8 30.6, 236.0 31.5 Q 237.1 32.4, 237.1 34.0 Q 237.1 35.0, 236.5 35.8 Q 236.0 36.6, 234.8 37.0 \" fill=\"#0000FF\"/>\n<path class=\"atom-7\" d=\"M 228.5 17.4 L 232.1 17.4 L 232.1 13.7 L 233.7 13.7 L 233.7 17.4 L 237.3 17.4 L 237.3 18.8 L 233.7 18.8 L 233.7 22.5 L 232.1 22.5 L 232.1 18.8 L 228.5 18.8 L 228.5 17.4 \" fill=\"#0000FF\"/>\n</svg>"
          },
          "metadata": {}
        },
        {
          "output_type": "stream",
          "name": "stdout",
          "text": [
            "This is Molecule 2\n"
          ]
        },
        {
          "output_type": "display_data",
          "data": {
            "text/plain": [
              "<IPython.core.display.SVG object>"
            ],
            "image/svg+xml": "<svg xmlns=\"http://www.w3.org/2000/svg\" xmlns:rdkit=\"http://www.rdkit.org/xml\" xmlns:xlink=\"http://www.w3.org/1999/xlink\" version=\"1.1\" baseProfile=\"full\" xml:space=\"preserve\" width=\"250px\" height=\"200px\" viewBox=\"0 0 250 200\">\n<!-- END OF HEADER -->\n<rect style=\"opacity:1.0;fill:#FFFFFF;stroke:none\" width=\"250.0\" height=\"200.0\" x=\"0.0\" y=\"0.0\"> </rect>\n<path class=\"bond-0 atom-0 atom-1\" d=\"M 187.4,160.4 L 161.6,145.4\" style=\"fill:none;fill-rule:evenodd;stroke:#0000FF;stroke-width:2.0px;stroke-linecap:butt;stroke-linejoin:miter;stroke-opacity:1\"/>\n<path class=\"bond-0 atom-0 atom-1\" d=\"M 161.6,145.4 L 135.7,130.5\" style=\"fill:none;fill-rule:evenodd;stroke:#000000;stroke-width:2.0px;stroke-linecap:butt;stroke-linejoin:miter;stroke-opacity:1\"/>\n<path class=\"bond-1 atom-1 atom-2\" d=\"M 135.7,130.5 L 74.1,166.1\" style=\"fill:none;fill-rule:evenodd;stroke:#000000;stroke-width:2.0px;stroke-linecap:butt;stroke-linejoin:miter;stroke-opacity:1\"/>\n<path class=\"bond-1 atom-1 atom-2\" d=\"M 125.1,124.4 L 74.1,153.8\" style=\"fill:none;fill-rule:evenodd;stroke:#000000;stroke-width:2.0px;stroke-linecap:butt;stroke-linejoin:miter;stroke-opacity:1\"/>\n<path class=\"bond-2 atom-2 atom-3\" d=\"M 74.1,166.1 L 12.5,130.5\" style=\"fill:none;fill-rule:evenodd;stroke:#000000;stroke-width:2.0px;stroke-linecap:butt;stroke-linejoin:miter;stroke-opacity:1\"/>\n<path class=\"bond-3 atom-3 atom-4\" d=\"M 12.5,130.5 L 12.5,59.4\" style=\"fill:none;fill-rule:evenodd;stroke:#000000;stroke-width:2.0px;stroke-linecap:butt;stroke-linejoin:miter;stroke-opacity:1\"/>\n<path class=\"bond-3 atom-3 atom-4\" d=\"M 23.2,124.4 L 23.2,65.5\" style=\"fill:none;fill-rule:evenodd;stroke:#000000;stroke-width:2.0px;stroke-linecap:butt;stroke-linejoin:miter;stroke-opacity:1\"/>\n<path class=\"bond-4 atom-4 atom-5\" d=\"M 12.5,59.4 L 74.1,23.8\" style=\"fill:none;fill-rule:evenodd;stroke:#000000;stroke-width:2.0px;stroke-linecap:butt;stroke-linejoin:miter;stroke-opacity:1\"/>\n<path class=\"bond-5 atom-5 atom-6\" d=\"M 74.1,23.8 L 135.7,59.4\" style=\"fill:none;fill-rule:evenodd;stroke:#000000;stroke-width:2.0px;stroke-linecap:butt;stroke-linejoin:miter;stroke-opacity:1\"/>\n<path class=\"bond-5 atom-5 atom-6\" d=\"M 74.1,36.1 L 125.1,65.5\" style=\"fill:none;fill-rule:evenodd;stroke:#000000;stroke-width:2.0px;stroke-linecap:butt;stroke-linejoin:miter;stroke-opacity:1\"/>\n<path class=\"bond-6 atom-6 atom-7\" d=\"M 135.7,59.4 L 161.6,44.5\" style=\"fill:none;fill-rule:evenodd;stroke:#000000;stroke-width:2.0px;stroke-linecap:butt;stroke-linejoin:miter;stroke-opacity:1\"/>\n<path class=\"bond-6 atom-6 atom-7\" d=\"M 161.6,44.5 L 187.4,29.6\" style=\"fill:none;fill-rule:evenodd;stroke:#0000FF;stroke-width:2.0px;stroke-linecap:butt;stroke-linejoin:miter;stroke-opacity:1\"/>\n<path class=\"bond-7 atom-6 atom-1\" d=\"M 135.7,59.4 L 135.7,130.5\" style=\"fill:none;fill-rule:evenodd;stroke:#000000;stroke-width:2.0px;stroke-linecap:butt;stroke-linejoin:miter;stroke-opacity:1\"/>\n<path d=\"M 77.2,164.3 L 74.1,166.1 L 71.0,164.3\" style=\"fill:none;stroke:#000000;stroke-width:2.0px;stroke-linecap:butt;stroke-linejoin:miter;stroke-opacity:1;\"/>\n<path d=\"M 15.6,132.3 L 12.5,130.5 L 12.5,127.0\" style=\"fill:none;stroke:#000000;stroke-width:2.0px;stroke-linecap:butt;stroke-linejoin:miter;stroke-opacity:1;\"/>\n<path d=\"M 12.5,62.9 L 12.5,59.4 L 15.6,57.6\" style=\"fill:none;stroke:#000000;stroke-width:2.0px;stroke-linecap:butt;stroke-linejoin:miter;stroke-opacity:1;\"/>\n<path d=\"M 71.0,25.6 L 74.1,23.8 L 77.2,25.6\" style=\"fill:none;stroke:#000000;stroke-width:2.0px;stroke-linecap:butt;stroke-linejoin:miter;stroke-opacity:1;\"/>\n<path class=\"atom-0\" d=\"M 192.9 156.0 L 199.5 166.7 Q 200.2 167.8, 201.2 169.7 Q 202.3 171.6, 202.3 171.7 L 202.3 156.0 L 205.0 156.0 L 205.0 176.2 L 202.3 176.2 L 195.2 164.5 Q 194.3 163.2, 193.5 161.6 Q 192.6 160.0, 192.3 159.5 L 192.3 176.2 L 189.7 176.2 L 189.7 156.0 L 192.9 156.0 \" fill=\"#0000FF\"/>\n<path class=\"atom-0\" d=\"M 208.9 156.0 L 211.6 156.0 L 211.6 164.6 L 221.9 164.6 L 221.9 156.0 L 224.6 156.0 L 224.6 176.2 L 221.9 176.2 L 221.9 166.9 L 211.6 166.9 L 211.6 176.2 L 208.9 176.2 L 208.9 156.0 \" fill=\"#0000FF\"/>\n<path class=\"atom-0\" d=\"M 228.6 175.5 Q 229.1 174.2, 230.2 173.5 Q 231.4 172.8, 233.0 172.8 Q 235.0 172.8, 236.1 173.9 Q 237.3 175.0, 237.3 176.9 Q 237.3 178.9, 235.8 180.7 Q 234.4 182.6, 231.4 184.8 L 237.5 184.8 L 237.5 186.3 L 228.5 186.3 L 228.5 185.0 Q 231.0 183.2, 232.5 181.9 Q 234.0 180.6, 234.7 179.4 Q 235.4 178.2, 235.4 177.0 Q 235.4 175.8, 234.8 175.0 Q 234.1 174.3, 233.0 174.3 Q 231.9 174.3, 231.2 174.8 Q 230.5 175.2, 230.0 176.1 L 228.6 175.5 \" fill=\"#0000FF\"/>\n<path class=\"atom-7\" d=\"M 192.9 13.7 L 199.5 24.4 Q 200.2 25.5, 201.2 27.4 Q 202.3 29.3, 202.3 29.4 L 202.3 13.7 L 205.0 13.7 L 205.0 33.9 L 202.3 33.9 L 195.2 22.2 Q 194.3 20.8, 193.5 19.3 Q 192.6 17.7, 192.3 17.2 L 192.3 33.9 L 189.7 33.9 L 189.7 13.7 L 192.9 13.7 \" fill=\"#0000FF\"/>\n<path class=\"atom-7\" d=\"M 208.9 13.7 L 211.6 13.7 L 211.6 22.3 L 221.9 22.3 L 221.9 13.7 L 224.6 13.7 L 224.6 33.9 L 221.9 33.9 L 221.9 24.6 L 211.6 24.6 L 211.6 33.9 L 208.9 33.9 L 208.9 13.7 \" fill=\"#0000FF\"/>\n<path class=\"atom-7\" d=\"M 228.6 33.2 Q 229.1 31.9, 230.2 31.2 Q 231.4 30.5, 233.0 30.5 Q 235.0 30.5, 236.1 31.6 Q 237.3 32.7, 237.3 34.6 Q 237.3 36.6, 235.8 38.4 Q 234.4 40.3, 231.4 42.5 L 237.5 42.5 L 237.5 44.0 L 228.5 44.0 L 228.5 42.7 Q 231.0 40.9, 232.5 39.6 Q 234.0 38.3, 234.7 37.1 Q 235.4 35.9, 235.4 34.7 Q 235.4 33.4, 234.8 32.7 Q 234.1 32.0, 233.0 32.0 Q 231.9 32.0, 231.2 32.4 Q 230.5 32.9, 230.0 33.8 L 228.6 33.2 \" fill=\"#0000FF\"/>\n</svg>"
          },
          "metadata": {}
        }
      ]
    },
    {
      "cell_type": "code",
      "source": [
        "#@title Select molecules\n",
        "#@markdown Which molecule states do you want to use?\n",
        "#@markdown The molecule ids are shown in the previous cell.\n",
        "mol1 = True #@param {type:\"boolean\"}\n",
        "mol2 = True #@param {type:\"boolean\"}\n",
        "mol3 = True #@param {type:\"boolean\"}\n",
        "mol4 = True #@param {type:\"boolean\"}\n",
        "mol5 = False #@param {type:\"boolean\"}\n",
        "mol6 = False #@param {type:\"boolean\"}\n",
        "mol7 = False #@param {type:\"boolean\"}\n",
        "mol8 = False #@param {type:\"boolean\"}\n",
        "mol9 = False #@param {type:\"boolean\"}\n",
        "mol10 = False #@param {type:\"boolean\"}\n",
        "\n",
        "mols_to_use = [\n",
        "    mol1, mol2, mol3, mol4, mol5, mol6, mol7, mol8, mol9, mol10,\n",
        "][:len(mols)]\n",
        "\n",
        "mols = [mols[i] for i in range(len(mols)) if mols_to_use[i]]"
      ],
      "metadata": {
        "id": "6cC1ul8MS8ZO"
      },
      "execution_count": 4,
      "outputs": []
    },
    {
      "cell_type": "code",
      "source": [
        "#@title Selected molecules\n",
        "#@markdown The foloweing molecules will be used in the furhter analysis.\n",
        "for i, m in enumerate(mols):\n",
        "    print(f\"This is Molecule {i}\")\n",
        "    d2d = rdMolDraw2D.MolDraw2DSVG(250, 200)\n",
        "    d2d.DrawMolecule(m)\n",
        "    d2d.FinishDrawing()\n",
        "    display(SVG(d2d.GetDrawingText()))"
      ],
      "metadata": {
        "colab": {
          "base_uri": "https://localhost:8080/",
          "height": 687
        },
        "id": "VfSF4T0PV3XY",
        "outputId": "4c9e71a0-2e22-455c-945b-446fd6e94648"
      },
      "execution_count": 5,
      "outputs": [
        {
          "output_type": "stream",
          "name": "stdout",
          "text": [
            "This is Molecule 0\n"
          ]
        },
        {
          "output_type": "display_data",
          "data": {
            "text/plain": [
              "<IPython.core.display.SVG object>"
            ],
            "image/svg+xml": "<svg xmlns=\"http://www.w3.org/2000/svg\" xmlns:rdkit=\"http://www.rdkit.org/xml\" xmlns:xlink=\"http://www.w3.org/1999/xlink\" version=\"1.1\" baseProfile=\"full\" xml:space=\"preserve\" width=\"250px\" height=\"200px\" viewBox=\"0 0 250 200\">\n<!-- END OF HEADER -->\n<rect style=\"opacity:1.0;fill:#FFFFFF;stroke:none\" width=\"250.0\" height=\"200.0\" x=\"0.0\" y=\"0.0\"> </rect>\n<path class=\"bond-0 atom-0 atom-1\" d=\"M 187.5,160.3 L 161.6,145.4\" style=\"fill:none;fill-rule:evenodd;stroke:#0000FF;stroke-width:2.0px;stroke-linecap:butt;stroke-linejoin:miter;stroke-opacity:1\"/>\n<path class=\"bond-0 atom-0 atom-1\" d=\"M 161.6,145.4 L 135.8,130.5\" style=\"fill:none;fill-rule:evenodd;stroke:#000000;stroke-width:2.0px;stroke-linecap:butt;stroke-linejoin:miter;stroke-opacity:1\"/>\n<path class=\"bond-1 atom-1 atom-2\" d=\"M 135.8,130.5 L 74.2,166.1\" style=\"fill:none;fill-rule:evenodd;stroke:#000000;stroke-width:2.0px;stroke-linecap:butt;stroke-linejoin:miter;stroke-opacity:1\"/>\n<path class=\"bond-1 atom-1 atom-2\" d=\"M 125.1,124.3 L 74.2,153.8\" style=\"fill:none;fill-rule:evenodd;stroke:#000000;stroke-width:2.0px;stroke-linecap:butt;stroke-linejoin:miter;stroke-opacity:1\"/>\n<path class=\"bond-2 atom-2 atom-3\" d=\"M 74.2,166.1 L 12.5,130.5\" style=\"fill:none;fill-rule:evenodd;stroke:#000000;stroke-width:2.0px;stroke-linecap:butt;stroke-linejoin:miter;stroke-opacity:1\"/>\n<path class=\"bond-3 atom-3 atom-4\" d=\"M 12.5,130.5 L 12.5,59.3\" style=\"fill:none;fill-rule:evenodd;stroke:#000000;stroke-width:2.0px;stroke-linecap:butt;stroke-linejoin:miter;stroke-opacity:1\"/>\n<path class=\"bond-3 atom-3 atom-4\" d=\"M 23.2,124.3 L 23.2,65.5\" style=\"fill:none;fill-rule:evenodd;stroke:#000000;stroke-width:2.0px;stroke-linecap:butt;stroke-linejoin:miter;stroke-opacity:1\"/>\n<path class=\"bond-4 atom-4 atom-5\" d=\"M 12.5,59.3 L 74.2,23.7\" style=\"fill:none;fill-rule:evenodd;stroke:#000000;stroke-width:2.0px;stroke-linecap:butt;stroke-linejoin:miter;stroke-opacity:1\"/>\n<path class=\"bond-5 atom-5 atom-6\" d=\"M 74.2,23.7 L 135.8,59.3\" style=\"fill:none;fill-rule:evenodd;stroke:#000000;stroke-width:2.0px;stroke-linecap:butt;stroke-linejoin:miter;stroke-opacity:1\"/>\n<path class=\"bond-5 atom-5 atom-6\" d=\"M 74.2,36.1 L 125.1,65.5\" style=\"fill:none;fill-rule:evenodd;stroke:#000000;stroke-width:2.0px;stroke-linecap:butt;stroke-linejoin:miter;stroke-opacity:1\"/>\n<path class=\"bond-6 atom-6 atom-7\" d=\"M 135.8,59.3 L 161.6,44.4\" style=\"fill:none;fill-rule:evenodd;stroke:#000000;stroke-width:2.0px;stroke-linecap:butt;stroke-linejoin:miter;stroke-opacity:1\"/>\n<path class=\"bond-6 atom-6 atom-7\" d=\"M 161.6,44.4 L 187.5,29.5\" style=\"fill:none;fill-rule:evenodd;stroke:#0000FF;stroke-width:2.0px;stroke-linecap:butt;stroke-linejoin:miter;stroke-opacity:1\"/>\n<path class=\"bond-7 atom-6 atom-1\" d=\"M 135.8,59.3 L 135.8,130.5\" style=\"fill:none;fill-rule:evenodd;stroke:#000000;stroke-width:2.0px;stroke-linecap:butt;stroke-linejoin:miter;stroke-opacity:1\"/>\n<path d=\"M 77.2,164.3 L 74.2,166.1 L 71.1,164.3\" style=\"fill:none;stroke:#000000;stroke-width:2.0px;stroke-linecap:butt;stroke-linejoin:miter;stroke-opacity:1;\"/>\n<path d=\"M 15.6,132.3 L 12.5,130.5 L 12.5,127.0\" style=\"fill:none;stroke:#000000;stroke-width:2.0px;stroke-linecap:butt;stroke-linejoin:miter;stroke-opacity:1;\"/>\n<path d=\"M 12.5,62.9 L 12.5,59.3 L 15.6,57.5\" style=\"fill:none;stroke:#000000;stroke-width:2.0px;stroke-linecap:butt;stroke-linejoin:miter;stroke-opacity:1;\"/>\n<path d=\"M 71.1,25.5 L 74.2,23.7 L 77.2,25.5\" style=\"fill:none;stroke:#000000;stroke-width:2.0px;stroke-linecap:butt;stroke-linejoin:miter;stroke-opacity:1;\"/>\n<path class=\"atom-0\" d=\"M 193.0 156.0 L 199.6 166.7 Q 200.3 167.8, 201.3 169.7 Q 202.4 171.6, 202.4 171.7 L 202.4 156.0 L 205.1 156.0 L 205.1 176.2 L 202.3 176.2 L 195.2 164.5 Q 194.4 163.1, 193.5 161.6 Q 192.7 160.0, 192.4 159.5 L 192.4 176.2 L 189.8 176.2 L 189.8 156.0 L 193.0 156.0 \" fill=\"#0000FF\"/>\n<path class=\"atom-0\" d=\"M 208.9 156.0 L 211.6 156.0 L 211.6 164.6 L 222.0 164.6 L 222.0 156.0 L 224.7 156.0 L 224.7 176.2 L 222.0 176.2 L 222.0 166.9 L 211.6 166.9 L 211.6 176.2 L 208.9 176.2 L 208.9 156.0 \" fill=\"#0000FF\"/>\n<path class=\"atom-0\" d=\"M 234.9 179.3 Q 236.2 179.6, 236.9 180.5 Q 237.5 181.3, 237.5 182.6 Q 237.5 183.7, 236.9 184.6 Q 236.4 185.5, 235.3 186.0 Q 234.3 186.5, 233.0 186.5 Q 231.5 186.5, 230.5 186.0 Q 229.4 185.5, 228.6 184.4 L 229.6 183.4 Q 230.5 184.3, 231.1 184.6 Q 231.8 185.0, 233.0 185.0 Q 234.2 185.0, 234.9 184.3 Q 235.6 183.7, 235.6 182.6 Q 235.6 181.3, 234.9 180.6 Q 234.1 180.0, 232.5 180.0 L 231.5 180.0 L 231.5 178.7 L 232.4 178.7 Q 233.8 178.7, 234.6 178.0 Q 235.3 177.4, 235.3 176.2 Q 235.3 175.3, 234.7 174.8 Q 234.1 174.3, 233.0 174.3 Q 231.9 174.3, 231.2 174.7 Q 230.5 175.1, 230.0 176.1 L 228.7 175.4 Q 229.1 174.3, 230.3 173.6 Q 231.4 172.8, 233.0 172.8 Q 234.9 172.8, 236.1 173.7 Q 237.2 174.7, 237.2 176.2 Q 237.2 177.3, 236.6 178.1 Q 236.1 178.8, 234.9 179.3 \" fill=\"#0000FF\"/>\n<path class=\"atom-0\" d=\"M 228.6 159.7 L 232.2 159.7 L 232.2 155.9 L 233.8 155.9 L 233.8 159.7 L 237.4 159.7 L 237.4 161.0 L 233.8 161.0 L 233.8 164.8 L 232.2 164.8 L 232.2 161.0 L 228.6 161.0 L 228.6 159.7 \" fill=\"#0000FF\"/>\n<path class=\"atom-7\" d=\"M 193.0 13.6 L 199.6 24.3 Q 200.3 25.4, 201.3 27.3 Q 202.4 29.2, 202.4 29.3 L 202.4 13.6 L 205.1 13.6 L 205.1 33.8 L 202.3 33.8 L 195.2 22.1 Q 194.4 20.8, 193.5 19.2 Q 192.7 17.6, 192.4 17.2 L 192.4 33.8 L 189.8 33.8 L 189.8 13.6 L 193.0 13.6 \" fill=\"#0000FF\"/>\n<path class=\"atom-7\" d=\"M 208.9 13.6 L 211.6 13.6 L 211.6 22.2 L 222.0 22.2 L 222.0 13.6 L 224.7 13.6 L 224.7 33.8 L 222.0 33.8 L 222.0 24.5 L 211.6 24.5 L 211.6 33.8 L 208.9 33.8 L 208.9 13.6 \" fill=\"#0000FF\"/>\n<path class=\"atom-7\" d=\"M 234.9 36.9 Q 236.2 37.3, 236.9 38.1 Q 237.5 38.9, 237.5 40.2 Q 237.5 41.4, 236.9 42.3 Q 236.4 43.1, 235.3 43.6 Q 234.3 44.1, 233.0 44.1 Q 231.5 44.1, 230.5 43.6 Q 229.4 43.1, 228.6 42.1 L 229.6 41.0 Q 230.5 41.9, 231.1 42.2 Q 231.8 42.6, 233.0 42.6 Q 234.2 42.6, 234.9 41.9 Q 235.6 41.3, 235.6 40.2 Q 235.6 38.9, 234.9 38.3 Q 234.1 37.7, 232.5 37.7 L 231.5 37.7 L 231.5 36.3 L 232.4 36.3 Q 233.8 36.3, 234.6 35.7 Q 235.3 35.0, 235.3 33.8 Q 235.3 33.0, 234.7 32.5 Q 234.1 31.9, 233.0 31.9 Q 231.9 31.9, 231.2 32.3 Q 230.5 32.7, 230.0 33.7 L 228.7 33.0 Q 229.1 31.9, 230.3 31.2 Q 231.4 30.4, 233.0 30.4 Q 234.9 30.4, 236.1 31.4 Q 237.2 32.3, 237.2 33.8 Q 237.2 34.9, 236.6 35.7 Q 236.1 36.4, 234.9 36.9 \" fill=\"#0000FF\"/>\n<path class=\"atom-7\" d=\"M 228.6 17.3 L 232.2 17.3 L 232.2 13.5 L 233.8 13.5 L 233.8 17.3 L 237.4 17.3 L 237.4 18.6 L 233.8 18.6 L 233.8 22.4 L 232.2 22.4 L 232.2 18.6 L 228.6 18.6 L 228.6 17.3 \" fill=\"#0000FF\"/>\n</svg>"
          },
          "metadata": {}
        },
        {
          "output_type": "stream",
          "name": "stdout",
          "text": [
            "This is Molecule 1\n"
          ]
        },
        {
          "output_type": "display_data",
          "data": {
            "text/plain": [
              "<IPython.core.display.SVG object>"
            ],
            "image/svg+xml": "<svg xmlns=\"http://www.w3.org/2000/svg\" xmlns:rdkit=\"http://www.rdkit.org/xml\" xmlns:xlink=\"http://www.w3.org/1999/xlink\" version=\"1.1\" baseProfile=\"full\" xml:space=\"preserve\" width=\"250px\" height=\"200px\" viewBox=\"0 0 250 200\">\n<!-- END OF HEADER -->\n<rect style=\"opacity:1.0;fill:#FFFFFF;stroke:none\" width=\"250.0\" height=\"200.0\" x=\"0.0\" y=\"0.0\"> </rect>\n<path class=\"bond-0 atom-0 atom-1\" d=\"M 187.4,160.4 L 161.6,145.5\" style=\"fill:none;fill-rule:evenodd;stroke:#0000FF;stroke-width:2.0px;stroke-linecap:butt;stroke-linejoin:miter;stroke-opacity:1\"/>\n<path class=\"bond-0 atom-0 atom-1\" d=\"M 161.6,145.5 L 135.7,130.6\" style=\"fill:none;fill-rule:evenodd;stroke:#000000;stroke-width:2.0px;stroke-linecap:butt;stroke-linejoin:miter;stroke-opacity:1\"/>\n<path class=\"bond-1 atom-1 atom-2\" d=\"M 135.7,130.6 L 74.1,166.2\" style=\"fill:none;fill-rule:evenodd;stroke:#000000;stroke-width:2.0px;stroke-linecap:butt;stroke-linejoin:miter;stroke-opacity:1\"/>\n<path class=\"bond-1 atom-1 atom-2\" d=\"M 125.1,124.4 L 74.1,153.8\" style=\"fill:none;fill-rule:evenodd;stroke:#000000;stroke-width:2.0px;stroke-linecap:butt;stroke-linejoin:miter;stroke-opacity:1\"/>\n<path class=\"bond-2 atom-2 atom-3\" d=\"M 74.1,166.2 L 12.5,130.6\" style=\"fill:none;fill-rule:evenodd;stroke:#000000;stroke-width:2.0px;stroke-linecap:butt;stroke-linejoin:miter;stroke-opacity:1\"/>\n<path class=\"bond-3 atom-3 atom-4\" d=\"M 12.5,130.6 L 12.5,59.4\" style=\"fill:none;fill-rule:evenodd;stroke:#000000;stroke-width:2.0px;stroke-linecap:butt;stroke-linejoin:miter;stroke-opacity:1\"/>\n<path class=\"bond-3 atom-3 atom-4\" d=\"M 23.2,124.4 L 23.2,65.6\" style=\"fill:none;fill-rule:evenodd;stroke:#000000;stroke-width:2.0px;stroke-linecap:butt;stroke-linejoin:miter;stroke-opacity:1\"/>\n<path class=\"bond-4 atom-4 atom-5\" d=\"M 12.5,59.4 L 74.1,23.9\" style=\"fill:none;fill-rule:evenodd;stroke:#000000;stroke-width:2.0px;stroke-linecap:butt;stroke-linejoin:miter;stroke-opacity:1\"/>\n<path class=\"bond-5 atom-5 atom-6\" d=\"M 74.1,23.9 L 135.7,59.4\" style=\"fill:none;fill-rule:evenodd;stroke:#000000;stroke-width:2.0px;stroke-linecap:butt;stroke-linejoin:miter;stroke-opacity:1\"/>\n<path class=\"bond-5 atom-5 atom-6\" d=\"M 74.1,36.2 L 125.1,65.6\" style=\"fill:none;fill-rule:evenodd;stroke:#000000;stroke-width:2.0px;stroke-linecap:butt;stroke-linejoin:miter;stroke-opacity:1\"/>\n<path class=\"bond-6 atom-6 atom-7\" d=\"M 135.7,59.4 L 161.6,44.5\" style=\"fill:none;fill-rule:evenodd;stroke:#000000;stroke-width:2.0px;stroke-linecap:butt;stroke-linejoin:miter;stroke-opacity:1\"/>\n<path class=\"bond-6 atom-6 atom-7\" d=\"M 161.6,44.5 L 187.4,29.6\" style=\"fill:none;fill-rule:evenodd;stroke:#0000FF;stroke-width:2.0px;stroke-linecap:butt;stroke-linejoin:miter;stroke-opacity:1\"/>\n<path class=\"bond-7 atom-6 atom-1\" d=\"M 135.7,59.4 L 135.7,130.6\" style=\"fill:none;fill-rule:evenodd;stroke:#000000;stroke-width:2.0px;stroke-linecap:butt;stroke-linejoin:miter;stroke-opacity:1\"/>\n<path d=\"M 77.2,164.4 L 74.1,166.2 L 71.0,164.4\" style=\"fill:none;stroke:#000000;stroke-width:2.0px;stroke-linecap:butt;stroke-linejoin:miter;stroke-opacity:1;\"/>\n<path d=\"M 15.6,132.4 L 12.5,130.6 L 12.5,127.0\" style=\"fill:none;stroke:#000000;stroke-width:2.0px;stroke-linecap:butt;stroke-linejoin:miter;stroke-opacity:1;\"/>\n<path d=\"M 12.5,63.0 L 12.5,59.4 L 15.6,57.7\" style=\"fill:none;stroke:#000000;stroke-width:2.0px;stroke-linecap:butt;stroke-linejoin:miter;stroke-opacity:1;\"/>\n<path d=\"M 71.0,25.6 L 74.1,23.9 L 77.2,25.6\" style=\"fill:none;stroke:#000000;stroke-width:2.0px;stroke-linecap:butt;stroke-linejoin:miter;stroke-opacity:1;\"/>\n<path class=\"atom-0\" d=\"M 192.9 156.1 L 199.5 166.8 Q 200.2 167.8, 201.2 169.7 Q 202.3 171.6, 202.3 171.8 L 202.3 156.1 L 205.0 156.1 L 205.0 176.2 L 202.3 176.2 L 195.2 164.6 Q 194.3 163.2, 193.5 161.6 Q 192.6 160.1, 192.3 159.6 L 192.3 176.2 L 189.7 176.2 L 189.7 156.1 L 192.9 156.1 \" fill=\"#0000FF\"/>\n<path class=\"atom-0\" d=\"M 208.9 156.1 L 211.6 156.1 L 211.6 164.7 L 221.9 164.7 L 221.9 156.1 L 224.6 156.1 L 224.6 176.2 L 221.9 176.2 L 221.9 166.9 L 211.6 166.9 L 211.6 176.2 L 208.9 176.2 L 208.9 156.1 \" fill=\"#0000FF\"/>\n<path class=\"atom-0\" d=\"M 228.6 175.5 Q 229.1 174.3, 230.2 173.6 Q 231.4 172.9, 233.0 172.9 Q 235.0 172.9, 236.1 174.0 Q 237.3 175.1, 237.3 177.0 Q 237.3 179.0, 235.8 180.8 Q 234.4 182.6, 231.4 184.8 L 237.5 184.8 L 237.5 186.3 L 228.5 186.3 L 228.5 185.1 Q 231.0 183.3, 232.5 182.0 Q 234.0 180.7, 234.7 179.5 Q 235.4 178.3, 235.4 177.1 Q 235.4 175.8, 234.8 175.1 Q 234.1 174.4, 233.0 174.4 Q 231.9 174.4, 231.2 174.8 Q 230.5 175.2, 230.0 176.2 L 228.6 175.5 \" fill=\"#0000FF\"/>\n<path class=\"atom-7\" d=\"M 192.9 13.8 L 199.5 24.5 Q 200.2 25.5, 201.2 27.4 Q 202.3 29.3, 202.3 29.4 L 202.3 13.8 L 205.0 13.8 L 205.0 33.9 L 202.3 33.9 L 195.2 22.3 Q 194.3 20.9, 193.5 19.3 Q 192.6 17.8, 192.3 17.3 L 192.3 33.9 L 189.7 33.9 L 189.7 13.8 L 192.9 13.8 \" fill=\"#0000FF\"/>\n<path class=\"atom-7\" d=\"M 208.8 13.8 L 211.6 13.8 L 211.6 22.3 L 221.9 22.3 L 221.9 13.8 L 224.6 13.8 L 224.6 33.9 L 221.9 33.9 L 221.9 24.6 L 211.6 24.6 L 211.6 33.9 L 208.8 33.9 L 208.8 13.8 \" fill=\"#0000FF\"/>\n<path class=\"atom-7\" d=\"M 234.8 37.0 Q 236.1 37.4, 236.8 38.2 Q 237.4 39.1, 237.4 40.4 Q 237.4 41.5, 236.8 42.4 Q 236.3 43.2, 235.2 43.7 Q 234.2 44.2, 232.9 44.2 Q 231.4 44.2, 230.4 43.7 Q 229.3 43.2, 228.5 42.2 L 229.5 41.1 Q 230.4 42.0, 231.1 42.4 Q 231.7 42.7, 232.9 42.7 Q 234.1 42.7, 234.8 42.1 Q 235.5 41.4, 235.5 40.3 Q 235.5 39.0, 234.8 38.4 Q 234.0 37.8, 232.4 37.8 L 231.4 37.8 L 231.4 36.4 L 232.3 36.4 Q 233.7 36.4, 234.5 35.8 Q 235.2 35.1, 235.2 34.0 Q 235.2 33.1, 234.6 32.6 Q 234.0 32.1, 232.9 32.1 Q 231.8 32.1, 231.1 32.5 Q 230.4 32.9, 229.9 33.8 L 228.6 33.2 Q 229.0 32.0, 230.2 31.3 Q 231.3 30.6, 232.9 30.6 Q 234.8 30.6, 236.0 31.5 Q 237.1 32.4, 237.1 34.0 Q 237.1 35.0, 236.5 35.8 Q 236.0 36.6, 234.8 37.0 \" fill=\"#0000FF\"/>\n<path class=\"atom-7\" d=\"M 228.5 17.4 L 232.1 17.4 L 232.1 13.7 L 233.7 13.7 L 233.7 17.4 L 237.3 17.4 L 237.3 18.8 L 233.7 18.8 L 233.7 22.5 L 232.1 22.5 L 232.1 18.8 L 228.5 18.8 L 228.5 17.4 \" fill=\"#0000FF\"/>\n</svg>"
          },
          "metadata": {}
        },
        {
          "output_type": "stream",
          "name": "stdout",
          "text": [
            "This is Molecule 2\n"
          ]
        },
        {
          "output_type": "display_data",
          "data": {
            "text/plain": [
              "<IPython.core.display.SVG object>"
            ],
            "image/svg+xml": "<svg xmlns=\"http://www.w3.org/2000/svg\" xmlns:rdkit=\"http://www.rdkit.org/xml\" xmlns:xlink=\"http://www.w3.org/1999/xlink\" version=\"1.1\" baseProfile=\"full\" xml:space=\"preserve\" width=\"250px\" height=\"200px\" viewBox=\"0 0 250 200\">\n<!-- END OF HEADER -->\n<rect style=\"opacity:1.0;fill:#FFFFFF;stroke:none\" width=\"250.0\" height=\"200.0\" x=\"0.0\" y=\"0.0\"> </rect>\n<path class=\"bond-0 atom-0 atom-1\" d=\"M 187.4,160.4 L 161.6,145.4\" style=\"fill:none;fill-rule:evenodd;stroke:#0000FF;stroke-width:2.0px;stroke-linecap:butt;stroke-linejoin:miter;stroke-opacity:1\"/>\n<path class=\"bond-0 atom-0 atom-1\" d=\"M 161.6,145.4 L 135.7,130.5\" style=\"fill:none;fill-rule:evenodd;stroke:#000000;stroke-width:2.0px;stroke-linecap:butt;stroke-linejoin:miter;stroke-opacity:1\"/>\n<path class=\"bond-1 atom-1 atom-2\" d=\"M 135.7,130.5 L 74.1,166.1\" style=\"fill:none;fill-rule:evenodd;stroke:#000000;stroke-width:2.0px;stroke-linecap:butt;stroke-linejoin:miter;stroke-opacity:1\"/>\n<path class=\"bond-1 atom-1 atom-2\" d=\"M 125.1,124.4 L 74.1,153.8\" style=\"fill:none;fill-rule:evenodd;stroke:#000000;stroke-width:2.0px;stroke-linecap:butt;stroke-linejoin:miter;stroke-opacity:1\"/>\n<path class=\"bond-2 atom-2 atom-3\" d=\"M 74.1,166.1 L 12.5,130.5\" style=\"fill:none;fill-rule:evenodd;stroke:#000000;stroke-width:2.0px;stroke-linecap:butt;stroke-linejoin:miter;stroke-opacity:1\"/>\n<path class=\"bond-3 atom-3 atom-4\" d=\"M 12.5,130.5 L 12.5,59.4\" style=\"fill:none;fill-rule:evenodd;stroke:#000000;stroke-width:2.0px;stroke-linecap:butt;stroke-linejoin:miter;stroke-opacity:1\"/>\n<path class=\"bond-3 atom-3 atom-4\" d=\"M 23.2,124.4 L 23.2,65.5\" style=\"fill:none;fill-rule:evenodd;stroke:#000000;stroke-width:2.0px;stroke-linecap:butt;stroke-linejoin:miter;stroke-opacity:1\"/>\n<path class=\"bond-4 atom-4 atom-5\" d=\"M 12.5,59.4 L 74.1,23.8\" style=\"fill:none;fill-rule:evenodd;stroke:#000000;stroke-width:2.0px;stroke-linecap:butt;stroke-linejoin:miter;stroke-opacity:1\"/>\n<path class=\"bond-5 atom-5 atom-6\" d=\"M 74.1,23.8 L 135.7,59.4\" style=\"fill:none;fill-rule:evenodd;stroke:#000000;stroke-width:2.0px;stroke-linecap:butt;stroke-linejoin:miter;stroke-opacity:1\"/>\n<path class=\"bond-5 atom-5 atom-6\" d=\"M 74.1,36.1 L 125.1,65.5\" style=\"fill:none;fill-rule:evenodd;stroke:#000000;stroke-width:2.0px;stroke-linecap:butt;stroke-linejoin:miter;stroke-opacity:1\"/>\n<path class=\"bond-6 atom-6 atom-7\" d=\"M 135.7,59.4 L 161.6,44.5\" style=\"fill:none;fill-rule:evenodd;stroke:#000000;stroke-width:2.0px;stroke-linecap:butt;stroke-linejoin:miter;stroke-opacity:1\"/>\n<path class=\"bond-6 atom-6 atom-7\" d=\"M 161.6,44.5 L 187.4,29.6\" style=\"fill:none;fill-rule:evenodd;stroke:#0000FF;stroke-width:2.0px;stroke-linecap:butt;stroke-linejoin:miter;stroke-opacity:1\"/>\n<path class=\"bond-7 atom-6 atom-1\" d=\"M 135.7,59.4 L 135.7,130.5\" style=\"fill:none;fill-rule:evenodd;stroke:#000000;stroke-width:2.0px;stroke-linecap:butt;stroke-linejoin:miter;stroke-opacity:1\"/>\n<path d=\"M 77.2,164.3 L 74.1,166.1 L 71.0,164.3\" style=\"fill:none;stroke:#000000;stroke-width:2.0px;stroke-linecap:butt;stroke-linejoin:miter;stroke-opacity:1;\"/>\n<path d=\"M 15.6,132.3 L 12.5,130.5 L 12.5,127.0\" style=\"fill:none;stroke:#000000;stroke-width:2.0px;stroke-linecap:butt;stroke-linejoin:miter;stroke-opacity:1;\"/>\n<path d=\"M 12.5,62.9 L 12.5,59.4 L 15.6,57.6\" style=\"fill:none;stroke:#000000;stroke-width:2.0px;stroke-linecap:butt;stroke-linejoin:miter;stroke-opacity:1;\"/>\n<path d=\"M 71.0,25.6 L 74.1,23.8 L 77.2,25.6\" style=\"fill:none;stroke:#000000;stroke-width:2.0px;stroke-linecap:butt;stroke-linejoin:miter;stroke-opacity:1;\"/>\n<path class=\"atom-0\" d=\"M 192.9 156.0 L 199.5 166.7 Q 200.2 167.8, 201.2 169.7 Q 202.3 171.6, 202.3 171.7 L 202.3 156.0 L 205.0 156.0 L 205.0 176.2 L 202.3 176.2 L 195.2 164.5 Q 194.3 163.2, 193.5 161.6 Q 192.6 160.0, 192.3 159.5 L 192.3 176.2 L 189.7 176.2 L 189.7 156.0 L 192.9 156.0 \" fill=\"#0000FF\"/>\n<path class=\"atom-0\" d=\"M 208.9 156.0 L 211.6 156.0 L 211.6 164.6 L 221.9 164.6 L 221.9 156.0 L 224.6 156.0 L 224.6 176.2 L 221.9 176.2 L 221.9 166.9 L 211.6 166.9 L 211.6 176.2 L 208.9 176.2 L 208.9 156.0 \" fill=\"#0000FF\"/>\n<path class=\"atom-0\" d=\"M 228.6 175.5 Q 229.1 174.2, 230.2 173.5 Q 231.4 172.8, 233.0 172.8 Q 235.0 172.8, 236.1 173.9 Q 237.3 175.0, 237.3 176.9 Q 237.3 178.9, 235.8 180.7 Q 234.4 182.6, 231.4 184.8 L 237.5 184.8 L 237.5 186.3 L 228.5 186.3 L 228.5 185.0 Q 231.0 183.2, 232.5 181.9 Q 234.0 180.6, 234.7 179.4 Q 235.4 178.2, 235.4 177.0 Q 235.4 175.8, 234.8 175.0 Q 234.1 174.3, 233.0 174.3 Q 231.9 174.3, 231.2 174.8 Q 230.5 175.2, 230.0 176.1 L 228.6 175.5 \" fill=\"#0000FF\"/>\n<path class=\"atom-7\" d=\"M 192.9 13.7 L 199.5 24.4 Q 200.2 25.5, 201.2 27.4 Q 202.3 29.3, 202.3 29.4 L 202.3 13.7 L 205.0 13.7 L 205.0 33.9 L 202.3 33.9 L 195.2 22.2 Q 194.3 20.8, 193.5 19.3 Q 192.6 17.7, 192.3 17.2 L 192.3 33.9 L 189.7 33.9 L 189.7 13.7 L 192.9 13.7 \" fill=\"#0000FF\"/>\n<path class=\"atom-7\" d=\"M 208.9 13.7 L 211.6 13.7 L 211.6 22.3 L 221.9 22.3 L 221.9 13.7 L 224.6 13.7 L 224.6 33.9 L 221.9 33.9 L 221.9 24.6 L 211.6 24.6 L 211.6 33.9 L 208.9 33.9 L 208.9 13.7 \" fill=\"#0000FF\"/>\n<path class=\"atom-7\" d=\"M 228.6 33.2 Q 229.1 31.9, 230.2 31.2 Q 231.4 30.5, 233.0 30.5 Q 235.0 30.5, 236.1 31.6 Q 237.3 32.7, 237.3 34.6 Q 237.3 36.6, 235.8 38.4 Q 234.4 40.3, 231.4 42.5 L 237.5 42.5 L 237.5 44.0 L 228.5 44.0 L 228.5 42.7 Q 231.0 40.9, 232.5 39.6 Q 234.0 38.3, 234.7 37.1 Q 235.4 35.9, 235.4 34.7 Q 235.4 33.4, 234.8 32.7 Q 234.1 32.0, 233.0 32.0 Q 231.9 32.0, 231.2 32.4 Q 230.5 32.9, 230.0 33.8 L 228.6 33.2 \" fill=\"#0000FF\"/>\n</svg>"
          },
          "metadata": {}
        }
      ]
    },
    {
      "cell_type": "code",
      "source": [
        "#@title Get titratable site\n",
        "# Highest protonation state is always in state[0]\n",
        "titratable_sites = []\n",
        "# pmol is a protonated molecule - always in the highest available protonation\n",
        "# state\n",
        "pmol = mols[0]\n",
        "from rdkit.Chem import rdFMCS\n",
        "res = rdFMCS.FindMCS([pmol, pmol])\n",
        "similar_patt = Chem.MolFromSmarts(res.smartsString)\n",
        "# This is a constant mol[0] substructure match\n",
        "subst_matches_pmol = pmol.GetSubstructMatches(similar_patt)[0]\n",
        "for m in mols[1:]:\n",
        "    subst_matches = m.GetSubstructMatches(similar_patt)[0]\n",
        "    for a0, a in zip(subst_matches_pmol, subst_matches):\n",
        "        if (pmol.GetAtomWithIdx(a0).GetFormalCharge() !=\n",
        "            m.GetAtomWithIdx(a).GetFormalCharge()\n",
        "        ):\n",
        "            titratable_sites.append(a0)\n",
        "titratable_sites = list(set(titratable_sites))"
      ],
      "metadata": {
        "id": "Sl3r5d_MdQcN"
      },
      "execution_count": 6,
      "outputs": []
    },
    {
      "cell_type": "code",
      "source": [
        "titratable_sites"
      ],
      "metadata": {
        "colab": {
          "base_uri": "https://localhost:8080/"
        },
        "id": "X9XK4iUcf9gj",
        "outputId": "357ea373-5d50-497b-d5cf-d6de5dfc50a2"
      },
      "execution_count": 7,
      "outputs": [
        {
          "output_type": "execute_result",
          "data": {
            "text/plain": [
              "[0, 7]"
            ]
          },
          "metadata": {},
          "execution_count": 7
        }
      ]
    },
    {
      "cell_type": "code",
      "source": [
        "#@title Get list of symmetrical titratable sites\n",
        "from rdkit.Chem import rdFMCS\n",
        "# We search for symmetrical sites based on the highest protonation states\n",
        "# NOTE: If the user selects not to include the highest protonation state\n",
        "# this behaviour can cause problems.\n",
        "res = rdFMCS.FindMCS([pmol, pmol])\n",
        "similar_patt = Chem.MolFromSmarts(res.smartsString)\n",
        "subst_matches = pmol.GetSubstructMatches(similar_patt, uniquify=False)\n",
        "print(subst_matches)\n",
        "symmetrical_sites = {x.GetIdx():[x.GetIdx()] for x in pmol.GetAtoms()}\n",
        "if len(subst_matches) > 1:\n",
        "    for sm in subst_matches[1:]:\n",
        "        for ts in titratable_sites:\n",
        "            if sm[subst_matches_pmol.index(ts)] not in symmetrical_sites[ts]:\n",
        "                symmetrical_sites[ts].append(sm[subst_matches_pmol.index(ts)])\n",
        "                symmetrical_sites[sm[subst_matches_pmol.index(ts)]].append(ts)\n",
        "symmetrical_sites"
      ],
      "metadata": {
        "colab": {
          "base_uri": "https://localhost:8080/"
        },
        "id": "SE9qyt_YeuWl",
        "outputId": "bdcd1af0-025b-4aaf-da49-41b64d84c323"
      },
      "execution_count": 8,
      "outputs": [
        {
          "output_type": "stream",
          "name": "stdout",
          "text": [
            "((0, 1, 2, 3, 4, 5, 6, 7), (7, 6, 5, 4, 3, 2, 1, 0))\n"
          ]
        },
        {
          "output_type": "execute_result",
          "data": {
            "text/plain": [
              "{0: [0, 7], 1: [1], 2: [2], 3: [3], 4: [4], 5: [5], 6: [6], 7: [7, 0]}"
            ]
          },
          "metadata": {},
          "execution_count": 8
        }
      ]
    },
    {
      "cell_type": "code",
      "source": [
        "symmetrical_sites"
      ],
      "metadata": {
        "id": "cjqJpFUl4s9r",
        "outputId": "239a20c2-b0eb-4cba-8512-ffb28f5fe239",
        "colab": {
          "base_uri": "https://localhost:8080/"
        }
      },
      "execution_count": 9,
      "outputs": [
        {
          "output_type": "execute_result",
          "data": {
            "text/plain": [
              "{0: [0, 7], 1: [1], 2: [2], 3: [3], 4: [4], 5: [5], 6: [6], 7: [7, 0]}"
            ]
          },
          "metadata": {},
          "execution_count": 9
        }
      ]
    },
    {
      "cell_type": "code",
      "source": [
        "#@title Get list of sites with multiple hydrogens\n",
        "sites_with_multiple_hs = []\n",
        "for ts in titratable_sites:\n",
        "    if (\n",
        "        pmol.GetAtomWithIdx(ts).GetNumExplicitHs()\n",
        "        + pmol.GetAtomWithIdx(ts).GetNumImplicitHs()\n",
        "        > 1\n",
        "    ):\n",
        "        sites_with_multiple_hs.append(ts)\n",
        "sites_with_multiple_hs"
      ],
      "metadata": {
        "colab": {
          "base_uri": "https://localhost:8080/"
        },
        "id": "c0aAHRyilzwZ",
        "outputId": "430bca62-3aee-4bd5-bb44-11fb8e1bbfa0"
      },
      "execution_count": 10,
      "outputs": [
        {
          "output_type": "execute_result",
          "data": {
            "text/plain": [
              "[0, 7]"
            ]
          },
          "metadata": {},
          "execution_count": 10
        }
      ]
    },
    {
      "cell_type": "code",
      "source": [
        "#@title Highlight sites with multiple hydrogens\n",
        "import textwrap\n",
        "if sites_with_multiple_hs:\n",
        "    print(\n",
        "        textwrap.fill(\n",
        "            (\n",
        "                f\"We detected {len(sites_with_multiple_hs)} sites to which \"\n",
        "                + \"multiple hydrogens are attached. Please, take a careful \"\n",
        "                + \"look and let us know whether we should consider those sites \"\n",
        "                + \"as multisite with each hydrogen titrating separately, or as \"\n",
        "                + \"single site, where only one hydrogen is titrated. Note, \"\n",
        "                + \"that we highlight the titratable sites for the molecule in \"\n",
        "                + \"the highest protonation state.\"\n",
        "            ),\n",
        "            120\n",
        "        )\n",
        "    )\n",
        "    colors = [(1.0, 0.0, 0.0, 0.2)]\n",
        "    for i, a in enumerate(sites_with_multiple_hs):\n",
        "        (pmol.GetAtomWithIdx(a)).SetProp('atomNote', str(i+1))\n",
        "    d2d = rdMolDraw2D.MolDraw2DSVG(250, 200)\n",
        "    at_highlights = {x: [colors[0]] for x in sites_with_multiple_hs}\n",
        "    at_rads = {x: 0.5 for x in sites_with_multiple_hs}\n",
        "    d2d.DrawMoleculeWithHighlights(pmol,\"\", at_highlights,{}, at_rads, {})\n",
        "    d2d.FinishDrawing()\n",
        "    display(SVG(d2d.GetDrawingText()))\n",
        "    for a in sites_with_multiple_hs:\n",
        "        (pmol.GetAtomWithIdx(a)).SetProp('atomNote', '')\n",
        "else:\n",
        "    mHs = None\n",
        "    print(\n",
        "        \"No sites to which multiple hydrogens are attached were detected. \"\n",
        "        + \" You can skip the next step.\"\n",
        "    )"
      ],
      "metadata": {
        "colab": {
          "base_uri": "https://localhost:8080/",
          "height": 277
        },
        "id": "Yg2K0Mew3-KU",
        "outputId": "c00f2e26-2e3d-47e5-c551-a855b92dda45"
      },
      "execution_count": 11,
      "outputs": [
        {
          "output_type": "stream",
          "name": "stdout",
          "text": [
            "We detected 2 sites to which multiple hydrogens are attached. Please, take a careful look and let us know whether we\n",
            "should consider those sites as multisite with each hydrogen titrating separately, or as single site, where only one\n",
            "hydrogen is titrated. Note, that we highlight the titratable sites for the molecule in the highest protonation state.\n"
          ]
        },
        {
          "output_type": "display_data",
          "data": {
            "text/plain": [
              "<IPython.core.display.SVG object>"
            ],
            "image/svg+xml": "<svg xmlns=\"http://www.w3.org/2000/svg\" xmlns:rdkit=\"http://www.rdkit.org/xml\" xmlns:xlink=\"http://www.w3.org/1999/xlink\" version=\"1.1\" baseProfile=\"full\" xml:space=\"preserve\" width=\"250px\" height=\"200px\" viewBox=\"0 0 250 200\">\n<!-- END OF HEADER -->\n<rect style=\"opacity:1.0;fill:#FFFFFF;stroke:none\" width=\"250.0\" height=\"200.0\" x=\"0.0\" y=\"0.0\"> </rect>\n<ellipse cx=\"204.4\" cy=\"167.5\" rx=\"32.0\" ry=\"22.5\" class=\"atom-0\" style=\"fill:#FF000033;fill-rule:evenodd;stroke:#FF000033;stroke-width:1.0px;stroke-linecap:butt;stroke-linejoin:miter;stroke-opacity:1\"/>\n<ellipse cx=\"204.4\" cy=\"32.5\" rx=\"32.0\" ry=\"22.5\" class=\"atom-7\" style=\"fill:#FF000033;fill-rule:evenodd;stroke:#FF000033;stroke-width:1.0px;stroke-linecap:butt;stroke-linejoin:miter;stroke-opacity:1\"/>\n<path class=\"bond-0 atom-0 atom-1\" d=\"M 179.5,157.2 L 155.0,143.1\" style=\"fill:none;fill-rule:evenodd;stroke:#0000FF;stroke-width:2.0px;stroke-linecap:butt;stroke-linejoin:miter;stroke-opacity:1\"/>\n<path class=\"bond-0 atom-0 atom-1\" d=\"M 155.0,143.1 L 130.6,128.9\" style=\"fill:none;fill-rule:evenodd;stroke:#000000;stroke-width:2.0px;stroke-linecap:butt;stroke-linejoin:miter;stroke-opacity:1\"/>\n<path class=\"bond-1 atom-1 atom-2\" d=\"M 130.6,128.9 L 72.1,162.7\" style=\"fill:none;fill-rule:evenodd;stroke:#000000;stroke-width:2.0px;stroke-linecap:butt;stroke-linejoin:miter;stroke-opacity:1\"/>\n<path class=\"bond-1 atom-1 atom-2\" d=\"M 120.4,123.1 L 72.1,151.0\" style=\"fill:none;fill-rule:evenodd;stroke:#000000;stroke-width:2.0px;stroke-linecap:butt;stroke-linejoin:miter;stroke-opacity:1\"/>\n<path class=\"bond-2 atom-2 atom-3\" d=\"M 72.1,162.7 L 13.6,128.9\" style=\"fill:none;fill-rule:evenodd;stroke:#000000;stroke-width:2.0px;stroke-linecap:butt;stroke-linejoin:miter;stroke-opacity:1\"/>\n<path class=\"bond-3 atom-3 atom-4\" d=\"M 13.6,128.9 L 13.6,61.4\" style=\"fill:none;fill-rule:evenodd;stroke:#000000;stroke-width:2.0px;stroke-linecap:butt;stroke-linejoin:miter;stroke-opacity:1\"/>\n<path class=\"bond-3 atom-3 atom-4\" d=\"M 23.8,123.1 L 23.8,67.3\" style=\"fill:none;fill-rule:evenodd;stroke:#000000;stroke-width:2.0px;stroke-linecap:butt;stroke-linejoin:miter;stroke-opacity:1\"/>\n<path class=\"bond-4 atom-4 atom-5\" d=\"M 13.6,61.4 L 72.1,27.7\" style=\"fill:none;fill-rule:evenodd;stroke:#000000;stroke-width:2.0px;stroke-linecap:butt;stroke-linejoin:miter;stroke-opacity:1\"/>\n<path class=\"bond-5 atom-5 atom-6\" d=\"M 72.1,27.7 L 130.6,61.4\" style=\"fill:none;fill-rule:evenodd;stroke:#000000;stroke-width:2.0px;stroke-linecap:butt;stroke-linejoin:miter;stroke-opacity:1\"/>\n<path class=\"bond-5 atom-5 atom-6\" d=\"M 72.1,39.4 L 120.4,67.3\" style=\"fill:none;fill-rule:evenodd;stroke:#000000;stroke-width:2.0px;stroke-linecap:butt;stroke-linejoin:miter;stroke-opacity:1\"/>\n<path class=\"bond-6 atom-6 atom-7\" d=\"M 130.6,61.4 L 155.0,47.3\" style=\"fill:none;fill-rule:evenodd;stroke:#000000;stroke-width:2.0px;stroke-linecap:butt;stroke-linejoin:miter;stroke-opacity:1\"/>\n<path class=\"bond-6 atom-6 atom-7\" d=\"M 155.0,47.3 L 179.5,33.2\" style=\"fill:none;fill-rule:evenodd;stroke:#0000FF;stroke-width:2.0px;stroke-linecap:butt;stroke-linejoin:miter;stroke-opacity:1\"/>\n<path class=\"bond-7 atom-6 atom-1\" d=\"M 130.6,61.4 L 130.6,128.9\" style=\"fill:none;fill-rule:evenodd;stroke:#000000;stroke-width:2.0px;stroke-linecap:butt;stroke-linejoin:miter;stroke-opacity:1\"/>\n<path d=\"M 75.0,161.0 L 72.1,162.7 L 69.2,161.0\" style=\"fill:none;stroke:#000000;stroke-width:2.0px;stroke-linecap:butt;stroke-linejoin:miter;stroke-opacity:1;\"/>\n<path d=\"M 16.6,130.6 L 13.6,128.9 L 13.6,125.6\" style=\"fill:none;stroke:#000000;stroke-width:2.0px;stroke-linecap:butt;stroke-linejoin:miter;stroke-opacity:1;\"/>\n<path d=\"M 13.6,64.8 L 13.6,61.4 L 16.6,59.7\" style=\"fill:none;stroke:#000000;stroke-width:2.0px;stroke-linecap:butt;stroke-linejoin:miter;stroke-opacity:1;\"/>\n<path d=\"M 69.2,29.4 L 72.1,27.7 L 75.0,29.4\" style=\"fill:none;stroke:#000000;stroke-width:2.0px;stroke-linecap:butt;stroke-linejoin:miter;stroke-opacity:1;\"/>\n<path class=\"atom-0\" d=\"M 184.8 153.1 L 191.1 163.2 Q 191.7 164.2, 192.7 166.1 Q 193.7 167.9, 193.7 168.0 L 193.7 153.1 L 196.3 153.1 L 196.3 172.2 L 193.6 172.2 L 186.9 161.2 Q 186.1 159.9, 185.3 158.4 Q 184.5 156.9, 184.3 156.4 L 184.3 172.2 L 181.8 172.2 L 181.8 153.1 L 184.8 153.1 \" fill=\"#0000FF\"/>\n<path class=\"atom-0\" d=\"M 199.9 153.1 L 202.5 153.1 L 202.5 161.3 L 212.2 161.3 L 212.2 153.1 L 214.8 153.1 L 214.8 172.2 L 212.2 172.2 L 212.2 163.4 L 202.5 163.4 L 202.5 172.2 L 199.9 172.2 L 199.9 153.1 \" fill=\"#0000FF\"/>\n<path class=\"atom-0\" d=\"M 224.6 175.2 Q 225.8 175.5, 226.4 176.3 Q 227.0 177.1, 227.0 178.3 Q 227.0 179.4, 226.5 180.2 Q 225.9 181.1, 224.9 181.5 Q 224.0 182.0, 222.7 182.0 Q 221.3 182.0, 220.3 181.5 Q 219.3 181.0, 218.5 180.1 L 219.5 179.0 Q 220.3 179.9, 221.0 180.2 Q 221.6 180.6, 222.7 180.6 Q 223.8 180.6, 224.5 179.9 Q 225.2 179.3, 225.2 178.3 Q 225.2 177.0, 224.5 176.5 Q 223.8 175.9, 222.2 175.9 L 221.3 175.9 L 221.3 174.6 L 222.1 174.6 Q 223.5 174.6, 224.2 174.0 Q 224.9 173.4, 224.9 172.3 Q 224.9 171.4, 224.3 171.0 Q 223.7 170.5, 222.7 170.5 Q 221.6 170.5, 221.0 170.8 Q 220.3 171.2, 219.8 172.2 L 218.6 171.5 Q 219.1 170.4, 220.1 169.8 Q 221.2 169.0, 222.7 169.0 Q 224.5 169.0, 225.6 169.9 Q 226.7 170.8, 226.7 172.3 Q 226.7 173.3, 226.2 174.0 Q 225.6 174.7, 224.6 175.2 \" fill=\"#0000FF\"/>\n<path class=\"atom-0\" d=\"M 218.6 156.6 L 222.0 156.6 L 222.0 153.0 L 223.5 153.0 L 223.5 156.6 L 226.9 156.6 L 226.9 157.9 L 223.5 157.9 L 223.5 161.4 L 222.0 161.4 L 222.0 157.9 L 218.6 157.9 L 218.6 156.6 \" fill=\"#0000FF\"/>\n<path class=\"atom-7\" d=\"M 184.8 18.1 L 191.1 28.2 Q 191.7 29.2, 192.7 31.1 Q 193.7 32.9, 193.7 33.0 L 193.7 18.1 L 196.3 18.1 L 196.3 37.2 L 193.6 37.2 L 186.9 26.2 Q 186.1 24.9, 185.3 23.4 Q 184.5 21.9, 184.3 21.4 L 184.3 37.2 L 181.8 37.2 L 181.8 18.1 L 184.8 18.1 \" fill=\"#0000FF\"/>\n<path class=\"atom-7\" d=\"M 199.9 18.1 L 202.5 18.1 L 202.5 26.3 L 212.2 26.3 L 212.2 18.1 L 214.8 18.1 L 214.8 37.2 L 212.2 37.2 L 212.2 28.4 L 202.5 28.4 L 202.5 37.2 L 199.9 37.2 L 199.9 18.1 \" fill=\"#0000FF\"/>\n<path class=\"atom-7\" d=\"M 224.6 40.2 Q 225.8 40.5, 226.4 41.3 Q 227.0 42.1, 227.0 43.3 Q 227.0 44.4, 226.5 45.2 Q 225.9 46.1, 224.9 46.5 Q 224.0 47.0, 222.7 47.0 Q 221.3 47.0, 220.3 46.5 Q 219.3 46.0, 218.5 45.1 L 219.5 44.0 Q 220.3 44.9, 221.0 45.2 Q 221.6 45.6, 222.7 45.6 Q 223.8 45.6, 224.5 44.9 Q 225.2 44.3, 225.2 43.3 Q 225.2 42.0, 224.5 41.5 Q 223.8 40.9, 222.2 40.9 L 221.3 40.9 L 221.3 39.6 L 222.1 39.6 Q 223.5 39.6, 224.2 39.0 Q 224.9 38.4, 224.9 37.3 Q 224.9 36.4, 224.3 36.0 Q 223.7 35.5, 222.7 35.5 Q 221.6 35.5, 221.0 35.8 Q 220.3 36.2, 219.8 37.2 L 218.6 36.5 Q 219.1 35.4, 220.1 34.8 Q 221.2 34.0, 222.7 34.0 Q 224.5 34.0, 225.6 34.9 Q 226.7 35.8, 226.7 37.3 Q 226.7 38.3, 226.2 39.0 Q 225.6 39.7, 224.6 40.2 \" fill=\"#0000FF\"/>\n<path class=\"atom-7\" d=\"M 218.6 21.6 L 222.0 21.6 L 222.0 18.0 L 223.5 18.0 L 223.5 21.6 L 226.9 21.6 L 226.9 22.9 L 223.5 22.9 L 223.5 26.4 L 222.0 26.4 L 222.0 22.9 L 218.6 22.9 L 218.6 21.6 \" fill=\"#0000FF\"/>\n<path class=\"note\" d=\"M 197.9 185.9 L 200.0 185.9 L 200.0 178.8 L 197.7 179.5 L 197.4 178.7 L 200.3 177.4 L 201.3 177.5 L 201.3 185.9 L 203.1 185.9 L 203.1 187.0 L 197.9 187.0 L 197.9 185.9 \" fill=\"#000000\"/>\n<path class=\"note\" d=\"M 197.1 44.3 Q 197.4 43.3, 198.3 42.8 Q 199.1 42.3, 200.3 42.3 Q 201.7 42.3, 202.5 43.1 Q 203.3 43.9, 203.3 45.3 Q 203.3 46.7, 202.3 48.0 Q 201.2 49.4, 199.1 50.9 L 203.5 50.9 L 203.5 52.0 L 197.0 52.0 L 197.0 51.1 Q 198.8 49.8, 199.9 48.9 Q 200.9 47.9, 201.5 47.1 Q 202.0 46.2, 202.0 45.4 Q 202.0 44.4, 201.5 43.9 Q 201.1 43.4, 200.3 43.4 Q 199.5 43.4, 199.0 43.7 Q 198.5 44.0, 198.1 44.7 L 197.1 44.3 \" fill=\"#000000\"/>\n</svg>"
          },
          "metadata": {}
        }
      ]
    },
    {
      "cell_type": "code",
      "source": [
        "#@title Select treatment of multi-hydrogen sites\n",
        "#@markdown Do you want to treat titratable sites with multiple hydrogens\n",
        "#@markdown attached as single multisite or no? Default is no. If you want\n",
        "#@markdown to treat those with multisite representation tick the corresponding\n",
        "#@markdown variable. The id of titratable sites are shown in the previous cell.\n",
        "multiHs_titratable_site_1 = True #@param {type:\"boolean\"}\n",
        "multiHs_titratable_site_2 = True #@param {type:\"boolean\"}\n",
        "multiHs_titratable_site_3 = False #@param {type:\"boolean\"}\n",
        "multiHs_titratable_site_4 = False #@param {type:\"boolean\"}\n",
        "multiHs_titratable_site_5 = False #@param {type:\"boolean\"}\n",
        "\n",
        "mHs = [\n",
        "    multiHs_titratable_site_1,\n",
        "    multiHs_titratable_site_2,\n",
        "    multiHs_titratable_site_3,\n",
        "    multiHs_titratable_site_4,\n",
        "    multiHs_titratable_site_5,\n",
        "][:len(sites_with_multiple_hs)]"
      ],
      "metadata": {
        "id": "6hA84tEeetpF"
      },
      "execution_count": 12,
      "outputs": []
    },
    {
      "cell_type": "code",
      "source": [
        "mHs"
      ],
      "metadata": {
        "id": "9eb3evy4-8JY",
        "colab": {
          "base_uri": "https://localhost:8080/"
        },
        "outputId": "ad17f634-08f6-4776-860f-9c0bbf4ff0fd"
      },
      "execution_count": 15,
      "outputs": [
        {
          "output_type": "execute_result",
          "data": {
            "text/plain": [
              "[True, True]"
            ]
          },
          "metadata": {},
          "execution_count": 15
        }
      ]
    },
    {
      "cell_type": "code",
      "source": [
        "#@title Symmetrical states treatment\n",
        "states = {}  # Dictionary of states and state treatment. Each state has a\n",
        "# molecule, number of states and number of states for consideration, atoms with\n",
        "# different charges of the symmetrical states, and atoms with multiple hydrogens\n",
        "# NOTE: numbering is given in the pmol indices\n",
        "# NOTE: state treatment should be fixed/changed after user input is provided\n",
        "for i, m in enumerate(mols):\n",
        "    from rdkit.Chem import rdFMCS\n",
        "    res = rdFMCS.FindMCS([pmol, pmol])\n",
        "    similar_patt = Chem.MolFromSmarts(res.smartsString)\n",
        "    subst_matches = m.GetSubstructMatches(similar_patt)[0]\n",
        "    charges = {}\n",
        "    for a in symmetrical_sites:\n",
        "        # We collect formal charges for each symmetrical state.\n",
        "        charges[a] = [\n",
        "            m.GetAtomWithIdx(\n",
        "                subst_matches[subst_matches_pmol.index(a)]\n",
        "            ).GetFormalCharge()\n",
        "        ]\n",
        "        # If there is only one symmetrical site for an atom, nothing to do.\n",
        "        if len(symmetrical_sites[a]) == 1:\n",
        "            continue\n",
        "        # Add symmetrical charges to the atom charge list\n",
        "        for idx in symmetrical_sites[a][1:]:\n",
        "            charges[a].append(\n",
        "                m.GetAtomWithIdx(\n",
        "                    subst_matches[subst_matches_pmol.index(idx)]\n",
        "                ).GetFormalCharge()\n",
        "            )\n",
        "    # If for all atoms in this states there is only on charge, nothing to do.\n",
        "    if all([len(list(set(x))) == 1 for x in charges.values()]):\n",
        "        states[i] = (m, 1, 1, None, None)\n",
        "        continue\n",
        "    print(f\"For molecule {i} symmetrical states were detected:\")\n",
        "    d2d = rdMolDraw2D.MolDraw2DSVG(250, 200)\n",
        "    d2d.DrawMolecule(m)\n",
        "    d2d.FinishDrawing()\n",
        "    display(SVG(d2d.GetDrawingText()))\n",
        "    print(\"These are found symmetrical states:\")\n",
        "    # Symmetrical atoms with different charges\n",
        "    atoms_to_change = [x for x in charges if len(charges[x]) > 1]\n",
        "    # Atoms for which there no difference between states, but their charge is\n",
        "    # different from the highest protonation state\n",
        "    atoms_with_dif_charges = [\n",
        "        x for x in charges if len(charges[x]) == 1 and\n",
        "        charges[x][0] != pmol.GetAtomWithIdx(x).GetFormalCharge()\n",
        "    ]\n",
        "    charge_combinations = list(zip(*[charges[x] for x in atoms_to_change]))\n",
        "    # We collect already seen sets of charges in state_charges\n",
        "    state_charges = []\n",
        "    from copy import deepcopy\n",
        "    for c in charge_combinations:\n",
        "        m_new = deepcopy(pmol)\n",
        "        # We set up state specific symmetrical charges\n",
        "        for a in atoms_with_dif_charges:\n",
        "            m_new.GetAtomWithIdx(a).SetFormalCharge(\n",
        "                pmol.GetAtomWithIdx(a).GetFormalCharge() - 1\n",
        "            )\n",
        "            m_new.GetAtomWithIdx(a).SetNumExplicitHs(\n",
        "                pmol.GetAtomWithIdx(a).GetNumExplicitHs() - 1\n",
        "            )\n",
        "        # We set up other state charges\n",
        "        for a_charge, a in zip(c, atoms_to_change):\n",
        "            if a_charge != pmol.GetAtomWithIdx(a).GetFormalCharge():\n",
        "                m_new.GetAtomWithIdx(a).SetFormalCharge(a_charge)\n",
        "                m_new.GetAtomWithIdx(a).SetNumExplicitHs(\n",
        "                    pmol.GetAtomWithIdx(a).GetNumExplicitHs() - 1\n",
        "                )\n",
        "        # We do nothing if there are\n",
        "        if [x.GetFormalCharge() for x in m_new.GetAtoms()] in state_charges:\n",
        "            continue\n",
        "        state_charges.append([x.GetFormalCharge() for x in m_new.GetAtoms()])\n",
        "        d2d = rdMolDraw2D.MolDraw2DSVG(250, 200)\n",
        "        colors = [(0.0, 1.0, 0.0, 0.2)]\n",
        "        at_highlights = {x: [colors[0]] for x in atoms_to_change}\n",
        "        at_rads = {x: 0.5 for x in atoms_to_change}\n",
        "        d2d.DrawMoleculeWithHighlights(m_new,\"\", at_highlights,{}, at_rads, {})\n",
        "        d2d.FinishDrawing()\n",
        "        display(SVG(d2d.GetDrawingText()))\n",
        "    states[i] = (\n",
        "        m, len(state_charges), 1, (atoms_to_change, state_charges), None\n",
        "    )\n",
        "if all([x[1] == 1 for x in states.values()]):\n",
        "    ss = None\n",
        "    print(\n",
        "        \"No symmetrical states were found \"\n",
        "        + \" You can skip the next step.\"\n",
        "    )"
      ],
      "metadata": {
        "colab": {
          "base_uri": "https://localhost:8080/",
          "height": 669
        },
        "id": "cMIgAhkBxviB",
        "outputId": "9b114f82-46cf-4797-9a9a-e983c3cce05b"
      },
      "execution_count": 13,
      "outputs": [
        {
          "output_type": "stream",
          "name": "stdout",
          "text": [
            "For molecule 1 symmetrical states were detected:\n"
          ]
        },
        {
          "output_type": "display_data",
          "data": {
            "text/plain": [
              "<IPython.core.display.SVG object>"
            ],
            "image/svg+xml": "<svg xmlns=\"http://www.w3.org/2000/svg\" xmlns:rdkit=\"http://www.rdkit.org/xml\" xmlns:xlink=\"http://www.w3.org/1999/xlink\" version=\"1.1\" baseProfile=\"full\" xml:space=\"preserve\" width=\"250px\" height=\"200px\" viewBox=\"0 0 250 200\">\n<!-- END OF HEADER -->\n<rect style=\"opacity:1.0;fill:#FFFFFF;stroke:none\" width=\"250.0\" height=\"200.0\" x=\"0.0\" y=\"0.0\"> </rect>\n<path class=\"bond-0 atom-0 atom-1\" d=\"M 187.4,160.4 L 161.6,145.5\" style=\"fill:none;fill-rule:evenodd;stroke:#0000FF;stroke-width:2.0px;stroke-linecap:butt;stroke-linejoin:miter;stroke-opacity:1\"/>\n<path class=\"bond-0 atom-0 atom-1\" d=\"M 161.6,145.5 L 135.7,130.6\" style=\"fill:none;fill-rule:evenodd;stroke:#000000;stroke-width:2.0px;stroke-linecap:butt;stroke-linejoin:miter;stroke-opacity:1\"/>\n<path class=\"bond-1 atom-1 atom-2\" d=\"M 135.7,130.6 L 74.1,166.2\" style=\"fill:none;fill-rule:evenodd;stroke:#000000;stroke-width:2.0px;stroke-linecap:butt;stroke-linejoin:miter;stroke-opacity:1\"/>\n<path class=\"bond-1 atom-1 atom-2\" d=\"M 125.1,124.4 L 74.1,153.8\" style=\"fill:none;fill-rule:evenodd;stroke:#000000;stroke-width:2.0px;stroke-linecap:butt;stroke-linejoin:miter;stroke-opacity:1\"/>\n<path class=\"bond-2 atom-2 atom-3\" d=\"M 74.1,166.2 L 12.5,130.6\" style=\"fill:none;fill-rule:evenodd;stroke:#000000;stroke-width:2.0px;stroke-linecap:butt;stroke-linejoin:miter;stroke-opacity:1\"/>\n<path class=\"bond-3 atom-3 atom-4\" d=\"M 12.5,130.6 L 12.5,59.4\" style=\"fill:none;fill-rule:evenodd;stroke:#000000;stroke-width:2.0px;stroke-linecap:butt;stroke-linejoin:miter;stroke-opacity:1\"/>\n<path class=\"bond-3 atom-3 atom-4\" d=\"M 23.2,124.4 L 23.2,65.6\" style=\"fill:none;fill-rule:evenodd;stroke:#000000;stroke-width:2.0px;stroke-linecap:butt;stroke-linejoin:miter;stroke-opacity:1\"/>\n<path class=\"bond-4 atom-4 atom-5\" d=\"M 12.5,59.4 L 74.1,23.9\" style=\"fill:none;fill-rule:evenodd;stroke:#000000;stroke-width:2.0px;stroke-linecap:butt;stroke-linejoin:miter;stroke-opacity:1\"/>\n<path class=\"bond-5 atom-5 atom-6\" d=\"M 74.1,23.9 L 135.7,59.4\" style=\"fill:none;fill-rule:evenodd;stroke:#000000;stroke-width:2.0px;stroke-linecap:butt;stroke-linejoin:miter;stroke-opacity:1\"/>\n<path class=\"bond-5 atom-5 atom-6\" d=\"M 74.1,36.2 L 125.1,65.6\" style=\"fill:none;fill-rule:evenodd;stroke:#000000;stroke-width:2.0px;stroke-linecap:butt;stroke-linejoin:miter;stroke-opacity:1\"/>\n<path class=\"bond-6 atom-6 atom-7\" d=\"M 135.7,59.4 L 161.6,44.5\" style=\"fill:none;fill-rule:evenodd;stroke:#000000;stroke-width:2.0px;stroke-linecap:butt;stroke-linejoin:miter;stroke-opacity:1\"/>\n<path class=\"bond-6 atom-6 atom-7\" d=\"M 161.6,44.5 L 187.4,29.6\" style=\"fill:none;fill-rule:evenodd;stroke:#0000FF;stroke-width:2.0px;stroke-linecap:butt;stroke-linejoin:miter;stroke-opacity:1\"/>\n<path class=\"bond-7 atom-6 atom-1\" d=\"M 135.7,59.4 L 135.7,130.6\" style=\"fill:none;fill-rule:evenodd;stroke:#000000;stroke-width:2.0px;stroke-linecap:butt;stroke-linejoin:miter;stroke-opacity:1\"/>\n<path d=\"M 77.2,164.4 L 74.1,166.2 L 71.0,164.4\" style=\"fill:none;stroke:#000000;stroke-width:2.0px;stroke-linecap:butt;stroke-linejoin:miter;stroke-opacity:1;\"/>\n<path d=\"M 15.6,132.4 L 12.5,130.6 L 12.5,127.0\" style=\"fill:none;stroke:#000000;stroke-width:2.0px;stroke-linecap:butt;stroke-linejoin:miter;stroke-opacity:1;\"/>\n<path d=\"M 12.5,63.0 L 12.5,59.4 L 15.6,57.7\" style=\"fill:none;stroke:#000000;stroke-width:2.0px;stroke-linecap:butt;stroke-linejoin:miter;stroke-opacity:1;\"/>\n<path d=\"M 71.0,25.6 L 74.1,23.9 L 77.2,25.6\" style=\"fill:none;stroke:#000000;stroke-width:2.0px;stroke-linecap:butt;stroke-linejoin:miter;stroke-opacity:1;\"/>\n<path class=\"atom-0\" d=\"M 192.9 156.1 L 199.5 166.8 Q 200.2 167.8, 201.2 169.7 Q 202.3 171.6, 202.3 171.8 L 202.3 156.1 L 205.0 156.1 L 205.0 176.2 L 202.3 176.2 L 195.2 164.6 Q 194.3 163.2, 193.5 161.6 Q 192.6 160.1, 192.3 159.6 L 192.3 176.2 L 189.7 176.2 L 189.7 156.1 L 192.9 156.1 \" fill=\"#0000FF\"/>\n<path class=\"atom-0\" d=\"M 208.9 156.1 L 211.6 156.1 L 211.6 164.7 L 221.9 164.7 L 221.9 156.1 L 224.6 156.1 L 224.6 176.2 L 221.9 176.2 L 221.9 166.9 L 211.6 166.9 L 211.6 176.2 L 208.9 176.2 L 208.9 156.1 \" fill=\"#0000FF\"/>\n<path class=\"atom-0\" d=\"M 228.6 175.5 Q 229.1 174.3, 230.2 173.6 Q 231.4 172.9, 233.0 172.9 Q 235.0 172.9, 236.1 174.0 Q 237.3 175.1, 237.3 177.0 Q 237.3 179.0, 235.8 180.8 Q 234.4 182.6, 231.4 184.8 L 237.5 184.8 L 237.5 186.3 L 228.5 186.3 L 228.5 185.1 Q 231.0 183.3, 232.5 182.0 Q 234.0 180.7, 234.7 179.5 Q 235.4 178.3, 235.4 177.1 Q 235.4 175.8, 234.8 175.1 Q 234.1 174.4, 233.0 174.4 Q 231.9 174.4, 231.2 174.8 Q 230.5 175.2, 230.0 176.2 L 228.6 175.5 \" fill=\"#0000FF\"/>\n<path class=\"atom-7\" d=\"M 192.9 13.8 L 199.5 24.5 Q 200.2 25.5, 201.2 27.4 Q 202.3 29.3, 202.3 29.4 L 202.3 13.8 L 205.0 13.8 L 205.0 33.9 L 202.3 33.9 L 195.2 22.3 Q 194.3 20.9, 193.5 19.3 Q 192.6 17.8, 192.3 17.3 L 192.3 33.9 L 189.7 33.9 L 189.7 13.8 L 192.9 13.8 \" fill=\"#0000FF\"/>\n<path class=\"atom-7\" d=\"M 208.8 13.8 L 211.6 13.8 L 211.6 22.3 L 221.9 22.3 L 221.9 13.8 L 224.6 13.8 L 224.6 33.9 L 221.9 33.9 L 221.9 24.6 L 211.6 24.6 L 211.6 33.9 L 208.8 33.9 L 208.8 13.8 \" fill=\"#0000FF\"/>\n<path class=\"atom-7\" d=\"M 234.8 37.0 Q 236.1 37.4, 236.8 38.2 Q 237.4 39.1, 237.4 40.4 Q 237.4 41.5, 236.8 42.4 Q 236.3 43.2, 235.2 43.7 Q 234.2 44.2, 232.9 44.2 Q 231.4 44.2, 230.4 43.7 Q 229.3 43.2, 228.5 42.2 L 229.5 41.1 Q 230.4 42.0, 231.1 42.4 Q 231.7 42.7, 232.9 42.7 Q 234.1 42.7, 234.8 42.1 Q 235.5 41.4, 235.5 40.3 Q 235.5 39.0, 234.8 38.4 Q 234.0 37.8, 232.4 37.8 L 231.4 37.8 L 231.4 36.4 L 232.3 36.4 Q 233.7 36.4, 234.5 35.8 Q 235.2 35.1, 235.2 34.0 Q 235.2 33.1, 234.6 32.6 Q 234.0 32.1, 232.9 32.1 Q 231.8 32.1, 231.1 32.5 Q 230.4 32.9, 229.9 33.8 L 228.6 33.2 Q 229.0 32.0, 230.2 31.3 Q 231.3 30.6, 232.9 30.6 Q 234.8 30.6, 236.0 31.5 Q 237.1 32.4, 237.1 34.0 Q 237.1 35.0, 236.5 35.8 Q 236.0 36.6, 234.8 37.0 \" fill=\"#0000FF\"/>\n<path class=\"atom-7\" d=\"M 228.5 17.4 L 232.1 17.4 L 232.1 13.7 L 233.7 13.7 L 233.7 17.4 L 237.3 17.4 L 237.3 18.8 L 233.7 18.8 L 233.7 22.5 L 232.1 22.5 L 232.1 18.8 L 228.5 18.8 L 228.5 17.4 \" fill=\"#0000FF\"/>\n</svg>"
          },
          "metadata": {}
        },
        {
          "output_type": "stream",
          "name": "stdout",
          "text": [
            "These are found symmetrical states:\n"
          ]
        },
        {
          "output_type": "display_data",
          "data": {
            "text/plain": [
              "<IPython.core.display.SVG object>"
            ],
            "image/svg+xml": "<svg xmlns=\"http://www.w3.org/2000/svg\" xmlns:rdkit=\"http://www.rdkit.org/xml\" xmlns:xlink=\"http://www.w3.org/1999/xlink\" version=\"1.1\" baseProfile=\"full\" xml:space=\"preserve\" width=\"250px\" height=\"200px\" viewBox=\"0 0 250 200\">\n<!-- END OF HEADER -->\n<rect style=\"opacity:1.0;fill:#FFFFFF;stroke:none\" width=\"250.0\" height=\"200.0\" x=\"0.0\" y=\"0.0\"> </rect>\n<ellipse cx=\"204.4\" cy=\"167.5\" rx=\"32.0\" ry=\"22.5\" class=\"atom-0\" style=\"fill:#00FF0033;fill-rule:evenodd;stroke:#00FF0033;stroke-width:1.0px;stroke-linecap:butt;stroke-linejoin:miter;stroke-opacity:1\"/>\n<ellipse cx=\"204.3\" cy=\"32.5\" rx=\"32.0\" ry=\"22.5\" class=\"atom-7\" style=\"fill:#00FF0033;fill-rule:evenodd;stroke:#00FF0033;stroke-width:1.0px;stroke-linecap:butt;stroke-linejoin:miter;stroke-opacity:1\"/>\n<path class=\"bond-0 atom-0 atom-1\" d=\"M 179.5,157.2 L 155.0,143.1\" style=\"fill:none;fill-rule:evenodd;stroke:#0000FF;stroke-width:2.0px;stroke-linecap:butt;stroke-linejoin:miter;stroke-opacity:1\"/>\n<path class=\"bond-0 atom-0 atom-1\" d=\"M 155.0,143.1 L 130.5,129.0\" style=\"fill:none;fill-rule:evenodd;stroke:#000000;stroke-width:2.0px;stroke-linecap:butt;stroke-linejoin:miter;stroke-opacity:1\"/>\n<path class=\"bond-1 atom-1 atom-2\" d=\"M 130.5,129.0 L 72.0,162.7\" style=\"fill:none;fill-rule:evenodd;stroke:#000000;stroke-width:2.0px;stroke-linecap:butt;stroke-linejoin:miter;stroke-opacity:1\"/>\n<path class=\"bond-1 atom-1 atom-2\" d=\"M 120.4,123.1 L 72.0,151.0\" style=\"fill:none;fill-rule:evenodd;stroke:#000000;stroke-width:2.0px;stroke-linecap:butt;stroke-linejoin:miter;stroke-opacity:1\"/>\n<path class=\"bond-2 atom-2 atom-3\" d=\"M 72.0,162.7 L 13.6,129.0\" style=\"fill:none;fill-rule:evenodd;stroke:#000000;stroke-width:2.0px;stroke-linecap:butt;stroke-linejoin:miter;stroke-opacity:1\"/>\n<path class=\"bond-3 atom-3 atom-4\" d=\"M 13.6,129.0 L 13.6,61.4\" style=\"fill:none;fill-rule:evenodd;stroke:#000000;stroke-width:2.0px;stroke-linecap:butt;stroke-linejoin:miter;stroke-opacity:1\"/>\n<path class=\"bond-3 atom-3 atom-4\" d=\"M 23.7,123.1 L 23.7,67.3\" style=\"fill:none;fill-rule:evenodd;stroke:#000000;stroke-width:2.0px;stroke-linecap:butt;stroke-linejoin:miter;stroke-opacity:1\"/>\n<path class=\"bond-4 atom-4 atom-5\" d=\"M 13.6,61.4 L 72.0,27.7\" style=\"fill:none;fill-rule:evenodd;stroke:#000000;stroke-width:2.0px;stroke-linecap:butt;stroke-linejoin:miter;stroke-opacity:1\"/>\n<path class=\"bond-5 atom-5 atom-6\" d=\"M 72.0,27.7 L 130.5,61.4\" style=\"fill:none;fill-rule:evenodd;stroke:#000000;stroke-width:2.0px;stroke-linecap:butt;stroke-linejoin:miter;stroke-opacity:1\"/>\n<path class=\"bond-5 atom-5 atom-6\" d=\"M 72.0,39.4 L 120.4,67.3\" style=\"fill:none;fill-rule:evenodd;stroke:#000000;stroke-width:2.0px;stroke-linecap:butt;stroke-linejoin:miter;stroke-opacity:1\"/>\n<path class=\"bond-6 atom-6 atom-7\" d=\"M 130.5,61.4 L 155.0,47.3\" style=\"fill:none;fill-rule:evenodd;stroke:#000000;stroke-width:2.0px;stroke-linecap:butt;stroke-linejoin:miter;stroke-opacity:1\"/>\n<path class=\"bond-6 atom-6 atom-7\" d=\"M 155.0,47.3 L 179.5,33.2\" style=\"fill:none;fill-rule:evenodd;stroke:#0000FF;stroke-width:2.0px;stroke-linecap:butt;stroke-linejoin:miter;stroke-opacity:1\"/>\n<path class=\"bond-7 atom-6 atom-1\" d=\"M 130.5,61.4 L 130.5,129.0\" style=\"fill:none;fill-rule:evenodd;stroke:#000000;stroke-width:2.0px;stroke-linecap:butt;stroke-linejoin:miter;stroke-opacity:1\"/>\n<path d=\"M 75.0,161.0 L 72.0,162.7 L 69.1,161.0\" style=\"fill:none;stroke:#000000;stroke-width:2.0px;stroke-linecap:butt;stroke-linejoin:miter;stroke-opacity:1;\"/>\n<path d=\"M 16.5,130.6 L 13.6,129.0 L 13.6,125.6\" style=\"fill:none;stroke:#000000;stroke-width:2.0px;stroke-linecap:butt;stroke-linejoin:miter;stroke-opacity:1;\"/>\n<path d=\"M 13.6,64.8 L 13.6,61.4 L 16.5,59.8\" style=\"fill:none;stroke:#000000;stroke-width:2.0px;stroke-linecap:butt;stroke-linejoin:miter;stroke-opacity:1;\"/>\n<path d=\"M 69.1,29.4 L 72.0,27.7 L 75.0,29.4\" style=\"fill:none;stroke:#000000;stroke-width:2.0px;stroke-linecap:butt;stroke-linejoin:miter;stroke-opacity:1;\"/>\n<path class=\"atom-0\" d=\"M 184.7 153.2 L 191.0 163.3 Q 191.6 164.3, 192.6 166.1 Q 193.6 167.9, 193.7 168.0 L 193.7 153.2 L 196.2 153.2 L 196.2 172.3 L 193.6 172.3 L 186.9 161.2 Q 186.1 159.9, 185.3 158.4 Q 184.4 156.9, 184.2 156.5 L 184.2 172.3 L 181.7 172.3 L 181.7 153.2 L 184.7 153.2 \" fill=\"#0000FF\"/>\n<path class=\"atom-0\" d=\"M 199.9 153.2 L 202.5 153.2 L 202.5 161.3 L 212.2 161.3 L 212.2 153.2 L 214.8 153.2 L 214.8 172.3 L 212.2 172.3 L 212.2 163.4 L 202.5 163.4 L 202.5 172.3 L 199.9 172.3 L 199.9 153.2 \" fill=\"#0000FF\"/>\n<path class=\"atom-0\" d=\"M 218.6 171.6 Q 219.0 170.4, 220.1 169.8 Q 221.3 169.1, 222.8 169.1 Q 224.7 169.1, 225.8 170.1 Q 226.8 171.1, 226.8 173.0 Q 226.8 174.8, 225.4 176.6 Q 224.1 178.3, 221.2 180.4 L 227.0 180.4 L 227.0 181.8 L 218.5 181.8 L 218.5 180.6 Q 220.9 179.0, 222.3 177.7 Q 223.7 176.5, 224.4 175.3 Q 225.1 174.2, 225.1 173.1 Q 225.1 171.9, 224.4 171.2 Q 223.8 170.5, 222.8 170.5 Q 221.8 170.5, 221.1 170.9 Q 220.4 171.3, 219.9 172.2 L 218.6 171.6 \" fill=\"#0000FF\"/>\n<path class=\"atom-7\" d=\"M 184.7 18.1 L 191.0 28.3 Q 191.6 29.3, 192.6 31.1 Q 193.6 32.9, 193.7 33.0 L 193.7 18.1 L 196.2 18.1 L 196.2 37.2 L 193.6 37.2 L 186.9 26.2 Q 186.1 24.9, 185.3 23.4 Q 184.4 21.9, 184.2 21.4 L 184.2 37.2 L 181.7 37.2 L 181.7 18.1 L 184.7 18.1 \" fill=\"#0000FF\"/>\n<path class=\"atom-7\" d=\"M 199.8 18.1 L 202.4 18.1 L 202.4 26.3 L 212.2 26.3 L 212.2 18.1 L 214.8 18.1 L 214.8 37.2 L 212.2 37.2 L 212.2 28.4 L 202.4 28.4 L 202.4 37.2 L 199.8 37.2 L 199.8 18.1 \" fill=\"#0000FF\"/>\n<path class=\"atom-7\" d=\"M 224.5 40.2 Q 225.8 40.5, 226.3 41.3 Q 227.0 42.1, 227.0 43.3 Q 227.0 44.4, 226.4 45.3 Q 225.9 46.1, 224.9 46.5 Q 223.9 47.0, 222.6 47.0 Q 221.3 47.0, 220.3 46.5 Q 219.3 46.0, 218.5 45.1 L 219.5 44.0 Q 220.3 44.9, 220.9 45.2 Q 221.6 45.6, 222.6 45.6 Q 223.8 45.6, 224.5 45.0 Q 225.2 44.3, 225.2 43.3 Q 225.2 42.0, 224.4 41.5 Q 223.7 40.9, 222.2 40.9 L 221.3 40.9 L 221.3 39.6 L 222.1 39.6 Q 223.4 39.6, 224.2 39.0 Q 224.9 38.4, 224.9 37.3 Q 224.9 36.5, 224.3 36.0 Q 223.7 35.5, 222.7 35.5 Q 221.6 35.5, 220.9 35.8 Q 220.3 36.2, 219.8 37.2 L 218.6 36.5 Q 219.0 35.5, 220.1 34.8 Q 221.2 34.0, 222.7 34.0 Q 224.5 34.0, 225.6 34.9 Q 226.7 35.8, 226.7 37.3 Q 226.7 38.3, 226.1 39.0 Q 225.6 39.7, 224.5 40.2 \" fill=\"#0000FF\"/>\n<path class=\"atom-7\" d=\"M 218.5 21.6 L 221.9 21.6 L 221.9 18.0 L 223.4 18.0 L 223.4 21.6 L 226.9 21.6 L 226.9 22.9 L 223.4 22.9 L 223.4 26.4 L 221.9 26.4 L 221.9 22.9 L 218.5 22.9 L 218.5 21.6 \" fill=\"#0000FF\"/>\n</svg>"
          },
          "metadata": {}
        },
        {
          "output_type": "display_data",
          "data": {
            "text/plain": [
              "<IPython.core.display.SVG object>"
            ],
            "image/svg+xml": "<svg xmlns=\"http://www.w3.org/2000/svg\" xmlns:rdkit=\"http://www.rdkit.org/xml\" xmlns:xlink=\"http://www.w3.org/1999/xlink\" version=\"1.1\" baseProfile=\"full\" xml:space=\"preserve\" width=\"250px\" height=\"200px\" viewBox=\"0 0 250 200\">\n<!-- END OF HEADER -->\n<rect style=\"opacity:1.0;fill:#FFFFFF;stroke:none\" width=\"250.0\" height=\"200.0\" x=\"0.0\" y=\"0.0\"> </rect>\n<ellipse cx=\"204.3\" cy=\"167.5\" rx=\"32.0\" ry=\"22.5\" class=\"atom-0\" style=\"fill:#00FF0033;fill-rule:evenodd;stroke:#00FF0033;stroke-width:1.0px;stroke-linecap:butt;stroke-linejoin:miter;stroke-opacity:1\"/>\n<ellipse cx=\"204.4\" cy=\"32.5\" rx=\"32.0\" ry=\"22.5\" class=\"atom-7\" style=\"fill:#00FF0033;fill-rule:evenodd;stroke:#00FF0033;stroke-width:1.0px;stroke-linecap:butt;stroke-linejoin:miter;stroke-opacity:1\"/>\n<path class=\"bond-0 atom-0 atom-1\" d=\"M 179.5,157.2 L 155.0,143.1\" style=\"fill:none;fill-rule:evenodd;stroke:#0000FF;stroke-width:2.0px;stroke-linecap:butt;stroke-linejoin:miter;stroke-opacity:1\"/>\n<path class=\"bond-0 atom-0 atom-1\" d=\"M 155.0,143.1 L 130.5,128.9\" style=\"fill:none;fill-rule:evenodd;stroke:#000000;stroke-width:2.0px;stroke-linecap:butt;stroke-linejoin:miter;stroke-opacity:1\"/>\n<path class=\"bond-1 atom-1 atom-2\" d=\"M 130.5,128.9 L 72.1,162.7\" style=\"fill:none;fill-rule:evenodd;stroke:#000000;stroke-width:2.0px;stroke-linecap:butt;stroke-linejoin:miter;stroke-opacity:1\"/>\n<path class=\"bond-1 atom-1 atom-2\" d=\"M 120.4,123.1 L 72.1,151.0\" style=\"fill:none;fill-rule:evenodd;stroke:#000000;stroke-width:2.0px;stroke-linecap:butt;stroke-linejoin:miter;stroke-opacity:1\"/>\n<path class=\"bond-2 atom-2 atom-3\" d=\"M 72.1,162.7 L 13.6,128.9\" style=\"fill:none;fill-rule:evenodd;stroke:#000000;stroke-width:2.0px;stroke-linecap:butt;stroke-linejoin:miter;stroke-opacity:1\"/>\n<path class=\"bond-3 atom-3 atom-4\" d=\"M 13.6,128.9 L 13.6,61.5\" style=\"fill:none;fill-rule:evenodd;stroke:#000000;stroke-width:2.0px;stroke-linecap:butt;stroke-linejoin:miter;stroke-opacity:1\"/>\n<path class=\"bond-3 atom-3 atom-4\" d=\"M 23.7,123.1 L 23.7,67.3\" style=\"fill:none;fill-rule:evenodd;stroke:#000000;stroke-width:2.0px;stroke-linecap:butt;stroke-linejoin:miter;stroke-opacity:1\"/>\n<path class=\"bond-4 atom-4 atom-5\" d=\"M 13.6,61.5 L 72.1,27.7\" style=\"fill:none;fill-rule:evenodd;stroke:#000000;stroke-width:2.0px;stroke-linecap:butt;stroke-linejoin:miter;stroke-opacity:1\"/>\n<path class=\"bond-5 atom-5 atom-6\" d=\"M 72.1,27.7 L 130.5,61.5\" style=\"fill:none;fill-rule:evenodd;stroke:#000000;stroke-width:2.0px;stroke-linecap:butt;stroke-linejoin:miter;stroke-opacity:1\"/>\n<path class=\"bond-5 atom-5 atom-6\" d=\"M 72.1,39.4 L 120.4,67.3\" style=\"fill:none;fill-rule:evenodd;stroke:#000000;stroke-width:2.0px;stroke-linecap:butt;stroke-linejoin:miter;stroke-opacity:1\"/>\n<path class=\"bond-6 atom-6 atom-7\" d=\"M 130.5,61.5 L 155.0,47.3\" style=\"fill:none;fill-rule:evenodd;stroke:#000000;stroke-width:2.0px;stroke-linecap:butt;stroke-linejoin:miter;stroke-opacity:1\"/>\n<path class=\"bond-6 atom-6 atom-7\" d=\"M 155.0,47.3 L 179.5,33.2\" style=\"fill:none;fill-rule:evenodd;stroke:#0000FF;stroke-width:2.0px;stroke-linecap:butt;stroke-linejoin:miter;stroke-opacity:1\"/>\n<path class=\"bond-7 atom-6 atom-1\" d=\"M 130.5,61.5 L 130.5,128.9\" style=\"fill:none;fill-rule:evenodd;stroke:#000000;stroke-width:2.0px;stroke-linecap:butt;stroke-linejoin:miter;stroke-opacity:1\"/>\n<path d=\"M 75.0,161.0 L 72.1,162.7 L 69.1,161.0\" style=\"fill:none;stroke:#000000;stroke-width:2.0px;stroke-linecap:butt;stroke-linejoin:miter;stroke-opacity:1;\"/>\n<path d=\"M 16.5,130.6 L 13.6,128.9 L 13.6,125.6\" style=\"fill:none;stroke:#000000;stroke-width:2.0px;stroke-linecap:butt;stroke-linejoin:miter;stroke-opacity:1;\"/>\n<path d=\"M 13.6,64.8 L 13.6,61.5 L 16.5,59.8\" style=\"fill:none;stroke:#000000;stroke-width:2.0px;stroke-linecap:butt;stroke-linejoin:miter;stroke-opacity:1;\"/>\n<path d=\"M 69.1,29.4 L 72.1,27.7 L 75.0,29.4\" style=\"fill:none;stroke:#000000;stroke-width:2.0px;stroke-linecap:butt;stroke-linejoin:miter;stroke-opacity:1;\"/>\n<path class=\"atom-0\" d=\"M 184.7 153.1 L 191.0 163.3 Q 191.6 164.3, 192.6 166.1 Q 193.6 167.9, 193.7 168.0 L 193.7 153.1 L 196.2 153.1 L 196.2 172.2 L 193.6 172.2 L 186.9 161.2 Q 186.1 159.9, 185.2 158.4 Q 184.4 156.9, 184.2 156.5 L 184.2 172.2 L 181.7 172.2 L 181.7 153.1 L 184.7 153.1 \" fill=\"#0000FF\"/>\n<path class=\"atom-0\" d=\"M 199.8 153.1 L 202.4 153.1 L 202.4 161.3 L 212.2 161.3 L 212.2 153.1 L 214.8 153.1 L 214.8 172.2 L 212.2 172.2 L 212.2 163.4 L 202.4 163.4 L 202.4 172.2 L 199.8 172.2 L 199.8 153.1 \" fill=\"#0000FF\"/>\n<path class=\"atom-0\" d=\"M 224.5 175.2 Q 225.7 175.5, 226.3 176.3 Q 226.9 177.1, 226.9 178.3 Q 226.9 179.4, 226.4 180.2 Q 225.8 181.1, 224.9 181.5 Q 223.9 182.0, 222.6 182.0 Q 221.2 182.0, 220.2 181.5 Q 219.2 181.0, 218.4 180.1 L 219.4 179.0 Q 220.2 179.9, 220.9 180.2 Q 221.5 180.6, 222.6 180.6 Q 223.7 180.6, 224.4 179.9 Q 225.1 179.3, 225.1 178.3 Q 225.1 177.0, 224.4 176.5 Q 223.7 175.9, 222.1 175.9 L 221.2 175.9 L 221.2 174.6 L 222.0 174.6 Q 223.4 174.6, 224.1 174.0 Q 224.9 173.4, 224.9 172.3 Q 224.9 171.4, 224.3 171.0 Q 223.6 170.5, 222.6 170.5 Q 221.6 170.5, 220.9 170.8 Q 220.3 171.2, 219.8 172.2 L 218.5 171.5 Q 219.0 170.5, 220.0 169.8 Q 221.1 169.0, 222.6 169.0 Q 224.5 169.0, 225.6 169.9 Q 226.6 170.8, 226.6 172.3 Q 226.6 173.3, 226.1 174.0 Q 225.5 174.7, 224.5 175.2 \" fill=\"#0000FF\"/>\n<path class=\"atom-0\" d=\"M 218.5 156.6 L 221.9 156.6 L 221.9 153.0 L 223.4 153.0 L 223.4 156.6 L 226.8 156.6 L 226.8 157.9 L 223.4 157.9 L 223.4 161.4 L 221.9 161.4 L 221.9 157.9 L 218.5 157.9 L 218.5 156.6 \" fill=\"#0000FF\"/>\n<path class=\"atom-7\" d=\"M 184.7 18.2 L 191.0 28.3 Q 191.6 29.3, 192.6 31.1 Q 193.6 32.9, 193.7 33.0 L 193.7 18.2 L 196.2 18.2 L 196.2 37.3 L 193.6 37.3 L 186.9 26.2 Q 186.1 24.9, 185.2 23.4 Q 184.4 21.9, 184.2 21.5 L 184.2 37.3 L 181.7 37.3 L 181.7 18.2 L 184.7 18.2 \" fill=\"#0000FF\"/>\n<path class=\"atom-7\" d=\"M 199.8 18.2 L 202.4 18.2 L 202.4 26.3 L 212.2 26.3 L 212.2 18.2 L 214.8 18.2 L 214.8 37.3 L 212.2 37.3 L 212.2 28.4 L 202.4 28.4 L 202.4 37.3 L 199.8 37.3 L 199.8 18.2 \" fill=\"#0000FF\"/>\n<path class=\"atom-7\" d=\"M 218.5 36.6 Q 219.0 35.4, 220.1 34.7 Q 221.2 34.1, 222.7 34.1 Q 224.7 34.1, 225.7 35.1 Q 226.8 36.1, 226.8 38.0 Q 226.8 39.8, 225.4 41.6 Q 224.0 43.3, 221.2 45.4 L 227.0 45.4 L 227.0 46.8 L 218.5 46.8 L 218.5 45.6 Q 220.9 44.0, 222.2 42.7 Q 223.7 41.5, 224.3 40.3 Q 225.0 39.2, 225.0 38.1 Q 225.0 36.9, 224.4 36.2 Q 223.8 35.5, 222.7 35.5 Q 221.7 35.5, 221.1 35.9 Q 220.4 36.3, 219.9 37.2 L 218.5 36.6 \" fill=\"#0000FF\"/>\n</svg>"
          },
          "metadata": {}
        }
      ]
    },
    {
      "cell_type": "code",
      "source": [
        "#@title Select treatment of symmetrical states\n",
        "#@markdown Please, select whether to inclue symmetrical states for a molecule\n",
        "#@markdown or not. If for a particular molecule there are no symmetrical\n",
        "#@markdown states available, selecting True won't influence the behaviour\n",
        "use_symmetrical_states_molecule_0 = False #@param {type:\"boolean\"}\n",
        "use_symmetrical_states_molecule_1 = True #@param {type:\"boolean\"}\n",
        "use_symmetrical_states_molecule_2 = False #@param {type:\"boolean\"}\n",
        "use_symmetrical_states_molecule_3 = False #@param {type:\"boolean\"}\n",
        "use_symmetrical_states_molecule_4 = False #@param {type:\"boolean\"}\n",
        "use_symmetrical_states_molecule_5 = False #@param {type:\"boolean\"}\n",
        "use_symmetrical_states_molecule_6 = False #@param {type:\"boolean\"}\n",
        "use_symmetrical_states_molecule_7 = False #@param {type:\"boolean\"}\n",
        "use_symmetrical_states_molecule_8 = False #@param {type:\"boolean\"}\n",
        "use_symmetrical_states_molecule_9 = False #@param {type:\"boolean\"}\n",
        "\n",
        "ss = [\n",
        "    use_symmetrical_states_molecule_0,\n",
        "    use_symmetrical_states_molecule_1,\n",
        "    use_symmetrical_states_molecule_2,\n",
        "    use_symmetrical_states_molecule_3,\n",
        "    use_symmetrical_states_molecule_4,\n",
        "    use_symmetrical_states_molecule_5,\n",
        "    use_symmetrical_states_molecule_6,\n",
        "    use_symmetrical_states_molecule_7,\n",
        "    use_symmetrical_states_molecule_8,\n",
        "    use_symmetrical_states_molecule_9,\n",
        "][:len(states)]"
      ],
      "metadata": {
        "id": "gbwN4jUv9e0f"
      },
      "execution_count": 14,
      "outputs": []
    },
    {
      "cell_type": "code",
      "source": [
        "#@title Update states information\n",
        "for i, s in zip(states.keys(), states.values()):\n",
        "    if ss:\n",
        "        t = ss[i]\n",
        "    else:\n",
        "        t = False\n",
        "    if t:\n",
        "        states[i] = (s[0], s[1], s[1], s[3], s[4])\n",
        "    if mHs:\n",
        "        from rdkit.Chem import rdFMCS\n",
        "        res = rdFMCS.FindMCS([pmol, pmol])\n",
        "        similar_patt = Chem.MolFromSmarts(res.smartsString)\n",
        "        subst_matches = s[0].GetSubstructMatches(similar_patt)[0]\n",
        "        factor = 1\n",
        "        atoms_with_mhs = []\n",
        "        for idx in sites_with_multiple_hs:\n",
        "            if not mHs[sites_with_multiple_hs.index(idx)]:\n",
        "                continue\n",
        "            a = s[0].GetAtomWithIdx(\n",
        "                subst_matches[subst_matches_pmol.index(idx)]\n",
        "            )\n",
        "            a_p = pmol.GetAtomWithIdx(idx)\n",
        "            if (\n",
        "                (a.GetNumExplicitHs() + a.GetNumImplicitHs()) !=\n",
        "                (a_p.GetNumExplicitHs() + a_p.GetNumImplicitHs())\n",
        "            ):\n",
        "                # TODO: we also need to add symmetrical atoms\n",
        "                atoms_with_mhs.append(idx)\n",
        "                factor *= (a_p.GetNumExplicitHs() + a_p.GetNumImplicitHs())\n",
        "        states[i] = (s[0], s[1], states[i][1] * factor, s[3], atoms_with_mhs)\n",
        "states"
      ],
      "metadata": {
        "colab": {
          "base_uri": "https://localhost:8080/"
        },
        "id": "GjWEZ3WGvpSf",
        "outputId": "f19ddae4-54bb-4892-c954-dae187e4d723"
      },
      "execution_count": 15,
      "outputs": [
        {
          "output_type": "execute_result",
          "data": {
            "text/plain": [
              "{0: (<rdkit.Chem.rdchem.Mol at 0x7e442bf258c0>, 1, 1, None, []),\n",
              " 1: (<rdkit.Chem.rdchem.Mol at 0x7e442bf257e0>,\n",
              "  2,\n",
              "  6,\n",
              "  ([0, 7], [[0, 0, 0, 0, 0, 0, 0, 1], [1, 0, 0, 0, 0, 0, 0, 0]]),\n",
              "  [0]),\n",
              " 2: (<rdkit.Chem.rdchem.Mol at 0x7e442bf25850>, 1, 9, None, [0, 7])}"
            ]
          },
          "metadata": {},
          "execution_count": 15
        }
      ]
    },
    {
      "cell_type": "code",
      "source": [
        "#@title Show state transitions\n",
        "state_transitions = []\n",
        "for i, m1 in enumerate(mols):\n",
        "    for j, m2 in enumerate(mols[i+1:]):\n",
        "        from rdkit.Chem import rdFMCS\n",
        "        res = rdFMCS.FindMCS([pmol, pmol])\n",
        "        similar_patt = Chem.MolFromSmarts(res.smartsString)\n",
        "        subst_matches1 = m1.GetSubstructMatches(similar_patt)[0]\n",
        "        subst_matches2 = m2.GetSubstructMatches(similar_patt)[0]\n",
        "        n_diffs = 0\n",
        "        for idx in titratable_sites:\n",
        "            if (\n",
        "                m1.GetAtomWithIdx(\n",
        "                    subst_matches1[subst_matches_pmol.index(idx)]\n",
        "                ).GetFormalCharge() !=\n",
        "                m2.GetAtomWithIdx(\n",
        "                    subst_matches2[subst_matches_pmol.index(idx)]\n",
        "                ).GetFormalCharge()\n",
        "            ):\n",
        "                n_diffs += 1\n",
        "        if n_diffs != 1:\n",
        "            continue\n",
        "        state_transitions.append((i, i + 1+j, m1, m2))\n",
        "\n",
        "def view_difference(mol1, mol2):\n",
        "    mcs = rdFMCS.FindMCS([mol1,mol2])\n",
        "    mcs_mol = Chem.MolFromSmarts(mcs.smartsString)\n",
        "    match1 = mol1.GetSubstructMatch(mcs_mol)\n",
        "    match2 = mol2.GetSubstructMatch(mcs_mol)\n",
        "    target_atm1 = []\n",
        "    target_atm2 = []\n",
        "    for a1, a2 in zip(match1, match2):\n",
        "        if (\n",
        "            mol1.GetAtomWithIdx(a1).GetFormalCharge() !=\n",
        "            mol2.GetAtomWithIdx(a2).GetFormalCharge()\n",
        "        ):\n",
        "            target_atm1.append(a1)\n",
        "            target_atm2.append(a2)\n",
        "    d2d = Draw.MolsToGridImage(\n",
        "        [mol1, mol2],\n",
        "        highlightAtomLists=[target_atm1, target_atm2],\n",
        "        useSVG = True,\n",
        "    )\n",
        "    display(d2d)\n",
        "\n",
        "print(\"We found the following transitions between protonation states:\")\n",
        "for i, st_t in enumerate(state_transitions):\n",
        "    print(f\"Transition {i}\")\n",
        "    view_difference(st_t[2], st_t[3])"
      ],
      "metadata": {
        "colab": {
          "base_uri": "https://localhost:8080/",
          "height": 482
        },
        "id": "ZBKOWkcz2HnX",
        "outputId": "dd77f2fe-6e2d-4b34-d326-fab92cd59633"
      },
      "execution_count": 16,
      "outputs": [
        {
          "output_type": "stream",
          "name": "stdout",
          "text": [
            "We found the following transitions between protonation states:\n",
            "Transition 0\n"
          ]
        },
        {
          "output_type": "display_data",
          "data": {
            "text/plain": [
              "<IPython.core.display.SVG object>"
            ],
            "image/svg+xml": "<svg xmlns=\"http://www.w3.org/2000/svg\" xmlns:rdkit=\"http://www.rdkit.org/xml\" xmlns:xlink=\"http://www.w3.org/1999/xlink\" version=\"1.1\" baseProfile=\"full\" xml:space=\"preserve\" width=\"600px\" height=\"200px\" viewBox=\"0 0 600 200\">\n<!-- END OF HEADER -->\n<rect style=\"opacity:1.0;fill:#FFFFFF;stroke:none\" width=\"600.0\" height=\"200.0\" x=\"0.0\" y=\"0.0\"> </rect>\n<ellipse cx=\"164.1\" cy=\"152.1\" rx=\"25.8\" ry=\"16.5\" class=\"atom-0\" style=\"fill:#FF7F7F;fill-rule:evenodd;stroke:#FF7F7F;stroke-width:1.0px;stroke-linecap:butt;stroke-linejoin:miter;stroke-opacity:1\"/>\n<path class=\"bond-0 atom-0 atom-1\" d=\"M 144.1,143.8 L 124.3,132.4\" style=\"fill:none;fill-rule:evenodd;stroke:#0000FF;stroke-width:2.0px;stroke-linecap:butt;stroke-linejoin:miter;stroke-opacity:1\"/>\n<path class=\"bond-0 atom-0 atom-1\" d=\"M 124.3,132.4 L 104.5,121.0\" style=\"fill:none;fill-rule:evenodd;stroke:#000000;stroke-width:2.0px;stroke-linecap:butt;stroke-linejoin:miter;stroke-opacity:1\"/>\n<path class=\"bond-1 atom-1 atom-2\" d=\"M 104.5,121.0 L 57.3,148.2\" style=\"fill:none;fill-rule:evenodd;stroke:#000000;stroke-width:2.0px;stroke-linecap:butt;stroke-linejoin:miter;stroke-opacity:1\"/>\n<path class=\"bond-1 atom-1 atom-2\" d=\"M 96.3,116.2 L 57.3,138.8\" style=\"fill:none;fill-rule:evenodd;stroke:#000000;stroke-width:2.0px;stroke-linecap:butt;stroke-linejoin:miter;stroke-opacity:1\"/>\n<path class=\"bond-2 atom-2 atom-3\" d=\"M 57.3,148.2 L 10.0,121.0\" style=\"fill:none;fill-rule:evenodd;stroke:#000000;stroke-width:2.0px;stroke-linecap:butt;stroke-linejoin:miter;stroke-opacity:1\"/>\n<path class=\"bond-3 atom-3 atom-4\" d=\"M 10.0,121.0 L 10.0,66.4\" style=\"fill:none;fill-rule:evenodd;stroke:#000000;stroke-width:2.0px;stroke-linecap:butt;stroke-linejoin:miter;stroke-opacity:1\"/>\n<path class=\"bond-3 atom-3 atom-4\" d=\"M 18.2,116.2 L 18.2,71.1\" style=\"fill:none;fill-rule:evenodd;stroke:#000000;stroke-width:2.0px;stroke-linecap:butt;stroke-linejoin:miter;stroke-opacity:1\"/>\n<path class=\"bond-4 atom-4 atom-5\" d=\"M 10.0,66.4 L 57.3,39.2\" style=\"fill:none;fill-rule:evenodd;stroke:#000000;stroke-width:2.0px;stroke-linecap:butt;stroke-linejoin:miter;stroke-opacity:1\"/>\n<path class=\"bond-5 atom-5 atom-6\" d=\"M 57.3,39.2 L 104.5,66.4\" style=\"fill:none;fill-rule:evenodd;stroke:#000000;stroke-width:2.0px;stroke-linecap:butt;stroke-linejoin:miter;stroke-opacity:1\"/>\n<path class=\"bond-5 atom-5 atom-6\" d=\"M 57.3,48.6 L 96.3,71.1\" style=\"fill:none;fill-rule:evenodd;stroke:#000000;stroke-width:2.0px;stroke-linecap:butt;stroke-linejoin:miter;stroke-opacity:1\"/>\n<path class=\"bond-6 atom-6 atom-7\" d=\"M 104.5,66.4 L 124.3,55.0\" style=\"fill:none;fill-rule:evenodd;stroke:#000000;stroke-width:2.0px;stroke-linecap:butt;stroke-linejoin:miter;stroke-opacity:1\"/>\n<path class=\"bond-6 atom-6 atom-7\" d=\"M 124.3,55.0 L 144.1,43.6\" style=\"fill:none;fill-rule:evenodd;stroke:#0000FF;stroke-width:2.0px;stroke-linecap:butt;stroke-linejoin:miter;stroke-opacity:1\"/>\n<path class=\"bond-7 atom-6 atom-1\" d=\"M 104.5,66.4 L 104.5,121.0\" style=\"fill:none;fill-rule:evenodd;stroke:#000000;stroke-width:2.0px;stroke-linecap:butt;stroke-linejoin:miter;stroke-opacity:1\"/>\n<path d=\"M 59.6,146.9 L 57.3,148.2 L 54.9,146.9\" style=\"fill:none;stroke:#000000;stroke-width:2.0px;stroke-linecap:butt;stroke-linejoin:miter;stroke-opacity:1;\"/>\n<path d=\"M 12.4,122.3 L 10.0,121.0 L 10.0,118.2\" style=\"fill:none;stroke:#000000;stroke-width:2.0px;stroke-linecap:butt;stroke-linejoin:miter;stroke-opacity:1;\"/>\n<path d=\"M 10.0,69.1 L 10.0,66.4 L 12.4,65.1\" style=\"fill:none;stroke:#000000;stroke-width:2.0px;stroke-linecap:butt;stroke-linejoin:miter;stroke-opacity:1;\"/>\n<path d=\"M 54.9,40.5 L 57.3,39.2 L 59.6,40.5\" style=\"fill:none;stroke:#000000;stroke-width:2.0px;stroke-linecap:butt;stroke-linejoin:miter;stroke-opacity:1;\"/>\n<path class=\"atom-0\" d=\"M 148.3 140.5 L 153.4 148.7 Q 153.9 149.5, 154.7 150.9 Q 155.5 152.4, 155.5 152.5 L 155.5 140.5 L 157.6 140.5 L 157.6 155.9 L 155.5 155.9 L 150.0 147.0 Q 149.4 145.9, 148.7 144.7 Q 148.1 143.5, 147.9 143.2 L 147.9 155.9 L 145.9 155.9 L 145.9 140.5 L 148.3 140.5 \" fill=\"#0000FF\"/>\n<path class=\"atom-0\" d=\"M 160.5 140.5 L 162.6 140.5 L 162.6 147.1 L 170.5 147.1 L 170.5 140.5 L 172.6 140.5 L 172.6 155.9 L 170.5 155.9 L 170.5 148.8 L 162.6 148.8 L 162.6 155.9 L 160.5 155.9 L 160.5 140.5 \" fill=\"#0000FF\"/>\n<path class=\"atom-0\" d=\"M 180.4 158.3 Q 181.4 158.6, 181.9 159.2 Q 182.4 159.9, 182.4 160.9 Q 182.4 161.7, 182.0 162.4 Q 181.5 163.1, 180.7 163.4 Q 179.9 163.8, 178.9 163.8 Q 177.8 163.8, 177.0 163.4 Q 176.2 163.0, 175.5 162.3 L 176.4 161.4 Q 177.0 162.1, 177.5 162.4 Q 178.1 162.6, 178.9 162.6 Q 179.8 162.6, 180.4 162.2 Q 180.9 161.7, 180.9 160.8 Q 180.9 159.8, 180.4 159.4 Q 179.8 158.9, 178.5 158.9 L 177.8 158.9 L 177.8 157.8 L 178.4 157.8 Q 179.6 157.8, 180.1 157.4 Q 180.7 156.9, 180.7 156.0 Q 180.7 155.3, 180.2 154.9 Q 179.8 154.5, 178.9 154.5 Q 178.1 154.5, 177.5 154.8 Q 177.0 155.1, 176.6 155.9 L 175.6 155.3 Q 176.0 154.5, 176.8 153.9 Q 177.7 153.3, 178.9 153.3 Q 180.4 153.3, 181.3 154.1 Q 182.2 154.8, 182.2 156.0 Q 182.2 156.8, 181.7 157.4 Q 181.3 158.0, 180.4 158.3 \" fill=\"#0000FF\"/>\n<path class=\"atom-0\" d=\"M 175.6 143.3 L 178.3 143.3 L 178.3 140.4 L 179.5 140.4 L 179.5 143.3 L 182.3 143.3 L 182.3 144.3 L 179.5 144.3 L 179.5 147.2 L 178.3 147.2 L 178.3 144.3 L 175.6 144.3 L 175.6 143.3 \" fill=\"#0000FF\"/>\n<path class=\"atom-7\" d=\"M 148.3 31.4 L 153.4 39.6 Q 153.9 40.4, 154.7 41.9 Q 155.5 43.3, 155.5 43.4 L 155.5 31.4 L 157.6 31.4 L 157.6 46.9 L 155.5 46.9 L 150.0 37.9 Q 149.4 36.9, 148.7 35.7 Q 148.1 34.5, 147.9 34.1 L 147.9 46.9 L 145.9 46.9 L 145.9 31.4 L 148.3 31.4 \" fill=\"#0000FF\"/>\n<path class=\"atom-7\" d=\"M 160.5 31.4 L 162.6 31.4 L 162.6 38.0 L 170.5 38.0 L 170.5 31.4 L 172.6 31.4 L 172.6 46.9 L 170.5 46.9 L 170.5 39.7 L 162.6 39.7 L 162.6 46.9 L 160.5 46.9 L 160.5 31.4 \" fill=\"#0000FF\"/>\n<path class=\"atom-7\" d=\"M 180.4 49.2 Q 181.4 49.5, 181.9 50.2 Q 182.4 50.8, 182.4 51.8 Q 182.4 52.7, 182.0 53.3 Q 181.5 54.0, 180.7 54.4 Q 179.9 54.7, 178.9 54.7 Q 177.8 54.7, 177.0 54.4 Q 176.2 54.0, 175.5 53.2 L 176.4 52.4 Q 177.0 53.1, 177.5 53.3 Q 178.1 53.6, 178.9 53.6 Q 179.8 53.6, 180.4 53.1 Q 180.9 52.6, 180.9 51.8 Q 180.9 50.8, 180.4 50.3 Q 179.8 49.8, 178.5 49.8 L 177.8 49.8 L 177.8 48.8 L 178.4 48.8 Q 179.6 48.8, 180.1 48.3 Q 180.7 47.8, 180.7 46.9 Q 180.7 46.2, 180.2 45.8 Q 179.8 45.4, 178.9 45.4 Q 178.1 45.4, 177.5 45.7 Q 177.0 46.0, 176.6 46.8 L 175.6 46.3 Q 176.0 45.4, 176.8 44.9 Q 177.7 44.3, 178.9 44.3 Q 180.4 44.3, 181.3 45.0 Q 182.2 45.7, 182.2 46.9 Q 182.2 47.7, 181.7 48.3 Q 181.3 48.9, 180.4 49.2 \" fill=\"#0000FF\"/>\n<path class=\"atom-7\" d=\"M 175.6 34.2 L 178.3 34.2 L 178.3 31.4 L 179.5 31.4 L 179.5 34.2 L 182.3 34.2 L 182.3 35.3 L 179.5 35.3 L 179.5 38.1 L 178.3 38.1 L 178.3 35.3 L 175.6 35.3 L 175.6 34.2 \" fill=\"#0000FF\"/>\n<ellipse cx=\"364.1\" cy=\"152.2\" rx=\"25.9\" ry=\"16.4\" class=\"atom-0\" style=\"fill:#FF7F7F;fill-rule:evenodd;stroke:#FF7F7F;stroke-width:1.0px;stroke-linecap:butt;stroke-linejoin:miter;stroke-opacity:1\"/>\n<path class=\"bond-0 atom-0 atom-1\" d=\"M 344.0,143.9 L 324.2,132.5\" style=\"fill:none;fill-rule:evenodd;stroke:#0000FF;stroke-width:2.0px;stroke-linecap:butt;stroke-linejoin:miter;stroke-opacity:1\"/>\n<path class=\"bond-0 atom-0 atom-1\" d=\"M 324.2,132.5 L 304.4,121.0\" style=\"fill:none;fill-rule:evenodd;stroke:#000000;stroke-width:2.0px;stroke-linecap:butt;stroke-linejoin:miter;stroke-opacity:1\"/>\n<path class=\"bond-1 atom-1 atom-2\" d=\"M 304.4,121.0 L 257.2,148.3\" style=\"fill:none;fill-rule:evenodd;stroke:#000000;stroke-width:2.0px;stroke-linecap:butt;stroke-linejoin:miter;stroke-opacity:1\"/>\n<path class=\"bond-1 atom-1 atom-2\" d=\"M 296.3,116.3 L 257.2,138.9\" style=\"fill:none;fill-rule:evenodd;stroke:#000000;stroke-width:2.0px;stroke-linecap:butt;stroke-linejoin:miter;stroke-opacity:1\"/>\n<path class=\"bond-2 atom-2 atom-3\" d=\"M 257.2,148.3 L 210.0,121.0\" style=\"fill:none;fill-rule:evenodd;stroke:#000000;stroke-width:2.0px;stroke-linecap:butt;stroke-linejoin:miter;stroke-opacity:1\"/>\n<path class=\"bond-3 atom-3 atom-4\" d=\"M 210.0,121.0 L 210.0,66.5\" style=\"fill:none;fill-rule:evenodd;stroke:#000000;stroke-width:2.0px;stroke-linecap:butt;stroke-linejoin:miter;stroke-opacity:1\"/>\n<path class=\"bond-3 atom-3 atom-4\" d=\"M 218.2,116.3 L 218.2,71.2\" style=\"fill:none;fill-rule:evenodd;stroke:#000000;stroke-width:2.0px;stroke-linecap:butt;stroke-linejoin:miter;stroke-opacity:1\"/>\n<path class=\"bond-4 atom-4 atom-5\" d=\"M 210.0,66.5 L 257.2,39.3\" style=\"fill:none;fill-rule:evenodd;stroke:#000000;stroke-width:2.0px;stroke-linecap:butt;stroke-linejoin:miter;stroke-opacity:1\"/>\n<path class=\"bond-5 atom-5 atom-6\" d=\"M 257.2,39.3 L 304.4,66.5\" style=\"fill:none;fill-rule:evenodd;stroke:#000000;stroke-width:2.0px;stroke-linecap:butt;stroke-linejoin:miter;stroke-opacity:1\"/>\n<path class=\"bond-5 atom-5 atom-6\" d=\"M 257.2,48.7 L 296.3,71.2\" style=\"fill:none;fill-rule:evenodd;stroke:#000000;stroke-width:2.0px;stroke-linecap:butt;stroke-linejoin:miter;stroke-opacity:1\"/>\n<path class=\"bond-6 atom-6 atom-7\" d=\"M 304.4,66.5 L 324.2,55.1\" style=\"fill:none;fill-rule:evenodd;stroke:#000000;stroke-width:2.0px;stroke-linecap:butt;stroke-linejoin:miter;stroke-opacity:1\"/>\n<path class=\"bond-6 atom-6 atom-7\" d=\"M 324.2,55.1 L 344.0,43.7\" style=\"fill:none;fill-rule:evenodd;stroke:#0000FF;stroke-width:2.0px;stroke-linecap:butt;stroke-linejoin:miter;stroke-opacity:1\"/>\n<path class=\"bond-7 atom-6 atom-1\" d=\"M 304.4,66.5 L 304.4,121.0\" style=\"fill:none;fill-rule:evenodd;stroke:#000000;stroke-width:2.0px;stroke-linecap:butt;stroke-linejoin:miter;stroke-opacity:1\"/>\n<path d=\"M 259.6,146.9 L 257.2,148.3 L 254.9,146.9\" style=\"fill:none;stroke:#000000;stroke-width:2.0px;stroke-linecap:butt;stroke-linejoin:miter;stroke-opacity:1;\"/>\n<path d=\"M 212.4,122.4 L 210.0,121.0 L 210.0,118.3\" style=\"fill:none;stroke:#000000;stroke-width:2.0px;stroke-linecap:butt;stroke-linejoin:miter;stroke-opacity:1;\"/>\n<path d=\"M 210.0,69.2 L 210.0,66.5 L 212.4,65.2\" style=\"fill:none;stroke:#000000;stroke-width:2.0px;stroke-linecap:butt;stroke-linejoin:miter;stroke-opacity:1;\"/>\n<path d=\"M 254.9,40.6 L 257.2,39.3 L 259.6,40.6\" style=\"fill:none;stroke:#000000;stroke-width:2.0px;stroke-linecap:butt;stroke-linejoin:miter;stroke-opacity:1;\"/>\n<path class=\"atom-0\" d=\"M 348.3 140.6 L 353.3 148.8 Q 353.8 149.6, 354.6 151.0 Q 355.4 152.5, 355.5 152.6 L 355.5 140.6 L 357.5 140.6 L 357.5 156.0 L 355.4 156.0 L 350.0 147.1 Q 349.3 146.0, 348.7 144.8 Q 348.0 143.6, 347.8 143.3 L 347.8 156.0 L 345.8 156.0 L 345.8 140.6 L 348.3 140.6 \" fill=\"#0000FF\"/>\n<path class=\"atom-0\" d=\"M 360.5 140.6 L 362.6 140.6 L 362.6 147.2 L 370.5 147.2 L 370.5 140.6 L 372.6 140.6 L 372.6 156.0 L 370.5 156.0 L 370.5 148.9 L 362.6 148.9 L 362.6 156.0 L 360.5 156.0 L 360.5 140.6 \" fill=\"#0000FF\"/>\n<path class=\"atom-0\" d=\"M 375.6 155.5 Q 376.0 154.5, 376.8 154.0 Q 377.7 153.4, 379.0 153.4 Q 380.5 153.4, 381.4 154.3 Q 382.2 155.1, 382.2 156.6 Q 382.2 158.1, 381.1 159.5 Q 380.0 160.9, 377.7 162.6 L 382.4 162.6 L 382.4 163.8 L 375.6 163.8 L 375.6 162.8 Q 377.5 161.4, 378.6 160.4 Q 379.7 159.4, 380.3 158.5 Q 380.8 157.6, 380.8 156.7 Q 380.8 155.7, 380.3 155.1 Q 379.8 154.6, 379.0 154.6 Q 378.2 154.6, 377.6 154.9 Q 377.1 155.3, 376.7 156.0 L 375.6 155.5 \" fill=\"#0000FF\"/>\n<path class=\"atom-7\" d=\"M 348.3 31.5 L 353.3 39.7 Q 353.8 40.5, 354.6 42.0 Q 355.4 43.4, 355.5 43.5 L 355.5 31.5 L 357.5 31.5 L 357.5 47.0 L 355.4 47.0 L 350.0 38.0 Q 349.3 37.0, 348.7 35.8 Q 348.0 34.6, 347.8 34.2 L 347.8 47.0 L 345.8 47.0 L 345.8 31.5 L 348.3 31.5 \" fill=\"#0000FF\"/>\n<path class=\"atom-7\" d=\"M 360.4 31.5 L 362.5 31.5 L 362.5 38.1 L 370.4 38.1 L 370.4 31.5 L 372.5 31.5 L 372.5 47.0 L 370.4 47.0 L 370.4 39.8 L 362.5 39.8 L 362.5 47.0 L 360.4 47.0 L 360.4 31.5 \" fill=\"#0000FF\"/>\n<path class=\"atom-7\" d=\"M 380.4 49.3 Q 381.4 49.6, 381.9 50.3 Q 382.3 50.9, 382.3 51.9 Q 382.3 52.8, 381.9 53.4 Q 381.5 54.1, 380.7 54.5 Q 379.9 54.8, 378.9 54.8 Q 377.8 54.8, 376.9 54.5 Q 376.1 54.1, 375.5 53.3 L 376.3 52.5 Q 376.9 53.2, 377.5 53.4 Q 378.0 53.7, 378.9 53.7 Q 379.8 53.7, 380.3 53.2 Q 380.9 52.7, 380.9 51.9 Q 380.9 50.9, 380.3 50.4 Q 379.7 49.9, 378.5 49.9 L 377.8 49.9 L 377.8 48.9 L 378.4 48.9 Q 379.5 48.9, 380.1 48.4 Q 380.7 47.9, 380.7 47.0 Q 380.7 46.3, 380.2 45.9 Q 379.7 45.5, 378.9 45.5 Q 378.0 45.5, 377.5 45.8 Q 377.0 46.1, 376.6 46.9 L 375.6 46.4 Q 375.9 45.5, 376.8 45.0 Q 377.7 44.4, 378.9 44.4 Q 380.4 44.4, 381.2 45.1 Q 382.1 45.8, 382.1 47.0 Q 382.1 47.8, 381.7 48.4 Q 381.2 49.0, 380.4 49.3 \" fill=\"#0000FF\"/>\n<path class=\"atom-7\" d=\"M 375.6 34.3 L 378.3 34.3 L 378.3 31.5 L 379.5 31.5 L 379.5 34.3 L 382.3 34.3 L 382.3 35.4 L 379.5 35.4 L 379.5 38.2 L 378.3 38.2 L 378.3 35.4 L 375.6 35.4 L 375.6 34.3 \" fill=\"#0000FF\"/>\n</svg>"
          },
          "metadata": {}
        },
        {
          "output_type": "stream",
          "name": "stdout",
          "text": [
            "Transition 1\n"
          ]
        },
        {
          "output_type": "display_data",
          "data": {
            "text/plain": [
              "<IPython.core.display.SVG object>"
            ],
            "image/svg+xml": "<svg xmlns=\"http://www.w3.org/2000/svg\" xmlns:rdkit=\"http://www.rdkit.org/xml\" xmlns:xlink=\"http://www.w3.org/1999/xlink\" version=\"1.1\" baseProfile=\"full\" xml:space=\"preserve\" width=\"600px\" height=\"200px\" viewBox=\"0 0 600 200\">\n<!-- END OF HEADER -->\n<rect style=\"opacity:1.0;fill:#FFFFFF;stroke:none\" width=\"600.0\" height=\"200.0\" x=\"0.0\" y=\"0.0\"> </rect>\n<ellipse cx=\"164.1\" cy=\"48.0\" rx=\"25.8\" ry=\"16.5\" class=\"atom-7\" style=\"fill:#FF7F7F;fill-rule:evenodd;stroke:#FF7F7F;stroke-width:1.0px;stroke-linecap:butt;stroke-linejoin:miter;stroke-opacity:1\"/>\n<path class=\"bond-0 atom-0 atom-1\" d=\"M 144.1,148.7 L 124.3,137.3\" style=\"fill:none;fill-rule:evenodd;stroke:#0000FF;stroke-width:2.0px;stroke-linecap:butt;stroke-linejoin:miter;stroke-opacity:1\"/>\n<path class=\"bond-0 atom-0 atom-1\" d=\"M 124.3,137.3 L 104.5,125.9\" style=\"fill:none;fill-rule:evenodd;stroke:#000000;stroke-width:2.0px;stroke-linecap:butt;stroke-linejoin:miter;stroke-opacity:1\"/>\n<path class=\"bond-1 atom-1 atom-2\" d=\"M 104.5,125.9 L 57.3,153.1\" style=\"fill:none;fill-rule:evenodd;stroke:#000000;stroke-width:2.0px;stroke-linecap:butt;stroke-linejoin:miter;stroke-opacity:1\"/>\n<path class=\"bond-1 atom-1 atom-2\" d=\"M 96.3,121.1 L 57.3,143.7\" style=\"fill:none;fill-rule:evenodd;stroke:#000000;stroke-width:2.0px;stroke-linecap:butt;stroke-linejoin:miter;stroke-opacity:1\"/>\n<path class=\"bond-2 atom-2 atom-3\" d=\"M 57.3,153.1 L 10.0,125.9\" style=\"fill:none;fill-rule:evenodd;stroke:#000000;stroke-width:2.0px;stroke-linecap:butt;stroke-linejoin:miter;stroke-opacity:1\"/>\n<path class=\"bond-3 atom-3 atom-4\" d=\"M 10.0,125.9 L 10.0,71.3\" style=\"fill:none;fill-rule:evenodd;stroke:#000000;stroke-width:2.0px;stroke-linecap:butt;stroke-linejoin:miter;stroke-opacity:1\"/>\n<path class=\"bond-3 atom-3 atom-4\" d=\"M 18.2,121.1 L 18.2,76.1\" style=\"fill:none;fill-rule:evenodd;stroke:#000000;stroke-width:2.0px;stroke-linecap:butt;stroke-linejoin:miter;stroke-opacity:1\"/>\n<path class=\"bond-4 atom-4 atom-5\" d=\"M 10.0,71.3 L 57.3,44.1\" style=\"fill:none;fill-rule:evenodd;stroke:#000000;stroke-width:2.0px;stroke-linecap:butt;stroke-linejoin:miter;stroke-opacity:1\"/>\n<path class=\"bond-5 atom-5 atom-6\" d=\"M 57.3,44.1 L 104.5,71.3\" style=\"fill:none;fill-rule:evenodd;stroke:#000000;stroke-width:2.0px;stroke-linecap:butt;stroke-linejoin:miter;stroke-opacity:1\"/>\n<path class=\"bond-5 atom-5 atom-6\" d=\"M 57.3,53.5 L 96.3,76.1\" style=\"fill:none;fill-rule:evenodd;stroke:#000000;stroke-width:2.0px;stroke-linecap:butt;stroke-linejoin:miter;stroke-opacity:1\"/>\n<path class=\"bond-6 atom-6 atom-7\" d=\"M 104.5,71.3 L 124.3,59.9\" style=\"fill:none;fill-rule:evenodd;stroke:#000000;stroke-width:2.0px;stroke-linecap:butt;stroke-linejoin:miter;stroke-opacity:1\"/>\n<path class=\"bond-6 atom-6 atom-7\" d=\"M 124.3,59.9 L 144.1,48.5\" style=\"fill:none;fill-rule:evenodd;stroke:#0000FF;stroke-width:2.0px;stroke-linecap:butt;stroke-linejoin:miter;stroke-opacity:1\"/>\n<path class=\"bond-7 atom-6 atom-1\" d=\"M 104.5,71.3 L 104.5,125.9\" style=\"fill:none;fill-rule:evenodd;stroke:#000000;stroke-width:2.0px;stroke-linecap:butt;stroke-linejoin:miter;stroke-opacity:1\"/>\n<path d=\"M 59.6,151.8 L 57.3,153.1 L 54.9,151.8\" style=\"fill:none;stroke:#000000;stroke-width:2.0px;stroke-linecap:butt;stroke-linejoin:miter;stroke-opacity:1;\"/>\n<path d=\"M 12.4,127.2 L 10.0,125.9 L 10.0,123.1\" style=\"fill:none;stroke:#000000;stroke-width:2.0px;stroke-linecap:butt;stroke-linejoin:miter;stroke-opacity:1;\"/>\n<path d=\"M 10.0,74.1 L 10.0,71.3 L 12.4,70.0\" style=\"fill:none;stroke:#000000;stroke-width:2.0px;stroke-linecap:butt;stroke-linejoin:miter;stroke-opacity:1;\"/>\n<path d=\"M 54.9,45.4 L 57.3,44.1 L 59.6,45.4\" style=\"fill:none;stroke:#000000;stroke-width:2.0px;stroke-linecap:butt;stroke-linejoin:miter;stroke-opacity:1;\"/>\n<path class=\"atom-0\" d=\"M 148.3 145.4 L 153.4 153.6 Q 153.9 154.4, 154.7 155.9 Q 155.5 157.3, 155.5 157.4 L 155.5 145.4 L 157.6 145.4 L 157.6 160.9 L 155.5 160.9 L 150.0 151.9 Q 149.4 150.9, 148.7 149.7 Q 148.1 148.5, 147.9 148.1 L 147.9 160.9 L 145.9 160.9 L 145.9 145.4 L 148.3 145.4 \" fill=\"#0000FF\"/>\n<path class=\"atom-0\" d=\"M 160.5 145.4 L 162.6 145.4 L 162.6 152.0 L 170.5 152.0 L 170.5 145.4 L 172.6 145.4 L 172.6 160.9 L 170.5 160.9 L 170.5 153.7 L 162.6 153.7 L 162.6 160.9 L 160.5 160.9 L 160.5 145.4 \" fill=\"#0000FF\"/>\n<path class=\"atom-0\" d=\"M 175.6 160.3 Q 176.0 159.3, 176.9 158.8 Q 177.8 158.3, 179.0 158.3 Q 180.6 158.3, 181.4 159.1 Q 182.3 159.9, 182.3 161.4 Q 182.3 162.9, 181.2 164.3 Q 180.1 165.8, 177.8 167.4 L 182.5 167.4 L 182.5 168.6 L 175.6 168.6 L 175.6 167.6 Q 177.5 166.3, 178.6 165.2 Q 179.8 164.2, 180.3 163.3 Q 180.9 162.4, 180.9 161.5 Q 180.9 160.5, 180.4 160.0 Q 179.9 159.4, 179.0 159.4 Q 178.2 159.4, 177.7 159.7 Q 177.1 160.1, 176.7 160.8 L 175.6 160.3 \" fill=\"#0000FF\"/>\n<path class=\"atom-7\" d=\"M 148.3 36.4 L 153.4 44.5 Q 153.9 45.3, 154.7 46.8 Q 155.5 48.3, 155.5 48.3 L 155.5 36.4 L 157.6 36.4 L 157.6 51.8 L 155.5 51.8 L 150.0 42.9 Q 149.4 41.8, 148.7 40.6 Q 148.1 39.4, 147.9 39.0 L 147.9 51.8 L 145.9 51.8 L 145.9 36.4 L 148.3 36.4 \" fill=\"#0000FF\"/>\n<path class=\"atom-7\" d=\"M 160.5 36.4 L 162.6 36.4 L 162.6 42.9 L 170.5 42.9 L 170.5 36.4 L 172.6 36.4 L 172.6 51.8 L 170.5 51.8 L 170.5 44.7 L 162.6 44.7 L 162.6 51.8 L 160.5 51.8 L 160.5 36.4 \" fill=\"#0000FF\"/>\n<path class=\"atom-7\" d=\"M 180.4 54.1 Q 181.4 54.4, 181.9 55.1 Q 182.4 55.7, 182.4 56.7 Q 182.4 57.6, 182.0 58.3 Q 181.5 58.9, 180.7 59.3 Q 179.9 59.7, 178.9 59.7 Q 177.8 59.7, 177.0 59.3 Q 176.2 58.9, 175.5 58.1 L 176.4 57.3 Q 177.0 58.0, 177.5 58.2 Q 178.1 58.5, 178.9 58.5 Q 179.8 58.5, 180.4 58.0 Q 180.9 57.5, 180.9 56.7 Q 180.9 55.7, 180.4 55.2 Q 179.8 54.7, 178.5 54.7 L 177.8 54.7 L 177.8 53.7 L 178.4 53.7 Q 179.6 53.7, 180.1 53.2 Q 180.7 52.7, 180.7 51.8 Q 180.7 51.2, 180.2 50.8 Q 179.8 50.4, 178.9 50.4 Q 178.1 50.4, 177.5 50.7 Q 177.0 51.0, 176.6 51.7 L 175.6 51.2 Q 176.0 50.3, 176.8 49.8 Q 177.7 49.2, 178.9 49.2 Q 180.4 49.2, 181.3 49.9 Q 182.2 50.6, 182.2 51.8 Q 182.2 52.6, 181.7 53.2 Q 181.3 53.8, 180.4 54.1 \" fill=\"#0000FF\"/>\n<path class=\"atom-7\" d=\"M 175.6 39.1 L 178.3 39.1 L 178.3 36.3 L 179.5 36.3 L 179.5 39.1 L 182.3 39.1 L 182.3 40.2 L 179.5 40.2 L 179.5 43.1 L 178.3 43.1 L 178.3 40.2 L 175.6 40.2 L 175.6 39.1 \" fill=\"#0000FF\"/>\n<ellipse cx=\"364.1\" cy=\"47.9\" rx=\"25.9\" ry=\"16.4\" class=\"atom-7\" style=\"fill:#FF7F7F;fill-rule:evenodd;stroke:#FF7F7F;stroke-width:1.0px;stroke-linecap:butt;stroke-linejoin:miter;stroke-opacity:1\"/>\n<path class=\"bond-0 atom-0 atom-1\" d=\"M 344.0,148.6 L 324.2,137.2\" style=\"fill:none;fill-rule:evenodd;stroke:#0000FF;stroke-width:2.0px;stroke-linecap:butt;stroke-linejoin:miter;stroke-opacity:1\"/>\n<path class=\"bond-0 atom-0 atom-1\" d=\"M 324.2,137.2 L 304.4,125.8\" style=\"fill:none;fill-rule:evenodd;stroke:#000000;stroke-width:2.0px;stroke-linecap:butt;stroke-linejoin:miter;stroke-opacity:1\"/>\n<path class=\"bond-1 atom-1 atom-2\" d=\"M 304.4,125.8 L 257.2,153.1\" style=\"fill:none;fill-rule:evenodd;stroke:#000000;stroke-width:2.0px;stroke-linecap:butt;stroke-linejoin:miter;stroke-opacity:1\"/>\n<path class=\"bond-1 atom-1 atom-2\" d=\"M 296.3,121.1 L 257.2,143.6\" style=\"fill:none;fill-rule:evenodd;stroke:#000000;stroke-width:2.0px;stroke-linecap:butt;stroke-linejoin:miter;stroke-opacity:1\"/>\n<path class=\"bond-2 atom-2 atom-3\" d=\"M 257.2,153.1 L 210.0,125.8\" style=\"fill:none;fill-rule:evenodd;stroke:#000000;stroke-width:2.0px;stroke-linecap:butt;stroke-linejoin:miter;stroke-opacity:1\"/>\n<path class=\"bond-3 atom-3 atom-4\" d=\"M 210.0,125.8 L 210.0,71.3\" style=\"fill:none;fill-rule:evenodd;stroke:#000000;stroke-width:2.0px;stroke-linecap:butt;stroke-linejoin:miter;stroke-opacity:1\"/>\n<path class=\"bond-3 atom-3 atom-4\" d=\"M 218.2,121.1 L 218.2,76.0\" style=\"fill:none;fill-rule:evenodd;stroke:#000000;stroke-width:2.0px;stroke-linecap:butt;stroke-linejoin:miter;stroke-opacity:1\"/>\n<path class=\"bond-4 atom-4 atom-5\" d=\"M 210.0,71.3 L 257.2,44.0\" style=\"fill:none;fill-rule:evenodd;stroke:#000000;stroke-width:2.0px;stroke-linecap:butt;stroke-linejoin:miter;stroke-opacity:1\"/>\n<path class=\"bond-5 atom-5 atom-6\" d=\"M 257.2,44.0 L 304.4,71.3\" style=\"fill:none;fill-rule:evenodd;stroke:#000000;stroke-width:2.0px;stroke-linecap:butt;stroke-linejoin:miter;stroke-opacity:1\"/>\n<path class=\"bond-5 atom-5 atom-6\" d=\"M 257.2,53.5 L 296.3,76.0\" style=\"fill:none;fill-rule:evenodd;stroke:#000000;stroke-width:2.0px;stroke-linecap:butt;stroke-linejoin:miter;stroke-opacity:1\"/>\n<path class=\"bond-6 atom-6 atom-7\" d=\"M 304.4,71.3 L 324.2,59.9\" style=\"fill:none;fill-rule:evenodd;stroke:#000000;stroke-width:2.0px;stroke-linecap:butt;stroke-linejoin:miter;stroke-opacity:1\"/>\n<path class=\"bond-6 atom-6 atom-7\" d=\"M 324.2,59.9 L 344.0,48.4\" style=\"fill:none;fill-rule:evenodd;stroke:#0000FF;stroke-width:2.0px;stroke-linecap:butt;stroke-linejoin:miter;stroke-opacity:1\"/>\n<path class=\"bond-7 atom-6 atom-1\" d=\"M 304.4,71.3 L 304.4,125.8\" style=\"fill:none;fill-rule:evenodd;stroke:#000000;stroke-width:2.0px;stroke-linecap:butt;stroke-linejoin:miter;stroke-opacity:1\"/>\n<path d=\"M 259.6,151.7 L 257.2,153.1 L 254.9,151.7\" style=\"fill:none;stroke:#000000;stroke-width:2.0px;stroke-linecap:butt;stroke-linejoin:miter;stroke-opacity:1;\"/>\n<path d=\"M 212.4,127.2 L 210.0,125.8 L 210.0,123.1\" style=\"fill:none;stroke:#000000;stroke-width:2.0px;stroke-linecap:butt;stroke-linejoin:miter;stroke-opacity:1;\"/>\n<path d=\"M 210.0,74.0 L 210.0,71.3 L 212.4,69.9\" style=\"fill:none;stroke:#000000;stroke-width:2.0px;stroke-linecap:butt;stroke-linejoin:miter;stroke-opacity:1;\"/>\n<path d=\"M 254.9,45.4 L 257.2,44.0 L 259.6,45.4\" style=\"fill:none;stroke:#000000;stroke-width:2.0px;stroke-linecap:butt;stroke-linejoin:miter;stroke-opacity:1;\"/>\n<path class=\"atom-0\" d=\"M 348.3 145.3 L 353.3 153.5 Q 353.8 154.3, 354.6 155.8 Q 355.4 157.3, 355.5 157.3 L 355.5 145.3 L 357.5 145.3 L 357.5 160.8 L 355.4 160.8 L 350.0 151.8 Q 349.3 150.8, 348.7 149.6 Q 348.0 148.4, 347.8 148.0 L 347.8 160.8 L 345.8 160.8 L 345.8 145.3 L 348.3 145.3 \" fill=\"#0000FF\"/>\n<path class=\"atom-0\" d=\"M 360.5 145.3 L 362.6 145.3 L 362.6 151.9 L 370.5 151.9 L 370.5 145.3 L 372.6 145.3 L 372.6 160.8 L 370.5 160.8 L 370.5 153.7 L 362.6 153.7 L 362.6 160.8 L 360.5 160.8 L 360.5 145.3 \" fill=\"#0000FF\"/>\n<path class=\"atom-0\" d=\"M 375.6 160.2 Q 376.0 159.3, 376.8 158.7 Q 377.7 158.2, 379.0 158.2 Q 380.5 158.2, 381.4 159.0 Q 382.2 159.9, 382.2 161.4 Q 382.2 162.9, 381.1 164.3 Q 380.0 165.7, 377.7 167.4 L 382.4 167.4 L 382.4 168.5 L 375.6 168.5 L 375.6 167.5 Q 377.5 166.2, 378.6 165.2 Q 379.7 164.2, 380.3 163.3 Q 380.8 162.4, 380.8 161.4 Q 380.8 160.4, 380.3 159.9 Q 379.8 159.4, 379.0 159.4 Q 378.2 159.4, 377.6 159.7 Q 377.1 160.0, 376.7 160.7 L 375.6 160.2 \" fill=\"#0000FF\"/>\n<path class=\"atom-7\" d=\"M 348.3 36.3 L 353.3 44.5 Q 353.8 45.3, 354.6 46.7 Q 355.4 48.2, 355.5 48.3 L 355.5 36.3 L 357.5 36.3 L 357.5 51.7 L 355.4 51.7 L 350.0 42.8 Q 349.3 41.7, 348.7 40.5 Q 348.0 39.3, 347.8 39.0 L 347.8 51.7 L 345.8 51.7 L 345.8 36.3 L 348.3 36.3 \" fill=\"#0000FF\"/>\n<path class=\"atom-7\" d=\"M 360.5 36.3 L 362.6 36.3 L 362.6 42.9 L 370.5 42.9 L 370.5 36.3 L 372.6 36.3 L 372.6 51.7 L 370.5 51.7 L 370.5 44.6 L 362.6 44.6 L 362.6 51.7 L 360.5 51.7 L 360.5 36.3 \" fill=\"#0000FF\"/>\n<path class=\"atom-7\" d=\"M 375.6 51.2 Q 376.0 50.2, 376.8 49.7 Q 377.7 49.1, 379.0 49.1 Q 380.5 49.1, 381.4 50.0 Q 382.2 50.8, 382.2 52.3 Q 382.2 53.8, 381.1 55.2 Q 380.0 56.6, 377.7 58.3 L 382.4 58.3 L 382.4 59.5 L 375.6 59.5 L 375.6 58.5 Q 377.5 57.1, 378.6 56.1 Q 379.7 55.1, 380.3 54.2 Q 380.8 53.3, 380.8 52.4 Q 380.8 51.4, 380.3 50.8 Q 379.8 50.3, 379.0 50.3 Q 378.2 50.3, 377.6 50.6 Q 377.1 51.0, 376.7 51.7 L 375.6 51.2 \" fill=\"#0000FF\"/>\n</svg>"
          },
          "metadata": {}
        }
      ]
    },
    {
      "cell_type": "code",
      "source": [
        "state_transitions"
      ],
      "metadata": {
        "colab": {
          "base_uri": "https://localhost:8080/"
        },
        "id": "geoXRdMEShJp",
        "outputId": "a48b34c8-1352-4c62-d28e-9bc222030cbd"
      },
      "execution_count": 17,
      "outputs": [
        {
          "output_type": "execute_result",
          "data": {
            "text/plain": [
              "[(0,\n",
              "  1,\n",
              "  <rdkit.Chem.rdchem.Mol at 0x7e442bf258c0>,\n",
              "  <rdkit.Chem.rdchem.Mol at 0x7e442bf257e0>),\n",
              " (1,\n",
              "  2,\n",
              "  <rdkit.Chem.rdchem.Mol at 0x7e442bf257e0>,\n",
              "  <rdkit.Chem.rdchem.Mol at 0x7e442bf25850>)]"
            ]
          },
          "metadata": {},
          "execution_count": 17
        }
      ]
    },
    {
      "cell_type": "code",
      "source": [
        "#@title Provide pKa values for transitions between protonated states\n",
        "#@markdown Please, provide pKa values for protonated states.\n",
        "pka_0 = 2 #@param {type:\"number\"}\n",
        "pka_1 = 3 #@param {type:\"number\"}\n",
        "pka_2 = 4 #@param {type:\"number\"}\n",
        "pka_3 = 5 #@param {type:\"number\"}\n",
        "pka_4 = 0.0 #@param {type:\"number\"}\n",
        "pka_5 = 0.0 #@param {type:\"number\"}\n",
        "pka_6 = 0.0 #@param {type:\"number\"}\n",
        "pka_7 = 0.0 #@param {type:\"number\"}\n",
        "pka_8 = 0.0 #@param {type:\"number\"}\n",
        "pka_9 = 0.0 #@param {type:\"number\"}\n",
        "\n",
        "pkas = [\n",
        "    pka_0, pka_1, pka_2, pka_3, pka_4,\n",
        "    pka_5, pka_6, pka_7, pka_8, pka_9,\n",
        "][:len(state_transitions)]"
      ],
      "metadata": {
        "id": "Qg4YAxSh-Ibw"
      },
      "execution_count": 18,
      "outputs": []
    },
    {
      "cell_type": "code",
      "source": [
        "states"
      ],
      "metadata": {
        "colab": {
          "base_uri": "https://localhost:8080/"
        },
        "id": "OTheYiivkbto",
        "outputId": "f130b9a4-acab-423c-9d3c-235e62161414"
      },
      "execution_count": 19,
      "outputs": [
        {
          "output_type": "execute_result",
          "data": {
            "text/plain": [
              "{0: (<rdkit.Chem.rdchem.Mol at 0x7e442bf258c0>, 1, 1, None, []),\n",
              " 1: (<rdkit.Chem.rdchem.Mol at 0x7e442bf257e0>,\n",
              "  2,\n",
              "  6,\n",
              "  ([0, 7], [[0, 0, 0, 0, 0, 0, 0, 1], [1, 0, 0, 0, 0, 0, 0, 0]]),\n",
              "  [0]),\n",
              " 2: (<rdkit.Chem.rdchem.Mol at 0x7e442bf25850>, 1, 9, None, [0, 7])}"
            ]
          },
          "metadata": {},
          "execution_count": 19
        }
      ]
    },
    {
      "cell_type": "code",
      "source": [
        "#@title Generate pKa matrix equation\n",
        "import numpy as np\n",
        "from sympy import Matrix, MatrixSymbol, symbols\n",
        "if len(mols) == 2 and all(states[x][2] == 1 for x in states):\n",
        "    print(f\"Single state should be used. pKa = {pkas[0]}\")\n",
        "else:\n",
        "    ph = symbols(\"pH\")\n",
        "    A = np.zeros((len(state_transitions) + 1, len(mols)), dtype = 'int')\n",
        "    b = MatrixSymbol('b', len(state_transitions) + 1, 1).as_explicit()\n",
        "    bsubs = {b[0,0]: ph}\n",
        "    for i, (tr, pka) in enumerate(zip(state_transitions, pkas)):\n",
        "        state1 = tr[0]\n",
        "        state2 = tr[1]\n",
        "        n = states[state1][2]\n",
        "        m = states[state2][2]\n",
        "        if Chem.GetFormalCharge(tr[2]) > Chem.GetFormalCharge(tr[3]):\n",
        "            A[i+1, state1] =-1\n",
        "            A[i+1, state2] = 1\n",
        "            bsubs[b[i + 1, 0]] = pka - np.log10(n/m) - ph\n",
        "        else:\n",
        "            A[i+1, state1] = 1\n",
        "            A[i+1, state2] = -1\n",
        "            bsubs[b[i + 1, 0]] = pka - np.log10(m/n) - ph\n",
        "    A[0, 0] = 1\n",
        "    m = Matrix(A)\n",
        "    _, inds = m.T.rref()\n",
        "    removed_inds = [x for x in range(len(state_transitions) + 1) if x not in inds]\n",
        "    Ar = A[list(inds)]\n",
        "    Ad = A[list(removed_inds)]\n",
        "    mr = Matrix(Ar)\n",
        "    md = Matrix(Ad)\n",
        "    p = MatrixSymbol('p', len(mols), 1).as_explicit()\n",
        "    b = b.subs(bsubs)\n",
        "    br = MatrixSymbol('br', len(inds), 1).as_explicit()\n",
        "    brsubs = {}\n",
        "    for i, idx in enumerate(inds):\n",
        "        brsubs[br[i, 0]] = b[idx, 0]\n",
        "\n",
        "    br = br.subs(brsubs)\n",
        "    br\n",
        "\n",
        "    sol = mr.solve(br)\n",
        "    print(\n",
        "        \"Recommended pKa values for protonations states, considering all previous \"\n",
        "        + \"input are:\"\n",
        "    )\n",
        "    for i in range(len(mols)):\n",
        "        print(f\"State {i}: pKa = {sol[i,0]}\")"
      ],
      "metadata": {
        "colab": {
          "base_uri": "https://localhost:8080/"
        },
        "id": "FPCRNZxE_EIz",
        "outputId": "69ba43f1-0aa2-4ac9-b45d-d7a2b71ad7a3"
      },
      "execution_count": 20,
      "outputs": [
        {
          "output_type": "stream",
          "name": "stdout",
          "text": [
            "Recommended pKa values for protonations states, considering all previous input are:\n",
            "State 0: pKa = pH\n",
            "State 1: pKa = 2.77815125038364\n",
            "State 2: pKa = 5.95424250943933 - pH\n"
          ]
        }
      ]
    },
    {
      "cell_type": "code",
      "source": [
        "#@title Topology and structure general behavior\n",
        "#@markdown Do you want us to generate topology and molecule structure with\n",
        "#@markdown Open Force Field? If no, you would need to provide topologies in\n",
        "#@markdown **.itp** format in the following steps.\n",
        "is_generation_needed = True #@param {type:\"boolean\"}\n",
        "ff_to_use = \"openff-2.1.0.offxml\" #@param {type:\"string\"}\n",
        "molecule_name = \"MOL\" #@param {type:\"string\"}\n",
        "_mols = []\n",
        "charges = []\n",
        "if is_generation_needed:\n",
        "    ff = ForceField(ff_to_use)\n",
        "    for _i, m in enumerate(mols):\n",
        "        _m = Molecule.from_rdkit(m)\n",
        "        _m.generate_conformers()\n",
        "        interchange = ff.create_interchange(_m.to_topology())\n",
        "        charges.append(\n",
        "            [a.partial_charge.magnitude for a in interchange.topology.atoms]\n",
        "        )\n",
        "        _mols.append(_m.to_rdkit())\n",
        "        if _i == 0:\n",
        "            interchange.to_gromacs(f\"molecule_{_i}\")\n",
        "        else:\n",
        "            interchange.to_top(f\"molecule_{_i}.top\")\n",
        "\n",
        "_base_mol = _mols[0]\n",
        "charge_table =[charges[0]]\n",
        "\n",
        "def _basic_treatment(\n",
        "        idx: int,\n",
        "        match1_list: list[int],\n",
        "        match2_list: list[int],\n",
        "        charge_list: list[float],\n",
        "    ) -> dict:\n",
        "    \"\"\"\n",
        "    \"\"\"\n",
        "    _tmp = {}\n",
        "    _tmp[0] = []\n",
        "    for i in range(len(charge_table[0])):\n",
        "        if i in match1_list:\n",
        "            _ch_idx = match2_list[match1_list.index(i)]\n",
        "            _tmp[0].append(charge_list[_ch_idx])\n",
        "        else:\n",
        "            _tmp[0].append(0)\n",
        "    return _tmp\n",
        "\n",
        "def _only_mhs_treatment(\n",
        "        idx: int,\n",
        "        match1_list: list[int],\n",
        "        match2_list: list[int],\n",
        "        charge_list: list[float],\n",
        "    ) -> dict:\n",
        "    \"\"\"\n",
        "    \"\"\"\n",
        "    _tmp = {_s: [] for _s in range(states[idx+1][2])}\n",
        "\n",
        "    mhs = states[idx+1][4]\n",
        "    # we search for hydrogens attached to any of mh sites\n",
        "    hs = {}\n",
        "    for i in mhs:\n",
        "        hs[i] = []\n",
        "        _a = _base_mol.GetAtomWithIdx(i)\n",
        "        for _b in _a.GetBonds():\n",
        "            _oi = _b.GetBeginAtomIdx() if _b.GetBeginAtomIdx() != i else _b.GetEndAtomIdx()\n",
        "            if _base_mol.GetAtomWithIdx(_oi).GetSymbol() == \"H\":\n",
        "                hs[i].append(_oi)\n",
        "\n",
        "    # Generate combinations for states\n",
        "    import itertools\n",
        "    mh_nstates = [len(hs[i]) for i in hs]\n",
        "    mh_h_states = list(itertools.product(*[range(x) for x in mh_nstates]))\n",
        "    assert len(mh_h_states) == states[idx+1][2], \"Incorrect number of states\"\n",
        "    def _is_mhh(idx: int) -> int:\n",
        "        \"\"\"\n",
        "        Check if atom is a hydrogen connected to mh atom.\n",
        "        \"\"\"\n",
        "        for _idx in mhs:\n",
        "            if idx in hs[_idx]:\n",
        "                return _idx\n",
        "            else:\n",
        "                continue\n",
        "        return -1\n",
        "\n",
        "    for i in range(len(charge_table[0])):\n",
        "        _mh_idx = _is_mhh(i)\n",
        "        if _mh_idx >= 0:\n",
        "            # We are treating mh hydrogen\n",
        "            # Get hydrogen charges in deprotonated molecule\n",
        "            _ch = []\n",
        "            for _j in hs[_mh_idx]:\n",
        "                if _j in match1_list:\n",
        "                    _ch_idx = match2_list[match1_list.index(_j)]\n",
        "                    _ch.append(charge_list[_ch_idx])\n",
        "            # Check that all charges are identical\n",
        "            for _ch1 in _ch[1:]:\n",
        "                assert np.abs(_ch[0] - _ch1) < 1e-5, \"Multiple hydrogens at the same site are expexted to have similar charges\"\n",
        "            for _idx, _s in enumerate(mh_h_states):\n",
        "                _ha_idx = mhs.index(_mh_idx)\n",
        "                if hs[_mh_idx].index(i) == _s[_ha_idx]:\n",
        "                    _tmp[_idx].append(0)\n",
        "                else:\n",
        "                    _tmp[_idx].append(_ch[0])\n",
        "            continue\n",
        "        if i in match1_list:\n",
        "            # We are treating any other atom\n",
        "            for _s in _tmp:\n",
        "                _ch_idx = match2_list[match1_list.index(i)]\n",
        "                _tmp[_s].append(charge_list[_ch_idx])\n",
        "            continue\n",
        "        # In all other cases we write 0\n",
        "        # It can be a singe hydrogen, for instance of the other site\n",
        "        for _s in _tmp:\n",
        "            _tmp[0].append(0)\n",
        "\n",
        "    return _tmp\n",
        "\n",
        "def _only_sym_treatment(\n",
        "        idx: int,  # molecule index\n",
        "        match1_list: list[int],  # mcs in the highest protonated state\n",
        "        match2_list: list[int],  # mcs at the current state\n",
        "        charge_list: list[float],  # current charges from top\n",
        "    ) -> dict:\n",
        "    \"\"\"\n",
        "    \"\"\"\n",
        "    # dictionary of charge lists\n",
        "    _tmp = {_s: [] for _s in range(states[idx+1][2])}\n",
        "\n",
        "    _ss_atoms = states[idx+1][3][0]  # symmetrical states\n",
        "    _formal_charges = states[idx+1][3][1]  # formal charges in the symmetrical states\n",
        "    # we generate list of hydrogens connected to symmetrical atoms\n",
        "    hs = {}\n",
        "    for i in _ss_atoms:\n",
        "        hs[i] = []\n",
        "        _a = _base_mol.GetAtomWithIdx(i)\n",
        "        for _b in _a.GetBonds():\n",
        "            _oi = _b.GetBeginAtomIdx() if _b.GetBeginAtomIdx() != i else _b.GetEndAtomIdx()\n",
        "            if _base_mol.GetAtomWithIdx(_oi).GetSymbol() == \"H\":\n",
        "                hs[i].append(_oi)\n",
        "\n",
        "    def _is_ss_h(idx: int) -> int:\n",
        "        \"\"\"\n",
        "        Check if atom is a hydrogen connected to symmetrical atom.\n",
        "        \"\"\"\n",
        "        for _idx in _ss_atoms:\n",
        "            if idx in hs[_idx]:\n",
        "                return _idx\n",
        "            else:\n",
        "                continue\n",
        "        return -1\n",
        "\n",
        "    # We now iterate over charge table and fill charges for each state\n",
        "    for i in range(len(charge_table[0])):\n",
        "        _ss_idx = _is_ss_h(i)\n",
        "        # If this is hydrogen connected to symmetrical state\n",
        "        if _ss_idx >= 0:\n",
        "            # We are treating ss hydrogen\n",
        "            # hydrogens can only be attached in the protonated state\n",
        "            # We can only have one bond to h atom.\n",
        "            _ch = -100\n",
        "            for _si in symmetrical_sites[_ss_idx]:\n",
        "                if _si in hs:\n",
        "                    _j = hs[_si][0]\n",
        "                else:\n",
        "                    continue\n",
        "                if _j in match1_list:\n",
        "                    _ch_idx = match2_list[match1_list.index(_j)]\n",
        "                    _ch = charge_list[_ch_idx]\n",
        "                    break\n",
        "            assert _ch > -2, \"Charge not found\"\n",
        "            # This is a list of formal charges for the heavy atom connected to a\n",
        "            # hydrogen of interest\n",
        "            _f_charge_list = [x[_ss_idx] for x in _formal_charges]\n",
        "            _max_formal_charge = np.max(np.array(_f_charge_list))\n",
        "            _min_formal_charge = np.min(np.array(_f_charge_list))\n",
        "            assert all(x in [_max_formal_charge, _min_formal_charge] for x in _f_charge_list), \"Only two formal charges are possible\"\n",
        "\n",
        "            _max_charge = np.max(np.array([_ch, 0]))\n",
        "            _min_charge = np.min(np.array([_ch, 0]))\n",
        "            for _idx, _fc in enumerate(_f_charge_list):\n",
        "                if _fc == _max_formal_charge:\n",
        "                    _tmp[_idx].append(_max_charge)\n",
        "                else:\n",
        "                    _tmp[_idx].append(_min_charge)\n",
        "            continue\n",
        "        # Else, if this is an atom in the match list, but not hydrogen\n",
        "        # TODO: check that ha atom charges are correct\n",
        "        if i in match1_list:\n",
        "            # We are treating any other atom\n",
        "            for _s in _tmp:\n",
        "                _ch_idx = match2_list[match1_list.index(i)]\n",
        "                _tmp[_s].append(charge_list[_ch_idx])\n",
        "            continue\n",
        "        # In all other cases we write 0\n",
        "        # It can be a singe hydrogen, for instance of the other site\n",
        "        for _s in _tmp:\n",
        "            _tmp[0].append(0)\n",
        "\n",
        "    return _tmp\n",
        "\n",
        "def _ss_mhs_treatment(\n",
        "        idx: int,\n",
        "        match1_list: list[int],\n",
        "        match2_list: list[int],\n",
        "        charge_list: list[float],\n",
        "    ) -> dict:\n",
        "    \"\"\"\n",
        "    The plan here is the following:\n",
        "        1. We iterate over possible combinations of formal charges and set\n",
        "            charges of titratable sites\n",
        "        2. We check if deprotonated sites have multiple hydrogens\n",
        "        3. For deprotonated sites with multiple hydrogens we do the same routine\n",
        "            as for mhs only\n",
        "    \"\"\"\n",
        "    _tmp = {_s: [] for _s in range(states[idx+1][2])}\n",
        "    print(_tmp)\n",
        "\n",
        "    _ss_atoms = states[idx+1][3][0]\n",
        "    _formal_charges = states[idx+1][3][1]\n",
        "    # we generate list of hydrogens connected to symmetrical atoms\n",
        "    hs = {}\n",
        "    for i in _ss_atoms:\n",
        "        hs[i] = []\n",
        "        _a = _base_mol.GetAtomWithIdx(i)\n",
        "        for _b in _a.GetBonds():\n",
        "            _oi = _b.GetBeginAtomIdx() if _b.GetBeginAtomIdx() != i else _b.GetEndAtomIdx()\n",
        "            if _base_mol.GetAtomWithIdx(_oi).GetSymbol() == \"H\":\n",
        "                hs[i].append(_oi)\n",
        "    print(hs)\n",
        "\n",
        "    def _is_ss_h(idx: int) -> int:\n",
        "        \"\"\"\n",
        "        Check if atom is a hydrogen connected to symmetrical atom.\n",
        "        \"\"\"\n",
        "        for _idx in _ss_atoms:\n",
        "            if idx in hs[_idx]:\n",
        "                return _idx\n",
        "            else:\n",
        "                continue\n",
        "        return -1\n",
        "\n",
        "    mhs = states[idx+1][4]\n",
        "    # we search for hydrogens attached to any of mh sites\n",
        "    hs_mh = {}\n",
        "    for i in mhs:\n",
        "        _sym_atoms = symmetrical_sites[i]\n",
        "        for j in _sym_atoms:\n",
        "            hs_mh[j] = []\n",
        "            _a = _base_mol.GetAtomWithIdx(j)\n",
        "            for _b in _a.GetBonds():\n",
        "                _oi = _b.GetBeginAtomIdx() if _b.GetBeginAtomIdx() != j else _b.GetEndAtomIdx()\n",
        "                if _base_mol.GetAtomWithIdx(_oi).GetSymbol() == \"H\":\n",
        "                    hs_mh[j].append(_oi)\n",
        "    print(mhs, hs_mh)\n",
        "\n",
        "    def _is_mhh(idx: int) -> int:\n",
        "        \"\"\"\n",
        "        Check if atom is a hydrogen connected to mh atom.\n",
        "        \"\"\"\n",
        "        for _idx in hs_mh:\n",
        "            if idx in hs_mh[_idx]:\n",
        "                return _idx\n",
        "            else:\n",
        "                continue\n",
        "        return -1\n",
        "\n",
        "    def _is_ss_mh_h(idx: int) -> int:\n",
        "        \"\"\"\n",
        "        Check if atom is a hydrogen connected to a symmetrical and mh atom.\n",
        "        \"\"\"\n",
        "        if _is_mhh(idx) == _is_ss_h(idx):\n",
        "            return _is_mhh(idx)\n",
        "        return -1\n",
        "\n",
        "    # n states per symmetry\n",
        "    _n_states_per_symm = states[idx+1][2] // states[idx+1][1]\n",
        "    assert _n_states_per_symm * states[idx+1][1] ==  states[idx+1][2], \"incorrect states partitioning\"\n",
        "    # We iterate of combinations of formal charges\n",
        "    # Each combination, can be treates as state with no symmetrical sites, but\n",
        "    # with multiple hydrogen sites\n",
        "    for _fch_idx, _f_charges_current in enumerate(_formal_charges):\n",
        "        # Now we look for formal charges that are different from those in the\n",
        "        # highest protonation state\n",
        "        _top_formal_charges = [x.GetFormalCharge() for x in pmol.GetAtoms()]\n",
        "        _diff_atoms = [\n",
        "            i for i in range(len(_f_charges_current))\n",
        "            if _f_charges_current[i] != _top_formal_charges[i]\n",
        "        ]\n",
        "        print(_diff_atoms)\n",
        "\n",
        "\n",
        "        # Generate combinations for states\n",
        "        import itertools\n",
        "        mh_nstates = [len(hs_mh[i]) for i in hs_mh if i in _diff_atoms]\n",
        "        mh_h_states = list(itertools.product(*[range(x) for x in mh_nstates]))\n",
        "        print(mh_nstates, mh_h_states)\n",
        "        assert len(mh_h_states) == _n_states_per_symm, \"Incorrect number of states\"\n",
        "\n",
        "        for i in range(len(charge_table[0])):\n",
        "            # we now iterate over all charge entries\n",
        "            _mh_idx = _is_mhh(i)\n",
        "            print(i, _mh_idx)\n",
        "            if _mh_idx >= 0 and _mh_idx in _diff_atoms:\n",
        "                # We are treating mh hydrogen\n",
        "                # Get hydrogen charges in deprotonated molecule\n",
        "                # If _mh_idx is a symmetrical atom, we need to also iterate\n",
        "                # over all symmetrical copies\n",
        "                _ch = {}\n",
        "                for _symm_idx in symmetrical_sites[_mh_idx]:\n",
        "                    _ch[_symm_idx] = []\n",
        "                    for _j in hs[_symm_idx]:\n",
        "                        if _j in match1_list:\n",
        "                            _ch_idx = match2_list[match1_list.index(_j)]\n",
        "                            _ch[_symm_idx].append(charge_list[_ch_idx])\n",
        "                # In the charge dictionary _ch we will have hydrogen charges\n",
        "                # for each hydrogen attached to each symmetrical site\n",
        "                # We then collect all charges, where the list is shorter and\n",
        "                # check that all of those charges are the same\n",
        "                # This should work, since smaller number of hydrogens correspond\n",
        "                # to a deprotonated site\n",
        "                _ch_lengths = np.array([[x, len(_ch[x])] for x in _ch])\n",
        "                assert np.max(_ch_lengths[:,1]) - np.min(_ch_lengths[:,1]) <= 1, \"We do not support double deprotonation of a single site\"\n",
        "                _ch_list = []\n",
        "                for _symm_idx, _len in _ch_lengths:\n",
        "                    if _len == np.min(_ch_lengths[:,1]):\n",
        "                        _ch_list.extend(_ch[_symm_idx])\n",
        "                # Check that all charges are identical\n",
        "                for _ch1 in _ch_list[1:]:\n",
        "                    assert np.abs(_ch_list[0] - _ch1) < 1e-5, \"Multiple hydrogens at the same site are expexted to have similar charges\"\n",
        "\n",
        "                # We create a list of titratable sites with mhs in the\n",
        "                # _diff_atoms list\n",
        "                _mhs = [x for x in _diff_atoms if x in hs_mh]\n",
        "                for _idx, _s in enumerate(mh_h_states):\n",
        "                    # we need to get the index of current hydrogen\n",
        "                    _ha_idx = _mhs.index(_mh_idx)\n",
        "                    if hs_mh[_mh_idx].index(i) == _s[_ha_idx]:\n",
        "                        _tmp[_fch_idx * _n_states_per_symm + _idx].append(0)\n",
        "                    else:\n",
        "                        _tmp[\n",
        "                            _fch_idx * _n_states_per_symm + _idx\n",
        "                        ].append(_ch_list[0])\n",
        "            continue\n",
        "        \"\"\"\n",
        "    for i in range(len(charge_table[0])):\n",
        "        _mh_idx = _is_mhh(i)\n",
        "        if _mh_idx >= 0:\n",
        "            # We are treating mh hydrogen\n",
        "            # Get hydrogen charges in deprotonated molecule\n",
        "            _ch = []\n",
        "            for _j in hs[_mh_idx]:\n",
        "                if _j in match1_list:\n",
        "                    _ch_idx = match2_list[match1_list.index(_j)]\n",
        "                    _ch.append(charge_list[_ch_idx])\n",
        "            # Check that all charges are identical\n",
        "            for _ch1 in _ch[1:]:\n",
        "                assert np.abs(_ch[0] - _ch1) < 1e-5, \"Multiple hydrogens at the same site are expexted to have similar charges\"\n",
        "            for _idx, _s in enumerate(mh_h_states):\n",
        "                _ha_idx = mhs.index(_mh_idx)\n",
        "                if hs[_mh_idx].index(i) == _s[_ha_idx]:\n",
        "                    _tmp[_idx].append(0)\n",
        "                else:\n",
        "                    _tmp[_idx].append(_ch[0])\n",
        "            continue\n",
        "        if i in match1_list:\n",
        "            # We are treating any other atom\n",
        "            for _s in _tmp:\n",
        "                _ch_idx = match2_list[match1_list.index(i)]\n",
        "                _tmp[_s].append(charge_list[_ch_idx])\n",
        "            continue\n",
        "        # In all other cases we write 0\n",
        "        # It can be a singe hydrogen, for instance of the other site\n",
        "        for _s in _tmp:\n",
        "            _tmp[0].append(0)\n",
        "        \"\"\"\n",
        "\n",
        "    return _tmp\n",
        "\n",
        "_charge_table_basic = [charges[0]]\n",
        "# We iterate over molecules and table of charges\n",
        "for _i, (_m, _c) in enumerate(zip(_mols[1:], charges[1:])):\n",
        "    mcs = rdFMCS.FindMCS([_base_mol, _m])\n",
        "    # We perform mcs search\n",
        "    mcs_mol = Chem.MolFromSmarts(mcs.smartsString)\n",
        "    match1 = _base_mol.GetSubstructMatch(mcs_mol)\n",
        "    match2 = _m.GetSubstructMatch(mcs_mol)\n",
        "\n",
        "    _tmp_to_cmp = _basic_treatment(_i, match1, match2, _c)\n",
        "    # No symmetry sites and no mhs sites\n",
        "    if states[_i+1][2] == 1:\n",
        "        _tmp = _basic_treatment(_i, match1, match2, _c)\n",
        "    # Only mhs are present\n",
        "    elif not states[_i+1][3]:\n",
        "        _tmp = _only_mhs_treatment(_i, match1, match2, _c)\n",
        "    elif not states[_i+1][4]:\n",
        "        _tmp = _only_sym_treatment(_i, match1, match2, _c)\n",
        "    else:\n",
        "        _tmp = _ss_mhs_treatment(_i, match1, match2, _c)\n",
        "        print(_tmp)\n",
        "    for x in _tmp:\n",
        "        charge_table.append(_tmp[x])\n",
        "    for x in _tmp_to_cmp:\n",
        "        _charge_table_basic.append(_tmp_to_cmp[x])\n",
        "\"\"\"\n",
        "print(np.array(charge_table).T)\n",
        "assert all(x in charge_table for x in _charge_table_basic), \"All simple charge lists should be in complex\"\n",
        "\"\"\""
      ],
      "metadata": {
        "colab": {
          "base_uri": "https://localhost:8080/",
          "height": 864
        },
        "id": "JsdLCCMpX4LS",
        "outputId": "b6622399-98c3-4223-ac48-7150e99bb27b"
      },
      "execution_count": 45,
      "outputs": [
        {
          "output_type": "stream",
          "name": "stdout",
          "text": [
            "{0: [], 1: [], 2: [], 3: [], 4: [], 5: []}\n",
            "{0: [8, 9, 10], 7: [15, 16, 17]}\n",
            "[0] {0: [8, 9, 10], 7: [15, 16, 17]}\n",
            "[0]\n",
            "[3] [(0,), (1,), (2,)]\n",
            "0 -1\n",
            "1 -1\n",
            "2 -1\n",
            "3 -1\n",
            "4 -1\n",
            "5 -1\n",
            "6 -1\n",
            "7 -1\n",
            "8 0\n",
            "9 0\n",
            "10 0\n",
            "11 -1\n",
            "12 -1\n",
            "13 -1\n",
            "14 -1\n",
            "15 7\n",
            "16 7\n",
            "17 7\n",
            "[7]\n",
            "[3] [(0,), (1,), (2,)]\n",
            "0 -1\n",
            "1 -1\n",
            "2 -1\n",
            "3 -1\n",
            "4 -1\n",
            "5 -1\n",
            "6 -1\n",
            "7 -1\n",
            "8 0\n",
            "9 0\n",
            "10 0\n",
            "11 -1\n",
            "12 -1\n",
            "13 -1\n",
            "14 -1\n",
            "15 7\n",
            "16 7\n",
            "17 7\n",
            "{0: [0, 0.40468235294117644, 0.40468235294117644], 1: [0.40468235294117644, 0, 0.40468235294117644], 2: [0.40468235294117644, 0.40468235294117644, 0], 3: [0, 0.40468235294117644, 0.40468235294117644], 4: [0.40468235294117644, 0, 0.40468235294117644], 5: [0.40468235294117644, 0.40468235294117644, 0]}\n"
          ]
        },
        {
          "output_type": "execute_result",
          "data": {
            "text/plain": [
              "'\\nprint(np.array(charge_table).T)\\nassert all(x in charge_table for x in _charge_table_basic), \"All simple charge lists should be in complex\"\\n'"
            ],
            "application/vnd.google.colaboratory.intrinsic+json": {
              "type": "string"
            }
          },
          "metadata": {},
          "execution_count": 45
        }
      ]
    },
    {
      "cell_type": "code",
      "source": [
        "states"
      ],
      "metadata": {
        "colab": {
          "base_uri": "https://localhost:8080/"
        },
        "id": "Nb6wjPSEYBfR",
        "outputId": "f5216ac7-8619-4069-db0c-1ae0ad851230"
      },
      "execution_count": null,
      "outputs": [
        {
          "output_type": "execute_result",
          "data": {
            "text/plain": [
              "{0: (<rdkit.Chem.rdchem.Mol at 0x7c84789031b0>, 1, 1, None, []),\n",
              " 1: (<rdkit.Chem.rdchem.Mol at 0x7c8478903060>,\n",
              "  2,\n",
              "  6,\n",
              "  ([0, 7], [[0, 0, 0, 0, 0, 0, 0, 1], [1, 0, 0, 0, 0, 0, 0, 0]]),\n",
              "  [0]),\n",
              " 2: (<rdkit.Chem.rdchem.Mol at 0x7c84789030d0>, 1, 9, None, [0, 7])}"
            ]
          },
          "metadata": {},
          "execution_count": 59
        }
      ]
    },
    {
      "cell_type": "code",
      "source": [
        "a = [1,2,3,4,5]\n",
        "[i for i in a if i % 2 == 0]"
      ],
      "metadata": {
        "colab": {
          "base_uri": "https://localhost:8080/"
        },
        "id": "72x3Q3YdVCU5",
        "outputId": "78963e44-c63c-421e-cd7e-eddd092142a3"
      },
      "execution_count": 26,
      "outputs": [
        {
          "output_type": "execute_result",
          "data": {
            "text/plain": [
              "[2, 4]"
            ]
          },
          "metadata": {},
          "execution_count": 26
        }
      ]
    },
    {
      "cell_type": "code",
      "source": [
        "# We need to transform top to itp and also for the future\n",
        "# needs we need the functionality for parsing atoms and\n",
        "# bonds sections. This will allow us to generate molecular\n",
        "# graphs, which in turn, will allow us to compare molecules\n",
        "# and prepare data for constant pH.\n",
        "\"\"\"\n",
        "We need to support two types of behaviour:\n",
        "1. Easy case\n",
        "    We generate molecule our selves with OpenFF.\n",
        "    In this case we actually know what is the order atoms in\n",
        "    all protonation states and we can easily do matching.\n",
        "    We also know what to do with all possible states -\n",
        "    symmetrical and with multiple hydrogens. From created\n",
        "    interchanges and topology files we can get all the\n",
        "    partial charges and then using rdkit and we can generate\n",
        "    correct charge lists.\n",
        "    We start by implementing this.\n",
        "2. More complex case\n",
        "    The topologies are provided by the user. In this case\n",
        "    we:\n",
        "        (i) expect that the user will provide us not only\n",
        "            with the topologies, but also with structures\n",
        "            for all states\n",
        "        (ii) don't expect that the order of atoms is the\n",
        "            same as in RdKit.\n",
        "    We will reconstruct the order based on rdkit functionality\n",
        "    https://greglandrum.github.io/rdkit-blog/posts/2022-12-18-introducing-rdDetermineBonds.html\n",
        "\n",
        "    NOTE: in principal, the first case can also be treated\n",
        "    as the second. But we will add it later.\n",
        "In general, we need to read top/itp files (for now we always\n",
        "expect [ atoms ] section to be present) and assign charges\n",
        "in the order of mols[0]. For each state we additionally\n",
        "treap symmetrical states and multi-H states. Then we change\n",
        "the order according to the order in the first file.\n",
        "\"\"\"\n",
        "class GMX_topology:\n",
        "    \"\"\"\n",
        "    Reads gromacs topology file and parses some of the sections.\n",
        "\n",
        "    Parameters\n",
        "    ----------\n",
        "    gmx_top: str\n",
        "        GROMACS topology file\n",
        "\n",
        "    Attributes\n",
        "    ----------\n",
        "    blocks: Dict[str, str]\n",
        "        Dictionary of blocks available in the topology file\n",
        "    atoms: list\n",
        "\n",
        "    Methods\n",
        "    -------\n",
        "    parse_atoms()\n",
        "        Parse atom section if present. Generates at\n",
        "    parse_atomtypes()\n",
        "        Parse atomtypes section if present.\n",
        "    parse_bonds()\n",
        "        Parse bonds.\n",
        "\n",
        "\n",
        "    \"\"\"\n",
        "    def __init__(self, gmx_top):\n",
        "        self.blocks = {}\n",
        "        with open(gmx_top, \"r\") as top:\n",
        "            section = None\n",
        "            tmp = []\n",
        "            for line in top:\n",
        "                if line.strip().startswith(\"[\"):\n",
        "                    if section:\n",
        "                        if section in self.blocks:\n",
        "                            self.blocks[section] += [tmp]\n",
        "                        else:\n",
        "                            self.blocks[section] = [tmp]\n",
        "                    else:\n",
        "                        self.blocks[\"header\"] = [tmp]\n",
        "                    section = line.strip()[1:-1].strip()\n",
        "                    tmp = []\n",
        "                else:\n",
        "                    tmp += [line]\n",
        "            if section in self.blocks:\n",
        "                self.blocks[section] += [tmp]\n",
        "            else:\n",
        "                self.blocks[section] = [tmp]\n",
        "\n",
        "    def parse_atoms(self):\n",
        "        \"\"\"\n",
        "        Parse atoms block. As a result, creates atoms attribute, where for each\n",
        "        atom in the provided topology atomtype and index are stored\n",
        "        \"\"\"\n",
        "        if \"atoms\" not in self.blocks:\n",
        "            self.atoms = []\n",
        "        else:\n",
        "            self.atoms = []\n",
        "            for section in self.blocks[\"atoms\"]:\n",
        "                for line in section:\n",
        "                    # Skip non-informative lines\n",
        "                    if line.strip().startswith(\";\"):\n",
        "                        continue\n",
        "                    if line.strip().startswith(\"#\"):\n",
        "                        continue\n",
        "                    if not line.strip():\n",
        "                        continue\n",
        "                    self.atoms.append(\n",
        "                        (\n",
        "                            int(line.split()[0]) - 1,\n",
        "                            line.split()[1],\n",
        "                        )\n",
        "                    )\n",
        "\n",
        "    def parse_dihedrals(self):\n",
        "        \"\"\"\n",
        "        Parse dihedral section of the topology. Only dihdrals of type 1 and 9\n",
        "        with explicitly provided parameters are taken into account.\n",
        "        \"\"\"\n",
        "        if \"dihedrals\" not in self.blocks:\n",
        "            self.dihedrals = []\n",
        "        else:\n",
        "            self.dihedrals = []\n",
        "            for section in self.blocks[\"dihedrals\"]:\n",
        "                for line in section:\n",
        "                    # Skip non-informative lines\n",
        "                    if line.strip().startswith(\";\"):\n",
        "                        continue\n",
        "                    if line.strip().startswith(\"#\"):\n",
        "                        continue\n",
        "                    if not line.strip():\n",
        "                        continue\n",
        "                    if int(line.split()[4]) not in [1, 9]:\n",
        "                        continue\n",
        "                    if len(line.split()) < 8:\n",
        "                        continue\n",
        "                    self.dihedrals.append(\n",
        "                        (\n",
        "                            int(line.split()[0])-1,\n",
        "                            int(line.split()[1])-1,\n",
        "                            int(line.split()[2])-1,\n",
        "                            int(line.split()[3])-1,\n",
        "                            line\n",
        "                        )\n",
        "                    )\n",
        "\n",
        "    def parse_dihedraltypes(self):\n",
        "        \"\"\"\n",
        "        Parse dihedraltypes section in the topology if present. Creates\n",
        "        dihedraltypes attribute, where types and of 4 atoms are provided\n",
        "        and also the corresponding dihedral string (to ease the search in\n",
        "        topology file). All imporpers and Fourier dihedrals are for now\n",
        "        excluded. Thus, only type 1 and 9 are supported.\n",
        "        https://manual.gromacs.org/current/reference-manual/topologies/topology-file-formats.html\n",
        "\n",
        "        NOTE: We also should somehow iterate through difened torsions if they\n",
        "        are present.\n",
        "        \"\"\"\n",
        "        if \"dihedraltypes\" not in self.blocks:\n",
        "            self.dihedraltypes = []\n",
        "        else:\n",
        "            self.dihedraltypes = []\n",
        "            for section in self.blocks[\"dihedraltypes\"]:\n",
        "                for line in section:\n",
        "                    # Skip non-informative lines\n",
        "                    if line.strip().startswith(\";\"):\n",
        "                        continue\n",
        "                    if line.strip().startswith(\"#\"):\n",
        "                        continue\n",
        "                    if not line.strip():\n",
        "                        continue\n",
        "                    if int(line.split()[4]) not in [1, 9]:\n",
        "                        continue\n",
        "                    self.dihedraltypes.append(\n",
        "                        (\n",
        "                            line.split()[0],\n",
        "                            line.split()[1],\n",
        "                            line.split()[2],\n",
        "                            line.split()[3],\n",
        "                            line[:(line.rfind(line.split()[3]) + len(line.split()[3]))].strip()\n",
        "                        )\n",
        "                    )"
      ],
      "metadata": {
        "id": "h-x0GMr6xMgS"
      },
      "execution_count": null,
      "outputs": []
    },
    {
      "cell_type": "code",
      "source": [
        "#@title Provide topologies data\n",
        "#@markdown If parameterisation is needed, all included molecules will be\n",
        "#@markdown parameterized with open force field. If not, for all\n",
        "is_parameterisation_needed = True #@param {type:\"boolean\"}\n",
        "included_mols = [m for m,i in zip(mols, incl) if i]\n",
        "included_svgs = [s for s,i in zip(svgs, incl) if i]\n",
        "for i, s in enumerate(included_svgs):\n",
        "    print(f\"This is Molecule {i}\")\n",
        "    display(SVG(svgs[i]))\n",
        "\n",
        "parameters_for_molecule_0 = \"\" #@param {type:\"string\"}\n",
        "parameters_for_molecule_1 = \"\" #@param {type:\"string\"}\n",
        "parameters_for_molecule_2 = \"\" #@param {type:\"string\"}\n",
        "parameters_for_molecule_3 = \"\" #@param {type:\"string\"}\n",
        "parameters_for_molecule_4 = \"\" #@param {type:\"string\"}"
      ],
      "metadata": {
        "colab": {
          "base_uri": "https://localhost:8080/",
          "height": 464
        },
        "id": "dugAhjr3ex7W",
        "outputId": "cd8a07b4-a286-4dc3-bcf1-da5ee3de28a3"
      },
      "execution_count": null,
      "outputs": [
        {
          "output_type": "stream",
          "name": "stdout",
          "text": [
            "This is Molecule 0\n"
          ]
        },
        {
          "output_type": "display_data",
          "data": {
            "text/plain": [
              "<IPython.core.display.SVG object>"
            ],
            "image/svg+xml": "<svg xmlns=\"http://www.w3.org/2000/svg\" xmlns:rdkit=\"http://www.rdkit.org/xml\" xmlns:xlink=\"http://www.w3.org/1999/xlink\" version=\"1.1\" baseProfile=\"full\" xml:space=\"preserve\" width=\"250px\" height=\"200px\" viewBox=\"0 0 250 200\">\n<!-- END OF HEADER -->\n<rect style=\"opacity:1.0;fill:#FFFFFF;stroke:none\" width=\"250.0\" height=\"200.0\" x=\"0.0\" y=\"0.0\"> </rect>\n<path class=\"bond-0 atom-0 atom-1\" d=\"M 166.3,106.4 L 142.2,99.2\" style=\"fill:none;fill-rule:evenodd;stroke:#0000FF;stroke-width:2.0px;stroke-linecap:butt;stroke-linejoin:miter;stroke-opacity:1\"/>\n<path class=\"bond-0 atom-0 atom-1\" d=\"M 142.2,99.2 L 118.2,92.1\" style=\"fill:none;fill-rule:evenodd;stroke:#000000;stroke-width:2.0px;stroke-linecap:butt;stroke-linejoin:miter;stroke-opacity:1\"/>\n<path class=\"bond-1 atom-1 atom-2\" d=\"M 123.0,93.5 L 117.2,69.0\" style=\"fill:none;fill-rule:evenodd;stroke:#000000;stroke-width:2.0px;stroke-linecap:butt;stroke-linejoin:miter;stroke-opacity:1\"/>\n<path class=\"bond-1 atom-1 atom-2\" d=\"M 117.2,69.0 L 111.3,44.4\" style=\"fill:none;fill-rule:evenodd;stroke:#FF0000;stroke-width:2.0px;stroke-linecap:butt;stroke-linejoin:miter;stroke-opacity:1\"/>\n<path class=\"bond-1 atom-1 atom-2\" d=\"M 114.5,95.6 L 108.6,71.0\" style=\"fill:none;fill-rule:evenodd;stroke:#000000;stroke-width:2.0px;stroke-linecap:butt;stroke-linejoin:miter;stroke-opacity:1\"/>\n<path class=\"bond-1 atom-1 atom-2\" d=\"M 108.6,71.0 L 102.7,46.5\" style=\"fill:none;fill-rule:evenodd;stroke:#FF0000;stroke-width:2.0px;stroke-linecap:butt;stroke-linejoin:miter;stroke-opacity:1\"/>\n<path class=\"bond-2 atom-1 atom-3\" d=\"M 118.2,92.1 L 101.6,107.8\" style=\"fill:none;fill-rule:evenodd;stroke:#000000;stroke-width:2.0px;stroke-linecap:butt;stroke-linejoin:miter;stroke-opacity:1\"/>\n<path class=\"bond-2 atom-1 atom-3\" d=\"M 101.6,107.8 L 85.0,123.5\" style=\"fill:none;fill-rule:evenodd;stroke:#FF0000;stroke-width:2.0px;stroke-linecap:butt;stroke-linejoin:miter;stroke-opacity:1\"/>\n<path class=\"bond-3 atom-0 atom-4\" d=\"M 182.8,111.3 L 202.7,117.2\" style=\"fill:none;fill-rule:evenodd;stroke:#0000FF;stroke-width:2.0px;stroke-linecap:butt;stroke-linejoin:miter;stroke-opacity:1\"/>\n<path class=\"bond-3 atom-0 atom-4\" d=\"M 202.7,117.2 L 222.5,123.1\" style=\"fill:none;fill-rule:evenodd;stroke:#000000;stroke-width:2.0px;stroke-linecap:butt;stroke-linejoin:miter;stroke-opacity:1\"/>\n<path class=\"bond-4 atom-0 atom-5\" d=\"M 171.5,119.1 L 166.2,137.1\" style=\"fill:none;fill-rule:evenodd;stroke:#0000FF;stroke-width:2.0px;stroke-linecap:butt;stroke-linejoin:miter;stroke-opacity:1\"/>\n<path class=\"bond-4 atom-0 atom-5\" d=\"M 166.2,137.1 L 160.9,155.0\" style=\"fill:none;fill-rule:evenodd;stroke:#000000;stroke-width:2.0px;stroke-linecap:butt;stroke-linejoin:miter;stroke-opacity:1\"/>\n<path class=\"bond-5 atom-0 atom-6\" d=\"M 177.6,98.6 L 183.0,80.6\" style=\"fill:none;fill-rule:evenodd;stroke:#0000FF;stroke-width:2.0px;stroke-linecap:butt;stroke-linejoin:miter;stroke-opacity:1\"/>\n<path class=\"bond-5 atom-0 atom-6\" d=\"M 183.0,80.6 L 188.3,62.7\" style=\"fill:none;fill-rule:evenodd;stroke:#000000;stroke-width:2.0px;stroke-linecap:butt;stroke-linejoin:miter;stroke-opacity:1\"/>\n<path class=\"bond-6 atom-3 atom-7\" d=\"M 65.8,129.7 L 46.7,124.0\" style=\"fill:none;fill-rule:evenodd;stroke:#FF0000;stroke-width:2.0px;stroke-linecap:butt;stroke-linejoin:miter;stroke-opacity:1\"/>\n<path class=\"bond-6 atom-3 atom-7\" d=\"M 46.7,124.0 L 27.5,118.3\" style=\"fill:none;fill-rule:evenodd;stroke:#000000;stroke-width:2.0px;stroke-linecap:butt;stroke-linejoin:miter;stroke-opacity:1\"/>\n<path d=\"M 119.4,92.4 L 118.2,92.1 L 117.3,92.9\" style=\"fill:none;stroke:#000000;stroke-width:2.0px;stroke-linecap:butt;stroke-linejoin:miter;stroke-opacity:1;\"/>\n<path class=\"atom-0\" d=\"M 170.9 100.5 L 176.3 109.3 Q 176.9 110.2, 177.8 111.8 Q 178.6 113.4, 178.7 113.5 L 178.7 100.5 L 180.9 100.5 L 180.9 117.2 L 178.6 117.2 L 172.7 107.5 Q 172.1 106.4, 171.3 105.1 Q 170.6 103.8, 170.4 103.4 L 170.4 117.2 L 168.2 117.2 L 168.2 100.5 L 170.9 100.5 \" fill=\"#0000FF\"/>\n<path class=\"atom-0\" d=\"M 184.0 103.5 L 187.0 103.5 L 187.0 100.4 L 188.3 100.4 L 188.3 103.5 L 191.3 103.5 L 191.3 104.6 L 188.3 104.6 L 188.3 107.7 L 187.0 107.7 L 187.0 104.6 L 184.0 104.6 L 184.0 103.5 \" fill=\"#0000FF\"/>\n<path class=\"atom-2\" d=\"M 96.8 34.9 Q 96.8 30.9, 98.8 28.6 Q 100.8 26.4, 104.5 26.4 Q 108.2 26.4, 110.2 28.6 Q 112.1 30.9, 112.1 34.9 Q 112.1 38.9, 110.1 41.2 Q 108.1 43.5, 104.5 43.5 Q 100.8 43.5, 98.8 41.2 Q 96.8 39.0, 96.8 34.9 M 104.5 41.6 Q 107.0 41.6, 108.4 39.9 Q 109.8 38.2, 109.8 34.9 Q 109.8 31.6, 108.4 30.0 Q 107.0 28.3, 104.5 28.3 Q 101.9 28.3, 100.5 29.9 Q 99.2 31.6, 99.2 34.9 Q 99.2 38.3, 100.5 39.9 Q 101.9 41.6, 104.5 41.6 \" fill=\"#FF0000\"/>\n<path class=\"atom-3\" d=\"M 67.8 132.6 Q 67.8 128.6, 69.8 126.4 Q 71.7 124.1, 75.4 124.1 Q 79.1 124.1, 81.1 126.4 Q 83.1 128.6, 83.1 132.6 Q 83.1 136.6, 81.1 138.9 Q 79.1 141.2, 75.4 141.2 Q 71.8 141.2, 69.8 138.9 Q 67.8 136.7, 67.8 132.6 M 75.4 139.3 Q 78.0 139.3, 79.3 137.6 Q 80.7 135.9, 80.7 132.6 Q 80.7 129.3, 79.3 127.7 Q 78.0 126.0, 75.4 126.0 Q 72.9 126.0, 71.5 127.6 Q 70.1 129.3, 70.1 132.6 Q 70.1 136.0, 71.5 137.6 Q 72.9 139.3, 75.4 139.3 \" fill=\"#FF0000\"/>\n<path class=\"atom-4\" d=\"M 224.5 117.3 L 226.7 117.3 L 226.7 124.4 L 235.2 124.4 L 235.2 117.3 L 237.5 117.3 L 237.5 134.0 L 235.2 134.0 L 235.2 126.3 L 226.7 126.3 L 226.7 134.0 L 224.5 134.0 L 224.5 117.3 \" fill=\"#000000\"/>\n<path class=\"atom-5\" d=\"M 151.3 156.9 L 153.5 156.9 L 153.5 164.0 L 162.1 164.0 L 162.1 156.9 L 164.3 156.9 L 164.3 173.6 L 162.1 173.6 L 162.1 165.9 L 153.5 165.9 L 153.5 173.6 L 151.3 173.6 L 151.3 156.9 \" fill=\"#000000\"/>\n<path class=\"atom-6\" d=\"M 184.8 44.1 L 187.1 44.1 L 187.1 51.2 L 195.6 51.2 L 195.6 44.1 L 197.9 44.1 L 197.9 60.8 L 195.6 60.8 L 195.6 53.1 L 187.1 53.1 L 187.1 60.8 L 184.8 60.8 L 184.8 44.1 \" fill=\"#000000\"/>\n<path class=\"atom-7\" d=\"M 12.5 107.4 L 14.8 107.4 L 14.8 114.5 L 23.3 114.5 L 23.3 107.4 L 25.5 107.4 L 25.5 124.1 L 23.3 124.1 L 23.3 116.4 L 14.8 116.4 L 14.8 124.1 L 12.5 124.1 L 12.5 107.4 \" fill=\"#000000\"/>\n</svg>"
          },
          "metadata": {}
        },
        {
          "output_type": "stream",
          "name": "stdout",
          "text": [
            "This is Molecule 1\n"
          ]
        },
        {
          "output_type": "display_data",
          "data": {
            "text/plain": [
              "<IPython.core.display.SVG object>"
            ],
            "image/svg+xml": "<svg xmlns=\"http://www.w3.org/2000/svg\" xmlns:rdkit=\"http://www.rdkit.org/xml\" xmlns:xlink=\"http://www.w3.org/1999/xlink\" version=\"1.1\" baseProfile=\"full\" xml:space=\"preserve\" width=\"250px\" height=\"200px\" viewBox=\"0 0 250 200\">\n<!-- END OF HEADER -->\n<rect style=\"opacity:1.0;fill:#FFFFFF;stroke:none\" width=\"250.0\" height=\"200.0\" x=\"0.0\" y=\"0.0\"> </rect>\n<path class=\"bond-0 atom-0 atom-1\" d=\"M 134.4,100.0 L 100.5,100.0\" style=\"fill:none;fill-rule:evenodd;stroke:#0000FF;stroke-width:2.0px;stroke-linecap:butt;stroke-linejoin:miter;stroke-opacity:1\"/>\n<path class=\"bond-0 atom-0 atom-1\" d=\"M 100.5,100.0 L 66.6,100.0\" style=\"fill:none;fill-rule:evenodd;stroke:#000000;stroke-width:2.0px;stroke-linecap:butt;stroke-linejoin:miter;stroke-opacity:1\"/>\n<path class=\"bond-1 atom-1 atom-2\" d=\"M 73.5,100.0 L 57.0,71.5\" style=\"fill:none;fill-rule:evenodd;stroke:#000000;stroke-width:2.0px;stroke-linecap:butt;stroke-linejoin:miter;stroke-opacity:1\"/>\n<path class=\"bond-1 atom-1 atom-2\" d=\"M 57.0,71.5 L 40.6,43.0\" style=\"fill:none;fill-rule:evenodd;stroke:#FF0000;stroke-width:2.0px;stroke-linecap:butt;stroke-linejoin:miter;stroke-opacity:1\"/>\n<path class=\"bond-1 atom-1 atom-2\" d=\"M 63.2,105.9 L 46.8,77.4\" style=\"fill:none;fill-rule:evenodd;stroke:#000000;stroke-width:2.0px;stroke-linecap:butt;stroke-linejoin:miter;stroke-opacity:1\"/>\n<path class=\"bond-1 atom-1 atom-2\" d=\"M 46.8,77.4 L 30.3,48.9\" style=\"fill:none;fill-rule:evenodd;stroke:#FF0000;stroke-width:2.0px;stroke-linecap:butt;stroke-linejoin:miter;stroke-opacity:1\"/>\n<path class=\"bond-2 atom-1 atom-3\" d=\"M 66.6,100.0 L 50.9,127.2\" style=\"fill:none;fill-rule:evenodd;stroke:#000000;stroke-width:2.0px;stroke-linecap:butt;stroke-linejoin:miter;stroke-opacity:1\"/>\n<path class=\"bond-2 atom-1 atom-3\" d=\"M 50.9,127.2 L 35.2,154.4\" style=\"fill:none;fill-rule:evenodd;stroke:#FF0000;stroke-width:2.0px;stroke-linecap:butt;stroke-linejoin:miter;stroke-opacity:1\"/>\n<path class=\"bond-3 atom-0 atom-4\" d=\"M 170.5,100.0 L 191.7,100.0\" style=\"fill:none;fill-rule:evenodd;stroke:#0000FF;stroke-width:2.0px;stroke-linecap:butt;stroke-linejoin:miter;stroke-opacity:1\"/>\n<path class=\"bond-3 atom-0 atom-4\" d=\"M 191.7,100.0 L 213.0,100.0\" style=\"fill:none;fill-rule:evenodd;stroke:#000000;stroke-width:2.0px;stroke-linecap:butt;stroke-linejoin:miter;stroke-opacity:1\"/>\n<path class=\"bond-4 atom-0 atom-5\" d=\"M 145.5,113.8 L 145.5,139.4\" style=\"fill:none;fill-rule:evenodd;stroke:#0000FF;stroke-width:2.0px;stroke-linecap:butt;stroke-linejoin:miter;stroke-opacity:1\"/>\n<path class=\"bond-4 atom-0 atom-5\" d=\"M 145.5,139.4 L 145.5,165.1\" style=\"fill:none;fill-rule:evenodd;stroke:#000000;stroke-width:2.0px;stroke-linecap:butt;stroke-linejoin:miter;stroke-opacity:1\"/>\n<path class=\"bond-5 atom-0 atom-6\" d=\"M 145.5,86.2 L 145.5,60.6\" style=\"fill:none;fill-rule:evenodd;stroke:#0000FF;stroke-width:2.0px;stroke-linecap:butt;stroke-linejoin:miter;stroke-opacity:1\"/>\n<path class=\"bond-5 atom-0 atom-6\" d=\"M 145.5,60.6 L 145.5,34.9\" style=\"fill:none;fill-rule:evenodd;stroke:#000000;stroke-width:2.0px;stroke-linecap:butt;stroke-linejoin:miter;stroke-opacity:1\"/>\n<path d=\"M 68.3,100.0 L 66.6,100.0 L 65.8,101.4\" style=\"fill:none;stroke:#000000;stroke-width:2.0px;stroke-linecap:butt;stroke-linejoin:miter;stroke-opacity:1;\"/>\n<path class=\"atom-0\" d=\"M 140.5 88.8 L 147.8 100.7 Q 148.6 101.8, 149.7 103.9 Q 150.9 106.1, 151.0 106.2 L 151.0 88.8 L 153.9 88.8 L 153.9 111.2 L 150.9 111.2 L 143.0 98.2 Q 142.1 96.7, 141.1 95.0 Q 140.2 93.3, 139.9 92.7 L 139.9 111.2 L 137.0 111.2 L 137.0 88.8 L 140.5 88.8 \" fill=\"#0000FF\"/>\n<path class=\"atom-0\" d=\"M 158.1 92.9 L 162.1 92.9 L 162.1 88.7 L 163.8 88.7 L 163.8 92.9 L 167.9 92.9 L 167.9 94.4 L 163.8 94.4 L 163.8 98.5 L 162.1 98.5 L 162.1 94.4 L 158.1 94.4 L 158.1 92.9 \" fill=\"#0000FF\"/>\n<path class=\"atom-2\" d=\"M 17.0 31.8 Q 17.0 26.4, 19.6 23.4 Q 22.3 20.4, 27.2 20.4 Q 32.2 20.4, 34.8 23.4 Q 37.5 26.4, 37.5 31.8 Q 37.5 37.2, 34.8 40.3 Q 32.1 43.4, 27.2 43.4 Q 22.3 43.4, 19.6 40.3 Q 17.0 37.2, 17.0 31.8 M 27.2 40.8 Q 30.6 40.8, 32.4 38.6 Q 34.3 36.3, 34.3 31.8 Q 34.3 27.4, 32.4 25.2 Q 30.6 23.0, 27.2 23.0 Q 23.8 23.0, 21.9 25.2 Q 20.1 27.4, 20.1 31.8 Q 20.1 36.3, 21.9 38.6 Q 23.8 40.8, 27.2 40.8 \" fill=\"#FF0000\"/>\n<path class=\"atom-3\" d=\"M 17.0 168.3 Q 17.0 163.0, 19.6 160.0 Q 22.3 157.0, 27.2 157.0 Q 32.2 157.0, 34.8 160.0 Q 37.5 163.0, 37.5 168.3 Q 37.5 173.8, 34.8 176.9 Q 32.1 179.9, 27.2 179.9 Q 22.3 179.9, 19.6 176.9 Q 17.0 173.8, 17.0 168.3 M 27.2 177.4 Q 30.6 177.4, 32.4 175.1 Q 34.3 172.8, 34.3 168.3 Q 34.3 164.0, 32.4 161.7 Q 30.6 159.5, 27.2 159.5 Q 23.8 159.5, 21.9 161.7 Q 20.1 163.9, 20.1 168.3 Q 20.1 172.8, 21.9 175.1 Q 23.8 177.4, 27.2 177.4 \" fill=\"#FF0000\"/>\n<path class=\"atom-3\" d=\"M 40.6 160.6 L 48.3 160.6 L 48.3 162.3 L 40.6 162.3 L 40.6 160.6 \" fill=\"#FF0000\"/>\n<path class=\"atom-4\" d=\"M 215.6 88.8 L 218.6 88.8 L 218.6 98.3 L 230.0 98.3 L 230.0 88.8 L 233.0 88.8 L 233.0 111.2 L 230.0 111.2 L 230.0 100.9 L 218.6 100.9 L 218.6 111.2 L 215.6 111.2 L 215.6 88.8 \" fill=\"#000000\"/>\n<path class=\"atom-5\" d=\"M 136.7 167.7 L 139.8 167.7 L 139.8 177.2 L 151.2 177.2 L 151.2 167.7 L 154.2 167.7 L 154.2 190.0 L 151.2 190.0 L 151.2 179.7 L 139.8 179.7 L 139.8 190.0 L 136.7 190.0 L 136.7 167.7 \" fill=\"#000000\"/>\n<path class=\"atom-6\" d=\"M 136.7 10.0 L 139.8 10.0 L 139.8 19.5 L 151.2 19.5 L 151.2 10.0 L 154.2 10.0 L 154.2 32.3 L 151.2 32.3 L 151.2 22.0 L 139.8 22.0 L 139.8 32.3 L 136.7 32.3 L 136.7 10.0 \" fill=\"#000000\"/>\n</svg>"
          },
          "metadata": {}
        }
      ]
    },
    {
      "cell_type": "code",
      "source": [
        "from openff.interchange import Interchange"
      ],
      "metadata": {
        "id": "5-2RAwueN0DQ"
      },
      "execution_count": null,
      "outputs": []
    },
    {
      "cell_type": "code",
      "source": [
        "inter = Interchange.from_smirnoff(force_field=ff, topology=top)"
      ],
      "metadata": {
        "id": "jarT_qXWN76B"
      },
      "execution_count": null,
      "outputs": []
    },
    {
      "cell_type": "code",
      "source": [
        "inter.to_top(\"test.top\")"
      ],
      "metadata": {
        "id": "3lfNtlY_Oq6T"
      },
      "execution_count": null,
      "outputs": []
    },
    {
      "cell_type": "code",
      "source": [],
      "metadata": {
        "id": "61TBk7goN61o"
      },
      "execution_count": null,
      "outputs": []
    },
    {
      "cell_type": "code",
      "source": [],
      "metadata": {
        "id": "4PyU1Va5MXJK"
      },
      "execution_count": null,
      "outputs": []
    }
  ]
}